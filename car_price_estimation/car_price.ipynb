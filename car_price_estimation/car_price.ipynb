{
  "cells": [
    {
      "cell_type": "code",
      "execution_count": 1,
      "metadata": {
        "colab": {
          "base_uri": "https://localhost:8080/"
        },
        "id": "YhPeVRei-QFZ",
        "outputId": "fae41ba1-8697-48bf-f8e4-a103829b1870"
      },
      "outputs": [
        {
          "output_type": "stream",
          "name": "stdout",
          "text": [
            "\u001b[2K   \u001b[90m━━━━━━━━━━━━━━━━━━━━━━━━━━━━━━━━━━━━━━━━\u001b[0m \u001b[32m13.4/13.4 MB\u001b[0m \u001b[31m18.2 MB/s\u001b[0m eta \u001b[36m0:00:00\u001b[0m\n",
            "\u001b[?25h"
          ]
        }
      ],
      "source": [
        "!pip install -U scikit-learn -q"
      ]
    },
    {
      "cell_type": "code",
      "execution_count": 2,
      "metadata": {
        "scrolled": true,
        "colab": {
          "base_uri": "https://localhost:8080/"
        },
        "id": "xpFMQ-u2-QFZ",
        "outputId": "f4fa539a-41e8-457b-fe7a-f8fbb86f1609"
      },
      "outputs": [
        {
          "output_type": "stream",
          "name": "stdout",
          "text": [
            "\u001b[?25l   \u001b[90m━━━━━━━━━━━━━━━━━━━━━━━━━━━━━━━━━━━━━━━━\u001b[0m \u001b[32m0.0/686.1 kB\u001b[0m \u001b[31m?\u001b[0m eta \u001b[36m-:--:--\u001b[0m\r\u001b[2K   \u001b[91m━━━━━━━━\u001b[0m\u001b[91m╸\u001b[0m\u001b[90m━━━━━━━━━━━━━━━━━━━━━━━━━━━━━━━\u001b[0m \u001b[32m153.6/686.1 kB\u001b[0m \u001b[31m4.4 MB/s\u001b[0m eta \u001b[36m0:00:01\u001b[0m\r\u001b[2K   \u001b[91m━━━━━━━━━━━━━━━━━━━━━━━━━━━━━━━━━━━━━━━\u001b[0m\u001b[91m╸\u001b[0m \u001b[32m686.1/686.1 kB\u001b[0m \u001b[31m10.5 MB/s\u001b[0m eta \u001b[36m0:00:01\u001b[0m\r\u001b[2K   \u001b[90m━━━━━━━━━━━━━━━━━━━━━━━━━━━━━━━━━━━━━━━━\u001b[0m \u001b[32m686.1/686.1 kB\u001b[0m \u001b[31m7.6 MB/s\u001b[0m eta \u001b[36m0:00:00\u001b[0m\n",
            "\u001b[?25h"
          ]
        }
      ],
      "source": [
        "pip install phik lightgbm -q"
      ]
    },
    {
      "cell_type": "markdown",
      "metadata": {
        "id": "6poiQE98-QFa"
      },
      "source": [
        "# Определение стоимости автомобилей"
      ]
    },
    {
      "cell_type": "markdown",
      "metadata": {
        "id": "_QiGPTob-QFa"
      },
      "source": [
        "Сервис по продаже автомобилей с пробегом «Не бит, не крашен» разрабатывает приложение для привлечения новых клиентов. В нём можно быстро узнать рыночную стоимость своего автомобиля. В вашем распоряжении исторические данные: технические характеристики, комплектации и цены автомобилей.\n",
        "\n",
        "**Цель работы:** построить модель для определения стоимости.\n",
        "\n",
        "Заказчику важны:\n",
        "\n",
        "- качество предсказания;\n",
        "- скорость предсказания;\n",
        "- время обучения."
      ]
    },
    {
      "cell_type": "markdown",
      "metadata": {
        "id": "jkdSaNy8-QFa"
      },
      "source": [
        "**План работы:**\n",
        "- [X]  Загрузить данные\n",
        "- [X]  Выполнить предобработку данных\n",
        "- [X]  Выполнить подготовку данных для обучения моделей\n",
        "- [X]  Обучить разные модели, одна из которых — LightGBM, как минимум одна — не бустинг\n",
        "- [X]  Проанализировать время обучения, время предсказания и качество моделей\n",
        "- [X]  Опираясь на критерии заказчика, выбрать лучшую модель, проверить её качество на тестовой выборке\n",
        "- [X]  Сделать общий вывод"
      ]
    },
    {
      "cell_type": "markdown",
      "metadata": {
        "id": "6laGlEhC-QFa"
      },
      "source": [
        "## Загрузка данных данных"
      ]
    },
    {
      "cell_type": "code",
      "execution_count": 3,
      "metadata": {
        "colab": {
          "base_uri": "https://localhost:8080/"
        },
        "id": "BQGcTf-s-QFa",
        "outputId": "416ddda0-7897-46ef-8231-1cd7d782f903"
      },
      "outputs": [
        {
          "output_type": "stream",
          "name": "stderr",
          "text": [
            "/usr/local/lib/python3.10/dist-packages/dask/dataframe/__init__.py:42: FutureWarning: \n",
            "Dask dataframe query planning is disabled because dask-expr is not installed.\n",
            "\n",
            "You can install it with `pip install dask[dataframe]` or `conda install dask`.\n",
            "This will raise in a future version.\n",
            "\n",
            "  warnings.warn(msg, FutureWarning)\n"
          ]
        }
      ],
      "source": [
        "import lightgbm as lgb\n",
        "import pandas as pd\n",
        "import numpy as np\n",
        "import seaborn as sns\n",
        "import matplotlib.pyplot as plt\n",
        "import phik\n",
        "import os\n",
        "\n",
        "from time import time\n",
        "from sklearn.model_selection import train_test_split, GridSearchCV\n",
        "from sklearn.preprocessing import OneHotEncoder, StandardScaler\n",
        "from sklearn.linear_model import Ridge\n",
        "from sklearn.tree import DecisionTreeRegressor\n",
        "from sklearn.metrics import mean_squared_error\n",
        "from sklearn.dummy import DummyRegressor"
      ]
    },
    {
      "cell_type": "code",
      "execution_count": 6,
      "metadata": {
        "id": "YYkGso55-QFb"
      },
      "outputs": [],
      "source": [
        "way = '/content/autos.csv'\n",
        "\n",
        "if os.path.exists(way):\n",
        "    df = pd.read_csv(way)\n",
        "else:\n",
        "    print('Something is wrong')"
      ]
    },
    {
      "cell_type": "code",
      "execution_count": 7,
      "metadata": {
        "scrolled": true,
        "colab": {
          "base_uri": "https://localhost:8080/",
          "height": 1000
        },
        "id": "k1LI5RcW-QFb",
        "outputId": "e03db251-631e-4323-e554-c55722c1e24e"
      },
      "outputs": [
        {
          "output_type": "stream",
          "name": "stdout",
          "text": [
            "<class 'pandas.core.frame.DataFrame'>\n",
            "RangeIndex: 354369 entries, 0 to 354368\n",
            "Data columns (total 16 columns):\n",
            " #   Column             Non-Null Count   Dtype \n",
            "---  ------             --------------   ----- \n",
            " 0   DateCrawled        354369 non-null  object\n",
            " 1   Price              354369 non-null  int64 \n",
            " 2   VehicleType        316879 non-null  object\n",
            " 3   RegistrationYear   354369 non-null  int64 \n",
            " 4   Gearbox            334536 non-null  object\n",
            " 5   Power              354369 non-null  int64 \n",
            " 6   Model              334664 non-null  object\n",
            " 7   Kilometer          354369 non-null  int64 \n",
            " 8   RegistrationMonth  354369 non-null  int64 \n",
            " 9   FuelType           321474 non-null  object\n",
            " 10  Brand              354369 non-null  object\n",
            " 11  Repaired           283215 non-null  object\n",
            " 12  DateCreated        354369 non-null  object\n",
            " 13  NumberOfPictures   354369 non-null  int64 \n",
            " 14  PostalCode         354369 non-null  int64 \n",
            " 15  LastSeen           354369 non-null  object\n",
            "dtypes: int64(7), object(9)\n",
            "memory usage: 43.3+ MB\n",
            "None\n"
          ]
        },
        {
          "output_type": "execute_result",
          "data": {
            "text/plain": [
              "           DateCrawled  Price  VehicleType  RegistrationYear Gearbox  Power  \\\n",
              "0  2016-03-24 11:52:17    480          NaN              1993  manual      0   \n",
              "1  2016-03-24 10:58:45  18300        coupe              2011  manual    190   \n",
              "2  2016-03-14 12:52:21   9800          suv              2004    auto    163   \n",
              "3  2016-03-17 16:54:04   1500        small              2001  manual     75   \n",
              "4  2016-03-31 17:25:20   3600        small              2008  manual     69   \n",
              "5  2016-04-04 17:36:23    650        sedan              1995  manual    102   \n",
              "6  2016-04-01 20:48:51   2200  convertible              2004  manual    109   \n",
              "7  2016-03-21 18:54:38      0        sedan              1980  manual     50   \n",
              "8  2016-04-04 23:42:13  14500          bus              2014  manual    125   \n",
              "9  2016-03-17 10:53:50    999        small              1998  manual    101   \n",
              "\n",
              "     Model  Kilometer  RegistrationMonth  FuelType       Brand Repaired  \\\n",
              "0     golf     150000                  0    petrol  volkswagen      NaN   \n",
              "1      NaN     125000                  5  gasoline        audi      yes   \n",
              "2    grand     125000                  8  gasoline        jeep      NaN   \n",
              "3     golf     150000                  6    petrol  volkswagen       no   \n",
              "4    fabia      90000                  7  gasoline       skoda       no   \n",
              "5      3er     150000                 10    petrol         bmw      yes   \n",
              "6  2_reihe     150000                  8    petrol     peugeot       no   \n",
              "7    other      40000                  7    petrol  volkswagen       no   \n",
              "8    c_max      30000                  8    petrol        ford      NaN   \n",
              "9     golf     150000                  0       NaN  volkswagen      NaN   \n",
              "\n",
              "           DateCreated  NumberOfPictures  PostalCode             LastSeen  \n",
              "0  2016-03-24 00:00:00                 0       70435  2016-04-07 03:16:57  \n",
              "1  2016-03-24 00:00:00                 0       66954  2016-04-07 01:46:50  \n",
              "2  2016-03-14 00:00:00                 0       90480  2016-04-05 12:47:46  \n",
              "3  2016-03-17 00:00:00                 0       91074  2016-03-17 17:40:17  \n",
              "4  2016-03-31 00:00:00                 0       60437  2016-04-06 10:17:21  \n",
              "5  2016-04-04 00:00:00                 0       33775  2016-04-06 19:17:07  \n",
              "6  2016-04-01 00:00:00                 0       67112  2016-04-05 18:18:39  \n",
              "7  2016-03-21 00:00:00                 0       19348  2016-03-25 16:47:58  \n",
              "8  2016-04-04 00:00:00                 0       94505  2016-04-04 23:42:13  \n",
              "9  2016-03-17 00:00:00                 0       27472  2016-03-31 17:17:06  "
            ],
            "text/html": [
              "\n",
              "  <div id=\"df-2f08c8a6-97b4-477f-a67f-33eacb152742\" class=\"colab-df-container\">\n",
              "    <div>\n",
              "<style scoped>\n",
              "    .dataframe tbody tr th:only-of-type {\n",
              "        vertical-align: middle;\n",
              "    }\n",
              "\n",
              "    .dataframe tbody tr th {\n",
              "        vertical-align: top;\n",
              "    }\n",
              "\n",
              "    .dataframe thead th {\n",
              "        text-align: right;\n",
              "    }\n",
              "</style>\n",
              "<table border=\"1\" class=\"dataframe\">\n",
              "  <thead>\n",
              "    <tr style=\"text-align: right;\">\n",
              "      <th></th>\n",
              "      <th>DateCrawled</th>\n",
              "      <th>Price</th>\n",
              "      <th>VehicleType</th>\n",
              "      <th>RegistrationYear</th>\n",
              "      <th>Gearbox</th>\n",
              "      <th>Power</th>\n",
              "      <th>Model</th>\n",
              "      <th>Kilometer</th>\n",
              "      <th>RegistrationMonth</th>\n",
              "      <th>FuelType</th>\n",
              "      <th>Brand</th>\n",
              "      <th>Repaired</th>\n",
              "      <th>DateCreated</th>\n",
              "      <th>NumberOfPictures</th>\n",
              "      <th>PostalCode</th>\n",
              "      <th>LastSeen</th>\n",
              "    </tr>\n",
              "  </thead>\n",
              "  <tbody>\n",
              "    <tr>\n",
              "      <th>0</th>\n",
              "      <td>2016-03-24 11:52:17</td>\n",
              "      <td>480</td>\n",
              "      <td>NaN</td>\n",
              "      <td>1993</td>\n",
              "      <td>manual</td>\n",
              "      <td>0</td>\n",
              "      <td>golf</td>\n",
              "      <td>150000</td>\n",
              "      <td>0</td>\n",
              "      <td>petrol</td>\n",
              "      <td>volkswagen</td>\n",
              "      <td>NaN</td>\n",
              "      <td>2016-03-24 00:00:00</td>\n",
              "      <td>0</td>\n",
              "      <td>70435</td>\n",
              "      <td>2016-04-07 03:16:57</td>\n",
              "    </tr>\n",
              "    <tr>\n",
              "      <th>1</th>\n",
              "      <td>2016-03-24 10:58:45</td>\n",
              "      <td>18300</td>\n",
              "      <td>coupe</td>\n",
              "      <td>2011</td>\n",
              "      <td>manual</td>\n",
              "      <td>190</td>\n",
              "      <td>NaN</td>\n",
              "      <td>125000</td>\n",
              "      <td>5</td>\n",
              "      <td>gasoline</td>\n",
              "      <td>audi</td>\n",
              "      <td>yes</td>\n",
              "      <td>2016-03-24 00:00:00</td>\n",
              "      <td>0</td>\n",
              "      <td>66954</td>\n",
              "      <td>2016-04-07 01:46:50</td>\n",
              "    </tr>\n",
              "    <tr>\n",
              "      <th>2</th>\n",
              "      <td>2016-03-14 12:52:21</td>\n",
              "      <td>9800</td>\n",
              "      <td>suv</td>\n",
              "      <td>2004</td>\n",
              "      <td>auto</td>\n",
              "      <td>163</td>\n",
              "      <td>grand</td>\n",
              "      <td>125000</td>\n",
              "      <td>8</td>\n",
              "      <td>gasoline</td>\n",
              "      <td>jeep</td>\n",
              "      <td>NaN</td>\n",
              "      <td>2016-03-14 00:00:00</td>\n",
              "      <td>0</td>\n",
              "      <td>90480</td>\n",
              "      <td>2016-04-05 12:47:46</td>\n",
              "    </tr>\n",
              "    <tr>\n",
              "      <th>3</th>\n",
              "      <td>2016-03-17 16:54:04</td>\n",
              "      <td>1500</td>\n",
              "      <td>small</td>\n",
              "      <td>2001</td>\n",
              "      <td>manual</td>\n",
              "      <td>75</td>\n",
              "      <td>golf</td>\n",
              "      <td>150000</td>\n",
              "      <td>6</td>\n",
              "      <td>petrol</td>\n",
              "      <td>volkswagen</td>\n",
              "      <td>no</td>\n",
              "      <td>2016-03-17 00:00:00</td>\n",
              "      <td>0</td>\n",
              "      <td>91074</td>\n",
              "      <td>2016-03-17 17:40:17</td>\n",
              "    </tr>\n",
              "    <tr>\n",
              "      <th>4</th>\n",
              "      <td>2016-03-31 17:25:20</td>\n",
              "      <td>3600</td>\n",
              "      <td>small</td>\n",
              "      <td>2008</td>\n",
              "      <td>manual</td>\n",
              "      <td>69</td>\n",
              "      <td>fabia</td>\n",
              "      <td>90000</td>\n",
              "      <td>7</td>\n",
              "      <td>gasoline</td>\n",
              "      <td>skoda</td>\n",
              "      <td>no</td>\n",
              "      <td>2016-03-31 00:00:00</td>\n",
              "      <td>0</td>\n",
              "      <td>60437</td>\n",
              "      <td>2016-04-06 10:17:21</td>\n",
              "    </tr>\n",
              "    <tr>\n",
              "      <th>5</th>\n",
              "      <td>2016-04-04 17:36:23</td>\n",
              "      <td>650</td>\n",
              "      <td>sedan</td>\n",
              "      <td>1995</td>\n",
              "      <td>manual</td>\n",
              "      <td>102</td>\n",
              "      <td>3er</td>\n",
              "      <td>150000</td>\n",
              "      <td>10</td>\n",
              "      <td>petrol</td>\n",
              "      <td>bmw</td>\n",
              "      <td>yes</td>\n",
              "      <td>2016-04-04 00:00:00</td>\n",
              "      <td>0</td>\n",
              "      <td>33775</td>\n",
              "      <td>2016-04-06 19:17:07</td>\n",
              "    </tr>\n",
              "    <tr>\n",
              "      <th>6</th>\n",
              "      <td>2016-04-01 20:48:51</td>\n",
              "      <td>2200</td>\n",
              "      <td>convertible</td>\n",
              "      <td>2004</td>\n",
              "      <td>manual</td>\n",
              "      <td>109</td>\n",
              "      <td>2_reihe</td>\n",
              "      <td>150000</td>\n",
              "      <td>8</td>\n",
              "      <td>petrol</td>\n",
              "      <td>peugeot</td>\n",
              "      <td>no</td>\n",
              "      <td>2016-04-01 00:00:00</td>\n",
              "      <td>0</td>\n",
              "      <td>67112</td>\n",
              "      <td>2016-04-05 18:18:39</td>\n",
              "    </tr>\n",
              "    <tr>\n",
              "      <th>7</th>\n",
              "      <td>2016-03-21 18:54:38</td>\n",
              "      <td>0</td>\n",
              "      <td>sedan</td>\n",
              "      <td>1980</td>\n",
              "      <td>manual</td>\n",
              "      <td>50</td>\n",
              "      <td>other</td>\n",
              "      <td>40000</td>\n",
              "      <td>7</td>\n",
              "      <td>petrol</td>\n",
              "      <td>volkswagen</td>\n",
              "      <td>no</td>\n",
              "      <td>2016-03-21 00:00:00</td>\n",
              "      <td>0</td>\n",
              "      <td>19348</td>\n",
              "      <td>2016-03-25 16:47:58</td>\n",
              "    </tr>\n",
              "    <tr>\n",
              "      <th>8</th>\n",
              "      <td>2016-04-04 23:42:13</td>\n",
              "      <td>14500</td>\n",
              "      <td>bus</td>\n",
              "      <td>2014</td>\n",
              "      <td>manual</td>\n",
              "      <td>125</td>\n",
              "      <td>c_max</td>\n",
              "      <td>30000</td>\n",
              "      <td>8</td>\n",
              "      <td>petrol</td>\n",
              "      <td>ford</td>\n",
              "      <td>NaN</td>\n",
              "      <td>2016-04-04 00:00:00</td>\n",
              "      <td>0</td>\n",
              "      <td>94505</td>\n",
              "      <td>2016-04-04 23:42:13</td>\n",
              "    </tr>\n",
              "    <tr>\n",
              "      <th>9</th>\n",
              "      <td>2016-03-17 10:53:50</td>\n",
              "      <td>999</td>\n",
              "      <td>small</td>\n",
              "      <td>1998</td>\n",
              "      <td>manual</td>\n",
              "      <td>101</td>\n",
              "      <td>golf</td>\n",
              "      <td>150000</td>\n",
              "      <td>0</td>\n",
              "      <td>NaN</td>\n",
              "      <td>volkswagen</td>\n",
              "      <td>NaN</td>\n",
              "      <td>2016-03-17 00:00:00</td>\n",
              "      <td>0</td>\n",
              "      <td>27472</td>\n",
              "      <td>2016-03-31 17:17:06</td>\n",
              "    </tr>\n",
              "  </tbody>\n",
              "</table>\n",
              "</div>\n",
              "    <div class=\"colab-df-buttons\">\n",
              "\n",
              "  <div class=\"colab-df-container\">\n",
              "    <button class=\"colab-df-convert\" onclick=\"convertToInteractive('df-2f08c8a6-97b4-477f-a67f-33eacb152742')\"\n",
              "            title=\"Convert this dataframe to an interactive table.\"\n",
              "            style=\"display:none;\">\n",
              "\n",
              "  <svg xmlns=\"http://www.w3.org/2000/svg\" height=\"24px\" viewBox=\"0 -960 960 960\">\n",
              "    <path d=\"M120-120v-720h720v720H120Zm60-500h600v-160H180v160Zm220 220h160v-160H400v160Zm0 220h160v-160H400v160ZM180-400h160v-160H180v160Zm440 0h160v-160H620v160ZM180-180h160v-160H180v160Zm440 0h160v-160H620v160Z\"/>\n",
              "  </svg>\n",
              "    </button>\n",
              "\n",
              "  <style>\n",
              "    .colab-df-container {\n",
              "      display:flex;\n",
              "      gap: 12px;\n",
              "    }\n",
              "\n",
              "    .colab-df-convert {\n",
              "      background-color: #E8F0FE;\n",
              "      border: none;\n",
              "      border-radius: 50%;\n",
              "      cursor: pointer;\n",
              "      display: none;\n",
              "      fill: #1967D2;\n",
              "      height: 32px;\n",
              "      padding: 0 0 0 0;\n",
              "      width: 32px;\n",
              "    }\n",
              "\n",
              "    .colab-df-convert:hover {\n",
              "      background-color: #E2EBFA;\n",
              "      box-shadow: 0px 1px 2px rgba(60, 64, 67, 0.3), 0px 1px 3px 1px rgba(60, 64, 67, 0.15);\n",
              "      fill: #174EA6;\n",
              "    }\n",
              "\n",
              "    .colab-df-buttons div {\n",
              "      margin-bottom: 4px;\n",
              "    }\n",
              "\n",
              "    [theme=dark] .colab-df-convert {\n",
              "      background-color: #3B4455;\n",
              "      fill: #D2E3FC;\n",
              "    }\n",
              "\n",
              "    [theme=dark] .colab-df-convert:hover {\n",
              "      background-color: #434B5C;\n",
              "      box-shadow: 0px 1px 3px 1px rgba(0, 0, 0, 0.15);\n",
              "      filter: drop-shadow(0px 1px 2px rgba(0, 0, 0, 0.3));\n",
              "      fill: #FFFFFF;\n",
              "    }\n",
              "  </style>\n",
              "\n",
              "    <script>\n",
              "      const buttonEl =\n",
              "        document.querySelector('#df-2f08c8a6-97b4-477f-a67f-33eacb152742 button.colab-df-convert');\n",
              "      buttonEl.style.display =\n",
              "        google.colab.kernel.accessAllowed ? 'block' : 'none';\n",
              "\n",
              "      async function convertToInteractive(key) {\n",
              "        const element = document.querySelector('#df-2f08c8a6-97b4-477f-a67f-33eacb152742');\n",
              "        const dataTable =\n",
              "          await google.colab.kernel.invokeFunction('convertToInteractive',\n",
              "                                                    [key], {});\n",
              "        if (!dataTable) return;\n",
              "\n",
              "        const docLinkHtml = 'Like what you see? Visit the ' +\n",
              "          '<a target=\"_blank\" href=https://colab.research.google.com/notebooks/data_table.ipynb>data table notebook</a>'\n",
              "          + ' to learn more about interactive tables.';\n",
              "        element.innerHTML = '';\n",
              "        dataTable['output_type'] = 'display_data';\n",
              "        await google.colab.output.renderOutput(dataTable, element);\n",
              "        const docLink = document.createElement('div');\n",
              "        docLink.innerHTML = docLinkHtml;\n",
              "        element.appendChild(docLink);\n",
              "      }\n",
              "    </script>\n",
              "  </div>\n",
              "\n",
              "\n",
              "<div id=\"df-e80e6c5a-ccdd-45c4-9572-f4e01342d3d7\">\n",
              "  <button class=\"colab-df-quickchart\" onclick=\"quickchart('df-e80e6c5a-ccdd-45c4-9572-f4e01342d3d7')\"\n",
              "            title=\"Suggest charts\"\n",
              "            style=\"display:none;\">\n",
              "\n",
              "<svg xmlns=\"http://www.w3.org/2000/svg\" height=\"24px\"viewBox=\"0 0 24 24\"\n",
              "     width=\"24px\">\n",
              "    <g>\n",
              "        <path d=\"M19 3H5c-1.1 0-2 .9-2 2v14c0 1.1.9 2 2 2h14c1.1 0 2-.9 2-2V5c0-1.1-.9-2-2-2zM9 17H7v-7h2v7zm4 0h-2V7h2v10zm4 0h-2v-4h2v4z\"/>\n",
              "    </g>\n",
              "</svg>\n",
              "  </button>\n",
              "\n",
              "<style>\n",
              "  .colab-df-quickchart {\n",
              "      --bg-color: #E8F0FE;\n",
              "      --fill-color: #1967D2;\n",
              "      --hover-bg-color: #E2EBFA;\n",
              "      --hover-fill-color: #174EA6;\n",
              "      --disabled-fill-color: #AAA;\n",
              "      --disabled-bg-color: #DDD;\n",
              "  }\n",
              "\n",
              "  [theme=dark] .colab-df-quickchart {\n",
              "      --bg-color: #3B4455;\n",
              "      --fill-color: #D2E3FC;\n",
              "      --hover-bg-color: #434B5C;\n",
              "      --hover-fill-color: #FFFFFF;\n",
              "      --disabled-bg-color: #3B4455;\n",
              "      --disabled-fill-color: #666;\n",
              "  }\n",
              "\n",
              "  .colab-df-quickchart {\n",
              "    background-color: var(--bg-color);\n",
              "    border: none;\n",
              "    border-radius: 50%;\n",
              "    cursor: pointer;\n",
              "    display: none;\n",
              "    fill: var(--fill-color);\n",
              "    height: 32px;\n",
              "    padding: 0;\n",
              "    width: 32px;\n",
              "  }\n",
              "\n",
              "  .colab-df-quickchart:hover {\n",
              "    background-color: var(--hover-bg-color);\n",
              "    box-shadow: 0 1px 2px rgba(60, 64, 67, 0.3), 0 1px 3px 1px rgba(60, 64, 67, 0.15);\n",
              "    fill: var(--button-hover-fill-color);\n",
              "  }\n",
              "\n",
              "  .colab-df-quickchart-complete:disabled,\n",
              "  .colab-df-quickchart-complete:disabled:hover {\n",
              "    background-color: var(--disabled-bg-color);\n",
              "    fill: var(--disabled-fill-color);\n",
              "    box-shadow: none;\n",
              "  }\n",
              "\n",
              "  .colab-df-spinner {\n",
              "    border: 2px solid var(--fill-color);\n",
              "    border-color: transparent;\n",
              "    border-bottom-color: var(--fill-color);\n",
              "    animation:\n",
              "      spin 1s steps(1) infinite;\n",
              "  }\n",
              "\n",
              "  @keyframes spin {\n",
              "    0% {\n",
              "      border-color: transparent;\n",
              "      border-bottom-color: var(--fill-color);\n",
              "      border-left-color: var(--fill-color);\n",
              "    }\n",
              "    20% {\n",
              "      border-color: transparent;\n",
              "      border-left-color: var(--fill-color);\n",
              "      border-top-color: var(--fill-color);\n",
              "    }\n",
              "    30% {\n",
              "      border-color: transparent;\n",
              "      border-left-color: var(--fill-color);\n",
              "      border-top-color: var(--fill-color);\n",
              "      border-right-color: var(--fill-color);\n",
              "    }\n",
              "    40% {\n",
              "      border-color: transparent;\n",
              "      border-right-color: var(--fill-color);\n",
              "      border-top-color: var(--fill-color);\n",
              "    }\n",
              "    60% {\n",
              "      border-color: transparent;\n",
              "      border-right-color: var(--fill-color);\n",
              "    }\n",
              "    80% {\n",
              "      border-color: transparent;\n",
              "      border-right-color: var(--fill-color);\n",
              "      border-bottom-color: var(--fill-color);\n",
              "    }\n",
              "    90% {\n",
              "      border-color: transparent;\n",
              "      border-bottom-color: var(--fill-color);\n",
              "    }\n",
              "  }\n",
              "</style>\n",
              "\n",
              "  <script>\n",
              "    async function quickchart(key) {\n",
              "      const quickchartButtonEl =\n",
              "        document.querySelector('#' + key + ' button');\n",
              "      quickchartButtonEl.disabled = true;  // To prevent multiple clicks.\n",
              "      quickchartButtonEl.classList.add('colab-df-spinner');\n",
              "      try {\n",
              "        const charts = await google.colab.kernel.invokeFunction(\n",
              "            'suggestCharts', [key], {});\n",
              "      } catch (error) {\n",
              "        console.error('Error during call to suggestCharts:', error);\n",
              "      }\n",
              "      quickchartButtonEl.classList.remove('colab-df-spinner');\n",
              "      quickchartButtonEl.classList.add('colab-df-quickchart-complete');\n",
              "    }\n",
              "    (() => {\n",
              "      let quickchartButtonEl =\n",
              "        document.querySelector('#df-e80e6c5a-ccdd-45c4-9572-f4e01342d3d7 button');\n",
              "      quickchartButtonEl.style.display =\n",
              "        google.colab.kernel.accessAllowed ? 'block' : 'none';\n",
              "    })();\n",
              "  </script>\n",
              "</div>\n",
              "    </div>\n",
              "  </div>\n"
            ],
            "application/vnd.google.colaboratory.intrinsic+json": {
              "type": "dataframe",
              "variable_name": "df"
            }
          },
          "metadata": {},
          "execution_count": 7
        }
      ],
      "source": [
        "print(df.info())\n",
        "df.head(10)"
      ]
    },
    {
      "cell_type": "markdown",
      "metadata": {
        "id": "WbyfP0_o-QFb"
      },
      "source": [
        "**Вывод по первому шагу:** загрузили данные об автомобилях.\n",
        "\n",
        "Представленный датафрейм состоит из 354369 строк и 16 столбцов, 7 из которых имеют тип int64, 9 - object. Сразу в глаза бросаются пропуски в колонках `VehicleType`, `Gearbox`, `Model`, `FuelType`, `Repaired`. Далее перейдем к поиску дубликатов, заполнению пропусков, поиску и устранению аномалий в данных."
      ]
    },
    {
      "cell_type": "markdown",
      "metadata": {
        "id": "3aElKzs1-QFb"
      },
      "source": [
        "## Предобработка данных"
      ]
    },
    {
      "cell_type": "markdown",
      "metadata": {
        "id": "q5CtjW4n-QFb"
      },
      "source": [
        "Оптимизируем размер датафрейма, изменив разрядность `int` с 64 до 32."
      ]
    },
    {
      "cell_type": "code",
      "execution_count": 8,
      "metadata": {
        "id": "ayi8pQxB-QFc"
      },
      "outputs": [],
      "source": [
        "for column in df.columns:\n",
        "    if df[column].dtype == 'int64':\n",
        "        df[column] = df[column].astype('int32')"
      ]
    },
    {
      "cell_type": "code",
      "execution_count": 9,
      "metadata": {
        "colab": {
          "base_uri": "https://localhost:8080/"
        },
        "id": "SK7cGa64-QFc",
        "outputId": "4c3eec8c-b6c6-4cdb-f25c-010b644f97dc"
      },
      "outputs": [
        {
          "output_type": "execute_result",
          "data": {
            "text/plain": [
              "35.437028"
            ]
          },
          "metadata": {},
          "execution_count": 9
        }
      ],
      "source": [
        "df.memory_usage(index=True).sum() / 1000000"
      ]
    },
    {
      "cell_type": "markdown",
      "metadata": {
        "id": "SIigUV4q-QFc"
      },
      "source": [
        "Данный шаг позволил уменьшить размер датафрейма примерно на 8 МБ."
      ]
    },
    {
      "cell_type": "markdown",
      "metadata": {
        "id": "OHmrcGZA-QFc"
      },
      "source": [
        "Проанализируем пропуски."
      ]
    },
    {
      "cell_type": "code",
      "execution_count": 10,
      "metadata": {
        "scrolled": true,
        "colab": {
          "base_uri": "https://localhost:8080/",
          "height": 551
        },
        "id": "MPQigVqL-QFc",
        "outputId": "999860d4-5ab5-4c5f-f73c-e3c144d9274a"
      },
      "outputs": [
        {
          "output_type": "execute_result",
          "data": {
            "text/plain": [
              "<pandas.io.formats.style.Styler at 0x7af75dab2200>"
            ],
            "text/html": [
              "<style type=\"text/css\">\n",
              "#T_e8cf7_row0_col0, #T_e8cf7_row1_col0, #T_e8cf7_row3_col0, #T_e8cf7_row5_col0, #T_e8cf7_row7_col0, #T_e8cf7_row8_col0, #T_e8cf7_row10_col0, #T_e8cf7_row12_col0, #T_e8cf7_row13_col0, #T_e8cf7_row14_col0, #T_e8cf7_row15_col0 {\n",
              "  background-color: #fff5f0;\n",
              "  color: #000000;\n",
              "}\n",
              "#T_e8cf7_row2_col0 {\n",
              "  background-color: #f96044;\n",
              "  color: #f1f1f1;\n",
              "}\n",
              "#T_e8cf7_row4_col0 {\n",
              "  background-color: #fcb296;\n",
              "  color: #000000;\n",
              "}\n",
              "#T_e8cf7_row6_col0 {\n",
              "  background-color: #fcb398;\n",
              "  color: #000000;\n",
              "}\n",
              "#T_e8cf7_row9_col0 {\n",
              "  background-color: #fb7656;\n",
              "  color: #f1f1f1;\n",
              "}\n",
              "#T_e8cf7_row11_col0 {\n",
              "  background-color: #67000d;\n",
              "  color: #f1f1f1;\n",
              "}\n",
              "</style>\n",
              "<table id=\"T_e8cf7\" class=\"dataframe\">\n",
              "  <thead>\n",
              "    <tr>\n",
              "      <th class=\"blank level0\" >&nbsp;</th>\n",
              "      <th id=\"T_e8cf7_level0_col0\" class=\"col_heading level0 col0\" >0</th>\n",
              "    </tr>\n",
              "  </thead>\n",
              "  <tbody>\n",
              "    <tr>\n",
              "      <th id=\"T_e8cf7_level0_row0\" class=\"row_heading level0 row0\" >DateCrawled</th>\n",
              "      <td id=\"T_e8cf7_row0_col0\" class=\"data row0 col0\" >0</td>\n",
              "    </tr>\n",
              "    <tr>\n",
              "      <th id=\"T_e8cf7_level0_row1\" class=\"row_heading level0 row1\" >Price</th>\n",
              "      <td id=\"T_e8cf7_row1_col0\" class=\"data row1 col0\" >0</td>\n",
              "    </tr>\n",
              "    <tr>\n",
              "      <th id=\"T_e8cf7_level0_row2\" class=\"row_heading level0 row2\" >VehicleType</th>\n",
              "      <td id=\"T_e8cf7_row2_col0\" class=\"data row2 col0\" >37490</td>\n",
              "    </tr>\n",
              "    <tr>\n",
              "      <th id=\"T_e8cf7_level0_row3\" class=\"row_heading level0 row3\" >RegistrationYear</th>\n",
              "      <td id=\"T_e8cf7_row3_col0\" class=\"data row3 col0\" >0</td>\n",
              "    </tr>\n",
              "    <tr>\n",
              "      <th id=\"T_e8cf7_level0_row4\" class=\"row_heading level0 row4\" >Gearbox</th>\n",
              "      <td id=\"T_e8cf7_row4_col0\" class=\"data row4 col0\" >19833</td>\n",
              "    </tr>\n",
              "    <tr>\n",
              "      <th id=\"T_e8cf7_level0_row5\" class=\"row_heading level0 row5\" >Power</th>\n",
              "      <td id=\"T_e8cf7_row5_col0\" class=\"data row5 col0\" >0</td>\n",
              "    </tr>\n",
              "    <tr>\n",
              "      <th id=\"T_e8cf7_level0_row6\" class=\"row_heading level0 row6\" >Model</th>\n",
              "      <td id=\"T_e8cf7_row6_col0\" class=\"data row6 col0\" >19705</td>\n",
              "    </tr>\n",
              "    <tr>\n",
              "      <th id=\"T_e8cf7_level0_row7\" class=\"row_heading level0 row7\" >Kilometer</th>\n",
              "      <td id=\"T_e8cf7_row7_col0\" class=\"data row7 col0\" >0</td>\n",
              "    </tr>\n",
              "    <tr>\n",
              "      <th id=\"T_e8cf7_level0_row8\" class=\"row_heading level0 row8\" >RegistrationMonth</th>\n",
              "      <td id=\"T_e8cf7_row8_col0\" class=\"data row8 col0\" >0</td>\n",
              "    </tr>\n",
              "    <tr>\n",
              "      <th id=\"T_e8cf7_level0_row9\" class=\"row_heading level0 row9\" >FuelType</th>\n",
              "      <td id=\"T_e8cf7_row9_col0\" class=\"data row9 col0\" >32895</td>\n",
              "    </tr>\n",
              "    <tr>\n",
              "      <th id=\"T_e8cf7_level0_row10\" class=\"row_heading level0 row10\" >Brand</th>\n",
              "      <td id=\"T_e8cf7_row10_col0\" class=\"data row10 col0\" >0</td>\n",
              "    </tr>\n",
              "    <tr>\n",
              "      <th id=\"T_e8cf7_level0_row11\" class=\"row_heading level0 row11\" >Repaired</th>\n",
              "      <td id=\"T_e8cf7_row11_col0\" class=\"data row11 col0\" >71154</td>\n",
              "    </tr>\n",
              "    <tr>\n",
              "      <th id=\"T_e8cf7_level0_row12\" class=\"row_heading level0 row12\" >DateCreated</th>\n",
              "      <td id=\"T_e8cf7_row12_col0\" class=\"data row12 col0\" >0</td>\n",
              "    </tr>\n",
              "    <tr>\n",
              "      <th id=\"T_e8cf7_level0_row13\" class=\"row_heading level0 row13\" >NumberOfPictures</th>\n",
              "      <td id=\"T_e8cf7_row13_col0\" class=\"data row13 col0\" >0</td>\n",
              "    </tr>\n",
              "    <tr>\n",
              "      <th id=\"T_e8cf7_level0_row14\" class=\"row_heading level0 row14\" >PostalCode</th>\n",
              "      <td id=\"T_e8cf7_row14_col0\" class=\"data row14 col0\" >0</td>\n",
              "    </tr>\n",
              "    <tr>\n",
              "      <th id=\"T_e8cf7_level0_row15\" class=\"row_heading level0 row15\" >LastSeen</th>\n",
              "      <td id=\"T_e8cf7_row15_col0\" class=\"data row15 col0\" >0</td>\n",
              "    </tr>\n",
              "  </tbody>\n",
              "</table>\n"
            ]
          },
          "metadata": {},
          "execution_count": 10
        }
      ],
      "source": [
        "df.isna().sum().to_frame().style.background_gradient('Reds')"
      ]
    },
    {
      "cell_type": "markdown",
      "metadata": {
        "id": "G0gjqwPb-QFc"
      },
      "source": [
        "В некоторых столбцах имеется большое количество пропусков. Удаление строк с ними может отразиться на итоговом результате, поэтому выполним заполнение пропусков."
      ]
    },
    {
      "cell_type": "markdown",
      "metadata": {
        "id": "ikw7H_nW-QFc"
      },
      "source": [
        "Пропуски в колонках `VehicleType`, `Gearbox`, `Model`, `FuelType`, `Repaired` заполним наиболее часто встречающимися значениями."
      ]
    },
    {
      "cell_type": "code",
      "execution_count": 11,
      "metadata": {
        "id": "f2PkULg0-QFc"
      },
      "outputs": [],
      "source": [
        "vehicle_mode = df['VehicleType'].mode().item()\n",
        "df['VehicleType'] =df['VehicleType'].fillna(vehicle_mode)\n",
        "\n",
        "gear_mode = df['Gearbox'].mode().item()\n",
        "df['Gearbox'] =df['Gearbox'].fillna(gear_mode)\n",
        "\n",
        "model_mode = df['Model'].mode().item()\n",
        "df['Model'] =df['Model'].fillna(model_mode)\n",
        "\n",
        "fuel_mode = df['FuelType'].mode().item()\n",
        "df['FuelType'] =df['FuelType'].fillna(fuel_mode)\n",
        "\n",
        "repaired_mode = df['Repaired'].mode().item()\n",
        "df['Repaired'] =df['Repaired'].fillna(repaired_mode)"
      ]
    },
    {
      "cell_type": "code",
      "execution_count": 12,
      "metadata": {
        "scrolled": true,
        "colab": {
          "base_uri": "https://localhost:8080/"
        },
        "id": "sO3WM5Ms-QFc",
        "outputId": "e48439e2-e775-4ba8-ecf1-5f8ff7755f43"
      },
      "outputs": [
        {
          "output_type": "stream",
          "name": "stdout",
          "text": [
            "<class 'pandas.core.frame.DataFrame'>\n",
            "RangeIndex: 354369 entries, 0 to 354368\n",
            "Data columns (total 16 columns):\n",
            " #   Column             Non-Null Count   Dtype \n",
            "---  ------             --------------   ----- \n",
            " 0   DateCrawled        354369 non-null  object\n",
            " 1   Price              354369 non-null  int32 \n",
            " 2   VehicleType        354369 non-null  object\n",
            " 3   RegistrationYear   354369 non-null  int32 \n",
            " 4   Gearbox            354369 non-null  object\n",
            " 5   Power              354369 non-null  int32 \n",
            " 6   Model              354369 non-null  object\n",
            " 7   Kilometer          354369 non-null  int32 \n",
            " 8   RegistrationMonth  354369 non-null  int32 \n",
            " 9   FuelType           354369 non-null  object\n",
            " 10  Brand              354369 non-null  object\n",
            " 11  Repaired           354369 non-null  object\n",
            " 12  DateCreated        354369 non-null  object\n",
            " 13  NumberOfPictures   354369 non-null  int32 \n",
            " 14  PostalCode         354369 non-null  int32 \n",
            " 15  LastSeen           354369 non-null  object\n",
            "dtypes: int32(7), object(9)\n",
            "memory usage: 33.8+ MB\n"
          ]
        }
      ],
      "source": [
        "df.info()"
      ]
    },
    {
      "cell_type": "markdown",
      "metadata": {
        "id": "2F_XHUw4-QFd"
      },
      "source": [
        "Проверим данные на наличие явных дубликатов."
      ]
    },
    {
      "cell_type": "code",
      "execution_count": 13,
      "metadata": {
        "colab": {
          "base_uri": "https://localhost:8080/"
        },
        "id": "MvZoHOaz-QFd",
        "outputId": "da38bf1c-176d-4abc-9d25-5b2183931e16"
      },
      "outputs": [
        {
          "output_type": "execute_result",
          "data": {
            "text/plain": [
              "5"
            ]
          },
          "metadata": {},
          "execution_count": 13
        }
      ],
      "source": [
        "df.duplicated().sum()"
      ]
    },
    {
      "cell_type": "markdown",
      "metadata": {
        "id": "pytMjQU8-QFd"
      },
      "source": [
        "Обнаружили 5 дубликатов, избавимся от них."
      ]
    },
    {
      "cell_type": "code",
      "execution_count": 14,
      "metadata": {
        "id": "Fe0Ok8EA-QFd"
      },
      "outputs": [],
      "source": [
        "df = df.drop_duplicates()"
      ]
    },
    {
      "cell_type": "markdown",
      "metadata": {
        "id": "zyfvIQfF-QFg"
      },
      "source": [
        "Рассмотрим числовые признаки на предмет аномалий."
      ]
    },
    {
      "cell_type": "code",
      "execution_count": 15,
      "metadata": {
        "scrolled": true,
        "colab": {
          "base_uri": "https://localhost:8080/",
          "height": 300
        },
        "id": "8r8XyvDx-QFh",
        "outputId": "a49d2733-5ff0-4b08-f872-a7d18af59c30"
      },
      "outputs": [
        {
          "output_type": "execute_result",
          "data": {
            "text/plain": [
              "               Price  RegistrationYear          Power      Kilometer  \\\n",
              "count  354364.000000     354364.000000  354364.000000  354364.000000   \n",
              "mean     4416.655608       2004.234471     110.093723  128211.373051   \n",
              "std      4514.159690         90.228593     189.851590   37905.136957   \n",
              "min         0.000000       1000.000000       0.000000    5000.000000   \n",
              "25%      1050.000000       1999.000000      69.000000  125000.000000   \n",
              "50%      2700.000000       2003.000000     105.000000  150000.000000   \n",
              "75%      6400.000000       2008.000000     143.000000  150000.000000   \n",
              "max     20000.000000       9999.000000   20000.000000  150000.000000   \n",
              "\n",
              "       RegistrationMonth  NumberOfPictures     PostalCode  \n",
              "count      354364.000000          354364.0  354364.000000  \n",
              "mean            5.714641               0.0   50508.461698  \n",
              "std             3.726433               0.0   25783.124276  \n",
              "min             0.000000               0.0    1067.000000  \n",
              "25%             3.000000               0.0   30165.000000  \n",
              "50%             6.000000               0.0   49409.500000  \n",
              "75%             9.000000               0.0   71083.000000  \n",
              "max            12.000000               0.0   99998.000000  "
            ],
            "text/html": [
              "\n",
              "  <div id=\"df-688f8a29-4448-4c5e-9327-561630dd71ad\" class=\"colab-df-container\">\n",
              "    <div>\n",
              "<style scoped>\n",
              "    .dataframe tbody tr th:only-of-type {\n",
              "        vertical-align: middle;\n",
              "    }\n",
              "\n",
              "    .dataframe tbody tr th {\n",
              "        vertical-align: top;\n",
              "    }\n",
              "\n",
              "    .dataframe thead th {\n",
              "        text-align: right;\n",
              "    }\n",
              "</style>\n",
              "<table border=\"1\" class=\"dataframe\">\n",
              "  <thead>\n",
              "    <tr style=\"text-align: right;\">\n",
              "      <th></th>\n",
              "      <th>Price</th>\n",
              "      <th>RegistrationYear</th>\n",
              "      <th>Power</th>\n",
              "      <th>Kilometer</th>\n",
              "      <th>RegistrationMonth</th>\n",
              "      <th>NumberOfPictures</th>\n",
              "      <th>PostalCode</th>\n",
              "    </tr>\n",
              "  </thead>\n",
              "  <tbody>\n",
              "    <tr>\n",
              "      <th>count</th>\n",
              "      <td>354364.000000</td>\n",
              "      <td>354364.000000</td>\n",
              "      <td>354364.000000</td>\n",
              "      <td>354364.000000</td>\n",
              "      <td>354364.000000</td>\n",
              "      <td>354364.0</td>\n",
              "      <td>354364.000000</td>\n",
              "    </tr>\n",
              "    <tr>\n",
              "      <th>mean</th>\n",
              "      <td>4416.655608</td>\n",
              "      <td>2004.234471</td>\n",
              "      <td>110.093723</td>\n",
              "      <td>128211.373051</td>\n",
              "      <td>5.714641</td>\n",
              "      <td>0.0</td>\n",
              "      <td>50508.461698</td>\n",
              "    </tr>\n",
              "    <tr>\n",
              "      <th>std</th>\n",
              "      <td>4514.159690</td>\n",
              "      <td>90.228593</td>\n",
              "      <td>189.851590</td>\n",
              "      <td>37905.136957</td>\n",
              "      <td>3.726433</td>\n",
              "      <td>0.0</td>\n",
              "      <td>25783.124276</td>\n",
              "    </tr>\n",
              "    <tr>\n",
              "      <th>min</th>\n",
              "      <td>0.000000</td>\n",
              "      <td>1000.000000</td>\n",
              "      <td>0.000000</td>\n",
              "      <td>5000.000000</td>\n",
              "      <td>0.000000</td>\n",
              "      <td>0.0</td>\n",
              "      <td>1067.000000</td>\n",
              "    </tr>\n",
              "    <tr>\n",
              "      <th>25%</th>\n",
              "      <td>1050.000000</td>\n",
              "      <td>1999.000000</td>\n",
              "      <td>69.000000</td>\n",
              "      <td>125000.000000</td>\n",
              "      <td>3.000000</td>\n",
              "      <td>0.0</td>\n",
              "      <td>30165.000000</td>\n",
              "    </tr>\n",
              "    <tr>\n",
              "      <th>50%</th>\n",
              "      <td>2700.000000</td>\n",
              "      <td>2003.000000</td>\n",
              "      <td>105.000000</td>\n",
              "      <td>150000.000000</td>\n",
              "      <td>6.000000</td>\n",
              "      <td>0.0</td>\n",
              "      <td>49409.500000</td>\n",
              "    </tr>\n",
              "    <tr>\n",
              "      <th>75%</th>\n",
              "      <td>6400.000000</td>\n",
              "      <td>2008.000000</td>\n",
              "      <td>143.000000</td>\n",
              "      <td>150000.000000</td>\n",
              "      <td>9.000000</td>\n",
              "      <td>0.0</td>\n",
              "      <td>71083.000000</td>\n",
              "    </tr>\n",
              "    <tr>\n",
              "      <th>max</th>\n",
              "      <td>20000.000000</td>\n",
              "      <td>9999.000000</td>\n",
              "      <td>20000.000000</td>\n",
              "      <td>150000.000000</td>\n",
              "      <td>12.000000</td>\n",
              "      <td>0.0</td>\n",
              "      <td>99998.000000</td>\n",
              "    </tr>\n",
              "  </tbody>\n",
              "</table>\n",
              "</div>\n",
              "    <div class=\"colab-df-buttons\">\n",
              "\n",
              "  <div class=\"colab-df-container\">\n",
              "    <button class=\"colab-df-convert\" onclick=\"convertToInteractive('df-688f8a29-4448-4c5e-9327-561630dd71ad')\"\n",
              "            title=\"Convert this dataframe to an interactive table.\"\n",
              "            style=\"display:none;\">\n",
              "\n",
              "  <svg xmlns=\"http://www.w3.org/2000/svg\" height=\"24px\" viewBox=\"0 -960 960 960\">\n",
              "    <path d=\"M120-120v-720h720v720H120Zm60-500h600v-160H180v160Zm220 220h160v-160H400v160Zm0 220h160v-160H400v160ZM180-400h160v-160H180v160Zm440 0h160v-160H620v160ZM180-180h160v-160H180v160Zm440 0h160v-160H620v160Z\"/>\n",
              "  </svg>\n",
              "    </button>\n",
              "\n",
              "  <style>\n",
              "    .colab-df-container {\n",
              "      display:flex;\n",
              "      gap: 12px;\n",
              "    }\n",
              "\n",
              "    .colab-df-convert {\n",
              "      background-color: #E8F0FE;\n",
              "      border: none;\n",
              "      border-radius: 50%;\n",
              "      cursor: pointer;\n",
              "      display: none;\n",
              "      fill: #1967D2;\n",
              "      height: 32px;\n",
              "      padding: 0 0 0 0;\n",
              "      width: 32px;\n",
              "    }\n",
              "\n",
              "    .colab-df-convert:hover {\n",
              "      background-color: #E2EBFA;\n",
              "      box-shadow: 0px 1px 2px rgba(60, 64, 67, 0.3), 0px 1px 3px 1px rgba(60, 64, 67, 0.15);\n",
              "      fill: #174EA6;\n",
              "    }\n",
              "\n",
              "    .colab-df-buttons div {\n",
              "      margin-bottom: 4px;\n",
              "    }\n",
              "\n",
              "    [theme=dark] .colab-df-convert {\n",
              "      background-color: #3B4455;\n",
              "      fill: #D2E3FC;\n",
              "    }\n",
              "\n",
              "    [theme=dark] .colab-df-convert:hover {\n",
              "      background-color: #434B5C;\n",
              "      box-shadow: 0px 1px 3px 1px rgba(0, 0, 0, 0.15);\n",
              "      filter: drop-shadow(0px 1px 2px rgba(0, 0, 0, 0.3));\n",
              "      fill: #FFFFFF;\n",
              "    }\n",
              "  </style>\n",
              "\n",
              "    <script>\n",
              "      const buttonEl =\n",
              "        document.querySelector('#df-688f8a29-4448-4c5e-9327-561630dd71ad button.colab-df-convert');\n",
              "      buttonEl.style.display =\n",
              "        google.colab.kernel.accessAllowed ? 'block' : 'none';\n",
              "\n",
              "      async function convertToInteractive(key) {\n",
              "        const element = document.querySelector('#df-688f8a29-4448-4c5e-9327-561630dd71ad');\n",
              "        const dataTable =\n",
              "          await google.colab.kernel.invokeFunction('convertToInteractive',\n",
              "                                                    [key], {});\n",
              "        if (!dataTable) return;\n",
              "\n",
              "        const docLinkHtml = 'Like what you see? Visit the ' +\n",
              "          '<a target=\"_blank\" href=https://colab.research.google.com/notebooks/data_table.ipynb>data table notebook</a>'\n",
              "          + ' to learn more about interactive tables.';\n",
              "        element.innerHTML = '';\n",
              "        dataTable['output_type'] = 'display_data';\n",
              "        await google.colab.output.renderOutput(dataTable, element);\n",
              "        const docLink = document.createElement('div');\n",
              "        docLink.innerHTML = docLinkHtml;\n",
              "        element.appendChild(docLink);\n",
              "      }\n",
              "    </script>\n",
              "  </div>\n",
              "\n",
              "\n",
              "<div id=\"df-5dcfb7b5-d293-4550-9a15-08b5f0e190d8\">\n",
              "  <button class=\"colab-df-quickchart\" onclick=\"quickchart('df-5dcfb7b5-d293-4550-9a15-08b5f0e190d8')\"\n",
              "            title=\"Suggest charts\"\n",
              "            style=\"display:none;\">\n",
              "\n",
              "<svg xmlns=\"http://www.w3.org/2000/svg\" height=\"24px\"viewBox=\"0 0 24 24\"\n",
              "     width=\"24px\">\n",
              "    <g>\n",
              "        <path d=\"M19 3H5c-1.1 0-2 .9-2 2v14c0 1.1.9 2 2 2h14c1.1 0 2-.9 2-2V5c0-1.1-.9-2-2-2zM9 17H7v-7h2v7zm4 0h-2V7h2v10zm4 0h-2v-4h2v4z\"/>\n",
              "    </g>\n",
              "</svg>\n",
              "  </button>\n",
              "\n",
              "<style>\n",
              "  .colab-df-quickchart {\n",
              "      --bg-color: #E8F0FE;\n",
              "      --fill-color: #1967D2;\n",
              "      --hover-bg-color: #E2EBFA;\n",
              "      --hover-fill-color: #174EA6;\n",
              "      --disabled-fill-color: #AAA;\n",
              "      --disabled-bg-color: #DDD;\n",
              "  }\n",
              "\n",
              "  [theme=dark] .colab-df-quickchart {\n",
              "      --bg-color: #3B4455;\n",
              "      --fill-color: #D2E3FC;\n",
              "      --hover-bg-color: #434B5C;\n",
              "      --hover-fill-color: #FFFFFF;\n",
              "      --disabled-bg-color: #3B4455;\n",
              "      --disabled-fill-color: #666;\n",
              "  }\n",
              "\n",
              "  .colab-df-quickchart {\n",
              "    background-color: var(--bg-color);\n",
              "    border: none;\n",
              "    border-radius: 50%;\n",
              "    cursor: pointer;\n",
              "    display: none;\n",
              "    fill: var(--fill-color);\n",
              "    height: 32px;\n",
              "    padding: 0;\n",
              "    width: 32px;\n",
              "  }\n",
              "\n",
              "  .colab-df-quickchart:hover {\n",
              "    background-color: var(--hover-bg-color);\n",
              "    box-shadow: 0 1px 2px rgba(60, 64, 67, 0.3), 0 1px 3px 1px rgba(60, 64, 67, 0.15);\n",
              "    fill: var(--button-hover-fill-color);\n",
              "  }\n",
              "\n",
              "  .colab-df-quickchart-complete:disabled,\n",
              "  .colab-df-quickchart-complete:disabled:hover {\n",
              "    background-color: var(--disabled-bg-color);\n",
              "    fill: var(--disabled-fill-color);\n",
              "    box-shadow: none;\n",
              "  }\n",
              "\n",
              "  .colab-df-spinner {\n",
              "    border: 2px solid var(--fill-color);\n",
              "    border-color: transparent;\n",
              "    border-bottom-color: var(--fill-color);\n",
              "    animation:\n",
              "      spin 1s steps(1) infinite;\n",
              "  }\n",
              "\n",
              "  @keyframes spin {\n",
              "    0% {\n",
              "      border-color: transparent;\n",
              "      border-bottom-color: var(--fill-color);\n",
              "      border-left-color: var(--fill-color);\n",
              "    }\n",
              "    20% {\n",
              "      border-color: transparent;\n",
              "      border-left-color: var(--fill-color);\n",
              "      border-top-color: var(--fill-color);\n",
              "    }\n",
              "    30% {\n",
              "      border-color: transparent;\n",
              "      border-left-color: var(--fill-color);\n",
              "      border-top-color: var(--fill-color);\n",
              "      border-right-color: var(--fill-color);\n",
              "    }\n",
              "    40% {\n",
              "      border-color: transparent;\n",
              "      border-right-color: var(--fill-color);\n",
              "      border-top-color: var(--fill-color);\n",
              "    }\n",
              "    60% {\n",
              "      border-color: transparent;\n",
              "      border-right-color: var(--fill-color);\n",
              "    }\n",
              "    80% {\n",
              "      border-color: transparent;\n",
              "      border-right-color: var(--fill-color);\n",
              "      border-bottom-color: var(--fill-color);\n",
              "    }\n",
              "    90% {\n",
              "      border-color: transparent;\n",
              "      border-bottom-color: var(--fill-color);\n",
              "    }\n",
              "  }\n",
              "</style>\n",
              "\n",
              "  <script>\n",
              "    async function quickchart(key) {\n",
              "      const quickchartButtonEl =\n",
              "        document.querySelector('#' + key + ' button');\n",
              "      quickchartButtonEl.disabled = true;  // To prevent multiple clicks.\n",
              "      quickchartButtonEl.classList.add('colab-df-spinner');\n",
              "      try {\n",
              "        const charts = await google.colab.kernel.invokeFunction(\n",
              "            'suggestCharts', [key], {});\n",
              "      } catch (error) {\n",
              "        console.error('Error during call to suggestCharts:', error);\n",
              "      }\n",
              "      quickchartButtonEl.classList.remove('colab-df-spinner');\n",
              "      quickchartButtonEl.classList.add('colab-df-quickchart-complete');\n",
              "    }\n",
              "    (() => {\n",
              "      let quickchartButtonEl =\n",
              "        document.querySelector('#df-5dcfb7b5-d293-4550-9a15-08b5f0e190d8 button');\n",
              "      quickchartButtonEl.style.display =\n",
              "        google.colab.kernel.accessAllowed ? 'block' : 'none';\n",
              "    })();\n",
              "  </script>\n",
              "</div>\n",
              "    </div>\n",
              "  </div>\n"
            ],
            "application/vnd.google.colaboratory.intrinsic+json": {
              "type": "dataframe",
              "summary": "{\n  \"name\": \"df\",\n  \"rows\": 8,\n  \"fields\": [\n    {\n      \"column\": \"Price\",\n      \"properties\": {\n        \"dtype\": \"number\",\n        \"std\": 123469.61953960962,\n        \"min\": 0.0,\n        \"max\": 354364.0,\n        \"num_unique_values\": 8,\n        \"samples\": [\n          4416.655608357508,\n          2700.0,\n          354364.0\n        ],\n        \"semantic_type\": \"\",\n        \"description\": \"\"\n      }\n    },\n    {\n      \"column\": \"RegistrationYear\",\n      \"properties\": {\n        \"dtype\": \"number\",\n        \"std\": 124359.01163397661,\n        \"min\": 90.22859348340758,\n        \"max\": 354364.0,\n        \"num_unique_values\": 8,\n        \"samples\": [\n          2004.2344707701686,\n          2003.0,\n          354364.0\n        ],\n        \"semantic_type\": \"\",\n        \"description\": \"\"\n      }\n    },\n    {\n      \"column\": \"Power\",\n      \"properties\": {\n        \"dtype\": \"number\",\n        \"std\": 124440.2267451997,\n        \"min\": 0.0,\n        \"max\": 354364.0,\n        \"num_unique_values\": 8,\n        \"samples\": [\n          110.09372283866307,\n          105.0,\n          354364.0\n        ],\n        \"semantic_type\": \"\",\n        \"description\": \"\"\n      }\n    },\n    {\n      \"column\": \"Kilometer\",\n      \"properties\": {\n        \"dtype\": \"number\",\n        \"std\": 103659.21568147205,\n        \"min\": 5000.0,\n        \"max\": 354364.0,\n        \"num_unique_values\": 6,\n        \"samples\": [\n          354364.0,\n          128211.37305143864,\n          150000.0\n        ],\n        \"semantic_type\": \"\",\n        \"description\": \"\"\n      }\n    },\n    {\n      \"column\": \"RegistrationMonth\",\n      \"properties\": {\n        \"dtype\": \"number\",\n        \"std\": 125284.6016828861,\n        \"min\": 0.0,\n        \"max\": 354364.0,\n        \"num_unique_values\": 8,\n        \"samples\": [\n          5.714640877741531,\n          6.0,\n          354364.0\n        ],\n        \"semantic_type\": \"\",\n        \"description\": \"\"\n      }\n    },\n    {\n      \"column\": \"NumberOfPictures\",\n      \"properties\": {\n        \"dtype\": \"number\",\n        \"std\": 125286.59370419486,\n        \"min\": 0.0,\n        \"max\": 354364.0,\n        \"num_unique_values\": 2,\n        \"samples\": [\n          0.0,\n          354364.0\n        ],\n        \"semantic_type\": \"\",\n        \"description\": \"\"\n      }\n    },\n    {\n      \"column\": \"PostalCode\",\n      \"properties\": {\n        \"dtype\": \"number\",\n        \"std\": 112750.98635399176,\n        \"min\": 1067.0,\n        \"max\": 354364.0,\n        \"num_unique_values\": 8,\n        \"samples\": [\n          50508.4616975765,\n          49409.5\n        ],\n        \"semantic_type\": \"\",\n        \"description\": \"\"\n      }\n    }\n  ]\n}"
            }
          },
          "metadata": {},
          "execution_count": 15
        }
      ],
      "source": [
        "df.describe()"
      ]
    },
    {
      "cell_type": "code",
      "execution_count": 16,
      "metadata": {
        "colab": {
          "base_uri": "https://localhost:8080/",
          "height": 660
        },
        "id": "Ka28wXdQ-QFh",
        "outputId": "8237c36d-bcfd-4465-9f7e-3d4e405dd4a8"
      },
      "outputs": [
        {
          "output_type": "display_data",
          "data": {
            "text/plain": [
              "<Figure size 1800x700 with 7 Axes>"
            ],
            "image/png": "[encoded data removed]"
          },
          "metadata": {}
        }
      ],
      "source": [
        "num_cols = df.select_dtypes(include='int32').columns.tolist()\n",
        "fig, axs = plt.subplots(1, 7)\n",
        "ax = axs.ravel()\n",
        "plt.figure\n",
        "fig.suptitle('Распределение числовых признаков', fontsize=15)\n",
        "fig.set_size_inches(18, 7)\n",
        "for i, num in enumerate(num_cols):\n",
        "    ax[i].boxplot(df[num])\n",
        "    ax[i].set_title(num)\n",
        "plt.show()"
      ]
    },
    {
      "cell_type": "markdown",
      "metadata": {
        "id": "R9zELEPi-QFh"
      },
      "source": [
        "Избавимся от данных с годом регистрации больше, чем *максимальный год выгрузки данных из базы* и меньше 1900, мощностью более 1600 л.с.(т.к. это максимальная, зафиксированная на данный момент) и менее 10 л.с.(автомобили мощностью чуть больше 10 л.с. всё же существуют), пробегом менее 90000 км.\n",
        "\n",
        "Столбец с количеством фотографий является неинформативным, избавимся от него полностью. Возможно, произошла ошибка при сборе данных. Столбцы с почтовым кодом и месяцем постановки автомобиля на учёт не должны влиять на ценообразование, так же исключим их."
      ]
    },
    {
      "cell_type": "code",
      "execution_count": 17,
      "metadata": {
        "id": "cyGre6R7-QFh"
      },
      "outputs": [],
      "source": [
        "# Найдем максимальный год выгрузки данных из базы\n",
        "max_year = pd.DatetimeIndex(df['DateCrawled']).year.max()"
      ]
    },
    {
      "cell_type": "code",
      "execution_count": 18,
      "metadata": {
        "id": "BLASvMUm-QFh"
      },
      "outputs": [],
      "source": [
        "df = df.query('(RegistrationYear < @max_year) & (RegistrationYear > 1900) & (Power <= 1600) & (Power > 10) & (Price > 1000)')"
      ]
    },
    {
      "cell_type": "code",
      "execution_count": 19,
      "metadata": {
        "id": "d1OmXTLa-QFi"
      },
      "outputs": [],
      "source": [
        "df = df.drop(['NumberOfPictures', 'RegistrationMonth', 'PostalCode'], axis=1)"
      ]
    },
    {
      "cell_type": "markdown",
      "metadata": {
        "id": "OBE9YHQg-QFi"
      },
      "source": [
        "**Вывод по второму шагу:** уменьшили датафрейм на 8 Мб путем изменения разрядности данных типа `int`. Обнаружили пропуски в колонках `VehicleType`, `Gearbox`, `Model`, `FuelType`, `Repaired`, избавились от них, заполнив наиболее часто встречающимися значениями. После убрали найденные явные дубликаты. Далее провели анализ на предмет аномалий и выбросов и сотавили значения, удовлетворяющие условиям: год регистрации в границах 1900 - 2016, мощность от 10 л.с. до 1600 л.с.(т.к. это максимальная, зафиксированная на данный момент), цена более 1000 евро. Столбцы с количеством фотографий, месяцем постановки на учет, почтовым кодом являются неинформативными, избавились от них."
      ]
    },
    {
      "cell_type": "markdown",
      "metadata": {
        "id": "hPsx-Vvs-QFi"
      },
      "source": [
        "## Подготовка данных для обучения моделей"
      ]
    },
    {
      "cell_type": "code",
      "execution_count": 20,
      "metadata": {
        "scrolled": true,
        "colab": {
          "base_uri": "https://localhost:8080/",
          "height": 178
        },
        "id": "0g0cyhBJ-QFi",
        "outputId": "de32ecd7-b0d4-4647-adb8-81412541bdc2"
      },
      "outputs": [
        {
          "output_type": "execute_result",
          "data": {
            "text/plain": [
              "DateCrawled    196471\n",
              "LastSeen       124399\n",
              "DateCreated       103\n",
              "dtype: int64"
            ],
            "text/html": [
              "<div>\n",
              "<style scoped>\n",
              "    .dataframe tbody tr th:only-of-type {\n",
              "        vertical-align: middle;\n",
              "    }\n",
              "\n",
              "    .dataframe tbody tr th {\n",
              "        vertical-align: top;\n",
              "    }\n",
              "\n",
              "    .dataframe thead th {\n",
              "        text-align: right;\n",
              "    }\n",
              "</style>\n",
              "<table border=\"1\" class=\"dataframe\">\n",
              "  <thead>\n",
              "    <tr style=\"text-align: right;\">\n",
              "      <th></th>\n",
              "      <th>0</th>\n",
              "    </tr>\n",
              "  </thead>\n",
              "  <tbody>\n",
              "    <tr>\n",
              "      <th>DateCrawled</th>\n",
              "      <td>196471</td>\n",
              "    </tr>\n",
              "    <tr>\n",
              "      <th>LastSeen</th>\n",
              "      <td>124399</td>\n",
              "    </tr>\n",
              "    <tr>\n",
              "      <th>DateCreated</th>\n",
              "      <td>103</td>\n",
              "    </tr>\n",
              "  </tbody>\n",
              "</table>\n",
              "</div><br><label><b>dtype:</b> int64</label>"
            ]
          },
          "metadata": {},
          "execution_count": 20
        }
      ],
      "source": [
        "df[['DateCrawled', 'LastSeen', 'DateCreated']].nunique()"
      ]
    },
    {
      "cell_type": "markdown",
      "metadata": {
        "id": "oL_6oOjr-QFj"
      },
      "source": [
        "Столбцы `DateCrawled`, `LastSeen` имеют большое количество уникальных значений, что сильно усложнит обучение. При этом они, очевидно, не окажут большого влияние при подсчете целевого признака, как и `DateCreated`. Исключим их."
      ]
    },
    {
      "cell_type": "code",
      "execution_count": 21,
      "metadata": {
        "id": "5ob3q_SQ-QFj"
      },
      "outputs": [],
      "source": [
        "df = df.drop(['DateCrawled', 'LastSeen', 'DateCreated'], axis=1)"
      ]
    },
    {
      "cell_type": "markdown",
      "metadata": {
        "id": "5-_psz8d-QFj"
      },
      "source": [
        "Посмотрим, как признаки коррелируют между собой."
      ]
    },
    {
      "cell_type": "code",
      "execution_count": 22,
      "metadata": {
        "colab": {
          "base_uri": "https://localhost:8080/",
          "height": 721
        },
        "id": "aT1SWv57-QFj",
        "outputId": "8f953459-6c66-4dcd-96b9-bd17f55e63d0"
      },
      "outputs": [
        {
          "output_type": "display_data",
          "data": {
            "text/plain": [
              "<Figure size 1200x700 with 2 Axes>"
            ],
            "image/png": "[encoded data removed]"
          },
          "metadata": {}
        }
      ],
      "source": [
        "phik_overview = df.phik_matrix(interval_cols=['Price', 'Power'])\n",
        "plt.figure(figsize=(12, 7))\n",
        "corr_matrix = phik_overview\n",
        "corr_matrix = np.round(corr_matrix, 2)\n",
        "sns.heatmap(corr_matrix, annot=True, linewidth= 0.3, cmap='coolwarm', center=0)\n",
        "plt.title('Матрица взаимозависимостей')\n",
        "plt.show()"
      ]
    },
    {
      "cell_type": "markdown",
      "metadata": {
        "id": "PygjUFVC-QFk"
      },
      "source": [
        "Столбец `Model` имеет высокую степень корреляции со столбцами `VehicleType` и `Brand`, что похоже на мультиколлениарность. Но т.к. мультиколлинеарность не страшна для нелинейных моделей, которые составляют основу нашего исследования, удалять данный признак не будем."
      ]
    },
    {
      "cell_type": "code",
      "execution_count": 23,
      "metadata": {
        "scrolled": true,
        "colab": {
          "base_uri": "https://localhost:8080/"
        },
        "id": "FJdCUl0J-QFk",
        "outputId": "dcdd9a60-27fa-4d4c-e5bb-432f87f7ef0d"
      },
      "outputs": [
        {
          "output_type": "stream",
          "name": "stdout",
          "text": [
            "<class 'pandas.core.frame.DataFrame'>\n",
            "Index: 234483 entries, 1 to 354368\n",
            "Data columns (total 10 columns):\n",
            " #   Column            Non-Null Count   Dtype \n",
            "---  ------            --------------   ----- \n",
            " 0   Price             234483 non-null  int32 \n",
            " 1   VehicleType       234483 non-null  object\n",
            " 2   RegistrationYear  234483 non-null  int32 \n",
            " 3   Gearbox           234483 non-null  object\n",
            " 4   Power             234483 non-null  int32 \n",
            " 5   Model             234483 non-null  object\n",
            " 6   Kilometer         234483 non-null  int32 \n",
            " 7   FuelType          234483 non-null  object\n",
            " 8   Brand             234483 non-null  object\n",
            " 9   Repaired          234483 non-null  object\n",
            "dtypes: int32(4), object(6)\n",
            "memory usage: 16.1+ MB\n"
          ]
        }
      ],
      "source": [
        "df.info()"
      ]
    },
    {
      "cell_type": "markdown",
      "metadata": {
        "id": "SObKbC0X-QFk"
      },
      "source": [
        "После чего разделим данные на обучающую и тестовую части."
      ]
    },
    {
      "cell_type": "code",
      "execution_count": 24,
      "metadata": {
        "id": "yu0x1zW2-QFl"
      },
      "outputs": [],
      "source": [
        "features = df.drop('Price', axis=1)\n",
        "target = df['Price']\n",
        "\n",
        "features_train, features_test, target_train, target_test = train_test_split(features, target, test_size=0.2, random_state=99)"
      ]
    },
    {
      "cell_type": "markdown",
      "metadata": {
        "id": "ofGbeS69-QFl"
      },
      "source": [
        "Выделим числовые и категориальные признаки для кодирования."
      ]
    },
    {
      "cell_type": "code",
      "execution_count": 25,
      "metadata": {
        "id": "YI9J1Iue-QFl"
      },
      "outputs": [],
      "source": [
        "cat_features = ['VehicleType',\n",
        "                'RegistrationYear',\n",
        "                'Gearbox',\n",
        "                'Model',\n",
        "                'Kilometer',\n",
        "                'FuelType',\n",
        "                'Brand',\n",
        "                'Repaired']\n",
        "num_features = 'Power'"
      ]
    },
    {
      "cell_type": "markdown",
      "metadata": {
        "id": "ODQOtTpo-QFm"
      },
      "source": [
        "Выполним масштабирование непрерывных переменных."
      ]
    },
    {
      "cell_type": "code",
      "execution_count": 26,
      "metadata": {
        "scrolled": false,
        "id": "JypjcqEJ-QFm"
      },
      "outputs": [],
      "source": [
        "scaler = StandardScaler()"
      ]
    },
    {
      "cell_type": "code",
      "execution_count": 27,
      "metadata": {
        "id": "_E0337wt-QFm"
      },
      "outputs": [],
      "source": [
        "scaler.fit(pd.DataFrame(features_train[num_features]))\n",
        "features_train_num = pd.DataFrame(scaler.transform(pd.DataFrame(features_train[num_features])))\n",
        "features_test_num = pd.DataFrame(scaler.transform(pd.DataFrame(features_test[num_features])))"
      ]
    },
    {
      "cell_type": "code",
      "execution_count": 28,
      "metadata": {
        "scrolled": true,
        "id": "EAU9VZHD-QFm"
      },
      "outputs": [],
      "source": [
        "features_train_num.columns = scaler.get_feature_names_out()\n",
        "features_test_num.columns = scaler.get_feature_names_out()"
      ]
    },
    {
      "cell_type": "code",
      "execution_count": 29,
      "metadata": {
        "id": "zWl26NBG-QFn"
      },
      "outputs": [],
      "source": [
        "encoder = OneHotEncoder(handle_unknown='ignore', drop='first')"
      ]
    },
    {
      "cell_type": "code",
      "execution_count": 30,
      "metadata": {
        "colab": {
          "base_uri": "https://localhost:8080/"
        },
        "id": "7v0UKXW9-QFn",
        "outputId": "3445ee52-a0ce-47c9-fc8c-7a6e0f64fb4b"
      },
      "outputs": [
        {
          "output_type": "stream",
          "name": "stderr",
          "text": [
            "/usr/local/lib/python3.10/dist-packages/sklearn/preprocessing/_encoders.py:242: UserWarning: Found unknown categories in columns [1] during transform. These unknown categories will be encoded as all zeros\n",
            "  warnings.warn(\n"
          ]
        }
      ],
      "source": [
        "encoder.fit(features_train[cat_features])\n",
        "features_train_categorical = pd.DataFrame(encoder.transform(features_train[cat_features]).toarray())\n",
        "features_test_categorical = pd.DataFrame(encoder.transform(features_test[cat_features]).toarray())"
      ]
    },
    {
      "cell_type": "code",
      "execution_count": 31,
      "metadata": {
        "id": "jJVdaiwI-QFn"
      },
      "outputs": [],
      "source": [
        "features_train_categorical.columns = encoder.get_feature_names_out()\n",
        "features_test_categorical.columns = encoder.get_feature_names_out()"
      ]
    },
    {
      "cell_type": "code",
      "execution_count": 32,
      "metadata": {
        "id": "4RTiakB5-QFn"
      },
      "outputs": [],
      "source": [
        "features_train = pd.concat([features_train_num.reset_index(drop=True), features_train_categorical.reset_index(drop=True)], axis=1)\n",
        "features_test = pd.concat([features_test_num.reset_index(drop=True), features_test_categorical.reset_index(drop=True)], axis=1)"
      ]
    },
    {
      "cell_type": "markdown",
      "metadata": {
        "id": "T73PPvP--QFn"
      },
      "source": [
        "**Вывод по третьему шагу:** исключили столбцы `DateCrawled` и `LastSeen`, т.к. они имеют большое количество уникальных значений, что сильно усложнит обучение, и ,к тому же, не окажут большого влияние при подсчете целевого признака.\n",
        "\n",
        "Подготовили выборки для обучения и тестирования моделей."
      ]
    },
    {
      "cell_type": "markdown",
      "metadata": {
        "id": "crFOFnGO-QFo"
      },
      "source": [
        "## Анализ моделей"
      ]
    },
    {
      "cell_type": "markdown",
      "metadata": {
        "id": "mQsyNvu7-QFo"
      },
      "source": [
        "Рассмотрим несколько моделей. Данные сведем в одну таблицу."
      ]
    },
    {
      "cell_type": "code",
      "execution_count": 33,
      "metadata": {
        "id": "zylDcTTK-QFo"
      },
      "outputs": [],
      "source": [
        "result = {'RMSE':[], 'fit_time':[], 'prediction_time':[]}"
      ]
    },
    {
      "cell_type": "code",
      "execution_count": 34,
      "metadata": {
        "id": "n44Ts8FL-QFo"
      },
      "outputs": [],
      "source": [
        "def result_append(model_gs, ft, pt):\n",
        "    result['RMSE'].append(model_gs.best_score_)\n",
        "    result['fit_time'].append(ft)\n",
        "    result['prediction_time'].append(pt)"
      ]
    },
    {
      "cell_type": "markdown",
      "metadata": {
        "id": "FBJRJIeX-QFo"
      },
      "source": [
        "### Дерево решений"
      ]
    },
    {
      "cell_type": "markdown",
      "metadata": {
        "id": "cjhWxh1A-QFo"
      },
      "source": [
        "Обучим модель подберем гиперпараметры при помощи GridSearchCV и оценим значение метрики RMSE."
      ]
    },
    {
      "cell_type": "code",
      "execution_count": 35,
      "metadata": {
        "id": "279Ntpbg-QFo"
      },
      "outputs": [],
      "source": [
        "tree = DecisionTreeRegressor(random_state=99, max_depth=7)"
      ]
    },
    {
      "cell_type": "code",
      "execution_count": 36,
      "metadata": {
        "id": "MJ0LJGQv-QFo"
      },
      "outputs": [],
      "source": [
        "parametrs = ({'max_depth':range(4, 9)\n",
        "             })"
      ]
    },
    {
      "cell_type": "code",
      "execution_count": 37,
      "metadata": {
        "id": "FTxFf3nk-QFo"
      },
      "outputs": [],
      "source": [
        "tree_gs = GridSearchCV(tree, parametrs, scoring='neg_root_mean_squared_error', n_jobs=-1, cv=3)"
      ]
    },
    {
      "cell_type": "code",
      "execution_count": 38,
      "metadata": {
        "colab": {
          "base_uri": "https://localhost:8080/",
          "height": 136
        },
        "id": "QIVpTPaz-QFp",
        "outputId": "a83054e5-f573-480a-a0f4-a034f2eeda2e"
      },
      "outputs": [
        {
          "output_type": "execute_result",
          "data": {
            "text/plain": [
              "GridSearchCV(cv=3,\n",
              "             estimator=DecisionTreeRegressor(max_depth=7, random_state=99),\n",
              "             n_jobs=-1, param_grid={'max_depth': range(4, 9)},\n",
              "             scoring='neg_root_mean_squared_error')"
            ],
            "text/html": [
              "<style>#sk-container-id-1 {\n",
              "  /* Definition of color scheme common for light and dark mode */\n",
              "  --sklearn-color-text: black;\n",
              "  --sklearn-color-line: gray;\n",
              "  /* Definition of color scheme for unfitted estimators */\n",
              "  --sklearn-color-unfitted-level-0: #fff5e6;\n",
              "  --sklearn-color-unfitted-level-1: #f6e4d2;\n",
              "  --sklearn-color-unfitted-level-2: #ffe0b3;\n",
              "  --sklearn-color-unfitted-level-3: chocolate;\n",
              "  /* Definition of color scheme for fitted estimators */\n",
              "  --sklearn-color-fitted-level-0: #f0f8ff;\n",
              "  --sklearn-color-fitted-level-1: #d4ebff;\n",
              "  --sklearn-color-fitted-level-2: #b3dbfd;\n",
              "  --sklearn-color-fitted-level-3: cornflowerblue;\n",
              "\n",
              "  /* Specific color for light theme */\n",
              "  --sklearn-color-text-on-default-background: var(--sg-text-color, var(--theme-code-foreground, var(--jp-content-font-color1, black)));\n",
              "  --sklearn-color-background: var(--sg-background-color, var(--theme-background, var(--jp-layout-color0, white)));\n",
              "  --sklearn-color-border-box: var(--sg-text-color, var(--theme-code-foreground, var(--jp-content-font-color1, black)));\n",
              "  --sklearn-color-icon: #696969;\n",
              "\n",
              "  @media (prefers-color-scheme: dark) {\n",
              "    /* Redefinition of color scheme for dark theme */\n",
              "    --sklearn-color-text-on-default-background: var(--sg-text-color, var(--theme-code-foreground, var(--jp-content-font-color1, white)));\n",
              "    --sklearn-color-background: var(--sg-background-color, var(--theme-background, var(--jp-layout-color0, #111)));\n",
              "    --sklearn-color-border-box: var(--sg-text-color, var(--theme-code-foreground, var(--jp-content-font-color1, white)));\n",
              "    --sklearn-color-icon: #878787;\n",
              "  }\n",
              "}\n",
              "\n",
              "#sk-container-id-1 {\n",
              "  color: var(--sklearn-color-text);\n",
              "}\n",
              "\n",
              "#sk-container-id-1 pre {\n",
              "  padding: 0;\n",
              "}\n",
              "\n",
              "#sk-container-id-1 input.sk-hidden--visually {\n",
              "  border: 0;\n",
              "  clip: rect(1px 1px 1px 1px);\n",
              "  clip: rect(1px, 1px, 1px, 1px);\n",
              "  height: 1px;\n",
              "  margin: -1px;\n",
              "  overflow: hidden;\n",
              "  padding: 0;\n",
              "  position: absolute;\n",
              "  width: 1px;\n",
              "}\n",
              "\n",
              "#sk-container-id-1 div.sk-dashed-wrapped {\n",
              "  border: 1px dashed var(--sklearn-color-line);\n",
              "  margin: 0 0.4em 0.5em 0.4em;\n",
              "  box-sizing: border-box;\n",
              "  padding-bottom: 0.4em;\n",
              "  background-color: var(--sklearn-color-background);\n",
              "}\n",
              "\n",
              "#sk-container-id-1 div.sk-container {\n",
              "  /* jupyter's `normalize.less` sets `[hidden] { display: none; }`\n",
              "     but bootstrap.min.css set `[hidden] { display: none !important; }`\n",
              "     so we also need the `!important` here to be able to override the\n",
              "     default hidden behavior on the sphinx rendered scikit-learn.org.\n",
              "     See: https://github.com/scikit-learn/scikit-learn/issues/21755 */\n",
              "  display: inline-block !important;\n",
              "  position: relative;\n",
              "}\n",
              "\n",
              "#sk-container-id-1 div.sk-text-repr-fallback {\n",
              "  display: none;\n",
              "}\n",
              "\n",
              "div.sk-parallel-item,\n",
              "div.sk-serial,\n",
              "div.sk-item {\n",
              "  /* draw centered vertical line to link estimators */\n",
              "  background-image: linear-gradient(var(--sklearn-color-text-on-default-background), var(--sklearn-color-text-on-default-background));\n",
              "  background-size: 2px 100%;\n",
              "  background-repeat: no-repeat;\n",
              "  background-position: center center;\n",
              "}\n",
              "\n",
              "/* Parallel-specific style estimator block */\n",
              "\n",
              "#sk-container-id-1 div.sk-parallel-item::after {\n",
              "  content: \"\";\n",
              "  width: 100%;\n",
              "  border-bottom: 2px solid var(--sklearn-color-text-on-default-background);\n",
              "  flex-grow: 1;\n",
              "}\n",
              "\n",
              "#sk-container-id-1 div.sk-parallel {\n",
              "  display: flex;\n",
              "  align-items: stretch;\n",
              "  justify-content: center;\n",
              "  background-color: var(--sklearn-color-background);\n",
              "  position: relative;\n",
              "}\n",
              "\n",
              "#sk-container-id-1 div.sk-parallel-item {\n",
              "  display: flex;\n",
              "  flex-direction: column;\n",
              "}\n",
              "\n",
              "#sk-container-id-1 div.sk-parallel-item:first-child::after {\n",
              "  align-self: flex-end;\n",
              "  width: 50%;\n",
              "}\n",
              "\n",
              "#sk-container-id-1 div.sk-parallel-item:last-child::after {\n",
              "  align-self: flex-start;\n",
              "  width: 50%;\n",
              "}\n",
              "\n",
              "#sk-container-id-1 div.sk-parallel-item:only-child::after {\n",
              "  width: 0;\n",
              "}\n",
              "\n",
              "/* Serial-specific style estimator block */\n",
              "\n",
              "#sk-container-id-1 div.sk-serial {\n",
              "  display: flex;\n",
              "  flex-direction: column;\n",
              "  align-items: center;\n",
              "  background-color: var(--sklearn-color-background);\n",
              "  padding-right: 1em;\n",
              "  padding-left: 1em;\n",
              "}\n",
              "\n",
              "\n",
              "/* Toggleable style: style used for estimator/Pipeline/ColumnTransformer box that is\n",
              "clickable and can be expanded/collapsed.\n",
              "- Pipeline and ColumnTransformer use this feature and define the default style\n",
              "- Estimators will overwrite some part of the style using the `sk-estimator` class\n",
              "*/\n",
              "\n",
              "/* Pipeline and ColumnTransformer style (default) */\n",
              "\n",
              "#sk-container-id-1 div.sk-toggleable {\n",
              "  /* Default theme specific background. It is overwritten whether we have a\n",
              "  specific estimator or a Pipeline/ColumnTransformer */\n",
              "  background-color: var(--sklearn-color-background);\n",
              "}\n",
              "\n",
              "/* Toggleable label */\n",
              "#sk-container-id-1 label.sk-toggleable__label {\n",
              "  cursor: pointer;\n",
              "  display: block;\n",
              "  width: 100%;\n",
              "  margin-bottom: 0;\n",
              "  padding: 0.5em;\n",
              "  box-sizing: border-box;\n",
              "  text-align: center;\n",
              "}\n",
              "\n",
              "#sk-container-id-1 label.sk-toggleable__label-arrow:before {\n",
              "  /* Arrow on the left of the label */\n",
              "  content: \"▸\";\n",
              "  float: left;\n",
              "  margin-right: 0.25em;\n",
              "  color: var(--sklearn-color-icon);\n",
              "}\n",
              "\n",
              "#sk-container-id-1 label.sk-toggleable__label-arrow:hover:before {\n",
              "  color: var(--sklearn-color-text);\n",
              "}\n",
              "\n",
              "/* Toggleable content - dropdown */\n",
              "\n",
              "#sk-container-id-1 div.sk-toggleable__content {\n",
              "  max-height: 0;\n",
              "  max-width: 0;\n",
              "  overflow: hidden;\n",
              "  text-align: left;\n",
              "  /* unfitted */\n",
              "  background-color: var(--sklearn-color-unfitted-level-0);\n",
              "}\n",
              "\n",
              "#sk-container-id-1 div.sk-toggleable__content.fitted {\n",
              "  /* fitted */\n",
              "  background-color: var(--sklearn-color-fitted-level-0);\n",
              "}\n",
              "\n",
              "#sk-container-id-1 div.sk-toggleable__content pre {\n",
              "  margin: 0.2em;\n",
              "  border-radius: 0.25em;\n",
              "  color: var(--sklearn-color-text);\n",
              "  /* unfitted */\n",
              "  background-color: var(--sklearn-color-unfitted-level-0);\n",
              "}\n",
              "\n",
              "#sk-container-id-1 div.sk-toggleable__content.fitted pre {\n",
              "  /* unfitted */\n",
              "  background-color: var(--sklearn-color-fitted-level-0);\n",
              "}\n",
              "\n",
              "#sk-container-id-1 input.sk-toggleable__control:checked~div.sk-toggleable__content {\n",
              "  /* Expand drop-down */\n",
              "  max-height: 200px;\n",
              "  max-width: 100%;\n",
              "  overflow: auto;\n",
              "}\n",
              "\n",
              "#sk-container-id-1 input.sk-toggleable__control:checked~label.sk-toggleable__label-arrow:before {\n",
              "  content: \"▾\";\n",
              "}\n",
              "\n",
              "/* Pipeline/ColumnTransformer-specific style */\n",
              "\n",
              "#sk-container-id-1 div.sk-label input.sk-toggleable__control:checked~label.sk-toggleable__label {\n",
              "  color: var(--sklearn-color-text);\n",
              "  background-color: var(--sklearn-color-unfitted-level-2);\n",
              "}\n",
              "\n",
              "#sk-container-id-1 div.sk-label.fitted input.sk-toggleable__control:checked~label.sk-toggleable__label {\n",
              "  background-color: var(--sklearn-color-fitted-level-2);\n",
              "}\n",
              "\n",
              "/* Estimator-specific style */\n",
              "\n",
              "/* Colorize estimator box */\n",
              "#sk-container-id-1 div.sk-estimator input.sk-toggleable__control:checked~label.sk-toggleable__label {\n",
              "  /* unfitted */\n",
              "  background-color: var(--sklearn-color-unfitted-level-2);\n",
              "}\n",
              "\n",
              "#sk-container-id-1 div.sk-estimator.fitted input.sk-toggleable__control:checked~label.sk-toggleable__label {\n",
              "  /* fitted */\n",
              "  background-color: var(--sklearn-color-fitted-level-2);\n",
              "}\n",
              "\n",
              "#sk-container-id-1 div.sk-label label.sk-toggleable__label,\n",
              "#sk-container-id-1 div.sk-label label {\n",
              "  /* The background is the default theme color */\n",
              "  color: var(--sklearn-color-text-on-default-background);\n",
              "}\n",
              "\n",
              "/* On hover, darken the color of the background */\n",
              "#sk-container-id-1 div.sk-label:hover label.sk-toggleable__label {\n",
              "  color: var(--sklearn-color-text);\n",
              "  background-color: var(--sklearn-color-unfitted-level-2);\n",
              "}\n",
              "\n",
              "/* Label box, darken color on hover, fitted */\n",
              "#sk-container-id-1 div.sk-label.fitted:hover label.sk-toggleable__label.fitted {\n",
              "  color: var(--sklearn-color-text);\n",
              "  background-color: var(--sklearn-color-fitted-level-2);\n",
              "}\n",
              "\n",
              "/* Estimator label */\n",
              "\n",
              "#sk-container-id-1 div.sk-label label {\n",
              "  font-family: monospace;\n",
              "  font-weight: bold;\n",
              "  display: inline-block;\n",
              "  line-height: 1.2em;\n",
              "}\n",
              "\n",
              "#sk-container-id-1 div.sk-label-container {\n",
              "  text-align: center;\n",
              "}\n",
              "\n",
              "/* Estimator-specific */\n",
              "#sk-container-id-1 div.sk-estimator {\n",
              "  font-family: monospace;\n",
              "  border: 1px dotted var(--sklearn-color-border-box);\n",
              "  border-radius: 0.25em;\n",
              "  box-sizing: border-box;\n",
              "  margin-bottom: 0.5em;\n",
              "  /* unfitted */\n",
              "  background-color: var(--sklearn-color-unfitted-level-0);\n",
              "}\n",
              "\n",
              "#sk-container-id-1 div.sk-estimator.fitted {\n",
              "  /* fitted */\n",
              "  background-color: var(--sklearn-color-fitted-level-0);\n",
              "}\n",
              "\n",
              "/* on hover */\n",
              "#sk-container-id-1 div.sk-estimator:hover {\n",
              "  /* unfitted */\n",
              "  background-color: var(--sklearn-color-unfitted-level-2);\n",
              "}\n",
              "\n",
              "#sk-container-id-1 div.sk-estimator.fitted:hover {\n",
              "  /* fitted */\n",
              "  background-color: var(--sklearn-color-fitted-level-2);\n",
              "}\n",
              "\n",
              "/* Specification for estimator info (e.g. \"i\" and \"?\") */\n",
              "\n",
              "/* Common style for \"i\" and \"?\" */\n",
              "\n",
              ".sk-estimator-doc-link,\n",
              "a:link.sk-estimator-doc-link,\n",
              "a:visited.sk-estimator-doc-link {\n",
              "  float: right;\n",
              "  font-size: smaller;\n",
              "  line-height: 1em;\n",
              "  font-family: monospace;\n",
              "  background-color: var(--sklearn-color-background);\n",
              "  border-radius: 1em;\n",
              "  height: 1em;\n",
              "  width: 1em;\n",
              "  text-decoration: none !important;\n",
              "  margin-left: 1ex;\n",
              "  /* unfitted */\n",
              "  border: var(--sklearn-color-unfitted-level-1) 1pt solid;\n",
              "  color: var(--sklearn-color-unfitted-level-1);\n",
              "}\n",
              "\n",
              ".sk-estimator-doc-link.fitted,\n",
              "a:link.sk-estimator-doc-link.fitted,\n",
              "a:visited.sk-estimator-doc-link.fitted {\n",
              "  /* fitted */\n",
              "  border: var(--sklearn-color-fitted-level-1) 1pt solid;\n",
              "  color: var(--sklearn-color-fitted-level-1);\n",
              "}\n",
              "\n",
              "/* On hover */\n",
              "div.sk-estimator:hover .sk-estimator-doc-link:hover,\n",
              ".sk-estimator-doc-link:hover,\n",
              "div.sk-label-container:hover .sk-estimator-doc-link:hover,\n",
              ".sk-estimator-doc-link:hover {\n",
              "  /* unfitted */\n",
              "  background-color: var(--sklearn-color-unfitted-level-3);\n",
              "  color: var(--sklearn-color-background);\n",
              "  text-decoration: none;\n",
              "}\n",
              "\n",
              "div.sk-estimator.fitted:hover .sk-estimator-doc-link.fitted:hover,\n",
              ".sk-estimator-doc-link.fitted:hover,\n",
              "div.sk-label-container:hover .sk-estimator-doc-link.fitted:hover,\n",
              ".sk-estimator-doc-link.fitted:hover {\n",
              "  /* fitted */\n",
              "  background-color: var(--sklearn-color-fitted-level-3);\n",
              "  color: var(--sklearn-color-background);\n",
              "  text-decoration: none;\n",
              "}\n",
              "\n",
              "/* Span, style for the box shown on hovering the info icon */\n",
              ".sk-estimator-doc-link span {\n",
              "  display: none;\n",
              "  z-index: 9999;\n",
              "  position: relative;\n",
              "  font-weight: normal;\n",
              "  right: .2ex;\n",
              "  padding: .5ex;\n",
              "  margin: .5ex;\n",
              "  width: min-content;\n",
              "  min-width: 20ex;\n",
              "  max-width: 50ex;\n",
              "  color: var(--sklearn-color-text);\n",
              "  box-shadow: 2pt 2pt 4pt #999;\n",
              "  /* unfitted */\n",
              "  background: var(--sklearn-color-unfitted-level-0);\n",
              "  border: .5pt solid var(--sklearn-color-unfitted-level-3);\n",
              "}\n",
              "\n",
              ".sk-estimator-doc-link.fitted span {\n",
              "  /* fitted */\n",
              "  background: var(--sklearn-color-fitted-level-0);\n",
              "  border: var(--sklearn-color-fitted-level-3);\n",
              "}\n",
              "\n",
              ".sk-estimator-doc-link:hover span {\n",
              "  display: block;\n",
              "}\n",
              "\n",
              "/* \"?\"-specific style due to the `<a>` HTML tag */\n",
              "\n",
              "#sk-container-id-1 a.estimator_doc_link {\n",
              "  float: right;\n",
              "  font-size: 1rem;\n",
              "  line-height: 1em;\n",
              "  font-family: monospace;\n",
              "  background-color: var(--sklearn-color-background);\n",
              "  border-radius: 1rem;\n",
              "  height: 1rem;\n",
              "  width: 1rem;\n",
              "  text-decoration: none;\n",
              "  /* unfitted */\n",
              "  color: var(--sklearn-color-unfitted-level-1);\n",
              "  border: var(--sklearn-color-unfitted-level-1) 1pt solid;\n",
              "}\n",
              "\n",
              "#sk-container-id-1 a.estimator_doc_link.fitted {\n",
              "  /* fitted */\n",
              "  border: var(--sklearn-color-fitted-level-1) 1pt solid;\n",
              "  color: var(--sklearn-color-fitted-level-1);\n",
              "}\n",
              "\n",
              "/* On hover */\n",
              "#sk-container-id-1 a.estimator_doc_link:hover {\n",
              "  /* unfitted */\n",
              "  background-color: var(--sklearn-color-unfitted-level-3);\n",
              "  color: var(--sklearn-color-background);\n",
              "  text-decoration: none;\n",
              "}\n",
              "\n",
              "#sk-container-id-1 a.estimator_doc_link.fitted:hover {\n",
              "  /* fitted */\n",
              "  background-color: var(--sklearn-color-fitted-level-3);\n",
              "}\n",
              "</style><div id=\"sk-container-id-1\" class=\"sk-top-container\"><div class=\"sk-text-repr-fallback\"><pre>GridSearchCV(cv=3,\n",
              "             estimator=DecisionTreeRegressor(max_depth=7, random_state=99),\n",
              "             n_jobs=-1, param_grid={&#x27;max_depth&#x27;: range(4, 9)},\n",
              "             scoring=&#x27;neg_root_mean_squared_error&#x27;)</pre><b>In a Jupyter environment, please rerun this cell to show the HTML representation or trust the notebook. <br />On GitHub, the HTML representation is unable to render, please try loading this page with nbviewer.org.</b></div><div class=\"sk-container\" hidden><div class=\"sk-item sk-dashed-wrapped\"><div class=\"sk-label-container\"><div class=\"sk-label fitted sk-toggleable\"><input class=\"sk-toggleable__control sk-hidden--visually\" id=\"sk-estimator-id-1\" type=\"checkbox\" ><label for=\"sk-estimator-id-1\" class=\"sk-toggleable__label fitted sk-toggleable__label-arrow fitted\">&nbsp;&nbsp;GridSearchCV<a class=\"sk-estimator-doc-link fitted\" rel=\"noreferrer\" target=\"_blank\" href=\"https://scikit-learn.org/1.5/modules/generated/sklearn.model_selection.GridSearchCV.html\">?<span>Documentation for GridSearchCV</span></a><span class=\"sk-estimator-doc-link fitted\">i<span>Fitted</span></span></label><div class=\"sk-toggleable__content fitted\"><pre>GridSearchCV(cv=3,\n",
              "             estimator=DecisionTreeRegressor(max_depth=7, random_state=99),\n",
              "             n_jobs=-1, param_grid={&#x27;max_depth&#x27;: range(4, 9)},\n",
              "             scoring=&#x27;neg_root_mean_squared_error&#x27;)</pre></div> </div></div><div class=\"sk-parallel\"><div class=\"sk-parallel-item\"><div class=\"sk-item\"><div class=\"sk-label-container\"><div class=\"sk-label fitted sk-toggleable\"><input class=\"sk-toggleable__control sk-hidden--visually\" id=\"sk-estimator-id-2\" type=\"checkbox\" ><label for=\"sk-estimator-id-2\" class=\"sk-toggleable__label fitted sk-toggleable__label-arrow fitted\">best_estimator_: DecisionTreeRegressor</label><div class=\"sk-toggleable__content fitted\"><pre>DecisionTreeRegressor(max_depth=8, random_state=99)</pre></div> </div></div><div class=\"sk-serial\"><div class=\"sk-item\"><div class=\"sk-estimator fitted sk-toggleable\"><input class=\"sk-toggleable__control sk-hidden--visually\" id=\"sk-estimator-id-3\" type=\"checkbox\" ><label for=\"sk-estimator-id-3\" class=\"sk-toggleable__label fitted sk-toggleable__label-arrow fitted\">&nbsp;DecisionTreeRegressor<a class=\"sk-estimator-doc-link fitted\" rel=\"noreferrer\" target=\"_blank\" href=\"https://scikit-learn.org/1.5/modules/generated/sklearn.tree.DecisionTreeRegressor.html\">?<span>Documentation for DecisionTreeRegressor</span></a></label><div class=\"sk-toggleable__content fitted\"><pre>DecisionTreeRegressor(max_depth=8, random_state=99)</pre></div> </div></div></div></div></div></div></div></div></div>"
            ]
          },
          "metadata": {},
          "execution_count": 38
        }
      ],
      "source": [
        "tree_gs.fit(features_train, target_train)"
      ]
    },
    {
      "cell_type": "code",
      "execution_count": 39,
      "metadata": {
        "id": "RNXY_vw7-QFp"
      },
      "outputs": [],
      "source": [
        "model = tree_gs.best_estimator_"
      ]
    },
    {
      "cell_type": "code",
      "execution_count": 40,
      "metadata": {
        "id": "1ntffFYy-QFp"
      },
      "outputs": [],
      "source": [
        "start = time()\n",
        "\n",
        "model.fit(features_train, target_train)\n",
        "\n",
        "end = time()\n",
        "\n",
        "fit_time = (end-start)/60"
      ]
    },
    {
      "cell_type": "code",
      "execution_count": 41,
      "metadata": {
        "id": "aPkvWl7o-QFp"
      },
      "outputs": [],
      "source": [
        "start = time()\n",
        "\n",
        "model.predict(features_train)\n",
        "\n",
        "end = time()\n",
        "\n",
        "predict_time = (end-start)/60"
      ]
    },
    {
      "cell_type": "code",
      "execution_count": 44,
      "metadata": {
        "id": "8aiW1OJl-QFp"
      },
      "outputs": [],
      "source": [
        "result_append(tree_gs, fit_time, predict_time)"
      ]
    },
    {
      "cell_type": "markdown",
      "metadata": {
        "id": "aXzEY_vH-QFp"
      },
      "source": [
        "### Ridge"
      ]
    },
    {
      "cell_type": "markdown",
      "metadata": {
        "id": "nAe7048w-QFp"
      },
      "source": [
        "Обучим модель, пайплайн для нее, подберем гиперпараметры при помощи GridSearchCV и оценим значение метрики RMSE."
      ]
    },
    {
      "cell_type": "code",
      "execution_count": 45,
      "metadata": {
        "id": "AZCmTcCp-QFp"
      },
      "outputs": [],
      "source": [
        "linear = Ridge()"
      ]
    },
    {
      "cell_type": "code",
      "execution_count": 46,
      "metadata": {
        "id": "lGHiK41h-QFq"
      },
      "outputs": [],
      "source": [
        "lin_parametrs = ({'alpha':[0.01, 0.1, 0.5, 1]})"
      ]
    },
    {
      "cell_type": "code",
      "execution_count": 47,
      "metadata": {
        "id": "M88qaSX1-QFq"
      },
      "outputs": [],
      "source": [
        "linear_gs = GridSearchCV(linear, lin_parametrs, scoring='neg_root_mean_squared_error', n_jobs=-1, cv=3)"
      ]
    },
    {
      "cell_type": "code",
      "execution_count": 48,
      "metadata": {
        "scrolled": true,
        "colab": {
          "base_uri": "https://localhost:8080/",
          "height": 136
        },
        "id": "1s9PQIOo-QFq",
        "outputId": "d7070d2b-56f5-49ba-db77-c2a83f086a93"
      },
      "outputs": [
        {
          "output_type": "execute_result",
          "data": {
            "text/plain": [
              "GridSearchCV(cv=3, estimator=Ridge(), n_jobs=-1,\n",
              "             param_grid={'alpha': [0.01, 0.1, 0.5, 1]},\n",
              "             scoring='neg_root_mean_squared_error')"
            ],
            "text/html": [
              "<style>#sk-container-id-2 {\n",
              "  /* Definition of color scheme common for light and dark mode */\n",
              "  --sklearn-color-text: black;\n",
              "  --sklearn-color-line: gray;\n",
              "  /* Definition of color scheme for unfitted estimators */\n",
              "  --sklearn-color-unfitted-level-0: #fff5e6;\n",
              "  --sklearn-color-unfitted-level-1: #f6e4d2;\n",
              "  --sklearn-color-unfitted-level-2: #ffe0b3;\n",
              "  --sklearn-color-unfitted-level-3: chocolate;\n",
              "  /* Definition of color scheme for fitted estimators */\n",
              "  --sklearn-color-fitted-level-0: #f0f8ff;\n",
              "  --sklearn-color-fitted-level-1: #d4ebff;\n",
              "  --sklearn-color-fitted-level-2: #b3dbfd;\n",
              "  --sklearn-color-fitted-level-3: cornflowerblue;\n",
              "\n",
              "  /* Specific color for light theme */\n",
              "  --sklearn-color-text-on-default-background: var(--sg-text-color, var(--theme-code-foreground, var(--jp-content-font-color1, black)));\n",
              "  --sklearn-color-background: var(--sg-background-color, var(--theme-background, var(--jp-layout-color0, white)));\n",
              "  --sklearn-color-border-box: var(--sg-text-color, var(--theme-code-foreground, var(--jp-content-font-color1, black)));\n",
              "  --sklearn-color-icon: #696969;\n",
              "\n",
              "  @media (prefers-color-scheme: dark) {\n",
              "    /* Redefinition of color scheme for dark theme */\n",
              "    --sklearn-color-text-on-default-background: var(--sg-text-color, var(--theme-code-foreground, var(--jp-content-font-color1, white)));\n",
              "    --sklearn-color-background: var(--sg-background-color, var(--theme-background, var(--jp-layout-color0, #111)));\n",
              "    --sklearn-color-border-box: var(--sg-text-color, var(--theme-code-foreground, var(--jp-content-font-color1, white)));\n",
              "    --sklearn-color-icon: #878787;\n",
              "  }\n",
              "}\n",
              "\n",
              "#sk-container-id-2 {\n",
              "  color: var(--sklearn-color-text);\n",
              "}\n",
              "\n",
              "#sk-container-id-2 pre {\n",
              "  padding: 0;\n",
              "}\n",
              "\n",
              "#sk-container-id-2 input.sk-hidden--visually {\n",
              "  border: 0;\n",
              "  clip: rect(1px 1px 1px 1px);\n",
              "  clip: rect(1px, 1px, 1px, 1px);\n",
              "  height: 1px;\n",
              "  margin: -1px;\n",
              "  overflow: hidden;\n",
              "  padding: 0;\n",
              "  position: absolute;\n",
              "  width: 1px;\n",
              "}\n",
              "\n",
              "#sk-container-id-2 div.sk-dashed-wrapped {\n",
              "  border: 1px dashed var(--sklearn-color-line);\n",
              "  margin: 0 0.4em 0.5em 0.4em;\n",
              "  box-sizing: border-box;\n",
              "  padding-bottom: 0.4em;\n",
              "  background-color: var(--sklearn-color-background);\n",
              "}\n",
              "\n",
              "#sk-container-id-2 div.sk-container {\n",
              "  /* jupyter's `normalize.less` sets `[hidden] { display: none; }`\n",
              "     but bootstrap.min.css set `[hidden] { display: none !important; }`\n",
              "     so we also need the `!important` here to be able to override the\n",
              "     default hidden behavior on the sphinx rendered scikit-learn.org.\n",
              "     See: https://github.com/scikit-learn/scikit-learn/issues/21755 */\n",
              "  display: inline-block !important;\n",
              "  position: relative;\n",
              "}\n",
              "\n",
              "#sk-container-id-2 div.sk-text-repr-fallback {\n",
              "  display: none;\n",
              "}\n",
              "\n",
              "div.sk-parallel-item,\n",
              "div.sk-serial,\n",
              "div.sk-item {\n",
              "  /* draw centered vertical line to link estimators */\n",
              "  background-image: linear-gradient(var(--sklearn-color-text-on-default-background), var(--sklearn-color-text-on-default-background));\n",
              "  background-size: 2px 100%;\n",
              "  background-repeat: no-repeat;\n",
              "  background-position: center center;\n",
              "}\n",
              "\n",
              "/* Parallel-specific style estimator block */\n",
              "\n",
              "#sk-container-id-2 div.sk-parallel-item::after {\n",
              "  content: \"\";\n",
              "  width: 100%;\n",
              "  border-bottom: 2px solid var(--sklearn-color-text-on-default-background);\n",
              "  flex-grow: 1;\n",
              "}\n",
              "\n",
              "#sk-container-id-2 div.sk-parallel {\n",
              "  display: flex;\n",
              "  align-items: stretch;\n",
              "  justify-content: center;\n",
              "  background-color: var(--sklearn-color-background);\n",
              "  position: relative;\n",
              "}\n",
              "\n",
              "#sk-container-id-2 div.sk-parallel-item {\n",
              "  display: flex;\n",
              "  flex-direction: column;\n",
              "}\n",
              "\n",
              "#sk-container-id-2 div.sk-parallel-item:first-child::after {\n",
              "  align-self: flex-end;\n",
              "  width: 50%;\n",
              "}\n",
              "\n",
              "#sk-container-id-2 div.sk-parallel-item:last-child::after {\n",
              "  align-self: flex-start;\n",
              "  width: 50%;\n",
              "}\n",
              "\n",
              "#sk-container-id-2 div.sk-parallel-item:only-child::after {\n",
              "  width: 0;\n",
              "}\n",
              "\n",
              "/* Serial-specific style estimator block */\n",
              "\n",
              "#sk-container-id-2 div.sk-serial {\n",
              "  display: flex;\n",
              "  flex-direction: column;\n",
              "  align-items: center;\n",
              "  background-color: var(--sklearn-color-background);\n",
              "  padding-right: 1em;\n",
              "  padding-left: 1em;\n",
              "}\n",
              "\n",
              "\n",
              "/* Toggleable style: style used for estimator/Pipeline/ColumnTransformer box that is\n",
              "clickable and can be expanded/collapsed.\n",
              "- Pipeline and ColumnTransformer use this feature and define the default style\n",
              "- Estimators will overwrite some part of the style using the `sk-estimator` class\n",
              "*/\n",
              "\n",
              "/* Pipeline and ColumnTransformer style (default) */\n",
              "\n",
              "#sk-container-id-2 div.sk-toggleable {\n",
              "  /* Default theme specific background. It is overwritten whether we have a\n",
              "  specific estimator or a Pipeline/ColumnTransformer */\n",
              "  background-color: var(--sklearn-color-background);\n",
              "}\n",
              "\n",
              "/* Toggleable label */\n",
              "#sk-container-id-2 label.sk-toggleable__label {\n",
              "  cursor: pointer;\n",
              "  display: block;\n",
              "  width: 100%;\n",
              "  margin-bottom: 0;\n",
              "  padding: 0.5em;\n",
              "  box-sizing: border-box;\n",
              "  text-align: center;\n",
              "}\n",
              "\n",
              "#sk-container-id-2 label.sk-toggleable__label-arrow:before {\n",
              "  /* Arrow on the left of the label */\n",
              "  content: \"▸\";\n",
              "  float: left;\n",
              "  margin-right: 0.25em;\n",
              "  color: var(--sklearn-color-icon);\n",
              "}\n",
              "\n",
              "#sk-container-id-2 label.sk-toggleable__label-arrow:hover:before {\n",
              "  color: var(--sklearn-color-text);\n",
              "}\n",
              "\n",
              "/* Toggleable content - dropdown */\n",
              "\n",
              "#sk-container-id-2 div.sk-toggleable__content {\n",
              "  max-height: 0;\n",
              "  max-width: 0;\n",
              "  overflow: hidden;\n",
              "  text-align: left;\n",
              "  /* unfitted */\n",
              "  background-color: var(--sklearn-color-unfitted-level-0);\n",
              "}\n",
              "\n",
              "#sk-container-id-2 div.sk-toggleable__content.fitted {\n",
              "  /* fitted */\n",
              "  background-color: var(--sklearn-color-fitted-level-0);\n",
              "}\n",
              "\n",
              "#sk-container-id-2 div.sk-toggleable__content pre {\n",
              "  margin: 0.2em;\n",
              "  border-radius: 0.25em;\n",
              "  color: var(--sklearn-color-text);\n",
              "  /* unfitted */\n",
              "  background-color: var(--sklearn-color-unfitted-level-0);\n",
              "}\n",
              "\n",
              "#sk-container-id-2 div.sk-toggleable__content.fitted pre {\n",
              "  /* unfitted */\n",
              "  background-color: var(--sklearn-color-fitted-level-0);\n",
              "}\n",
              "\n",
              "#sk-container-id-2 input.sk-toggleable__control:checked~div.sk-toggleable__content {\n",
              "  /* Expand drop-down */\n",
              "  max-height: 200px;\n",
              "  max-width: 100%;\n",
              "  overflow: auto;\n",
              "}\n",
              "\n",
              "#sk-container-id-2 input.sk-toggleable__control:checked~label.sk-toggleable__label-arrow:before {\n",
              "  content: \"▾\";\n",
              "}\n",
              "\n",
              "/* Pipeline/ColumnTransformer-specific style */\n",
              "\n",
              "#sk-container-id-2 div.sk-label input.sk-toggleable__control:checked~label.sk-toggleable__label {\n",
              "  color: var(--sklearn-color-text);\n",
              "  background-color: var(--sklearn-color-unfitted-level-2);\n",
              "}\n",
              "\n",
              "#sk-container-id-2 div.sk-label.fitted input.sk-toggleable__control:checked~label.sk-toggleable__label {\n",
              "  background-color: var(--sklearn-color-fitted-level-2);\n",
              "}\n",
              "\n",
              "/* Estimator-specific style */\n",
              "\n",
              "/* Colorize estimator box */\n",
              "#sk-container-id-2 div.sk-estimator input.sk-toggleable__control:checked~label.sk-toggleable__label {\n",
              "  /* unfitted */\n",
              "  background-color: var(--sklearn-color-unfitted-level-2);\n",
              "}\n",
              "\n",
              "#sk-container-id-2 div.sk-estimator.fitted input.sk-toggleable__control:checked~label.sk-toggleable__label {\n",
              "  /* fitted */\n",
              "  background-color: var(--sklearn-color-fitted-level-2);\n",
              "}\n",
              "\n",
              "#sk-container-id-2 div.sk-label label.sk-toggleable__label,\n",
              "#sk-container-id-2 div.sk-label label {\n",
              "  /* The background is the default theme color */\n",
              "  color: var(--sklearn-color-text-on-default-background);\n",
              "}\n",
              "\n",
              "/* On hover, darken the color of the background */\n",
              "#sk-container-id-2 div.sk-label:hover label.sk-toggleable__label {\n",
              "  color: var(--sklearn-color-text);\n",
              "  background-color: var(--sklearn-color-unfitted-level-2);\n",
              "}\n",
              "\n",
              "/* Label box, darken color on hover, fitted */\n",
              "#sk-container-id-2 div.sk-label.fitted:hover label.sk-toggleable__label.fitted {\n",
              "  color: var(--sklearn-color-text);\n",
              "  background-color: var(--sklearn-color-fitted-level-2);\n",
              "}\n",
              "\n",
              "/* Estimator label */\n",
              "\n",
              "#sk-container-id-2 div.sk-label label {\n",
              "  font-family: monospace;\n",
              "  font-weight: bold;\n",
              "  display: inline-block;\n",
              "  line-height: 1.2em;\n",
              "}\n",
              "\n",
              "#sk-container-id-2 div.sk-label-container {\n",
              "  text-align: center;\n",
              "}\n",
              "\n",
              "/* Estimator-specific */\n",
              "#sk-container-id-2 div.sk-estimator {\n",
              "  font-family: monospace;\n",
              "  border: 1px dotted var(--sklearn-color-border-box);\n",
              "  border-radius: 0.25em;\n",
              "  box-sizing: border-box;\n",
              "  margin-bottom: 0.5em;\n",
              "  /* unfitted */\n",
              "  background-color: var(--sklearn-color-unfitted-level-0);\n",
              "}\n",
              "\n",
              "#sk-container-id-2 div.sk-estimator.fitted {\n",
              "  /* fitted */\n",
              "  background-color: var(--sklearn-color-fitted-level-0);\n",
              "}\n",
              "\n",
              "/* on hover */\n",
              "#sk-container-id-2 div.sk-estimator:hover {\n",
              "  /* unfitted */\n",
              "  background-color: var(--sklearn-color-unfitted-level-2);\n",
              "}\n",
              "\n",
              "#sk-container-id-2 div.sk-estimator.fitted:hover {\n",
              "  /* fitted */\n",
              "  background-color: var(--sklearn-color-fitted-level-2);\n",
              "}\n",
              "\n",
              "/* Specification for estimator info (e.g. \"i\" and \"?\") */\n",
              "\n",
              "/* Common style for \"i\" and \"?\" */\n",
              "\n",
              ".sk-estimator-doc-link,\n",
              "a:link.sk-estimator-doc-link,\n",
              "a:visited.sk-estimator-doc-link {\n",
              "  float: right;\n",
              "  font-size: smaller;\n",
              "  line-height: 1em;\n",
              "  font-family: monospace;\n",
              "  background-color: var(--sklearn-color-background);\n",
              "  border-radius: 1em;\n",
              "  height: 1em;\n",
              "  width: 1em;\n",
              "  text-decoration: none !important;\n",
              "  margin-left: 1ex;\n",
              "  /* unfitted */\n",
              "  border: var(--sklearn-color-unfitted-level-1) 1pt solid;\n",
              "  color: var(--sklearn-color-unfitted-level-1);\n",
              "}\n",
              "\n",
              ".sk-estimator-doc-link.fitted,\n",
              "a:link.sk-estimator-doc-link.fitted,\n",
              "a:visited.sk-estimator-doc-link.fitted {\n",
              "  /* fitted */\n",
              "  border: var(--sklearn-color-fitted-level-1) 1pt solid;\n",
              "  color: var(--sklearn-color-fitted-level-1);\n",
              "}\n",
              "\n",
              "/* On hover */\n",
              "div.sk-estimator:hover .sk-estimator-doc-link:hover,\n",
              ".sk-estimator-doc-link:hover,\n",
              "div.sk-label-container:hover .sk-estimator-doc-link:hover,\n",
              ".sk-estimator-doc-link:hover {\n",
              "  /* unfitted */\n",
              "  background-color: var(--sklearn-color-unfitted-level-3);\n",
              "  color: var(--sklearn-color-background);\n",
              "  text-decoration: none;\n",
              "}\n",
              "\n",
              "div.sk-estimator.fitted:hover .sk-estimator-doc-link.fitted:hover,\n",
              ".sk-estimator-doc-link.fitted:hover,\n",
              "div.sk-label-container:hover .sk-estimator-doc-link.fitted:hover,\n",
              ".sk-estimator-doc-link.fitted:hover {\n",
              "  /* fitted */\n",
              "  background-color: var(--sklearn-color-fitted-level-3);\n",
              "  color: var(--sklearn-color-background);\n",
              "  text-decoration: none;\n",
              "}\n",
              "\n",
              "/* Span, style for the box shown on hovering the info icon */\n",
              ".sk-estimator-doc-link span {\n",
              "  display: none;\n",
              "  z-index: 9999;\n",
              "  position: relative;\n",
              "  font-weight: normal;\n",
              "  right: .2ex;\n",
              "  padding: .5ex;\n",
              "  margin: .5ex;\n",
              "  width: min-content;\n",
              "  min-width: 20ex;\n",
              "  max-width: 50ex;\n",
              "  color: var(--sklearn-color-text);\n",
              "  box-shadow: 2pt 2pt 4pt #999;\n",
              "  /* unfitted */\n",
              "  background: var(--sklearn-color-unfitted-level-0);\n",
              "  border: .5pt solid var(--sklearn-color-unfitted-level-3);\n",
              "}\n",
              "\n",
              ".sk-estimator-doc-link.fitted span {\n",
              "  /* fitted */\n",
              "  background: var(--sklearn-color-fitted-level-0);\n",
              "  border: var(--sklearn-color-fitted-level-3);\n",
              "}\n",
              "\n",
              ".sk-estimator-doc-link:hover span {\n",
              "  display: block;\n",
              "}\n",
              "\n",
              "/* \"?\"-specific style due to the `<a>` HTML tag */\n",
              "\n",
              "#sk-container-id-2 a.estimator_doc_link {\n",
              "  float: right;\n",
              "  font-size: 1rem;\n",
              "  line-height: 1em;\n",
              "  font-family: monospace;\n",
              "  background-color: var(--sklearn-color-background);\n",
              "  border-radius: 1rem;\n",
              "  height: 1rem;\n",
              "  width: 1rem;\n",
              "  text-decoration: none;\n",
              "  /* unfitted */\n",
              "  color: var(--sklearn-color-unfitted-level-1);\n",
              "  border: var(--sklearn-color-unfitted-level-1) 1pt solid;\n",
              "}\n",
              "\n",
              "#sk-container-id-2 a.estimator_doc_link.fitted {\n",
              "  /* fitted */\n",
              "  border: var(--sklearn-color-fitted-level-1) 1pt solid;\n",
              "  color: var(--sklearn-color-fitted-level-1);\n",
              "}\n",
              "\n",
              "/* On hover */\n",
              "#sk-container-id-2 a.estimator_doc_link:hover {\n",
              "  /* unfitted */\n",
              "  background-color: var(--sklearn-color-unfitted-level-3);\n",
              "  color: var(--sklearn-color-background);\n",
              "  text-decoration: none;\n",
              "}\n",
              "\n",
              "#sk-container-id-2 a.estimator_doc_link.fitted:hover {\n",
              "  /* fitted */\n",
              "  background-color: var(--sklearn-color-fitted-level-3);\n",
              "}\n",
              "</style><div id=\"sk-container-id-2\" class=\"sk-top-container\"><div class=\"sk-text-repr-fallback\"><pre>GridSearchCV(cv=3, estimator=Ridge(), n_jobs=-1,\n",
              "             param_grid={&#x27;alpha&#x27;: [0.01, 0.1, 0.5, 1]},\n",
              "             scoring=&#x27;neg_root_mean_squared_error&#x27;)</pre><b>In a Jupyter environment, please rerun this cell to show the HTML representation or trust the notebook. <br />On GitHub, the HTML representation is unable to render, please try loading this page with nbviewer.org.</b></div><div class=\"sk-container\" hidden><div class=\"sk-item sk-dashed-wrapped\"><div class=\"sk-label-container\"><div class=\"sk-label fitted sk-toggleable\"><input class=\"sk-toggleable__control sk-hidden--visually\" id=\"sk-estimator-id-4\" type=\"checkbox\" ><label for=\"sk-estimator-id-4\" class=\"sk-toggleable__label fitted sk-toggleable__label-arrow fitted\">&nbsp;&nbsp;GridSearchCV<a class=\"sk-estimator-doc-link fitted\" rel=\"noreferrer\" target=\"_blank\" href=\"https://scikit-learn.org/1.5/modules/generated/sklearn.model_selection.GridSearchCV.html\">?<span>Documentation for GridSearchCV</span></a><span class=\"sk-estimator-doc-link fitted\">i<span>Fitted</span></span></label><div class=\"sk-toggleable__content fitted\"><pre>GridSearchCV(cv=3, estimator=Ridge(), n_jobs=-1,\n",
              "             param_grid={&#x27;alpha&#x27;: [0.01, 0.1, 0.5, 1]},\n",
              "             scoring=&#x27;neg_root_mean_squared_error&#x27;)</pre></div> </div></div><div class=\"sk-parallel\"><div class=\"sk-parallel-item\"><div class=\"sk-item\"><div class=\"sk-label-container\"><div class=\"sk-label fitted sk-toggleable\"><input class=\"sk-toggleable__control sk-hidden--visually\" id=\"sk-estimator-id-5\" type=\"checkbox\" ><label for=\"sk-estimator-id-5\" class=\"sk-toggleable__label fitted sk-toggleable__label-arrow fitted\">best_estimator_: Ridge</label><div class=\"sk-toggleable__content fitted\"><pre>Ridge(alpha=0.5)</pre></div> </div></div><div class=\"sk-serial\"><div class=\"sk-item\"><div class=\"sk-estimator fitted sk-toggleable\"><input class=\"sk-toggleable__control sk-hidden--visually\" id=\"sk-estimator-id-6\" type=\"checkbox\" ><label for=\"sk-estimator-id-6\" class=\"sk-toggleable__label fitted sk-toggleable__label-arrow fitted\">&nbsp;Ridge<a class=\"sk-estimator-doc-link fitted\" rel=\"noreferrer\" target=\"_blank\" href=\"https://scikit-learn.org/1.5/modules/generated/sklearn.linear_model.Ridge.html\">?<span>Documentation for Ridge</span></a></label><div class=\"sk-toggleable__content fitted\"><pre>Ridge(alpha=0.5)</pre></div> </div></div></div></div></div></div></div></div></div>"
            ]
          },
          "metadata": {},
          "execution_count": 48
        }
      ],
      "source": [
        "linear_gs.fit(features_train, target_train)"
      ]
    },
    {
      "cell_type": "code",
      "execution_count": 49,
      "metadata": {
        "id": "A9ZHP6zA-QFq"
      },
      "outputs": [],
      "source": [
        "model = linear_gs.best_estimator_"
      ]
    },
    {
      "cell_type": "code",
      "execution_count": 50,
      "metadata": {
        "id": "Ec7pAJD8-QFq"
      },
      "outputs": [],
      "source": [
        "start = time()\n",
        "\n",
        "model.fit(features_train, target_train)\n",
        "\n",
        "end = time()\n",
        "\n",
        "fit_time = (end-start)/60"
      ]
    },
    {
      "cell_type": "code",
      "execution_count": 51,
      "metadata": {
        "id": "b6ZMdi7L-QFq"
      },
      "outputs": [],
      "source": [
        "start = time()\n",
        "\n",
        "model.predict(features_train)\n",
        "\n",
        "end = time()\n",
        "\n",
        "predict_time = (end-start)/60"
      ]
    },
    {
      "cell_type": "code",
      "execution_count": 52,
      "metadata": {
        "id": "Yle9hCWp-QFr"
      },
      "outputs": [],
      "source": [
        "result_append(linear_gs, fit_time, predict_time)"
      ]
    },
    {
      "cell_type": "markdown",
      "metadata": {
        "id": "1uSBOZsT-QFr"
      },
      "source": [
        "### LightGBM"
      ]
    },
    {
      "cell_type": "code",
      "execution_count": 53,
      "metadata": {
        "id": "yvHdQbKU-QFr"
      },
      "outputs": [],
      "source": [
        "gbm = lgb.LGBMRegressor(num_leaves=31,\n",
        "                        random_state=99)"
      ]
    },
    {
      "cell_type": "code",
      "execution_count": 54,
      "metadata": {
        "id": "T2ELLp5o-QFr"
      },
      "outputs": [],
      "source": [
        "param_grid = {\n",
        "    'learning_rate': [0.01, 0.5],\n",
        "    'n_estimators': [35, 40]\n",
        "}"
      ]
    },
    {
      "cell_type": "code",
      "execution_count": 55,
      "metadata": {
        "id": "To7X-CBZ-QFr"
      },
      "outputs": [],
      "source": [
        "gbm_gs = GridSearchCV(gbm, param_grid, scoring='neg_root_mean_squared_error', n_jobs=-1, cv=3)"
      ]
    },
    {
      "cell_type": "code",
      "execution_count": 56,
      "metadata": {
        "colab": {
          "base_uri": "https://localhost:8080/",
          "height": 222
        },
        "id": "AAWTMB7M-QFr",
        "outputId": "0d91d706-cb1a-4865-85f0-edff07ebd81f"
      },
      "outputs": [
        {
          "output_type": "stream",
          "name": "stdout",
          "text": [
            "[LightGBM] [Info] Auto-choosing col-wise multi-threading, the overhead of testing was 0.044059 seconds.\n",
            "You can set `force_col_wise=true` to remove the overhead.\n",
            "[LightGBM] [Info] Total Bins 947\n",
            "[LightGBM] [Info] Number of data points in the train set: 187586, number of used features: 347\n",
            "[LightGBM] [Info] Start training from score 5926.053543\n"
          ]
        },
        {
          "output_type": "execute_result",
          "data": {
            "text/plain": [
              "GridSearchCV(cv=3, estimator=LGBMRegressor(random_state=99), n_jobs=-1,\n",
              "             param_grid={'learning_rate': [0.01, 0.5],\n",
              "                         'n_estimators': [35, 40]},\n",
              "             scoring='neg_root_mean_squared_error')"
            ],
            "text/html": [
              "<style>#sk-container-id-3 {\n",
              "  /* Definition of color scheme common for light and dark mode */\n",
              "  --sklearn-color-text: black;\n",
              "  --sklearn-color-line: gray;\n",
              "  /* Definition of color scheme for unfitted estimators */\n",
              "  --sklearn-color-unfitted-level-0: #fff5e6;\n",
              "  --sklearn-color-unfitted-level-1: #f6e4d2;\n",
              "  --sklearn-color-unfitted-level-2: #ffe0b3;\n",
              "  --sklearn-color-unfitted-level-3: chocolate;\n",
              "  /* Definition of color scheme for fitted estimators */\n",
              "  --sklearn-color-fitted-level-0: #f0f8ff;\n",
              "  --sklearn-color-fitted-level-1: #d4ebff;\n",
              "  --sklearn-color-fitted-level-2: #b3dbfd;\n",
              "  --sklearn-color-fitted-level-3: cornflowerblue;\n",
              "\n",
              "  /* Specific color for light theme */\n",
              "  --sklearn-color-text-on-default-background: var(--sg-text-color, var(--theme-code-foreground, var(--jp-content-font-color1, black)));\n",
              "  --sklearn-color-background: var(--sg-background-color, var(--theme-background, var(--jp-layout-color0, white)));\n",
              "  --sklearn-color-border-box: var(--sg-text-color, var(--theme-code-foreground, var(--jp-content-font-color1, black)));\n",
              "  --sklearn-color-icon: #696969;\n",
              "\n",
              "  @media (prefers-color-scheme: dark) {\n",
              "    /* Redefinition of color scheme for dark theme */\n",
              "    --sklearn-color-text-on-default-background: var(--sg-text-color, var(--theme-code-foreground, var(--jp-content-font-color1, white)));\n",
              "    --sklearn-color-background: var(--sg-background-color, var(--theme-background, var(--jp-layout-color0, #111)));\n",
              "    --sklearn-color-border-box: var(--sg-text-color, var(--theme-code-foreground, var(--jp-content-font-color1, white)));\n",
              "    --sklearn-color-icon: #878787;\n",
              "  }\n",
              "}\n",
              "\n",
              "#sk-container-id-3 {\n",
              "  color: var(--sklearn-color-text);\n",
              "}\n",
              "\n",
              "#sk-container-id-3 pre {\n",
              "  padding: 0;\n",
              "}\n",
              "\n",
              "#sk-container-id-3 input.sk-hidden--visually {\n",
              "  border: 0;\n",
              "  clip: rect(1px 1px 1px 1px);\n",
              "  clip: rect(1px, 1px, 1px, 1px);\n",
              "  height: 1px;\n",
              "  margin: -1px;\n",
              "  overflow: hidden;\n",
              "  padding: 0;\n",
              "  position: absolute;\n",
              "  width: 1px;\n",
              "}\n",
              "\n",
              "#sk-container-id-3 div.sk-dashed-wrapped {\n",
              "  border: 1px dashed var(--sklearn-color-line);\n",
              "  margin: 0 0.4em 0.5em 0.4em;\n",
              "  box-sizing: border-box;\n",
              "  padding-bottom: 0.4em;\n",
              "  background-color: var(--sklearn-color-background);\n",
              "}\n",
              "\n",
              "#sk-container-id-3 div.sk-container {\n",
              "  /* jupyter's `normalize.less` sets `[hidden] { display: none; }`\n",
              "     but bootstrap.min.css set `[hidden] { display: none !important; }`\n",
              "     so we also need the `!important` here to be able to override the\n",
              "     default hidden behavior on the sphinx rendered scikit-learn.org.\n",
              "     See: https://github.com/scikit-learn/scikit-learn/issues/21755 */\n",
              "  display: inline-block !important;\n",
              "  position: relative;\n",
              "}\n",
              "\n",
              "#sk-container-id-3 div.sk-text-repr-fallback {\n",
              "  display: none;\n",
              "}\n",
              "\n",
              "div.sk-parallel-item,\n",
              "div.sk-serial,\n",
              "div.sk-item {\n",
              "  /* draw centered vertical line to link estimators */\n",
              "  background-image: linear-gradient(var(--sklearn-color-text-on-default-background), var(--sklearn-color-text-on-default-background));\n",
              "  background-size: 2px 100%;\n",
              "  background-repeat: no-repeat;\n",
              "  background-position: center center;\n",
              "}\n",
              "\n",
              "/* Parallel-specific style estimator block */\n",
              "\n",
              "#sk-container-id-3 div.sk-parallel-item::after {\n",
              "  content: \"\";\n",
              "  width: 100%;\n",
              "  border-bottom: 2px solid var(--sklearn-color-text-on-default-background);\n",
              "  flex-grow: 1;\n",
              "}\n",
              "\n",
              "#sk-container-id-3 div.sk-parallel {\n",
              "  display: flex;\n",
              "  align-items: stretch;\n",
              "  justify-content: center;\n",
              "  background-color: var(--sklearn-color-background);\n",
              "  position: relative;\n",
              "}\n",
              "\n",
              "#sk-container-id-3 div.sk-parallel-item {\n",
              "  display: flex;\n",
              "  flex-direction: column;\n",
              "}\n",
              "\n",
              "#sk-container-id-3 div.sk-parallel-item:first-child::after {\n",
              "  align-self: flex-end;\n",
              "  width: 50%;\n",
              "}\n",
              "\n",
              "#sk-container-id-3 div.sk-parallel-item:last-child::after {\n",
              "  align-self: flex-start;\n",
              "  width: 50%;\n",
              "}\n",
              "\n",
              "#sk-container-id-3 div.sk-parallel-item:only-child::after {\n",
              "  width: 0;\n",
              "}\n",
              "\n",
              "/* Serial-specific style estimator block */\n",
              "\n",
              "#sk-container-id-3 div.sk-serial {\n",
              "  display: flex;\n",
              "  flex-direction: column;\n",
              "  align-items: center;\n",
              "  background-color: var(--sklearn-color-background);\n",
              "  padding-right: 1em;\n",
              "  padding-left: 1em;\n",
              "}\n",
              "\n",
              "\n",
              "/* Toggleable style: style used for estimator/Pipeline/ColumnTransformer box that is\n",
              "clickable and can be expanded/collapsed.\n",
              "- Pipeline and ColumnTransformer use this feature and define the default style\n",
              "- Estimators will overwrite some part of the style using the `sk-estimator` class\n",
              "*/\n",
              "\n",
              "/* Pipeline and ColumnTransformer style (default) */\n",
              "\n",
              "#sk-container-id-3 div.sk-toggleable {\n",
              "  /* Default theme specific background. It is overwritten whether we have a\n",
              "  specific estimator or a Pipeline/ColumnTransformer */\n",
              "  background-color: var(--sklearn-color-background);\n",
              "}\n",
              "\n",
              "/* Toggleable label */\n",
              "#sk-container-id-3 label.sk-toggleable__label {\n",
              "  cursor: pointer;\n",
              "  display: block;\n",
              "  width: 100%;\n",
              "  margin-bottom: 0;\n",
              "  padding: 0.5em;\n",
              "  box-sizing: border-box;\n",
              "  text-align: center;\n",
              "}\n",
              "\n",
              "#sk-container-id-3 label.sk-toggleable__label-arrow:before {\n",
              "  /* Arrow on the left of the label */\n",
              "  content: \"▸\";\n",
              "  float: left;\n",
              "  margin-right: 0.25em;\n",
              "  color: var(--sklearn-color-icon);\n",
              "}\n",
              "\n",
              "#sk-container-id-3 label.sk-toggleable__label-arrow:hover:before {\n",
              "  color: var(--sklearn-color-text);\n",
              "}\n",
              "\n",
              "/* Toggleable content - dropdown */\n",
              "\n",
              "#sk-container-id-3 div.sk-toggleable__content {\n",
              "  max-height: 0;\n",
              "  max-width: 0;\n",
              "  overflow: hidden;\n",
              "  text-align: left;\n",
              "  /* unfitted */\n",
              "  background-color: var(--sklearn-color-unfitted-level-0);\n",
              "}\n",
              "\n",
              "#sk-container-id-3 div.sk-toggleable__content.fitted {\n",
              "  /* fitted */\n",
              "  background-color: var(--sklearn-color-fitted-level-0);\n",
              "}\n",
              "\n",
              "#sk-container-id-3 div.sk-toggleable__content pre {\n",
              "  margin: 0.2em;\n",
              "  border-radius: 0.25em;\n",
              "  color: var(--sklearn-color-text);\n",
              "  /* unfitted */\n",
              "  background-color: var(--sklearn-color-unfitted-level-0);\n",
              "}\n",
              "\n",
              "#sk-container-id-3 div.sk-toggleable__content.fitted pre {\n",
              "  /* unfitted */\n",
              "  background-color: var(--sklearn-color-fitted-level-0);\n",
              "}\n",
              "\n",
              "#sk-container-id-3 input.sk-toggleable__control:checked~div.sk-toggleable__content {\n",
              "  /* Expand drop-down */\n",
              "  max-height: 200px;\n",
              "  max-width: 100%;\n",
              "  overflow: auto;\n",
              "}\n",
              "\n",
              "#sk-container-id-3 input.sk-toggleable__control:checked~label.sk-toggleable__label-arrow:before {\n",
              "  content: \"▾\";\n",
              "}\n",
              "\n",
              "/* Pipeline/ColumnTransformer-specific style */\n",
              "\n",
              "#sk-container-id-3 div.sk-label input.sk-toggleable__control:checked~label.sk-toggleable__label {\n",
              "  color: var(--sklearn-color-text);\n",
              "  background-color: var(--sklearn-color-unfitted-level-2);\n",
              "}\n",
              "\n",
              "#sk-container-id-3 div.sk-label.fitted input.sk-toggleable__control:checked~label.sk-toggleable__label {\n",
              "  background-color: var(--sklearn-color-fitted-level-2);\n",
              "}\n",
              "\n",
              "/* Estimator-specific style */\n",
              "\n",
              "/* Colorize estimator box */\n",
              "#sk-container-id-3 div.sk-estimator input.sk-toggleable__control:checked~label.sk-toggleable__label {\n",
              "  /* unfitted */\n",
              "  background-color: var(--sklearn-color-unfitted-level-2);\n",
              "}\n",
              "\n",
              "#sk-container-id-3 div.sk-estimator.fitted input.sk-toggleable__control:checked~label.sk-toggleable__label {\n",
              "  /* fitted */\n",
              "  background-color: var(--sklearn-color-fitted-level-2);\n",
              "}\n",
              "\n",
              "#sk-container-id-3 div.sk-label label.sk-toggleable__label,\n",
              "#sk-container-id-3 div.sk-label label {\n",
              "  /* The background is the default theme color */\n",
              "  color: var(--sklearn-color-text-on-default-background);\n",
              "}\n",
              "\n",
              "/* On hover, darken the color of the background */\n",
              "#sk-container-id-3 div.sk-label:hover label.sk-toggleable__label {\n",
              "  color: var(--sklearn-color-text);\n",
              "  background-color: var(--sklearn-color-unfitted-level-2);\n",
              "}\n",
              "\n",
              "/* Label box, darken color on hover, fitted */\n",
              "#sk-container-id-3 div.sk-label.fitted:hover label.sk-toggleable__label.fitted {\n",
              "  color: var(--sklearn-color-text);\n",
              "  background-color: var(--sklearn-color-fitted-level-2);\n",
              "}\n",
              "\n",
              "/* Estimator label */\n",
              "\n",
              "#sk-container-id-3 div.sk-label label {\n",
              "  font-family: monospace;\n",
              "  font-weight: bold;\n",
              "  display: inline-block;\n",
              "  line-height: 1.2em;\n",
              "}\n",
              "\n",
              "#sk-container-id-3 div.sk-label-container {\n",
              "  text-align: center;\n",
              "}\n",
              "\n",
              "/* Estimator-specific */\n",
              "#sk-container-id-3 div.sk-estimator {\n",
              "  font-family: monospace;\n",
              "  border: 1px dotted var(--sklearn-color-border-box);\n",
              "  border-radius: 0.25em;\n",
              "  box-sizing: border-box;\n",
              "  margin-bottom: 0.5em;\n",
              "  /* unfitted */\n",
              "  background-color: var(--sklearn-color-unfitted-level-0);\n",
              "}\n",
              "\n",
              "#sk-container-id-3 div.sk-estimator.fitted {\n",
              "  /* fitted */\n",
              "  background-color: var(--sklearn-color-fitted-level-0);\n",
              "}\n",
              "\n",
              "/* on hover */\n",
              "#sk-container-id-3 div.sk-estimator:hover {\n",
              "  /* unfitted */\n",
              "  background-color: var(--sklearn-color-unfitted-level-2);\n",
              "}\n",
              "\n",
              "#sk-container-id-3 div.sk-estimator.fitted:hover {\n",
              "  /* fitted */\n",
              "  background-color: var(--sklearn-color-fitted-level-2);\n",
              "}\n",
              "\n",
              "/* Specification for estimator info (e.g. \"i\" and \"?\") */\n",
              "\n",
              "/* Common style for \"i\" and \"?\" */\n",
              "\n",
              ".sk-estimator-doc-link,\n",
              "a:link.sk-estimator-doc-link,\n",
              "a:visited.sk-estimator-doc-link {\n",
              "  float: right;\n",
              "  font-size: smaller;\n",
              "  line-height: 1em;\n",
              "  font-family: monospace;\n",
              "  background-color: var(--sklearn-color-background);\n",
              "  border-radius: 1em;\n",
              "  height: 1em;\n",
              "  width: 1em;\n",
              "  text-decoration: none !important;\n",
              "  margin-left: 1ex;\n",
              "  /* unfitted */\n",
              "  border: var(--sklearn-color-unfitted-level-1) 1pt solid;\n",
              "  color: var(--sklearn-color-unfitted-level-1);\n",
              "}\n",
              "\n",
              ".sk-estimator-doc-link.fitted,\n",
              "a:link.sk-estimator-doc-link.fitted,\n",
              "a:visited.sk-estimator-doc-link.fitted {\n",
              "  /* fitted */\n",
              "  border: var(--sklearn-color-fitted-level-1) 1pt solid;\n",
              "  color: var(--sklearn-color-fitted-level-1);\n",
              "}\n",
              "\n",
              "/* On hover */\n",
              "div.sk-estimator:hover .sk-estimator-doc-link:hover,\n",
              ".sk-estimator-doc-link:hover,\n",
              "div.sk-label-container:hover .sk-estimator-doc-link:hover,\n",
              ".sk-estimator-doc-link:hover {\n",
              "  /* unfitted */\n",
              "  background-color: var(--sklearn-color-unfitted-level-3);\n",
              "  color: var(--sklearn-color-background);\n",
              "  text-decoration: none;\n",
              "}\n",
              "\n",
              "div.sk-estimator.fitted:hover .sk-estimator-doc-link.fitted:hover,\n",
              ".sk-estimator-doc-link.fitted:hover,\n",
              "div.sk-label-container:hover .sk-estimator-doc-link.fitted:hover,\n",
              ".sk-estimator-doc-link.fitted:hover {\n",
              "  /* fitted */\n",
              "  background-color: var(--sklearn-color-fitted-level-3);\n",
              "  color: var(--sklearn-color-background);\n",
              "  text-decoration: none;\n",
              "}\n",
              "\n",
              "/* Span, style for the box shown on hovering the info icon */\n",
              ".sk-estimator-doc-link span {\n",
              "  display: none;\n",
              "  z-index: 9999;\n",
              "  position: relative;\n",
              "  font-weight: normal;\n",
              "  right: .2ex;\n",
              "  padding: .5ex;\n",
              "  margin: .5ex;\n",
              "  width: min-content;\n",
              "  min-width: 20ex;\n",
              "  max-width: 50ex;\n",
              "  color: var(--sklearn-color-text);\n",
              "  box-shadow: 2pt 2pt 4pt #999;\n",
              "  /* unfitted */\n",
              "  background: var(--sklearn-color-unfitted-level-0);\n",
              "  border: .5pt solid var(--sklearn-color-unfitted-level-3);\n",
              "}\n",
              "\n",
              ".sk-estimator-doc-link.fitted span {\n",
              "  /* fitted */\n",
              "  background: var(--sklearn-color-fitted-level-0);\n",
              "  border: var(--sklearn-color-fitted-level-3);\n",
              "}\n",
              "\n",
              ".sk-estimator-doc-link:hover span {\n",
              "  display: block;\n",
              "}\n",
              "\n",
              "/* \"?\"-specific style due to the `<a>` HTML tag */\n",
              "\n",
              "#sk-container-id-3 a.estimator_doc_link {\n",
              "  float: right;\n",
              "  font-size: 1rem;\n",
              "  line-height: 1em;\n",
              "  font-family: monospace;\n",
              "  background-color: var(--sklearn-color-background);\n",
              "  border-radius: 1rem;\n",
              "  height: 1rem;\n",
              "  width: 1rem;\n",
              "  text-decoration: none;\n",
              "  /* unfitted */\n",
              "  color: var(--sklearn-color-unfitted-level-1);\n",
              "  border: var(--sklearn-color-unfitted-level-1) 1pt solid;\n",
              "}\n",
              "\n",
              "#sk-container-id-3 a.estimator_doc_link.fitted {\n",
              "  /* fitted */\n",
              "  border: var(--sklearn-color-fitted-level-1) 1pt solid;\n",
              "  color: var(--sklearn-color-fitted-level-1);\n",
              "}\n",
              "\n",
              "/* On hover */\n",
              "#sk-container-id-3 a.estimator_doc_link:hover {\n",
              "  /* unfitted */\n",
              "  background-color: var(--sklearn-color-unfitted-level-3);\n",
              "  color: var(--sklearn-color-background);\n",
              "  text-decoration: none;\n",
              "}\n",
              "\n",
              "#sk-container-id-3 a.estimator_doc_link.fitted:hover {\n",
              "  /* fitted */\n",
              "  background-color: var(--sklearn-color-fitted-level-3);\n",
              "}\n",
              "</style><div id=\"sk-container-id-3\" class=\"sk-top-container\"><div class=\"sk-text-repr-fallback\"><pre>GridSearchCV(cv=3, estimator=LGBMRegressor(random_state=99), n_jobs=-1,\n",
              "             param_grid={&#x27;learning_rate&#x27;: [0.01, 0.5],\n",
              "                         &#x27;n_estimators&#x27;: [35, 40]},\n",
              "             scoring=&#x27;neg_root_mean_squared_error&#x27;)</pre><b>In a Jupyter environment, please rerun this cell to show the HTML representation or trust the notebook. <br />On GitHub, the HTML representation is unable to render, please try loading this page with nbviewer.org.</b></div><div class=\"sk-container\" hidden><div class=\"sk-item sk-dashed-wrapped\"><div class=\"sk-label-container\"><div class=\"sk-label fitted sk-toggleable\"><input class=\"sk-toggleable__control sk-hidden--visually\" id=\"sk-estimator-id-7\" type=\"checkbox\" ><label for=\"sk-estimator-id-7\" class=\"sk-toggleable__label fitted sk-toggleable__label-arrow fitted\">&nbsp;&nbsp;GridSearchCV<a class=\"sk-estimator-doc-link fitted\" rel=\"noreferrer\" target=\"_blank\" href=\"https://scikit-learn.org/1.5/modules/generated/sklearn.model_selection.GridSearchCV.html\">?<span>Documentation for GridSearchCV</span></a><span class=\"sk-estimator-doc-link fitted\">i<span>Fitted</span></span></label><div class=\"sk-toggleable__content fitted\"><pre>GridSearchCV(cv=3, estimator=LGBMRegressor(random_state=99), n_jobs=-1,\n",
              "             param_grid={&#x27;learning_rate&#x27;: [0.01, 0.5],\n",
              "                         &#x27;n_estimators&#x27;: [35, 40]},\n",
              "             scoring=&#x27;neg_root_mean_squared_error&#x27;)</pre></div> </div></div><div class=\"sk-parallel\"><div class=\"sk-parallel-item\"><div class=\"sk-item\"><div class=\"sk-label-container\"><div class=\"sk-label fitted sk-toggleable\"><input class=\"sk-toggleable__control sk-hidden--visually\" id=\"sk-estimator-id-8\" type=\"checkbox\" ><label for=\"sk-estimator-id-8\" class=\"sk-toggleable__label fitted sk-toggleable__label-arrow fitted\">best_estimator_: LGBMRegressor</label><div class=\"sk-toggleable__content fitted\"><pre>LGBMRegressor(learning_rate=0.5, n_estimators=40, random_state=99)</pre></div> </div></div><div class=\"sk-serial\"><div class=\"sk-item\"><div class=\"sk-estimator fitted sk-toggleable\"><input class=\"sk-toggleable__control sk-hidden--visually\" id=\"sk-estimator-id-9\" type=\"checkbox\" ><label for=\"sk-estimator-id-9\" class=\"sk-toggleable__label fitted sk-toggleable__label-arrow fitted\">LGBMRegressor</label><div class=\"sk-toggleable__content fitted\"><pre>LGBMRegressor(learning_rate=0.5, n_estimators=40, random_state=99)</pre></div> </div></div></div></div></div></div></div></div></div>"
            ]
          },
          "metadata": {},
          "execution_count": 56
        }
      ],
      "source": [
        "gbm_gs.fit(features_train, target_train)"
      ]
    },
    {
      "cell_type": "code",
      "execution_count": 57,
      "metadata": {
        "id": "8HIjp_zf-QFs"
      },
      "outputs": [],
      "source": [
        "model = gbm_gs.best_estimator_"
      ]
    },
    {
      "cell_type": "code",
      "execution_count": 58,
      "metadata": {
        "colab": {
          "base_uri": "https://localhost:8080/"
        },
        "id": "9yA2DZaE-QFs",
        "outputId": "fa98dbbd-b870-4531-9f26-6e6697514e5b"
      },
      "outputs": [
        {
          "output_type": "stream",
          "name": "stdout",
          "text": [
            "[LightGBM] [Info] Auto-choosing row-wise multi-threading, the overhead of testing was 0.012305 seconds.\n",
            "You can set `force_row_wise=true` to remove the overhead.\n",
            "And if memory is not enough, you can set `force_col_wise=true`.\n",
            "[LightGBM] [Info] Total Bins 947\n",
            "[LightGBM] [Info] Number of data points in the train set: 187586, number of used features: 347\n",
            "[LightGBM] [Info] Start training from score 5926.053543\n"
          ]
        }
      ],
      "source": [
        "start = time()\n",
        "\n",
        "model.fit(features_train, target_train)\n",
        "\n",
        "end = time()\n",
        "\n",
        "fit_time = (end-start)/60"
      ]
    },
    {
      "cell_type": "code",
      "execution_count": 59,
      "metadata": {
        "id": "plgBc-OI-QFs"
      },
      "outputs": [],
      "source": [
        "start = time()\n",
        "\n",
        "model.predict(features_train)\n",
        "\n",
        "end = time()\n",
        "\n",
        "predict_time = (end-start)/60"
      ]
    },
    {
      "cell_type": "code",
      "execution_count": 60,
      "metadata": {
        "id": "pYlRJcTW-QFs"
      },
      "outputs": [],
      "source": [
        "result_append(gbm_gs, fit_time, predict_time)"
      ]
    },
    {
      "cell_type": "code",
      "execution_count": 61,
      "metadata": {
        "colab": {
          "base_uri": "https://localhost:8080/",
          "height": 143
        },
        "id": "Guhxk-Hk-QFs",
        "outputId": "24ad14bb-2dfd-4f7c-bb14-5734763a7b72"
      },
      "outputs": [
        {
          "output_type": "execute_result",
          "data": {
            "text/plain": [
              "                     RMSE  fit_time  prediction_time\n",
              "DesicionTree -2748.124535  0.067178         0.006650\n",
              "Ridge        -2178.809689  0.030599         0.006564\n",
              "LightGBM     -1798.082913  0.037889         0.023796"
            ],
            "text/html": [
              "\n",
              "  <div id=\"df-0ca29546-b49e-48c5-81a7-45f256605a36\" class=\"colab-df-container\">\n",
              "    <div>\n",
              "<style scoped>\n",
              "    .dataframe tbody tr th:only-of-type {\n",
              "        vertical-align: middle;\n",
              "    }\n",
              "\n",
              "    .dataframe tbody tr th {\n",
              "        vertical-align: top;\n",
              "    }\n",
              "\n",
              "    .dataframe thead th {\n",
              "        text-align: right;\n",
              "    }\n",
              "</style>\n",
              "<table border=\"1\" class=\"dataframe\">\n",
              "  <thead>\n",
              "    <tr style=\"text-align: right;\">\n",
              "      <th></th>\n",
              "      <th>RMSE</th>\n",
              "      <th>fit_time</th>\n",
              "      <th>prediction_time</th>\n",
              "    </tr>\n",
              "  </thead>\n",
              "  <tbody>\n",
              "    <tr>\n",
              "      <th>DesicionTree</th>\n",
              "      <td>-2748.124535</td>\n",
              "      <td>0.067178</td>\n",
              "      <td>0.006650</td>\n",
              "    </tr>\n",
              "    <tr>\n",
              "      <th>Ridge</th>\n",
              "      <td>-2178.809689</td>\n",
              "      <td>0.030599</td>\n",
              "      <td>0.006564</td>\n",
              "    </tr>\n",
              "    <tr>\n",
              "      <th>LightGBM</th>\n",
              "      <td>-1798.082913</td>\n",
              "      <td>0.037889</td>\n",
              "      <td>0.023796</td>\n",
              "    </tr>\n",
              "  </tbody>\n",
              "</table>\n",
              "</div>\n",
              "    <div class=\"colab-df-buttons\">\n",
              "\n",
              "  <div class=\"colab-df-container\">\n",
              "    <button class=\"colab-df-convert\" onclick=\"convertToInteractive('df-0ca29546-b49e-48c5-81a7-45f256605a36')\"\n",
              "            title=\"Convert this dataframe to an interactive table.\"\n",
              "            style=\"display:none;\">\n",
              "\n",
              "  <svg xmlns=\"http://www.w3.org/2000/svg\" height=\"24px\" viewBox=\"0 -960 960 960\">\n",
              "    <path d=\"M120-120v-720h720v720H120Zm60-500h600v-160H180v160Zm220 220h160v-160H400v160Zm0 220h160v-160H400v160ZM180-400h160v-160H180v160Zm440 0h160v-160H620v160ZM180-180h160v-160H180v160Zm440 0h160v-160H620v160Z\"/>\n",
              "  </svg>\n",
              "    </button>\n",
              "\n",
              "  <style>\n",
              "    .colab-df-container {\n",
              "      display:flex;\n",
              "      gap: 12px;\n",
              "    }\n",
              "\n",
              "    .colab-df-convert {\n",
              "      background-color: #E8F0FE;\n",
              "      border: none;\n",
              "      border-radius: 50%;\n",
              "      cursor: pointer;\n",
              "      display: none;\n",
              "      fill: #1967D2;\n",
              "      height: 32px;\n",
              "      padding: 0 0 0 0;\n",
              "      width: 32px;\n",
              "    }\n",
              "\n",
              "    .colab-df-convert:hover {\n",
              "      background-color: #E2EBFA;\n",
              "      box-shadow: 0px 1px 2px rgba(60, 64, 67, 0.3), 0px 1px 3px 1px rgba(60, 64, 67, 0.15);\n",
              "      fill: #174EA6;\n",
              "    }\n",
              "\n",
              "    .colab-df-buttons div {\n",
              "      margin-bottom: 4px;\n",
              "    }\n",
              "\n",
              "    [theme=dark] .colab-df-convert {\n",
              "      background-color: #3B4455;\n",
              "      fill: #D2E3FC;\n",
              "    }\n",
              "\n",
              "    [theme=dark] .colab-df-convert:hover {\n",
              "      background-color: #434B5C;\n",
              "      box-shadow: 0px 1px 3px 1px rgba(0, 0, 0, 0.15);\n",
              "      filter: drop-shadow(0px 1px 2px rgba(0, 0, 0, 0.3));\n",
              "      fill: #FFFFFF;\n",
              "    }\n",
              "  </style>\n",
              "\n",
              "    <script>\n",
              "      const buttonEl =\n",
              "        document.querySelector('#df-0ca29546-b49e-48c5-81a7-45f256605a36 button.colab-df-convert');\n",
              "      buttonEl.style.display =\n",
              "        google.colab.kernel.accessAllowed ? 'block' : 'none';\n",
              "\n",
              "      async function convertToInteractive(key) {\n",
              "        const element = document.querySelector('#df-0ca29546-b49e-48c5-81a7-45f256605a36');\n",
              "        const dataTable =\n",
              "          await google.colab.kernel.invokeFunction('convertToInteractive',\n",
              "                                                    [key], {});\n",
              "        if (!dataTable) return;\n",
              "\n",
              "        const docLinkHtml = 'Like what you see? Visit the ' +\n",
              "          '<a target=\"_blank\" href=https://colab.research.google.com/notebooks/data_table.ipynb>data table notebook</a>'\n",
              "          + ' to learn more about interactive tables.';\n",
              "        element.innerHTML = '';\n",
              "        dataTable['output_type'] = 'display_data';\n",
              "        await google.colab.output.renderOutput(dataTable, element);\n",
              "        const docLink = document.createElement('div');\n",
              "        docLink.innerHTML = docLinkHtml;\n",
              "        element.appendChild(docLink);\n",
              "      }\n",
              "    </script>\n",
              "  </div>\n",
              "\n",
              "\n",
              "<div id=\"df-6e666dd2-be62-4956-a40d-1d10f5d01052\">\n",
              "  <button class=\"colab-df-quickchart\" onclick=\"quickchart('df-6e666dd2-be62-4956-a40d-1d10f5d01052')\"\n",
              "            title=\"Suggest charts\"\n",
              "            style=\"display:none;\">\n",
              "\n",
              "<svg xmlns=\"http://www.w3.org/2000/svg\" height=\"24px\"viewBox=\"0 0 24 24\"\n",
              "     width=\"24px\">\n",
              "    <g>\n",
              "        <path d=\"M19 3H5c-1.1 0-2 .9-2 2v14c0 1.1.9 2 2 2h14c1.1 0 2-.9 2-2V5c0-1.1-.9-2-2-2zM9 17H7v-7h2v7zm4 0h-2V7h2v10zm4 0h-2v-4h2v4z\"/>\n",
              "    </g>\n",
              "</svg>\n",
              "  </button>\n",
              "\n",
              "<style>\n",
              "  .colab-df-quickchart {\n",
              "      --bg-color: #E8F0FE;\n",
              "      --fill-color: #1967D2;\n",
              "      --hover-bg-color: #E2EBFA;\n",
              "      --hover-fill-color: #174EA6;\n",
              "      --disabled-fill-color: #AAA;\n",
              "      --disabled-bg-color: #DDD;\n",
              "  }\n",
              "\n",
              "  [theme=dark] .colab-df-quickchart {\n",
              "      --bg-color: #3B4455;\n",
              "      --fill-color: #D2E3FC;\n",
              "      --hover-bg-color: #434B5C;\n",
              "      --hover-fill-color: #FFFFFF;\n",
              "      --disabled-bg-color: #3B4455;\n",
              "      --disabled-fill-color: #666;\n",
              "  }\n",
              "\n",
              "  .colab-df-quickchart {\n",
              "    background-color: var(--bg-color);\n",
              "    border: none;\n",
              "    border-radius: 50%;\n",
              "    cursor: pointer;\n",
              "    display: none;\n",
              "    fill: var(--fill-color);\n",
              "    height: 32px;\n",
              "    padding: 0;\n",
              "    width: 32px;\n",
              "  }\n",
              "\n",
              "  .colab-df-quickchart:hover {\n",
              "    background-color: var(--hover-bg-color);\n",
              "    box-shadow: 0 1px 2px rgba(60, 64, 67, 0.3), 0 1px 3px 1px rgba(60, 64, 67, 0.15);\n",
              "    fill: var(--button-hover-fill-color);\n",
              "  }\n",
              "\n",
              "  .colab-df-quickchart-complete:disabled,\n",
              "  .colab-df-quickchart-complete:disabled:hover {\n",
              "    background-color: var(--disabled-bg-color);\n",
              "    fill: var(--disabled-fill-color);\n",
              "    box-shadow: none;\n",
              "  }\n",
              "\n",
              "  .colab-df-spinner {\n",
              "    border: 2px solid var(--fill-color);\n",
              "    border-color: transparent;\n",
              "    border-bottom-color: var(--fill-color);\n",
              "    animation:\n",
              "      spin 1s steps(1) infinite;\n",
              "  }\n",
              "\n",
              "  @keyframes spin {\n",
              "    0% {\n",
              "      border-color: transparent;\n",
              "      border-bottom-color: var(--fill-color);\n",
              "      border-left-color: var(--fill-color);\n",
              "    }\n",
              "    20% {\n",
              "      border-color: transparent;\n",
              "      border-left-color: var(--fill-color);\n",
              "      border-top-color: var(--fill-color);\n",
              "    }\n",
              "    30% {\n",
              "      border-color: transparent;\n",
              "      border-left-color: var(--fill-color);\n",
              "      border-top-color: var(--fill-color);\n",
              "      border-right-color: var(--fill-color);\n",
              "    }\n",
              "    40% {\n",
              "      border-color: transparent;\n",
              "      border-right-color: var(--fill-color);\n",
              "      border-top-color: var(--fill-color);\n",
              "    }\n",
              "    60% {\n",
              "      border-color: transparent;\n",
              "      border-right-color: var(--fill-color);\n",
              "    }\n",
              "    80% {\n",
              "      border-color: transparent;\n",
              "      border-right-color: var(--fill-color);\n",
              "      border-bottom-color: var(--fill-color);\n",
              "    }\n",
              "    90% {\n",
              "      border-color: transparent;\n",
              "      border-bottom-color: var(--fill-color);\n",
              "    }\n",
              "  }\n",
              "</style>\n",
              "\n",
              "  <script>\n",
              "    async function quickchart(key) {\n",
              "      const quickchartButtonEl =\n",
              "        document.querySelector('#' + key + ' button');\n",
              "      quickchartButtonEl.disabled = true;  // To prevent multiple clicks.\n",
              "      quickchartButtonEl.classList.add('colab-df-spinner');\n",
              "      try {\n",
              "        const charts = await google.colab.kernel.invokeFunction(\n",
              "            'suggestCharts', [key], {});\n",
              "      } catch (error) {\n",
              "        console.error('Error during call to suggestCharts:', error);\n",
              "      }\n",
              "      quickchartButtonEl.classList.remove('colab-df-spinner');\n",
              "      quickchartButtonEl.classList.add('colab-df-quickchart-complete');\n",
              "    }\n",
              "    (() => {\n",
              "      let quickchartButtonEl =\n",
              "        document.querySelector('#df-6e666dd2-be62-4956-a40d-1d10f5d01052 button');\n",
              "      quickchartButtonEl.style.display =\n",
              "        google.colab.kernel.accessAllowed ? 'block' : 'none';\n",
              "    })();\n",
              "  </script>\n",
              "</div>\n",
              "    </div>\n",
              "  </div>\n"
            ],
            "application/vnd.google.colaboratory.intrinsic+json": {
              "type": "dataframe",
              "summary": "{\n  \"name\": \"pd\",\n  \"rows\": 3,\n  \"fields\": [\n    {\n      \"column\": \"RMSE\",\n      \"properties\": {\n        \"dtype\": \"number\",\n        \"std\": 478.1302743797931,\n        \"min\": -2748.124535431099,\n        \"max\": -1798.0829133115512,\n        \"num_unique_values\": 3,\n        \"samples\": [\n          -2748.124535431099,\n          -2178.8096894813466,\n          -1798.0829133115512\n        ],\n        \"semantic_type\": \"\",\n        \"description\": \"\"\n      }\n    },\n    {\n      \"column\": \"fit_time\",\n      \"properties\": {\n        \"dtype\": \"number\",\n        \"std\": 0.019360307313621077,\n        \"min\": 0.030599339803059896,\n        \"max\": 0.0671776533126831,\n        \"num_unique_values\": 3,\n        \"samples\": [\n          0.0671776533126831,\n          0.030599339803059896,\n          0.037889190514882404\n        ],\n        \"semantic_type\": \"\",\n        \"description\": \"\"\n      }\n    },\n    {\n      \"column\": \"prediction_time\",\n      \"properties\": {\n        \"dtype\": \"number\",\n        \"std\": 0.009924588834131092,\n        \"min\": 0.00656369129816691,\n        \"max\": 0.023796363671620687,\n        \"num_unique_values\": 3,\n        \"samples\": [\n          0.006649573644002278,\n          0.00656369129816691,\n          0.023796363671620687\n        ],\n        \"semantic_type\": \"\",\n        \"description\": \"\"\n      }\n    }\n  ]\n}"
            }
          },
          "metadata": {},
          "execution_count": 61
        }
      ],
      "source": [
        "pd.DataFrame(result,index=['DesicionTree', 'Ridge', 'LightGBM'])"
      ]
    },
    {
      "cell_type": "markdown",
      "metadata": {
        "id": "RqoVYbw4-QFs"
      },
      "source": [
        "**Вывод по третьему шагу:** обучили три модели: LightGBM, линейную регрессию и дерево решений. Лучшее значение метрики `RMSE` показала модель LightGBM, при этом её время обучения соизмеримо с деревом решений и линейной регрессией. Время предсказания больше в 4 раза. По соотношению времени и качества лучше всего себя показал градиентный бустинг. Поэтому для тестирования и продакшена выберем именно модель LightGBM."
      ]
    },
    {
      "cell_type": "markdown",
      "metadata": {
        "id": "NHt1Y5uH-QFt"
      },
      "source": [
        "## Тестирование модели"
      ]
    },
    {
      "cell_type": "markdown",
      "metadata": {
        "id": "pOqFGWG_-QFt"
      },
      "source": [
        "Выполним проверку модели градиентного бустинга на тестовой выборке."
      ]
    },
    {
      "cell_type": "code",
      "execution_count": 62,
      "metadata": {
        "id": "UJd1bbFf-QFt"
      },
      "outputs": [],
      "source": [
        "gbm_test_pred = model.predict(features_test)"
      ]
    },
    {
      "cell_type": "code",
      "execution_count": 63,
      "metadata": {
        "scrolled": false,
        "colab": {
          "base_uri": "https://localhost:8080/"
        },
        "id": "DrgYXBVN-QFt",
        "outputId": "873aace5-3255-46d4-e318-29c61f8c6c56"
      },
      "outputs": [
        {
          "output_type": "execute_result",
          "data": {
            "text/plain": [
              "1766.9991010283507"
            ]
          },
          "metadata": {},
          "execution_count": 63
        }
      ],
      "source": [
        "gbm_rmse_test = mean_squared_error(target_test, gbm_test_pred) ** 0.5\n",
        "gbm_rmse_test"
      ]
    },
    {
      "cell_type": "markdown",
      "metadata": {
        "id": "XZ6AZh1A-QFt"
      },
      "source": [
        "Зададим константную модель и сравним получившийся результат."
      ]
    },
    {
      "cell_type": "code",
      "execution_count": 64,
      "metadata": {
        "id": "wDjTeBV5-QFt"
      },
      "outputs": [],
      "source": [
        "dummy_regr = DummyRegressor(strategy=\"mean\")\n",
        "dummy_regr.fit(features_train, target_train)\n",
        "dummy_pred = dummy_regr.predict(features_train)"
      ]
    },
    {
      "cell_type": "code",
      "execution_count": 65,
      "metadata": {
        "colab": {
          "base_uri": "https://localhost:8080/"
        },
        "id": "oapBwUc8-QFu",
        "outputId": "a8d63a88-2f0c-437e-f537-20ddc36d6f8c"
      },
      "outputs": [
        {
          "output_type": "execute_result",
          "data": {
            "text/plain": [
              "4595.161479116956"
            ]
          },
          "metadata": {},
          "execution_count": 65
        }
      ],
      "source": [
        "dummy_rmse = mean_squared_error(target_train, dummy_pred) ** 0.5\n",
        "dummy_rmse"
      ]
    },
    {
      "cell_type": "markdown",
      "metadata": {
        "id": "-wWrqzUB-QFu"
      },
      "source": [
        "**Вывод по пятому шагу:** качество модели на тестовой выборке близко к качеству на обучающей выборке, значит пере- или недо- обучения модели не произошло. При этом, если сравнивать получившийся результат с константной моделью, модель градиентного бустинга показывает результат практически в три раза лучше."
      ]
    },
    {
      "cell_type": "markdown",
      "metadata": {
        "id": "wqpGwPyA-QFu"
      },
      "source": [
        "## Общий вывод"
      ]
    },
    {
      "cell_type": "markdown",
      "metadata": {
        "id": "YhngnITZ-QFu"
      },
      "source": [
        "**Общий вывод:** загрузили данные об автомобилях.\n",
        "\n",
        "Представленный датафрейм состоит из 354369 строк и 16 столбцов, 7 из которых имеют тип int64, 9 - object.\n",
        "\n",
        "Уменьшили датафрейм на 8 Мб путем изменения разрядности данных типа `int`. Обнаружили пропуски в колонках `VehicleType`, `Gearbox`, `Model`, `FuelType`, `Repaired`, избавились от них, заполнив наиболее часто встречающимися значениями. После убрали найденные явные дубликаты. Далее провели анализ на предмет аномалий и выбросов и сотавили значения, удовлетворяющие условиям: год регистрации в границах 1900 - 2016, мощность от 10 л.с. до 1600 л.с.(т.к. это максимальная, зафиксированная на данный момент), цена более 1000 евро. Столбцы с количеством фотографий, месяцем постановки на учет, почтовым кодом являются неинформативными, избавились от них.\n",
        "\n",
        "Исключили столбцы `DateCrawled` и `LastSeen`, т.к. они имеют большое количество уникальных значений, что сильно усложнит обучение, и, к тому же, не окажут большого влияние при подсчете целевого признака.\n",
        "\n",
        "Подготовили выборки для обучения и тестирования моделей.\n",
        "\n",
        "Обучили три модели: LightGBM, линейную регрессию и дерево решений. Лучшее значение метрики `RMSE` показала модель LightGBM, при этом её время обучения соизмеримо с деревом решений и линейной регрессией. Время предсказания больше в 4 раза. По соотношению времени и качества лучше всего себя показал градиентный бустинг. Поэтому для тестирования и продакшена выберем именно модель LightGBM.\n",
        "\n",
        "Качество модели на тестовой выборке близко к качеству на обучающей выборке, значит пере- или недо- обучения модели не произошло. При этом, если сравнивать получившийся результат с константной моделью, модель градиентного бустинга показывает результат практически в три раза лучше."
      ]
    },
    {
      "cell_type": "code",
      "source": [],
      "metadata": {
        "id": "NimX3doPIvSD"
      },
      "execution_count": null,
      "outputs": []
    }
  ],
  "metadata": {
    "ExecuteTimeLog": [
      {
        "duration": 442,
        "start_time": "2023-12-25T18:15:04.266Z"
      },
      {
        "duration": 1120,
        "start_time": "2023-12-25T18:15:34.138Z"
      },
      {
        "duration": 175,
        "start_time": "2023-12-25T18:15:54.513Z"
      },
      {
        "duration": 462,
        "start_time": "2023-12-25T18:27:46.852Z"
      },
      {
        "duration": 582,
        "start_time": "2023-12-25T18:29:37.502Z"
      },
      {
        "duration": 100,
        "start_time": "2023-12-25T18:33:40.375Z"
      },
      {
        "duration": 17,
        "start_time": "2023-12-25T18:33:47.906Z"
      },
      {
        "duration": 10,
        "start_time": "2023-12-25T18:33:53.644Z"
      },
      {
        "duration": 73,
        "start_time": "2023-12-25T18:35:42.796Z"
      },
      {
        "duration": 8,
        "start_time": "2023-12-25T18:35:55.927Z"
      },
      {
        "duration": 8,
        "start_time": "2023-12-25T18:38:03.161Z"
      },
      {
        "duration": 4,
        "start_time": "2023-12-25T18:38:21.044Z"
      },
      {
        "duration": 400,
        "start_time": "2023-12-25T18:38:28.202Z"
      },
      {
        "duration": 863,
        "start_time": "2023-12-25T18:38:28.603Z"
      },
      {
        "duration": 168,
        "start_time": "2023-12-25T18:38:29.468Z"
      },
      {
        "duration": 3,
        "start_time": "2023-12-25T18:38:29.638Z"
      },
      {
        "duration": 448,
        "start_time": "2023-12-25T18:38:29.643Z"
      },
      {
        "duration": 18,
        "start_time": "2023-12-25T18:38:48.393Z"
      },
      {
        "duration": 70,
        "start_time": "2023-12-25T18:39:27.755Z"
      },
      {
        "duration": 8,
        "start_time": "2023-12-25T18:41:10.836Z"
      },
      {
        "duration": 8,
        "start_time": "2023-12-25T18:41:33.086Z"
      },
      {
        "duration": 8,
        "start_time": "2023-12-25T18:41:34.101Z"
      },
      {
        "duration": 404,
        "start_time": "2023-12-25T18:41:48.995Z"
      },
      {
        "duration": 905,
        "start_time": "2023-12-25T18:41:49.401Z"
      },
      {
        "duration": 171,
        "start_time": "2023-12-25T18:41:50.308Z"
      },
      {
        "duration": 69,
        "start_time": "2023-12-25T18:41:50.481Z"
      },
      {
        "duration": 0,
        "start_time": "2023-12-25T18:41:50.551Z"
      },
      {
        "duration": 1183,
        "start_time": "2023-12-25T18:41:58.876Z"
      },
      {
        "duration": 7,
        "start_time": "2023-12-25T18:42:10.748Z"
      },
      {
        "duration": 66,
        "start_time": "2023-12-25T18:42:45.812Z"
      },
      {
        "duration": 8,
        "start_time": "2023-12-25T18:42:49.752Z"
      },
      {
        "duration": 398,
        "start_time": "2023-12-25T18:42:56.902Z"
      },
      {
        "duration": 905,
        "start_time": "2023-12-25T18:42:57.302Z"
      },
      {
        "duration": 178,
        "start_time": "2023-12-25T18:42:58.209Z"
      },
      {
        "duration": 63,
        "start_time": "2023-12-25T18:42:58.389Z"
      },
      {
        "duration": 0,
        "start_time": "2023-12-25T18:42:58.454Z"
      },
      {
        "duration": 293,
        "start_time": "2023-12-25T18:43:38.687Z"
      },
      {
        "duration": 39,
        "start_time": "2023-12-25T18:44:41.375Z"
      },
      {
        "duration": 142,
        "start_time": "2023-12-25T18:44:50.288Z"
      },
      {
        "duration": 426,
        "start_time": "2023-12-25T18:45:02.783Z"
      },
      {
        "duration": 919,
        "start_time": "2023-12-25T18:45:03.211Z"
      },
      {
        "duration": 177,
        "start_time": "2023-12-25T18:45:04.132Z"
      },
      {
        "duration": 38,
        "start_time": "2023-12-25T18:45:04.311Z"
      },
      {
        "duration": 160,
        "start_time": "2023-12-25T18:45:04.350Z"
      },
      {
        "duration": 432,
        "start_time": "2023-12-25T18:45:04.512Z"
      },
      {
        "duration": 3,
        "start_time": "2023-12-25T18:45:50.427Z"
      },
      {
        "duration": 71,
        "start_time": "2023-12-25T18:45:56.746Z"
      },
      {
        "duration": 13,
        "start_time": "2023-12-25T18:46:01.574Z"
      },
      {
        "duration": 6,
        "start_time": "2023-12-25T18:46:37.252Z"
      },
      {
        "duration": 5,
        "start_time": "2023-12-25T18:47:09.982Z"
      },
      {
        "duration": 5,
        "start_time": "2023-12-25T18:47:30.326Z"
      },
      {
        "duration": 5,
        "start_time": "2023-12-25T18:47:36.447Z"
      },
      {
        "duration": 6,
        "start_time": "2023-12-25T18:47:38.123Z"
      },
      {
        "duration": 4,
        "start_time": "2023-12-25T18:48:04.716Z"
      },
      {
        "duration": 5,
        "start_time": "2023-12-25T18:48:08.992Z"
      },
      {
        "duration": 1062,
        "start_time": "2023-12-30T14:42:57.875Z"
      },
      {
        "duration": 1097,
        "start_time": "2023-12-30T14:42:58.940Z"
      },
      {
        "duration": 157,
        "start_time": "2023-12-30T14:43:00.039Z"
      },
      {
        "duration": 48,
        "start_time": "2023-12-30T14:43:00.197Z"
      },
      {
        "duration": 8,
        "start_time": "2023-12-30T14:43:00.247Z"
      },
      {
        "duration": 767,
        "start_time": "2023-12-30T14:43:00.256Z"
      },
      {
        "duration": 356,
        "start_time": "2023-12-30T14:43:01.026Z"
      },
      {
        "duration": 3,
        "start_time": "2023-12-30T14:47:57.886Z"
      },
      {
        "duration": 836,
        "start_time": "2023-12-30T14:47:57.891Z"
      },
      {
        "duration": 152,
        "start_time": "2023-12-30T14:47:58.729Z"
      },
      {
        "duration": 23,
        "start_time": "2023-12-30T14:47:58.882Z"
      },
      {
        "duration": 20,
        "start_time": "2023-12-30T14:47:58.906Z"
      },
      {
        "duration": 179,
        "start_time": "2023-12-30T14:47:58.928Z"
      },
      {
        "duration": 15,
        "start_time": "2023-12-30T14:47:59.110Z"
      },
      {
        "duration": 3,
        "start_time": "2023-12-30T14:48:20.227Z"
      },
      {
        "duration": 798,
        "start_time": "2023-12-30T14:48:20.231Z"
      },
      {
        "duration": 156,
        "start_time": "2023-12-30T14:48:21.031Z"
      },
      {
        "duration": 41,
        "start_time": "2023-12-30T14:48:21.189Z"
      },
      {
        "duration": 5,
        "start_time": "2023-12-30T14:48:21.233Z"
      },
      {
        "duration": 144,
        "start_time": "2023-12-30T14:48:21.239Z"
      },
      {
        "duration": 4,
        "start_time": "2023-12-30T14:48:21.384Z"
      },
      {
        "duration": 3,
        "start_time": "2023-12-30T14:48:28.535Z"
      },
      {
        "duration": 815,
        "start_time": "2023-12-30T14:48:28.540Z"
      },
      {
        "duration": 169,
        "start_time": "2023-12-30T14:48:29.357Z"
      },
      {
        "duration": 23,
        "start_time": "2023-12-30T14:48:29.528Z"
      },
      {
        "duration": 5,
        "start_time": "2023-12-30T14:48:29.553Z"
      },
      {
        "duration": 156,
        "start_time": "2023-12-30T14:48:29.559Z"
      },
      {
        "duration": 200,
        "start_time": "2023-12-30T14:48:29.716Z"
      },
      {
        "duration": 19,
        "start_time": "2023-12-30T14:49:21.423Z"
      },
      {
        "duration": 3,
        "start_time": "2023-12-30T14:49:26.474Z"
      },
      {
        "duration": 791,
        "start_time": "2023-12-30T14:49:26.479Z"
      },
      {
        "duration": 156,
        "start_time": "2023-12-30T14:49:27.272Z"
      },
      {
        "duration": 22,
        "start_time": "2023-12-30T14:49:27.429Z"
      },
      {
        "duration": 5,
        "start_time": "2023-12-30T14:49:27.453Z"
      },
      {
        "duration": 188,
        "start_time": "2023-12-30T14:49:27.459Z"
      },
      {
        "duration": 25,
        "start_time": "2023-12-30T14:49:27.649Z"
      },
      {
        "duration": 195,
        "start_time": "2023-12-30T14:49:27.676Z"
      },
      {
        "duration": 3,
        "start_time": "2023-12-30T14:57:55.831Z"
      },
      {
        "duration": 777,
        "start_time": "2023-12-30T14:57:55.837Z"
      },
      {
        "duration": 154,
        "start_time": "2023-12-30T14:57:56.616Z"
      },
      {
        "duration": 22,
        "start_time": "2023-12-30T14:57:56.772Z"
      },
      {
        "duration": 5,
        "start_time": "2023-12-30T14:57:56.796Z"
      },
      {
        "duration": 164,
        "start_time": "2023-12-30T14:57:56.802Z"
      },
      {
        "duration": 207,
        "start_time": "2023-12-30T14:57:56.967Z"
      },
      {
        "duration": 149,
        "start_time": "2023-12-30T14:58:08.220Z"
      },
      {
        "duration": 378,
        "start_time": "2023-12-30T14:59:30.914Z"
      },
      {
        "duration": 392,
        "start_time": "2023-12-30T15:00:14.153Z"
      },
      {
        "duration": 551,
        "start_time": "2023-12-30T15:00:27.734Z"
      },
      {
        "duration": 408,
        "start_time": "2023-12-30T15:00:34.290Z"
      },
      {
        "duration": 121,
        "start_time": "2023-12-30T15:00:56.651Z"
      },
      {
        "duration": 798,
        "start_time": "2023-12-30T15:01:00.912Z"
      },
      {
        "duration": 417,
        "start_time": "2023-12-30T15:05:15.030Z"
      },
      {
        "duration": 86,
        "start_time": "2023-12-30T15:05:58.105Z"
      },
      {
        "duration": 13,
        "start_time": "2023-12-30T15:08:18.865Z"
      },
      {
        "duration": 3,
        "start_time": "2023-12-30T15:08:45.142Z"
      },
      {
        "duration": 770,
        "start_time": "2023-12-30T15:08:49.417Z"
      },
      {
        "duration": 3,
        "start_time": "2023-12-30T15:09:25.659Z"
      },
      {
        "duration": 798,
        "start_time": "2023-12-30T15:09:25.664Z"
      },
      {
        "duration": 159,
        "start_time": "2023-12-30T15:09:26.464Z"
      },
      {
        "duration": 21,
        "start_time": "2023-12-30T15:09:26.625Z"
      },
      {
        "duration": 6,
        "start_time": "2023-12-30T15:09:26.648Z"
      },
      {
        "duration": 243,
        "start_time": "2023-12-30T15:09:26.655Z"
      },
      {
        "duration": 194,
        "start_time": "2023-12-30T15:09:26.899Z"
      },
      {
        "duration": 162,
        "start_time": "2023-12-30T15:09:27.095Z"
      },
      {
        "duration": 380,
        "start_time": "2023-12-30T15:09:27.258Z"
      },
      {
        "duration": 398,
        "start_time": "2023-12-30T15:09:27.639Z"
      },
      {
        "duration": 90,
        "start_time": "2023-12-30T15:09:28.039Z"
      },
      {
        "duration": 738,
        "start_time": "2023-12-30T15:09:28.131Z"
      },
      {
        "duration": 6,
        "start_time": "2023-12-30T15:09:45.843Z"
      },
      {
        "duration": 7,
        "start_time": "2023-12-30T15:10:01.853Z"
      },
      {
        "duration": 925,
        "start_time": "2023-12-30T15:10:07.564Z"
      },
      {
        "duration": 718,
        "start_time": "2023-12-30T15:10:40.104Z"
      },
      {
        "duration": 896,
        "start_time": "2023-12-30T15:10:49.093Z"
      },
      {
        "duration": 860,
        "start_time": "2023-12-30T15:10:54.604Z"
      },
      {
        "duration": 788,
        "start_time": "2023-12-30T15:11:00.355Z"
      },
      {
        "duration": 851,
        "start_time": "2023-12-30T15:11:05.453Z"
      },
      {
        "duration": 685,
        "start_time": "2023-12-30T15:11:12.099Z"
      },
      {
        "duration": 680,
        "start_time": "2023-12-30T15:11:19.222Z"
      },
      {
        "duration": 669,
        "start_time": "2023-12-30T15:11:25.661Z"
      },
      {
        "duration": 1259,
        "start_time": "2023-12-30T15:33:45.469Z"
      },
      {
        "duration": 876,
        "start_time": "2023-12-30T15:33:46.730Z"
      },
      {
        "duration": 163,
        "start_time": "2023-12-30T15:33:47.607Z"
      },
      {
        "duration": 37,
        "start_time": "2023-12-30T15:33:47.771Z"
      },
      {
        "duration": 15,
        "start_time": "2023-12-30T15:33:47.810Z"
      },
      {
        "duration": 180,
        "start_time": "2023-12-30T15:33:47.827Z"
      },
      {
        "duration": 191,
        "start_time": "2023-12-30T15:33:48.008Z"
      },
      {
        "duration": 146,
        "start_time": "2023-12-30T15:33:48.201Z"
      },
      {
        "duration": 419,
        "start_time": "2023-12-30T15:33:48.348Z"
      },
      {
        "duration": 460,
        "start_time": "2023-12-30T15:33:48.768Z"
      },
      {
        "duration": 82,
        "start_time": "2023-12-30T15:33:49.230Z"
      },
      {
        "duration": 676,
        "start_time": "2023-12-30T15:33:49.313Z"
      },
      {
        "duration": 59,
        "start_time": "2023-12-30T15:33:49.990Z"
      },
      {
        "duration": 52,
        "start_time": "2023-12-30T15:35:14.951Z"
      },
      {
        "duration": 764,
        "start_time": "2023-12-30T15:35:22.521Z"
      },
      {
        "duration": 52,
        "start_time": "2023-12-30T15:36:37.424Z"
      },
      {
        "duration": 767,
        "start_time": "2023-12-30T15:36:38.326Z"
      },
      {
        "duration": 72,
        "start_time": "2023-12-30T15:37:17.391Z"
      },
      {
        "duration": 90,
        "start_time": "2023-12-30T18:21:55.248Z"
      },
      {
        "duration": 3419,
        "start_time": "2023-12-30T18:22:14.602Z"
      },
      {
        "duration": 33,
        "start_time": "2023-12-30T18:22:23.309Z"
      },
      {
        "duration": 3787,
        "start_time": "2023-12-30T18:22:31.913Z"
      },
      {
        "duration": 901,
        "start_time": "2023-12-30T18:22:38.546Z"
      },
      {
        "duration": 3,
        "start_time": "2023-12-30T18:23:43.500Z"
      },
      {
        "duration": 2411,
        "start_time": "2023-12-30T18:26:24.283Z"
      },
      {
        "duration": 2182,
        "start_time": "2023-12-30T18:26:26.697Z"
      },
      {
        "duration": 828,
        "start_time": "2023-12-30T18:26:28.881Z"
      },
      {
        "duration": 157,
        "start_time": "2023-12-30T18:26:29.710Z"
      },
      {
        "duration": 23,
        "start_time": "2023-12-30T18:26:29.868Z"
      },
      {
        "duration": 102,
        "start_time": "2023-12-30T18:26:29.893Z"
      },
      {
        "duration": 196,
        "start_time": "2023-12-30T18:26:29.996Z"
      },
      {
        "duration": 194,
        "start_time": "2023-12-30T18:26:30.193Z"
      },
      {
        "duration": 144,
        "start_time": "2023-12-30T18:26:30.388Z"
      },
      {
        "duration": 523,
        "start_time": "2023-12-30T18:26:30.534Z"
      },
      {
        "duration": 471,
        "start_time": "2023-12-30T18:26:31.058Z"
      },
      {
        "duration": 85,
        "start_time": "2023-12-30T18:26:31.530Z"
      },
      {
        "duration": 788,
        "start_time": "2023-12-30T18:26:31.622Z"
      },
      {
        "duration": 93,
        "start_time": "2023-12-30T18:26:32.411Z"
      },
      {
        "duration": 8357,
        "start_time": "2023-12-30T18:26:32.506Z"
      },
      {
        "duration": 20,
        "start_time": "2023-12-30T18:27:00.290Z"
      },
      {
        "duration": 9233,
        "start_time": "2023-12-30T18:27:03.992Z"
      },
      {
        "duration": 1247,
        "start_time": "2023-12-30T19:30:48.442Z"
      },
      {
        "duration": 170,
        "start_time": "2023-12-30T19:31:03.108Z"
      },
      {
        "duration": 204,
        "start_time": "2023-12-30T19:31:34.266Z"
      },
      {
        "duration": 17,
        "start_time": "2023-12-30T19:34:06.819Z"
      },
      {
        "duration": 9456,
        "start_time": "2023-12-30T19:34:14.958Z"
      },
      {
        "duration": 16,
        "start_time": "2023-12-30T19:38:27.755Z"
      },
      {
        "duration": 6,
        "start_time": "2023-12-30T19:43:35.230Z"
      },
      {
        "duration": 13,
        "start_time": "2023-12-30T19:45:03.143Z"
      },
      {
        "duration": 17,
        "start_time": "2023-12-30T19:46:48.573Z"
      },
      {
        "duration": 58,
        "start_time": "2023-12-30T19:47:53.759Z"
      },
      {
        "duration": 4446,
        "start_time": "2023-12-31T09:20:17.239Z"
      },
      {
        "duration": 2302,
        "start_time": "2023-12-31T09:20:21.687Z"
      },
      {
        "duration": 1043,
        "start_time": "2023-12-31T09:20:23.990Z"
      },
      {
        "duration": 147,
        "start_time": "2023-12-31T09:20:25.035Z"
      },
      {
        "duration": 24,
        "start_time": "2023-12-31T09:20:25.184Z"
      },
      {
        "duration": 6,
        "start_time": "2023-12-31T09:20:25.210Z"
      },
      {
        "duration": 272,
        "start_time": "2023-12-31T09:20:25.217Z"
      },
      {
        "duration": 176,
        "start_time": "2023-12-31T09:20:25.491Z"
      },
      {
        "duration": 149,
        "start_time": "2023-12-31T09:20:25.674Z"
      },
      {
        "duration": 385,
        "start_time": "2023-12-31T09:20:25.825Z"
      },
      {
        "duration": 402,
        "start_time": "2023-12-31T09:20:26.211Z"
      },
      {
        "duration": 75,
        "start_time": "2023-12-31T09:20:26.615Z"
      },
      {
        "duration": 622,
        "start_time": "2023-12-31T09:20:26.691Z"
      },
      {
        "duration": 83,
        "start_time": "2023-12-31T09:20:27.315Z"
      },
      {
        "duration": 192,
        "start_time": "2023-12-31T09:20:27.400Z"
      },
      {
        "duration": 26,
        "start_time": "2023-12-31T09:20:27.593Z"
      },
      {
        "duration": 9080,
        "start_time": "2023-12-31T09:20:27.620Z"
      },
      {
        "duration": 15,
        "start_time": "2023-12-31T09:20:36.701Z"
      },
      {
        "duration": 12,
        "start_time": "2023-12-31T09:20:36.718Z"
      },
      {
        "duration": 15,
        "start_time": "2023-12-31T09:20:36.732Z"
      },
      {
        "duration": 157,
        "start_time": "2023-12-31T09:20:36.749Z"
      },
      {
        "duration": 0,
        "start_time": "2023-12-31T09:20:36.908Z"
      },
      {
        "duration": 0,
        "start_time": "2023-12-31T09:20:36.909Z"
      },
      {
        "duration": 4,
        "start_time": "2023-12-31T09:20:51.619Z"
      },
      {
        "duration": 3,
        "start_time": "2023-12-31T09:20:53.408Z"
      },
      {
        "duration": 3,
        "start_time": "2023-12-31T09:24:52.209Z"
      },
      {
        "duration": 11,
        "start_time": "2023-12-31T09:26:28.982Z"
      },
      {
        "duration": 2,
        "start_time": "2023-12-31T09:26:33.320Z"
      },
      {
        "duration": 2,
        "start_time": "2023-12-31T09:26:49.710Z"
      },
      {
        "duration": 12,
        "start_time": "2023-12-31T09:31:10.198Z"
      },
      {
        "duration": 2,
        "start_time": "2023-12-31T09:34:11.229Z"
      },
      {
        "duration": 2,
        "start_time": "2023-12-31T09:34:13.214Z"
      },
      {
        "duration": 2,
        "start_time": "2023-12-31T09:34:24.504Z"
      },
      {
        "duration": 88,
        "start_time": "2023-12-31T09:34:46.067Z"
      },
      {
        "duration": 51,
        "start_time": "2023-12-31T09:34:52.100Z"
      },
      {
        "duration": 116,
        "start_time": "2023-12-31T09:34:54.443Z"
      },
      {
        "duration": 14,
        "start_time": "2023-12-31T09:35:25.522Z"
      },
      {
        "duration": 4,
        "start_time": "2023-12-31T09:35:30.440Z"
      },
      {
        "duration": 2348,
        "start_time": "2023-12-31T09:37:54.036Z"
      },
      {
        "duration": 4,
        "start_time": "2023-12-31T09:37:56.386Z"
      },
      {
        "duration": 786,
        "start_time": "2023-12-31T09:37:56.391Z"
      },
      {
        "duration": 150,
        "start_time": "2023-12-31T09:37:57.178Z"
      },
      {
        "duration": 35,
        "start_time": "2023-12-31T09:37:57.330Z"
      },
      {
        "duration": 6,
        "start_time": "2023-12-31T09:37:57.367Z"
      },
      {
        "duration": 158,
        "start_time": "2023-12-31T09:37:57.375Z"
      },
      {
        "duration": 182,
        "start_time": "2023-12-31T09:37:57.535Z"
      },
      {
        "duration": 147,
        "start_time": "2023-12-31T09:37:57.719Z"
      },
      {
        "duration": 366,
        "start_time": "2023-12-31T09:37:57.868Z"
      },
      {
        "duration": 378,
        "start_time": "2023-12-31T09:37:58.235Z"
      },
      {
        "duration": 92,
        "start_time": "2023-12-31T09:37:58.614Z"
      },
      {
        "duration": 652,
        "start_time": "2023-12-31T09:37:58.708Z"
      },
      {
        "duration": 65,
        "start_time": "2023-12-31T09:37:59.364Z"
      },
      {
        "duration": 220,
        "start_time": "2023-12-31T09:37:59.431Z"
      },
      {
        "duration": 22,
        "start_time": "2023-12-31T09:37:59.653Z"
      },
      {
        "duration": 9361,
        "start_time": "2023-12-31T09:37:59.676Z"
      },
      {
        "duration": 30,
        "start_time": "2023-12-31T09:38:09.039Z"
      },
      {
        "duration": 19,
        "start_time": "2023-12-31T09:38:09.071Z"
      },
      {
        "duration": 24,
        "start_time": "2023-12-31T09:38:09.092Z"
      },
      {
        "duration": 3,
        "start_time": "2023-12-31T09:38:09.118Z"
      },
      {
        "duration": 4,
        "start_time": "2023-12-31T09:38:09.123Z"
      },
      {
        "duration": 80,
        "start_time": "2023-12-31T09:38:09.128Z"
      },
      {
        "duration": 4,
        "start_time": "2023-12-31T09:38:09.209Z"
      },
      {
        "duration": 4,
        "start_time": "2023-12-31T09:38:09.214Z"
      },
      {
        "duration": 4,
        "start_time": "2023-12-31T09:38:09.219Z"
      },
      {
        "duration": 7,
        "start_time": "2023-12-31T09:38:09.225Z"
      },
      {
        "duration": 133,
        "start_time": "2023-12-31T09:38:09.234Z"
      },
      {
        "duration": 2326,
        "start_time": "2023-12-31T09:41:47.749Z"
      },
      {
        "duration": 2176,
        "start_time": "2023-12-31T09:41:50.077Z"
      },
      {
        "duration": 783,
        "start_time": "2023-12-31T09:41:52.254Z"
      },
      {
        "duration": 150,
        "start_time": "2023-12-31T09:41:53.039Z"
      },
      {
        "duration": 24,
        "start_time": "2023-12-31T09:41:53.190Z"
      },
      {
        "duration": 6,
        "start_time": "2023-12-31T09:41:53.216Z"
      },
      {
        "duration": 289,
        "start_time": "2023-12-31T09:41:53.223Z"
      },
      {
        "duration": 182,
        "start_time": "2023-12-31T09:41:53.513Z"
      },
      {
        "duration": 146,
        "start_time": "2023-12-31T09:41:53.696Z"
      },
      {
        "duration": 377,
        "start_time": "2023-12-31T09:41:53.844Z"
      },
      {
        "duration": 433,
        "start_time": "2023-12-31T09:41:54.223Z"
      },
      {
        "duration": 77,
        "start_time": "2023-12-31T09:41:54.657Z"
      },
      {
        "duration": 616,
        "start_time": "2023-12-31T09:41:54.735Z"
      },
      {
        "duration": 88,
        "start_time": "2023-12-31T09:41:55.353Z"
      },
      {
        "duration": 213,
        "start_time": "2023-12-31T09:41:55.443Z"
      },
      {
        "duration": 26,
        "start_time": "2023-12-31T09:41:55.657Z"
      },
      {
        "duration": 8983,
        "start_time": "2023-12-31T09:41:55.685Z"
      },
      {
        "duration": 16,
        "start_time": "2023-12-31T09:42:04.669Z"
      },
      {
        "duration": 26,
        "start_time": "2023-12-31T09:42:04.686Z"
      },
      {
        "duration": 16,
        "start_time": "2023-12-31T09:42:04.713Z"
      },
      {
        "duration": 62,
        "start_time": "2023-12-31T09:42:04.730Z"
      },
      {
        "duration": 4,
        "start_time": "2023-12-31T09:42:04.794Z"
      },
      {
        "duration": 6,
        "start_time": "2023-12-31T09:42:04.801Z"
      },
      {
        "duration": 3,
        "start_time": "2023-12-31T09:42:04.809Z"
      },
      {
        "duration": 3,
        "start_time": "2023-12-31T09:42:04.813Z"
      },
      {
        "duration": 3,
        "start_time": "2023-12-31T09:42:04.818Z"
      },
      {
        "duration": 3,
        "start_time": "2023-12-31T09:42:04.822Z"
      },
      {
        "duration": 271,
        "start_time": "2023-12-31T09:42:04.828Z"
      },
      {
        "duration": 42,
        "start_time": "2023-12-31T09:42:13.952Z"
      },
      {
        "duration": 3,
        "start_time": "2023-12-31T09:42:37.870Z"
      },
      {
        "duration": 109,
        "start_time": "2023-12-31T09:42:39.327Z"
      },
      {
        "duration": 3,
        "start_time": "2023-12-31T09:42:44.313Z"
      },
      {
        "duration": 150,
        "start_time": "2023-12-31T09:42:45.616Z"
      },
      {
        "duration": 2,
        "start_time": "2023-12-31T09:43:43.151Z"
      },
      {
        "duration": 13,
        "start_time": "2023-12-31T09:43:44.180Z"
      },
      {
        "duration": 3,
        "start_time": "2023-12-31T09:44:03.829Z"
      },
      {
        "duration": 3,
        "start_time": "2023-12-31T09:44:05.214Z"
      },
      {
        "duration": 121,
        "start_time": "2023-12-31T09:44:06.872Z"
      },
      {
        "duration": 3,
        "start_time": "2023-12-31T09:45:06.134Z"
      },
      {
        "duration": 2,
        "start_time": "2023-12-31T09:45:55.743Z"
      },
      {
        "duration": 3,
        "start_time": "2023-12-31T09:45:56.552Z"
      },
      {
        "duration": 3,
        "start_time": "2023-12-31T09:45:57.729Z"
      },
      {
        "duration": 2,
        "start_time": "2023-12-31T09:45:59.088Z"
      },
      {
        "duration": 122,
        "start_time": "2023-12-31T09:46:00.549Z"
      },
      {
        "duration": 3,
        "start_time": "2023-12-31T09:47:46.312Z"
      },
      {
        "duration": 3,
        "start_time": "2023-12-31T09:49:16.493Z"
      },
      {
        "duration": 3,
        "start_time": "2023-12-31T09:49:17.370Z"
      },
      {
        "duration": 3,
        "start_time": "2023-12-31T09:49:18.267Z"
      },
      {
        "duration": 3,
        "start_time": "2023-12-31T09:49:19.619Z"
      },
      {
        "duration": 77,
        "start_time": "2023-12-31T09:49:20.671Z"
      },
      {
        "duration": 36191,
        "start_time": "2023-12-31T09:49:29.728Z"
      },
      {
        "duration": 16,
        "start_time": "2023-12-31T09:50:37.581Z"
      },
      {
        "duration": 15,
        "start_time": "2023-12-31T09:50:47.075Z"
      },
      {
        "duration": 5,
        "start_time": "2023-12-31T09:50:52.433Z"
      },
      {
        "duration": 4,
        "start_time": "2023-12-31T09:51:00.396Z"
      },
      {
        "duration": 4,
        "start_time": "2023-12-31T09:51:15.405Z"
      },
      {
        "duration": 5,
        "start_time": "2023-12-31T09:51:23.174Z"
      },
      {
        "duration": 10,
        "start_time": "2023-12-31T09:51:28.988Z"
      },
      {
        "duration": 3,
        "start_time": "2023-12-31T09:52:36.898Z"
      },
      {
        "duration": 2,
        "start_time": "2023-12-31T09:52:42.342Z"
      },
      {
        "duration": 3,
        "start_time": "2023-12-31T09:52:51.073Z"
      },
      {
        "duration": 2523,
        "start_time": "2023-12-31T09:53:02.894Z"
      },
      {
        "duration": 16,
        "start_time": "2023-12-31T09:53:52.071Z"
      },
      {
        "duration": 18,
        "start_time": "2023-12-31T09:54:08.849Z"
      },
      {
        "duration": 2305,
        "start_time": "2023-12-31T09:55:37.544Z"
      },
      {
        "duration": 2174,
        "start_time": "2023-12-31T09:55:39.851Z"
      },
      {
        "duration": 813,
        "start_time": "2023-12-31T09:55:42.027Z"
      },
      {
        "duration": 151,
        "start_time": "2023-12-31T09:55:42.842Z"
      },
      {
        "duration": 24,
        "start_time": "2023-12-31T09:55:42.994Z"
      },
      {
        "duration": 6,
        "start_time": "2023-12-31T09:55:43.019Z"
      },
      {
        "duration": 293,
        "start_time": "2023-12-31T09:55:43.026Z"
      },
      {
        "duration": 193,
        "start_time": "2023-12-31T09:55:43.321Z"
      },
      {
        "duration": 139,
        "start_time": "2023-12-31T09:55:43.515Z"
      },
      {
        "duration": 399,
        "start_time": "2023-12-31T09:55:43.667Z"
      },
      {
        "duration": 452,
        "start_time": "2023-12-31T09:55:44.067Z"
      },
      {
        "duration": 84,
        "start_time": "2023-12-31T09:55:44.521Z"
      },
      {
        "duration": 659,
        "start_time": "2023-12-31T09:55:44.606Z"
      },
      {
        "duration": 80,
        "start_time": "2023-12-31T09:55:45.267Z"
      },
      {
        "duration": 215,
        "start_time": "2023-12-31T09:55:45.348Z"
      },
      {
        "duration": 23,
        "start_time": "2023-12-31T09:55:45.565Z"
      },
      {
        "duration": 6327,
        "start_time": "2023-12-31T09:55:45.589Z"
      },
      {
        "duration": 12,
        "start_time": "2023-12-31T09:55:51.918Z"
      },
      {
        "duration": 15,
        "start_time": "2023-12-31T09:55:51.932Z"
      },
      {
        "duration": 11,
        "start_time": "2023-12-31T09:55:51.948Z"
      },
      {
        "duration": 14,
        "start_time": "2023-12-31T09:55:51.961Z"
      },
      {
        "duration": 46,
        "start_time": "2023-12-31T09:55:51.976Z"
      },
      {
        "duration": 3,
        "start_time": "2023-12-31T09:55:52.024Z"
      },
      {
        "duration": 14,
        "start_time": "2023-12-31T09:55:52.028Z"
      },
      {
        "duration": 6,
        "start_time": "2023-12-31T09:55:52.043Z"
      },
      {
        "duration": 4,
        "start_time": "2023-12-31T09:55:52.050Z"
      },
      {
        "duration": 3,
        "start_time": "2023-12-31T09:55:52.065Z"
      },
      {
        "duration": 6,
        "start_time": "2023-12-31T09:55:52.070Z"
      },
      {
        "duration": 31386,
        "start_time": "2023-12-31T09:55:52.078Z"
      },
      {
        "duration": 3,
        "start_time": "2023-12-31T09:56:23.465Z"
      },
      {
        "duration": 7,
        "start_time": "2023-12-31T09:56:23.469Z"
      },
      {
        "duration": 2283,
        "start_time": "2023-12-31T09:56:23.477Z"
      },
      {
        "duration": 16,
        "start_time": "2023-12-31T09:58:29.969Z"
      },
      {
        "duration": 4,
        "start_time": "2023-12-31T10:00:27.588Z"
      },
      {
        "duration": 4,
        "start_time": "2023-12-31T10:01:02.704Z"
      },
      {
        "duration": 2287,
        "start_time": "2023-12-31T10:01:13.397Z"
      },
      {
        "duration": 4,
        "start_time": "2023-12-31T10:01:15.686Z"
      },
      {
        "duration": 788,
        "start_time": "2023-12-31T10:01:15.692Z"
      },
      {
        "duration": 143,
        "start_time": "2023-12-31T10:01:16.482Z"
      },
      {
        "duration": 20,
        "start_time": "2023-12-31T10:01:16.627Z"
      },
      {
        "duration": 19,
        "start_time": "2023-12-31T10:01:16.648Z"
      },
      {
        "duration": 145,
        "start_time": "2023-12-31T10:01:16.669Z"
      },
      {
        "duration": 174,
        "start_time": "2023-12-31T10:01:16.815Z"
      },
      {
        "duration": 134,
        "start_time": "2023-12-31T10:01:16.991Z"
      },
      {
        "duration": 379,
        "start_time": "2023-12-31T10:01:17.128Z"
      },
      {
        "duration": 389,
        "start_time": "2023-12-31T10:01:17.508Z"
      },
      {
        "duration": 79,
        "start_time": "2023-12-31T10:01:17.898Z"
      },
      {
        "duration": 655,
        "start_time": "2023-12-31T10:01:17.978Z"
      },
      {
        "duration": 72,
        "start_time": "2023-12-31T10:01:18.635Z"
      },
      {
        "duration": 214,
        "start_time": "2023-12-31T10:01:18.709Z"
      },
      {
        "duration": 23,
        "start_time": "2023-12-31T10:01:18.925Z"
      },
      {
        "duration": 6419,
        "start_time": "2023-12-31T10:01:18.950Z"
      },
      {
        "duration": 13,
        "start_time": "2023-12-31T10:01:25.370Z"
      },
      {
        "duration": 15,
        "start_time": "2023-12-31T10:01:25.385Z"
      },
      {
        "duration": 16,
        "start_time": "2023-12-31T10:01:25.402Z"
      },
      {
        "duration": 4,
        "start_time": "2023-12-31T10:01:25.419Z"
      },
      {
        "duration": 4,
        "start_time": "2023-12-31T10:01:25.424Z"
      },
      {
        "duration": 73,
        "start_time": "2023-12-31T10:01:25.430Z"
      },
      {
        "duration": 4,
        "start_time": "2023-12-31T10:01:25.504Z"
      },
      {
        "duration": 17,
        "start_time": "2023-12-31T10:01:25.509Z"
      },
      {
        "duration": 11,
        "start_time": "2023-12-31T10:01:25.528Z"
      },
      {
        "duration": 6,
        "start_time": "2023-12-31T10:01:25.540Z"
      },
      {
        "duration": 3,
        "start_time": "2023-12-31T10:01:25.549Z"
      },
      {
        "duration": 4,
        "start_time": "2023-12-31T10:01:25.553Z"
      },
      {
        "duration": 73679,
        "start_time": "2023-12-31T10:01:25.558Z"
      },
      {
        "duration": 3,
        "start_time": "2023-12-31T10:02:39.239Z"
      },
      {
        "duration": 3,
        "start_time": "2023-12-31T10:02:39.243Z"
      },
      {
        "duration": 2300,
        "start_time": "2023-12-31T10:02:39.248Z"
      },
      {
        "duration": 2374,
        "start_time": "2023-12-31T10:04:57.061Z"
      },
      {
        "duration": 4,
        "start_time": "2023-12-31T10:04:59.438Z"
      },
      {
        "duration": 767,
        "start_time": "2023-12-31T10:04:59.443Z"
      },
      {
        "duration": 154,
        "start_time": "2023-12-31T10:05:00.212Z"
      },
      {
        "duration": 35,
        "start_time": "2023-12-31T10:05:00.368Z"
      },
      {
        "duration": 6,
        "start_time": "2023-12-31T10:05:00.404Z"
      },
      {
        "duration": 166,
        "start_time": "2023-12-31T10:05:00.411Z"
      },
      {
        "duration": 215,
        "start_time": "2023-12-31T10:05:00.578Z"
      },
      {
        "duration": 137,
        "start_time": "2023-12-31T10:05:00.795Z"
      },
      {
        "duration": 413,
        "start_time": "2023-12-31T10:05:00.934Z"
      },
      {
        "duration": 401,
        "start_time": "2023-12-31T10:05:01.349Z"
      },
      {
        "duration": 86,
        "start_time": "2023-12-31T10:05:01.752Z"
      },
      {
        "duration": 681,
        "start_time": "2023-12-31T10:05:01.840Z"
      },
      {
        "duration": 75,
        "start_time": "2023-12-31T10:05:02.523Z"
      },
      {
        "duration": 205,
        "start_time": "2023-12-31T10:05:02.599Z"
      },
      {
        "duration": 20,
        "start_time": "2023-12-31T10:05:02.806Z"
      },
      {
        "duration": 6520,
        "start_time": "2023-12-31T10:05:02.827Z"
      },
      {
        "duration": 21,
        "start_time": "2023-12-31T10:05:09.349Z"
      },
      {
        "duration": 16,
        "start_time": "2023-12-31T10:05:09.372Z"
      },
      {
        "duration": 3,
        "start_time": "2023-12-31T10:05:09.390Z"
      },
      {
        "duration": 80,
        "start_time": "2023-12-31T10:05:09.395Z"
      },
      {
        "duration": 4,
        "start_time": "2023-12-31T10:05:09.477Z"
      },
      {
        "duration": 14,
        "start_time": "2023-12-31T10:05:09.483Z"
      },
      {
        "duration": 10,
        "start_time": "2023-12-31T10:05:09.498Z"
      },
      {
        "duration": 4,
        "start_time": "2023-12-31T10:05:09.509Z"
      },
      {
        "duration": 4,
        "start_time": "2023-12-31T10:05:09.515Z"
      },
      {
        "duration": 18,
        "start_time": "2023-12-31T10:05:09.520Z"
      },
      {
        "duration": 74713,
        "start_time": "2023-12-31T10:05:09.539Z"
      },
      {
        "duration": 2,
        "start_time": "2023-12-31T10:06:24.253Z"
      },
      {
        "duration": 4,
        "start_time": "2023-12-31T10:06:24.257Z"
      },
      {
        "duration": 2309,
        "start_time": "2023-12-31T10:06:24.262Z"
      },
      {
        "duration": 2377,
        "start_time": "2023-12-31T10:09:20.312Z"
      },
      {
        "duration": 5,
        "start_time": "2023-12-31T10:09:22.690Z"
      },
      {
        "duration": 789,
        "start_time": "2023-12-31T10:09:22.696Z"
      },
      {
        "duration": 146,
        "start_time": "2023-12-31T10:09:23.487Z"
      },
      {
        "duration": 36,
        "start_time": "2023-12-31T10:09:23.634Z"
      },
      {
        "duration": 5,
        "start_time": "2023-12-31T10:09:23.672Z"
      },
      {
        "duration": 143,
        "start_time": "2023-12-31T10:09:23.678Z"
      },
      {
        "duration": 188,
        "start_time": "2023-12-31T10:09:23.822Z"
      },
      {
        "duration": 130,
        "start_time": "2023-12-31T10:09:24.012Z"
      },
      {
        "duration": 364,
        "start_time": "2023-12-31T10:09:24.144Z"
      },
      {
        "duration": 363,
        "start_time": "2023-12-31T10:09:24.510Z"
      },
      {
        "duration": 76,
        "start_time": "2023-12-31T10:09:24.874Z"
      },
      {
        "duration": 642,
        "start_time": "2023-12-31T10:09:24.952Z"
      },
      {
        "duration": 81,
        "start_time": "2023-12-31T10:09:25.595Z"
      },
      {
        "duration": 205,
        "start_time": "2023-12-31T10:09:25.677Z"
      },
      {
        "duration": 20,
        "start_time": "2023-12-31T10:09:25.883Z"
      },
      {
        "duration": 6573,
        "start_time": "2023-12-31T10:09:25.904Z"
      },
      {
        "duration": 18,
        "start_time": "2023-12-31T10:09:32.479Z"
      },
      {
        "duration": 23,
        "start_time": "2023-12-31T10:09:32.498Z"
      },
      {
        "duration": 3,
        "start_time": "2023-12-31T10:09:32.523Z"
      },
      {
        "duration": 74,
        "start_time": "2023-12-31T10:09:32.528Z"
      },
      {
        "duration": 3,
        "start_time": "2023-12-31T10:09:32.604Z"
      },
      {
        "duration": 17,
        "start_time": "2023-12-31T10:09:32.608Z"
      },
      {
        "duration": 5,
        "start_time": "2023-12-31T10:09:32.626Z"
      },
      {
        "duration": 4,
        "start_time": "2023-12-31T10:09:32.632Z"
      },
      {
        "duration": 3,
        "start_time": "2023-12-31T10:09:32.637Z"
      },
      {
        "duration": 3,
        "start_time": "2023-12-31T10:09:32.642Z"
      },
      {
        "duration": 2288,
        "start_time": "2023-12-31T10:09:56.163Z"
      },
      {
        "duration": 2668,
        "start_time": "2023-12-31T10:09:58.453Z"
      },
      {
        "duration": 1053,
        "start_time": "2023-12-31T10:10:01.123Z"
      },
      {
        "duration": 144,
        "start_time": "2023-12-31T10:10:02.178Z"
      },
      {
        "duration": 24,
        "start_time": "2023-12-31T10:10:02.323Z"
      },
      {
        "duration": 5,
        "start_time": "2023-12-31T10:10:02.348Z"
      },
      {
        "duration": 260,
        "start_time": "2023-12-31T10:10:02.365Z"
      },
      {
        "duration": 177,
        "start_time": "2023-12-31T10:10:02.627Z"
      },
      {
        "duration": 133,
        "start_time": "2023-12-31T10:10:02.806Z"
      },
      {
        "duration": 409,
        "start_time": "2023-12-31T10:10:02.942Z"
      },
      {
        "duration": 414,
        "start_time": "2023-12-31T10:10:03.352Z"
      },
      {
        "duration": 75,
        "start_time": "2023-12-31T10:10:03.768Z"
      },
      {
        "duration": 667,
        "start_time": "2023-12-31T10:10:03.845Z"
      },
      {
        "duration": 87,
        "start_time": "2023-12-31T10:10:04.513Z"
      },
      {
        "duration": 193,
        "start_time": "2023-12-31T10:10:04.601Z"
      },
      {
        "duration": 26,
        "start_time": "2023-12-31T10:10:04.796Z"
      },
      {
        "duration": 6261,
        "start_time": "2023-12-31T10:10:04.823Z"
      },
      {
        "duration": 16,
        "start_time": "2023-12-31T10:10:11.086Z"
      },
      {
        "duration": 15,
        "start_time": "2023-12-31T10:10:11.103Z"
      },
      {
        "duration": 7,
        "start_time": "2023-12-31T10:10:11.120Z"
      },
      {
        "duration": 74,
        "start_time": "2023-12-31T10:10:11.128Z"
      },
      {
        "duration": 3,
        "start_time": "2023-12-31T10:10:11.204Z"
      },
      {
        "duration": 4,
        "start_time": "2023-12-31T10:10:11.209Z"
      },
      {
        "duration": 6,
        "start_time": "2023-12-31T10:10:11.214Z"
      },
      {
        "duration": 7,
        "start_time": "2023-12-31T10:10:11.221Z"
      },
      {
        "duration": 4,
        "start_time": "2023-12-31T10:10:11.230Z"
      },
      {
        "duration": 4,
        "start_time": "2023-12-31T10:10:11.235Z"
      },
      {
        "duration": 2291,
        "start_time": "2023-12-31T10:10:44.196Z"
      },
      {
        "duration": 2212,
        "start_time": "2023-12-31T10:10:46.489Z"
      },
      {
        "duration": 1045,
        "start_time": "2023-12-31T10:10:48.702Z"
      },
      {
        "duration": 152,
        "start_time": "2023-12-31T10:10:49.750Z"
      },
      {
        "duration": 25,
        "start_time": "2023-12-31T10:10:49.905Z"
      },
      {
        "duration": 5,
        "start_time": "2023-12-31T10:10:49.932Z"
      },
      {
        "duration": 268,
        "start_time": "2023-12-31T10:10:49.939Z"
      },
      {
        "duration": 179,
        "start_time": "2023-12-31T10:10:50.209Z"
      },
      {
        "duration": 133,
        "start_time": "2023-12-31T10:10:50.390Z"
      },
      {
        "duration": 380,
        "start_time": "2023-12-31T10:10:50.525Z"
      },
      {
        "duration": 423,
        "start_time": "2023-12-31T10:10:50.907Z"
      },
      {
        "duration": 79,
        "start_time": "2023-12-31T10:10:51.332Z"
      },
      {
        "duration": 656,
        "start_time": "2023-12-31T10:10:51.413Z"
      },
      {
        "duration": 104,
        "start_time": "2023-12-31T10:10:52.071Z"
      },
      {
        "duration": 196,
        "start_time": "2023-12-31T10:10:52.176Z"
      },
      {
        "duration": 25,
        "start_time": "2023-12-31T10:10:52.373Z"
      },
      {
        "duration": 6192,
        "start_time": "2023-12-31T10:10:52.400Z"
      },
      {
        "duration": 13,
        "start_time": "2023-12-31T10:10:58.593Z"
      },
      {
        "duration": 18,
        "start_time": "2023-12-31T10:10:58.607Z"
      },
      {
        "duration": 6,
        "start_time": "2023-12-31T10:10:58.626Z"
      },
      {
        "duration": 52,
        "start_time": "2023-12-31T10:10:58.633Z"
      },
      {
        "duration": 4,
        "start_time": "2023-12-31T10:10:58.686Z"
      },
      {
        "duration": 8,
        "start_time": "2023-12-31T10:10:58.692Z"
      },
      {
        "duration": 6,
        "start_time": "2023-12-31T10:10:58.702Z"
      },
      {
        "duration": 4,
        "start_time": "2023-12-31T10:10:58.709Z"
      },
      {
        "duration": 5,
        "start_time": "2023-12-31T10:10:58.714Z"
      },
      {
        "duration": 4,
        "start_time": "2023-12-31T10:10:58.720Z"
      },
      {
        "duration": 248,
        "start_time": "2023-12-31T10:10:58.725Z"
      },
      {
        "duration": 3,
        "start_time": "2023-12-31T10:10:58.975Z"
      },
      {
        "duration": 3,
        "start_time": "2023-12-31T10:10:58.980Z"
      },
      {
        "duration": 90,
        "start_time": "2023-12-31T10:10:58.985Z"
      },
      {
        "duration": 116,
        "start_time": "2023-12-31T10:11:14.429Z"
      },
      {
        "duration": 2287,
        "start_time": "2023-12-31T10:11:33.765Z"
      },
      {
        "duration": 3,
        "start_time": "2023-12-31T10:12:36.616Z"
      },
      {
        "duration": 2288,
        "start_time": "2023-12-31T10:13:23.339Z"
      },
      {
        "duration": 4,
        "start_time": "2023-12-31T10:13:25.629Z"
      },
      {
        "duration": 771,
        "start_time": "2023-12-31T10:13:25.634Z"
      },
      {
        "duration": 142,
        "start_time": "2023-12-31T10:13:26.407Z"
      },
      {
        "duration": 33,
        "start_time": "2023-12-31T10:13:26.551Z"
      },
      {
        "duration": 5,
        "start_time": "2023-12-31T10:13:26.585Z"
      },
      {
        "duration": 149,
        "start_time": "2023-12-31T10:13:26.592Z"
      },
      {
        "duration": 179,
        "start_time": "2023-12-31T10:13:26.742Z"
      },
      {
        "duration": 132,
        "start_time": "2023-12-31T10:13:26.923Z"
      },
      {
        "duration": 359,
        "start_time": "2023-12-31T10:13:27.057Z"
      },
      {
        "duration": 381,
        "start_time": "2023-12-31T10:13:27.417Z"
      },
      {
        "duration": 84,
        "start_time": "2023-12-31T10:13:27.800Z"
      },
      {
        "duration": 638,
        "start_time": "2023-12-31T10:13:27.885Z"
      },
      {
        "duration": 77,
        "start_time": "2023-12-31T10:13:28.527Z"
      },
      {
        "duration": 192,
        "start_time": "2023-12-31T10:13:28.605Z"
      },
      {
        "duration": 19,
        "start_time": "2023-12-31T10:13:28.799Z"
      },
      {
        "duration": 6403,
        "start_time": "2023-12-31T10:13:28.820Z"
      },
      {
        "duration": 13,
        "start_time": "2023-12-31T10:13:35.224Z"
      },
      {
        "duration": 33,
        "start_time": "2023-12-31T10:13:35.239Z"
      },
      {
        "duration": 3,
        "start_time": "2023-12-31T10:13:35.273Z"
      },
      {
        "duration": 79,
        "start_time": "2023-12-31T10:13:35.277Z"
      },
      {
        "duration": 3,
        "start_time": "2023-12-31T10:13:35.357Z"
      },
      {
        "duration": 5,
        "start_time": "2023-12-31T10:13:35.361Z"
      },
      {
        "duration": 5,
        "start_time": "2023-12-31T10:13:35.368Z"
      },
      {
        "duration": 4,
        "start_time": "2023-12-31T10:13:35.374Z"
      },
      {
        "duration": 8,
        "start_time": "2023-12-31T10:13:35.379Z"
      },
      {
        "duration": 7,
        "start_time": "2023-12-31T10:13:35.388Z"
      },
      {
        "duration": 62528,
        "start_time": "2023-12-31T10:13:40.904Z"
      },
      {
        "duration": 2346,
        "start_time": "2023-12-31T10:16:10.431Z"
      },
      {
        "duration": 4,
        "start_time": "2023-12-31T10:16:12.779Z"
      },
      {
        "duration": 749,
        "start_time": "2023-12-31T10:16:12.784Z"
      },
      {
        "duration": 146,
        "start_time": "2023-12-31T10:16:13.535Z"
      },
      {
        "duration": 20,
        "start_time": "2023-12-31T10:16:13.683Z"
      },
      {
        "duration": 5,
        "start_time": "2023-12-31T10:16:13.704Z"
      },
      {
        "duration": 160,
        "start_time": "2023-12-31T10:16:13.711Z"
      },
      {
        "duration": 188,
        "start_time": "2023-12-31T10:16:13.873Z"
      },
      {
        "duration": 134,
        "start_time": "2023-12-31T10:16:14.063Z"
      },
      {
        "duration": 356,
        "start_time": "2023-12-31T10:16:14.200Z"
      },
      {
        "duration": 374,
        "start_time": "2023-12-31T10:16:14.558Z"
      },
      {
        "duration": 82,
        "start_time": "2023-12-31T10:16:14.934Z"
      },
      {
        "duration": 632,
        "start_time": "2023-12-31T10:16:15.018Z"
      },
      {
        "duration": 74,
        "start_time": "2023-12-31T10:16:15.651Z"
      },
      {
        "duration": 199,
        "start_time": "2023-12-31T10:16:15.727Z"
      },
      {
        "duration": 20,
        "start_time": "2023-12-31T10:16:15.927Z"
      },
      {
        "duration": 6271,
        "start_time": "2023-12-31T10:16:15.949Z"
      },
      {
        "duration": 13,
        "start_time": "2023-12-31T10:16:22.221Z"
      },
      {
        "duration": 29,
        "start_time": "2023-12-31T10:16:22.236Z"
      },
      {
        "duration": 3,
        "start_time": "2023-12-31T10:16:22.267Z"
      },
      {
        "duration": 55,
        "start_time": "2023-12-31T10:16:22.271Z"
      },
      {
        "duration": 3,
        "start_time": "2023-12-31T10:16:22.328Z"
      },
      {
        "duration": 16,
        "start_time": "2023-12-31T10:16:22.333Z"
      },
      {
        "duration": 3,
        "start_time": "2023-12-31T10:16:22.350Z"
      },
      {
        "duration": 11,
        "start_time": "2023-12-31T10:16:22.354Z"
      },
      {
        "duration": 3,
        "start_time": "2023-12-31T10:16:22.366Z"
      },
      {
        "duration": 9,
        "start_time": "2023-12-31T10:16:22.370Z"
      },
      {
        "duration": 43,
        "start_time": "2023-12-31T10:16:37.313Z"
      },
      {
        "duration": 2366,
        "start_time": "2023-12-31T10:16:58.202Z"
      },
      {
        "duration": 2425,
        "start_time": "2023-12-31T10:17:00.571Z"
      },
      {
        "duration": 1022,
        "start_time": "2023-12-31T10:17:02.997Z"
      },
      {
        "duration": 149,
        "start_time": "2023-12-31T10:17:04.021Z"
      },
      {
        "duration": 23,
        "start_time": "2023-12-31T10:17:04.171Z"
      },
      {
        "duration": 5,
        "start_time": "2023-12-31T10:17:04.196Z"
      },
      {
        "duration": 266,
        "start_time": "2023-12-31T10:17:04.202Z"
      },
      {
        "duration": 176,
        "start_time": "2023-12-31T10:17:04.470Z"
      },
      {
        "duration": 141,
        "start_time": "2023-12-31T10:17:04.648Z"
      },
      {
        "duration": 412,
        "start_time": "2023-12-31T10:17:04.791Z"
      },
      {
        "duration": 445,
        "start_time": "2023-12-31T10:17:05.205Z"
      },
      {
        "duration": 82,
        "start_time": "2023-12-31T10:17:05.652Z"
      },
      {
        "duration": 701,
        "start_time": "2023-12-31T10:17:05.735Z"
      },
      {
        "duration": 89,
        "start_time": "2023-12-31T10:17:06.437Z"
      },
      {
        "duration": 202,
        "start_time": "2023-12-31T10:17:06.528Z"
      },
      {
        "duration": 35,
        "start_time": "2023-12-31T10:17:06.731Z"
      },
      {
        "duration": 13,
        "start_time": "2023-12-31T10:17:06.767Z"
      },
      {
        "duration": 16,
        "start_time": "2023-12-31T10:17:06.781Z"
      },
      {
        "duration": 26,
        "start_time": "2023-12-31T10:17:06.798Z"
      },
      {
        "duration": 54,
        "start_time": "2023-12-31T10:17:06.826Z"
      },
      {
        "duration": 3,
        "start_time": "2023-12-31T10:17:06.882Z"
      },
      {
        "duration": 11,
        "start_time": "2023-12-31T10:17:06.887Z"
      },
      {
        "duration": 25,
        "start_time": "2023-12-31T10:17:06.899Z"
      },
      {
        "duration": 6,
        "start_time": "2023-12-31T10:17:06.925Z"
      },
      {
        "duration": 8,
        "start_time": "2023-12-31T10:17:06.933Z"
      },
      {
        "duration": 13,
        "start_time": "2023-12-31T10:17:06.943Z"
      },
      {
        "duration": 262,
        "start_time": "2023-12-31T10:17:06.957Z"
      },
      {
        "duration": 3,
        "start_time": "2023-12-31T10:17:07.221Z"
      },
      {
        "duration": 40,
        "start_time": "2023-12-31T10:17:07.226Z"
      },
      {
        "duration": 2439,
        "start_time": "2023-12-31T10:17:07.267Z"
      },
      {
        "duration": 2323,
        "start_time": "2023-12-31T10:17:35.506Z"
      },
      {
        "duration": 2091,
        "start_time": "2023-12-31T10:17:37.831Z"
      },
      {
        "duration": 821,
        "start_time": "2023-12-31T10:17:39.924Z"
      },
      {
        "duration": 157,
        "start_time": "2023-12-31T10:17:40.747Z"
      },
      {
        "duration": 32,
        "start_time": "2023-12-31T10:17:40.905Z"
      },
      {
        "duration": 6,
        "start_time": "2023-12-31T10:17:40.938Z"
      },
      {
        "duration": 277,
        "start_time": "2023-12-31T10:17:40.945Z"
      },
      {
        "duration": 183,
        "start_time": "2023-12-31T10:17:41.224Z"
      },
      {
        "duration": 136,
        "start_time": "2023-12-31T10:17:41.409Z"
      },
      {
        "duration": 411,
        "start_time": "2023-12-31T10:17:41.547Z"
      },
      {
        "duration": 458,
        "start_time": "2023-12-31T10:17:41.965Z"
      },
      {
        "duration": 82,
        "start_time": "2023-12-31T10:17:42.425Z"
      },
      {
        "duration": 648,
        "start_time": "2023-12-31T10:17:42.509Z"
      },
      {
        "duration": 86,
        "start_time": "2023-12-31T10:17:43.159Z"
      },
      {
        "duration": 206,
        "start_time": "2023-12-31T10:17:43.247Z"
      },
      {
        "duration": 28,
        "start_time": "2023-12-31T10:17:43.454Z"
      },
      {
        "duration": 14,
        "start_time": "2023-12-31T10:17:43.484Z"
      },
      {
        "duration": 15,
        "start_time": "2023-12-31T10:17:43.500Z"
      },
      {
        "duration": 6,
        "start_time": "2023-12-31T10:17:43.516Z"
      },
      {
        "duration": 84,
        "start_time": "2023-12-31T10:17:43.523Z"
      },
      {
        "duration": 4,
        "start_time": "2023-12-31T10:17:43.608Z"
      },
      {
        "duration": 25,
        "start_time": "2023-12-31T10:17:43.613Z"
      },
      {
        "duration": 20,
        "start_time": "2023-12-31T10:17:43.639Z"
      },
      {
        "duration": 7,
        "start_time": "2023-12-31T10:17:43.660Z"
      },
      {
        "duration": 19,
        "start_time": "2023-12-31T10:17:43.668Z"
      },
      {
        "duration": 9,
        "start_time": "2023-12-31T10:17:43.689Z"
      },
      {
        "duration": 308,
        "start_time": "2023-12-31T10:17:43.699Z"
      },
      {
        "duration": 3,
        "start_time": "2023-12-31T10:17:44.010Z"
      },
      {
        "duration": 4,
        "start_time": "2023-12-31T10:17:44.014Z"
      },
      {
        "duration": 2405,
        "start_time": "2023-12-31T10:17:44.019Z"
      },
      {
        "duration": 2350,
        "start_time": "2023-12-31T10:20:04.585Z"
      },
      {
        "duration": 4,
        "start_time": "2023-12-31T10:20:06.937Z"
      },
      {
        "duration": 800,
        "start_time": "2023-12-31T10:20:06.942Z"
      },
      {
        "duration": 146,
        "start_time": "2023-12-31T10:20:07.744Z"
      },
      {
        "duration": 21,
        "start_time": "2023-12-31T10:20:07.892Z"
      },
      {
        "duration": 5,
        "start_time": "2023-12-31T10:20:07.914Z"
      },
      {
        "duration": 159,
        "start_time": "2023-12-31T10:20:07.921Z"
      },
      {
        "duration": 184,
        "start_time": "2023-12-31T10:20:08.082Z"
      },
      {
        "duration": 136,
        "start_time": "2023-12-31T10:20:08.268Z"
      },
      {
        "duration": 373,
        "start_time": "2023-12-31T10:20:08.407Z"
      },
      {
        "duration": 421,
        "start_time": "2023-12-31T10:20:08.781Z"
      },
      {
        "duration": 78,
        "start_time": "2023-12-31T10:20:09.203Z"
      },
      {
        "duration": 639,
        "start_time": "2023-12-31T10:20:09.283Z"
      },
      {
        "duration": 76,
        "start_time": "2023-12-31T10:20:09.924Z"
      },
      {
        "duration": 198,
        "start_time": "2023-12-31T10:20:10.001Z"
      },
      {
        "duration": 20,
        "start_time": "2023-12-31T10:20:10.200Z"
      },
      {
        "duration": 13,
        "start_time": "2023-12-31T10:20:10.221Z"
      },
      {
        "duration": 31,
        "start_time": "2023-12-31T10:20:10.235Z"
      },
      {
        "duration": 6,
        "start_time": "2023-12-31T10:20:10.268Z"
      },
      {
        "duration": 68,
        "start_time": "2023-12-31T10:20:10.275Z"
      },
      {
        "duration": 3,
        "start_time": "2023-12-31T10:20:10.345Z"
      },
      {
        "duration": 17,
        "start_time": "2023-12-31T10:20:10.350Z"
      },
      {
        "duration": 10,
        "start_time": "2023-12-31T10:20:10.368Z"
      },
      {
        "duration": 4,
        "start_time": "2023-12-31T10:20:10.379Z"
      },
      {
        "duration": 3,
        "start_time": "2023-12-31T10:20:10.385Z"
      },
      {
        "duration": 4,
        "start_time": "2023-12-31T10:20:10.389Z"
      },
      {
        "duration": 126,
        "start_time": "2023-12-31T10:20:10.394Z"
      },
      {
        "duration": 2,
        "start_time": "2023-12-31T10:20:10.523Z"
      },
      {
        "duration": 4,
        "start_time": "2023-12-31T10:20:10.527Z"
      },
      {
        "duration": 2360,
        "start_time": "2023-12-31T10:20:10.532Z"
      },
      {
        "duration": 2389,
        "start_time": "2023-12-31T10:30:46.697Z"
      },
      {
        "duration": 27,
        "start_time": "2023-12-31T10:30:49.088Z"
      },
      {
        "duration": 769,
        "start_time": "2023-12-31T10:30:49.117Z"
      },
      {
        "duration": 143,
        "start_time": "2023-12-31T10:30:49.888Z"
      },
      {
        "duration": 32,
        "start_time": "2023-12-31T10:30:50.033Z"
      },
      {
        "duration": 5,
        "start_time": "2023-12-31T10:30:50.067Z"
      },
      {
        "duration": 141,
        "start_time": "2023-12-31T10:30:50.074Z"
      },
      {
        "duration": 182,
        "start_time": "2023-12-31T10:30:50.217Z"
      },
      {
        "duration": 142,
        "start_time": "2023-12-31T10:30:50.401Z"
      },
      {
        "duration": 363,
        "start_time": "2023-12-31T10:30:50.546Z"
      },
      {
        "duration": 359,
        "start_time": "2023-12-31T10:30:50.910Z"
      },
      {
        "duration": 74,
        "start_time": "2023-12-31T10:30:51.271Z"
      },
      {
        "duration": 790,
        "start_time": "2023-12-31T10:30:51.347Z"
      },
      {
        "duration": 74,
        "start_time": "2023-12-31T10:30:52.138Z"
      },
      {
        "duration": 211,
        "start_time": "2023-12-31T10:30:52.214Z"
      },
      {
        "duration": 19,
        "start_time": "2023-12-31T10:30:52.427Z"
      },
      {
        "duration": 25,
        "start_time": "2023-12-31T10:30:52.448Z"
      },
      {
        "duration": 16,
        "start_time": "2023-12-31T10:30:52.474Z"
      },
      {
        "duration": 5,
        "start_time": "2023-12-31T10:30:52.491Z"
      },
      {
        "duration": 73,
        "start_time": "2023-12-31T10:30:52.497Z"
      },
      {
        "duration": 3,
        "start_time": "2023-12-31T10:30:52.572Z"
      },
      {
        "duration": 13,
        "start_time": "2023-12-31T10:30:52.577Z"
      },
      {
        "duration": 33,
        "start_time": "2023-12-31T10:30:52.591Z"
      },
      {
        "duration": 0,
        "start_time": "2023-12-31T10:30:52.625Z"
      },
      {
        "duration": 0,
        "start_time": "2023-12-31T10:30:52.626Z"
      },
      {
        "duration": 14,
        "start_time": "2023-12-31T10:34:57.464Z"
      },
      {
        "duration": 2331,
        "start_time": "2023-12-31T10:38:05.083Z"
      },
      {
        "duration": 4,
        "start_time": "2023-12-31T10:38:07.416Z"
      },
      {
        "duration": 786,
        "start_time": "2023-12-31T10:38:07.422Z"
      },
      {
        "duration": 155,
        "start_time": "2023-12-31T10:38:08.210Z"
      },
      {
        "duration": 21,
        "start_time": "2023-12-31T10:38:08.368Z"
      },
      {
        "duration": 5,
        "start_time": "2023-12-31T10:38:08.391Z"
      },
      {
        "duration": 153,
        "start_time": "2023-12-31T10:38:08.398Z"
      },
      {
        "duration": 181,
        "start_time": "2023-12-31T10:38:08.553Z"
      },
      {
        "duration": 141,
        "start_time": "2023-12-31T10:38:08.736Z"
      },
      {
        "duration": 418,
        "start_time": "2023-12-31T10:38:08.878Z"
      },
      {
        "duration": 382,
        "start_time": "2023-12-31T10:38:09.298Z"
      },
      {
        "duration": 90,
        "start_time": "2023-12-31T10:38:09.682Z"
      },
      {
        "duration": 636,
        "start_time": "2023-12-31T10:38:09.773Z"
      },
      {
        "duration": 70,
        "start_time": "2023-12-31T10:38:10.412Z"
      },
      {
        "duration": 197,
        "start_time": "2023-12-31T10:38:10.484Z"
      },
      {
        "duration": 19,
        "start_time": "2023-12-31T10:38:10.683Z"
      },
      {
        "duration": 17,
        "start_time": "2023-12-31T10:38:10.704Z"
      },
      {
        "duration": 21,
        "start_time": "2023-12-31T10:38:10.722Z"
      },
      {
        "duration": 14,
        "start_time": "2023-12-31T10:38:10.744Z"
      },
      {
        "duration": 3828,
        "start_time": "2023-12-31T10:38:19.846Z"
      },
      {
        "duration": 17,
        "start_time": "2023-12-31T10:38:40.654Z"
      },
      {
        "duration": 9,
        "start_time": "2023-12-31T10:39:40.769Z"
      },
      {
        "duration": 12,
        "start_time": "2023-12-31T10:40:56.477Z"
      },
      {
        "duration": 2329,
        "start_time": "2023-12-31T10:41:19.966Z"
      },
      {
        "duration": 2414,
        "start_time": "2023-12-31T10:41:22.297Z"
      },
      {
        "duration": 1021,
        "start_time": "2023-12-31T10:41:24.712Z"
      },
      {
        "duration": 156,
        "start_time": "2023-12-31T10:41:25.735Z"
      },
      {
        "duration": 25,
        "start_time": "2023-12-31T10:41:25.892Z"
      },
      {
        "duration": 5,
        "start_time": "2023-12-31T10:41:25.918Z"
      },
      {
        "duration": 214,
        "start_time": "2023-12-31T10:41:25.925Z"
      },
      {
        "duration": 173,
        "start_time": "2023-12-31T10:41:26.140Z"
      },
      {
        "duration": 135,
        "start_time": "2023-12-31T10:41:26.314Z"
      },
      {
        "duration": 388,
        "start_time": "2023-12-31T10:41:26.451Z"
      },
      {
        "duration": 439,
        "start_time": "2023-12-31T10:41:26.840Z"
      },
      {
        "duration": 78,
        "start_time": "2023-12-31T10:41:27.281Z"
      },
      {
        "duration": 625,
        "start_time": "2023-12-31T10:41:27.365Z"
      },
      {
        "duration": 93,
        "start_time": "2023-12-31T10:41:27.992Z"
      },
      {
        "duration": 201,
        "start_time": "2023-12-31T10:41:28.087Z"
      },
      {
        "duration": 28,
        "start_time": "2023-12-31T10:41:28.290Z"
      },
      {
        "duration": 13,
        "start_time": "2023-12-31T10:41:28.320Z"
      },
      {
        "duration": 32,
        "start_time": "2023-12-31T10:41:28.334Z"
      },
      {
        "duration": 3,
        "start_time": "2023-12-31T10:41:28.367Z"
      },
      {
        "duration": 3808,
        "start_time": "2023-12-31T10:41:28.371Z"
      },
      {
        "duration": 8,
        "start_time": "2023-12-31T10:41:32.180Z"
      },
      {
        "duration": 2323,
        "start_time": "2023-12-31T10:46:52.425Z"
      },
      {
        "duration": 2417,
        "start_time": "2023-12-31T10:46:54.751Z"
      },
      {
        "duration": 1047,
        "start_time": "2023-12-31T10:46:57.170Z"
      },
      {
        "duration": 148,
        "start_time": "2023-12-31T10:46:58.218Z"
      },
      {
        "duration": 24,
        "start_time": "2023-12-31T10:46:58.367Z"
      },
      {
        "duration": 6,
        "start_time": "2023-12-31T10:46:58.393Z"
      },
      {
        "duration": 186,
        "start_time": "2023-12-31T10:46:58.400Z"
      },
      {
        "duration": 170,
        "start_time": "2023-12-31T10:46:58.587Z"
      },
      {
        "duration": 142,
        "start_time": "2023-12-31T10:46:58.759Z"
      },
      {
        "duration": 415,
        "start_time": "2023-12-31T10:46:58.903Z"
      },
      {
        "duration": 443,
        "start_time": "2023-12-31T10:46:59.319Z"
      },
      {
        "duration": 80,
        "start_time": "2023-12-31T10:46:59.764Z"
      },
      {
        "duration": 656,
        "start_time": "2023-12-31T10:46:59.846Z"
      },
      {
        "duration": 92,
        "start_time": "2023-12-31T10:47:00.504Z"
      },
      {
        "duration": 223,
        "start_time": "2023-12-31T10:47:00.597Z"
      },
      {
        "duration": 25,
        "start_time": "2023-12-31T10:47:00.821Z"
      },
      {
        "duration": 69,
        "start_time": "2023-12-31T10:47:00.848Z"
      },
      {
        "duration": 33,
        "start_time": "2023-12-31T10:47:00.919Z"
      },
      {
        "duration": 27,
        "start_time": "2023-12-31T10:47:00.953Z"
      },
      {
        "duration": 566,
        "start_time": "2023-12-31T10:47:00.981Z"
      },
      {
        "duration": 3,
        "start_time": "2023-12-31T10:47:01.548Z"
      },
      {
        "duration": 412,
        "start_time": "2023-12-31T10:47:05.931Z"
      },
      {
        "duration": 88,
        "start_time": "2023-12-31T10:47:13.530Z"
      },
      {
        "duration": 157,
        "start_time": "2023-12-31T10:48:32.719Z"
      },
      {
        "duration": 11,
        "start_time": "2023-12-31T10:49:00.289Z"
      },
      {
        "duration": 3,
        "start_time": "2023-12-31T10:49:31.950Z"
      },
      {
        "duration": 15,
        "start_time": "2023-12-31T10:49:34.687Z"
      },
      {
        "duration": 11,
        "start_time": "2023-12-31T11:02:40.381Z"
      },
      {
        "duration": 6,
        "start_time": "2023-12-31T11:02:52.466Z"
      },
      {
        "duration": 56,
        "start_time": "2023-12-31T11:03:11.242Z"
      },
      {
        "duration": 2395,
        "start_time": "2023-12-31T11:03:21.587Z"
      },
      {
        "duration": 5,
        "start_time": "2023-12-31T11:03:23.984Z"
      },
      {
        "duration": 773,
        "start_time": "2023-12-31T11:03:23.990Z"
      },
      {
        "duration": 144,
        "start_time": "2023-12-31T11:03:24.765Z"
      },
      {
        "duration": 20,
        "start_time": "2023-12-31T11:03:24.911Z"
      },
      {
        "duration": 5,
        "start_time": "2023-12-31T11:03:24.932Z"
      },
      {
        "duration": 156,
        "start_time": "2023-12-31T11:03:24.939Z"
      },
      {
        "duration": 178,
        "start_time": "2023-12-31T11:03:25.097Z"
      },
      {
        "duration": 134,
        "start_time": "2023-12-31T11:03:25.276Z"
      },
      {
        "duration": 384,
        "start_time": "2023-12-31T11:03:25.412Z"
      },
      {
        "duration": 368,
        "start_time": "2023-12-31T11:03:25.797Z"
      },
      {
        "duration": 75,
        "start_time": "2023-12-31T11:03:26.167Z"
      },
      {
        "duration": 661,
        "start_time": "2023-12-31T11:03:26.243Z"
      },
      {
        "duration": 71,
        "start_time": "2023-12-31T11:03:26.906Z"
      },
      {
        "duration": 201,
        "start_time": "2023-12-31T11:03:26.978Z"
      },
      {
        "duration": 20,
        "start_time": "2023-12-31T11:03:27.181Z"
      },
      {
        "duration": 13,
        "start_time": "2023-12-31T11:03:27.203Z"
      },
      {
        "duration": 83,
        "start_time": "2023-12-31T11:03:27.217Z"
      },
      {
        "duration": 14,
        "start_time": "2023-12-31T11:03:37.876Z"
      },
      {
        "duration": 16,
        "start_time": "2023-12-31T11:04:11.226Z"
      },
      {
        "duration": 513,
        "start_time": "2023-12-31T11:04:21.782Z"
      },
      {
        "duration": 3,
        "start_time": "2023-12-31T11:04:22.908Z"
      },
      {
        "duration": 362,
        "start_time": "2023-12-31T11:04:27.872Z"
      },
      {
        "duration": 226,
        "start_time": "2023-12-31T11:04:52.366Z"
      },
      {
        "duration": 3567,
        "start_time": "2023-12-31T11:04:56.105Z"
      },
      {
        "duration": 136,
        "start_time": "2023-12-31T11:05:02.932Z"
      },
      {
        "duration": 17,
        "start_time": "2023-12-31T11:05:04.353Z"
      },
      {
        "duration": 3,
        "start_time": "2023-12-31T11:05:32.716Z"
      },
      {
        "duration": 4,
        "start_time": "2023-12-31T11:05:44.770Z"
      },
      {
        "duration": 4,
        "start_time": "2023-12-31T11:05:47.882Z"
      },
      {
        "duration": 5,
        "start_time": "2023-12-31T11:05:52.844Z"
      },
      {
        "duration": 3,
        "start_time": "2023-12-31T11:06:59.338Z"
      },
      {
        "duration": 10,
        "start_time": "2023-12-31T11:07:50.866Z"
      },
      {
        "duration": 3,
        "start_time": "2023-12-31T11:08:25.021Z"
      },
      {
        "duration": 2,
        "start_time": "2023-12-31T11:08:25.913Z"
      },
      {
        "duration": 43723,
        "start_time": "2023-12-31T11:08:26.950Z"
      },
      {
        "duration": 3,
        "start_time": "2023-12-31T11:09:33.269Z"
      },
      {
        "duration": 3,
        "start_time": "2023-12-31T11:12:41.347Z"
      },
      {
        "duration": 3,
        "start_time": "2023-12-31T11:12:42.082Z"
      },
      {
        "duration": 3,
        "start_time": "2023-12-31T11:12:44.328Z"
      },
      {
        "duration": 86,
        "start_time": "2023-12-31T11:13:07.782Z"
      },
      {
        "duration": 528385,
        "start_time": "2023-12-31T11:13:14.791Z"
      },
      {
        "duration": 10,
        "start_time": "2023-12-31T11:22:03.178Z"
      },
      {
        "duration": 0,
        "start_time": "2023-12-31T11:22:03.190Z"
      },
      {
        "duration": 0,
        "start_time": "2023-12-31T11:22:03.190Z"
      },
      {
        "duration": 0,
        "start_time": "2023-12-31T11:22:03.191Z"
      },
      {
        "duration": 0,
        "start_time": "2023-12-31T11:22:03.192Z"
      },
      {
        "duration": 2320,
        "start_time": "2023-12-31T11:22:30.966Z"
      },
      {
        "duration": 2217,
        "start_time": "2023-12-31T11:22:33.288Z"
      },
      {
        "duration": 801,
        "start_time": "2023-12-31T11:22:35.507Z"
      },
      {
        "duration": 156,
        "start_time": "2023-12-31T11:22:36.310Z"
      },
      {
        "duration": 27,
        "start_time": "2023-12-31T11:22:36.468Z"
      },
      {
        "duration": 13,
        "start_time": "2023-12-31T11:22:36.497Z"
      },
      {
        "duration": 181,
        "start_time": "2023-12-31T11:22:36.511Z"
      },
      {
        "duration": 174,
        "start_time": "2023-12-31T11:22:36.693Z"
      },
      {
        "duration": 129,
        "start_time": "2023-12-31T11:22:36.869Z"
      },
      {
        "duration": 413,
        "start_time": "2023-12-31T11:22:37.001Z"
      },
      {
        "duration": 437,
        "start_time": "2023-12-31T11:22:37.415Z"
      },
      {
        "duration": 79,
        "start_time": "2023-12-31T11:22:37.853Z"
      },
      {
        "duration": 650,
        "start_time": "2023-12-31T11:22:37.934Z"
      },
      {
        "duration": 96,
        "start_time": "2023-12-31T11:22:38.586Z"
      },
      {
        "duration": 203,
        "start_time": "2023-12-31T11:22:38.683Z"
      },
      {
        "duration": 28,
        "start_time": "2023-12-31T11:22:38.887Z"
      },
      {
        "duration": 14,
        "start_time": "2023-12-31T11:22:38.917Z"
      },
      {
        "duration": 84,
        "start_time": "2023-12-31T11:22:38.933Z"
      },
      {
        "duration": 23,
        "start_time": "2023-12-31T11:22:39.018Z"
      },
      {
        "duration": 511,
        "start_time": "2023-12-31T11:22:39.042Z"
      },
      {
        "duration": 3,
        "start_time": "2023-12-31T11:22:39.554Z"
      },
      {
        "duration": 425,
        "start_time": "2023-12-31T11:22:39.565Z"
      },
      {
        "duration": 226,
        "start_time": "2023-12-31T11:22:39.992Z"
      },
      {
        "duration": 2,
        "start_time": "2023-12-31T11:22:40.220Z"
      },
      {
        "duration": 9,
        "start_time": "2023-12-31T11:22:40.223Z"
      },
      {
        "duration": 6,
        "start_time": "2023-12-31T11:22:40.233Z"
      },
      {
        "duration": 10,
        "start_time": "2023-12-31T11:22:40.241Z"
      },
      {
        "duration": 14,
        "start_time": "2023-12-31T11:22:40.254Z"
      },
      {
        "duration": 87604,
        "start_time": "2023-12-31T11:22:40.269Z"
      },
      {
        "duration": 2908,
        "start_time": "2023-12-31T11:24:07.965Z"
      },
      {
        "duration": 3,
        "start_time": "2023-12-31T11:24:10.874Z"
      },
      {
        "duration": 3,
        "start_time": "2023-12-31T11:24:10.879Z"
      },
      {
        "duration": 45282,
        "start_time": "2023-12-31T11:24:10.884Z"
      },
      {
        "duration": 3,
        "start_time": "2023-12-31T11:24:56.168Z"
      },
      {
        "duration": 199,
        "start_time": "2023-12-31T11:24:56.173Z"
      },
      {
        "duration": 0,
        "start_time": "2023-12-31T11:24:56.373Z"
      },
      {
        "duration": 4,
        "start_time": "2023-12-31T11:28:43.538Z"
      },
      {
        "duration": 2,
        "start_time": "2023-12-31T11:28:45.149Z"
      },
      {
        "duration": 1047291,
        "start_time": "2023-12-31T11:28:46.617Z"
      },
      {
        "duration": 4,
        "start_time": "2023-12-31T11:46:13.910Z"
      },
      {
        "duration": 5,
        "start_time": "2023-12-31T11:46:13.916Z"
      },
      {
        "duration": 2325,
        "start_time": "2023-12-31T12:30:34.311Z"
      },
      {
        "duration": 1170,
        "start_time": "2023-12-31T12:30:36.638Z"
      },
      {
        "duration": 0,
        "start_time": "2023-12-31T12:30:37.812Z"
      },
      {
        "duration": 0,
        "start_time": "2023-12-31T12:30:37.813Z"
      },
      {
        "duration": 0,
        "start_time": "2023-12-31T12:30:37.814Z"
      },
      {
        "duration": 0,
        "start_time": "2023-12-31T12:30:37.816Z"
      },
      {
        "duration": 0,
        "start_time": "2023-12-31T12:30:37.817Z"
      },
      {
        "duration": 0,
        "start_time": "2023-12-31T12:30:37.818Z"
      },
      {
        "duration": 0,
        "start_time": "2023-12-31T12:30:37.819Z"
      },
      {
        "duration": 0,
        "start_time": "2023-12-31T12:30:37.821Z"
      },
      {
        "duration": 0,
        "start_time": "2023-12-31T12:30:37.822Z"
      },
      {
        "duration": 0,
        "start_time": "2023-12-31T12:30:37.823Z"
      },
      {
        "duration": 0,
        "start_time": "2023-12-31T12:30:37.825Z"
      },
      {
        "duration": 0,
        "start_time": "2023-12-31T12:30:37.826Z"
      },
      {
        "duration": 1,
        "start_time": "2023-12-31T12:30:37.827Z"
      },
      {
        "duration": 0,
        "start_time": "2023-12-31T12:30:37.829Z"
      },
      {
        "duration": 0,
        "start_time": "2023-12-31T12:30:37.830Z"
      },
      {
        "duration": 0,
        "start_time": "2023-12-31T12:30:37.865Z"
      },
      {
        "duration": 0,
        "start_time": "2023-12-31T12:30:37.867Z"
      },
      {
        "duration": 0,
        "start_time": "2023-12-31T12:30:37.868Z"
      },
      {
        "duration": 0,
        "start_time": "2023-12-31T12:30:37.869Z"
      },
      {
        "duration": 0,
        "start_time": "2023-12-31T12:30:37.870Z"
      },
      {
        "duration": 0,
        "start_time": "2023-12-31T12:30:37.872Z"
      },
      {
        "duration": 0,
        "start_time": "2023-12-31T12:30:37.873Z"
      },
      {
        "duration": 0,
        "start_time": "2023-12-31T12:30:37.875Z"
      },
      {
        "duration": 0,
        "start_time": "2023-12-31T12:30:37.876Z"
      },
      {
        "duration": 0,
        "start_time": "2023-12-31T12:30:37.877Z"
      },
      {
        "duration": 0,
        "start_time": "2023-12-31T12:30:37.879Z"
      },
      {
        "duration": 0,
        "start_time": "2023-12-31T12:30:37.880Z"
      },
      {
        "duration": 0,
        "start_time": "2023-12-31T12:30:37.881Z"
      },
      {
        "duration": 0,
        "start_time": "2023-12-31T12:30:37.883Z"
      },
      {
        "duration": 0,
        "start_time": "2023-12-31T12:30:37.884Z"
      },
      {
        "duration": 0,
        "start_time": "2023-12-31T12:30:37.885Z"
      },
      {
        "duration": 0,
        "start_time": "2023-12-31T12:30:37.886Z"
      },
      {
        "duration": 0,
        "start_time": "2023-12-31T12:30:37.888Z"
      },
      {
        "duration": 0,
        "start_time": "2023-12-31T12:30:37.889Z"
      },
      {
        "duration": 0,
        "start_time": "2023-12-31T12:30:37.890Z"
      },
      {
        "duration": 0,
        "start_time": "2023-12-31T12:30:37.892Z"
      },
      {
        "duration": 0,
        "start_time": "2023-12-31T12:30:37.893Z"
      },
      {
        "duration": 2341,
        "start_time": "2023-12-31T12:31:04.300Z"
      },
      {
        "duration": 2254,
        "start_time": "2023-12-31T12:31:06.644Z"
      },
      {
        "duration": 860,
        "start_time": "2023-12-31T12:31:08.900Z"
      },
      {
        "duration": 151,
        "start_time": "2023-12-31T12:31:09.762Z"
      },
      {
        "duration": 25,
        "start_time": "2023-12-31T12:31:09.915Z"
      },
      {
        "duration": 5,
        "start_time": "2023-12-31T12:31:09.942Z"
      },
      {
        "duration": 197,
        "start_time": "2023-12-31T12:31:09.948Z"
      },
      {
        "duration": 203,
        "start_time": "2023-12-31T12:31:10.147Z"
      },
      {
        "duration": 133,
        "start_time": "2023-12-31T12:31:10.352Z"
      },
      {
        "duration": 410,
        "start_time": "2023-12-31T12:31:10.487Z"
      },
      {
        "duration": 438,
        "start_time": "2023-12-31T12:31:10.898Z"
      },
      {
        "duration": 83,
        "start_time": "2023-12-31T12:31:11.338Z"
      },
      {
        "duration": 644,
        "start_time": "2023-12-31T12:31:11.423Z"
      },
      {
        "duration": 82,
        "start_time": "2023-12-31T12:31:12.069Z"
      },
      {
        "duration": 216,
        "start_time": "2023-12-31T12:31:12.152Z"
      },
      {
        "duration": 25,
        "start_time": "2023-12-31T12:31:12.370Z"
      },
      {
        "duration": 18,
        "start_time": "2023-12-31T12:31:12.396Z"
      },
      {
        "duration": 101,
        "start_time": "2023-12-31T12:31:12.416Z"
      },
      {
        "duration": 16,
        "start_time": "2023-12-31T12:31:12.519Z"
      },
      {
        "duration": 171,
        "start_time": "2023-12-31T12:31:12.537Z"
      },
      {
        "duration": 0,
        "start_time": "2023-12-31T12:31:12.709Z"
      },
      {
        "duration": 0,
        "start_time": "2023-12-31T12:31:12.711Z"
      },
      {
        "duration": 0,
        "start_time": "2023-12-31T12:31:12.712Z"
      },
      {
        "duration": 0,
        "start_time": "2023-12-31T12:31:12.713Z"
      },
      {
        "duration": 0,
        "start_time": "2023-12-31T12:31:12.713Z"
      },
      {
        "duration": 0,
        "start_time": "2023-12-31T12:31:12.714Z"
      },
      {
        "duration": 0,
        "start_time": "2023-12-31T12:31:12.715Z"
      },
      {
        "duration": 0,
        "start_time": "2023-12-31T12:31:12.716Z"
      },
      {
        "duration": 0,
        "start_time": "2023-12-31T12:31:12.717Z"
      },
      {
        "duration": 0,
        "start_time": "2023-12-31T12:31:12.718Z"
      },
      {
        "duration": 0,
        "start_time": "2023-12-31T12:31:12.719Z"
      },
      {
        "duration": 0,
        "start_time": "2023-12-31T12:31:12.720Z"
      },
      {
        "duration": 0,
        "start_time": "2023-12-31T12:31:12.721Z"
      },
      {
        "duration": 0,
        "start_time": "2023-12-31T12:31:12.722Z"
      },
      {
        "duration": 0,
        "start_time": "2023-12-31T12:31:12.722Z"
      },
      {
        "duration": 0,
        "start_time": "2023-12-31T12:31:12.723Z"
      },
      {
        "duration": 0,
        "start_time": "2023-12-31T12:31:12.724Z"
      },
      {
        "duration": 0,
        "start_time": "2023-12-31T12:31:12.725Z"
      },
      {
        "duration": 0,
        "start_time": "2023-12-31T12:31:12.726Z"
      },
      {
        "duration": 0,
        "start_time": "2023-12-31T12:31:12.727Z"
      },
      {
        "duration": 2447,
        "start_time": "2023-12-31T12:32:00.316Z"
      },
      {
        "duration": 2236,
        "start_time": "2023-12-31T12:32:02.765Z"
      },
      {
        "duration": 848,
        "start_time": "2023-12-31T12:32:05.003Z"
      },
      {
        "duration": 171,
        "start_time": "2023-12-31T12:32:05.853Z"
      },
      {
        "duration": 40,
        "start_time": "2023-12-31T12:32:06.026Z"
      },
      {
        "duration": 5,
        "start_time": "2023-12-31T12:32:06.068Z"
      },
      {
        "duration": 187,
        "start_time": "2023-12-31T12:32:06.074Z"
      },
      {
        "duration": 190,
        "start_time": "2023-12-31T12:32:06.265Z"
      },
      {
        "duration": 137,
        "start_time": "2023-12-31T12:32:06.456Z"
      },
      {
        "duration": 394,
        "start_time": "2023-12-31T12:32:06.596Z"
      },
      {
        "duration": 431,
        "start_time": "2023-12-31T12:32:06.992Z"
      },
      {
        "duration": 80,
        "start_time": "2023-12-31T12:32:07.424Z"
      },
      {
        "duration": 635,
        "start_time": "2023-12-31T12:32:07.505Z"
      },
      {
        "duration": 95,
        "start_time": "2023-12-31T12:32:08.142Z"
      },
      {
        "duration": 205,
        "start_time": "2023-12-31T12:32:08.238Z"
      },
      {
        "duration": 29,
        "start_time": "2023-12-31T12:32:08.444Z"
      },
      {
        "duration": 14,
        "start_time": "2023-12-31T12:32:08.474Z"
      },
      {
        "duration": 77,
        "start_time": "2023-12-31T12:32:08.489Z"
      },
      {
        "duration": 16,
        "start_time": "2023-12-31T12:32:08.567Z"
      },
      {
        "duration": 620,
        "start_time": "2023-12-31T12:32:08.584Z"
      },
      {
        "duration": 2,
        "start_time": "2023-12-31T12:32:09.206Z"
      },
      {
        "duration": 388,
        "start_time": "2023-12-31T12:32:09.210Z"
      },
      {
        "duration": 219,
        "start_time": "2023-12-31T12:32:09.599Z"
      },
      {
        "duration": 3,
        "start_time": "2023-12-31T12:32:09.819Z"
      },
      {
        "duration": 8,
        "start_time": "2023-12-31T12:32:09.823Z"
      },
      {
        "duration": 7,
        "start_time": "2023-12-31T12:32:09.832Z"
      },
      {
        "duration": 16979,
        "start_time": "2023-12-31T12:32:09.840Z"
      },
      {
        "duration": 159,
        "start_time": "2023-12-31T12:32:26.822Z"
      },
      {
        "duration": 0,
        "start_time": "2023-12-31T12:32:26.983Z"
      },
      {
        "duration": 0,
        "start_time": "2023-12-31T12:32:26.985Z"
      },
      {
        "duration": 0,
        "start_time": "2023-12-31T12:32:26.986Z"
      },
      {
        "duration": 0,
        "start_time": "2023-12-31T12:32:26.987Z"
      },
      {
        "duration": 0,
        "start_time": "2023-12-31T12:32:26.989Z"
      },
      {
        "duration": 0,
        "start_time": "2023-12-31T12:32:26.990Z"
      },
      {
        "duration": 0,
        "start_time": "2023-12-31T12:32:26.991Z"
      },
      {
        "duration": 0,
        "start_time": "2023-12-31T12:32:26.992Z"
      },
      {
        "duration": 0,
        "start_time": "2023-12-31T12:32:26.994Z"
      },
      {
        "duration": 0,
        "start_time": "2023-12-31T12:32:26.995Z"
      },
      {
        "duration": 0,
        "start_time": "2023-12-31T12:32:26.997Z"
      },
      {
        "duration": 0,
        "start_time": "2023-12-31T12:32:26.998Z"
      },
      {
        "duration": 3,
        "start_time": "2023-12-31T12:32:46.044Z"
      },
      {
        "duration": 3,
        "start_time": "2023-12-31T12:32:51.138Z"
      },
      {
        "duration": 20,
        "start_time": "2023-12-31T12:32:51.143Z"
      },
      {
        "duration": 5,
        "start_time": "2023-12-31T12:32:51.164Z"
      },
      {
        "duration": 14,
        "start_time": "2023-12-31T12:32:51.170Z"
      },
      {
        "duration": 80886,
        "start_time": "2023-12-31T12:32:51.186Z"
      },
      {
        "duration": 4,
        "start_time": "2023-12-31T12:34:12.075Z"
      },
      {
        "duration": 115,
        "start_time": "2023-12-31T12:34:12.082Z"
      },
      {
        "duration": 4,
        "start_time": "2023-12-31T12:34:12.199Z"
      },
      {
        "duration": 4,
        "start_time": "2023-12-31T12:34:12.204Z"
      },
      {
        "duration": 7,
        "start_time": "2023-12-31T12:34:12.209Z"
      },
      {
        "duration": 117967,
        "start_time": "2023-12-31T12:34:12.218Z"
      },
      {
        "duration": 4,
        "start_time": "2023-12-31T12:36:10.265Z"
      },
      {
        "duration": 7,
        "start_time": "2023-12-31T12:36:10.273Z"
      },
      {
        "duration": 3,
        "start_time": "2023-12-31T12:36:53.837Z"
      },
      {
        "duration": 42350,
        "start_time": "2023-12-31T12:36:54.726Z"
      },
      {
        "duration": 4,
        "start_time": "2023-12-31T12:37:37.077Z"
      },
      {
        "duration": 4,
        "start_time": "2023-12-31T12:37:37.082Z"
      },
      {
        "duration": 2288,
        "start_time": "2023-12-31T12:42:15.293Z"
      },
      {
        "duration": 2166,
        "start_time": "2023-12-31T12:42:17.582Z"
      },
      {
        "duration": 780,
        "start_time": "2023-12-31T12:42:19.750Z"
      },
      {
        "duration": 159,
        "start_time": "2023-12-31T12:42:20.532Z"
      },
      {
        "duration": 25,
        "start_time": "2023-12-31T12:42:20.693Z"
      },
      {
        "duration": 5,
        "start_time": "2023-12-31T12:42:20.720Z"
      },
      {
        "duration": 189,
        "start_time": "2023-12-31T12:42:20.727Z"
      },
      {
        "duration": 179,
        "start_time": "2023-12-31T12:42:20.917Z"
      },
      {
        "duration": 140,
        "start_time": "2023-12-31T12:42:21.098Z"
      },
      {
        "duration": 405,
        "start_time": "2023-12-31T12:42:21.240Z"
      },
      {
        "duration": 447,
        "start_time": "2023-12-31T12:42:21.647Z"
      },
      {
        "duration": 85,
        "start_time": "2023-12-31T12:42:22.096Z"
      },
      {
        "duration": 648,
        "start_time": "2023-12-31T12:42:22.183Z"
      },
      {
        "duration": 87,
        "start_time": "2023-12-31T12:42:22.833Z"
      },
      {
        "duration": 216,
        "start_time": "2023-12-31T12:42:22.922Z"
      },
      {
        "duration": 30,
        "start_time": "2023-12-31T12:42:23.139Z"
      },
      {
        "duration": 14,
        "start_time": "2023-12-31T12:42:23.170Z"
      },
      {
        "duration": 84,
        "start_time": "2023-12-31T12:42:23.185Z"
      },
      {
        "duration": 54,
        "start_time": "2023-12-31T12:42:23.270Z"
      },
      {
        "duration": 19,
        "start_time": "2023-12-31T12:42:23.326Z"
      },
      {
        "duration": 491,
        "start_time": "2023-12-31T12:42:23.347Z"
      },
      {
        "duration": 3,
        "start_time": "2023-12-31T12:42:23.839Z"
      },
      {
        "duration": 154,
        "start_time": "2023-12-31T12:42:23.843Z"
      },
      {
        "duration": 0,
        "start_time": "2023-12-31T12:42:23.998Z"
      },
      {
        "duration": 0,
        "start_time": "2023-12-31T12:42:24.000Z"
      },
      {
        "duration": 0,
        "start_time": "2023-12-31T12:42:24.001Z"
      },
      {
        "duration": 0,
        "start_time": "2023-12-31T12:42:24.003Z"
      },
      {
        "duration": 0,
        "start_time": "2023-12-31T12:42:24.004Z"
      },
      {
        "duration": 0,
        "start_time": "2023-12-31T12:42:24.005Z"
      },
      {
        "duration": 0,
        "start_time": "2023-12-31T12:42:24.006Z"
      },
      {
        "duration": 0,
        "start_time": "2023-12-31T12:42:24.008Z"
      },
      {
        "duration": 0,
        "start_time": "2023-12-31T12:42:24.009Z"
      },
      {
        "duration": 0,
        "start_time": "2023-12-31T12:42:24.010Z"
      },
      {
        "duration": 0,
        "start_time": "2023-12-31T12:42:24.011Z"
      },
      {
        "duration": 0,
        "start_time": "2023-12-31T12:42:24.013Z"
      },
      {
        "duration": 0,
        "start_time": "2023-12-31T12:42:24.014Z"
      },
      {
        "duration": 0,
        "start_time": "2023-12-31T12:42:24.016Z"
      },
      {
        "duration": 0,
        "start_time": "2023-12-31T12:42:24.017Z"
      },
      {
        "duration": 0,
        "start_time": "2023-12-31T12:42:24.018Z"
      },
      {
        "duration": 0,
        "start_time": "2023-12-31T12:42:24.019Z"
      },
      {
        "duration": 18,
        "start_time": "2023-12-31T12:43:28.043Z"
      },
      {
        "duration": 475,
        "start_time": "2023-12-31T12:43:29.322Z"
      },
      {
        "duration": 3,
        "start_time": "2023-12-31T12:43:30.125Z"
      },
      {
        "duration": 286,
        "start_time": "2023-12-31T12:43:31.874Z"
      },
      {
        "duration": 303,
        "start_time": "2023-12-31T12:43:36.459Z"
      },
      {
        "duration": 2,
        "start_time": "2023-12-31T12:43:36.765Z"
      },
      {
        "duration": 10,
        "start_time": "2023-12-31T12:43:36.768Z"
      },
      {
        "duration": 5,
        "start_time": "2023-12-31T12:43:36.779Z"
      },
      {
        "duration": 17953,
        "start_time": "2023-12-31T12:43:36.785Z"
      },
      {
        "duration": 3,
        "start_time": "2023-12-31T12:43:54.740Z"
      },
      {
        "duration": 5,
        "start_time": "2023-12-31T12:43:54.744Z"
      },
      {
        "duration": 16,
        "start_time": "2023-12-31T12:43:54.750Z"
      },
      {
        "duration": 3,
        "start_time": "2023-12-31T12:43:54.767Z"
      },
      {
        "duration": 86194,
        "start_time": "2023-12-31T12:43:54.772Z"
      },
      {
        "duration": 5,
        "start_time": "2023-12-31T12:45:20.968Z"
      },
      {
        "duration": 94,
        "start_time": "2023-12-31T12:45:20.975Z"
      },
      {
        "duration": 2,
        "start_time": "2023-12-31T12:45:21.071Z"
      },
      {
        "duration": 4,
        "start_time": "2023-12-31T12:45:21.075Z"
      },
      {
        "duration": 4,
        "start_time": "2023-12-31T12:45:21.081Z"
      },
      {
        "duration": 129591,
        "start_time": "2023-12-31T12:45:21.086Z"
      },
      {
        "duration": 4,
        "start_time": "2023-12-31T12:47:30.678Z"
      },
      {
        "duration": 35,
        "start_time": "2023-12-31T12:47:30.683Z"
      },
      {
        "duration": 3,
        "start_time": "2023-12-31T12:53:27.071Z"
      },
      {
        "duration": 3030,
        "start_time": "2023-12-31T12:53:27.845Z"
      },
      {
        "duration": 589,
        "start_time": "2023-12-31T12:53:30.877Z"
      },
      {
        "duration": 5,
        "start_time": "2023-12-31T12:53:37.662Z"
      },
      {
        "duration": 3,
        "start_time": "2023-12-31T12:53:55.373Z"
      },
      {
        "duration": 3130,
        "start_time": "2023-12-31T12:53:56.438Z"
      },
      {
        "duration": 751,
        "start_time": "2023-12-31T12:54:01.126Z"
      },
      {
        "duration": 5,
        "start_time": "2023-12-31T12:54:03.758Z"
      },
      {
        "duration": 2,
        "start_time": "2023-12-31T12:55:17.032Z"
      },
      {
        "duration": 1082,
        "start_time": "2023-12-31T12:55:17.680Z"
      },
      {
        "duration": 5,
        "start_time": "2023-12-31T12:55:20.509Z"
      },
      {
        "duration": 2,
        "start_time": "2023-12-31T12:56:43.338Z"
      },
      {
        "duration": 1073,
        "start_time": "2023-12-31T12:56:44.176Z"
      },
      {
        "duration": 108,
        "start_time": "2023-12-31T12:56:46.968Z"
      },
      {
        "duration": 5,
        "start_time": "2023-12-31T12:56:49.066Z"
      },
      {
        "duration": 4208,
        "start_time": "2023-12-31T15:35:07.087Z"
      },
      {
        "duration": 2664,
        "start_time": "2023-12-31T15:35:11.298Z"
      },
      {
        "duration": 1164,
        "start_time": "2023-12-31T15:35:13.964Z"
      },
      {
        "duration": 156,
        "start_time": "2023-12-31T15:35:15.130Z"
      },
      {
        "duration": 26,
        "start_time": "2023-12-31T15:35:15.288Z"
      },
      {
        "duration": 6,
        "start_time": "2023-12-31T15:35:15.315Z"
      },
      {
        "duration": 196,
        "start_time": "2023-12-31T15:35:15.323Z"
      },
      {
        "duration": 203,
        "start_time": "2023-12-31T15:35:15.521Z"
      },
      {
        "duration": 167,
        "start_time": "2023-12-31T15:35:15.726Z"
      },
      {
        "duration": 454,
        "start_time": "2023-12-31T15:35:15.895Z"
      },
      {
        "duration": 474,
        "start_time": "2023-12-31T15:35:16.351Z"
      },
      {
        "duration": 103,
        "start_time": "2023-12-31T15:35:16.826Z"
      },
      {
        "duration": 696,
        "start_time": "2023-12-31T15:35:16.931Z"
      },
      {
        "duration": 90,
        "start_time": "2023-12-31T15:35:17.629Z"
      },
      {
        "duration": 218,
        "start_time": "2023-12-31T15:35:17.720Z"
      },
      {
        "duration": 27,
        "start_time": "2023-12-31T15:35:17.939Z"
      },
      {
        "duration": 32,
        "start_time": "2023-12-31T15:35:17.968Z"
      },
      {
        "duration": 86,
        "start_time": "2023-12-31T15:35:18.002Z"
      },
      {
        "duration": 54,
        "start_time": "2023-12-31T15:35:18.089Z"
      },
      {
        "duration": 29,
        "start_time": "2023-12-31T15:35:18.145Z"
      },
      {
        "duration": 547,
        "start_time": "2023-12-31T15:35:18.176Z"
      },
      {
        "duration": 3,
        "start_time": "2023-12-31T15:35:18.725Z"
      },
      {
        "duration": 386,
        "start_time": "2023-12-31T15:35:18.730Z"
      },
      {
        "duration": 3,
        "start_time": "2023-12-31T15:35:19.117Z"
      },
      {
        "duration": 1203,
        "start_time": "2023-12-31T15:35:19.121Z"
      },
      {
        "duration": 117,
        "start_time": "2023-12-31T15:35:20.325Z"
      },
      {
        "duration": 6,
        "start_time": "2023-12-31T15:35:20.443Z"
      },
      {
        "duration": 3,
        "start_time": "2023-12-31T15:35:20.450Z"
      },
      {
        "duration": 3603,
        "start_time": "2023-12-31T15:35:20.465Z"
      },
      {
        "duration": 201,
        "start_time": "2023-12-31T15:35:24.070Z"
      },
      {
        "duration": 94,
        "start_time": "2023-12-31T15:35:24.273Z"
      },
      {
        "duration": 6,
        "start_time": "2023-12-31T15:35:24.369Z"
      },
      {
        "duration": 25694,
        "start_time": "2023-12-31T15:35:24.377Z"
      },
      {
        "duration": 814,
        "start_time": "2023-12-31T15:35:50.072Z"
      },
      {
        "duration": 6,
        "start_time": "2023-12-31T15:35:50.887Z"
      },
      {
        "duration": 2899,
        "start_time": "2024-01-03T11:45:52.087Z"
      },
      {
        "duration": 1415,
        "start_time": "2024-01-03T11:45:54.987Z"
      },
      {
        "duration": 2720,
        "start_time": "2024-01-03T11:45:56.403Z"
      },
      {
        "duration": 144,
        "start_time": "2024-01-03T11:45:59.125Z"
      },
      {
        "duration": 40,
        "start_time": "2024-01-03T11:45:59.271Z"
      },
      {
        "duration": 6,
        "start_time": "2024-01-03T11:45:59.313Z"
      },
      {
        "duration": 172,
        "start_time": "2024-01-03T11:45:59.321Z"
      },
      {
        "duration": 165,
        "start_time": "2024-01-03T11:45:59.495Z"
      },
      {
        "duration": 133,
        "start_time": "2024-01-03T11:45:59.661Z"
      },
      {
        "duration": 357,
        "start_time": "2024-01-03T11:45:59.795Z"
      },
      {
        "duration": 446,
        "start_time": "2024-01-03T11:46:00.153Z"
      },
      {
        "duration": 77,
        "start_time": "2024-01-03T11:46:00.600Z"
      },
      {
        "duration": 650,
        "start_time": "2024-01-03T11:46:00.679Z"
      },
      {
        "duration": 83,
        "start_time": "2024-01-03T11:46:01.331Z"
      },
      {
        "duration": 188,
        "start_time": "2024-01-03T11:46:01.415Z"
      },
      {
        "duration": 20,
        "start_time": "2024-01-03T11:46:01.605Z"
      },
      {
        "duration": 5854,
        "start_time": "2024-01-03T11:46:01.627Z"
      },
      {
        "duration": 15,
        "start_time": "2024-01-03T11:46:07.482Z"
      },
      {
        "duration": 96,
        "start_time": "2024-01-03T11:46:07.498Z"
      },
      {
        "duration": 62,
        "start_time": "2024-01-03T11:46:07.595Z"
      },
      {
        "duration": 20,
        "start_time": "2024-01-03T11:46:07.659Z"
      },
      {
        "duration": 469,
        "start_time": "2024-01-03T11:46:07.691Z"
      },
      {
        "duration": 3,
        "start_time": "2024-01-03T11:46:08.161Z"
      },
      {
        "duration": 260,
        "start_time": "2024-01-03T11:46:08.165Z"
      },
      {
        "duration": 3,
        "start_time": "2024-01-03T11:46:08.426Z"
      },
      {
        "duration": 1093,
        "start_time": "2024-01-03T11:46:08.430Z"
      },
      {
        "duration": 105,
        "start_time": "2024-01-03T11:46:09.524Z"
      },
      {
        "duration": 4,
        "start_time": "2024-01-03T11:46:09.630Z"
      },
      {
        "duration": 3,
        "start_time": "2024-01-03T11:46:09.635Z"
      },
      {
        "duration": 2560,
        "start_time": "2024-01-03T11:46:09.640Z"
      },
      {
        "duration": 293,
        "start_time": "2024-01-03T11:46:12.202Z"
      },
      {
        "duration": 93,
        "start_time": "2024-01-03T11:46:12.500Z"
      },
      {
        "duration": 19,
        "start_time": "2024-01-03T11:46:12.594Z"
      },
      {
        "duration": 3186,
        "start_time": "2024-01-03T11:46:12.614Z"
      },
      {
        "duration": 711,
        "start_time": "2024-01-03T11:46:15.801Z"
      },
      {
        "duration": 79,
        "start_time": "2024-01-03T11:46:16.514Z"
      },
      {
        "duration": 105,
        "start_time": "2024-01-03T11:46:16.594Z"
      },
      {
        "duration": 157,
        "start_time": "2024-01-03T11:46:51.135Z"
      },
      {
        "duration": 4,
        "start_time": "2024-01-03T11:46:52.453Z"
      },
      {
        "duration": 2132,
        "start_time": "2024-01-03T12:13:59.539Z"
      },
      {
        "duration": 1243,
        "start_time": "2024-01-03T12:14:01.672Z"
      },
      {
        "duration": 748,
        "start_time": "2024-01-03T12:14:02.917Z"
      },
      {
        "duration": 148,
        "start_time": "2024-01-03T12:14:03.667Z"
      },
      {
        "duration": 27,
        "start_time": "2024-01-03T12:14:03.816Z"
      },
      {
        "duration": 5,
        "start_time": "2024-01-03T12:14:03.845Z"
      },
      {
        "duration": 187,
        "start_time": "2024-01-03T12:14:03.851Z"
      },
      {
        "duration": 168,
        "start_time": "2024-01-03T12:14:04.039Z"
      },
      {
        "duration": 125,
        "start_time": "2024-01-03T12:14:04.209Z"
      },
      {
        "duration": 379,
        "start_time": "2024-01-03T12:14:04.336Z"
      },
      {
        "duration": 388,
        "start_time": "2024-01-03T12:14:04.717Z"
      },
      {
        "duration": 74,
        "start_time": "2024-01-03T12:14:05.106Z"
      },
      {
        "duration": 593,
        "start_time": "2024-01-03T12:14:05.181Z"
      },
      {
        "duration": 80,
        "start_time": "2024-01-03T12:14:05.775Z"
      },
      {
        "duration": 184,
        "start_time": "2024-01-03T12:14:05.856Z"
      },
      {
        "duration": 22,
        "start_time": "2024-01-03T12:14:06.041Z"
      },
      {
        "duration": 5769,
        "start_time": "2024-01-03T12:14:06.064Z"
      },
      {
        "duration": 16,
        "start_time": "2024-01-03T12:14:11.834Z"
      },
      {
        "duration": 63,
        "start_time": "2024-01-03T12:14:11.851Z"
      },
      {
        "duration": 63,
        "start_time": "2024-01-03T12:14:11.915Z"
      },
      {
        "duration": 31,
        "start_time": "2024-01-03T12:14:11.979Z"
      },
      {
        "duration": 473,
        "start_time": "2024-01-03T12:14:12.011Z"
      },
      {
        "duration": 3,
        "start_time": "2024-01-03T12:14:12.485Z"
      },
      {
        "duration": 286,
        "start_time": "2024-01-03T12:14:12.489Z"
      },
      {
        "duration": 3,
        "start_time": "2024-01-03T12:14:12.779Z"
      },
      {
        "duration": 1019,
        "start_time": "2024-01-03T12:14:12.783Z"
      },
      {
        "duration": 109,
        "start_time": "2024-01-03T12:14:13.803Z"
      },
      {
        "duration": 5,
        "start_time": "2024-01-03T12:14:13.915Z"
      },
      {
        "duration": 3,
        "start_time": "2024-01-03T12:14:13.921Z"
      },
      {
        "duration": 2667,
        "start_time": "2024-01-03T12:14:13.926Z"
      },
      {
        "duration": 198,
        "start_time": "2024-01-03T12:14:16.595Z"
      },
      {
        "duration": 96,
        "start_time": "2024-01-03T12:14:16.795Z"
      },
      {
        "duration": 2,
        "start_time": "2024-01-03T12:14:16.893Z"
      },
      {
        "duration": 3802,
        "start_time": "2024-01-03T12:14:16.896Z"
      },
      {
        "duration": 711,
        "start_time": "2024-01-03T12:14:20.699Z"
      },
      {
        "duration": 15,
        "start_time": "2024-01-03T12:14:21.412Z"
      },
      {
        "duration": 268,
        "start_time": "2024-01-03T12:14:21.428Z"
      },
      {
        "duration": 4,
        "start_time": "2024-01-03T12:14:21.698Z"
      },
      {
        "duration": 4787,
        "start_time": "2024-01-03T19:11:51.125Z"
      },
      {
        "duration": 1889,
        "start_time": "2024-01-03T19:12:10.300Z"
      },
      {
        "duration": 1682,
        "start_time": "2024-01-03T19:12:30.586Z"
      },
      {
        "duration": 1555,
        "start_time": "2024-01-03T19:12:57.535Z"
      },
      {
        "duration": 1641,
        "start_time": "2024-01-03T19:13:10.407Z"
      },
      {
        "duration": 1693,
        "start_time": "2024-01-03T19:13:31.755Z"
      },
      {
        "duration": 1363,
        "start_time": "2024-01-03T19:14:49.268Z"
      },
      {
        "duration": 26778,
        "start_time": "2024-01-03T19:14:54.482Z"
      },
      {
        "duration": 1038,
        "start_time": "2024-01-03T19:15:42.189Z"
      },
      {
        "duration": 5895,
        "start_time": "2024-01-03T19:15:54.928Z"
      },
      {
        "duration": 5821,
        "start_time": "2024-01-04T10:00:46.365Z"
      },
      {
        "duration": 2867,
        "start_time": "2024-01-04T10:00:55.071Z"
      },
      {
        "duration": 1276,
        "start_time": "2024-01-04T10:03:31.687Z"
      },
      {
        "duration": 1019,
        "start_time": "2024-01-04T10:04:38.802Z"
      },
      {
        "duration": 172,
        "start_time": "2024-01-04T10:04:43.885Z"
      },
      {
        "duration": 29,
        "start_time": "2024-01-04T11:47:14.702Z"
      },
      {
        "duration": 147,
        "start_time": "2024-01-04T11:47:56.851Z"
      },
      {
        "duration": 12,
        "start_time": "2024-01-04T11:48:09.429Z"
      },
      {
        "duration": 11,
        "start_time": "2024-01-04T11:49:28.165Z"
      },
      {
        "duration": 9,
        "start_time": "2024-01-04T11:49:50.083Z"
      },
      {
        "duration": 10,
        "start_time": "2024-01-04T11:49:50.885Z"
      },
      {
        "duration": 108,
        "start_time": "2024-01-04T11:50:29.194Z"
      },
      {
        "duration": 78,
        "start_time": "2024-01-04T11:50:34.922Z"
      },
      {
        "duration": 77,
        "start_time": "2024-01-04T11:50:47.481Z"
      },
      {
        "duration": 6526,
        "start_time": "2024-01-05T09:36:00.920Z"
      },
      {
        "duration": 3162,
        "start_time": "2024-01-05T09:36:07.449Z"
      },
      {
        "duration": 1581,
        "start_time": "2024-01-05T09:36:10.613Z"
      },
      {
        "duration": 1147,
        "start_time": "2024-01-05T09:36:12.195Z"
      },
      {
        "duration": 153,
        "start_time": "2024-01-05T09:36:13.344Z"
      },
      {
        "duration": 29,
        "start_time": "2024-01-05T09:36:13.498Z"
      },
      {
        "duration": 7,
        "start_time": "2024-01-05T09:36:13.529Z"
      },
      {
        "duration": 216,
        "start_time": "2024-01-05T09:36:13.537Z"
      },
      {
        "duration": 238,
        "start_time": "2024-01-05T09:36:13.755Z"
      },
      {
        "duration": 144,
        "start_time": "2024-01-05T09:36:13.995Z"
      },
      {
        "duration": 447,
        "start_time": "2024-01-05T09:36:14.141Z"
      },
      {
        "duration": 506,
        "start_time": "2024-01-05T09:36:14.590Z"
      },
      {
        "duration": 99,
        "start_time": "2024-01-05T09:36:15.098Z"
      },
      {
        "duration": 760,
        "start_time": "2024-01-05T09:36:15.201Z"
      },
      {
        "duration": 113,
        "start_time": "2024-01-05T09:36:15.963Z"
      },
      {
        "duration": 135,
        "start_time": "2024-01-05T09:36:16.077Z"
      },
      {
        "duration": 39,
        "start_time": "2024-01-05T09:36:16.213Z"
      },
      {
        "duration": 129,
        "start_time": "2024-01-05T09:36:16.254Z"
      },
      {
        "duration": 0,
        "start_time": "2024-01-05T09:36:16.384Z"
      },
      {
        "duration": 0,
        "start_time": "2024-01-05T09:36:16.386Z"
      },
      {
        "duration": 0,
        "start_time": "2024-01-05T09:36:16.387Z"
      },
      {
        "duration": 0,
        "start_time": "2024-01-05T09:36:16.388Z"
      },
      {
        "duration": 188,
        "start_time": "2024-01-05T09:36:43.133Z"
      },
      {
        "duration": 17,
        "start_time": "2024-01-05T09:36:46.305Z"
      },
      {
        "duration": 6638,
        "start_time": "2024-01-05T09:36:46.325Z"
      },
      {
        "duration": 80,
        "start_time": "2024-01-05T09:36:52.964Z"
      },
      {
        "duration": 52,
        "start_time": "2024-01-05T09:36:53.046Z"
      },
      {
        "duration": 17,
        "start_time": "2024-01-05T09:36:53.100Z"
      },
      {
        "duration": 24,
        "start_time": "2024-01-05T09:36:53.120Z"
      },
      {
        "duration": 4,
        "start_time": "2024-01-05T09:36:53.146Z"
      },
      {
        "duration": 1183,
        "start_time": "2024-01-05T09:36:53.151Z"
      },
      {
        "duration": 10,
        "start_time": "2024-01-05T09:36:54.335Z"
      },
      {
        "duration": 0,
        "start_time": "2024-01-05T09:36:54.347Z"
      },
      {
        "duration": 0,
        "start_time": "2024-01-05T09:36:54.348Z"
      },
      {
        "duration": 0,
        "start_time": "2024-01-05T09:36:54.349Z"
      },
      {
        "duration": 1,
        "start_time": "2024-01-05T09:36:54.350Z"
      },
      {
        "duration": 0,
        "start_time": "2024-01-05T09:36:54.352Z"
      },
      {
        "duration": 0,
        "start_time": "2024-01-05T09:36:54.353Z"
      },
      {
        "duration": 0,
        "start_time": "2024-01-05T09:36:54.354Z"
      },
      {
        "duration": 0,
        "start_time": "2024-01-05T09:36:54.355Z"
      },
      {
        "duration": 0,
        "start_time": "2024-01-05T09:36:54.355Z"
      },
      {
        "duration": 0,
        "start_time": "2024-01-05T09:36:54.357Z"
      },
      {
        "duration": 0,
        "start_time": "2024-01-05T09:36:54.358Z"
      },
      {
        "duration": 0,
        "start_time": "2024-01-05T09:36:54.359Z"
      },
      {
        "duration": 0,
        "start_time": "2024-01-05T09:36:54.360Z"
      },
      {
        "duration": 0,
        "start_time": "2024-01-05T09:36:54.361Z"
      },
      {
        "duration": 0,
        "start_time": "2024-01-05T09:36:54.362Z"
      },
      {
        "duration": 57,
        "start_time": "2024-01-05T09:40:09.497Z"
      },
      {
        "duration": 3,
        "start_time": "2024-01-05T09:40:09.556Z"
      },
      {
        "duration": 6,
        "start_time": "2024-01-05T09:40:09.560Z"
      },
      {
        "duration": 1433,
        "start_time": "2024-01-05T09:40:09.568Z"
      },
      {
        "duration": 14,
        "start_time": "2024-01-05T09:40:11.003Z"
      },
      {
        "duration": 0,
        "start_time": "2024-01-05T09:40:11.019Z"
      },
      {
        "duration": 0,
        "start_time": "2024-01-05T09:40:11.021Z"
      },
      {
        "duration": 0,
        "start_time": "2024-01-05T09:40:11.022Z"
      },
      {
        "duration": 0,
        "start_time": "2024-01-05T09:40:11.023Z"
      },
      {
        "duration": 0,
        "start_time": "2024-01-05T09:40:11.024Z"
      },
      {
        "duration": 1,
        "start_time": "2024-01-05T09:40:11.025Z"
      },
      {
        "duration": 0,
        "start_time": "2024-01-05T09:40:11.027Z"
      },
      {
        "duration": 0,
        "start_time": "2024-01-05T09:40:11.028Z"
      },
      {
        "duration": 0,
        "start_time": "2024-01-05T09:40:11.030Z"
      },
      {
        "duration": 0,
        "start_time": "2024-01-05T09:40:11.031Z"
      },
      {
        "duration": 0,
        "start_time": "2024-01-05T09:40:11.032Z"
      },
      {
        "duration": 0,
        "start_time": "2024-01-05T09:40:11.033Z"
      },
      {
        "duration": 0,
        "start_time": "2024-01-05T09:40:11.035Z"
      },
      {
        "duration": 0,
        "start_time": "2024-01-05T09:40:11.035Z"
      },
      {
        "duration": 0,
        "start_time": "2024-01-05T09:40:11.037Z"
      },
      {
        "duration": 3,
        "start_time": "2024-01-05T09:41:10.486Z"
      },
      {
        "duration": 1540,
        "start_time": "2024-01-05T09:43:18.190Z"
      },
      {
        "duration": 9,
        "start_time": "2024-01-05T09:43:38.174Z"
      },
      {
        "duration": 4,
        "start_time": "2024-01-05T09:43:49.691Z"
      },
      {
        "duration": 1796,
        "start_time": "2024-01-05T09:43:54.000Z"
      },
      {
        "duration": 4,
        "start_time": "2024-01-05T10:41:41.839Z"
      },
      {
        "duration": 25,
        "start_time": "2024-01-05T10:46:26.279Z"
      },
      {
        "duration": 12,
        "start_time": "2024-01-05T10:47:36.135Z"
      },
      {
        "duration": 10,
        "start_time": "2024-01-05T10:47:55.875Z"
      },
      {
        "duration": 12,
        "start_time": "2024-01-05T10:48:02.223Z"
      },
      {
        "duration": 8,
        "start_time": "2024-01-05T10:48:28.969Z"
      },
      {
        "duration": 8,
        "start_time": "2024-01-05T10:48:39.584Z"
      },
      {
        "duration": 10,
        "start_time": "2024-01-05T10:48:59.921Z"
      },
      {
        "duration": 25,
        "start_time": "2024-01-05T10:49:04.712Z"
      },
      {
        "duration": 10,
        "start_time": "2024-01-05T14:20:00.271Z"
      },
      {
        "duration": 14,
        "start_time": "2024-01-05T14:20:54.662Z"
      },
      {
        "duration": 6,
        "start_time": "2024-01-05T14:21:04.805Z"
      },
      {
        "duration": 5,
        "start_time": "2024-01-05T14:22:20.773Z"
      },
      {
        "duration": 17,
        "start_time": "2024-01-05T14:26:45.723Z"
      },
      {
        "duration": 2913,
        "start_time": "2024-01-05T14:27:07.690Z"
      },
      {
        "duration": 2500,
        "start_time": "2024-01-05T14:27:10.606Z"
      },
      {
        "duration": 1376,
        "start_time": "2024-01-05T14:27:13.108Z"
      },
      {
        "duration": 905,
        "start_time": "2024-01-05T14:27:14.486Z"
      },
      {
        "duration": 228,
        "start_time": "2024-01-05T14:27:15.393Z"
      },
      {
        "duration": 38,
        "start_time": "2024-01-05T14:27:15.623Z"
      },
      {
        "duration": 6,
        "start_time": "2024-01-05T14:27:15.663Z"
      },
      {
        "duration": 215,
        "start_time": "2024-01-05T14:27:15.671Z"
      },
      {
        "duration": 206,
        "start_time": "2024-01-05T14:27:15.888Z"
      },
      {
        "duration": 154,
        "start_time": "2024-01-05T14:27:16.097Z"
      },
      {
        "duration": 448,
        "start_time": "2024-01-05T14:27:16.253Z"
      },
      {
        "duration": 502,
        "start_time": "2024-01-05T14:27:16.704Z"
      },
      {
        "duration": 94,
        "start_time": "2024-01-05T14:27:17.208Z"
      },
      {
        "duration": 713,
        "start_time": "2024-01-05T14:27:17.304Z"
      },
      {
        "duration": 104,
        "start_time": "2024-01-05T14:27:18.019Z"
      },
      {
        "duration": 48,
        "start_time": "2024-01-05T14:27:18.125Z"
      },
      {
        "duration": 41,
        "start_time": "2024-01-05T14:27:18.175Z"
      },
      {
        "duration": 182,
        "start_time": "2024-01-05T14:27:18.218Z"
      },
      {
        "duration": 20,
        "start_time": "2024-01-05T14:27:18.402Z"
      },
      {
        "duration": 6127,
        "start_time": "2024-01-05T14:27:18.424Z"
      },
      {
        "duration": 70,
        "start_time": "2024-01-05T14:27:24.553Z"
      },
      {
        "duration": 67,
        "start_time": "2024-01-05T14:27:24.625Z"
      },
      {
        "duration": 3,
        "start_time": "2024-01-05T14:27:24.693Z"
      },
      {
        "duration": 22,
        "start_time": "2024-01-05T14:27:24.699Z"
      },
      {
        "duration": 126,
        "start_time": "2024-01-05T14:27:48.700Z"
      },
      {
        "duration": 22,
        "start_time": "2024-01-05T14:28:20.647Z"
      },
      {
        "duration": 17,
        "start_time": "2024-01-05T14:28:34.763Z"
      },
      {
        "duration": 16,
        "start_time": "2024-01-05T14:28:40.763Z"
      },
      {
        "duration": 15,
        "start_time": "2024-01-05T14:28:42.059Z"
      },
      {
        "duration": 20,
        "start_time": "2024-01-05T14:29:13.821Z"
      },
      {
        "duration": 13,
        "start_time": "2024-01-05T14:31:32.030Z"
      },
      {
        "duration": 26,
        "start_time": "2024-01-05T14:31:55.368Z"
      },
      {
        "duration": 15,
        "start_time": "2024-01-05T14:32:05.457Z"
      },
      {
        "duration": 13,
        "start_time": "2024-01-05T14:32:49.728Z"
      },
      {
        "duration": 12,
        "start_time": "2024-01-05T14:34:53.090Z"
      },
      {
        "duration": 10,
        "start_time": "2024-01-05T14:36:38.139Z"
      },
      {
        "duration": 123,
        "start_time": "2024-01-05T14:38:25.771Z"
      },
      {
        "duration": 16,
        "start_time": "2024-01-05T14:39:04.138Z"
      },
      {
        "duration": 66,
        "start_time": "2024-01-05T14:39:26.160Z"
      },
      {
        "duration": 61,
        "start_time": "2024-01-05T14:39:40.684Z"
      },
      {
        "duration": 10,
        "start_time": "2024-01-05T14:39:49.349Z"
      },
      {
        "duration": 9,
        "start_time": "2024-01-05T14:39:55.514Z"
      },
      {
        "duration": 5,
        "start_time": "2024-01-05T14:40:48.313Z"
      },
      {
        "duration": 8,
        "start_time": "2024-01-05T14:40:54.652Z"
      },
      {
        "duration": 9,
        "start_time": "2024-01-05T14:41:03.478Z"
      },
      {
        "duration": 8,
        "start_time": "2024-01-05T14:41:25.889Z"
      },
      {
        "duration": 3,
        "start_time": "2024-01-05T14:41:30.534Z"
      },
      {
        "duration": 1509,
        "start_time": "2024-01-05T14:41:31.591Z"
      },
      {
        "duration": 4,
        "start_time": "2024-01-05T14:41:33.101Z"
      },
      {
        "duration": 60,
        "start_time": "2024-01-05T14:41:34.380Z"
      },
      {
        "duration": 4,
        "start_time": "2024-01-05T14:42:11.182Z"
      },
      {
        "duration": 1869,
        "start_time": "2024-01-05T14:42:24.529Z"
      },
      {
        "duration": 106,
        "start_time": "2024-01-05T14:42:37.056Z"
      },
      {
        "duration": 2906,
        "start_time": "2024-01-05T14:48:21.959Z"
      },
      {
        "duration": 2439,
        "start_time": "2024-01-05T14:48:24.868Z"
      },
      {
        "duration": 3,
        "start_time": "2024-01-05T14:48:27.309Z"
      },
      {
        "duration": 847,
        "start_time": "2024-01-05T14:48:27.314Z"
      },
      {
        "duration": 160,
        "start_time": "2024-01-05T14:48:28.163Z"
      },
      {
        "duration": 26,
        "start_time": "2024-01-05T14:48:28.324Z"
      },
      {
        "duration": 5,
        "start_time": "2024-01-05T14:48:28.351Z"
      },
      {
        "duration": 162,
        "start_time": "2024-01-05T14:48:28.357Z"
      },
      {
        "duration": 191,
        "start_time": "2024-01-05T14:48:28.521Z"
      },
      {
        "duration": 145,
        "start_time": "2024-01-05T14:48:28.715Z"
      },
      {
        "duration": 362,
        "start_time": "2024-01-05T14:48:28.861Z"
      },
      {
        "duration": 376,
        "start_time": "2024-01-05T14:48:29.224Z"
      },
      {
        "duration": 84,
        "start_time": "2024-01-05T14:48:29.602Z"
      },
      {
        "duration": 663,
        "start_time": "2024-01-05T14:48:29.687Z"
      },
      {
        "duration": 94,
        "start_time": "2024-01-05T14:48:30.351Z"
      },
      {
        "duration": 40,
        "start_time": "2024-01-05T14:48:30.447Z"
      },
      {
        "duration": 36,
        "start_time": "2024-01-05T14:48:30.489Z"
      },
      {
        "duration": 171,
        "start_time": "2024-01-05T14:48:30.527Z"
      },
      {
        "duration": 20,
        "start_time": "2024-01-05T14:48:30.700Z"
      },
      {
        "duration": 5905,
        "start_time": "2024-01-05T14:48:30.722Z"
      },
      {
        "duration": 68,
        "start_time": "2024-01-05T14:48:36.628Z"
      },
      {
        "duration": 64,
        "start_time": "2024-01-05T14:48:36.697Z"
      },
      {
        "duration": 3,
        "start_time": "2024-01-05T14:48:36.763Z"
      },
      {
        "duration": 85,
        "start_time": "2024-01-05T14:48:36.767Z"
      },
      {
        "duration": 0,
        "start_time": "2024-01-05T14:48:36.855Z"
      },
      {
        "duration": 0,
        "start_time": "2024-01-05T14:48:36.856Z"
      },
      {
        "duration": 0,
        "start_time": "2024-01-05T14:48:36.857Z"
      },
      {
        "duration": 0,
        "start_time": "2024-01-05T14:48:36.859Z"
      },
      {
        "duration": 0,
        "start_time": "2024-01-05T14:48:36.861Z"
      },
      {
        "duration": 0,
        "start_time": "2024-01-05T14:48:36.862Z"
      },
      {
        "duration": 0,
        "start_time": "2024-01-05T14:48:36.863Z"
      },
      {
        "duration": 0,
        "start_time": "2024-01-05T14:48:36.865Z"
      },
      {
        "duration": 0,
        "start_time": "2024-01-05T14:48:36.867Z"
      },
      {
        "duration": 0,
        "start_time": "2024-01-05T14:48:36.867Z"
      },
      {
        "duration": 0,
        "start_time": "2024-01-05T14:48:36.869Z"
      },
      {
        "duration": 0,
        "start_time": "2024-01-05T14:48:36.870Z"
      },
      {
        "duration": 0,
        "start_time": "2024-01-05T14:48:36.872Z"
      },
      {
        "duration": 0,
        "start_time": "2024-01-05T14:48:36.873Z"
      },
      {
        "duration": 0,
        "start_time": "2024-01-05T14:48:36.874Z"
      },
      {
        "duration": 0,
        "start_time": "2024-01-05T14:48:36.875Z"
      },
      {
        "duration": 0,
        "start_time": "2024-01-05T14:48:36.876Z"
      },
      {
        "duration": 0,
        "start_time": "2024-01-05T14:48:36.877Z"
      },
      {
        "duration": 0,
        "start_time": "2024-01-05T14:48:36.878Z"
      },
      {
        "duration": 0,
        "start_time": "2024-01-05T14:48:36.879Z"
      },
      {
        "duration": 3,
        "start_time": "2024-01-05T14:48:50.856Z"
      },
      {
        "duration": 2,
        "start_time": "2024-01-05T14:48:54.274Z"
      },
      {
        "duration": 14,
        "start_time": "2024-01-05T14:48:54.278Z"
      },
      {
        "duration": 3,
        "start_time": "2024-01-05T14:48:54.294Z"
      },
      {
        "duration": 4,
        "start_time": "2024-01-05T14:48:54.298Z"
      },
      {
        "duration": 1558,
        "start_time": "2024-01-05T14:48:54.303Z"
      },
      {
        "duration": 4,
        "start_time": "2024-01-05T14:48:55.863Z"
      },
      {
        "duration": 1922,
        "start_time": "2024-01-05T14:48:55.868Z"
      },
      {
        "duration": 3,
        "start_time": "2024-01-05T14:48:57.792Z"
      },
      {
        "duration": 3578,
        "start_time": "2024-01-05T14:48:57.796Z"
      },
      {
        "duration": 197,
        "start_time": "2024-01-05T14:49:01.375Z"
      },
      {
        "duration": 6,
        "start_time": "2024-01-05T14:49:01.574Z"
      },
      {
        "duration": 34,
        "start_time": "2024-01-05T14:49:01.581Z"
      },
      {
        "duration": 27305,
        "start_time": "2024-01-05T14:49:01.617Z"
      },
      {
        "duration": 288,
        "start_time": "2024-01-05T14:49:28.926Z"
      },
      {
        "duration": 98,
        "start_time": "2024-01-05T14:49:29.217Z"
      },
      {
        "duration": 3,
        "start_time": "2024-01-05T14:49:29.317Z"
      },
      {
        "duration": 4740,
        "start_time": "2024-01-05T14:49:29.322Z"
      },
      {
        "duration": 79,
        "start_time": "2024-01-05T14:49:34.063Z"
      },
      {
        "duration": 8,
        "start_time": "2024-01-05T14:49:34.143Z"
      },
      {
        "duration": 0,
        "start_time": "2024-01-05T14:49:34.152Z"
      },
      {
        "duration": 0,
        "start_time": "2024-01-05T14:49:34.154Z"
      },
      {
        "duration": 3008,
        "start_time": "2024-01-05T14:49:50.303Z"
      },
      {
        "duration": 24295,
        "start_time": "2024-01-05T14:50:22.039Z"
      },
      {
        "duration": 85934,
        "start_time": "2024-01-05T14:50:51.089Z"
      },
      {
        "duration": 1510,
        "start_time": "2024-01-05T14:52:17.025Z"
      },
      {
        "duration": 79,
        "start_time": "2024-01-05T14:52:18.536Z"
      },
      {
        "duration": 516,
        "start_time": "2024-01-05T14:52:18.617Z"
      },
      {
        "duration": 5,
        "start_time": "2024-01-05T14:52:19.135Z"
      },
      {
        "duration": 3,
        "start_time": "2024-01-05T16:13:41.169Z"
      },
      {
        "duration": 2,
        "start_time": "2024-01-05T16:14:38.561Z"
      },
      {
        "duration": 4,
        "start_time": "2024-01-05T16:17:15.149Z"
      },
      {
        "duration": 34181,
        "start_time": "2024-01-05T16:17:48.659Z"
      },
      {
        "duration": 4,
        "start_time": "2024-01-05T16:18:22.842Z"
      },
      {
        "duration": 3,
        "start_time": "2024-01-05T16:18:56.929Z"
      },
      {
        "duration": 3354,
        "start_time": "2024-01-05T16:21:26.413Z"
      },
      {
        "duration": 194,
        "start_time": "2024-01-05T16:21:29.769Z"
      },
      {
        "duration": 3,
        "start_time": "2024-01-05T18:04:38.229Z"
      },
      {
        "duration": 3,
        "start_time": "2024-01-05T18:04:39.684Z"
      },
      {
        "duration": 3,
        "start_time": "2024-01-05T18:05:40.078Z"
      },
      {
        "duration": 3047,
        "start_time": "2024-01-05T18:08:26.565Z"
      },
      {
        "duration": 2643,
        "start_time": "2024-01-05T18:08:29.615Z"
      },
      {
        "duration": 1771,
        "start_time": "2024-01-05T18:08:32.260Z"
      },
      {
        "duration": 1226,
        "start_time": "2024-01-05T18:08:34.033Z"
      },
      {
        "duration": 181,
        "start_time": "2024-01-05T18:08:35.261Z"
      },
      {
        "duration": 34,
        "start_time": "2024-01-05T18:08:35.443Z"
      },
      {
        "duration": 5,
        "start_time": "2024-01-05T18:08:35.479Z"
      },
      {
        "duration": 216,
        "start_time": "2024-01-05T18:08:35.485Z"
      },
      {
        "duration": 272,
        "start_time": "2024-01-05T18:08:35.704Z"
      },
      {
        "duration": 228,
        "start_time": "2024-01-05T18:08:35.978Z"
      },
      {
        "duration": 554,
        "start_time": "2024-01-05T18:08:36.209Z"
      },
      {
        "duration": 570,
        "start_time": "2024-01-05T18:08:36.765Z"
      },
      {
        "duration": 93,
        "start_time": "2024-01-05T18:08:37.337Z"
      },
      {
        "duration": 805,
        "start_time": "2024-01-05T18:08:37.437Z"
      },
      {
        "duration": 155,
        "start_time": "2024-01-05T18:08:38.244Z"
      },
      {
        "duration": 63,
        "start_time": "2024-01-05T18:08:38.401Z"
      },
      {
        "duration": 31,
        "start_time": "2024-01-05T18:08:38.465Z"
      },
      {
        "duration": 231,
        "start_time": "2024-01-05T18:08:38.498Z"
      },
      {
        "duration": 19,
        "start_time": "2024-01-05T18:08:38.731Z"
      },
      {
        "duration": 6444,
        "start_time": "2024-01-05T18:08:38.753Z"
      },
      {
        "duration": 100,
        "start_time": "2024-01-05T18:08:45.199Z"
      },
      {
        "duration": 70,
        "start_time": "2024-01-05T18:08:45.301Z"
      },
      {
        "duration": 3,
        "start_time": "2024-01-05T18:08:45.372Z"
      },
      {
        "duration": 5,
        "start_time": "2024-01-05T18:08:45.376Z"
      },
      {
        "duration": 123,
        "start_time": "2024-01-05T18:08:45.382Z"
      },
      {
        "duration": 7,
        "start_time": "2024-01-05T18:08:45.507Z"
      },
      {
        "duration": 4,
        "start_time": "2024-01-05T18:08:45.516Z"
      },
      {
        "duration": 1592,
        "start_time": "2024-01-05T18:08:45.522Z"
      },
      {
        "duration": 12,
        "start_time": "2024-01-05T18:08:47.117Z"
      },
      {
        "duration": 2051,
        "start_time": "2024-01-05T18:08:47.131Z"
      },
      {
        "duration": 3,
        "start_time": "2024-01-05T18:08:49.183Z"
      },
      {
        "duration": 4,
        "start_time": "2024-01-05T18:08:49.187Z"
      },
      {
        "duration": 7,
        "start_time": "2024-01-05T18:08:49.192Z"
      },
      {
        "duration": 34775,
        "start_time": "2024-01-05T18:08:49.201Z"
      },
      {
        "duration": 4,
        "start_time": "2024-01-05T18:09:23.977Z"
      },
      {
        "duration": 4,
        "start_time": "2024-01-05T18:09:23.983Z"
      },
      {
        "duration": 3635,
        "start_time": "2024-01-05T18:09:23.989Z"
      },
      {
        "duration": 208,
        "start_time": "2024-01-05T18:09:27.626Z"
      },
      {
        "duration": 3,
        "start_time": "2024-01-05T18:09:27.836Z"
      },
      {
        "duration": 19,
        "start_time": "2024-01-05T18:09:27.841Z"
      },
      {
        "duration": 3,
        "start_time": "2024-01-05T18:09:27.865Z"
      },
      {
        "duration": 2965,
        "start_time": "2024-01-05T18:13:25.908Z"
      },
      {
        "duration": 2621,
        "start_time": "2024-01-05T18:13:28.875Z"
      },
      {
        "duration": 1371,
        "start_time": "2024-01-05T18:13:31.497Z"
      },
      {
        "duration": 947,
        "start_time": "2024-01-05T18:13:32.871Z"
      },
      {
        "duration": 180,
        "start_time": "2024-01-05T18:13:33.820Z"
      },
      {
        "duration": 36,
        "start_time": "2024-01-05T18:13:34.001Z"
      },
      {
        "duration": 15,
        "start_time": "2024-01-05T18:13:34.039Z"
      },
      {
        "duration": 211,
        "start_time": "2024-01-05T18:13:34.056Z"
      },
      {
        "duration": 209,
        "start_time": "2024-01-05T18:13:34.269Z"
      },
      {
        "duration": 159,
        "start_time": "2024-01-05T18:13:34.481Z"
      },
      {
        "duration": 501,
        "start_time": "2024-01-05T18:13:34.642Z"
      },
      {
        "duration": 588,
        "start_time": "2024-01-05T18:13:35.145Z"
      },
      {
        "duration": 108,
        "start_time": "2024-01-05T18:13:35.735Z"
      },
      {
        "duration": 763,
        "start_time": "2024-01-05T18:13:35.845Z"
      },
      {
        "duration": 125,
        "start_time": "2024-01-05T18:13:36.610Z"
      },
      {
        "duration": 47,
        "start_time": "2024-01-05T18:13:36.737Z"
      },
      {
        "duration": 44,
        "start_time": "2024-01-05T18:13:36.785Z"
      },
      {
        "duration": 198,
        "start_time": "2024-01-05T18:13:36.832Z"
      },
      {
        "duration": 20,
        "start_time": "2024-01-05T18:13:37.032Z"
      },
      {
        "duration": 6369,
        "start_time": "2024-01-05T18:13:37.054Z"
      },
      {
        "duration": 68,
        "start_time": "2024-01-05T18:13:43.425Z"
      },
      {
        "duration": 67,
        "start_time": "2024-01-05T18:13:43.495Z"
      },
      {
        "duration": 4,
        "start_time": "2024-01-05T18:13:43.563Z"
      },
      {
        "duration": 17,
        "start_time": "2024-01-05T18:13:43.569Z"
      },
      {
        "duration": 102,
        "start_time": "2024-01-05T18:13:43.587Z"
      },
      {
        "duration": 4,
        "start_time": "2024-01-05T18:13:43.691Z"
      },
      {
        "duration": 3,
        "start_time": "2024-01-05T18:13:43.697Z"
      },
      {
        "duration": 1518,
        "start_time": "2024-01-05T18:13:43.714Z"
      },
      {
        "duration": 3,
        "start_time": "2024-01-05T18:13:45.234Z"
      },
      {
        "duration": 2105,
        "start_time": "2024-01-05T18:13:45.239Z"
      },
      {
        "duration": 3,
        "start_time": "2024-01-05T18:13:47.346Z"
      },
      {
        "duration": 4,
        "start_time": "2024-01-05T18:13:47.350Z"
      },
      {
        "duration": 17,
        "start_time": "2024-01-05T18:13:47.356Z"
      },
      {
        "duration": 34755,
        "start_time": "2024-01-05T18:13:47.374Z"
      },
      {
        "duration": 4,
        "start_time": "2024-01-05T18:14:22.132Z"
      },
      {
        "duration": 7,
        "start_time": "2024-01-05T18:14:22.137Z"
      },
      {
        "duration": 3718,
        "start_time": "2024-01-05T18:14:22.146Z"
      },
      {
        "duration": 199,
        "start_time": "2024-01-05T18:14:25.866Z"
      },
      {
        "duration": 2,
        "start_time": "2024-01-05T18:14:26.067Z"
      },
      {
        "duration": 3,
        "start_time": "2024-01-05T18:14:26.071Z"
      },
      {
        "duration": 6,
        "start_time": "2024-01-05T18:14:26.076Z"
      },
      {
        "duration": 142140,
        "start_time": "2024-01-05T18:14:26.084Z"
      },
      {
        "duration": 27591,
        "start_time": "2024-01-05T18:16:48.228Z"
      },
      {
        "duration": 294,
        "start_time": "2024-01-05T18:17:15.821Z"
      },
      {
        "duration": 17,
        "start_time": "2024-01-05T18:17:16.117Z"
      },
      {
        "duration": 4,
        "start_time": "2024-01-05T18:17:16.136Z"
      },
      {
        "duration": 147588,
        "start_time": "2024-01-05T18:17:16.142Z"
      },
      {
        "duration": 1501,
        "start_time": "2024-01-05T18:19:43.732Z"
      },
      {
        "duration": 5,
        "start_time": "2024-01-05T18:19:45.235Z"
      },
      {
        "duration": 574,
        "start_time": "2024-01-05T18:19:45.241Z"
      },
      {
        "duration": 5,
        "start_time": "2024-01-05T18:19:45.817Z"
      },
      {
        "duration": 4,
        "start_time": "2024-01-05T18:34:23.640Z"
      },
      {
        "duration": 3,
        "start_time": "2024-01-05T18:35:16.231Z"
      },
      {
        "duration": 3294,
        "start_time": "2024-01-05T18:35:17.392Z"
      },
      {
        "duration": 190,
        "start_time": "2024-01-05T18:35:20.688Z"
      },
      {
        "duration": 2,
        "start_time": "2024-01-05T18:40:03.292Z"
      },
      {
        "duration": 2,
        "start_time": "2024-01-05T18:40:04.118Z"
      },
      {
        "duration": 4,
        "start_time": "2024-01-05T18:40:05.207Z"
      },
      {
        "duration": 196233,
        "start_time": "2024-01-05T18:40:06.288Z"
      },
      {
        "duration": 90,
        "start_time": "2024-01-05T18:43:22.525Z"
      },
      {
        "duration": 3,
        "start_time": "2024-01-05T18:47:55.307Z"
      },
      {
        "duration": 3,
        "start_time": "2024-01-05T18:51:28.491Z"
      },
      {
        "duration": 2,
        "start_time": "2024-01-05T18:51:58.243Z"
      },
      {
        "duration": 3,
        "start_time": "2024-01-05T18:52:03.564Z"
      },
      {
        "duration": 4,
        "start_time": "2024-01-05T18:52:21.060Z"
      },
      {
        "duration": 2,
        "start_time": "2024-01-05T18:52:39.282Z"
      },
      {
        "duration": 39994,
        "start_time": "2024-01-05T18:52:40.020Z"
      },
      {
        "duration": 199,
        "start_time": "2024-01-05T18:53:20.017Z"
      },
      {
        "duration": 4,
        "start_time": "2024-01-05T18:53:20.221Z"
      },
      {
        "duration": 4,
        "start_time": "2024-01-05T18:53:47.121Z"
      },
      {
        "duration": 3,
        "start_time": "2024-01-05T18:57:43.945Z"
      },
      {
        "duration": 2,
        "start_time": "2024-01-05T18:58:03.803Z"
      },
      {
        "duration": 3,
        "start_time": "2024-01-05T18:58:36.276Z"
      },
      {
        "duration": 2989,
        "start_time": "2024-01-05T19:14:29.941Z"
      },
      {
        "duration": 2425,
        "start_time": "2024-01-05T19:14:32.936Z"
      },
      {
        "duration": 1303,
        "start_time": "2024-01-05T19:14:35.363Z"
      },
      {
        "duration": 939,
        "start_time": "2024-01-05T19:14:36.668Z"
      },
      {
        "duration": 167,
        "start_time": "2024-01-05T19:14:37.615Z"
      },
      {
        "duration": 46,
        "start_time": "2024-01-05T19:14:37.783Z"
      },
      {
        "duration": 8,
        "start_time": "2024-01-05T19:14:37.831Z"
      },
      {
        "duration": 193,
        "start_time": "2024-01-05T19:14:37.841Z"
      },
      {
        "duration": 208,
        "start_time": "2024-01-05T19:14:38.035Z"
      },
      {
        "duration": 142,
        "start_time": "2024-01-05T19:14:38.245Z"
      },
      {
        "duration": 431,
        "start_time": "2024-01-05T19:14:38.389Z"
      },
      {
        "duration": 514,
        "start_time": "2024-01-05T19:14:38.822Z"
      },
      {
        "duration": 96,
        "start_time": "2024-01-05T19:14:39.337Z"
      },
      {
        "duration": 730,
        "start_time": "2024-01-05T19:14:39.436Z"
      },
      {
        "duration": 111,
        "start_time": "2024-01-05T19:14:40.167Z"
      },
      {
        "duration": 64,
        "start_time": "2024-01-05T19:14:40.279Z"
      },
      {
        "duration": 30,
        "start_time": "2024-01-05T19:14:40.345Z"
      },
      {
        "duration": 193,
        "start_time": "2024-01-05T19:14:40.377Z"
      },
      {
        "duration": 16,
        "start_time": "2024-01-05T19:14:40.571Z"
      },
      {
        "duration": 6178,
        "start_time": "2024-01-05T19:14:40.588Z"
      },
      {
        "duration": 98,
        "start_time": "2024-01-05T19:14:46.768Z"
      },
      {
        "duration": 58,
        "start_time": "2024-01-05T19:14:46.868Z"
      },
      {
        "duration": 3,
        "start_time": "2024-01-05T19:14:46.927Z"
      },
      {
        "duration": 4,
        "start_time": "2024-01-05T19:14:46.932Z"
      },
      {
        "duration": 117,
        "start_time": "2024-01-05T19:14:46.937Z"
      },
      {
        "duration": 3,
        "start_time": "2024-01-05T19:14:47.056Z"
      },
      {
        "duration": 5,
        "start_time": "2024-01-05T19:14:47.060Z"
      },
      {
        "duration": 1552,
        "start_time": "2024-01-05T19:14:47.067Z"
      },
      {
        "duration": 5,
        "start_time": "2024-01-05T19:14:48.621Z"
      },
      {
        "duration": 2108,
        "start_time": "2024-01-05T19:14:48.628Z"
      },
      {
        "duration": 3,
        "start_time": "2024-01-05T19:14:50.738Z"
      },
      {
        "duration": 6,
        "start_time": "2024-01-05T19:14:50.743Z"
      },
      {
        "duration": 5,
        "start_time": "2024-01-05T19:14:50.751Z"
      },
      {
        "duration": 4,
        "start_time": "2024-01-05T19:14:50.758Z"
      },
      {
        "duration": 22,
        "start_time": "2024-01-05T19:14:50.763Z"
      },
      {
        "duration": 33161,
        "start_time": "2024-01-05T19:14:50.787Z"
      },
      {
        "duration": 4,
        "start_time": "2024-01-05T19:15:23.949Z"
      },
      {
        "duration": 4,
        "start_time": "2024-01-05T19:15:23.954Z"
      },
      {
        "duration": 3431,
        "start_time": "2024-01-05T19:15:23.959Z"
      },
      {
        "duration": 210,
        "start_time": "2024-01-05T19:15:27.392Z"
      },
      {
        "duration": 3,
        "start_time": "2024-01-05T19:15:27.607Z"
      },
      {
        "duration": 12,
        "start_time": "2024-01-05T19:15:27.615Z"
      },
      {
        "duration": 4,
        "start_time": "2024-01-05T19:15:27.628Z"
      },
      {
        "duration": 5,
        "start_time": "2024-01-05T19:15:27.634Z"
      },
      {
        "duration": 203780,
        "start_time": "2024-01-05T19:15:27.640Z"
      },
      {
        "duration": 95,
        "start_time": "2024-01-05T19:18:51.422Z"
      },
      {
        "duration": 4,
        "start_time": "2024-01-05T19:18:51.520Z"
      },
      {
        "duration": 36489,
        "start_time": "2024-01-05T19:18:51.526Z"
      },
      {
        "duration": 299,
        "start_time": "2024-01-05T19:19:28.017Z"
      },
      {
        "duration": 4,
        "start_time": "2024-01-05T19:19:28.318Z"
      },
      {
        "duration": 3,
        "start_time": "2024-01-05T19:19:28.324Z"
      },
      {
        "duration": 89,
        "start_time": "2024-01-05T19:19:28.329Z"
      },
      {
        "duration": 4,
        "start_time": "2024-01-05T19:19:28.420Z"
      },
      {
        "duration": 359081,
        "start_time": "2024-01-05T19:19:28.425Z"
      },
      {
        "duration": 0,
        "start_time": "2024-01-05T19:25:27.508Z"
      },
      {
        "duration": 0,
        "start_time": "2024-01-05T19:25:27.509Z"
      },
      {
        "duration": 0,
        "start_time": "2024-01-05T19:25:27.514Z"
      },
      {
        "duration": 0,
        "start_time": "2024-01-05T19:25:27.517Z"
      },
      {
        "duration": 0,
        "start_time": "2024-01-05T19:25:27.518Z"
      },
      {
        "duration": 0,
        "start_time": "2024-01-05T19:25:27.520Z"
      },
      {
        "duration": 0,
        "start_time": "2024-01-05T19:25:27.521Z"
      },
      {
        "duration": 0,
        "start_time": "2024-01-05T19:25:27.523Z"
      },
      {
        "duration": 0,
        "start_time": "2024-01-05T19:25:27.525Z"
      },
      {
        "duration": 0,
        "start_time": "2024-01-05T19:25:27.526Z"
      },
      {
        "duration": 0,
        "start_time": "2024-01-05T19:25:27.527Z"
      },
      {
        "duration": 2,
        "start_time": "2024-01-05T19:25:46.606Z"
      },
      {
        "duration": 7,
        "start_time": "2024-01-05T19:26:17.877Z"
      },
      {
        "duration": 42,
        "start_time": "2024-01-05T19:26:19.533Z"
      },
      {
        "duration": 7062,
        "start_time": "2024-01-06T08:32:28.743Z"
      },
      {
        "duration": 3230,
        "start_time": "2024-01-06T08:32:35.808Z"
      },
      {
        "duration": 1560,
        "start_time": "2024-01-06T08:32:39.040Z"
      },
      {
        "duration": 1237,
        "start_time": "2024-01-06T08:32:40.602Z"
      },
      {
        "duration": 169,
        "start_time": "2024-01-06T08:32:41.841Z"
      },
      {
        "duration": 39,
        "start_time": "2024-01-06T08:32:42.011Z"
      },
      {
        "duration": 6,
        "start_time": "2024-01-06T08:32:42.052Z"
      },
      {
        "duration": 209,
        "start_time": "2024-01-06T08:32:42.059Z"
      },
      {
        "duration": 222,
        "start_time": "2024-01-06T08:32:42.270Z"
      },
      {
        "duration": 151,
        "start_time": "2024-01-06T08:32:42.494Z"
      },
      {
        "duration": 473,
        "start_time": "2024-01-06T08:32:42.647Z"
      },
      {
        "duration": 531,
        "start_time": "2024-01-06T08:32:43.122Z"
      },
      {
        "duration": 96,
        "start_time": "2024-01-06T08:32:43.655Z"
      },
      {
        "duration": 764,
        "start_time": "2024-01-06T08:32:43.754Z"
      },
      {
        "duration": 110,
        "start_time": "2024-01-06T08:32:44.520Z"
      },
      {
        "duration": 133,
        "start_time": "2024-01-06T08:32:44.631Z"
      },
      {
        "duration": 34,
        "start_time": "2024-01-06T08:32:44.765Z"
      },
      {
        "duration": 212,
        "start_time": "2024-01-06T08:32:44.800Z"
      },
      {
        "duration": 28,
        "start_time": "2024-01-06T08:32:45.014Z"
      },
      {
        "duration": 6449,
        "start_time": "2024-01-06T08:32:45.044Z"
      },
      {
        "duration": 69,
        "start_time": "2024-01-06T08:32:51.496Z"
      },
      {
        "duration": 60,
        "start_time": "2024-01-06T08:32:51.567Z"
      },
      {
        "duration": 3,
        "start_time": "2024-01-06T08:32:51.629Z"
      },
      {
        "duration": 17,
        "start_time": "2024-01-06T08:32:51.633Z"
      },
      {
        "duration": 103,
        "start_time": "2024-01-06T08:32:51.651Z"
      },
      {
        "duration": 3,
        "start_time": "2024-01-06T08:32:51.755Z"
      },
      {
        "duration": 27,
        "start_time": "2024-01-06T08:32:51.759Z"
      },
      {
        "duration": 1576,
        "start_time": "2024-01-06T08:32:51.788Z"
      },
      {
        "duration": 4,
        "start_time": "2024-01-06T08:32:53.366Z"
      },
      {
        "duration": 2842,
        "start_time": "2024-01-06T08:32:53.371Z"
      },
      {
        "duration": 7,
        "start_time": "2024-01-06T08:32:56.215Z"
      },
      {
        "duration": 18,
        "start_time": "2024-01-06T08:32:56.224Z"
      },
      {
        "duration": 20,
        "start_time": "2024-01-06T08:32:56.243Z"
      },
      {
        "duration": 28,
        "start_time": "2024-01-06T08:32:56.265Z"
      },
      {
        "duration": 10,
        "start_time": "2024-01-06T08:32:56.295Z"
      },
      {
        "duration": 35247,
        "start_time": "2024-01-06T08:32:56.306Z"
      },
      {
        "duration": 4,
        "start_time": "2024-01-06T08:33:31.555Z"
      },
      {
        "duration": 14,
        "start_time": "2024-01-06T08:33:31.560Z"
      },
      {
        "duration": 3715,
        "start_time": "2024-01-06T08:33:31.575Z"
      },
      {
        "duration": 195,
        "start_time": "2024-01-06T08:33:35.291Z"
      },
      {
        "duration": 3,
        "start_time": "2024-01-06T08:33:35.490Z"
      },
      {
        "duration": 4,
        "start_time": "2024-01-06T08:33:35.495Z"
      },
      {
        "duration": 5,
        "start_time": "2024-01-06T08:33:35.500Z"
      },
      {
        "duration": 4,
        "start_time": "2024-01-06T08:33:35.506Z"
      },
      {
        "duration": 111907,
        "start_time": "2024-01-06T08:33:35.523Z"
      },
      {
        "duration": 92,
        "start_time": "2024-01-06T08:35:27.432Z"
      },
      {
        "duration": 4,
        "start_time": "2024-01-06T08:35:27.526Z"
      },
      {
        "duration": 21303,
        "start_time": "2024-01-06T08:35:27.532Z"
      },
      {
        "duration": 290,
        "start_time": "2024-01-06T08:35:48.837Z"
      },
      {
        "duration": 94,
        "start_time": "2024-01-06T08:35:49.129Z"
      },
      {
        "duration": 99,
        "start_time": "2024-01-06T08:35:49.225Z"
      },
      {
        "duration": 5,
        "start_time": "2024-01-06T08:35:49.325Z"
      },
      {
        "duration": 6,
        "start_time": "2024-01-06T08:35:49.331Z"
      },
      {
        "duration": 54995,
        "start_time": "2024-01-06T08:35:49.339Z"
      },
      {
        "duration": 4,
        "start_time": "2024-01-06T08:36:44.335Z"
      },
      {
        "duration": 6,
        "start_time": "2024-01-06T08:36:44.340Z"
      },
      {
        "duration": 4778,
        "start_time": "2024-01-06T08:36:44.348Z"
      },
      {
        "duration": 1514,
        "start_time": "2024-01-06T08:36:49.128Z"
      },
      {
        "duration": 79,
        "start_time": "2024-01-06T08:36:50.644Z"
      },
      {
        "duration": 20,
        "start_time": "2024-01-06T08:36:50.725Z"
      },
      {
        "duration": 7985,
        "start_time": "2024-01-06T08:36:50.747Z"
      },
      {
        "duration": 2808,
        "start_time": "2024-01-06T08:36:58.734Z"
      },
      {
        "duration": 5,
        "start_time": "2024-01-06T08:37:01.544Z"
      },
      {
        "duration": 886,
        "start_time": "2024-01-06T08:37:01.551Z"
      },
      {
        "duration": 5,
        "start_time": "2024-01-06T08:37:02.439Z"
      },
      {
        "duration": 9,
        "start_time": "2024-01-06T08:38:25.420Z"
      },
      {
        "duration": 5,
        "start_time": "2024-01-06T08:42:48.441Z"
      },
      {
        "duration": 6,
        "start_time": "2024-01-06T08:43:56.561Z"
      },
      {
        "duration": 6,
        "start_time": "2024-01-06T08:44:13.410Z"
      },
      {
        "duration": 5,
        "start_time": "2024-01-06T08:44:37.976Z"
      },
      {
        "duration": 4,
        "start_time": "2024-01-06T08:46:16.523Z"
      },
      {
        "duration": 6,
        "start_time": "2024-01-06T08:46:20.810Z"
      },
      {
        "duration": 3062,
        "start_time": "2024-01-06T08:55:54.532Z"
      },
      {
        "duration": 2586,
        "start_time": "2024-01-06T08:55:57.596Z"
      },
      {
        "duration": 1406,
        "start_time": "2024-01-06T08:56:00.184Z"
      },
      {
        "duration": 979,
        "start_time": "2024-01-06T08:56:01.592Z"
      },
      {
        "duration": 170,
        "start_time": "2024-01-06T08:56:02.573Z"
      },
      {
        "duration": 34,
        "start_time": "2024-01-06T08:56:02.744Z"
      },
      {
        "duration": 16,
        "start_time": "2024-01-06T08:56:02.779Z"
      },
      {
        "duration": 213,
        "start_time": "2024-01-06T08:56:02.797Z"
      },
      {
        "duration": 218,
        "start_time": "2024-01-06T08:56:03.012Z"
      },
      {
        "duration": 153,
        "start_time": "2024-01-06T08:56:03.232Z"
      },
      {
        "duration": 473,
        "start_time": "2024-01-06T08:56:03.387Z"
      },
      {
        "duration": 539,
        "start_time": "2024-01-06T08:56:03.862Z"
      },
      {
        "duration": 103,
        "start_time": "2024-01-06T08:56:04.403Z"
      },
      {
        "duration": 769,
        "start_time": "2024-01-06T08:56:04.508Z"
      },
      {
        "duration": 107,
        "start_time": "2024-01-06T08:56:05.278Z"
      },
      {
        "duration": 60,
        "start_time": "2024-01-06T08:56:05.387Z"
      },
      {
        "duration": 35,
        "start_time": "2024-01-06T08:56:05.449Z"
      },
      {
        "duration": 214,
        "start_time": "2024-01-06T08:56:05.486Z"
      },
      {
        "duration": 28,
        "start_time": "2024-01-06T08:56:05.702Z"
      },
      {
        "duration": 6481,
        "start_time": "2024-01-06T08:56:05.732Z"
      },
      {
        "duration": 79,
        "start_time": "2024-01-06T08:56:12.215Z"
      },
      {
        "duration": 86,
        "start_time": "2024-01-06T08:56:12.296Z"
      },
      {
        "duration": 2,
        "start_time": "2024-01-06T08:56:12.384Z"
      },
      {
        "duration": 4,
        "start_time": "2024-01-06T08:56:12.388Z"
      },
      {
        "duration": 117,
        "start_time": "2024-01-06T08:56:12.393Z"
      },
      {
        "duration": 3,
        "start_time": "2024-01-06T08:56:12.511Z"
      },
      {
        "duration": 3,
        "start_time": "2024-01-06T08:56:12.522Z"
      },
      {
        "duration": 1734,
        "start_time": "2024-01-06T08:56:12.529Z"
      },
      {
        "duration": 4,
        "start_time": "2024-01-06T08:56:14.264Z"
      },
      {
        "duration": 2865,
        "start_time": "2024-01-06T08:56:14.270Z"
      },
      {
        "duration": 3,
        "start_time": "2024-01-06T08:56:17.136Z"
      },
      {
        "duration": 23,
        "start_time": "2024-01-06T08:56:17.141Z"
      },
      {
        "duration": 18,
        "start_time": "2024-01-06T08:56:17.166Z"
      },
      {
        "duration": 23,
        "start_time": "2024-01-06T08:56:17.185Z"
      },
      {
        "duration": 15,
        "start_time": "2024-01-06T08:56:17.209Z"
      },
      {
        "duration": 35585,
        "start_time": "2024-01-06T08:56:17.225Z"
      },
      {
        "duration": 3,
        "start_time": "2024-01-06T08:56:52.812Z"
      },
      {
        "duration": 3,
        "start_time": "2024-01-06T08:56:52.822Z"
      },
      {
        "duration": 3719,
        "start_time": "2024-01-06T08:56:52.826Z"
      },
      {
        "duration": 195,
        "start_time": "2024-01-06T08:56:56.547Z"
      },
      {
        "duration": 2,
        "start_time": "2024-01-06T08:56:56.744Z"
      },
      {
        "duration": 7,
        "start_time": "2024-01-06T08:56:56.748Z"
      },
      {
        "duration": 5,
        "start_time": "2024-01-06T08:56:56.757Z"
      },
      {
        "duration": 4,
        "start_time": "2024-01-06T08:56:56.763Z"
      },
      {
        "duration": 118162,
        "start_time": "2024-01-06T08:56:56.769Z"
      },
      {
        "duration": 4,
        "start_time": "2024-01-06T08:58:55.022Z"
      },
      {
        "duration": 19,
        "start_time": "2024-01-06T08:58:55.028Z"
      },
      {
        "duration": 21574,
        "start_time": "2024-01-06T08:58:55.049Z"
      },
      {
        "duration": 298,
        "start_time": "2024-01-06T08:59:16.625Z"
      },
      {
        "duration": 5,
        "start_time": "2024-01-06T08:59:16.925Z"
      },
      {
        "duration": 3,
        "start_time": "2024-01-06T08:59:17.021Z"
      },
      {
        "duration": 3,
        "start_time": "2024-01-06T08:59:17.026Z"
      },
      {
        "duration": 4,
        "start_time": "2024-01-06T08:59:17.031Z"
      },
      {
        "duration": 60296,
        "start_time": "2024-01-06T08:59:17.036Z"
      },
      {
        "duration": 4,
        "start_time": "2024-01-06T09:00:17.334Z"
      },
      {
        "duration": 22,
        "start_time": "2024-01-06T09:00:17.340Z"
      },
      {
        "duration": 4811,
        "start_time": "2024-01-06T09:00:17.421Z"
      },
      {
        "duration": 1606,
        "start_time": "2024-01-06T09:00:22.234Z"
      },
      {
        "duration": 3,
        "start_time": "2024-01-06T09:00:23.841Z"
      },
      {
        "duration": 11,
        "start_time": "2024-01-06T09:00:23.846Z"
      },
      {
        "duration": 188,
        "start_time": "2024-01-06T09:00:23.858Z"
      },
      {
        "duration": 0,
        "start_time": "2024-01-06T09:00:24.047Z"
      },
      {
        "duration": 0,
        "start_time": "2024-01-06T09:00:24.049Z"
      },
      {
        "duration": 0,
        "start_time": "2024-01-06T09:00:24.050Z"
      },
      {
        "duration": 10,
        "start_time": "2024-01-06T09:02:48.325Z"
      },
      {
        "duration": 14,
        "start_time": "2024-01-06T09:03:03.980Z"
      },
      {
        "duration": 10,
        "start_time": "2024-01-06T09:03:08.002Z"
      },
      {
        "duration": 534,
        "start_time": "2024-01-06T09:04:05.591Z"
      },
      {
        "duration": 5,
        "start_time": "2024-01-06T09:04:07.586Z"
      },
      {
        "duration": 4,
        "start_time": "2024-01-06T09:04:11.547Z"
      },
      {
        "duration": 5,
        "start_time": "2024-01-06T09:04:12.273Z"
      },
      {
        "duration": 3038,
        "start_time": "2024-01-06T09:04:36.883Z"
      },
      {
        "duration": 2672,
        "start_time": "2024-01-06T09:04:39.924Z"
      },
      {
        "duration": 1429,
        "start_time": "2024-01-06T09:04:42.598Z"
      },
      {
        "duration": 1016,
        "start_time": "2024-01-06T09:04:44.029Z"
      },
      {
        "duration": 175,
        "start_time": "2024-01-06T09:04:45.048Z"
      },
      {
        "duration": 30,
        "start_time": "2024-01-06T09:04:45.224Z"
      },
      {
        "duration": 5,
        "start_time": "2024-01-06T09:04:45.256Z"
      },
      {
        "duration": 219,
        "start_time": "2024-01-06T09:04:45.262Z"
      },
      {
        "duration": 211,
        "start_time": "2024-01-06T09:04:45.482Z"
      },
      {
        "duration": 156,
        "start_time": "2024-01-06T09:04:45.695Z"
      },
      {
        "duration": 490,
        "start_time": "2024-01-06T09:04:45.853Z"
      },
      {
        "duration": 516,
        "start_time": "2024-01-06T09:04:46.345Z"
      },
      {
        "duration": 96,
        "start_time": "2024-01-06T09:04:46.863Z"
      },
      {
        "duration": 768,
        "start_time": "2024-01-06T09:04:46.962Z"
      },
      {
        "duration": 124,
        "start_time": "2024-01-06T09:04:47.732Z"
      },
      {
        "duration": 129,
        "start_time": "2024-01-06T09:04:47.857Z"
      },
      {
        "duration": 38,
        "start_time": "2024-01-06T09:04:47.988Z"
      },
      {
        "duration": 196,
        "start_time": "2024-01-06T09:04:48.027Z"
      },
      {
        "duration": 23,
        "start_time": "2024-01-06T09:04:48.225Z"
      },
      {
        "duration": 6463,
        "start_time": "2024-01-06T09:04:48.250Z"
      },
      {
        "duration": 74,
        "start_time": "2024-01-06T09:04:54.715Z"
      },
      {
        "duration": 83,
        "start_time": "2024-01-06T09:04:54.791Z"
      },
      {
        "duration": 4,
        "start_time": "2024-01-06T09:04:54.876Z"
      },
      {
        "duration": 12,
        "start_time": "2024-01-06T09:04:54.882Z"
      },
      {
        "duration": 98,
        "start_time": "2024-01-06T09:04:54.896Z"
      },
      {
        "duration": 12,
        "start_time": "2024-01-06T09:04:54.995Z"
      },
      {
        "duration": 5,
        "start_time": "2024-01-06T09:04:55.008Z"
      },
      {
        "duration": 1553,
        "start_time": "2024-01-06T09:04:55.015Z"
      },
      {
        "duration": 4,
        "start_time": "2024-01-06T09:04:56.570Z"
      },
      {
        "duration": 2918,
        "start_time": "2024-01-06T09:04:56.576Z"
      },
      {
        "duration": 4,
        "start_time": "2024-01-06T09:04:59.495Z"
      },
      {
        "duration": 17,
        "start_time": "2024-01-06T09:04:59.501Z"
      },
      {
        "duration": 4,
        "start_time": "2024-01-06T09:04:59.520Z"
      },
      {
        "duration": 5,
        "start_time": "2024-01-06T09:04:59.526Z"
      },
      {
        "duration": 9,
        "start_time": "2024-01-06T09:04:59.532Z"
      },
      {
        "duration": 35557,
        "start_time": "2024-01-06T09:04:59.542Z"
      },
      {
        "duration": 5,
        "start_time": "2024-01-06T09:05:35.101Z"
      },
      {
        "duration": 17,
        "start_time": "2024-01-06T09:05:35.108Z"
      },
      {
        "duration": 3732,
        "start_time": "2024-01-06T09:05:35.126Z"
      },
      {
        "duration": 201,
        "start_time": "2024-01-06T09:05:38.860Z"
      },
      {
        "duration": 2,
        "start_time": "2024-01-06T09:05:39.066Z"
      },
      {
        "duration": 10,
        "start_time": "2024-01-06T09:05:39.070Z"
      },
      {
        "duration": 6,
        "start_time": "2024-01-06T09:05:39.082Z"
      },
      {
        "duration": 20,
        "start_time": "2024-01-06T09:05:39.089Z"
      },
      {
        "duration": 122116,
        "start_time": "2024-01-06T09:05:39.110Z"
      },
      {
        "duration": 95,
        "start_time": "2024-01-06T09:07:41.228Z"
      },
      {
        "duration": 7,
        "start_time": "2024-01-06T09:07:41.325Z"
      },
      {
        "duration": 29992,
        "start_time": "2024-01-06T09:07:41.334Z"
      },
      {
        "duration": 295,
        "start_time": "2024-01-06T09:08:11.328Z"
      },
      {
        "duration": 3,
        "start_time": "2024-01-06T09:08:11.626Z"
      },
      {
        "duration": 92,
        "start_time": "2024-01-06T09:08:11.631Z"
      },
      {
        "duration": 5,
        "start_time": "2024-01-06T09:08:11.725Z"
      },
      {
        "duration": 9,
        "start_time": "2024-01-06T09:08:11.732Z"
      },
      {
        "duration": 299386,
        "start_time": "2024-01-06T09:08:11.743Z"
      },
      {
        "duration": 6,
        "start_time": "2024-01-06T09:13:11.131Z"
      },
      {
        "duration": 18,
        "start_time": "2024-01-06T09:13:11.139Z"
      },
      {
        "duration": 16280,
        "start_time": "2024-01-06T09:13:11.158Z"
      },
      {
        "duration": 1604,
        "start_time": "2024-01-06T09:13:27.440Z"
      },
      {
        "duration": 3,
        "start_time": "2024-01-06T09:13:29.046Z"
      },
      {
        "duration": 82,
        "start_time": "2024-01-06T09:13:29.050Z"
      },
      {
        "duration": 504,
        "start_time": "2024-01-06T09:13:29.134Z"
      },
      {
        "duration": 5,
        "start_time": "2024-01-06T09:13:29.643Z"
      },
      {
        "duration": 73,
        "start_time": "2024-01-06T09:13:29.649Z"
      },
      {
        "duration": 13,
        "start_time": "2024-01-06T09:13:29.724Z"
      },
      {
        "duration": 52,
        "start_time": "2024-01-20T16:07:56.611Z"
      },
      {
        "duration": 8,
        "start_time": "2024-01-20T18:03:02.047Z"
      }
    ],
    "kernelspec": {
      "display_name": "Python 3 (ipykernel)",
      "language": "python",
      "name": "python3"
    },
    "language_info": {
      "codemirror_mode": {
        "name": "ipython",
        "version": 3
      },
      "file_extension": ".py",
      "mimetype": "text/x-python",
      "name": "python",
      "nbconvert_exporter": "python",
      "pygments_lexer": "ipython3",
      "version": "3.9.5"
    },
    "toc": {
      "base_numbering": 1,
      "nav_menu": {},
      "number_sections": true,
      "sideBar": true,
      "skip_h1_title": true,
      "title_cell": "Table of Contents",
      "title_sidebar": "Contents",
      "toc_cell": false,
      "toc_position": {},
      "toc_section_display": true,
      "toc_window_display": false
    },
    "colab": {
      "provenance": []
    }
  },
  "nbformat": 4,
  "nbformat_minor": 0
}