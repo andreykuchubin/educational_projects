{
  "cells": [
    {
      "cell_type": "markdown",
      "id": "adac43ff",
      "metadata": {
        "id": "adac43ff"
      },
      "source": [
        "### Исследование данных сервиса аренды самокатов GoFast."
      ]
    },
    {
      "cell_type": "markdown",
      "id": "7dd39b5c",
      "metadata": {
        "id": "7dd39b5c"
      },
      "source": [
        "**Цель работы:** проанализировать данные и проверить некоторые гипотезы, которые могут помочь бизнесу вырасти.\n",
        "\n",
        "Входные данные - данные популярного сервиса аренды самокатов GoFast, содержащие информацию о некоторых пользователях из нескольких городов, а также об их поездках."
      ]
    },
    {
      "cell_type": "markdown",
      "id": "0633dc92",
      "metadata": {
        "id": "0633dc92"
      },
      "source": [
        "**План работы:**\n",
        "1. открыть и изучить таблицы с данными;\n",
        "2. провести предобработку данных: избавиться от пустых значений, дубликатов, аномалий, изменить тип данных в столбце `date`, создать новый столбец с номером месяца;\n",
        "3. произвести исследовательский анализ данных, проверить:\n",
        "  * частоту встречаемости городов;\n",
        "  * соотношение пользователей с подпиской и без подписки;\n",
        "  * возраст пользователей;\n",
        "  * расстояние, которое пользователь преодолел за одну поездку;\n",
        "  * продолжительность поездок.\n",
        "4. объединить данные и создать датафреймы:\n",
        "  * объединить данные о пользователях, поездках и подписках в один датафрейм;\n",
        "  * создайте ещё два датафрейма c данными о пользователях без подписки и с подпиской из объединенного датафрейма;\n",
        "  * визуализировать информацию о расстоянии и времени поездок для пользователей обеих категорий.\n",
        "5. подсчитать выручку:\n",
        "  * создайть датафрейм с агрегированными данными о поездках на основе датафрейма с объединёнными данными из прошлого шага;\n",
        "  * в этот же датафрейм добавьте столбец с помесячной выручкой, которую принёс каждый пользователь.\n",
        "6. проверить гипотезы:\n",
        "  * тратят ли пользователи с подпиской больше времени на поездки;\n",
        "  * можно ли сказать, что расстояние, которое проезжают пользователи с подпиской за одну поездку, не превышает 3130 метров;\n",
        "  * будет ли помесячная выручка от пользователей с подпиской по месяцам выше, чем выручка от пользователей без подписки;\n",
        "  * ответить на вопрос, подобрать тест для проверки представленной гипотизы.\n",
        "7. построить распределения."
      ]
    },
    {
      "cell_type": "markdown",
      "id": "2ef5d5d6",
      "metadata": {
        "id": "2ef5d5d6"
      },
      "source": [
        "#### Шаг 1. Загрузка данных"
      ]
    },
    {
      "cell_type": "code",
      "execution_count": null,
      "id": "b91b4eb9",
      "metadata": {
        "id": "b91b4eb9"
      },
      "outputs": [],
      "source": [
        "import pandas as pd\n",
        "import matplotlib.pyplot as plt\n",
        "import numpy as np\n",
        "import seaborn as sns\n",
        "from scipy import stats as st\n",
        "from math import sqrt"
      ]
    },
    {
      "cell_type": "code",
      "execution_count": null,
      "id": "98a790d5",
      "metadata": {
        "id": "98a790d5",
        "outputId": "a872761d-d10d-4b8f-ceb1-09ff19041cfe"
      },
      "outputs": [
        {
          "name": "stdout",
          "output_type": "stream",
          "text": [
            "<class 'pandas.core.frame.DataFrame'>\n",
            "RangeIndex: 1565 entries, 0 to 1564\n",
            "Data columns (total 5 columns):\n",
            " #   Column             Non-Null Count  Dtype \n",
            "---  ------             --------------  ----- \n",
            " 0   user_id            1565 non-null   int64 \n",
            " 1   name               1565 non-null   object\n",
            " 2   age                1565 non-null   int64 \n",
            " 3   city               1565 non-null   object\n",
            " 4   subscription_type  1565 non-null   object\n",
            "dtypes: int64(2), object(3)\n",
            "memory usage: 61.3+ KB\n"
          ]
        },
        {
          "data": {
            "text/plain": [
              "None"
            ]
          },
          "metadata": {},
          "output_type": "display_data"
        },
        {
          "data": {
            "text/html": [
              "<div>\n",
              "<style scoped>\n",
              "    .dataframe tbody tr th:only-of-type {\n",
              "        vertical-align: middle;\n",
              "    }\n",
              "\n",
              "    .dataframe tbody tr th {\n",
              "        vertical-align: top;\n",
              "    }\n",
              "\n",
              "    .dataframe thead th {\n",
              "        text-align: right;\n",
              "    }\n",
              "</style>\n",
              "<table border=\"1\" class=\"dataframe\">\n",
              "  <thead>\n",
              "    <tr style=\"text-align: right;\">\n",
              "      <th></th>\n",
              "      <th>user_id</th>\n",
              "      <th>name</th>\n",
              "      <th>age</th>\n",
              "      <th>city</th>\n",
              "      <th>subscription_type</th>\n",
              "    </tr>\n",
              "  </thead>\n",
              "  <tbody>\n",
              "    <tr>\n",
              "      <th>0</th>\n",
              "      <td>1</td>\n",
              "      <td>Кира</td>\n",
              "      <td>22</td>\n",
              "      <td>Тюмень</td>\n",
              "      <td>ultra</td>\n",
              "    </tr>\n",
              "    <tr>\n",
              "      <th>1</th>\n",
              "      <td>2</td>\n",
              "      <td>Станислав</td>\n",
              "      <td>31</td>\n",
              "      <td>Омск</td>\n",
              "      <td>ultra</td>\n",
              "    </tr>\n",
              "    <tr>\n",
              "      <th>2</th>\n",
              "      <td>3</td>\n",
              "      <td>Алексей</td>\n",
              "      <td>20</td>\n",
              "      <td>Москва</td>\n",
              "      <td>ultra</td>\n",
              "    </tr>\n",
              "    <tr>\n",
              "      <th>3</th>\n",
              "      <td>4</td>\n",
              "      <td>Константин</td>\n",
              "      <td>26</td>\n",
              "      <td>Ростов-на-Дону</td>\n",
              "      <td>ultra</td>\n",
              "    </tr>\n",
              "    <tr>\n",
              "      <th>4</th>\n",
              "      <td>5</td>\n",
              "      <td>Адель</td>\n",
              "      <td>28</td>\n",
              "      <td>Омск</td>\n",
              "      <td>ultra</td>\n",
              "    </tr>\n",
              "    <tr>\n",
              "      <th>5</th>\n",
              "      <td>6</td>\n",
              "      <td>Регина</td>\n",
              "      <td>25</td>\n",
              "      <td>Краснодар</td>\n",
              "      <td>ultra</td>\n",
              "    </tr>\n",
              "    <tr>\n",
              "      <th>6</th>\n",
              "      <td>7</td>\n",
              "      <td>Игорь</td>\n",
              "      <td>23</td>\n",
              "      <td>Омск</td>\n",
              "      <td>ultra</td>\n",
              "    </tr>\n",
              "    <tr>\n",
              "      <th>7</th>\n",
              "      <td>8</td>\n",
              "      <td>Юрий</td>\n",
              "      <td>23</td>\n",
              "      <td>Краснодар</td>\n",
              "      <td>ultra</td>\n",
              "    </tr>\n",
              "    <tr>\n",
              "      <th>8</th>\n",
              "      <td>9</td>\n",
              "      <td>Ян</td>\n",
              "      <td>21</td>\n",
              "      <td>Пятигорск</td>\n",
              "      <td>ultra</td>\n",
              "    </tr>\n",
              "    <tr>\n",
              "      <th>9</th>\n",
              "      <td>10</td>\n",
              "      <td>Валерий</td>\n",
              "      <td>18</td>\n",
              "      <td>Екатеринбург</td>\n",
              "      <td>ultra</td>\n",
              "    </tr>\n",
              "  </tbody>\n",
              "</table>\n",
              "</div>"
            ],
            "text/plain": [
              "   user_id        name  age            city subscription_type\n",
              "0        1        Кира   22          Тюмень             ultra\n",
              "1        2   Станислав   31            Омск             ultra\n",
              "2        3     Алексей   20          Москва             ultra\n",
              "3        4  Константин   26  Ростов-на-Дону             ultra\n",
              "4        5       Адель   28            Омск             ultra\n",
              "5        6      Регина   25       Краснодар             ultra\n",
              "6        7       Игорь   23            Омск             ultra\n",
              "7        8        Юрий   23       Краснодар             ultra\n",
              "8        9          Ян   21       Пятигорск             ultra\n",
              "9       10     Валерий   18    Екатеринбург             ultra"
            ]
          },
          "execution_count": 2,
          "metadata": {},
          "output_type": "execute_result"
        }
      ],
      "source": [
        "users_df = pd.read_csv('/datasets/users_go.csv')\n",
        "display(users_df.info())\n",
        "users_df.head(10)"
      ]
    },
    {
      "cell_type": "code",
      "execution_count": null,
      "id": "119b488b",
      "metadata": {
        "scrolled": false,
        "id": "119b488b",
        "outputId": "186235d3-e4aa-4891-87bf-ab61e8d86e9b"
      },
      "outputs": [
        {
          "name": "stdout",
          "output_type": "stream",
          "text": [
            "<class 'pandas.core.frame.DataFrame'>\n",
            "RangeIndex: 18068 entries, 0 to 18067\n",
            "Data columns (total 4 columns):\n",
            " #   Column    Non-Null Count  Dtype  \n",
            "---  ------    --------------  -----  \n",
            " 0   user_id   18068 non-null  int64  \n",
            " 1   distance  18068 non-null  float64\n",
            " 2   duration  18068 non-null  float64\n",
            " 3   date      18068 non-null  object \n",
            "dtypes: float64(2), int64(1), object(1)\n",
            "memory usage: 564.8+ KB\n"
          ]
        },
        {
          "data": {
            "text/plain": [
              "None"
            ]
          },
          "metadata": {},
          "output_type": "display_data"
        },
        {
          "data": {
            "text/html": [
              "<div>\n",
              "<style scoped>\n",
              "    .dataframe tbody tr th:only-of-type {\n",
              "        vertical-align: middle;\n",
              "    }\n",
              "\n",
              "    .dataframe tbody tr th {\n",
              "        vertical-align: top;\n",
              "    }\n",
              "\n",
              "    .dataframe thead th {\n",
              "        text-align: right;\n",
              "    }\n",
              "</style>\n",
              "<table border=\"1\" class=\"dataframe\">\n",
              "  <thead>\n",
              "    <tr style=\"text-align: right;\">\n",
              "      <th></th>\n",
              "      <th>user_id</th>\n",
              "      <th>distance</th>\n",
              "      <th>duration</th>\n",
              "      <th>date</th>\n",
              "    </tr>\n",
              "  </thead>\n",
              "  <tbody>\n",
              "    <tr>\n",
              "      <th>0</th>\n",
              "      <td>1</td>\n",
              "      <td>4409.919140</td>\n",
              "      <td>25.599769</td>\n",
              "      <td>2021-01-01</td>\n",
              "    </tr>\n",
              "    <tr>\n",
              "      <th>1</th>\n",
              "      <td>1</td>\n",
              "      <td>2617.592153</td>\n",
              "      <td>15.816871</td>\n",
              "      <td>2021-01-18</td>\n",
              "    </tr>\n",
              "    <tr>\n",
              "      <th>2</th>\n",
              "      <td>1</td>\n",
              "      <td>754.159807</td>\n",
              "      <td>6.232113</td>\n",
              "      <td>2021-04-20</td>\n",
              "    </tr>\n",
              "    <tr>\n",
              "      <th>3</th>\n",
              "      <td>1</td>\n",
              "      <td>2694.783254</td>\n",
              "      <td>18.511000</td>\n",
              "      <td>2021-08-11</td>\n",
              "    </tr>\n",
              "    <tr>\n",
              "      <th>4</th>\n",
              "      <td>1</td>\n",
              "      <td>4028.687306</td>\n",
              "      <td>26.265803</td>\n",
              "      <td>2021-08-28</td>\n",
              "    </tr>\n",
              "    <tr>\n",
              "      <th>5</th>\n",
              "      <td>1</td>\n",
              "      <td>2770.890808</td>\n",
              "      <td>16.650138</td>\n",
              "      <td>2021-10-09</td>\n",
              "    </tr>\n",
              "    <tr>\n",
              "      <th>6</th>\n",
              "      <td>1</td>\n",
              "      <td>3039.020292</td>\n",
              "      <td>14.927879</td>\n",
              "      <td>2021-10-19</td>\n",
              "    </tr>\n",
              "    <tr>\n",
              "      <th>7</th>\n",
              "      <td>1</td>\n",
              "      <td>2842.118050</td>\n",
              "      <td>23.117468</td>\n",
              "      <td>2021-11-06</td>\n",
              "    </tr>\n",
              "    <tr>\n",
              "      <th>8</th>\n",
              "      <td>1</td>\n",
              "      <td>3412.690668</td>\n",
              "      <td>15.238072</td>\n",
              "      <td>2021-11-14</td>\n",
              "    </tr>\n",
              "    <tr>\n",
              "      <th>9</th>\n",
              "      <td>1</td>\n",
              "      <td>748.690645</td>\n",
              "      <td>15.041884</td>\n",
              "      <td>2021-11-22</td>\n",
              "    </tr>\n",
              "  </tbody>\n",
              "</table>\n",
              "</div>"
            ],
            "text/plain": [
              "   user_id     distance   duration        date\n",
              "0        1  4409.919140  25.599769  2021-01-01\n",
              "1        1  2617.592153  15.816871  2021-01-18\n",
              "2        1   754.159807   6.232113  2021-04-20\n",
              "3        1  2694.783254  18.511000  2021-08-11\n",
              "4        1  4028.687306  26.265803  2021-08-28\n",
              "5        1  2770.890808  16.650138  2021-10-09\n",
              "6        1  3039.020292  14.927879  2021-10-19\n",
              "7        1  2842.118050  23.117468  2021-11-06\n",
              "8        1  3412.690668  15.238072  2021-11-14\n",
              "9        1   748.690645  15.041884  2021-11-22"
            ]
          },
          "execution_count": 3,
          "metadata": {},
          "output_type": "execute_result"
        }
      ],
      "source": [
        "rides_df = pd.read_csv('/datasets/rides_go.csv')\n",
        "display(rides_df.info())\n",
        "rides_df.head(10)"
      ]
    },
    {
      "cell_type": "code",
      "execution_count": null,
      "id": "ca214935",
      "metadata": {
        "scrolled": true,
        "id": "ca214935",
        "outputId": "7d60a98b-6178-46e2-8464-65249749cfc6"
      },
      "outputs": [
        {
          "name": "stdout",
          "output_type": "stream",
          "text": [
            "<class 'pandas.core.frame.DataFrame'>\n",
            "RangeIndex: 2 entries, 0 to 1\n",
            "Data columns (total 4 columns):\n",
            " #   Column             Non-Null Count  Dtype \n",
            "---  ------             --------------  ----- \n",
            " 0   subscription_type  2 non-null      object\n",
            " 1   minute_price       2 non-null      int64 \n",
            " 2   start_ride_price   2 non-null      int64 \n",
            " 3   subscription_fee   2 non-null      int64 \n",
            "dtypes: int64(3), object(1)\n",
            "memory usage: 192.0+ bytes\n"
          ]
        },
        {
          "data": {
            "text/plain": [
              "None"
            ]
          },
          "metadata": {},
          "output_type": "display_data"
        },
        {
          "data": {
            "text/html": [
              "<div>\n",
              "<style scoped>\n",
              "    .dataframe tbody tr th:only-of-type {\n",
              "        vertical-align: middle;\n",
              "    }\n",
              "\n",
              "    .dataframe tbody tr th {\n",
              "        vertical-align: top;\n",
              "    }\n",
              "\n",
              "    .dataframe thead th {\n",
              "        text-align: right;\n",
              "    }\n",
              "</style>\n",
              "<table border=\"1\" class=\"dataframe\">\n",
              "  <thead>\n",
              "    <tr style=\"text-align: right;\">\n",
              "      <th></th>\n",
              "      <th>subscription_type</th>\n",
              "      <th>minute_price</th>\n",
              "      <th>start_ride_price</th>\n",
              "      <th>subscription_fee</th>\n",
              "    </tr>\n",
              "  </thead>\n",
              "  <tbody>\n",
              "    <tr>\n",
              "      <th>0</th>\n",
              "      <td>free</td>\n",
              "      <td>8</td>\n",
              "      <td>50</td>\n",
              "      <td>0</td>\n",
              "    </tr>\n",
              "    <tr>\n",
              "      <th>1</th>\n",
              "      <td>ultra</td>\n",
              "      <td>6</td>\n",
              "      <td>0</td>\n",
              "      <td>199</td>\n",
              "    </tr>\n",
              "  </tbody>\n",
              "</table>\n",
              "</div>"
            ],
            "text/plain": [
              "  subscription_type  minute_price  start_ride_price  subscription_fee\n",
              "0              free             8                50                 0\n",
              "1             ultra             6                 0               199"
            ]
          },
          "execution_count": 4,
          "metadata": {},
          "output_type": "execute_result"
        }
      ],
      "source": [
        "subs_df = pd.read_csv('/datasets/subscriptions_go.csv')\n",
        "display(subs_df.info())\n",
        "subs_df.head(10)"
      ]
    },
    {
      "cell_type": "markdown",
      "id": "79a47891",
      "metadata": {
        "id": "79a47891"
      },
      "source": [
        "**Вывод по первому шагу:** открыли и изучили таблицы с данными.\n",
        "\n",
        "Первый датафрейм, содержащий информацию о пользователях, состоит из 5 столбцов и 1565 строк, тип данных в которых: int64 (2 столбца) и object(3 столбца).\n",
        "\n",
        "Второй датафрейм, который содержит информацию о поездках, состоит из 4 столбцов и 18068 строк, тип данных в которых: int64 (1 столбец), float64 (2 столбца) и object(1 столбец).\n",
        "\n",
        "Третий датафрейм с информацией о подписках, состоит из 4 столбцов и всего 2-х строк, тип данных в которых: int64 (3 столбца) и object(1 столбец).\n",
        "\n",
        "На первый взгляд пропусков в таблицах не видно, а их размеры разнятся из-за особеннойстей содержащихся в них данных. Далее необходимо провести предобработку данных."
      ]
    },
    {
      "cell_type": "markdown",
      "id": "24aa84ef",
      "metadata": {
        "id": "24aa84ef"
      },
      "source": [
        "#### Шаг 2. Предобработка данных"
      ]
    },
    {
      "cell_type": "markdown",
      "id": "220f5d62",
      "metadata": {
        "id": "220f5d62"
      },
      "source": [
        "Приведем столбец `date` таблицы `rides_df` к типу даты pandas."
      ]
    },
    {
      "cell_type": "code",
      "execution_count": null,
      "id": "12bfc28f",
      "metadata": {
        "id": "12bfc28f"
      },
      "outputs": [],
      "source": [
        "rides_df['date'] = pd.to_datetime(rides_df['date'], format='%Y-%m-%d')"
      ]
    },
    {
      "cell_type": "markdown",
      "id": "c503d829",
      "metadata": {
        "id": "c503d829"
      },
      "source": [
        "Дабавим столбец `month`, который будет содержать номер месяца из столбца `date`."
      ]
    },
    {
      "cell_type": "code",
      "execution_count": null,
      "id": "f0733eae",
      "metadata": {
        "scrolled": true,
        "id": "f0733eae",
        "outputId": "5ce3c434-3a0c-477e-cfcc-d53f163f1d17"
      },
      "outputs": [
        {
          "data": {
            "text/html": [
              "<div>\n",
              "<style scoped>\n",
              "    .dataframe tbody tr th:only-of-type {\n",
              "        vertical-align: middle;\n",
              "    }\n",
              "\n",
              "    .dataframe tbody tr th {\n",
              "        vertical-align: top;\n",
              "    }\n",
              "\n",
              "    .dataframe thead th {\n",
              "        text-align: right;\n",
              "    }\n",
              "</style>\n",
              "<table border=\"1\" class=\"dataframe\">\n",
              "  <thead>\n",
              "    <tr style=\"text-align: right;\">\n",
              "      <th></th>\n",
              "      <th>user_id</th>\n",
              "      <th>distance</th>\n",
              "      <th>duration</th>\n",
              "      <th>date</th>\n",
              "      <th>month</th>\n",
              "    </tr>\n",
              "  </thead>\n",
              "  <tbody>\n",
              "    <tr>\n",
              "      <th>0</th>\n",
              "      <td>1</td>\n",
              "      <td>4409.919140</td>\n",
              "      <td>25.599769</td>\n",
              "      <td>2021-01-01</td>\n",
              "      <td>1</td>\n",
              "    </tr>\n",
              "    <tr>\n",
              "      <th>1</th>\n",
              "      <td>1</td>\n",
              "      <td>2617.592153</td>\n",
              "      <td>15.816871</td>\n",
              "      <td>2021-01-18</td>\n",
              "      <td>1</td>\n",
              "    </tr>\n",
              "    <tr>\n",
              "      <th>2</th>\n",
              "      <td>1</td>\n",
              "      <td>754.159807</td>\n",
              "      <td>6.232113</td>\n",
              "      <td>2021-04-20</td>\n",
              "      <td>4</td>\n",
              "    </tr>\n",
              "    <tr>\n",
              "      <th>3</th>\n",
              "      <td>1</td>\n",
              "      <td>2694.783254</td>\n",
              "      <td>18.511000</td>\n",
              "      <td>2021-08-11</td>\n",
              "      <td>8</td>\n",
              "    </tr>\n",
              "    <tr>\n",
              "      <th>4</th>\n",
              "      <td>1</td>\n",
              "      <td>4028.687306</td>\n",
              "      <td>26.265803</td>\n",
              "      <td>2021-08-28</td>\n",
              "      <td>8</td>\n",
              "    </tr>\n",
              "    <tr>\n",
              "      <th>5</th>\n",
              "      <td>1</td>\n",
              "      <td>2770.890808</td>\n",
              "      <td>16.650138</td>\n",
              "      <td>2021-10-09</td>\n",
              "      <td>10</td>\n",
              "    </tr>\n",
              "    <tr>\n",
              "      <th>6</th>\n",
              "      <td>1</td>\n",
              "      <td>3039.020292</td>\n",
              "      <td>14.927879</td>\n",
              "      <td>2021-10-19</td>\n",
              "      <td>10</td>\n",
              "    </tr>\n",
              "    <tr>\n",
              "      <th>7</th>\n",
              "      <td>1</td>\n",
              "      <td>2842.118050</td>\n",
              "      <td>23.117468</td>\n",
              "      <td>2021-11-06</td>\n",
              "      <td>11</td>\n",
              "    </tr>\n",
              "    <tr>\n",
              "      <th>8</th>\n",
              "      <td>1</td>\n",
              "      <td>3412.690668</td>\n",
              "      <td>15.238072</td>\n",
              "      <td>2021-11-14</td>\n",
              "      <td>11</td>\n",
              "    </tr>\n",
              "    <tr>\n",
              "      <th>9</th>\n",
              "      <td>1</td>\n",
              "      <td>748.690645</td>\n",
              "      <td>15.041884</td>\n",
              "      <td>2021-11-22</td>\n",
              "      <td>11</td>\n",
              "    </tr>\n",
              "  </tbody>\n",
              "</table>\n",
              "</div>"
            ],
            "text/plain": [
              "   user_id     distance   duration       date  month\n",
              "0        1  4409.919140  25.599769 2021-01-01      1\n",
              "1        1  2617.592153  15.816871 2021-01-18      1\n",
              "2        1   754.159807   6.232113 2021-04-20      4\n",
              "3        1  2694.783254  18.511000 2021-08-11      8\n",
              "4        1  4028.687306  26.265803 2021-08-28      8\n",
              "5        1  2770.890808  16.650138 2021-10-09     10\n",
              "6        1  3039.020292  14.927879 2021-10-19     10\n",
              "7        1  2842.118050  23.117468 2021-11-06     11\n",
              "8        1  3412.690668  15.238072 2021-11-14     11\n",
              "9        1   748.690645  15.041884 2021-11-22     11"
            ]
          },
          "execution_count": 6,
          "metadata": {},
          "output_type": "execute_result"
        }
      ],
      "source": [
        "rides_df['month'] = rides_df['date'].dt.month\n",
        "rides_df.head(10)"
      ]
    },
    {
      "cell_type": "code",
      "execution_count": null,
      "id": "c49176f5",
      "metadata": {
        "id": "c49176f5",
        "outputId": "0c63d4a4-5bef-4700-f795-c4c664a65f97"
      },
      "outputs": [
        {
          "name": "stdout",
          "output_type": "stream",
          "text": [
            "Начало периода: 2021-01-01 00:00:00\n",
            "Конец периода: 2021-12-30 00:00:00\n",
            "Продолжительность периода: 363 days 00:00:00\n"
          ]
        }
      ],
      "source": [
        "print('Начало периода:', rides_df['date'].min())\n",
        "print('Конец периода:',rides_df['date'].max())\n",
        "print('Продолжительность периода:', rides_df['date'].max() - rides_df['date'].min())"
      ]
    },
    {
      "cell_type": "markdown",
      "id": "35578569",
      "metadata": {
        "id": "35578569"
      },
      "source": [
        "Данные представлены с 01.01.2021 по 30.12.2021, промежуток составляет 363 дня, практически весь 2021-й год."
      ]
    },
    {
      "cell_type": "markdown",
      "id": "d87eeae7",
      "metadata": {
        "id": "d87eeae7"
      },
      "source": [
        "Для экономии памяти заменим 64-х разрядные числовые переменные на 32-х разрядные."
      ]
    },
    {
      "cell_type": "code",
      "execution_count": null,
      "id": "5a2dda5e",
      "metadata": {
        "id": "5a2dda5e"
      },
      "outputs": [],
      "source": [
        "users_df['user_id'] = users_df['user_id'].astype('int32')\n",
        "users_df['age'] = users_df['age'].astype('int32')"
      ]
    },
    {
      "cell_type": "code",
      "execution_count": null,
      "id": "f52854e9",
      "metadata": {
        "id": "f52854e9"
      },
      "outputs": [],
      "source": [
        "rides_df['user_id'] = rides_df['user_id'].astype('int32')\n",
        "rides_df['distance'] = rides_df['distance'].astype('float32')\n",
        "rides_df['duration'] = rides_df['duration'].astype('float32')"
      ]
    },
    {
      "cell_type": "code",
      "execution_count": null,
      "id": "a5de461f",
      "metadata": {
        "id": "a5de461f"
      },
      "outputs": [],
      "source": [
        "subs_df['minute_price'] = subs_df['minute_price'].astype('int32')\n",
        "subs_df['start_ride_price'] = subs_df['start_ride_price'].astype('int32')\n",
        "subs_df['subscription_fee'] = subs_df['subscription_fee'].astype('int32')"
      ]
    },
    {
      "cell_type": "markdown",
      "id": "2a1ae484",
      "metadata": {
        "id": "2a1ae484"
      },
      "source": [
        "Судя по данным, полученным из датафреймов методом `info()`, можно сделать вывод, что пропуски в датафреймах отсутствуют. Во всех столбцах кроме `user_id` могут быть повторяющиеся значения, это нормально для представленных данных, поэтому осается проверить столбец `user_id` на наличие дубликатов."
      ]
    },
    {
      "cell_type": "code",
      "execution_count": null,
      "id": "586266f6",
      "metadata": {
        "scrolled": false,
        "id": "586266f6",
        "outputId": "e51a21c5-8e68-45ff-9d6b-ae95e2c39c16"
      },
      "outputs": [
        {
          "data": {
            "text/plain": [
              "1534"
            ]
          },
          "execution_count": 11,
          "metadata": {},
          "output_type": "execute_result"
        }
      ],
      "source": [
        "users_df['user_id'].nunique()"
      ]
    },
    {
      "cell_type": "code",
      "execution_count": null,
      "id": "ad936f8b",
      "metadata": {
        "scrolled": true,
        "id": "ad936f8b",
        "outputId": "017a0be9-2600-4ba4-c653-451cdc087806"
      },
      "outputs": [
        {
          "data": {
            "text/plain": [
              "31"
            ]
          },
          "execution_count": 12,
          "metadata": {},
          "output_type": "execute_result"
        }
      ],
      "source": [
        "users_df.duplicated().sum()"
      ]
    },
    {
      "cell_type": "markdown",
      "id": "7d2fc884",
      "metadata": {
        "id": "7d2fc884"
      },
      "source": [
        "Столбец `user_id` датафрейма с информацией о пользователях имеет 31 явный дубликат, избавимся от них."
      ]
    },
    {
      "cell_type": "code",
      "execution_count": null,
      "id": "27b6a912",
      "metadata": {
        "id": "27b6a912"
      },
      "outputs": [],
      "source": [
        "users_df = users_df.drop_duplicates()"
      ]
    },
    {
      "cell_type": "code",
      "execution_count": null,
      "id": "6e40a38d",
      "metadata": {
        "scrolled": true,
        "id": "6e40a38d",
        "outputId": "7065a9c7-92fb-420f-a11e-021b9c1f2fff"
      },
      "outputs": [
        {
          "data": {
            "text/plain": [
              "0"
            ]
          },
          "execution_count": 14,
          "metadata": {},
          "output_type": "execute_result"
        }
      ],
      "source": [
        "rides_df.duplicated().sum()"
      ]
    },
    {
      "cell_type": "code",
      "execution_count": null,
      "id": "292224e3",
      "metadata": {
        "scrolled": true,
        "id": "292224e3",
        "outputId": "1a58bf7c-c0b3-4e70-d8dd-ffb361c98009"
      },
      "outputs": [
        {
          "data": {
            "text/plain": [
              "1534"
            ]
          },
          "execution_count": 15,
          "metadata": {},
          "output_type": "execute_result"
        }
      ],
      "source": [
        "rides_df['user_id'].nunique()"
      ]
    },
    {
      "cell_type": "markdown",
      "id": "f0286042",
      "metadata": {
        "id": "f0286042"
      },
      "source": [
        "Датафрейм `rides_df` имеет в столбце `user_id` 1534 уникальных значения без дубликатов."
      ]
    },
    {
      "cell_type": "markdown",
      "id": "eb2b82d9",
      "metadata": {
        "id": "eb2b82d9"
      },
      "source": [
        "**Вывод по второму шагу:** изменили тип данных в столбце `date`, создали новый столбец с номером месяца. Для экономии памяти заменили 64-х разрядные числовые переменные на 32-х разрядные. Обнаружили, что пропуски в представленных датафреймах отсутствуют. Таблица `users_df` имела 31 явный дубликат, избавились от них, после чего число строк в ней стало равняться 1534. Больше явных дубликатов обнаружено не было, во всех оставшихся колонках первых двух датафреймов повторение значений нормально для представленных данных, мы не можем называть это неявными дубликатами."
      ]
    },
    {
      "cell_type": "markdown",
      "id": "5f037c5e",
      "metadata": {
        "id": "5f037c5e"
      },
      "source": [
        "#### Шаг 3. Исследовательский анализ данных"
      ]
    },
    {
      "cell_type": "markdown",
      "id": "6ca904ab",
      "metadata": {
        "id": "6ca904ab"
      },
      "source": [
        "* Рассмотрим частоту встречаемости городов из датафрейма `users_df`."
      ]
    },
    {
      "cell_type": "code",
      "execution_count": null,
      "id": "72abd1b9",
      "metadata": {
        "scrolled": false,
        "id": "72abd1b9",
        "outputId": "3c34d3c1-5c3d-4684-ae54-701a457d4dae"
      },
      "outputs": [
        {
          "data": {
            "image/png": "[encoded data removed]",
            "text/plain": [
              "<Figure size 432x288 with 1 Axes>"
            ]
          },
          "metadata": {
            "needs_background": "light"
          },
          "output_type": "display_data"
        }
      ],
      "source": [
        "users_df.groupby('city')['name'].count().sort_values().plot(kind='barh', grid=True)\n",
        "plt.ylabel('Город')\n",
        "plt.xlabel('Количество пользователей')\n",
        "plt.title('Частота встечаемости городов');"
      ]
    },
    {
      "cell_type": "markdown",
      "id": "4fadacb5",
      "metadata": {
        "id": "4fadacb5"
      },
      "source": [
        "Мы видим, что пользователи практически равнромерно распределены по городам. При этом наиболее часто встречается город Пятигорск, наименее часто - Москва."
      ]
    },
    {
      "cell_type": "markdown",
      "id": "789aa65c",
      "metadata": {
        "id": "789aa65c"
      },
      "source": [
        "* Изучим соотеношение пользователей с подпиской и без в датафрейме `users_df`."
      ]
    },
    {
      "cell_type": "code",
      "execution_count": null,
      "id": "fcdcf4dd",
      "metadata": {
        "scrolled": false,
        "id": "fcdcf4dd",
        "outputId": "caecd4d2-d72d-431d-85bf-0b9a81ae1512"
      },
      "outputs": [
        {
          "name": "stdout",
          "output_type": "stream",
          "text": [
            "Соотношение пользователей с подпиской и без: 1.1945636623748213\n"
          ]
        },
        {
          "data": {
            "image/png": "[encoded data removed]",
            "text/plain": [
              "<Figure size 360x360 with 1 Axes>"
            ]
          },
          "metadata": {},
          "output_type": "display_data"
        }
      ],
      "source": [
        "print('Соотношение пользователей с подпиской и без:', (users_df[users_df['subscription_type'] == 'free'].count() / users_df[users_df['subscription_type'] == 'ultra'].count())[1])\n",
        "plt.figure(figsize=(5, 5))\n",
        "plt.pie(users_df.groupby('subscription_type')['name'].count(), colors = ['#4F6272', '#B7C3F3'], autopct='%1.1f%%', shadow=True)\n",
        "plt.legend(['free', 'ultra'])\n",
        "plt.title('Соотношение пользователей с подпиской и без');\n",
        "plt.show();"
      ]
    },
    {
      "cell_type": "markdown",
      "id": "836afb46",
      "metadata": {
        "id": "836afb46"
      },
      "source": [
        "В результате анализа видим, что количество пользователей без подписки к количеству пользователей с подпиской относится примерно, как 6 к 5. Или от общего числа пользователей 54,4% составляют первые и 45,6% - вторые."
      ]
    },
    {
      "cell_type": "markdown",
      "id": "8061b560",
      "metadata": {
        "id": "8061b560"
      },
      "source": [
        "* Исследуем возраст пользователей из таблицы `users_df`."
      ]
    },
    {
      "cell_type": "code",
      "execution_count": null,
      "id": "9aa77a27",
      "metadata": {
        "scrolled": true,
        "id": "9aa77a27",
        "outputId": "9de7a01d-5a4b-41d6-bc35-1447480fcb51"
      },
      "outputs": [
        {
          "data": {
            "image/png": "[encoded data removed]",
            "text/plain": [
              "<Figure size 432x288 with 1 Axes>"
            ]
          },
          "metadata": {
            "needs_background": "light"
          },
          "output_type": "display_data"
        }
      ],
      "source": [
        "users_df.groupby('age')['name'].count().plot(kind='bar', grid=True)\n",
        "plt.xlabel('Возраст')\n",
        "plt.ylabel('Количество пользователей')\n",
        "plt.title('Распределение пользователей по возрасту');"
      ]
    },
    {
      "cell_type": "markdown",
      "id": "ccf77d4e",
      "metadata": {
        "id": "ccf77d4e"
      },
      "source": [
        "Видим, что наибольшее число пользователей в возрасте 25 лет. Далее влево и вправо от данного числа следует убывание количества пользователей в зависимости от возраста, соответствующее нормальному распределению."
      ]
    },
    {
      "cell_type": "markdown",
      "id": "2b872d1c",
      "metadata": {
        "id": "2b872d1c"
      },
      "source": [
        "* Рассмотрим расстояние, которое преодолел пользователь за одну поездку, и продолжительность поездок."
      ]
    },
    {
      "cell_type": "code",
      "execution_count": null,
      "id": "d8192da6",
      "metadata": {
        "id": "d8192da6",
        "outputId": "875e28ca-0b15-46c3-89dc-27562ebd31a2"
      },
      "outputs": [
        {
          "data": {
            "text/html": [
              "<div>\n",
              "<style scoped>\n",
              "    .dataframe tbody tr th:only-of-type {\n",
              "        vertical-align: middle;\n",
              "    }\n",
              "\n",
              "    .dataframe tbody tr th {\n",
              "        vertical-align: top;\n",
              "    }\n",
              "\n",
              "    .dataframe thead th {\n",
              "        text-align: right;\n",
              "    }\n",
              "</style>\n",
              "<table border=\"1\" class=\"dataframe\">\n",
              "  <thead>\n",
              "    <tr style=\"text-align: right;\">\n",
              "      <th></th>\n",
              "      <th>user_id</th>\n",
              "      <th>distance</th>\n",
              "      <th>duration</th>\n",
              "      <th>month</th>\n",
              "    </tr>\n",
              "  </thead>\n",
              "  <tbody>\n",
              "    <tr>\n",
              "      <th>count</th>\n",
              "      <td>18068.000000</td>\n",
              "      <td>18068.000000</td>\n",
              "      <td>18068.000000</td>\n",
              "      <td>18068.000000</td>\n",
              "    </tr>\n",
              "    <tr>\n",
              "      <th>mean</th>\n",
              "      <td>842.869936</td>\n",
              "      <td>3070.660156</td>\n",
              "      <td>17.805012</td>\n",
              "      <td>6.486772</td>\n",
              "    </tr>\n",
              "    <tr>\n",
              "      <th>std</th>\n",
              "      <td>434.734317</td>\n",
              "      <td>1116.831177</td>\n",
              "      <td>6.091051</td>\n",
              "      <td>3.437410</td>\n",
              "    </tr>\n",
              "    <tr>\n",
              "      <th>min</th>\n",
              "      <td>1.000000</td>\n",
              "      <td>0.855683</td>\n",
              "      <td>0.500000</td>\n",
              "      <td>1.000000</td>\n",
              "    </tr>\n",
              "    <tr>\n",
              "      <th>25%</th>\n",
              "      <td>487.000000</td>\n",
              "      <td>2543.226318</td>\n",
              "      <td>13.597563</td>\n",
              "      <td>4.000000</td>\n",
              "    </tr>\n",
              "    <tr>\n",
              "      <th>50%</th>\n",
              "      <td>889.000000</td>\n",
              "      <td>3133.609985</td>\n",
              "      <td>17.678394</td>\n",
              "      <td>6.000000</td>\n",
              "    </tr>\n",
              "    <tr>\n",
              "      <th>75%</th>\n",
              "      <td>1213.250000</td>\n",
              "      <td>3776.222717</td>\n",
              "      <td>21.724800</td>\n",
              "      <td>9.000000</td>\n",
              "    </tr>\n",
              "    <tr>\n",
              "      <th>max</th>\n",
              "      <td>1534.000000</td>\n",
              "      <td>7211.007812</td>\n",
              "      <td>40.823963</td>\n",
              "      <td>12.000000</td>\n",
              "    </tr>\n",
              "  </tbody>\n",
              "</table>\n",
              "</div>"
            ],
            "text/plain": [
              "            user_id      distance      duration         month\n",
              "count  18068.000000  18068.000000  18068.000000  18068.000000\n",
              "mean     842.869936   3070.660156     17.805012      6.486772\n",
              "std      434.734317   1116.831177      6.091051      3.437410\n",
              "min        1.000000      0.855683      0.500000      1.000000\n",
              "25%      487.000000   2543.226318     13.597563      4.000000\n",
              "50%      889.000000   3133.609985     17.678394      6.000000\n",
              "75%     1213.250000   3776.222717     21.724800      9.000000\n",
              "max     1534.000000   7211.007812     40.823963     12.000000"
            ]
          },
          "execution_count": 19,
          "metadata": {},
          "output_type": "execute_result"
        }
      ],
      "source": [
        "rides_df.describe()"
      ]
    },
    {
      "cell_type": "code",
      "execution_count": null,
      "id": "98802db3",
      "metadata": {
        "scrolled": true,
        "id": "98802db3",
        "outputId": "017af384-391b-4cb9-ae62-9b20be4079b6"
      },
      "outputs": [
        {
          "data": {
            "image/png": "[encoded data removed]",
            "text/plain": [
              "<Figure size 432x288 with 1 Axes>"
            ]
          },
          "metadata": {
            "needs_background": "light"
          },
          "output_type": "display_data"
        }
      ],
      "source": [
        "rides_df['distance'].plot(kind='hist', grid=True)\n",
        "plt.xlabel('Расстояние')\n",
        "plt.ylabel('Количество')\n",
        "plt.title('Распределение расстояния');"
      ]
    },
    {
      "cell_type": "code",
      "execution_count": null,
      "id": "158c5cdf",
      "metadata": {
        "id": "158c5cdf",
        "outputId": "022b2890-e305-4747-9291-0ce857ee5b68"
      },
      "outputs": [
        {
          "data": {
            "image/png": "[encoded data removed]",
            "text/plain": [
              "<Figure size 432x288 with 1 Axes>"
            ]
          },
          "metadata": {
            "needs_background": "light"
          },
          "output_type": "display_data"
        }
      ],
      "source": [
        "rides_df['duration'].plot(kind='hist', grid=True)\n",
        "plt.xlabel('Продолжительность поездки')\n",
        "plt.ylabel('Количество')\n",
        "plt.title('Распределение продолжительности поездки');"
      ]
    },
    {
      "cell_type": "markdown",
      "id": "1eb00d5c",
      "metadata": {
        "id": "1eb00d5c"
      },
      "source": [
        "Из представленных данных можно сделать вывод, что среднее расстояние, которое преодолел пользователь за одну поездку равно ~3071 м, а средняя продолжительность при этом равна ~ 18 минут. Средние значения обоих столбцов не сильно отличаются от медианных, из чего можно сделать вывод, что в данных нет больших выбросов в ту или иную сторону.\n",
        "\n",
        "UPD: по гистограммам можем увидеть, что распределение обоих параметров близко к нормальному, с пиком в районе среднего значения и симметричным убыванием в обе стороны."
      ]
    },
    {
      "cell_type": "markdown",
      "id": "6ec8f3b2",
      "metadata": {
        "id": "6ec8f3b2"
      },
      "source": [
        "#### Шаг 4. Объединение данных"
      ]
    },
    {
      "cell_type": "markdown",
      "id": "7e21ead8",
      "metadata": {
        "id": "7e21ead8"
      },
      "source": [
        "* Объединим данные о пользователях, поездках и подписках в один датафрейм `df`. Рассмотрим получившийся датафрейм."
      ]
    },
    {
      "cell_type": "code",
      "execution_count": null,
      "id": "89f8adaa",
      "metadata": {
        "scrolled": true,
        "id": "89f8adaa",
        "outputId": "e2ca791c-8d26-4974-a3e0-0e6ac650362d"
      },
      "outputs": [
        {
          "name": "stdout",
          "output_type": "stream",
          "text": [
            "<class 'pandas.core.frame.DataFrame'>\n",
            "Int64Index: 18068 entries, 0 to 18067\n",
            "Data columns (total 12 columns):\n",
            " #   Column             Non-Null Count  Dtype         \n",
            "---  ------             --------------  -----         \n",
            " 0   user_id            18068 non-null  int32         \n",
            " 1   name               18068 non-null  object        \n",
            " 2   age                18068 non-null  int32         \n",
            " 3   city               18068 non-null  object        \n",
            " 4   subscription_type  18068 non-null  object        \n",
            " 5   distance           18068 non-null  float32       \n",
            " 6   duration           18068 non-null  float32       \n",
            " 7   date               18068 non-null  datetime64[ns]\n",
            " 8   month              18068 non-null  int64         \n",
            " 9   minute_price       18068 non-null  int32         \n",
            " 10  start_ride_price   18068 non-null  int32         \n",
            " 11  subscription_fee   18068 non-null  int32         \n",
            "dtypes: datetime64[ns](1), float32(2), int32(5), int64(1), object(3)\n",
            "memory usage: 1.3+ MB\n"
          ]
        },
        {
          "data": {
            "text/plain": [
              "None"
            ]
          },
          "metadata": {},
          "output_type": "display_data"
        },
        {
          "data": {
            "text/html": [
              "<div>\n",
              "<style scoped>\n",
              "    .dataframe tbody tr th:only-of-type {\n",
              "        vertical-align: middle;\n",
              "    }\n",
              "\n",
              "    .dataframe tbody tr th {\n",
              "        vertical-align: top;\n",
              "    }\n",
              "\n",
              "    .dataframe thead th {\n",
              "        text-align: right;\n",
              "    }\n",
              "</style>\n",
              "<table border=\"1\" class=\"dataframe\">\n",
              "  <thead>\n",
              "    <tr style=\"text-align: right;\">\n",
              "      <th></th>\n",
              "      <th>user_id</th>\n",
              "      <th>name</th>\n",
              "      <th>age</th>\n",
              "      <th>city</th>\n",
              "      <th>subscription_type</th>\n",
              "      <th>distance</th>\n",
              "      <th>duration</th>\n",
              "      <th>date</th>\n",
              "      <th>month</th>\n",
              "      <th>minute_price</th>\n",
              "      <th>start_ride_price</th>\n",
              "      <th>subscription_fee</th>\n",
              "    </tr>\n",
              "  </thead>\n",
              "  <tbody>\n",
              "    <tr>\n",
              "      <th>0</th>\n",
              "      <td>1</td>\n",
              "      <td>Кира</td>\n",
              "      <td>22</td>\n",
              "      <td>Тюмень</td>\n",
              "      <td>ultra</td>\n",
              "      <td>4409.918945</td>\n",
              "      <td>25.599770</td>\n",
              "      <td>2021-01-01</td>\n",
              "      <td>1</td>\n",
              "      <td>6</td>\n",
              "      <td>0</td>\n",
              "      <td>199</td>\n",
              "    </tr>\n",
              "    <tr>\n",
              "      <th>1</th>\n",
              "      <td>1</td>\n",
              "      <td>Кира</td>\n",
              "      <td>22</td>\n",
              "      <td>Тюмень</td>\n",
              "      <td>ultra</td>\n",
              "      <td>2617.592041</td>\n",
              "      <td>15.816872</td>\n",
              "      <td>2021-01-18</td>\n",
              "      <td>1</td>\n",
              "      <td>6</td>\n",
              "      <td>0</td>\n",
              "      <td>199</td>\n",
              "    </tr>\n",
              "    <tr>\n",
              "      <th>2</th>\n",
              "      <td>1</td>\n",
              "      <td>Кира</td>\n",
              "      <td>22</td>\n",
              "      <td>Тюмень</td>\n",
              "      <td>ultra</td>\n",
              "      <td>754.159790</td>\n",
              "      <td>6.232113</td>\n",
              "      <td>2021-04-20</td>\n",
              "      <td>4</td>\n",
              "      <td>6</td>\n",
              "      <td>0</td>\n",
              "      <td>199</td>\n",
              "    </tr>\n",
              "    <tr>\n",
              "      <th>3</th>\n",
              "      <td>1</td>\n",
              "      <td>Кира</td>\n",
              "      <td>22</td>\n",
              "      <td>Тюмень</td>\n",
              "      <td>ultra</td>\n",
              "      <td>2694.783203</td>\n",
              "      <td>18.511000</td>\n",
              "      <td>2021-08-11</td>\n",
              "      <td>8</td>\n",
              "      <td>6</td>\n",
              "      <td>0</td>\n",
              "      <td>199</td>\n",
              "    </tr>\n",
              "    <tr>\n",
              "      <th>4</th>\n",
              "      <td>1</td>\n",
              "      <td>Кира</td>\n",
              "      <td>22</td>\n",
              "      <td>Тюмень</td>\n",
              "      <td>ultra</td>\n",
              "      <td>4028.687256</td>\n",
              "      <td>26.265802</td>\n",
              "      <td>2021-08-28</td>\n",
              "      <td>8</td>\n",
              "      <td>6</td>\n",
              "      <td>0</td>\n",
              "      <td>199</td>\n",
              "    </tr>\n",
              "    <tr>\n",
              "      <th>5</th>\n",
              "      <td>1</td>\n",
              "      <td>Кира</td>\n",
              "      <td>22</td>\n",
              "      <td>Тюмень</td>\n",
              "      <td>ultra</td>\n",
              "      <td>2770.890869</td>\n",
              "      <td>16.650139</td>\n",
              "      <td>2021-10-09</td>\n",
              "      <td>10</td>\n",
              "      <td>6</td>\n",
              "      <td>0</td>\n",
              "      <td>199</td>\n",
              "    </tr>\n",
              "    <tr>\n",
              "      <th>6</th>\n",
              "      <td>1</td>\n",
              "      <td>Кира</td>\n",
              "      <td>22</td>\n",
              "      <td>Тюмень</td>\n",
              "      <td>ultra</td>\n",
              "      <td>3039.020264</td>\n",
              "      <td>14.927879</td>\n",
              "      <td>2021-10-19</td>\n",
              "      <td>10</td>\n",
              "      <td>6</td>\n",
              "      <td>0</td>\n",
              "      <td>199</td>\n",
              "    </tr>\n",
              "    <tr>\n",
              "      <th>7</th>\n",
              "      <td>1</td>\n",
              "      <td>Кира</td>\n",
              "      <td>22</td>\n",
              "      <td>Тюмень</td>\n",
              "      <td>ultra</td>\n",
              "      <td>2842.118164</td>\n",
              "      <td>23.117468</td>\n",
              "      <td>2021-11-06</td>\n",
              "      <td>11</td>\n",
              "      <td>6</td>\n",
              "      <td>0</td>\n",
              "      <td>199</td>\n",
              "    </tr>\n",
              "    <tr>\n",
              "      <th>8</th>\n",
              "      <td>1</td>\n",
              "      <td>Кира</td>\n",
              "      <td>22</td>\n",
              "      <td>Тюмень</td>\n",
              "      <td>ultra</td>\n",
              "      <td>3412.690674</td>\n",
              "      <td>15.238072</td>\n",
              "      <td>2021-11-14</td>\n",
              "      <td>11</td>\n",
              "      <td>6</td>\n",
              "      <td>0</td>\n",
              "      <td>199</td>\n",
              "    </tr>\n",
              "    <tr>\n",
              "      <th>9</th>\n",
              "      <td>1</td>\n",
              "      <td>Кира</td>\n",
              "      <td>22</td>\n",
              "      <td>Тюмень</td>\n",
              "      <td>ultra</td>\n",
              "      <td>748.690674</td>\n",
              "      <td>15.041883</td>\n",
              "      <td>2021-11-22</td>\n",
              "      <td>11</td>\n",
              "      <td>6</td>\n",
              "      <td>0</td>\n",
              "      <td>199</td>\n",
              "    </tr>\n",
              "  </tbody>\n",
              "</table>\n",
              "</div>"
            ],
            "text/plain": [
              "   user_id  name  age    city subscription_type     distance   duration  \\\n",
              "0        1  Кира   22  Тюмень             ultra  4409.918945  25.599770   \n",
              "1        1  Кира   22  Тюмень             ultra  2617.592041  15.816872   \n",
              "2        1  Кира   22  Тюмень             ultra   754.159790   6.232113   \n",
              "3        1  Кира   22  Тюмень             ultra  2694.783203  18.511000   \n",
              "4        1  Кира   22  Тюмень             ultra  4028.687256  26.265802   \n",
              "5        1  Кира   22  Тюмень             ultra  2770.890869  16.650139   \n",
              "6        1  Кира   22  Тюмень             ultra  3039.020264  14.927879   \n",
              "7        1  Кира   22  Тюмень             ultra  2842.118164  23.117468   \n",
              "8        1  Кира   22  Тюмень             ultra  3412.690674  15.238072   \n",
              "9        1  Кира   22  Тюмень             ultra   748.690674  15.041883   \n",
              "\n",
              "        date  month  minute_price  start_ride_price  subscription_fee  \n",
              "0 2021-01-01      1             6                 0               199  \n",
              "1 2021-01-18      1             6                 0               199  \n",
              "2 2021-04-20      4             6                 0               199  \n",
              "3 2021-08-11      8             6                 0               199  \n",
              "4 2021-08-28      8             6                 0               199  \n",
              "5 2021-10-09     10             6                 0               199  \n",
              "6 2021-10-19     10             6                 0               199  \n",
              "7 2021-11-06     11             6                 0               199  \n",
              "8 2021-11-14     11             6                 0               199  \n",
              "9 2021-11-22     11             6                 0               199  "
            ]
          },
          "execution_count": 22,
          "metadata": {},
          "output_type": "execute_result"
        }
      ],
      "source": [
        "df = users_df.merge(rides_df, on='user_id')\n",
        "df = df.merge(subs_df, on='subscription_type')\n",
        "display(df.info())\n",
        "df.head(10)"
      ]
    },
    {
      "cell_type": "markdown",
      "id": "c45d03e9",
      "metadata": {
        "id": "c45d03e9"
      },
      "source": [
        "На выходе мы получили датафрейм из 18068 строк и 12 столбцов. В процессе объединения никаких данных не потеряли."
      ]
    },
    {
      "cell_type": "markdown",
      "id": "e9fe02d9",
      "metadata": {
        "id": "e9fe02d9"
      },
      "source": [
        "* Создадим на основе полученной таблицы два датафрейма с информацией о пользователях с подпиской(`ultra_df`) и без(`free_df`)."
      ]
    },
    {
      "cell_type": "code",
      "execution_count": null,
      "id": "6c372d53",
      "metadata": {
        "scrolled": false,
        "id": "6c372d53",
        "outputId": "0b2c2eb5-8883-42be-9629-a6c0cdd5cd17"
      },
      "outputs": [
        {
          "name": "stdout",
          "output_type": "stream",
          "text": [
            "<class 'pandas.core.frame.DataFrame'>\n",
            "Int64Index: 6500 entries, 0 to 6499\n",
            "Data columns (total 12 columns):\n",
            " #   Column             Non-Null Count  Dtype         \n",
            "---  ------             --------------  -----         \n",
            " 0   user_id            6500 non-null   int32         \n",
            " 1   name               6500 non-null   object        \n",
            " 2   age                6500 non-null   int32         \n",
            " 3   city               6500 non-null   object        \n",
            " 4   subscription_type  6500 non-null   object        \n",
            " 5   distance           6500 non-null   float32       \n",
            " 6   duration           6500 non-null   float32       \n",
            " 7   date               6500 non-null   datetime64[ns]\n",
            " 8   month              6500 non-null   int64         \n",
            " 9   minute_price       6500 non-null   int32         \n",
            " 10  start_ride_price   6500 non-null   int32         \n",
            " 11  subscription_fee   6500 non-null   int32         \n",
            "dtypes: datetime64[ns](1), float32(2), int32(5), int64(1), object(3)\n",
            "memory usage: 482.4+ KB\n"
          ]
        },
        {
          "data": {
            "text/plain": [
              "None"
            ]
          },
          "metadata": {},
          "output_type": "display_data"
        },
        {
          "data": {
            "text/html": [
              "<div>\n",
              "<style scoped>\n",
              "    .dataframe tbody tr th:only-of-type {\n",
              "        vertical-align: middle;\n",
              "    }\n",
              "\n",
              "    .dataframe tbody tr th {\n",
              "        vertical-align: top;\n",
              "    }\n",
              "\n",
              "    .dataframe thead th {\n",
              "        text-align: right;\n",
              "    }\n",
              "</style>\n",
              "<table border=\"1\" class=\"dataframe\">\n",
              "  <thead>\n",
              "    <tr style=\"text-align: right;\">\n",
              "      <th></th>\n",
              "      <th>user_id</th>\n",
              "      <th>name</th>\n",
              "      <th>age</th>\n",
              "      <th>city</th>\n",
              "      <th>subscription_type</th>\n",
              "      <th>distance</th>\n",
              "      <th>duration</th>\n",
              "      <th>date</th>\n",
              "      <th>month</th>\n",
              "      <th>minute_price</th>\n",
              "      <th>start_ride_price</th>\n",
              "      <th>subscription_fee</th>\n",
              "    </tr>\n",
              "  </thead>\n",
              "  <tbody>\n",
              "    <tr>\n",
              "      <th>0</th>\n",
              "      <td>1</td>\n",
              "      <td>Кира</td>\n",
              "      <td>22</td>\n",
              "      <td>Тюмень</td>\n",
              "      <td>ultra</td>\n",
              "      <td>4409.918945</td>\n",
              "      <td>25.599770</td>\n",
              "      <td>2021-01-01</td>\n",
              "      <td>1</td>\n",
              "      <td>6</td>\n",
              "      <td>0</td>\n",
              "      <td>199</td>\n",
              "    </tr>\n",
              "    <tr>\n",
              "      <th>1</th>\n",
              "      <td>1</td>\n",
              "      <td>Кира</td>\n",
              "      <td>22</td>\n",
              "      <td>Тюмень</td>\n",
              "      <td>ultra</td>\n",
              "      <td>2617.592041</td>\n",
              "      <td>15.816872</td>\n",
              "      <td>2021-01-18</td>\n",
              "      <td>1</td>\n",
              "      <td>6</td>\n",
              "      <td>0</td>\n",
              "      <td>199</td>\n",
              "    </tr>\n",
              "    <tr>\n",
              "      <th>2</th>\n",
              "      <td>1</td>\n",
              "      <td>Кира</td>\n",
              "      <td>22</td>\n",
              "      <td>Тюмень</td>\n",
              "      <td>ultra</td>\n",
              "      <td>754.159790</td>\n",
              "      <td>6.232113</td>\n",
              "      <td>2021-04-20</td>\n",
              "      <td>4</td>\n",
              "      <td>6</td>\n",
              "      <td>0</td>\n",
              "      <td>199</td>\n",
              "    </tr>\n",
              "    <tr>\n",
              "      <th>3</th>\n",
              "      <td>1</td>\n",
              "      <td>Кира</td>\n",
              "      <td>22</td>\n",
              "      <td>Тюмень</td>\n",
              "      <td>ultra</td>\n",
              "      <td>2694.783203</td>\n",
              "      <td>18.511000</td>\n",
              "      <td>2021-08-11</td>\n",
              "      <td>8</td>\n",
              "      <td>6</td>\n",
              "      <td>0</td>\n",
              "      <td>199</td>\n",
              "    </tr>\n",
              "    <tr>\n",
              "      <th>4</th>\n",
              "      <td>1</td>\n",
              "      <td>Кира</td>\n",
              "      <td>22</td>\n",
              "      <td>Тюмень</td>\n",
              "      <td>ultra</td>\n",
              "      <td>4028.687256</td>\n",
              "      <td>26.265802</td>\n",
              "      <td>2021-08-28</td>\n",
              "      <td>8</td>\n",
              "      <td>6</td>\n",
              "      <td>0</td>\n",
              "      <td>199</td>\n",
              "    </tr>\n",
              "    <tr>\n",
              "      <th>5</th>\n",
              "      <td>1</td>\n",
              "      <td>Кира</td>\n",
              "      <td>22</td>\n",
              "      <td>Тюмень</td>\n",
              "      <td>ultra</td>\n",
              "      <td>2770.890869</td>\n",
              "      <td>16.650139</td>\n",
              "      <td>2021-10-09</td>\n",
              "      <td>10</td>\n",
              "      <td>6</td>\n",
              "      <td>0</td>\n",
              "      <td>199</td>\n",
              "    </tr>\n",
              "    <tr>\n",
              "      <th>6</th>\n",
              "      <td>1</td>\n",
              "      <td>Кира</td>\n",
              "      <td>22</td>\n",
              "      <td>Тюмень</td>\n",
              "      <td>ultra</td>\n",
              "      <td>3039.020264</td>\n",
              "      <td>14.927879</td>\n",
              "      <td>2021-10-19</td>\n",
              "      <td>10</td>\n",
              "      <td>6</td>\n",
              "      <td>0</td>\n",
              "      <td>199</td>\n",
              "    </tr>\n",
              "    <tr>\n",
              "      <th>7</th>\n",
              "      <td>1</td>\n",
              "      <td>Кира</td>\n",
              "      <td>22</td>\n",
              "      <td>Тюмень</td>\n",
              "      <td>ultra</td>\n",
              "      <td>2842.118164</td>\n",
              "      <td>23.117468</td>\n",
              "      <td>2021-11-06</td>\n",
              "      <td>11</td>\n",
              "      <td>6</td>\n",
              "      <td>0</td>\n",
              "      <td>199</td>\n",
              "    </tr>\n",
              "    <tr>\n",
              "      <th>8</th>\n",
              "      <td>1</td>\n",
              "      <td>Кира</td>\n",
              "      <td>22</td>\n",
              "      <td>Тюмень</td>\n",
              "      <td>ultra</td>\n",
              "      <td>3412.690674</td>\n",
              "      <td>15.238072</td>\n",
              "      <td>2021-11-14</td>\n",
              "      <td>11</td>\n",
              "      <td>6</td>\n",
              "      <td>0</td>\n",
              "      <td>199</td>\n",
              "    </tr>\n",
              "    <tr>\n",
              "      <th>9</th>\n",
              "      <td>1</td>\n",
              "      <td>Кира</td>\n",
              "      <td>22</td>\n",
              "      <td>Тюмень</td>\n",
              "      <td>ultra</td>\n",
              "      <td>748.690674</td>\n",
              "      <td>15.041883</td>\n",
              "      <td>2021-11-22</td>\n",
              "      <td>11</td>\n",
              "      <td>6</td>\n",
              "      <td>0</td>\n",
              "      <td>199</td>\n",
              "    </tr>\n",
              "  </tbody>\n",
              "</table>\n",
              "</div>"
            ],
            "text/plain": [
              "   user_id  name  age    city subscription_type     distance   duration  \\\n",
              "0        1  Кира   22  Тюмень             ultra  4409.918945  25.599770   \n",
              "1        1  Кира   22  Тюмень             ultra  2617.592041  15.816872   \n",
              "2        1  Кира   22  Тюмень             ultra   754.159790   6.232113   \n",
              "3        1  Кира   22  Тюмень             ultra  2694.783203  18.511000   \n",
              "4        1  Кира   22  Тюмень             ultra  4028.687256  26.265802   \n",
              "5        1  Кира   22  Тюмень             ultra  2770.890869  16.650139   \n",
              "6        1  Кира   22  Тюмень             ultra  3039.020264  14.927879   \n",
              "7        1  Кира   22  Тюмень             ultra  2842.118164  23.117468   \n",
              "8        1  Кира   22  Тюмень             ultra  3412.690674  15.238072   \n",
              "9        1  Кира   22  Тюмень             ultra   748.690674  15.041883   \n",
              "\n",
              "        date  month  minute_price  start_ride_price  subscription_fee  \n",
              "0 2021-01-01      1             6                 0               199  \n",
              "1 2021-01-18      1             6                 0               199  \n",
              "2 2021-04-20      4             6                 0               199  \n",
              "3 2021-08-11      8             6                 0               199  \n",
              "4 2021-08-28      8             6                 0               199  \n",
              "5 2021-10-09     10             6                 0               199  \n",
              "6 2021-10-19     10             6                 0               199  \n",
              "7 2021-11-06     11             6                 0               199  \n",
              "8 2021-11-14     11             6                 0               199  \n",
              "9 2021-11-22     11             6                 0               199  "
            ]
          },
          "execution_count": 23,
          "metadata": {},
          "output_type": "execute_result"
        }
      ],
      "source": [
        "ultra_df = df.query('subscription_type == \"ultra\"')\n",
        "display(ultra_df.info())\n",
        "ultra_df.head(10)"
      ]
    },
    {
      "cell_type": "code",
      "execution_count": null,
      "id": "49bdf21e",
      "metadata": {
        "scrolled": true,
        "id": "49bdf21e",
        "outputId": "71e4c5a3-6419-4971-a1c9-a2c6cd922169"
      },
      "outputs": [
        {
          "name": "stdout",
          "output_type": "stream",
          "text": [
            "<class 'pandas.core.frame.DataFrame'>\n",
            "Int64Index: 11568 entries, 6500 to 18067\n",
            "Data columns (total 12 columns):\n",
            " #   Column             Non-Null Count  Dtype         \n",
            "---  ------             --------------  -----         \n",
            " 0   user_id            11568 non-null  int32         \n",
            " 1   name               11568 non-null  object        \n",
            " 2   age                11568 non-null  int32         \n",
            " 3   city               11568 non-null  object        \n",
            " 4   subscription_type  11568 non-null  object        \n",
            " 5   distance           11568 non-null  float32       \n",
            " 6   duration           11568 non-null  float32       \n",
            " 7   date               11568 non-null  datetime64[ns]\n",
            " 8   month              11568 non-null  int64         \n",
            " 9   minute_price       11568 non-null  int32         \n",
            " 10  start_ride_price   11568 non-null  int32         \n",
            " 11  subscription_fee   11568 non-null  int32         \n",
            "dtypes: datetime64[ns](1), float32(2), int32(5), int64(1), object(3)\n",
            "memory usage: 858.6+ KB\n"
          ]
        },
        {
          "data": {
            "text/plain": [
              "None"
            ]
          },
          "metadata": {},
          "output_type": "display_data"
        },
        {
          "data": {
            "text/html": [
              "<div>\n",
              "<style scoped>\n",
              "    .dataframe tbody tr th:only-of-type {\n",
              "        vertical-align: middle;\n",
              "    }\n",
              "\n",
              "    .dataframe tbody tr th {\n",
              "        vertical-align: top;\n",
              "    }\n",
              "\n",
              "    .dataframe thead th {\n",
              "        text-align: right;\n",
              "    }\n",
              "</style>\n",
              "<table border=\"1\" class=\"dataframe\">\n",
              "  <thead>\n",
              "    <tr style=\"text-align: right;\">\n",
              "      <th></th>\n",
              "      <th>user_id</th>\n",
              "      <th>name</th>\n",
              "      <th>age</th>\n",
              "      <th>city</th>\n",
              "      <th>subscription_type</th>\n",
              "      <th>distance</th>\n",
              "      <th>duration</th>\n",
              "      <th>date</th>\n",
              "      <th>month</th>\n",
              "      <th>minute_price</th>\n",
              "      <th>start_ride_price</th>\n",
              "      <th>subscription_fee</th>\n",
              "    </tr>\n",
              "  </thead>\n",
              "  <tbody>\n",
              "    <tr>\n",
              "      <th>6500</th>\n",
              "      <td>700</td>\n",
              "      <td>Айдар</td>\n",
              "      <td>22</td>\n",
              "      <td>Омск</td>\n",
              "      <td>free</td>\n",
              "      <td>2515.690674</td>\n",
              "      <td>14.944286</td>\n",
              "      <td>2021-01-02</td>\n",
              "      <td>1</td>\n",
              "      <td>8</td>\n",
              "      <td>50</td>\n",
              "      <td>0</td>\n",
              "    </tr>\n",
              "    <tr>\n",
              "      <th>6501</th>\n",
              "      <td>700</td>\n",
              "      <td>Айдар</td>\n",
              "      <td>22</td>\n",
              "      <td>Омск</td>\n",
              "      <td>free</td>\n",
              "      <td>846.932617</td>\n",
              "      <td>16.234663</td>\n",
              "      <td>2021-02-01</td>\n",
              "      <td>2</td>\n",
              "      <td>8</td>\n",
              "      <td>50</td>\n",
              "      <td>0</td>\n",
              "    </tr>\n",
              "    <tr>\n",
              "      <th>6502</th>\n",
              "      <td>700</td>\n",
              "      <td>Айдар</td>\n",
              "      <td>22</td>\n",
              "      <td>Омск</td>\n",
              "      <td>free</td>\n",
              "      <td>4004.434082</td>\n",
              "      <td>20.016628</td>\n",
              "      <td>2021-02-04</td>\n",
              "      <td>2</td>\n",
              "      <td>8</td>\n",
              "      <td>50</td>\n",
              "      <td>0</td>\n",
              "    </tr>\n",
              "    <tr>\n",
              "      <th>6503</th>\n",
              "      <td>700</td>\n",
              "      <td>Айдар</td>\n",
              "      <td>22</td>\n",
              "      <td>Омск</td>\n",
              "      <td>free</td>\n",
              "      <td>1205.911255</td>\n",
              "      <td>9.782872</td>\n",
              "      <td>2021-02-10</td>\n",
              "      <td>2</td>\n",
              "      <td>8</td>\n",
              "      <td>50</td>\n",
              "      <td>0</td>\n",
              "    </tr>\n",
              "    <tr>\n",
              "      <th>6504</th>\n",
              "      <td>700</td>\n",
              "      <td>Айдар</td>\n",
              "      <td>22</td>\n",
              "      <td>Омск</td>\n",
              "      <td>free</td>\n",
              "      <td>3047.379395</td>\n",
              "      <td>17.427673</td>\n",
              "      <td>2021-02-14</td>\n",
              "      <td>2</td>\n",
              "      <td>8</td>\n",
              "      <td>50</td>\n",
              "      <td>0</td>\n",
              "    </tr>\n",
              "    <tr>\n",
              "      <th>6505</th>\n",
              "      <td>700</td>\n",
              "      <td>Айдар</td>\n",
              "      <td>22</td>\n",
              "      <td>Омск</td>\n",
              "      <td>free</td>\n",
              "      <td>4342.002441</td>\n",
              "      <td>22.368010</td>\n",
              "      <td>2021-02-23</td>\n",
              "      <td>2</td>\n",
              "      <td>8</td>\n",
              "      <td>50</td>\n",
              "      <td>0</td>\n",
              "    </tr>\n",
              "    <tr>\n",
              "      <th>6506</th>\n",
              "      <td>700</td>\n",
              "      <td>Айдар</td>\n",
              "      <td>22</td>\n",
              "      <td>Омск</td>\n",
              "      <td>free</td>\n",
              "      <td>3798.334961</td>\n",
              "      <td>18.243755</td>\n",
              "      <td>2021-03-03</td>\n",
              "      <td>3</td>\n",
              "      <td>8</td>\n",
              "      <td>50</td>\n",
              "      <td>0</td>\n",
              "    </tr>\n",
              "    <tr>\n",
              "      <th>6507</th>\n",
              "      <td>700</td>\n",
              "      <td>Айдар</td>\n",
              "      <td>22</td>\n",
              "      <td>Омск</td>\n",
              "      <td>free</td>\n",
              "      <td>2984.551270</td>\n",
              "      <td>15.424898</td>\n",
              "      <td>2021-04-09</td>\n",
              "      <td>4</td>\n",
              "      <td>8</td>\n",
              "      <td>50</td>\n",
              "      <td>0</td>\n",
              "    </tr>\n",
              "    <tr>\n",
              "      <th>6508</th>\n",
              "      <td>700</td>\n",
              "      <td>Айдар</td>\n",
              "      <td>22</td>\n",
              "      <td>Омск</td>\n",
              "      <td>free</td>\n",
              "      <td>3360.107178</td>\n",
              "      <td>16.765497</td>\n",
              "      <td>2021-06-12</td>\n",
              "      <td>6</td>\n",
              "      <td>8</td>\n",
              "      <td>50</td>\n",
              "      <td>0</td>\n",
              "    </tr>\n",
              "    <tr>\n",
              "      <th>6509</th>\n",
              "      <td>700</td>\n",
              "      <td>Айдар</td>\n",
              "      <td>22</td>\n",
              "      <td>Омск</td>\n",
              "      <td>free</td>\n",
              "      <td>2567.543945</td>\n",
              "      <td>11.312160</td>\n",
              "      <td>2021-06-23</td>\n",
              "      <td>6</td>\n",
              "      <td>8</td>\n",
              "      <td>50</td>\n",
              "      <td>0</td>\n",
              "    </tr>\n",
              "  </tbody>\n",
              "</table>\n",
              "</div>"
            ],
            "text/plain": [
              "      user_id   name  age  city subscription_type     distance   duration  \\\n",
              "6500      700  Айдар   22  Омск              free  2515.690674  14.944286   \n",
              "6501      700  Айдар   22  Омск              free   846.932617  16.234663   \n",
              "6502      700  Айдар   22  Омск              free  4004.434082  20.016628   \n",
              "6503      700  Айдар   22  Омск              free  1205.911255   9.782872   \n",
              "6504      700  Айдар   22  Омск              free  3047.379395  17.427673   \n",
              "6505      700  Айдар   22  Омск              free  4342.002441  22.368010   \n",
              "6506      700  Айдар   22  Омск              free  3798.334961  18.243755   \n",
              "6507      700  Айдар   22  Омск              free  2984.551270  15.424898   \n",
              "6508      700  Айдар   22  Омск              free  3360.107178  16.765497   \n",
              "6509      700  Айдар   22  Омск              free  2567.543945  11.312160   \n",
              "\n",
              "           date  month  minute_price  start_ride_price  subscription_fee  \n",
              "6500 2021-01-02      1             8                50                 0  \n",
              "6501 2021-02-01      2             8                50                 0  \n",
              "6502 2021-02-04      2             8                50                 0  \n",
              "6503 2021-02-10      2             8                50                 0  \n",
              "6504 2021-02-14      2             8                50                 0  \n",
              "6505 2021-02-23      2             8                50                 0  \n",
              "6506 2021-03-03      3             8                50                 0  \n",
              "6507 2021-04-09      4             8                50                 0  \n",
              "6508 2021-06-12      6             8                50                 0  \n",
              "6509 2021-06-23      6             8                50                 0  "
            ]
          },
          "execution_count": 24,
          "metadata": {},
          "output_type": "execute_result"
        }
      ],
      "source": [
        "free_df = df.query('subscription_type == \"free\"')\n",
        "display(free_df.info())\n",
        "free_df.head(10)"
      ]
    },
    {
      "cell_type": "code",
      "execution_count": null,
      "id": "d13c2b7f",
      "metadata": {
        "id": "d13c2b7f",
        "outputId": "cac4e2a5-a328-41f1-e90e-44011de9122d"
      },
      "outputs": [
        {
          "data": {
            "image/png": "[encoded data removed]",
            "text/plain": [
              "<Figure size 648x504 with 1 Axes>"
            ]
          },
          "metadata": {},
          "output_type": "display_data"
        }
      ],
      "source": [
        "sns.set(style=\"darkgrid\")\n",
        "plt.figure(figsize=(9, 7))\n",
        "\n",
        "sns.histplot(data=free_df['distance'], color=\"skyblue\", label=\"Пользователи без подписки\", kde=True)\n",
        "sns.histplot(data=ultra_df['distance'], color=\"red\", label=\"Пользователи с подпиской\", kde=True)\n",
        "\n",
        "plt.xlabel('Расстояние')\n",
        "plt.ylabel('Количество')\n",
        "plt.title('Распределения расстояния для пользователей различных категорий')\n",
        "plt.legend()\n",
        "plt.show()"
      ]
    },
    {
      "cell_type": "code",
      "execution_count": null,
      "id": "f1f93322",
      "metadata": {
        "id": "f1f93322",
        "outputId": "87b12970-fdc8-48d1-db1f-28bed3fc4ae1"
      },
      "outputs": [
        {
          "data": {
            "image/png": "[encoded data removed]",
            "text/plain": [
              "<Figure size 648x504 with 1 Axes>"
            ]
          },
          "metadata": {},
          "output_type": "display_data"
        }
      ],
      "source": [
        "sns.set(style=\"darkgrid\")\n",
        "plt.figure(figsize=(9, 7))\n",
        "\n",
        "sns.histplot(data=free_df['duration'], color=\"skyblue\", label=\"Пользователи без подписки\", kde=True)\n",
        "sns.histplot(data=ultra_df['duration'], color=\"red\", label=\"Пользователи с подпиской\", kde=True)\n",
        "\n",
        "plt.xlabel('Продолжительность поездки')\n",
        "plt.ylabel('Количество')\n",
        "plt.title('Распределения времени поездок для пользователей различных категорий')\n",
        "plt.legend()\n",
        "plt.show()"
      ]
    },
    {
      "cell_type": "markdown",
      "id": "5bd85cd8",
      "metadata": {
        "id": "5bd85cd8"
      },
      "source": [
        "Из графиков видим, что распределение расстояния и времени поездок близко к нормальному, при этом количество пользователей без подписки в обоих случаях больше, чем пользователей с подпиской. Среднее значение расстояния и времени поездки у пользователей с подпиской несколько больше, чем у пользователей без неё."
      ]
    },
    {
      "cell_type": "markdown",
      "id": "03ceb20b",
      "metadata": {
        "id": "03ceb20b"
      },
      "source": [
        "#### Шаг 5. Подсчёт выручки"
      ]
    },
    {
      "cell_type": "markdown",
      "id": "ac22c05d",
      "metadata": {
        "id": "ac22c05d"
      },
      "source": [
        "* Создадим датафрейм с агрегированными данными о поездках на основе датафрейма с объединёнными данными, включающий в себя суммарное расстояние, количество поездок и суммарное время для каждого пользователя за каждый месяц."
      ]
    },
    {
      "cell_type": "code",
      "execution_count": null,
      "id": "216196dc",
      "metadata": {
        "id": "216196dc",
        "outputId": "a2a2228f-fba6-4629-ca4a-a522c816aeed"
      },
      "outputs": [
        {
          "data": {
            "text/html": [
              "<div>\n",
              "<style scoped>\n",
              "    .dataframe tbody tr th:only-of-type {\n",
              "        vertical-align: middle;\n",
              "    }\n",
              "\n",
              "    .dataframe tbody tr th {\n",
              "        vertical-align: top;\n",
              "    }\n",
              "\n",
              "    .dataframe thead th {\n",
              "        text-align: right;\n",
              "    }\n",
              "</style>\n",
              "<table border=\"1\" class=\"dataframe\">\n",
              "  <thead>\n",
              "    <tr style=\"text-align: right;\">\n",
              "      <th></th>\n",
              "      <th>subscription_type</th>\n",
              "      <th>user_id</th>\n",
              "      <th>month</th>\n",
              "      <th>count</th>\n",
              "      <th>distance_sum</th>\n",
              "      <th>duration_sum</th>\n",
              "      <th>minute_price_first</th>\n",
              "      <th>start_ride_price_first</th>\n",
              "      <th>subscription_fee_first</th>\n",
              "    </tr>\n",
              "  </thead>\n",
              "  <tbody>\n",
              "    <tr>\n",
              "      <th>0</th>\n",
              "      <td>free</td>\n",
              "      <td>700</td>\n",
              "      <td>1</td>\n",
              "      <td>1</td>\n",
              "      <td>2515.690674</td>\n",
              "      <td>15.0</td>\n",
              "      <td>8</td>\n",
              "      <td>50</td>\n",
              "      <td>0</td>\n",
              "    </tr>\n",
              "    <tr>\n",
              "      <th>1</th>\n",
              "      <td>free</td>\n",
              "      <td>700</td>\n",
              "      <td>2</td>\n",
              "      <td>5</td>\n",
              "      <td>13446.660156</td>\n",
              "      <td>89.0</td>\n",
              "      <td>8</td>\n",
              "      <td>50</td>\n",
              "      <td>0</td>\n",
              "    </tr>\n",
              "    <tr>\n",
              "      <th>2</th>\n",
              "      <td>free</td>\n",
              "      <td>700</td>\n",
              "      <td>3</td>\n",
              "      <td>1</td>\n",
              "      <td>3798.334961</td>\n",
              "      <td>19.0</td>\n",
              "      <td>8</td>\n",
              "      <td>50</td>\n",
              "      <td>0</td>\n",
              "    </tr>\n",
              "    <tr>\n",
              "      <th>3</th>\n",
              "      <td>free</td>\n",
              "      <td>700</td>\n",
              "      <td>4</td>\n",
              "      <td>1</td>\n",
              "      <td>2984.551270</td>\n",
              "      <td>16.0</td>\n",
              "      <td>8</td>\n",
              "      <td>50</td>\n",
              "      <td>0</td>\n",
              "    </tr>\n",
              "    <tr>\n",
              "      <th>4</th>\n",
              "      <td>free</td>\n",
              "      <td>700</td>\n",
              "      <td>6</td>\n",
              "      <td>2</td>\n",
              "      <td>5927.651367</td>\n",
              "      <td>29.0</td>\n",
              "      <td>8</td>\n",
              "      <td>50</td>\n",
              "      <td>0</td>\n",
              "    </tr>\n",
              "    <tr>\n",
              "      <th>5</th>\n",
              "      <td>free</td>\n",
              "      <td>700</td>\n",
              "      <td>7</td>\n",
              "      <td>2</td>\n",
              "      <td>4399.206055</td>\n",
              "      <td>21.0</td>\n",
              "      <td>8</td>\n",
              "      <td>50</td>\n",
              "      <td>0</td>\n",
              "    </tr>\n",
              "    <tr>\n",
              "      <th>6</th>\n",
              "      <td>free</td>\n",
              "      <td>700</td>\n",
              "      <td>8</td>\n",
              "      <td>1</td>\n",
              "      <td>4071.654785</td>\n",
              "      <td>17.0</td>\n",
              "      <td>8</td>\n",
              "      <td>50</td>\n",
              "      <td>0</td>\n",
              "    </tr>\n",
              "    <tr>\n",
              "      <th>7</th>\n",
              "      <td>free</td>\n",
              "      <td>700</td>\n",
              "      <td>10</td>\n",
              "      <td>2</td>\n",
              "      <td>6322.578613</td>\n",
              "      <td>44.0</td>\n",
              "      <td>8</td>\n",
              "      <td>50</td>\n",
              "      <td>0</td>\n",
              "    </tr>\n",
              "    <tr>\n",
              "      <th>8</th>\n",
              "      <td>free</td>\n",
              "      <td>700</td>\n",
              "      <td>11</td>\n",
              "      <td>3</td>\n",
              "      <td>8735.783203</td>\n",
              "      <td>32.0</td>\n",
              "      <td>8</td>\n",
              "      <td>50</td>\n",
              "      <td>0</td>\n",
              "    </tr>\n",
              "    <tr>\n",
              "      <th>9</th>\n",
              "      <td>free</td>\n",
              "      <td>701</td>\n",
              "      <td>1</td>\n",
              "      <td>1</td>\n",
              "      <td>2676.472900</td>\n",
              "      <td>18.0</td>\n",
              "      <td>8</td>\n",
              "      <td>50</td>\n",
              "      <td>0</td>\n",
              "    </tr>\n",
              "  </tbody>\n",
              "</table>\n",
              "</div>"
            ],
            "text/plain": [
              "  subscription_type  user_id  month  count  distance_sum  duration_sum  \\\n",
              "0              free      700      1      1   2515.690674          15.0   \n",
              "1              free      700      2      5  13446.660156          89.0   \n",
              "2              free      700      3      1   3798.334961          19.0   \n",
              "3              free      700      4      1   2984.551270          16.0   \n",
              "4              free      700      6      2   5927.651367          29.0   \n",
              "5              free      700      7      2   4399.206055          21.0   \n",
              "6              free      700      8      1   4071.654785          17.0   \n",
              "7              free      700     10      2   6322.578613          44.0   \n",
              "8              free      700     11      3   8735.783203          32.0   \n",
              "9              free      701      1      1   2676.472900          18.0   \n",
              "\n",
              "   minute_price_first  start_ride_price_first  subscription_fee_first  \n",
              "0                   8                      50                       0  \n",
              "1                   8                      50                       0  \n",
              "2                   8                      50                       0  \n",
              "3                   8                      50                       0  \n",
              "4                   8                      50                       0  \n",
              "5                   8                      50                       0  \n",
              "6                   8                      50                       0  \n",
              "7                   8                      50                       0  \n",
              "8                   8                      50                       0  \n",
              "9                   8                      50                       0  "
            ]
          },
          "execution_count": 27,
          "metadata": {},
          "output_type": "execute_result"
        }
      ],
      "source": [
        "df['duration'] = np.ceil(rides_df['duration'])\n",
        "revenue_df = df.pivot_table(index=['subscription_type', 'user_id', 'month'],\n",
        "                            values=['distance', 'duration', 'start_ride_price', 'minute_price', 'subscription_fee'],\n",
        "                            aggfunc={'distance' : ['sum', 'count'], 'duration' : 'sum', 'start_ride_price' : 'first', 'minute_price' : 'first', 'subscription_fee' : 'first'})\n",
        "revenue_df.reset_index(inplace= True )\n",
        "revenue_df.columns = [(tup[0]+'_'+ tup[1]) if tup[1] else tup[0] for tup in revenue_df.columns]\n",
        "revenue_df = revenue_df.rename(columns={'distance_count' : 'count'})\n",
        "revenue_df.head(10)"
      ]
    },
    {
      "cell_type": "code",
      "execution_count": null,
      "id": "f9647769",
      "metadata": {
        "id": "f9647769",
        "outputId": "802ff9f5-b7f7-43c9-eccf-5e266ecf8f04"
      },
      "outputs": [
        {
          "data": {
            "text/html": [
              "<div>\n",
              "<style scoped>\n",
              "    .dataframe tbody tr th:only-of-type {\n",
              "        vertical-align: middle;\n",
              "    }\n",
              "\n",
              "    .dataframe tbody tr th {\n",
              "        vertical-align: top;\n",
              "    }\n",
              "\n",
              "    .dataframe thead th {\n",
              "        text-align: right;\n",
              "    }\n",
              "</style>\n",
              "<table border=\"1\" class=\"dataframe\">\n",
              "  <thead>\n",
              "    <tr style=\"text-align: right;\">\n",
              "      <th></th>\n",
              "      <th>subscription_type</th>\n",
              "      <th>user_id</th>\n",
              "      <th>month</th>\n",
              "      <th>count</th>\n",
              "      <th>distance_sum</th>\n",
              "      <th>duration_sum</th>\n",
              "      <th>minute_price_first</th>\n",
              "      <th>start_ride_price_first</th>\n",
              "      <th>subscription_fee_first</th>\n",
              "      <th>rev_per_month</th>\n",
              "    </tr>\n",
              "  </thead>\n",
              "  <tbody>\n",
              "    <tr>\n",
              "      <th>0</th>\n",
              "      <td>free</td>\n",
              "      <td>700</td>\n",
              "      <td>1</td>\n",
              "      <td>1</td>\n",
              "      <td>2515.690674</td>\n",
              "      <td>15.0</td>\n",
              "      <td>8</td>\n",
              "      <td>50</td>\n",
              "      <td>0</td>\n",
              "      <td>170.0</td>\n",
              "    </tr>\n",
              "    <tr>\n",
              "      <th>1</th>\n",
              "      <td>free</td>\n",
              "      <td>700</td>\n",
              "      <td>2</td>\n",
              "      <td>5</td>\n",
              "      <td>13446.660156</td>\n",
              "      <td>89.0</td>\n",
              "      <td>8</td>\n",
              "      <td>50</td>\n",
              "      <td>0</td>\n",
              "      <td>962.0</td>\n",
              "    </tr>\n",
              "    <tr>\n",
              "      <th>2</th>\n",
              "      <td>free</td>\n",
              "      <td>700</td>\n",
              "      <td>3</td>\n",
              "      <td>1</td>\n",
              "      <td>3798.334961</td>\n",
              "      <td>19.0</td>\n",
              "      <td>8</td>\n",
              "      <td>50</td>\n",
              "      <td>0</td>\n",
              "      <td>202.0</td>\n",
              "    </tr>\n",
              "    <tr>\n",
              "      <th>3</th>\n",
              "      <td>free</td>\n",
              "      <td>700</td>\n",
              "      <td>4</td>\n",
              "      <td>1</td>\n",
              "      <td>2984.551270</td>\n",
              "      <td>16.0</td>\n",
              "      <td>8</td>\n",
              "      <td>50</td>\n",
              "      <td>0</td>\n",
              "      <td>178.0</td>\n",
              "    </tr>\n",
              "    <tr>\n",
              "      <th>4</th>\n",
              "      <td>free</td>\n",
              "      <td>700</td>\n",
              "      <td>6</td>\n",
              "      <td>2</td>\n",
              "      <td>5927.651367</td>\n",
              "      <td>29.0</td>\n",
              "      <td>8</td>\n",
              "      <td>50</td>\n",
              "      <td>0</td>\n",
              "      <td>332.0</td>\n",
              "    </tr>\n",
              "    <tr>\n",
              "      <th>5</th>\n",
              "      <td>free</td>\n",
              "      <td>700</td>\n",
              "      <td>7</td>\n",
              "      <td>2</td>\n",
              "      <td>4399.206055</td>\n",
              "      <td>21.0</td>\n",
              "      <td>8</td>\n",
              "      <td>50</td>\n",
              "      <td>0</td>\n",
              "      <td>268.0</td>\n",
              "    </tr>\n",
              "    <tr>\n",
              "      <th>6</th>\n",
              "      <td>free</td>\n",
              "      <td>700</td>\n",
              "      <td>8</td>\n",
              "      <td>1</td>\n",
              "      <td>4071.654785</td>\n",
              "      <td>17.0</td>\n",
              "      <td>8</td>\n",
              "      <td>50</td>\n",
              "      <td>0</td>\n",
              "      <td>186.0</td>\n",
              "    </tr>\n",
              "    <tr>\n",
              "      <th>7</th>\n",
              "      <td>free</td>\n",
              "      <td>700</td>\n",
              "      <td>10</td>\n",
              "      <td>2</td>\n",
              "      <td>6322.578613</td>\n",
              "      <td>44.0</td>\n",
              "      <td>8</td>\n",
              "      <td>50</td>\n",
              "      <td>0</td>\n",
              "      <td>452.0</td>\n",
              "    </tr>\n",
              "    <tr>\n",
              "      <th>8</th>\n",
              "      <td>free</td>\n",
              "      <td>700</td>\n",
              "      <td>11</td>\n",
              "      <td>3</td>\n",
              "      <td>8735.783203</td>\n",
              "      <td>32.0</td>\n",
              "      <td>8</td>\n",
              "      <td>50</td>\n",
              "      <td>0</td>\n",
              "      <td>406.0</td>\n",
              "    </tr>\n",
              "    <tr>\n",
              "      <th>9</th>\n",
              "      <td>free</td>\n",
              "      <td>701</td>\n",
              "      <td>1</td>\n",
              "      <td>1</td>\n",
              "      <td>2676.472900</td>\n",
              "      <td>18.0</td>\n",
              "      <td>8</td>\n",
              "      <td>50</td>\n",
              "      <td>0</td>\n",
              "      <td>194.0</td>\n",
              "    </tr>\n",
              "  </tbody>\n",
              "</table>\n",
              "</div>"
            ],
            "text/plain": [
              "  subscription_type  user_id  month  count  distance_sum  duration_sum  \\\n",
              "0              free      700      1      1   2515.690674          15.0   \n",
              "1              free      700      2      5  13446.660156          89.0   \n",
              "2              free      700      3      1   3798.334961          19.0   \n",
              "3              free      700      4      1   2984.551270          16.0   \n",
              "4              free      700      6      2   5927.651367          29.0   \n",
              "5              free      700      7      2   4399.206055          21.0   \n",
              "6              free      700      8      1   4071.654785          17.0   \n",
              "7              free      700     10      2   6322.578613          44.0   \n",
              "8              free      700     11      3   8735.783203          32.0   \n",
              "9              free      701      1      1   2676.472900          18.0   \n",
              "\n",
              "   minute_price_first  start_ride_price_first  subscription_fee_first  \\\n",
              "0                   8                      50                       0   \n",
              "1                   8                      50                       0   \n",
              "2                   8                      50                       0   \n",
              "3                   8                      50                       0   \n",
              "4                   8                      50                       0   \n",
              "5                   8                      50                       0   \n",
              "6                   8                      50                       0   \n",
              "7                   8                      50                       0   \n",
              "8                   8                      50                       0   \n",
              "9                   8                      50                       0   \n",
              "\n",
              "   rev_per_month  \n",
              "0          170.0  \n",
              "1          962.0  \n",
              "2          202.0  \n",
              "3          178.0  \n",
              "4          332.0  \n",
              "5          268.0  \n",
              "6          186.0  \n",
              "7          452.0  \n",
              "8          406.0  \n",
              "9          194.0  "
            ]
          },
          "execution_count": 28,
          "metadata": {},
          "output_type": "execute_result"
        }
      ],
      "source": [
        "def revenue_per_month(row):\n",
        "    if row['subscription_type'] == 'free':\n",
        "        return (row['start_ride_price_first'] * row['count'] +\n",
        "        row['minute_price_first'] * row['duration_sum'] + row['subscription_fee_first'])\n",
        "    else:\n",
        "        return (row['start_ride_price_first'] * row['count'] +\n",
        "        row['minute_price_first'] * row['duration_sum'] + row['subscription_fee_first'])\n",
        "\n",
        "revenue_df['rev_per_month'] = revenue_df.apply(revenue_per_month, axis=1)\n",
        "revenue_df.head(10)"
      ]
    },
    {
      "cell_type": "markdown",
      "id": "8d8c0027",
      "metadata": {
        "id": "8d8c0027"
      },
      "source": [
        "Добавили столбец с помесячной выручкой, которую принёс каждый пользователь."
      ]
    },
    {
      "cell_type": "markdown",
      "id": "b8f6d7b9",
      "metadata": {
        "id": "b8f6d7b9"
      },
      "source": [
        "#### Шаг 6. Проверка гипотез"
      ]
    },
    {
      "cell_type": "markdown",
      "id": "34498145",
      "metadata": {
        "id": "34498145"
      },
      "source": [
        "* Проверим гипотезу: тратят ли пользователи с подпиской больше времени на поездки?\n",
        "    \n",
        "    Для этого за нулевую гипотезу примем, что пользователи с подпиской и без тратят одинаковое время, за алтернативную гипотезу - пользователи с подпиской тратят больше времени на поездки.\n",
        "    `mean_t_ultra` =  среднее время на поезду, которые тратят пользователи с подпиской, `mean_t_free` = среднее время на поезду, которые тратят пользователи без подписки\n",
        "    \n",
        "    H<sub>0</sub>: `mean_t_ultra` = `mean_t_free`\n",
        "    \n",
        "    H<sub>1</sub>: `mean_t_ultra` > `mean_t_free`\n",
        "    \n",
        "    Уровень статистической значимости примем равный 5%.\n",
        "   "
      ]
    },
    {
      "cell_type": "code",
      "execution_count": null,
      "id": "0425369f",
      "metadata": {
        "id": "0425369f",
        "outputId": "bb3f5d89-e4d9-437a-f793-5f0f1471ebae"
      },
      "outputs": [
        {
          "name": "stdout",
          "output_type": "stream",
          "text": [
            "Среднее значение продолжительности поездки для пользователей без подписки: 17.39091\n",
            "Среднее значение продолжительности поездки для пользователей с подпиской: 18.541986\n"
          ]
        },
        {
          "data": {
            "text/plain": [
              "1.2801722407147585e-34"
            ]
          },
          "metadata": {},
          "output_type": "display_data"
        },
        {
          "data": {
            "text/plain": [
              "True"
            ]
          },
          "execution_count": 29,
          "metadata": {},
          "output_type": "execute_result"
        }
      ],
      "source": [
        "print('Среднее значение продолжительности поездки для пользователей без подписки:', free_df['duration'].mean())\n",
        "print('Среднее значение продолжительности поездки для пользователей с подпиской:', ultra_df['duration'].mean())\n",
        "alpha = 0.05\n",
        "results = st.ttest_ind(ultra_df['duration'], free_df['duration'], alternative='greater')\n",
        "\n",
        "display(results.pvalue)\n",
        "\n",
        "results.pvalue < alpha"
      ]
    },
    {
      "cell_type": "markdown",
      "id": "239c5382",
      "metadata": {
        "id": "239c5382"
      },
      "source": [
        "P-value меньше уровня статистической значимости, значит мы отвергаем нулевую гипотезу в пользу альтернативной. Пользователи с подпиской действительно тратят больше времени на поездки, чем пользователи без неё, это также видно и по среднему значению."
      ]
    },
    {
      "cell_type": "markdown",
      "id": "7f87197a",
      "metadata": {
        "id": "7f87197a"
      },
      "source": [
        "* Проверим гипотезу:  можно ли сказать, что расстояние, которое проезжают пользователи с подпиской за одну поездку, не превышает 3130 метров?\n",
        "\n",
        "    За нулевую гипотезу примем равенство расстояния, которое проезжают пользователи с подпиской за одну поездку, 3130 метрам. За альтернативную - данное значение больше 3130 метров.\n",
        "    \n",
        "    H<sub>0</sub>: `ultra_df['distance']` = 3130\n",
        "    \n",
        "    H<sub>1</sub>: `ultra_df['distance']` > 3130\n",
        "    \n",
        "    Уровень статистической значимости примем равный 5%."
      ]
    },
    {
      "cell_type": "code",
      "execution_count": null,
      "id": "5bf4b111",
      "metadata": {
        "id": "5bf4b111",
        "outputId": "642f9c58-e265-44c5-ae15-c9d2a08d58c6"
      },
      "outputs": [
        {
          "data": {
            "text/plain": [
              "0.9195344662352914"
            ]
          },
          "metadata": {},
          "output_type": "display_data"
        },
        {
          "data": {
            "text/plain": [
              "False"
            ]
          },
          "execution_count": 30,
          "metadata": {},
          "output_type": "execute_result"
        }
      ],
      "source": [
        "x = 3130\n",
        "alpha = 0.05\n",
        "results = st.ttest_1samp(ultra_df['distance'], x, alternative='greater')\n",
        "\n",
        "display(results.pvalue)\n",
        "\n",
        "results.pvalue < alpha"
      ]
    },
    {
      "cell_type": "markdown",
      "id": "0eee6fa8",
      "metadata": {
        "id": "0eee6fa8"
      },
      "source": [
        "Значение p-value больше уровня статистической значимости, значит мы не отвергаем нулевую гипотезу. Пользователи с подпиской проезжают в среднем за одну поездку не более 3130 метров."
      ]
    },
    {
      "cell_type": "markdown",
      "id": "4dbfeea1",
      "metadata": {
        "id": "4dbfeea1"
      },
      "source": [
        "* Проверим гипотезу о том, будет ли помесячная выручка от пользователей с подпиской по месяцам выше, чем выручка от пользователей без подписки.\n",
        "\n",
        "    За нулевую гипотезу примем, что помесячная выручка пользователей с подпиской по месяцам равна помесячной выручки пользователей без подписки, за алтернативную - пользователи с подпиской приносят больше выручки по месяцам, чем пользователи без нее.\n",
        "    \n",
        "    H<sub>0</sub>: `mean_rev_ultra` = `mean_rev_free`\n",
        "    \n",
        "    H<sub>1</sub>: `mean_rev_ultra` > `mean_rev_free`\n",
        "    \n",
        "    Уровень статистической значимости примем равный 5%.\n",
        "   "
      ]
    },
    {
      "cell_type": "code",
      "execution_count": null,
      "id": "cb81fe35",
      "metadata": {
        "id": "cb81fe35",
        "outputId": "33b214c6-a150-463a-caef-130c9334bec7"
      },
      "outputs": [
        {
          "name": "stdout",
          "output_type": "stream",
          "text": [
            "Среднее значение выручки для пользователей без подписки: 328.6413651073845\n",
            "Среднее значение выручки для пользователей с подпиской: 362.7921906022502\n"
          ]
        },
        {
          "data": {
            "text/plain": [
              "1.8850394384715216e-31"
            ]
          },
          "metadata": {},
          "output_type": "display_data"
        },
        {
          "data": {
            "text/plain": [
              "True"
            ]
          },
          "execution_count": 31,
          "metadata": {},
          "output_type": "execute_result"
        }
      ],
      "source": [
        "print('Среднее значение выручки для пользователей без подписки:',\n",
        "      revenue_df.query('subscription_type == \"free\"')['rev_per_month'].mean())\n",
        "print('Среднее значение выручки для пользователей с подпиской:',\n",
        "      revenue_df.query('subscription_type == \"ultra\"')['rev_per_month'].mean())\n",
        "alpha = 0.05\n",
        "results = st.ttest_ind(revenue_df.query('subscription_type == \"ultra\"')['rev_per_month'],\n",
        "                         revenue_df.query('subscription_type == \"free\"')['rev_per_month'],\n",
        "                         alternative='greater')\n",
        "display(results.pvalue)\n",
        "results.pvalue < alpha"
      ]
    },
    {
      "cell_type": "markdown",
      "id": "055fda69",
      "metadata": {
        "id": "055fda69"
      },
      "source": [
        "P-value меньше альфа, значит отвергаем нулевую гипотезу. Пользователи с подпиской в среднем по месяцам приносят больше выручки, чем пользователи без."
      ]
    },
    {
      "cell_type": "markdown",
      "id": "a1a83fae",
      "metadata": {
        "id": "a1a83fae"
      },
      "source": [
        "* Представьте такую ситуацию: техническая команда сервиса обновила сервера, с которыми взаимодействует мобильное приложение. Она надеется, что из-за этого количество обращений в техподдержку значимо снизилось. Некоторый файл содержит для каждого пользователя данные о количестве обращений до обновления и после него. Какой тест вам понадобился бы для проверки этой гипотезы?"
      ]
    },
    {
      "cell_type": "markdown",
      "id": "821d778d",
      "metadata": {
        "id": "821d778d"
      },
      "source": [
        "В денном примере представлена гипотеза о равенстве средних для зависимых (парных) выборок. Для нее понадобится тест Стьюдента, описанный в Python методом `scipy.stats.ttest_rel`. В данном случае нулевая гипотеза гласит, что количество обращений после обновления равно количеству обращений до, альтернативная - количество обращений после обновления уменьшилось. Нам необходимо провести проверку правосторонней альтернативной гипотезы о том, что истинное среднее генеральной совокупности до изменения больше, чем истинное среднее генеральной совокупности после изменения."
      ]
    },
    {
      "cell_type": "markdown",
      "id": "5ce4e217",
      "metadata": {
        "id": "5ce4e217"
      },
      "source": [
        "#### Шаг 7. Распределения"
      ]
    },
    {
      "cell_type": "markdown",
      "id": "598d429e",
      "metadata": {
        "id": "598d429e"
      },
      "source": [
        "* Подобрать параметры распределения, описывающего ситуацию из задания 7.1, построить график распределения и выяснить, какое минимальное количество промокодов нужно разослать, чтобы вероятность не выполнить план была примерно 5 %."
      ]
    },
    {
      "cell_type": "code",
      "execution_count": null,
      "id": "2560675d",
      "metadata": {
        "scrolled": false,
        "id": "2560675d",
        "outputId": "240c27ba-7bef-4142-f315-de29dceb46c0"
      },
      "outputs": [
        {
          "name": "stderr",
          "output_type": "stream",
          "text": [
            "/opt/conda/lib/python3.9/site-packages/scipy/stats/_discrete_distns.py:78: RuntimeWarning: divide by zero encountered in _binom_pdf\n",
            "  return _boost._binom_pdf(x, n, p)\n"
          ]
        },
        {
          "data": {
            "image/png": "[encoded data removed]",
            "text/plain": [
              "<Figure size 504x360 with 1 Axes>"
            ]
          },
          "metadata": {},
          "output_type": "display_data"
        }
      ],
      "source": [
        "n = 1168\n",
        "p = 0.1\n",
        "\n",
        "distr = []\n",
        "\n",
        "# построим биномиальное распределение\n",
        "for k in range(0, n + 1):\n",
        "    current_value = st.binom.pmf(k, n, p)\n",
        "    distr.append(current_value)\n",
        "\n",
        "plt.figure(figsize=(7, 5))\n",
        "plt.grid(True)\n",
        "plt.xlabel('Количество промокодов')\n",
        "plt.ylabel('Вероятность продления подписки')\n",
        "plt.axis([50, 200, 0, 0.04])\n",
        "plt.bar(range(0, n + 1), distr);"
      ]
    },
    {
      "cell_type": "code",
      "execution_count": null,
      "id": "8e739779",
      "metadata": {
        "id": "8e739779",
        "outputId": "124c236e-5d83-4ba6-eb78-63d1f1b9bb7f"
      },
      "outputs": [
        {
          "data": {
            "text/plain": [
              "0.050650790692463"
            ]
          },
          "execution_count": 33,
          "metadata": {},
          "output_type": "execute_result"
        }
      ],
      "source": [
        "# Зададим параметры нормального распределения\n",
        "mu = n * p\n",
        "sigma = sqrt(n * p * (1 - p))\n",
        "\n",
        "# теперь само нормальное распределение\n",
        "distr = st.norm(mu, sigma)\n",
        "\n",
        "# Посчитаем вероятность получить значение от 0 до 100.\n",
        "result = distr.cdf(100) - distr.cdf(0)\n",
        "result"
      ]
    },
    {
      "cell_type": "markdown",
      "id": "29bb3af0",
      "metadata": {
        "id": "29bb3af0"
      },
      "source": [
        "В результате подбора значения `n` получили, что для того, чтобы как минимум 100 клиентов продлили подписку с вероятностью не выполнить план около 5%, необходимо раздать 1168 промокодов. Т.к. значение `p` достаточно маленькое, необходимо было сильно увеличить `n` для заданного процента успеха."
      ]
    },
    {
      "cell_type": "markdown",
      "id": "026eb713",
      "metadata": {
        "id": "026eb713"
      },
      "source": [
        "* Постром примерный график распределения и оценим вероятность того, что уведомление откроют не более 399,5 тыс. пользователей для параметров, представленных в пункте 7.2 задания."
      ]
    },
    {
      "cell_type": "code",
      "execution_count": null,
      "id": "05fbe368",
      "metadata": {
        "scrolled": true,
        "id": "05fbe368",
        "outputId": "3662ca7e-d741-4acd-9d7b-fbe6b554fced"
      },
      "outputs": [
        {
          "data": {
            "image/png": "[encoded data removed]",
            "text/plain": [
              "<Figure size 720x360 with 1 Axes>"
            ]
          },
          "metadata": {},
          "output_type": "display_data"
        }
      ],
      "source": [
        "n = 1000000\n",
        "p = 0.4\n",
        "\n",
        "# определим границы, в которых будем строить аппроксимацию\n",
        "left = int(n * p - 4 * sqrt(n * p * (1 - p)))\n",
        "right = int(n * p + 4 * sqrt(n * p * (1 - p)))\n",
        "\n",
        "# зададим набор значений биномиальной величины на выбранном промежутке\n",
        "x = list(range(max(0, left), right))\n",
        "\n",
        "# построим график биномиального распределения\n",
        "plt.figure(figsize=(10, 5))\n",
        "ax = plt.subplot()\n",
        "plt.grid(True)\n",
        "plt.xlabel('Количество разосланных уведомлений')\n",
        "plt.ylabel('Вероятность открытия уведомления')\n",
        "ax.plot(x, st.binom.pmf(x, n, p), label='вероятности биномиального распределения')\n",
        "ax.legend(loc='best')\n",
        "plt.show()"
      ]
    },
    {
      "cell_type": "markdown",
      "id": "fc00277e",
      "metadata": {
        "id": "fc00277e"
      },
      "source": [
        "Считаем вероятность получить значение от 0 до 399,5 тыс."
      ]
    },
    {
      "cell_type": "code",
      "execution_count": null,
      "id": "50c6e4e7",
      "metadata": {
        "id": "50c6e4e7",
        "outputId": "c9647e70-7904-4c59-c126-6e047e2cfe2b"
      },
      "outputs": [
        {
          "data": {
            "text/plain": [
              "0.15371708296369768"
            ]
          },
          "execution_count": 36,
          "metadata": {},
          "output_type": "execute_result"
        }
      ],
      "source": [
        "# Зададим параметры нормального распределения\n",
        "mu = n * p\n",
        "sigma = sqrt(n * p * (1 - p))\n",
        "\n",
        "# теперь само нормальное распределение\n",
        "distr = st.norm(mu, sigma)\n",
        "\n",
        "# Посчитаем вероятность получить значение от 0 до 399,5 тыс.\n",
        "result = distr.cdf(399500) - distr.cdf(0)\n",
        "result"
      ]
    },
    {
      "cell_type": "markdown",
      "id": "619a7851",
      "metadata": {
        "id": "619a7851"
      },
      "source": [
        "Построили примерный аппроксимированный график распределения. выяснили, что вероятность того, что уведомление откроют не более\n",
        "399,5 тыс. пользователей равна ~15,37%."
      ]
    },
    {
      "cell_type": "markdown",
      "id": "f16df67e",
      "metadata": {
        "id": "f16df67e"
      },
      "source": [
        "#### Общий вывод"
      ]
    },
    {
      "cell_type": "markdown",
      "id": "be797a92",
      "metadata": {
        "id": "be797a92"
      },
      "source": [
        "**Вывод:** открыли и изучили таблицы с данными.\n",
        "\n",
        "Первый датафрейм, содержащий информацию о пользователях, состоит из 5 столбцов и 1565 строк, тип данных в которых: int64 (2 столбца) и object(3 столбца).\n",
        "\n",
        "Второй датафрейм, который содержит информацию о поездках, состоит из 4 столбцов и 18068 строк, тип данных в которых: int64 (1 столбец), float64 (2 столбца) и object(1 столбец).\n",
        "\n",
        "Третий датафрейм с информацией о подписках, состоит из 4 столбцов и всего 2-х строк, тип данных в которых: int64 (3 столбца) и object(1 столбец).\n",
        "\n",
        "Данные представлены с 01.01.2021 по 30.12.2021, промежуток составляет 363 дня, практически весь 2021-й год.\n",
        "\n",
        "Изменили тип данных в столбце `date`, создали новый столбец с номером месяца. Для экономии памяти заменили 64-х разрядные числовые переменные на 32-х разрядные. Обнаружили, что пропуски в представленных датафреймах отсутствуют. Таблица `users_df` имела 31 явный дубликат, избавились от них, после чего число строк в ней стало равняться 1534. Больше явных дубликатов обнаружено не было, во всех оставшихся колонках первых двух датафреймов повторение значений нормально для представленных данных, мы не можем называть это неявными дубликатами.\n",
        "\n",
        "Далее провели исследовательский анализ данных, в ходе которого орпеделили:\n",
        "\n",
        "1. Пользователи практически равнромерно распределены по городам. При этом наиболее часто встречается город Пятигорск, наименее часто - Москва.\n",
        "2. Количество пользователей без подписки от общего числа пользователей составляют 54,4% , с подпиской - 45,6%.\n",
        "3. Наибольшее число пользователей в возрасте 25 лет. Далее влево и вправо от данного числа следует убывание количества пользователей в зависимости от возраста, соответствующее нормальному распределению.\n",
        "4. Среднее расстояние, которое преодолел пользователь за одну поездку равно ~3071 м, а средняя продолжительность при этом равна ~ 18 минут. Средние значения обоих столбцов не сильно отличаются от медианных, из чего можно сделать вывод, что в данных нет больших выбросов в ту или иную сторону. Распределение обоих параметров близко к нормальному, с пиком в районе среднего значения и симметричным убыванием в обе стороны.\n",
        "\n",
        "Объединили данные о пользователях, поездках и подписках в один датафрейм. Создайли ещё два датафрейма c данными о пользователях без подписки и с данными о пользователях с подпиской. Определили, что распределение расстояния и времени поездок близко к нормальному, при этом количество пользователей без подписки в обоих случаях больше, чем пользователей с подпиской, при этом среднее значение расстояния и времени поездки у пользователей с подпиской несколько больше, чем у пользователей без неё.\n",
        "\n",
        "Создали датафрейм с агрегированными данными о поездках на основе датафрейма с объединёнными данными, включающий в себя суммарное расстояние, количество поездок и суммарное время для каждого пользователя за каждый месяц. После чего добавили в него столбец с помесячной выручкой, которую принёс каждый пользователь.\n",
        "\n",
        "Проверили гипотезы и пришли к следующим выводам:\n",
        " * Пользователи с подпиской тратят больше времени на поездки, чем пользователи без неё.\n",
        " * Пользователи с подпиской проезжают в среднем за одну поездку не более 3130 метров, что оптимально для уровня износа самоката.\n",
        " * Пользователи с подпиской в среднем по месяцам приносят больше выручки, чем пользователи без.\n",
        "\n",
        "Можно сделать вывод, о необходимости увеличения доли пользователей с подпиской, т.к. они приносят больше выручки, но при этом оптимально используют самокат с точки зрения износа. Для этого можно проводить акции и рассылки, как в заданиях пункта 7, где для успешного привлечения клиентов необходимо либо увеличивать количество потенциальных клиентов, либо увеличивать вероятность их подписки по результатам той или иной промоакции."
      ]
    }
  ],
  "metadata": {
    "ExecuteTimeLog": [
      {
        "duration": 402,
        "start_time": "2023-06-25T13:55:37.455Z"
      },
      {
        "duration": 66,
        "start_time": "2023-06-25T13:55:38.810Z"
      },
      {
        "duration": 104,
        "start_time": "2023-06-25T13:55:43.607Z"
      },
      {
        "duration": 92,
        "start_time": "2023-06-25T13:57:08.227Z"
      },
      {
        "duration": 75,
        "start_time": "2023-06-25T13:58:52.362Z"
      },
      {
        "duration": 107,
        "start_time": "2023-06-25T17:50:03.067Z"
      },
      {
        "duration": 473,
        "start_time": "2023-06-25T17:50:12.642Z"
      },
      {
        "duration": 149,
        "start_time": "2023-06-25T17:50:13.119Z"
      },
      {
        "duration": 533,
        "start_time": "2023-06-25T17:50:13.270Z"
      },
      {
        "duration": 98,
        "start_time": "2023-06-25T17:50:13.806Z"
      },
      {
        "duration": 2086,
        "start_time": "2023-06-25T17:50:17.659Z"
      },
      {
        "duration": 10,
        "start_time": "2023-06-25T17:51:45.588Z"
      },
      {
        "duration": 6,
        "start_time": "2023-06-25T17:57:14.292Z"
      },
      {
        "duration": 24,
        "start_time": "2023-06-25T17:57:20.549Z"
      },
      {
        "duration": 17,
        "start_time": "2023-06-25T17:57:41.988Z"
      },
      {
        "duration": 5,
        "start_time": "2023-06-25T18:04:01.242Z"
      },
      {
        "duration": 6,
        "start_time": "2023-06-25T18:04:14.755Z"
      },
      {
        "duration": 6,
        "start_time": "2023-06-25T18:05:23.814Z"
      },
      {
        "duration": 11,
        "start_time": "2023-06-25T18:06:40.611Z"
      },
      {
        "duration": 9,
        "start_time": "2023-06-25T18:07:52.849Z"
      },
      {
        "duration": 7,
        "start_time": "2023-06-25T18:44:44.518Z"
      },
      {
        "duration": 6,
        "start_time": "2023-06-25T18:45:14.547Z"
      },
      {
        "duration": 7,
        "start_time": "2023-06-25T18:45:48.632Z"
      },
      {
        "duration": 20,
        "start_time": "2023-06-25T18:47:00.728Z"
      },
      {
        "duration": 13,
        "start_time": "2023-06-25T18:49:31.325Z"
      },
      {
        "duration": 8,
        "start_time": "2023-06-25T18:49:36.347Z"
      },
      {
        "duration": 8,
        "start_time": "2023-06-25T18:49:40.491Z"
      },
      {
        "duration": 8,
        "start_time": "2023-06-25T18:49:42.885Z"
      },
      {
        "duration": 6,
        "start_time": "2023-06-25T18:49:52.242Z"
      },
      {
        "duration": 17,
        "start_time": "2023-06-25T18:51:53.635Z"
      },
      {
        "duration": 5,
        "start_time": "2023-06-25T18:52:06.236Z"
      },
      {
        "duration": 12,
        "start_time": "2023-06-25T18:52:32.811Z"
      },
      {
        "duration": 65,
        "start_time": "2023-06-26T16:30:42.654Z"
      },
      {
        "duration": 446,
        "start_time": "2023-06-26T16:30:46.749Z"
      },
      {
        "duration": 148,
        "start_time": "2023-06-26T16:30:47.198Z"
      },
      {
        "duration": 495,
        "start_time": "2023-06-26T16:30:47.348Z"
      },
      {
        "duration": 74,
        "start_time": "2023-06-26T16:30:47.845Z"
      },
      {
        "duration": 15,
        "start_time": "2023-06-26T16:30:47.922Z"
      },
      {
        "duration": 56,
        "start_time": "2023-06-26T16:30:47.939Z"
      },
      {
        "duration": 28,
        "start_time": "2023-06-26T16:30:47.997Z"
      },
      {
        "duration": 6,
        "start_time": "2023-06-26T16:30:48.034Z"
      },
      {
        "duration": 10,
        "start_time": "2023-06-26T16:30:48.043Z"
      },
      {
        "duration": 18,
        "start_time": "2023-06-26T16:30:48.055Z"
      },
      {
        "duration": 15,
        "start_time": "2023-06-26T16:30:48.075Z"
      },
      {
        "duration": 18,
        "start_time": "2023-06-26T16:30:48.093Z"
      },
      {
        "duration": 21,
        "start_time": "2023-06-26T16:30:48.115Z"
      },
      {
        "duration": 15,
        "start_time": "2023-06-26T16:30:48.138Z"
      },
      {
        "duration": 647,
        "start_time": "2023-06-26T16:30:48.162Z"
      },
      {
        "duration": 3,
        "start_time": "2023-06-26T16:33:08.604Z"
      },
      {
        "duration": 188,
        "start_time": "2023-06-26T16:36:41.549Z"
      },
      {
        "duration": 311,
        "start_time": "2023-06-26T16:37:19.906Z"
      },
      {
        "duration": 210,
        "start_time": "2023-06-26T16:37:25.239Z"
      },
      {
        "duration": 254,
        "start_time": "2023-06-26T16:37:34.013Z"
      },
      {
        "duration": 6,
        "start_time": "2023-06-26T16:38:27.730Z"
      },
      {
        "duration": 9,
        "start_time": "2023-06-26T16:43:50.684Z"
      },
      {
        "duration": 27,
        "start_time": "2023-06-26T16:44:03.599Z"
      },
      {
        "duration": 18,
        "start_time": "2023-06-26T16:44:27.404Z"
      },
      {
        "duration": 11,
        "start_time": "2023-06-26T16:44:58.970Z"
      },
      {
        "duration": 24,
        "start_time": "2023-06-26T16:45:21.703Z"
      },
      {
        "duration": 20,
        "start_time": "2023-06-26T16:46:19.399Z"
      },
      {
        "duration": 120,
        "start_time": "2023-06-26T16:49:17.203Z"
      },
      {
        "duration": 144,
        "start_time": "2023-06-26T16:49:49.625Z"
      },
      {
        "duration": 131,
        "start_time": "2023-06-26T16:50:23.206Z"
      },
      {
        "duration": 27,
        "start_time": "2023-06-26T16:51:41.350Z"
      },
      {
        "duration": 112,
        "start_time": "2023-06-26T16:51:46.366Z"
      },
      {
        "duration": 102,
        "start_time": "2023-06-26T16:53:35.691Z"
      },
      {
        "duration": 103,
        "start_time": "2023-06-26T16:56:30.526Z"
      },
      {
        "duration": 139,
        "start_time": "2023-06-26T16:57:05.550Z"
      },
      {
        "duration": 128,
        "start_time": "2023-06-26T16:57:40.432Z"
      },
      {
        "duration": 217,
        "start_time": "2023-06-26T16:58:38.398Z"
      },
      {
        "duration": 168,
        "start_time": "2023-06-26T16:58:58.870Z"
      },
      {
        "duration": 16,
        "start_time": "2023-06-26T18:02:07.650Z"
      },
      {
        "duration": 11,
        "start_time": "2023-06-26T18:02:15.872Z"
      },
      {
        "duration": 305,
        "start_time": "2023-06-26T18:02:22.240Z"
      },
      {
        "duration": 422,
        "start_time": "2023-06-26T18:02:46.067Z"
      },
      {
        "duration": 42,
        "start_time": "2023-06-26T18:03:42.921Z"
      },
      {
        "duration": 326,
        "start_time": "2023-06-26T18:04:01.212Z"
      },
      {
        "duration": 41,
        "start_time": "2023-06-26T18:13:16.202Z"
      },
      {
        "duration": 858,
        "start_time": "2023-06-28T16:52:36.217Z"
      },
      {
        "duration": 162,
        "start_time": "2023-06-28T16:52:37.077Z"
      },
      {
        "duration": 136,
        "start_time": "2023-06-28T16:52:37.241Z"
      },
      {
        "duration": 88,
        "start_time": "2023-06-28T16:52:37.378Z"
      },
      {
        "duration": 6,
        "start_time": "2023-06-28T16:52:37.468Z"
      },
      {
        "duration": 21,
        "start_time": "2023-06-28T16:52:37.475Z"
      },
      {
        "duration": 32,
        "start_time": "2023-06-28T16:52:37.497Z"
      },
      {
        "duration": 27,
        "start_time": "2023-06-28T16:52:37.531Z"
      },
      {
        "duration": 11,
        "start_time": "2023-06-28T16:52:37.560Z"
      },
      {
        "duration": 7,
        "start_time": "2023-06-28T16:52:37.573Z"
      },
      {
        "duration": 6,
        "start_time": "2023-06-28T16:52:37.582Z"
      },
      {
        "duration": 63,
        "start_time": "2023-06-28T16:52:37.590Z"
      },
      {
        "duration": 9,
        "start_time": "2023-06-28T16:52:37.655Z"
      },
      {
        "duration": 4,
        "start_time": "2023-06-28T16:52:37.666Z"
      },
      {
        "duration": 180,
        "start_time": "2023-06-28T16:52:37.671Z"
      },
      {
        "duration": 103,
        "start_time": "2023-06-28T16:52:37.852Z"
      },
      {
        "duration": 252,
        "start_time": "2023-06-28T16:52:37.960Z"
      },
      {
        "duration": 40,
        "start_time": "2023-06-28T16:52:38.216Z"
      },
      {
        "duration": 29,
        "start_time": "2023-06-28T16:55:19.643Z"
      },
      {
        "duration": 211,
        "start_time": "2023-06-28T16:55:25.902Z"
      },
      {
        "duration": 44,
        "start_time": "2023-06-28T16:55:29.529Z"
      },
      {
        "duration": 27,
        "start_time": "2023-06-28T16:56:36.170Z"
      },
      {
        "duration": 139,
        "start_time": "2023-06-28T16:57:53.514Z"
      },
      {
        "duration": 34,
        "start_time": "2023-06-28T17:02:14.468Z"
      },
      {
        "duration": 35,
        "start_time": "2023-06-28T17:02:48.266Z"
      },
      {
        "duration": 83,
        "start_time": "2023-06-28T17:03:13.466Z"
      },
      {
        "duration": 81,
        "start_time": "2023-06-28T17:03:21.366Z"
      },
      {
        "duration": 46,
        "start_time": "2023-06-28T17:04:06.630Z"
      },
      {
        "duration": 35,
        "start_time": "2023-06-28T17:04:38.730Z"
      },
      {
        "duration": 3,
        "start_time": "2023-06-28T17:13:38.683Z"
      },
      {
        "duration": 104,
        "start_time": "2023-06-28T17:13:38.687Z"
      },
      {
        "duration": 65,
        "start_time": "2023-06-28T17:13:38.792Z"
      },
      {
        "duration": 32,
        "start_time": "2023-06-28T17:13:38.860Z"
      },
      {
        "duration": 32,
        "start_time": "2023-06-28T17:13:38.893Z"
      },
      {
        "duration": 34,
        "start_time": "2023-06-28T17:13:38.926Z"
      },
      {
        "duration": 4,
        "start_time": "2023-06-28T17:13:38.962Z"
      },
      {
        "duration": 6,
        "start_time": "2023-06-28T17:13:38.968Z"
      },
      {
        "duration": 7,
        "start_time": "2023-06-28T17:13:38.975Z"
      },
      {
        "duration": 12,
        "start_time": "2023-06-28T17:13:38.985Z"
      },
      {
        "duration": 64,
        "start_time": "2023-06-28T17:13:38.999Z"
      },
      {
        "duration": 5,
        "start_time": "2023-06-28T17:13:39.065Z"
      },
      {
        "duration": 20,
        "start_time": "2023-06-28T17:13:39.072Z"
      },
      {
        "duration": 11,
        "start_time": "2023-06-28T17:13:39.094Z"
      },
      {
        "duration": 231,
        "start_time": "2023-06-28T17:13:39.113Z"
      },
      {
        "duration": 114,
        "start_time": "2023-06-28T17:13:39.347Z"
      },
      {
        "duration": 274,
        "start_time": "2023-06-28T17:13:39.463Z"
      },
      {
        "duration": 24,
        "start_time": "2023-06-28T17:13:39.746Z"
      },
      {
        "duration": 81,
        "start_time": "2023-06-28T17:13:39.772Z"
      },
      {
        "duration": 24,
        "start_time": "2023-06-28T17:13:39.859Z"
      },
      {
        "duration": 57,
        "start_time": "2023-06-28T17:13:39.884Z"
      },
      {
        "duration": 7,
        "start_time": "2023-06-28T17:13:39.947Z"
      },
      {
        "duration": 246,
        "start_time": "2023-06-28T17:15:13.893Z"
      },
      {
        "duration": 9,
        "start_time": "2023-06-28T17:15:53.026Z"
      },
      {
        "duration": 10,
        "start_time": "2023-06-28T17:16:06.453Z"
      },
      {
        "duration": 10,
        "start_time": "2023-06-28T17:16:11.949Z"
      },
      {
        "duration": 9,
        "start_time": "2023-06-28T17:16:19.751Z"
      },
      {
        "duration": 173,
        "start_time": "2023-06-28T17:16:27.214Z"
      },
      {
        "duration": 176,
        "start_time": "2023-06-28T17:16:31.851Z"
      },
      {
        "duration": 183,
        "start_time": "2023-06-28T17:16:36.153Z"
      },
      {
        "duration": 180,
        "start_time": "2023-06-28T17:16:43.051Z"
      },
      {
        "duration": 179,
        "start_time": "2023-06-28T17:16:50.255Z"
      },
      {
        "duration": 10,
        "start_time": "2023-06-28T17:17:19.245Z"
      },
      {
        "duration": 3953,
        "start_time": "2023-06-28T17:17:29.688Z"
      },
      {
        "duration": 29,
        "start_time": "2023-06-28T17:18:01.122Z"
      },
      {
        "duration": 387,
        "start_time": "2023-06-28T17:18:07.926Z"
      },
      {
        "duration": 15,
        "start_time": "2023-06-28T17:18:15.740Z"
      },
      {
        "duration": 186,
        "start_time": "2023-06-28T17:18:22.461Z"
      },
      {
        "duration": 235,
        "start_time": "2023-06-28T17:18:26.055Z"
      },
      {
        "duration": 236,
        "start_time": "2023-06-28T17:18:31.351Z"
      },
      {
        "duration": 167,
        "start_time": "2023-06-28T17:18:44.956Z"
      },
      {
        "duration": 229,
        "start_time": "2023-06-28T17:19:30.988Z"
      },
      {
        "duration": 185,
        "start_time": "2023-06-28T17:19:38.652Z"
      },
      {
        "duration": 168,
        "start_time": "2023-06-28T17:19:43.214Z"
      },
      {
        "duration": 124,
        "start_time": "2023-06-28T17:19:49.355Z"
      },
      {
        "duration": 198,
        "start_time": "2023-06-28T17:20:21.949Z"
      },
      {
        "duration": 227,
        "start_time": "2023-06-28T17:21:28.802Z"
      },
      {
        "duration": 163,
        "start_time": "2023-06-28T17:21:34.366Z"
      },
      {
        "duration": 168,
        "start_time": "2023-06-28T17:22:48.583Z"
      },
      {
        "duration": 200,
        "start_time": "2023-06-28T17:23:13.728Z"
      },
      {
        "duration": 202,
        "start_time": "2023-06-28T17:23:50.346Z"
      },
      {
        "duration": 6,
        "start_time": "2023-06-28T17:24:56.958Z"
      },
      {
        "duration": 154,
        "start_time": "2023-06-28T17:25:05.724Z"
      },
      {
        "duration": 120,
        "start_time": "2023-06-28T17:25:21.247Z"
      },
      {
        "duration": 178,
        "start_time": "2023-06-28T17:25:53.940Z"
      },
      {
        "duration": 156,
        "start_time": "2023-06-28T17:26:08.427Z"
      },
      {
        "duration": 198,
        "start_time": "2023-06-28T17:27:16.450Z"
      },
      {
        "duration": 190,
        "start_time": "2023-06-28T17:32:04.388Z"
      },
      {
        "duration": 168,
        "start_time": "2023-06-28T17:32:52.923Z"
      },
      {
        "duration": 187,
        "start_time": "2023-06-28T17:33:00.527Z"
      },
      {
        "duration": 168,
        "start_time": "2023-06-28T17:33:12.530Z"
      },
      {
        "duration": 189,
        "start_time": "2023-06-28T17:33:17.689Z"
      },
      {
        "duration": 170,
        "start_time": "2023-06-28T17:33:22.421Z"
      },
      {
        "duration": 3,
        "start_time": "2023-06-28T17:35:52.692Z"
      },
      {
        "duration": 91,
        "start_time": "2023-06-28T17:35:52.697Z"
      },
      {
        "duration": 64,
        "start_time": "2023-06-28T17:35:52.790Z"
      },
      {
        "duration": 25,
        "start_time": "2023-06-28T17:35:52.855Z"
      },
      {
        "duration": 6,
        "start_time": "2023-06-28T17:35:52.882Z"
      },
      {
        "duration": 40,
        "start_time": "2023-06-28T17:35:52.890Z"
      },
      {
        "duration": 10,
        "start_time": "2023-06-28T17:35:52.932Z"
      },
      {
        "duration": 15,
        "start_time": "2023-06-28T17:35:52.943Z"
      },
      {
        "duration": 13,
        "start_time": "2023-06-28T17:35:52.960Z"
      },
      {
        "duration": 18,
        "start_time": "2023-06-28T17:35:52.975Z"
      },
      {
        "duration": 62,
        "start_time": "2023-06-28T17:35:52.994Z"
      },
      {
        "duration": 5,
        "start_time": "2023-06-28T17:35:53.058Z"
      },
      {
        "duration": 14,
        "start_time": "2023-06-28T17:35:53.065Z"
      },
      {
        "duration": 64,
        "start_time": "2023-06-28T17:35:53.080Z"
      },
      {
        "duration": 149,
        "start_time": "2023-06-28T17:35:53.146Z"
      },
      {
        "duration": 136,
        "start_time": "2023-06-28T17:35:53.297Z"
      },
      {
        "duration": 239,
        "start_time": "2023-06-28T17:35:53.435Z"
      },
      {
        "duration": 24,
        "start_time": "2023-06-28T17:35:53.676Z"
      },
      {
        "duration": 42,
        "start_time": "2023-06-28T17:35:53.701Z"
      },
      {
        "duration": 26,
        "start_time": "2023-06-28T17:35:53.744Z"
      },
      {
        "duration": 253,
        "start_time": "2023-06-28T17:35:53.771Z"
      },
      {
        "duration": 196,
        "start_time": "2023-06-28T17:35:54.034Z"
      },
      {
        "duration": 163,
        "start_time": "2023-06-28T17:35:54.232Z"
      },
      {
        "duration": 201,
        "start_time": "2023-06-28T17:35:54.396Z"
      },
      {
        "duration": 39,
        "start_time": "2023-06-28T17:39:28.898Z"
      },
      {
        "duration": 20,
        "start_time": "2023-06-28T17:39:35.577Z"
      },
      {
        "duration": 37,
        "start_time": "2023-06-28T18:30:50.226Z"
      },
      {
        "duration": 24,
        "start_time": "2023-06-28T18:30:58.919Z"
      },
      {
        "duration": 26,
        "start_time": "2023-06-28T18:32:08.628Z"
      },
      {
        "duration": 47,
        "start_time": "2023-06-28T18:35:14.289Z"
      },
      {
        "duration": 34,
        "start_time": "2023-06-28T18:35:37.487Z"
      },
      {
        "duration": 735,
        "start_time": "2023-06-28T18:39:03.534Z"
      },
      {
        "duration": 44,
        "start_time": "2023-06-28T18:39:22.490Z"
      },
      {
        "duration": 155,
        "start_time": "2023-06-28T18:44:49.297Z"
      },
      {
        "duration": 290,
        "start_time": "2023-06-28T18:44:54.639Z"
      },
      {
        "duration": 96,
        "start_time": "2023-06-28T18:45:10.956Z"
      },
      {
        "duration": 84,
        "start_time": "2023-06-28T18:45:15.386Z"
      },
      {
        "duration": 217,
        "start_time": "2023-06-28T18:45:22.861Z"
      },
      {
        "duration": 35,
        "start_time": "2023-06-28T18:45:32.626Z"
      },
      {
        "duration": 25,
        "start_time": "2023-06-28T18:46:04.661Z"
      },
      {
        "duration": 22,
        "start_time": "2023-06-28T18:46:10.566Z"
      },
      {
        "duration": 37,
        "start_time": "2023-06-28T18:47:51.199Z"
      },
      {
        "duration": 24,
        "start_time": "2023-06-28T18:48:02.947Z"
      },
      {
        "duration": 36,
        "start_time": "2023-06-28T18:48:19.710Z"
      },
      {
        "duration": 50,
        "start_time": "2023-06-28T18:48:37.289Z"
      },
      {
        "duration": 19,
        "start_time": "2023-06-28T18:50:24.059Z"
      },
      {
        "duration": 37,
        "start_time": "2023-06-28T18:50:38.641Z"
      },
      {
        "duration": 27,
        "start_time": "2023-06-28T18:51:31.542Z"
      },
      {
        "duration": 51,
        "start_time": "2023-06-28T18:51:41.695Z"
      },
      {
        "duration": 82,
        "start_time": "2023-06-28T18:52:33.968Z"
      },
      {
        "duration": 32,
        "start_time": "2023-06-28T18:52:43.594Z"
      },
      {
        "duration": 26,
        "start_time": "2023-06-28T18:53:20.934Z"
      },
      {
        "duration": 761,
        "start_time": "2023-06-29T16:48:31.995Z"
      },
      {
        "duration": 134,
        "start_time": "2023-06-29T16:48:32.760Z"
      },
      {
        "duration": 166,
        "start_time": "2023-06-29T16:48:32.895Z"
      },
      {
        "duration": 68,
        "start_time": "2023-06-29T16:48:33.063Z"
      },
      {
        "duration": 7,
        "start_time": "2023-06-29T16:48:33.132Z"
      },
      {
        "duration": 16,
        "start_time": "2023-06-29T16:48:33.140Z"
      },
      {
        "duration": 3,
        "start_time": "2023-06-29T16:48:33.158Z"
      },
      {
        "duration": 6,
        "start_time": "2023-06-29T16:48:33.162Z"
      },
      {
        "duration": 5,
        "start_time": "2023-06-29T16:48:33.169Z"
      },
      {
        "duration": 5,
        "start_time": "2023-06-29T16:48:33.177Z"
      },
      {
        "duration": 6,
        "start_time": "2023-06-29T16:48:33.183Z"
      },
      {
        "duration": 5,
        "start_time": "2023-06-29T16:48:33.190Z"
      },
      {
        "duration": 9,
        "start_time": "2023-06-29T16:48:33.196Z"
      },
      {
        "duration": 4,
        "start_time": "2023-06-29T16:48:33.207Z"
      },
      {
        "duration": 186,
        "start_time": "2023-06-29T16:48:33.212Z"
      },
      {
        "duration": 118,
        "start_time": "2023-06-29T16:48:33.399Z"
      },
      {
        "duration": 259,
        "start_time": "2023-06-29T16:48:33.519Z"
      },
      {
        "duration": 21,
        "start_time": "2023-06-29T16:48:33.780Z"
      },
      {
        "duration": 37,
        "start_time": "2023-06-29T16:48:33.803Z"
      },
      {
        "duration": 82,
        "start_time": "2023-06-29T16:48:33.859Z"
      },
      {
        "duration": 47,
        "start_time": "2023-06-29T16:48:33.943Z"
      },
      {
        "duration": 217,
        "start_time": "2023-06-29T16:48:33.991Z"
      },
      {
        "duration": 213,
        "start_time": "2023-06-29T16:48:34.210Z"
      },
      {
        "duration": 25,
        "start_time": "2023-06-29T16:48:34.425Z"
      },
      {
        "duration": 7,
        "start_time": "2023-06-29T17:01:31.816Z"
      },
      {
        "duration": 8,
        "start_time": "2023-06-29T17:01:50.742Z"
      },
      {
        "duration": 86,
        "start_time": "2023-06-29T17:02:13.361Z"
      },
      {
        "duration": 4,
        "start_time": "2023-06-29T17:04:11.785Z"
      },
      {
        "duration": 5,
        "start_time": "2023-06-29T17:04:17.640Z"
      },
      {
        "duration": 33,
        "start_time": "2023-06-29T17:07:59.500Z"
      },
      {
        "duration": 77,
        "start_time": "2023-06-29T17:10:03.094Z"
      },
      {
        "duration": 1012,
        "start_time": "2023-06-29T17:10:13.960Z"
      },
      {
        "duration": 37,
        "start_time": "2023-06-29T17:10:54.633Z"
      },
      {
        "duration": 17,
        "start_time": "2023-06-29T17:10:58.113Z"
      },
      {
        "duration": 16,
        "start_time": "2023-06-29T17:11:05.087Z"
      },
      {
        "duration": 2,
        "start_time": "2023-06-29T17:11:09.104Z"
      },
      {
        "duration": 47,
        "start_time": "2023-06-29T17:11:09.108Z"
      },
      {
        "duration": 40,
        "start_time": "2023-06-29T17:11:09.156Z"
      },
      {
        "duration": 27,
        "start_time": "2023-06-29T17:11:09.198Z"
      },
      {
        "duration": 6,
        "start_time": "2023-06-29T17:11:09.228Z"
      },
      {
        "duration": 26,
        "start_time": "2023-06-29T17:11:09.235Z"
      },
      {
        "duration": 4,
        "start_time": "2023-06-29T17:11:09.263Z"
      },
      {
        "duration": 6,
        "start_time": "2023-06-29T17:11:09.268Z"
      },
      {
        "duration": 5,
        "start_time": "2023-06-29T17:11:09.276Z"
      },
      {
        "duration": 6,
        "start_time": "2023-06-29T17:11:09.283Z"
      },
      {
        "duration": 5,
        "start_time": "2023-06-29T17:11:09.290Z"
      },
      {
        "duration": 9,
        "start_time": "2023-06-29T17:11:09.296Z"
      },
      {
        "duration": 8,
        "start_time": "2023-06-29T17:11:09.307Z"
      },
      {
        "duration": 5,
        "start_time": "2023-06-29T17:11:09.358Z"
      },
      {
        "duration": 151,
        "start_time": "2023-06-29T17:11:09.364Z"
      },
      {
        "duration": 112,
        "start_time": "2023-06-29T17:11:09.517Z"
      },
      {
        "duration": 251,
        "start_time": "2023-06-29T17:11:09.630Z"
      },
      {
        "duration": 21,
        "start_time": "2023-06-29T17:11:09.883Z"
      },
      {
        "duration": 60,
        "start_time": "2023-06-29T17:11:09.906Z"
      },
      {
        "duration": 28,
        "start_time": "2023-06-29T17:11:09.968Z"
      },
      {
        "duration": 61,
        "start_time": "2023-06-29T17:11:09.998Z"
      },
      {
        "duration": 188,
        "start_time": "2023-06-29T17:11:10.061Z"
      },
      {
        "duration": 169,
        "start_time": "2023-06-29T17:11:10.251Z"
      },
      {
        "duration": 42,
        "start_time": "2023-06-29T17:11:10.421Z"
      },
      {
        "duration": 4,
        "start_time": "2023-06-29T17:11:10.464Z"
      },
      {
        "duration": 16,
        "start_time": "2023-06-29T17:11:10.470Z"
      },
      {
        "duration": 20,
        "start_time": "2023-06-29T17:11:35.931Z"
      },
      {
        "duration": 18,
        "start_time": "2023-06-29T17:11:39.299Z"
      },
      {
        "duration": 16,
        "start_time": "2023-06-29T17:12:08.646Z"
      },
      {
        "duration": 760,
        "start_time": "2023-06-30T15:15:38.226Z"
      },
      {
        "duration": 98,
        "start_time": "2023-06-30T15:15:38.989Z"
      },
      {
        "duration": 78,
        "start_time": "2023-06-30T15:15:39.088Z"
      },
      {
        "duration": 61,
        "start_time": "2023-06-30T15:15:39.169Z"
      },
      {
        "duration": 6,
        "start_time": "2023-06-30T15:15:39.232Z"
      },
      {
        "duration": 30,
        "start_time": "2023-06-30T15:15:39.240Z"
      },
      {
        "duration": 9,
        "start_time": "2023-06-30T15:15:39.271Z"
      },
      {
        "duration": 9,
        "start_time": "2023-06-30T15:15:39.281Z"
      },
      {
        "duration": 9,
        "start_time": "2023-06-30T15:15:39.292Z"
      },
      {
        "duration": 43,
        "start_time": "2023-06-30T15:15:39.303Z"
      },
      {
        "duration": 20,
        "start_time": "2023-06-30T15:15:39.347Z"
      },
      {
        "duration": 16,
        "start_time": "2023-06-30T15:15:39.369Z"
      },
      {
        "duration": 33,
        "start_time": "2023-06-30T15:15:39.386Z"
      },
      {
        "duration": 10,
        "start_time": "2023-06-30T15:15:39.420Z"
      },
      {
        "duration": 167,
        "start_time": "2023-06-30T15:15:39.431Z"
      },
      {
        "duration": 98,
        "start_time": "2023-06-30T15:15:39.600Z"
      },
      {
        "duration": 281,
        "start_time": "2023-06-30T15:15:39.699Z"
      },
      {
        "duration": 21,
        "start_time": "2023-06-30T15:15:39.982Z"
      },
      {
        "duration": 49,
        "start_time": "2023-06-30T15:15:40.005Z"
      },
      {
        "duration": 86,
        "start_time": "2023-06-30T15:15:40.056Z"
      },
      {
        "duration": 25,
        "start_time": "2023-06-30T15:15:40.144Z"
      },
      {
        "duration": 172,
        "start_time": "2023-06-30T15:15:40.171Z"
      },
      {
        "duration": 179,
        "start_time": "2023-06-30T15:15:40.344Z"
      },
      {
        "duration": 40,
        "start_time": "2023-06-30T15:15:40.525Z"
      },
      {
        "duration": 5,
        "start_time": "2023-06-30T15:15:40.566Z"
      },
      {
        "duration": 94,
        "start_time": "2023-06-30T15:15:40.572Z"
      },
      {
        "duration": 23,
        "start_time": "2023-06-30T15:17:00.159Z"
      },
      {
        "duration": 17,
        "start_time": "2023-06-30T15:17:23.932Z"
      },
      {
        "duration": 19,
        "start_time": "2023-06-30T15:21:19.001Z"
      },
      {
        "duration": 18,
        "start_time": "2023-06-30T15:21:48.137Z"
      },
      {
        "duration": 18,
        "start_time": "2023-06-30T15:23:31.545Z"
      },
      {
        "duration": 18,
        "start_time": "2023-06-30T15:24:34.254Z"
      },
      {
        "duration": 20,
        "start_time": "2023-06-30T15:24:42.151Z"
      },
      {
        "duration": 3,
        "start_time": "2023-06-30T15:38:50.870Z"
      },
      {
        "duration": 4,
        "start_time": "2023-06-30T16:18:57.072Z"
      },
      {
        "duration": 5,
        "start_time": "2023-06-30T16:19:01.180Z"
      },
      {
        "duration": 453,
        "start_time": "2023-06-30T16:20:56.385Z"
      },
      {
        "duration": 49,
        "start_time": "2023-06-30T16:20:56.840Z"
      },
      {
        "duration": 41,
        "start_time": "2023-06-30T16:20:56.891Z"
      },
      {
        "duration": 35,
        "start_time": "2023-06-30T16:20:56.934Z"
      },
      {
        "duration": 7,
        "start_time": "2023-06-30T16:20:56.972Z"
      },
      {
        "duration": 15,
        "start_time": "2023-06-30T16:20:56.981Z"
      },
      {
        "duration": 5,
        "start_time": "2023-06-30T16:20:56.998Z"
      },
      {
        "duration": 18,
        "start_time": "2023-06-30T16:20:57.005Z"
      },
      {
        "duration": 16,
        "start_time": "2023-06-30T16:20:57.024Z"
      },
      {
        "duration": 15,
        "start_time": "2023-06-30T16:20:57.042Z"
      },
      {
        "duration": 12,
        "start_time": "2023-06-30T16:20:57.058Z"
      },
      {
        "duration": 7,
        "start_time": "2023-06-30T16:20:57.072Z"
      },
      {
        "duration": 14,
        "start_time": "2023-06-30T16:20:57.081Z"
      },
      {
        "duration": 6,
        "start_time": "2023-06-30T16:20:57.100Z"
      },
      {
        "duration": 170,
        "start_time": "2023-06-30T16:20:57.109Z"
      },
      {
        "duration": 122,
        "start_time": "2023-06-30T16:20:57.282Z"
      },
      {
        "duration": 285,
        "start_time": "2023-06-30T16:20:57.406Z"
      },
      {
        "duration": 23,
        "start_time": "2023-06-30T16:20:57.693Z"
      },
      {
        "duration": 57,
        "start_time": "2023-06-30T16:20:57.717Z"
      },
      {
        "duration": 62,
        "start_time": "2023-06-30T16:20:57.776Z"
      },
      {
        "duration": 28,
        "start_time": "2023-06-30T16:20:57.845Z"
      },
      {
        "duration": 252,
        "start_time": "2023-06-30T16:20:57.874Z"
      },
      {
        "duration": 184,
        "start_time": "2023-06-30T16:20:58.131Z"
      },
      {
        "duration": 52,
        "start_time": "2023-06-30T16:20:58.317Z"
      },
      {
        "duration": 4,
        "start_time": "2023-06-30T16:20:58.371Z"
      },
      {
        "duration": 101,
        "start_time": "2023-06-30T16:20:58.377Z"
      },
      {
        "duration": 33,
        "start_time": "2023-06-30T16:23:44.132Z"
      },
      {
        "duration": 50,
        "start_time": "2023-06-30T16:24:22.143Z"
      },
      {
        "duration": 12,
        "start_time": "2023-06-30T16:24:31.963Z"
      },
      {
        "duration": 208,
        "start_time": "2023-06-30T16:24:44.975Z"
      },
      {
        "duration": 11,
        "start_time": "2023-06-30T16:24:48.739Z"
      },
      {
        "duration": 3,
        "start_time": "2023-06-30T17:14:13.816Z"
      },
      {
        "duration": 64,
        "start_time": "2023-06-30T17:14:13.820Z"
      },
      {
        "duration": 37,
        "start_time": "2023-06-30T17:14:13.885Z"
      },
      {
        "duration": 44,
        "start_time": "2023-06-30T17:14:13.924Z"
      },
      {
        "duration": 5,
        "start_time": "2023-06-30T17:14:13.970Z"
      },
      {
        "duration": 18,
        "start_time": "2023-06-30T17:14:13.977Z"
      },
      {
        "duration": 4,
        "start_time": "2023-06-30T17:14:13.996Z"
      },
      {
        "duration": 8,
        "start_time": "2023-06-30T17:14:14.001Z"
      },
      {
        "duration": 6,
        "start_time": "2023-06-30T17:14:14.010Z"
      },
      {
        "duration": 8,
        "start_time": "2023-06-30T17:14:14.017Z"
      },
      {
        "duration": 12,
        "start_time": "2023-06-30T17:14:14.026Z"
      },
      {
        "duration": 30,
        "start_time": "2023-06-30T17:14:14.040Z"
      },
      {
        "duration": 8,
        "start_time": "2023-06-30T17:14:14.071Z"
      },
      {
        "duration": 4,
        "start_time": "2023-06-30T17:14:14.081Z"
      },
      {
        "duration": 153,
        "start_time": "2023-06-30T17:14:14.086Z"
      },
      {
        "duration": 112,
        "start_time": "2023-06-30T17:14:14.241Z"
      },
      {
        "duration": 259,
        "start_time": "2023-06-30T17:14:14.355Z"
      },
      {
        "duration": 40,
        "start_time": "2023-06-30T17:14:14.616Z"
      },
      {
        "duration": 55,
        "start_time": "2023-06-30T17:14:14.658Z"
      },
      {
        "duration": 39,
        "start_time": "2023-06-30T17:14:14.715Z"
      },
      {
        "duration": 43,
        "start_time": "2023-06-30T17:14:14.760Z"
      },
      {
        "duration": 189,
        "start_time": "2023-06-30T17:14:14.804Z"
      },
      {
        "duration": 189,
        "start_time": "2023-06-30T17:14:14.994Z"
      },
      {
        "duration": 48,
        "start_time": "2023-06-30T17:14:15.184Z"
      },
      {
        "duration": 6,
        "start_time": "2023-06-30T17:14:15.246Z"
      },
      {
        "duration": 17,
        "start_time": "2023-06-30T17:14:15.254Z"
      },
      {
        "duration": 9,
        "start_time": "2023-06-30T17:14:15.272Z"
      },
      {
        "duration": 100,
        "start_time": "2023-06-30T17:19:13.748Z"
      },
      {
        "duration": 97,
        "start_time": "2023-06-30T17:19:23.861Z"
      },
      {
        "duration": 141,
        "start_time": "2023-06-30T17:19:47.944Z"
      },
      {
        "duration": 204,
        "start_time": "2023-06-30T17:21:31.596Z"
      },
      {
        "duration": 161,
        "start_time": "2023-06-30T17:21:57.556Z"
      },
      {
        "duration": 169,
        "start_time": "2023-06-30T17:22:16.785Z"
      },
      {
        "duration": 173,
        "start_time": "2023-06-30T17:22:22.732Z"
      },
      {
        "duration": 152,
        "start_time": "2023-06-30T17:22:26.357Z"
      },
      {
        "duration": 160,
        "start_time": "2023-06-30T17:22:55.609Z"
      },
      {
        "duration": 160,
        "start_time": "2023-06-30T17:23:06.307Z"
      },
      {
        "duration": 146,
        "start_time": "2023-06-30T17:23:16.103Z"
      },
      {
        "duration": 158,
        "start_time": "2023-06-30T17:23:20.837Z"
      },
      {
        "duration": 158,
        "start_time": "2023-06-30T17:23:25.691Z"
      },
      {
        "duration": 173,
        "start_time": "2023-06-30T17:23:35.522Z"
      },
      {
        "duration": 186,
        "start_time": "2023-06-30T17:23:43.866Z"
      },
      {
        "duration": 154,
        "start_time": "2023-06-30T17:23:54.017Z"
      },
      {
        "duration": 236,
        "start_time": "2023-06-30T17:24:13.919Z"
      },
      {
        "duration": 178,
        "start_time": "2023-06-30T17:24:20.833Z"
      },
      {
        "duration": 186,
        "start_time": "2023-06-30T17:24:35.538Z"
      },
      {
        "duration": 177,
        "start_time": "2023-06-30T17:24:55.752Z"
      },
      {
        "duration": 173,
        "start_time": "2023-06-30T17:26:25.621Z"
      },
      {
        "duration": 198,
        "start_time": "2023-06-30T17:32:52.400Z"
      },
      {
        "duration": 6,
        "start_time": "2023-06-30T17:45:39.893Z"
      },
      {
        "duration": 68,
        "start_time": "2023-06-30T17:56:28.657Z"
      },
      {
        "duration": 228,
        "start_time": "2023-06-30T17:56:34.110Z"
      },
      {
        "duration": 303,
        "start_time": "2023-06-30T17:57:00.470Z"
      },
      {
        "duration": 252,
        "start_time": "2023-06-30T17:57:34.668Z"
      },
      {
        "duration": 216,
        "start_time": "2023-06-30T17:57:42.862Z"
      },
      {
        "duration": 1440,
        "start_time": "2023-06-30T17:57:48.653Z"
      },
      {
        "duration": 1436,
        "start_time": "2023-06-30T17:58:08.588Z"
      },
      {
        "duration": 1746,
        "start_time": "2023-06-30T17:58:16.755Z"
      },
      {
        "duration": 1550,
        "start_time": "2023-06-30T17:58:29.900Z"
      },
      {
        "duration": 1486,
        "start_time": "2023-06-30T17:58:41.790Z"
      },
      {
        "duration": 1504,
        "start_time": "2023-06-30T17:59:02.955Z"
      },
      {
        "duration": 843,
        "start_time": "2023-06-30T17:59:11.416Z"
      },
      {
        "duration": 223,
        "start_time": "2023-06-30T17:59:16.748Z"
      },
      {
        "duration": 235,
        "start_time": "2023-06-30T17:59:26.731Z"
      },
      {
        "duration": 348,
        "start_time": "2023-06-30T17:59:29.985Z"
      },
      {
        "duration": 23,
        "start_time": "2023-06-30T18:00:43.678Z"
      },
      {
        "duration": 361,
        "start_time": "2023-06-30T18:00:54.570Z"
      },
      {
        "duration": 226,
        "start_time": "2023-06-30T18:01:05.907Z"
      },
      {
        "duration": 244,
        "start_time": "2023-06-30T18:01:28.731Z"
      },
      {
        "duration": 375,
        "start_time": "2023-06-30T18:04:32.576Z"
      },
      {
        "duration": 348,
        "start_time": "2023-06-30T18:04:37.938Z"
      },
      {
        "duration": 1478,
        "start_time": "2023-06-30T18:04:40.981Z"
      },
      {
        "duration": 1635,
        "start_time": "2023-06-30T18:05:43.844Z"
      },
      {
        "duration": 1562,
        "start_time": "2023-06-30T18:05:52.779Z"
      },
      {
        "duration": 1496,
        "start_time": "2023-06-30T18:06:27.966Z"
      },
      {
        "duration": 1641,
        "start_time": "2023-06-30T18:06:34.163Z"
      },
      {
        "duration": 6,
        "start_time": "2023-06-30T18:10:39.872Z"
      },
      {
        "duration": 14705,
        "start_time": "2023-06-30T18:11:00.884Z"
      },
      {
        "duration": 9,
        "start_time": "2023-06-30T18:11:23.163Z"
      },
      {
        "duration": 5210,
        "start_time": "2023-06-30T18:11:33.432Z"
      },
      {
        "duration": 6,
        "start_time": "2023-06-30T18:11:42.332Z"
      },
      {
        "duration": 3124,
        "start_time": "2023-06-30T18:11:47.775Z"
      },
      {
        "duration": 6,
        "start_time": "2023-06-30T18:11:52.878Z"
      },
      {
        "duration": 1489,
        "start_time": "2023-06-30T18:11:58.575Z"
      },
      {
        "duration": 1447,
        "start_time": "2023-06-30T18:12:03.965Z"
      },
      {
        "duration": 7,
        "start_time": "2023-06-30T18:12:08.490Z"
      },
      {
        "duration": 1640,
        "start_time": "2023-06-30T18:12:11.235Z"
      },
      {
        "duration": 7,
        "start_time": "2023-06-30T18:12:14.734Z"
      },
      {
        "duration": 7,
        "start_time": "2023-06-30T18:12:20.224Z"
      },
      {
        "duration": 1590,
        "start_time": "2023-06-30T18:12:22.235Z"
      },
      {
        "duration": 6,
        "start_time": "2023-06-30T18:12:26.416Z"
      },
      {
        "duration": 1578,
        "start_time": "2023-06-30T18:12:40.392Z"
      },
      {
        "duration": 6,
        "start_time": "2023-06-30T18:12:44.138Z"
      },
      {
        "duration": 1857,
        "start_time": "2023-06-30T18:12:48.464Z"
      },
      {
        "duration": 6,
        "start_time": "2023-06-30T18:12:51.532Z"
      },
      {
        "duration": 1769,
        "start_time": "2023-06-30T18:12:56.252Z"
      },
      {
        "duration": 7,
        "start_time": "2023-06-30T18:12:59.842Z"
      },
      {
        "duration": 1751,
        "start_time": "2023-06-30T18:13:03.493Z"
      },
      {
        "duration": 8,
        "start_time": "2023-06-30T18:13:06.931Z"
      },
      {
        "duration": 1558,
        "start_time": "2023-06-30T19:01:39.717Z"
      },
      {
        "duration": 7,
        "start_time": "2023-06-30T19:01:44.700Z"
      },
      {
        "duration": 6,
        "start_time": "2023-06-30T19:03:28.868Z"
      },
      {
        "duration": 1575,
        "start_time": "2023-06-30T19:07:09.946Z"
      },
      {
        "duration": 1598,
        "start_time": "2023-06-30T19:07:21.542Z"
      },
      {
        "duration": 1594,
        "start_time": "2023-06-30T19:07:34.985Z"
      },
      {
        "duration": 6,
        "start_time": "2023-06-30T19:07:40.418Z"
      },
      {
        "duration": 3,
        "start_time": "2023-06-30T19:34:34.387Z"
      },
      {
        "duration": 54,
        "start_time": "2023-06-30T19:34:34.392Z"
      },
      {
        "duration": 37,
        "start_time": "2023-06-30T19:34:34.448Z"
      },
      {
        "duration": 24,
        "start_time": "2023-06-30T19:34:34.486Z"
      },
      {
        "duration": 6,
        "start_time": "2023-06-30T19:34:34.512Z"
      },
      {
        "duration": 11,
        "start_time": "2023-06-30T19:34:34.531Z"
      },
      {
        "duration": 5,
        "start_time": "2023-06-30T19:34:34.543Z"
      },
      {
        "duration": 8,
        "start_time": "2023-06-30T19:34:34.549Z"
      },
      {
        "duration": 17,
        "start_time": "2023-06-30T19:34:34.559Z"
      },
      {
        "duration": 11,
        "start_time": "2023-06-30T19:34:34.578Z"
      },
      {
        "duration": 12,
        "start_time": "2023-06-30T19:34:34.591Z"
      },
      {
        "duration": 13,
        "start_time": "2023-06-30T19:34:34.604Z"
      },
      {
        "duration": 19,
        "start_time": "2023-06-30T19:34:34.620Z"
      },
      {
        "duration": 13,
        "start_time": "2023-06-30T19:34:34.641Z"
      },
      {
        "duration": 152,
        "start_time": "2023-06-30T19:34:34.656Z"
      },
      {
        "duration": 102,
        "start_time": "2023-06-30T19:34:34.810Z"
      },
      {
        "duration": 262,
        "start_time": "2023-06-30T19:34:34.914Z"
      },
      {
        "duration": 20,
        "start_time": "2023-06-30T19:34:35.178Z"
      },
      {
        "duration": 53,
        "start_time": "2023-06-30T19:34:35.200Z"
      },
      {
        "duration": 24,
        "start_time": "2023-06-30T19:34:35.254Z"
      },
      {
        "duration": 26,
        "start_time": "2023-06-30T19:34:35.279Z"
      },
      {
        "duration": 177,
        "start_time": "2023-06-30T19:34:35.306Z"
      },
      {
        "duration": 167,
        "start_time": "2023-06-30T19:34:35.485Z"
      },
      {
        "duration": 39,
        "start_time": "2023-06-30T19:34:35.654Z"
      },
      {
        "duration": 2,
        "start_time": "2023-06-30T19:34:35.695Z"
      },
      {
        "duration": 21,
        "start_time": "2023-06-30T19:34:35.698Z"
      },
      {
        "duration": 1593,
        "start_time": "2023-06-30T19:34:35.720Z"
      },
      {
        "duration": 6,
        "start_time": "2023-06-30T19:34:37.314Z"
      },
      {
        "duration": 179,
        "start_time": "2023-06-30T19:34:37.332Z"
      },
      {
        "duration": 6,
        "start_time": "2023-06-30T19:34:37.513Z"
      },
      {
        "duration": 1844,
        "start_time": "2023-06-30T19:34:46.725Z"
      },
      {
        "duration": 21,
        "start_time": "2023-06-30T19:35:41.996Z"
      },
      {
        "duration": 19,
        "start_time": "2023-06-30T19:36:38.548Z"
      },
      {
        "duration": 19,
        "start_time": "2023-06-30T19:36:40.889Z"
      },
      {
        "duration": 21,
        "start_time": "2023-06-30T19:36:45.874Z"
      },
      {
        "duration": 312,
        "start_time": "2023-06-30T19:38:42.227Z"
      },
      {
        "duration": 319,
        "start_time": "2023-06-30T19:38:49.482Z"
      },
      {
        "duration": 19,
        "start_time": "2023-06-30T19:38:56.983Z"
      },
      {
        "duration": 19,
        "start_time": "2023-06-30T19:43:09.304Z"
      },
      {
        "duration": 21,
        "start_time": "2023-06-30T19:43:19.011Z"
      },
      {
        "duration": 19,
        "start_time": "2023-06-30T19:43:32.986Z"
      },
      {
        "duration": 19,
        "start_time": "2023-06-30T19:43:55.699Z"
      },
      {
        "duration": 19,
        "start_time": "2023-06-30T19:46:56.166Z"
      },
      {
        "duration": 22,
        "start_time": "2023-06-30T19:46:58.561Z"
      },
      {
        "duration": 20,
        "start_time": "2023-06-30T19:47:05.602Z"
      },
      {
        "duration": 20,
        "start_time": "2023-06-30T19:48:56.933Z"
      },
      {
        "duration": 20,
        "start_time": "2023-06-30T19:48:59.260Z"
      },
      {
        "duration": 4,
        "start_time": "2023-06-30T19:49:52.536Z"
      },
      {
        "duration": 22,
        "start_time": "2023-06-30T19:50:13.798Z"
      },
      {
        "duration": 20,
        "start_time": "2023-06-30T19:50:42.519Z"
      },
      {
        "duration": 21,
        "start_time": "2023-06-30T19:51:55.504Z"
      },
      {
        "duration": 21,
        "start_time": "2023-06-30T19:52:00.583Z"
      },
      {
        "duration": 16050,
        "start_time": "2023-06-30T19:52:54.402Z"
      },
      {
        "duration": 5699,
        "start_time": "2023-06-30T19:53:14.667Z"
      },
      {
        "duration": 5492,
        "start_time": "2023-06-30T19:53:34.683Z"
      },
      {
        "duration": 5409,
        "start_time": "2023-06-30T19:56:29.104Z"
      },
      {
        "duration": 5373,
        "start_time": "2023-06-30T20:00:34.172Z"
      },
      {
        "duration": 1315,
        "start_time": "2023-07-01T09:34:19.449Z"
      },
      {
        "duration": 136,
        "start_time": "2023-07-01T09:34:20.769Z"
      },
      {
        "duration": 179,
        "start_time": "2023-07-01T09:34:20.906Z"
      },
      {
        "duration": 72,
        "start_time": "2023-07-01T09:34:21.091Z"
      },
      {
        "duration": 10,
        "start_time": "2023-07-01T09:34:21.165Z"
      },
      {
        "duration": 22,
        "start_time": "2023-07-01T09:34:21.176Z"
      },
      {
        "duration": 5,
        "start_time": "2023-07-01T09:34:21.200Z"
      },
      {
        "duration": 10,
        "start_time": "2023-07-01T09:34:21.207Z"
      },
      {
        "duration": 17,
        "start_time": "2023-07-01T09:34:21.219Z"
      },
      {
        "duration": 6,
        "start_time": "2023-07-01T09:34:21.239Z"
      },
      {
        "duration": 12,
        "start_time": "2023-07-01T09:34:21.246Z"
      },
      {
        "duration": 7,
        "start_time": "2023-07-01T09:34:21.268Z"
      },
      {
        "duration": 18,
        "start_time": "2023-07-01T09:34:21.277Z"
      },
      {
        "duration": 6,
        "start_time": "2023-07-01T09:34:21.297Z"
      },
      {
        "duration": 235,
        "start_time": "2023-07-01T09:34:21.304Z"
      },
      {
        "duration": 103,
        "start_time": "2023-07-01T09:34:21.541Z"
      },
      {
        "duration": 272,
        "start_time": "2023-07-01T09:34:21.646Z"
      },
      {
        "duration": 27,
        "start_time": "2023-07-01T09:34:21.919Z"
      },
      {
        "duration": 64,
        "start_time": "2023-07-01T09:34:21.948Z"
      },
      {
        "duration": 36,
        "start_time": "2023-07-01T09:34:22.014Z"
      },
      {
        "duration": 39,
        "start_time": "2023-07-01T09:34:22.073Z"
      },
      {
        "duration": 208,
        "start_time": "2023-07-01T09:34:22.114Z"
      },
      {
        "duration": 234,
        "start_time": "2023-07-01T09:34:22.324Z"
      },
      {
        "duration": 45,
        "start_time": "2023-07-01T09:34:22.561Z"
      },
      {
        "duration": 5472,
        "start_time": "2023-07-01T09:34:22.608Z"
      },
      {
        "duration": 9,
        "start_time": "2023-07-01T09:34:28.087Z"
      },
      {
        "duration": 1731,
        "start_time": "2023-07-01T09:34:28.098Z"
      },
      {
        "duration": 7,
        "start_time": "2023-07-01T09:34:29.833Z"
      },
      {
        "duration": 384,
        "start_time": "2023-07-01T09:34:29.842Z"
      },
      {
        "duration": 10,
        "start_time": "2023-07-01T09:34:30.229Z"
      },
      {
        "duration": 1906,
        "start_time": "2023-07-01T09:35:27.646Z"
      },
      {
        "duration": 2083,
        "start_time": "2023-07-01T09:35:32.338Z"
      },
      {
        "duration": 5746,
        "start_time": "2023-07-01T09:43:44.273Z"
      },
      {
        "duration": 155,
        "start_time": "2023-07-01T09:44:29.038Z"
      },
      {
        "duration": 31,
        "start_time": "2023-07-01T09:44:45.563Z"
      },
      {
        "duration": 26,
        "start_time": "2023-07-01T09:44:47.670Z"
      },
      {
        "duration": 4,
        "start_time": "2023-07-01T09:44:55.908Z"
      },
      {
        "duration": 47,
        "start_time": "2023-07-01T09:44:55.914Z"
      },
      {
        "duration": 60,
        "start_time": "2023-07-01T09:44:55.962Z"
      },
      {
        "duration": 29,
        "start_time": "2023-07-01T09:44:56.024Z"
      },
      {
        "duration": 8,
        "start_time": "2023-07-01T09:44:56.055Z"
      },
      {
        "duration": 14,
        "start_time": "2023-07-01T09:44:56.065Z"
      },
      {
        "duration": 4,
        "start_time": "2023-07-01T09:44:56.081Z"
      },
      {
        "duration": 9,
        "start_time": "2023-07-01T09:44:56.086Z"
      },
      {
        "duration": 5,
        "start_time": "2023-07-01T09:44:56.097Z"
      },
      {
        "duration": 6,
        "start_time": "2023-07-01T09:44:56.105Z"
      },
      {
        "duration": 7,
        "start_time": "2023-07-01T09:44:56.112Z"
      },
      {
        "duration": 5,
        "start_time": "2023-07-01T09:44:56.121Z"
      },
      {
        "duration": 43,
        "start_time": "2023-07-01T09:44:56.128Z"
      },
      {
        "duration": 11,
        "start_time": "2023-07-01T09:44:56.174Z"
      },
      {
        "duration": 140,
        "start_time": "2023-07-01T09:44:56.191Z"
      },
      {
        "duration": 118,
        "start_time": "2023-07-01T09:44:56.333Z"
      },
      {
        "duration": 276,
        "start_time": "2023-07-01T09:44:56.453Z"
      },
      {
        "duration": 20,
        "start_time": "2023-07-01T09:44:56.731Z"
      },
      {
        "duration": 59,
        "start_time": "2023-07-01T09:44:56.752Z"
      },
      {
        "duration": 31,
        "start_time": "2023-07-01T09:44:56.812Z"
      },
      {
        "duration": 62,
        "start_time": "2023-07-01T09:44:56.845Z"
      },
      {
        "duration": 194,
        "start_time": "2023-07-01T09:44:56.909Z"
      },
      {
        "duration": 195,
        "start_time": "2023-07-01T09:44:57.105Z"
      },
      {
        "duration": 39,
        "start_time": "2023-07-01T09:44:57.302Z"
      },
      {
        "duration": 5623,
        "start_time": "2023-07-01T09:44:57.343Z"
      },
      {
        "duration": 21,
        "start_time": "2023-07-01T09:45:02.967Z"
      },
      {
        "duration": 1864,
        "start_time": "2023-07-01T09:45:02.989Z"
      },
      {
        "duration": 18,
        "start_time": "2023-07-01T09:45:04.856Z"
      },
      {
        "duration": 252,
        "start_time": "2023-07-01T09:45:04.881Z"
      },
      {
        "duration": 7,
        "start_time": "2023-07-01T09:45:05.135Z"
      },
      {
        "duration": 39,
        "start_time": "2023-07-01T09:45:19.989Z"
      },
      {
        "duration": 76,
        "start_time": "2023-07-01T09:48:13.503Z"
      },
      {
        "duration": 72,
        "start_time": "2023-07-01T09:48:56.210Z"
      },
      {
        "duration": 657,
        "start_time": "2023-07-01T09:48:57.936Z"
      },
      {
        "duration": 645,
        "start_time": "2023-07-01T09:49:07.531Z"
      },
      {
        "duration": 4,
        "start_time": "2023-07-01T09:57:17.216Z"
      },
      {
        "duration": 14,
        "start_time": "2023-07-01T09:59:59.926Z"
      },
      {
        "duration": 7,
        "start_time": "2023-07-01T10:00:20.104Z"
      },
      {
        "duration": 10,
        "start_time": "2023-07-01T10:02:08.217Z"
      },
      {
        "duration": 13,
        "start_time": "2023-07-01T10:47:51.804Z"
      },
      {
        "duration": 21,
        "start_time": "2023-07-01T10:48:03.906Z"
      },
      {
        "duration": 15,
        "start_time": "2023-07-01T10:48:31.123Z"
      },
      {
        "duration": 7,
        "start_time": "2023-07-01T10:49:22.393Z"
      },
      {
        "duration": 5,
        "start_time": "2023-07-01T10:49:32.711Z"
      },
      {
        "duration": 8,
        "start_time": "2023-07-01T10:49:40.145Z"
      },
      {
        "duration": 22,
        "start_time": "2023-07-01T10:51:41.104Z"
      },
      {
        "duration": 1778,
        "start_time": "2023-07-01T10:53:34.950Z"
      },
      {
        "duration": 1885,
        "start_time": "2023-07-01T10:53:54.531Z"
      },
      {
        "duration": 3,
        "start_time": "2023-07-01T10:54:00.636Z"
      },
      {
        "duration": 85,
        "start_time": "2023-07-01T10:54:00.641Z"
      },
      {
        "duration": 38,
        "start_time": "2023-07-01T10:54:00.728Z"
      },
      {
        "duration": 43,
        "start_time": "2023-07-01T10:54:00.770Z"
      },
      {
        "duration": 6,
        "start_time": "2023-07-01T10:54:00.815Z"
      },
      {
        "duration": 41,
        "start_time": "2023-07-01T10:54:00.822Z"
      },
      {
        "duration": 31,
        "start_time": "2023-07-01T10:54:00.865Z"
      },
      {
        "duration": 45,
        "start_time": "2023-07-01T10:54:00.898Z"
      },
      {
        "duration": 24,
        "start_time": "2023-07-01T10:54:00.945Z"
      },
      {
        "duration": 30,
        "start_time": "2023-07-01T10:54:00.971Z"
      },
      {
        "duration": 44,
        "start_time": "2023-07-01T10:54:01.003Z"
      },
      {
        "duration": 28,
        "start_time": "2023-07-01T10:54:01.049Z"
      },
      {
        "duration": 29,
        "start_time": "2023-07-01T10:54:01.081Z"
      },
      {
        "duration": 36,
        "start_time": "2023-07-01T10:54:01.112Z"
      },
      {
        "duration": 179,
        "start_time": "2023-07-01T10:54:01.150Z"
      },
      {
        "duration": 107,
        "start_time": "2023-07-01T10:54:01.331Z"
      },
      {
        "duration": 279,
        "start_time": "2023-07-01T10:54:01.440Z"
      },
      {
        "duration": 21,
        "start_time": "2023-07-01T10:54:01.721Z"
      },
      {
        "duration": 65,
        "start_time": "2023-07-01T10:54:01.744Z"
      },
      {
        "duration": 32,
        "start_time": "2023-07-01T10:54:01.811Z"
      },
      {
        "duration": 205,
        "start_time": "2023-07-01T10:54:01.844Z"
      },
      {
        "duration": 182,
        "start_time": "2023-07-01T10:54:02.050Z"
      },
      {
        "duration": 193,
        "start_time": "2023-07-01T10:54:02.234Z"
      },
      {
        "duration": 56,
        "start_time": "2023-07-01T10:54:02.429Z"
      },
      {
        "duration": 509,
        "start_time": "2023-07-01T10:54:02.489Z"
      },
      {
        "duration": 7,
        "start_time": "2023-07-01T10:54:03.002Z"
      },
      {
        "duration": 20,
        "start_time": "2023-07-01T10:54:03.011Z"
      },
      {
        "duration": 18,
        "start_time": "2023-07-01T10:54:03.035Z"
      },
      {
        "duration": 1956,
        "start_time": "2023-07-01T10:54:03.054Z"
      },
      {
        "duration": 6,
        "start_time": "2023-07-01T10:54:05.012Z"
      },
      {
        "duration": 218,
        "start_time": "2023-07-01T10:54:05.020Z"
      },
      {
        "duration": 6,
        "start_time": "2023-07-01T10:54:05.240Z"
      },
      {
        "duration": 422,
        "start_time": "2023-07-01T10:54:36.937Z"
      },
      {
        "duration": 1842,
        "start_time": "2023-07-01T10:54:46.569Z"
      },
      {
        "duration": 3,
        "start_time": "2023-07-01T11:26:06.959Z"
      },
      {
        "duration": 63,
        "start_time": "2023-07-01T11:26:06.964Z"
      },
      {
        "duration": 58,
        "start_time": "2023-07-01T11:26:07.029Z"
      },
      {
        "duration": 26,
        "start_time": "2023-07-01T11:26:07.090Z"
      },
      {
        "duration": 6,
        "start_time": "2023-07-01T11:26:07.118Z"
      },
      {
        "duration": 12,
        "start_time": "2023-07-01T11:26:07.126Z"
      },
      {
        "duration": 4,
        "start_time": "2023-07-01T11:26:07.140Z"
      },
      {
        "duration": 7,
        "start_time": "2023-07-01T11:26:07.145Z"
      },
      {
        "duration": 4,
        "start_time": "2023-07-01T11:26:07.169Z"
      },
      {
        "duration": 11,
        "start_time": "2023-07-01T11:26:07.179Z"
      },
      {
        "duration": 15,
        "start_time": "2023-07-01T11:26:07.192Z"
      },
      {
        "duration": 11,
        "start_time": "2023-07-01T11:26:07.210Z"
      },
      {
        "duration": 12,
        "start_time": "2023-07-01T11:26:07.223Z"
      },
      {
        "duration": 4,
        "start_time": "2023-07-01T11:26:07.237Z"
      },
      {
        "duration": 169,
        "start_time": "2023-07-01T11:26:07.243Z"
      },
      {
        "duration": 117,
        "start_time": "2023-07-01T11:26:07.414Z"
      },
      {
        "duration": 284,
        "start_time": "2023-07-01T11:26:07.532Z"
      },
      {
        "duration": 26,
        "start_time": "2023-07-01T11:26:07.818Z"
      },
      {
        "duration": 67,
        "start_time": "2023-07-01T11:26:07.846Z"
      },
      {
        "duration": 56,
        "start_time": "2023-07-01T11:26:07.915Z"
      },
      {
        "duration": 45,
        "start_time": "2023-07-01T11:26:07.976Z"
      },
      {
        "duration": 316,
        "start_time": "2023-07-01T11:26:08.023Z"
      },
      {
        "duration": 185,
        "start_time": "2023-07-01T11:26:08.341Z"
      },
      {
        "duration": 42,
        "start_time": "2023-07-01T11:26:08.529Z"
      },
      {
        "duration": 434,
        "start_time": "2023-07-01T11:26:08.577Z"
      },
      {
        "duration": 7,
        "start_time": "2023-07-01T11:26:09.013Z"
      },
      {
        "duration": 8,
        "start_time": "2023-07-01T11:26:09.022Z"
      },
      {
        "duration": 13,
        "start_time": "2023-07-01T11:26:09.032Z"
      },
      {
        "duration": 1727,
        "start_time": "2023-07-01T11:26:09.046Z"
      },
      {
        "duration": 7,
        "start_time": "2023-07-01T11:26:10.775Z"
      },
      {
        "duration": 216,
        "start_time": "2023-07-01T11:26:10.783Z"
      },
      {
        "duration": 7,
        "start_time": "2023-07-01T11:26:11.002Z"
      },
      {
        "duration": 1327,
        "start_time": "2023-07-01T12:11:18.164Z"
      },
      {
        "duration": 105,
        "start_time": "2023-07-01T12:11:19.493Z"
      },
      {
        "duration": 88,
        "start_time": "2023-07-01T12:11:19.600Z"
      },
      {
        "duration": 75,
        "start_time": "2023-07-01T12:11:19.690Z"
      },
      {
        "duration": 8,
        "start_time": "2023-07-01T12:11:19.766Z"
      },
      {
        "duration": 16,
        "start_time": "2023-07-01T12:11:19.776Z"
      },
      {
        "duration": 4,
        "start_time": "2023-07-01T12:11:19.794Z"
      },
      {
        "duration": 25,
        "start_time": "2023-07-01T12:11:19.799Z"
      },
      {
        "duration": 5,
        "start_time": "2023-07-01T12:11:19.826Z"
      },
      {
        "duration": 8,
        "start_time": "2023-07-01T12:11:19.834Z"
      },
      {
        "duration": 8,
        "start_time": "2023-07-01T12:11:19.843Z"
      },
      {
        "duration": 5,
        "start_time": "2023-07-01T12:11:19.853Z"
      },
      {
        "duration": 10,
        "start_time": "2023-07-01T12:11:19.860Z"
      },
      {
        "duration": 5,
        "start_time": "2023-07-01T12:11:19.871Z"
      },
      {
        "duration": 205,
        "start_time": "2023-07-01T12:11:19.878Z"
      },
      {
        "duration": 134,
        "start_time": "2023-07-01T12:11:20.086Z"
      },
      {
        "duration": 334,
        "start_time": "2023-07-01T12:11:20.222Z"
      },
      {
        "duration": 25,
        "start_time": "2023-07-01T12:11:20.558Z"
      },
      {
        "duration": 50,
        "start_time": "2023-07-01T12:11:20.601Z"
      },
      {
        "duration": 58,
        "start_time": "2023-07-01T12:11:20.653Z"
      },
      {
        "duration": 39,
        "start_time": "2023-07-01T12:11:20.713Z"
      },
      {
        "duration": 195,
        "start_time": "2023-07-01T12:11:20.754Z"
      },
      {
        "duration": 196,
        "start_time": "2023-07-01T12:11:20.951Z"
      },
      {
        "duration": 64,
        "start_time": "2023-07-01T12:11:21.149Z"
      },
      {
        "duration": 487,
        "start_time": "2023-07-01T12:11:21.218Z"
      },
      {
        "duration": 18,
        "start_time": "2023-07-01T12:11:21.707Z"
      },
      {
        "duration": 7,
        "start_time": "2023-07-01T12:11:21.727Z"
      },
      {
        "duration": 13,
        "start_time": "2023-07-01T12:11:21.737Z"
      },
      {
        "duration": 1921,
        "start_time": "2023-07-01T12:11:21.753Z"
      },
      {
        "duration": 7,
        "start_time": "2023-07-01T12:11:23.676Z"
      },
      {
        "duration": 253,
        "start_time": "2023-07-01T12:11:23.685Z"
      },
      {
        "duration": 8,
        "start_time": "2023-07-01T12:11:23.940Z"
      },
      {
        "duration": 1438,
        "start_time": "2023-07-01T13:36:24.788Z"
      },
      {
        "duration": 127,
        "start_time": "2023-07-01T13:36:26.228Z"
      },
      {
        "duration": 90,
        "start_time": "2023-07-01T13:36:26.360Z"
      },
      {
        "duration": 65,
        "start_time": "2023-07-01T13:36:26.460Z"
      },
      {
        "duration": 9,
        "start_time": "2023-07-01T13:36:26.527Z"
      },
      {
        "duration": 12,
        "start_time": "2023-07-01T13:36:26.538Z"
      },
      {
        "duration": 13,
        "start_time": "2023-07-01T13:36:26.552Z"
      },
      {
        "duration": 14,
        "start_time": "2023-07-01T13:36:26.571Z"
      },
      {
        "duration": 11,
        "start_time": "2023-07-01T13:36:26.587Z"
      },
      {
        "duration": 9,
        "start_time": "2023-07-01T13:36:26.601Z"
      },
      {
        "duration": 9,
        "start_time": "2023-07-01T13:36:26.611Z"
      },
      {
        "duration": 8,
        "start_time": "2023-07-01T13:36:26.622Z"
      },
      {
        "duration": 12,
        "start_time": "2023-07-01T13:36:26.632Z"
      },
      {
        "duration": 15,
        "start_time": "2023-07-01T13:36:26.660Z"
      },
      {
        "duration": 183,
        "start_time": "2023-07-01T13:36:26.676Z"
      },
      {
        "duration": 137,
        "start_time": "2023-07-01T13:36:26.861Z"
      },
      {
        "duration": 304,
        "start_time": "2023-07-01T13:36:27.001Z"
      },
      {
        "duration": 30,
        "start_time": "2023-07-01T13:36:27.307Z"
      },
      {
        "duration": 55,
        "start_time": "2023-07-01T13:36:27.351Z"
      },
      {
        "duration": 68,
        "start_time": "2023-07-01T13:36:27.408Z"
      },
      {
        "duration": 31,
        "start_time": "2023-07-01T13:36:27.478Z"
      },
      {
        "duration": 229,
        "start_time": "2023-07-01T13:36:27.511Z"
      },
      {
        "duration": 221,
        "start_time": "2023-07-01T13:36:27.742Z"
      },
      {
        "duration": 46,
        "start_time": "2023-07-01T13:36:27.964Z"
      },
      {
        "duration": 595,
        "start_time": "2023-07-01T13:36:28.012Z"
      },
      {
        "duration": 10,
        "start_time": "2023-07-01T13:36:28.610Z"
      },
      {
        "duration": 7,
        "start_time": "2023-07-01T13:36:28.621Z"
      },
      {
        "duration": 35,
        "start_time": "2023-07-01T13:36:28.633Z"
      },
      {
        "duration": 2045,
        "start_time": "2023-07-01T13:36:28.672Z"
      },
      {
        "duration": 7,
        "start_time": "2023-07-01T13:36:30.719Z"
      },
      {
        "duration": 268,
        "start_time": "2023-07-01T13:36:30.729Z"
      },
      {
        "duration": 7,
        "start_time": "2023-07-01T13:36:30.998Z"
      },
      {
        "duration": 9,
        "start_time": "2023-07-01T13:42:50.474Z"
      },
      {
        "duration": 10,
        "start_time": "2023-07-01T13:43:03.669Z"
      },
      {
        "duration": 19,
        "start_time": "2023-07-01T13:43:58.782Z"
      },
      {
        "duration": 146,
        "start_time": "2023-07-01T13:47:39.487Z"
      },
      {
        "duration": 372,
        "start_time": "2023-07-01T13:48:08.400Z"
      },
      {
        "duration": 158,
        "start_time": "2023-07-01T13:48:51.528Z"
      },
      {
        "duration": 150,
        "start_time": "2023-07-01T13:49:40.024Z"
      },
      {
        "duration": 159,
        "start_time": "2023-07-01T13:50:08.871Z"
      },
      {
        "duration": 145,
        "start_time": "2023-07-01T13:50:16.862Z"
      },
      {
        "duration": 1192,
        "start_time": "2023-07-01T13:51:05.912Z"
      },
      {
        "duration": 60,
        "start_time": "2023-07-01T13:51:07.107Z"
      },
      {
        "duration": 55,
        "start_time": "2023-07-01T13:51:07.173Z"
      },
      {
        "duration": 45,
        "start_time": "2023-07-01T13:51:07.231Z"
      },
      {
        "duration": 9,
        "start_time": "2023-07-01T13:51:07.277Z"
      },
      {
        "duration": 23,
        "start_time": "2023-07-01T13:51:07.289Z"
      },
      {
        "duration": 7,
        "start_time": "2023-07-01T13:51:07.314Z"
      },
      {
        "duration": 13,
        "start_time": "2023-07-01T13:51:07.323Z"
      },
      {
        "duration": 22,
        "start_time": "2023-07-01T13:51:07.339Z"
      },
      {
        "duration": 26,
        "start_time": "2023-07-01T13:51:07.368Z"
      },
      {
        "duration": 10,
        "start_time": "2023-07-01T13:51:07.396Z"
      },
      {
        "duration": 7,
        "start_time": "2023-07-01T13:51:07.408Z"
      },
      {
        "duration": 16,
        "start_time": "2023-07-01T13:51:07.417Z"
      },
      {
        "duration": 6,
        "start_time": "2023-07-01T13:51:07.435Z"
      },
      {
        "duration": 214,
        "start_time": "2023-07-01T13:51:07.453Z"
      },
      {
        "duration": 120,
        "start_time": "2023-07-01T13:51:07.674Z"
      },
      {
        "duration": 303,
        "start_time": "2023-07-01T13:51:07.796Z"
      },
      {
        "duration": 26,
        "start_time": "2023-07-01T13:51:08.102Z"
      },
      {
        "duration": 64,
        "start_time": "2023-07-01T13:51:08.130Z"
      },
      {
        "duration": 55,
        "start_time": "2023-07-01T13:51:08.197Z"
      },
      {
        "duration": 45,
        "start_time": "2023-07-01T13:51:08.260Z"
      },
      {
        "duration": 248,
        "start_time": "2023-07-01T13:51:08.307Z"
      },
      {
        "duration": 239,
        "start_time": "2023-07-01T13:51:08.559Z"
      },
      {
        "duration": 73,
        "start_time": "2023-07-01T13:51:08.801Z"
      },
      {
        "duration": 587,
        "start_time": "2023-07-01T13:51:08.878Z"
      },
      {
        "duration": 9,
        "start_time": "2023-07-01T13:51:09.467Z"
      },
      {
        "duration": 12,
        "start_time": "2023-07-01T13:51:09.478Z"
      },
      {
        "duration": 17,
        "start_time": "2023-07-01T13:51:09.494Z"
      },
      {
        "duration": 2174,
        "start_time": "2023-07-01T13:51:09.513Z"
      },
      {
        "duration": 10,
        "start_time": "2023-07-01T13:51:11.690Z"
      },
      {
        "duration": 200,
        "start_time": "2023-07-01T13:51:11.702Z"
      },
      {
        "duration": 244,
        "start_time": "2023-07-01T13:51:11.904Z"
      },
      {
        "duration": 12,
        "start_time": "2023-07-01T13:51:12.150Z"
      },
      {
        "duration": 46,
        "start_time": "2023-07-01T17:05:29.690Z"
      },
      {
        "duration": 1335,
        "start_time": "2023-07-01T17:05:33.147Z"
      },
      {
        "duration": 128,
        "start_time": "2023-07-01T17:05:34.485Z"
      },
      {
        "duration": 180,
        "start_time": "2023-07-01T17:05:34.615Z"
      },
      {
        "duration": 67,
        "start_time": "2023-07-01T17:05:34.797Z"
      },
      {
        "duration": 17,
        "start_time": "2023-07-01T17:05:34.865Z"
      },
      {
        "duration": 17,
        "start_time": "2023-07-01T17:05:34.884Z"
      },
      {
        "duration": 7,
        "start_time": "2023-07-01T17:05:34.903Z"
      },
      {
        "duration": 13,
        "start_time": "2023-07-01T17:05:34.911Z"
      },
      {
        "duration": 7,
        "start_time": "2023-07-01T17:05:34.926Z"
      },
      {
        "duration": 4,
        "start_time": "2023-07-01T17:05:34.937Z"
      },
      {
        "duration": 6,
        "start_time": "2023-07-01T17:05:34.942Z"
      },
      {
        "duration": 6,
        "start_time": "2023-07-01T17:05:34.949Z"
      },
      {
        "duration": 26,
        "start_time": "2023-07-01T17:05:34.956Z"
      },
      {
        "duration": 13,
        "start_time": "2023-07-01T17:05:34.984Z"
      },
      {
        "duration": 5,
        "start_time": "2023-07-01T17:05:34.999Z"
      },
      {
        "duration": 164,
        "start_time": "2023-07-01T17:05:35.006Z"
      },
      {
        "duration": 98,
        "start_time": "2023-07-01T17:05:35.171Z"
      },
      {
        "duration": 248,
        "start_time": "2023-07-01T17:05:35.271Z"
      },
      {
        "duration": 19,
        "start_time": "2023-07-01T17:05:35.521Z"
      },
      {
        "duration": 53,
        "start_time": "2023-07-01T17:05:35.541Z"
      },
      {
        "duration": 25,
        "start_time": "2023-07-01T17:05:35.596Z"
      },
      {
        "duration": 24,
        "start_time": "2023-07-01T17:05:35.623Z"
      },
      {
        "duration": 168,
        "start_time": "2023-07-01T17:05:35.675Z"
      },
      {
        "duration": 189,
        "start_time": "2023-07-01T17:05:35.845Z"
      },
      {
        "duration": 44,
        "start_time": "2023-07-01T17:05:36.036Z"
      },
      {
        "duration": 426,
        "start_time": "2023-07-01T17:05:36.082Z"
      },
      {
        "duration": 8,
        "start_time": "2023-07-01T17:05:36.510Z"
      },
      {
        "duration": 9,
        "start_time": "2023-07-01T17:05:36.521Z"
      },
      {
        "duration": 10,
        "start_time": "2023-07-01T17:05:36.532Z"
      },
      {
        "duration": 1637,
        "start_time": "2023-07-01T17:05:36.544Z"
      },
      {
        "duration": 5,
        "start_time": "2023-07-01T17:05:38.183Z"
      },
      {
        "duration": 136,
        "start_time": "2023-07-01T17:05:38.190Z"
      },
      {
        "duration": 199,
        "start_time": "2023-07-01T17:05:38.327Z"
      },
      {
        "duration": 6,
        "start_time": "2023-07-01T17:05:38.527Z"
      },
      {
        "duration": 111,
        "start_time": "2023-07-01T17:07:11.460Z"
      },
      {
        "duration": 6,
        "start_time": "2023-07-01T17:07:19.908Z"
      },
      {
        "duration": 67,
        "start_time": "2023-07-01T17:18:02.165Z"
      },
      {
        "duration": 63,
        "start_time": "2023-07-01T17:18:24.479Z"
      },
      {
        "duration": 331,
        "start_time": "2023-07-01T17:18:39.770Z"
      },
      {
        "duration": 12,
        "start_time": "2023-07-01T17:19:18.343Z"
      },
      {
        "duration": 105,
        "start_time": "2023-07-01T17:19:26.351Z"
      },
      {
        "duration": 129,
        "start_time": "2023-07-01T17:19:54.867Z"
      },
      {
        "duration": 122,
        "start_time": "2023-07-01T17:20:45.444Z"
      },
      {
        "duration": 135,
        "start_time": "2023-07-01T17:22:16.818Z"
      },
      {
        "duration": 12,
        "start_time": "2023-07-01T17:22:34.257Z"
      },
      {
        "duration": 11,
        "start_time": "2023-07-01T17:22:38.841Z"
      },
      {
        "duration": 9,
        "start_time": "2023-07-01T17:22:52.630Z"
      },
      {
        "duration": 135,
        "start_time": "2023-07-01T17:23:02.910Z"
      },
      {
        "duration": 69,
        "start_time": "2023-07-01T17:23:07.133Z"
      },
      {
        "duration": 65,
        "start_time": "2023-07-01T17:23:11.803Z"
      },
      {
        "duration": 64,
        "start_time": "2023-07-01T17:24:04.768Z"
      },
      {
        "duration": 141,
        "start_time": "2023-07-01T17:24:10.183Z"
      },
      {
        "duration": 128,
        "start_time": "2023-07-01T17:24:20.786Z"
      },
      {
        "duration": 132,
        "start_time": "2023-07-01T17:24:47.403Z"
      },
      {
        "duration": 116,
        "start_time": "2023-07-01T17:27:07.012Z"
      },
      {
        "duration": 96,
        "start_time": "2023-07-01T17:27:15.729Z"
      },
      {
        "duration": 118,
        "start_time": "2023-07-01T17:28:43.060Z"
      },
      {
        "duration": 78,
        "start_time": "2023-07-01T17:28:48.029Z"
      },
      {
        "duration": 149,
        "start_time": "2023-07-01T17:28:52.171Z"
      },
      {
        "duration": 69,
        "start_time": "2023-07-01T17:29:00.219Z"
      },
      {
        "duration": 137,
        "start_time": "2023-07-01T17:29:08.599Z"
      },
      {
        "duration": 60,
        "start_time": "2023-07-01T17:29:18.743Z"
      },
      {
        "duration": 66,
        "start_time": "2023-07-01T17:29:45.593Z"
      },
      {
        "duration": 56,
        "start_time": "2023-07-01T17:29:52.118Z"
      },
      {
        "duration": 61,
        "start_time": "2023-07-01T17:29:54.319Z"
      },
      {
        "duration": 68,
        "start_time": "2023-07-01T17:30:03.213Z"
      },
      {
        "duration": 75,
        "start_time": "2023-07-01T17:30:17.690Z"
      },
      {
        "duration": 70,
        "start_time": "2023-07-01T17:30:39.445Z"
      },
      {
        "duration": 99,
        "start_time": "2023-07-01T17:31:06.049Z"
      },
      {
        "duration": 158,
        "start_time": "2023-07-01T17:31:30.267Z"
      },
      {
        "duration": 160,
        "start_time": "2023-07-01T17:31:33.562Z"
      },
      {
        "duration": 92,
        "start_time": "2023-07-01T17:31:40.112Z"
      },
      {
        "duration": 122,
        "start_time": "2023-07-01T17:31:45.763Z"
      },
      {
        "duration": 89,
        "start_time": "2023-07-01T17:31:52.109Z"
      },
      {
        "duration": 89,
        "start_time": "2023-07-01T17:31:55.561Z"
      },
      {
        "duration": 60,
        "start_time": "2023-07-01T17:33:23.098Z"
      },
      {
        "duration": 112,
        "start_time": "2023-07-01T17:33:37.815Z"
      },
      {
        "duration": 122,
        "start_time": "2023-07-01T17:33:47.962Z"
      },
      {
        "duration": 69,
        "start_time": "2023-07-01T17:33:57.904Z"
      },
      {
        "duration": 78,
        "start_time": "2023-07-01T17:36:50.086Z"
      },
      {
        "duration": 96,
        "start_time": "2023-07-01T17:36:55.220Z"
      },
      {
        "duration": 20,
        "start_time": "2023-07-01T17:36:59.409Z"
      },
      {
        "duration": 98,
        "start_time": "2023-07-01T17:37:08.346Z"
      },
      {
        "duration": 165,
        "start_time": "2023-07-01T17:38:54.497Z"
      },
      {
        "duration": 72,
        "start_time": "2023-07-01T17:40:55.784Z"
      },
      {
        "duration": 18,
        "start_time": "2023-07-01T17:41:22.333Z"
      },
      {
        "duration": 19,
        "start_time": "2023-07-01T17:41:29.376Z"
      },
      {
        "duration": 62,
        "start_time": "2023-07-01T17:41:33.229Z"
      },
      {
        "duration": 73,
        "start_time": "2023-07-01T17:41:56.639Z"
      },
      {
        "duration": 113,
        "start_time": "2023-07-01T17:42:05.599Z"
      },
      {
        "duration": 152,
        "start_time": "2023-07-01T17:42:23.080Z"
      },
      {
        "duration": 220,
        "start_time": "2023-07-01T17:42:43.788Z"
      },
      {
        "duration": 269,
        "start_time": "2023-07-01T17:43:08.881Z"
      },
      {
        "duration": 157,
        "start_time": "2023-07-01T17:43:18.201Z"
      },
      {
        "duration": 162,
        "start_time": "2023-07-01T17:43:38.912Z"
      },
      {
        "duration": 16,
        "start_time": "2023-07-01T17:43:58.776Z"
      },
      {
        "duration": 159,
        "start_time": "2023-07-01T17:44:05.582Z"
      },
      {
        "duration": 149,
        "start_time": "2023-07-01T17:44:10.572Z"
      },
      {
        "duration": 190,
        "start_time": "2023-07-01T17:44:50.269Z"
      },
      {
        "duration": 159,
        "start_time": "2023-07-01T17:44:59.800Z"
      },
      {
        "duration": 153,
        "start_time": "2023-07-01T17:45:05.399Z"
      },
      {
        "duration": 171,
        "start_time": "2023-07-01T17:46:35.805Z"
      },
      {
        "duration": 143,
        "start_time": "2023-07-01T17:51:00.436Z"
      },
      {
        "duration": 11,
        "start_time": "2023-07-01T17:51:46.554Z"
      },
      {
        "duration": 247,
        "start_time": "2023-07-01T17:51:54.819Z"
      },
      {
        "duration": 36,
        "start_time": "2023-07-01T17:53:17.279Z"
      },
      {
        "duration": 40,
        "start_time": "2023-07-01T17:53:35.669Z"
      },
      {
        "duration": 340,
        "start_time": "2023-07-01T17:56:16.425Z"
      },
      {
        "duration": 12,
        "start_time": "2023-07-01T17:58:18.847Z"
      },
      {
        "duration": 73,
        "start_time": "2023-07-01T17:58:35.895Z"
      },
      {
        "duration": 44,
        "start_time": "2023-07-01T17:58:45.510Z"
      },
      {
        "duration": 64,
        "start_time": "2023-07-01T17:59:06.823Z"
      },
      {
        "duration": 53,
        "start_time": "2023-07-01T17:59:29.694Z"
      },
      {
        "duration": 52,
        "start_time": "2023-07-01T17:59:51.399Z"
      },
      {
        "duration": 62,
        "start_time": "2023-07-01T17:59:58.327Z"
      },
      {
        "duration": 1864,
        "start_time": "2023-07-01T18:00:48.433Z"
      },
      {
        "duration": 69,
        "start_time": "2023-07-01T18:01:52.836Z"
      },
      {
        "duration": 222,
        "start_time": "2023-07-01T18:02:19.109Z"
      },
      {
        "duration": 12,
        "start_time": "2023-07-01T18:14:55.299Z"
      },
      {
        "duration": 9,
        "start_time": "2023-07-01T18:15:36.080Z"
      },
      {
        "duration": 11,
        "start_time": "2023-07-01T18:16:57.234Z"
      },
      {
        "duration": 11,
        "start_time": "2023-07-01T18:17:04.943Z"
      },
      {
        "duration": 9,
        "start_time": "2023-07-01T18:20:30.983Z"
      },
      {
        "duration": 10,
        "start_time": "2023-07-01T18:24:47.062Z"
      },
      {
        "duration": 22,
        "start_time": "2023-07-01T18:24:58.100Z"
      },
      {
        "duration": 23,
        "start_time": "2023-07-01T18:25:13.932Z"
      },
      {
        "duration": 136,
        "start_time": "2023-07-01T20:04:58.173Z"
      },
      {
        "duration": 278,
        "start_time": "2023-07-01T20:07:42.089Z"
      },
      {
        "duration": 138,
        "start_time": "2023-07-01T20:08:23.124Z"
      },
      {
        "duration": 137,
        "start_time": "2023-07-01T20:08:38.873Z"
      },
      {
        "duration": 135,
        "start_time": "2023-07-01T20:08:46.874Z"
      },
      {
        "duration": 134,
        "start_time": "2023-07-01T20:14:22.550Z"
      },
      {
        "duration": 1284,
        "start_time": "2023-07-02T09:22:20.670Z"
      },
      {
        "duration": 93,
        "start_time": "2023-07-02T09:22:21.956Z"
      },
      {
        "duration": 77,
        "start_time": "2023-07-02T09:22:22.051Z"
      },
      {
        "duration": 64,
        "start_time": "2023-07-02T09:22:22.130Z"
      },
      {
        "duration": 7,
        "start_time": "2023-07-02T09:22:22.195Z"
      },
      {
        "duration": 30,
        "start_time": "2023-07-02T09:22:22.203Z"
      },
      {
        "duration": 12,
        "start_time": "2023-07-02T09:22:22.235Z"
      },
      {
        "duration": 24,
        "start_time": "2023-07-02T09:22:22.248Z"
      },
      {
        "duration": 8,
        "start_time": "2023-07-02T09:22:22.274Z"
      },
      {
        "duration": 28,
        "start_time": "2023-07-02T09:22:22.284Z"
      },
      {
        "duration": 36,
        "start_time": "2023-07-02T09:22:22.314Z"
      },
      {
        "duration": 28,
        "start_time": "2023-07-02T09:22:22.351Z"
      },
      {
        "duration": 5,
        "start_time": "2023-07-02T09:22:22.381Z"
      },
      {
        "duration": 16,
        "start_time": "2023-07-02T09:22:22.387Z"
      },
      {
        "duration": 26,
        "start_time": "2023-07-02T09:22:22.404Z"
      },
      {
        "duration": 161,
        "start_time": "2023-07-02T09:22:22.431Z"
      },
      {
        "duration": 166,
        "start_time": "2023-07-02T09:22:22.593Z"
      },
      {
        "duration": 245,
        "start_time": "2023-07-02T09:22:22.761Z"
      },
      {
        "duration": 29,
        "start_time": "2023-07-02T09:22:23.007Z"
      },
      {
        "duration": 139,
        "start_time": "2023-07-02T09:22:23.038Z"
      },
      {
        "duration": 142,
        "start_time": "2023-07-02T09:22:23.178Z"
      },
      {
        "duration": 43,
        "start_time": "2023-07-02T09:22:23.321Z"
      },
      {
        "duration": 36,
        "start_time": "2023-07-02T09:22:23.365Z"
      },
      {
        "duration": 47,
        "start_time": "2023-07-02T09:22:23.403Z"
      },
      {
        "duration": 2,
        "start_time": "2023-07-02T09:22:23.452Z"
      },
      {
        "duration": 20,
        "start_time": "2023-07-02T09:22:23.456Z"
      },
      {
        "duration": 61,
        "start_time": "2023-07-02T09:22:23.477Z"
      },
      {
        "duration": 228,
        "start_time": "2023-07-02T09:22:23.541Z"
      },
      {
        "duration": 8,
        "start_time": "2023-07-02T09:22:23.771Z"
      },
      {
        "duration": 10,
        "start_time": "2023-07-02T09:22:23.781Z"
      },
      {
        "duration": 20,
        "start_time": "2023-07-02T09:22:23.793Z"
      },
      {
        "duration": 1782,
        "start_time": "2023-07-02T09:22:23.814Z"
      },
      {
        "duration": 5,
        "start_time": "2023-07-02T09:22:25.598Z"
      },
      {
        "duration": 145,
        "start_time": "2023-07-02T09:22:25.604Z"
      },
      {
        "duration": 183,
        "start_time": "2023-07-02T09:22:25.751Z"
      },
      {
        "duration": 5,
        "start_time": "2023-07-02T09:22:25.935Z"
      },
      {
        "duration": 173,
        "start_time": "2023-07-02T09:25:44.320Z"
      },
      {
        "duration": 3,
        "start_time": "2023-07-02T09:25:53.989Z"
      },
      {
        "duration": 50,
        "start_time": "2023-07-02T09:25:53.994Z"
      },
      {
        "duration": 45,
        "start_time": "2023-07-02T09:25:54.045Z"
      },
      {
        "duration": 28,
        "start_time": "2023-07-02T09:25:54.092Z"
      },
      {
        "duration": 7,
        "start_time": "2023-07-02T09:25:54.132Z"
      },
      {
        "duration": 15,
        "start_time": "2023-07-02T09:25:54.141Z"
      },
      {
        "duration": 6,
        "start_time": "2023-07-02T09:25:54.157Z"
      },
      {
        "duration": 12,
        "start_time": "2023-07-02T09:25:54.165Z"
      },
      {
        "duration": 13,
        "start_time": "2023-07-02T09:25:54.179Z"
      },
      {
        "duration": 11,
        "start_time": "2023-07-02T09:25:54.193Z"
      },
      {
        "duration": 26,
        "start_time": "2023-07-02T09:25:54.206Z"
      },
      {
        "duration": 8,
        "start_time": "2023-07-02T09:25:54.233Z"
      },
      {
        "duration": 5,
        "start_time": "2023-07-02T09:25:54.243Z"
      },
      {
        "duration": 12,
        "start_time": "2023-07-02T09:25:54.249Z"
      },
      {
        "duration": 6,
        "start_time": "2023-07-02T09:25:54.262Z"
      },
      {
        "duration": 182,
        "start_time": "2023-07-02T09:25:54.269Z"
      },
      {
        "duration": 194,
        "start_time": "2023-07-02T09:25:54.453Z"
      },
      {
        "duration": 334,
        "start_time": "2023-07-02T09:25:54.649Z"
      },
      {
        "duration": 25,
        "start_time": "2023-07-02T09:25:54.986Z"
      },
      {
        "duration": 177,
        "start_time": "2023-07-02T09:25:55.013Z"
      },
      {
        "duration": 163,
        "start_time": "2023-07-02T09:25:55.192Z"
      },
      {
        "duration": 39,
        "start_time": "2023-07-02T09:25:55.357Z"
      },
      {
        "duration": 50,
        "start_time": "2023-07-02T09:25:55.397Z"
      },
      {
        "duration": 28,
        "start_time": "2023-07-02T09:25:55.451Z"
      },
      {
        "duration": 2,
        "start_time": "2023-07-02T09:25:55.481Z"
      },
      {
        "duration": 5,
        "start_time": "2023-07-02T09:25:55.485Z"
      },
      {
        "duration": 96,
        "start_time": "2023-07-02T09:25:55.492Z"
      },
      {
        "duration": 258,
        "start_time": "2023-07-02T09:25:55.589Z"
      },
      {
        "duration": 8,
        "start_time": "2023-07-02T09:25:55.849Z"
      },
      {
        "duration": 9,
        "start_time": "2023-07-02T09:25:55.858Z"
      },
      {
        "duration": 19,
        "start_time": "2023-07-02T09:25:55.868Z"
      },
      {
        "duration": 1793,
        "start_time": "2023-07-02T09:25:55.888Z"
      },
      {
        "duration": 6,
        "start_time": "2023-07-02T09:25:57.683Z"
      },
      {
        "duration": 170,
        "start_time": "2023-07-02T09:25:57.691Z"
      },
      {
        "duration": 229,
        "start_time": "2023-07-02T09:25:57.863Z"
      },
      {
        "duration": 7,
        "start_time": "2023-07-02T09:25:58.093Z"
      },
      {
        "duration": 120,
        "start_time": "2023-07-02T09:27:21.954Z"
      },
      {
        "duration": 811,
        "start_time": "2023-07-02T09:27:47.008Z"
      },
      {
        "duration": 658,
        "start_time": "2023-07-02T09:47:38.734Z"
      },
      {
        "duration": 547,
        "start_time": "2023-07-02T09:48:06.613Z"
      },
      {
        "duration": 697,
        "start_time": "2023-07-02T09:48:11.095Z"
      },
      {
        "duration": 740,
        "start_time": "2023-07-02T09:48:27.019Z"
      },
      {
        "duration": 816,
        "start_time": "2023-07-02T09:48:36.434Z"
      },
      {
        "duration": 563,
        "start_time": "2023-07-02T09:54:10.142Z"
      },
      {
        "duration": 3,
        "start_time": "2023-07-02T10:06:56.011Z"
      },
      {
        "duration": 332,
        "start_time": "2023-07-02T10:06:56.017Z"
      },
      {
        "duration": 42,
        "start_time": "2023-07-02T10:06:56.350Z"
      },
      {
        "duration": 27,
        "start_time": "2023-07-02T10:06:56.394Z"
      },
      {
        "duration": 13,
        "start_time": "2023-07-02T10:06:56.422Z"
      },
      {
        "duration": 15,
        "start_time": "2023-07-02T10:06:56.436Z"
      },
      {
        "duration": 14,
        "start_time": "2023-07-02T10:06:56.453Z"
      },
      {
        "duration": 11,
        "start_time": "2023-07-02T10:06:56.468Z"
      },
      {
        "duration": 10,
        "start_time": "2023-07-02T10:06:56.481Z"
      },
      {
        "duration": 7,
        "start_time": "2023-07-02T10:06:56.493Z"
      },
      {
        "duration": 11,
        "start_time": "2023-07-02T10:06:56.502Z"
      },
      {
        "duration": 9,
        "start_time": "2023-07-02T10:06:56.514Z"
      },
      {
        "duration": 4,
        "start_time": "2023-07-02T10:06:56.532Z"
      },
      {
        "duration": 10,
        "start_time": "2023-07-02T10:06:56.537Z"
      },
      {
        "duration": 15,
        "start_time": "2023-07-02T10:06:56.549Z"
      },
      {
        "duration": 184,
        "start_time": "2023-07-02T10:06:56.565Z"
      },
      {
        "duration": 176,
        "start_time": "2023-07-02T10:06:56.750Z"
      },
      {
        "duration": 311,
        "start_time": "2023-07-02T10:06:56.931Z"
      },
      {
        "duration": 22,
        "start_time": "2023-07-02T10:06:57.244Z"
      },
      {
        "duration": 191,
        "start_time": "2023-07-02T10:06:57.268Z"
      },
      {
        "duration": 188,
        "start_time": "2023-07-02T10:06:57.461Z"
      },
      {
        "duration": 38,
        "start_time": "2023-07-02T10:06:57.652Z"
      },
      {
        "duration": 48,
        "start_time": "2023-07-02T10:06:57.692Z"
      },
      {
        "duration": 31,
        "start_time": "2023-07-02T10:06:57.744Z"
      },
      {
        "duration": 663,
        "start_time": "2023-07-02T10:06:57.777Z"
      },
      {
        "duration": 658,
        "start_time": "2023-07-02T10:06:58.442Z"
      },
      {
        "duration": 61,
        "start_time": "2023-07-02T10:06:59.102Z"
      },
      {
        "duration": 228,
        "start_time": "2023-07-02T10:06:59.164Z"
      },
      {
        "duration": 8,
        "start_time": "2023-07-02T10:06:59.394Z"
      },
      {
        "duration": 6,
        "start_time": "2023-07-02T10:06:59.403Z"
      },
      {
        "duration": 23,
        "start_time": "2023-07-02T10:06:59.410Z"
      },
      {
        "duration": 1764,
        "start_time": "2023-07-02T10:06:59.435Z"
      },
      {
        "duration": 8,
        "start_time": "2023-07-02T10:07:01.201Z"
      },
      {
        "duration": 196,
        "start_time": "2023-07-02T10:07:01.210Z"
      },
      {
        "duration": 223,
        "start_time": "2023-07-02T10:07:01.408Z"
      },
      {
        "duration": 6,
        "start_time": "2023-07-02T10:07:01.633Z"
      },
      {
        "duration": 1294,
        "start_time": "2023-07-02T15:19:11.491Z"
      },
      {
        "duration": 52,
        "start_time": "2023-07-02T15:19:12.789Z"
      },
      {
        "duration": 65,
        "start_time": "2023-07-02T15:19:12.843Z"
      },
      {
        "duration": 30,
        "start_time": "2023-07-02T15:19:12.910Z"
      },
      {
        "duration": 8,
        "start_time": "2023-07-02T15:19:12.943Z"
      },
      {
        "duration": 59,
        "start_time": "2023-07-02T15:19:12.953Z"
      },
      {
        "duration": 10,
        "start_time": "2023-07-02T15:19:13.013Z"
      },
      {
        "duration": 14,
        "start_time": "2023-07-02T15:19:13.025Z"
      },
      {
        "duration": 32,
        "start_time": "2023-07-02T15:19:13.041Z"
      },
      {
        "duration": 16,
        "start_time": "2023-07-02T15:19:13.075Z"
      },
      {
        "duration": 13,
        "start_time": "2023-07-02T15:19:13.093Z"
      },
      {
        "duration": 11,
        "start_time": "2023-07-02T15:19:13.108Z"
      },
      {
        "duration": 11,
        "start_time": "2023-07-02T15:19:13.121Z"
      },
      {
        "duration": 22,
        "start_time": "2023-07-02T15:19:13.135Z"
      },
      {
        "duration": 43,
        "start_time": "2023-07-02T15:19:13.161Z"
      },
      {
        "duration": 195,
        "start_time": "2023-07-02T15:19:13.206Z"
      },
      {
        "duration": 216,
        "start_time": "2023-07-02T15:19:13.403Z"
      },
      {
        "duration": 341,
        "start_time": "2023-07-02T15:19:13.621Z"
      },
      {
        "duration": 29,
        "start_time": "2023-07-02T15:19:13.964Z"
      },
      {
        "duration": 198,
        "start_time": "2023-07-02T15:19:13.994Z"
      },
      {
        "duration": 188,
        "start_time": "2023-07-02T15:19:14.194Z"
      },
      {
        "duration": 44,
        "start_time": "2023-07-02T15:19:14.383Z"
      },
      {
        "duration": 55,
        "start_time": "2023-07-02T15:19:14.429Z"
      },
      {
        "duration": 30,
        "start_time": "2023-07-02T15:19:14.486Z"
      },
      {
        "duration": 764,
        "start_time": "2023-07-02T15:19:14.517Z"
      },
      {
        "duration": 711,
        "start_time": "2023-07-02T15:19:15.283Z"
      },
      {
        "duration": 85,
        "start_time": "2023-07-02T15:19:15.996Z"
      },
      {
        "duration": 249,
        "start_time": "2023-07-02T15:19:16.083Z"
      },
      {
        "duration": 9,
        "start_time": "2023-07-02T15:19:16.333Z"
      },
      {
        "duration": 8,
        "start_time": "2023-07-02T15:19:16.353Z"
      },
      {
        "duration": 29,
        "start_time": "2023-07-02T15:19:16.375Z"
      },
      {
        "duration": 2129,
        "start_time": "2023-07-02T15:19:16.406Z"
      },
      {
        "duration": 6,
        "start_time": "2023-07-02T15:19:18.537Z"
      },
      {
        "duration": 194,
        "start_time": "2023-07-02T15:19:18.545Z"
      },
      {
        "duration": 300,
        "start_time": "2023-07-02T15:19:18.741Z"
      },
      {
        "duration": 27,
        "start_time": "2023-07-02T15:19:19.042Z"
      },
      {
        "duration": 6,
        "start_time": "2023-07-02T15:21:06.239Z"
      },
      {
        "duration": 20,
        "start_time": "2023-07-02T15:21:33.527Z"
      },
      {
        "duration": 13,
        "start_time": "2023-07-02T15:21:41.430Z"
      }
    ],
    "kernelspec": {
      "display_name": "Python 3 (ipykernel)",
      "language": "python",
      "name": "python3"
    },
    "language_info": {
      "codemirror_mode": {
        "name": "ipython",
        "version": 3
      },
      "file_extension": ".py",
      "mimetype": "text/x-python",
      "name": "python",
      "nbconvert_exporter": "python",
      "pygments_lexer": "ipython3",
      "version": "3.9.5"
    },
    "toc": {
      "base_numbering": 1,
      "nav_menu": {},
      "number_sections": true,
      "sideBar": true,
      "skip_h1_title": true,
      "title_cell": "Table of Contents",
      "title_sidebar": "Contents",
      "toc_cell": false,
      "toc_position": {},
      "toc_section_display": true,
      "toc_window_display": false
    },
    "colab": {
      "provenance": []
    }
  },
  "nbformat": 4,
  "nbformat_minor": 5
}