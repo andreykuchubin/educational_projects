{
  "cells": [
    {
      "cell_type": "markdown",
      "metadata": {
        "id": "aU9d9DPBSZDV"
      },
      "source": [
        "# Проект для «Викишоп» c BERT"
      ]
    },
    {
      "cell_type": "markdown",
      "metadata": {
        "id": "crdZYmDtSZ4d"
      },
      "source": [
        "Интернет-магазин «Викишоп» запускает новый сервис. Теперь пользователи могут редактировать и дополнять описания товаров, как в вики-сообществах. То есть клиенты предлагают свои правки и комментируют изменения других. Магазину нужен инструмент, который будет искать токсичные комментарии и отправлять их на модерацию.\n",
        "\n",
        "Обучите модель классифицировать комментарии на позитивные и негативные. В вашем распоряжении набор данных с разметкой о токсичности правок.\n",
        "\n",
        "Постройте модель со значением метрики качества *F1* не меньше 0.75.\n",
        "\n",
        "**Инструкция по выполнению проекта**\n",
        "\n",
        "1. Загрузите и подготовьте данные.\n",
        "2. Обучите разные модели.\n",
        "3. Сделайте выводы.\n",
        "\n",
        "\n",
        "**Описание данных**\n",
        "\n",
        "Данные находятся в файле `toxic_comments.csv`. Столбец *text* в нём содержит текст комментария, а *toxic* — целевой признак."
      ]
    },
    {
      "cell_type": "markdown",
      "metadata": {
        "id": "dzplXXLRSb9h"
      },
      "source": [
        "## Подготовка"
      ]
    },
    {
      "cell_type": "code",
      "execution_count": null,
      "metadata": {
        "id": "2-RDaoxFSSy6"
      },
      "outputs": [],
      "source": [
        "import numpy as np\n",
        "import pandas as pd\n",
        "import torch\n",
        "import transformers\n",
        "from tqdm import notebook\n",
        "from transformers import AutoTokenizer, AutoModelForSequenceClassification, BertTokenizer, BertModel\n",
        "from sklearn.linear_model import LogisticRegression\n",
        "from sklearn.ensemble import RandomForestClassifier\n",
        "from sklearn.tree import DecisionTreeClassifier\n",
        "from sklearn.metrics import f1_score\n",
        "from sklearn.model_selection import train_test_split, GridSearchCV"
      ]
    },
    {
      "cell_type": "code",
      "execution_count": null,
      "metadata": {
        "id": "RhH0FJLcS7ot"
      },
      "outputs": [],
      "source": [
        "df = pd.read_csv('/datasets/toxic_comments.csv')"
      ]
    },
    {
      "cell_type": "code",
      "execution_count": null,
      "metadata": {
        "colab": {
          "base_uri": "https://localhost:8080/",
          "height": 537
        },
        "id": "vaVjmLt-TVGO",
        "outputId": "a39b26c7-cf95-4403-9338-28d561b51b85"
      },
      "outputs": [
        {
          "name": "stdout",
          "output_type": "stream",
          "text": [
            "<class 'pandas.core.frame.DataFrame'>\n",
            "RangeIndex: 159292 entries, 0 to 159291\n",
            "Data columns (total 3 columns):\n",
            " #   Column      Non-Null Count   Dtype \n",
            "---  ------      --------------   ----- \n",
            " 0   Unnamed: 0  159292 non-null  int64 \n",
            " 1   text        159292 non-null  object\n",
            " 2   toxic       159292 non-null  int64 \n",
            "dtypes: int64(2), object(1)\n",
            "memory usage: 3.6+ MB\n"
          ]
        },
        {
          "data": {
            "text/html": [
              "<div>\n",
              "<style scoped>\n",
              "    .dataframe tbody tr th:only-of-type {\n",
              "        vertical-align: middle;\n",
              "    }\n",
              "\n",
              "    .dataframe tbody tr th {\n",
              "        vertical-align: top;\n",
              "    }\n",
              "\n",
              "    .dataframe thead th {\n",
              "        text-align: right;\n",
              "    }\n",
              "</style>\n",
              "<table border=\"1\" class=\"dataframe\">\n",
              "  <thead>\n",
              "    <tr style=\"text-align: right;\">\n",
              "      <th></th>\n",
              "      <th>Unnamed: 0</th>\n",
              "      <th>text</th>\n",
              "      <th>toxic</th>\n",
              "    </tr>\n",
              "  </thead>\n",
              "  <tbody>\n",
              "    <tr>\n",
              "      <th>0</th>\n",
              "      <td>0</td>\n",
              "      <td>Explanation\\nWhy the edits made under my usern...</td>\n",
              "      <td>0</td>\n",
              "    </tr>\n",
              "    <tr>\n",
              "      <th>1</th>\n",
              "      <td>1</td>\n",
              "      <td>D'aww! He matches this background colour I'm s...</td>\n",
              "      <td>0</td>\n",
              "    </tr>\n",
              "    <tr>\n",
              "      <th>2</th>\n",
              "      <td>2</td>\n",
              "      <td>Hey man, I'm really not trying to edit war. It...</td>\n",
              "      <td>0</td>\n",
              "    </tr>\n",
              "    <tr>\n",
              "      <th>3</th>\n",
              "      <td>3</td>\n",
              "      <td>\"\\nMore\\nI can't make any real suggestions on ...</td>\n",
              "      <td>0</td>\n",
              "    </tr>\n",
              "    <tr>\n",
              "      <th>4</th>\n",
              "      <td>4</td>\n",
              "      <td>You, sir, are my hero. Any chance you remember...</td>\n",
              "      <td>0</td>\n",
              "    </tr>\n",
              "    <tr>\n",
              "      <th>5</th>\n",
              "      <td>5</td>\n",
              "      <td>\"\\n\\nCongratulations from me as well, use the ...</td>\n",
              "      <td>0</td>\n",
              "    </tr>\n",
              "    <tr>\n",
              "      <th>6</th>\n",
              "      <td>6</td>\n",
              "      <td>COCKSUCKER BEFORE YOU PISS AROUND ON MY WORK</td>\n",
              "      <td>1</td>\n",
              "    </tr>\n",
              "    <tr>\n",
              "      <th>7</th>\n",
              "      <td>7</td>\n",
              "      <td>Your vandalism to the Matt Shirvington article...</td>\n",
              "      <td>0</td>\n",
              "    </tr>\n",
              "    <tr>\n",
              "      <th>8</th>\n",
              "      <td>8</td>\n",
              "      <td>Sorry if the word 'nonsense' was offensive to ...</td>\n",
              "      <td>0</td>\n",
              "    </tr>\n",
              "    <tr>\n",
              "      <th>9</th>\n",
              "      <td>9</td>\n",
              "      <td>alignment on this subject and which are contra...</td>\n",
              "      <td>0</td>\n",
              "    </tr>\n",
              "  </tbody>\n",
              "</table>\n",
              "</div>"
            ],
            "text/plain": [
              "   Unnamed: 0                                               text  toxic\n",
              "0           0  Explanation\\nWhy the edits made under my usern...      0\n",
              "1           1  D'aww! He matches this background colour I'm s...      0\n",
              "2           2  Hey man, I'm really not trying to edit war. It...      0\n",
              "3           3  \"\\nMore\\nI can't make any real suggestions on ...      0\n",
              "4           4  You, sir, are my hero. Any chance you remember...      0\n",
              "5           5  \"\\n\\nCongratulations from me as well, use the ...      0\n",
              "6           6       COCKSUCKER BEFORE YOU PISS AROUND ON MY WORK      1\n",
              "7           7  Your vandalism to the Matt Shirvington article...      0\n",
              "8           8  Sorry if the word 'nonsense' was offensive to ...      0\n",
              "9           9  alignment on this subject and which are contra...      0"
            ]
          },
          "execution_count": 3,
          "metadata": {},
          "output_type": "execute_result"
        }
      ],
      "source": [
        "df.info()\n",
        "df.head(10)"
      ]
    },
    {
      "cell_type": "markdown",
      "metadata": {
        "id": "f2Pp_llBVlcF"
      },
      "source": [
        "Датафрейм содержит 159292 строк, пропуски в которых отсутствуют. Столбец `Unnamed: 0`, очевидно, является лишним и дублирует интедксы, избавимся от него. Столбец `toxic` содержит только 0 и 1, для оптимизации памяти изменим тип данных на 8-ми разрядный."
      ]
    },
    {
      "cell_type": "code",
      "execution_count": null,
      "metadata": {
        "id": "kiLv9txmVkUM"
      },
      "outputs": [],
      "source": [
        "df = df.drop('Unnamed: 0', axis=1)"
      ]
    },
    {
      "cell_type": "code",
      "execution_count": null,
      "metadata": {
        "id": "H6h6K6h-Utd7"
      },
      "outputs": [],
      "source": [
        "df['toxic'] = df['toxic'].astype('int8')"
      ]
    },
    {
      "cell_type": "markdown",
      "metadata": {
        "id": "dQhWibJNTCJh"
      },
      "source": [
        "Bert воспринимает максимум 512 фичей на вход, выберем текст длиной не более 512 символов."
      ]
    },
    {
      "cell_type": "code",
      "execution_count": null,
      "metadata": {
        "id": "XhxoCSmKTVjT"
      },
      "outputs": [],
      "source": [
        "df['length']=df['text'].str.len()\n",
        "df = df[df['length']<=512]"
      ]
    },
    {
      "cell_type": "code",
      "execution_count": null,
      "metadata": {
        "id": "c_nmzSiQTxD6"
      },
      "outputs": [],
      "source": [
        "df = df.drop('length', axis=1)"
      ]
    },
    {
      "cell_type": "markdown",
      "metadata": {
        "id": "uNDA-azLdTaD"
      },
      "source": [
        "Для ускорения работы возьмем выборку из 1000 комментариев."
      ]
    },
    {
      "cell_type": "code",
      "execution_count": null,
      "metadata": {
        "id": "GXYHhzBGddgz"
      },
      "outputs": [],
      "source": [
        "df = df.sample(1000, random_state=99).reset_index(drop=True)"
      ]
    },
    {
      "cell_type": "code",
      "execution_count": null,
      "metadata": {
        "colab": {
          "base_uri": "https://localhost:8080/",
          "height": 519
        },
        "id": "OpZZVh3JWZGp",
        "outputId": "8a73a30d-79d7-4a3e-d080-06b492950af0"
      },
      "outputs": [
        {
          "name": "stdout",
          "output_type": "stream",
          "text": [
            "<class 'pandas.core.frame.DataFrame'>\n",
            "RangeIndex: 1000 entries, 0 to 999\n",
            "Data columns (total 2 columns):\n",
            " #   Column  Non-Null Count  Dtype \n",
            "---  ------  --------------  ----- \n",
            " 0   text    1000 non-null   object\n",
            " 1   toxic   1000 non-null   int8  \n",
            "dtypes: int8(1), object(1)\n",
            "memory usage: 8.9+ KB\n"
          ]
        },
        {
          "data": {
            "text/html": [
              "<div>\n",
              "<style scoped>\n",
              "    .dataframe tbody tr th:only-of-type {\n",
              "        vertical-align: middle;\n",
              "    }\n",
              "\n",
              "    .dataframe tbody tr th {\n",
              "        vertical-align: top;\n",
              "    }\n",
              "\n",
              "    .dataframe thead th {\n",
              "        text-align: right;\n",
              "    }\n",
              "</style>\n",
              "<table border=\"1\" class=\"dataframe\">\n",
              "  <thead>\n",
              "    <tr style=\"text-align: right;\">\n",
              "      <th></th>\n",
              "      <th>text</th>\n",
              "      <th>toxic</th>\n",
              "    </tr>\n",
              "  </thead>\n",
              "  <tbody>\n",
              "    <tr>\n",
              "      <th>0</th>\n",
              "      <td>GA Review\\n:This review is transcluded from Ta...</td>\n",
              "      <td>0</td>\n",
              "    </tr>\n",
              "    <tr>\n",
              "      <th>1</th>\n",
              "      <td>Lns and Logs\\nHi. I'm a PhD student doing comp...</td>\n",
              "      <td>0</td>\n",
              "    </tr>\n",
              "    <tr>\n",
              "      <th>2</th>\n",
              "      <td>Don't revert my Stoufville edits \\n\\nYou're an...</td>\n",
              "      <td>1</td>\n",
              "    </tr>\n",
              "    <tr>\n",
              "      <th>3</th>\n",
              "      <td>\"\\n You have been temporarily blocked from edi...</td>\n",
              "      <td>0</td>\n",
              "    </tr>\n",
              "    <tr>\n",
              "      <th>4</th>\n",
              "      <td>When was Tex Beneke's version recorded?</td>\n",
              "      <td>0</td>\n",
              "    </tr>\n",
              "    <tr>\n",
              "      <th>5</th>\n",
              "      <td>See: (hovah Strong's 1943 ruin mischief)</td>\n",
              "      <td>0</td>\n",
              "    </tr>\n",
              "    <tr>\n",
              "      <th>6</th>\n",
              "      <td>u suck!!!! \\n\\nWUTS YOUR PROBLEM U NERD. I JUS...</td>\n",
              "      <td>1</td>\n",
              "    </tr>\n",
              "    <tr>\n",
              "      <th>7</th>\n",
              "      <td>a human being. Understand the weakness that re...</td>\n",
              "      <td>0</td>\n",
              "    </tr>\n",
              "    <tr>\n",
              "      <th>8</th>\n",
              "      <td>\"\\n I have no objection to adding the picture....</td>\n",
              "      <td>0</td>\n",
              "    </tr>\n",
              "    <tr>\n",
              "      <th>9</th>\n",
              "      <td>I suggest you give the same message to Rrius. ...</td>\n",
              "      <td>0</td>\n",
              "    </tr>\n",
              "  </tbody>\n",
              "</table>\n",
              "</div>"
            ],
            "text/plain": [
              "                                                text  toxic\n",
              "0  GA Review\\n:This review is transcluded from Ta...      0\n",
              "1  Lns and Logs\\nHi. I'm a PhD student doing comp...      0\n",
              "2  Don't revert my Stoufville edits \\n\\nYou're an...      1\n",
              "3  \"\\n You have been temporarily blocked from edi...      0\n",
              "4            When was Tex Beneke's version recorded?      0\n",
              "5           See: (hovah Strong's 1943 ruin mischief)      0\n",
              "6  u suck!!!! \\n\\nWUTS YOUR PROBLEM U NERD. I JUS...      1\n",
              "7  a human being. Understand the weakness that re...      0\n",
              "8  \"\\n I have no objection to adding the picture....      0\n",
              "9  I suggest you give the same message to Rrius. ...      0"
            ]
          },
          "execution_count": 12,
          "metadata": {},
          "output_type": "execute_result"
        }
      ],
      "source": [
        "df.info()\n",
        "df.head(10)"
      ]
    },
    {
      "cell_type": "markdown",
      "metadata": {
        "id": "72mfPowVWgRz"
      },
      "source": [
        "В результате получили набор данных, с которым будем работать далее, состоящий из 126349 строк и двух столбцов. Приведенные выше действия позволили сократить объем памяти, занимаемый данными, практически втрое."
      ]
    },
    {
      "cell_type": "markdown",
      "metadata": {
        "id": "0uNuZKefXotf"
      },
      "source": [
        "Инициализируем предтренированные токенизатор и модель."
      ]
    },
    {
      "cell_type": "code",
      "execution_count": null,
      "metadata": {
        "id": "mDn_ROunQu2g"
      },
      "outputs": [],
      "source": [
        "tokenizer = AutoTokenizer.from_pretrained(\"unitary/toxic-bert\")\n",
        "model = AutoModelForSequenceClassification.from_pretrained(\"unitary/toxic-bert\")"
      ]
    },
    {
      "cell_type": "markdown",
      "metadata": {
        "id": "C-_x_cYDQh1E"
      },
      "source": [
        "После чего закодируем наш текст с помощью токенизатора,  приведем длину текстов в корпусе к единой(максимальной из всех имеющихся в наборе) длине."
      ]
    },
    {
      "cell_type": "code",
      "execution_count": null,
      "metadata": {
        "id": "uC9MjOE-WbB7"
      },
      "outputs": [],
      "source": [
        "tokenized = df['text'].apply(\n",
        "    lambda x: tokenizer.encode(x, add_special_tokens=True, truncation=True))\n",
        "\n",
        "max_len = 0\n",
        "for i in tokenized.values:\n",
        "    if len(i) > max_len:\n",
        "        max_len = len(i)\n",
        "\n",
        "padded = np.array([i + [0]*(max_len - len(i)) for i in tokenized.values])\n",
        "\n",
        "# если длина текста меньше максимальной, дозаполним ее до конца длины нулями\n",
        "attention_mask = np.where(padded != 0, 1, 0)"
      ]
    },
    {
      "cell_type": "markdown",
      "metadata": {
        "id": "HbnNCVvzeHID"
      },
      "source": [
        "Сгенерируем эмбеддинги."
      ]
    },
    {
      "cell_type": "code",
      "execution_count": null,
      "metadata": {
        "colab": {
          "base_uri": "https://localhost:8080/",
          "height": 49,
          "referenced_widgets": [
            "5d795064520f4b48899fa72442d3029b",
            "bd56a2cc55d44f56a59b8d3fc24cb19d",
            "5a2efc3a2a2f4fe0aad0c152461cad61",
            "347fad256630436cb0c2901a0bb3ea40",
            "01e00cde08ef492e8f1c0d05b5c33929",
            "28a86bc1ad7a448cbe3d273196764be0",
            "4c97b2d11cca4164af874f025dd85e51",
            "380ce241a516418898d1d6d89d9c37b7",
            "1868be3a28ae4fed8698c8f86ff13708",
            "5650581e7988492395452fdc138b912d",
            "db3526f5b120485e90dee7f1bf3f0472",
            "dc0619c1df77432795d827c49566b492"
          ]
        },
        "id": "s7SjcF6bIniv",
        "outputId": "80cba693-fe3d-4ef1-a2f0-5d36c224bb7e"
      },
      "outputs": [
        {
          "data": {
            "application/vnd.jupyter.widget-view+json": {
              "model_id": "dc0619c1df77432795d827c49566b492",
              "version_major": 2,
              "version_minor": 0
            },
            "text/plain": [
              "  0%|          | 0/10 [00:00<?, ?it/s]"
            ]
          },
          "metadata": {},
          "output_type": "display_data"
        }
      ],
      "source": [
        "batch_size = 100\n",
        "embeddings = []\n",
        "for i in notebook.tqdm(range(padded.shape[0] // batch_size)):\n",
        "        batch = torch.LongTensor(padded[batch_size*i:batch_size*(i+1)])\n",
        "        attention_mask_batch = torch.LongTensor(attention_mask[batch_size*i:batch_size*(i+1)])\n",
        "\n",
        "        with torch.no_grad():\n",
        "            batch_embeddings = model(batch, attention_mask=attention_mask_batch)\n",
        "\n",
        "        embeddings.append(batch_embeddings[0][:,0].numpy())"
      ]
    },
    {
      "cell_type": "markdown",
      "metadata": {
        "id": "VwUw0XeSeM2z"
      },
      "source": [
        "Склеим эмбеддинги, тем самым создав обучающие признаки, и зададим целевой признак"
      ]
    },
    {
      "cell_type": "code",
      "execution_count": null,
      "metadata": {
        "id": "2usnTl2Ddvjt"
      },
      "outputs": [],
      "source": [
        "features = np.concatenate(embeddings).reshape(-1, 1)\n",
        "target = df['toxic']"
      ]
    },
    {
      "cell_type": "markdown",
      "metadata": {
        "id": "aje0QWQSeZdy"
      },
      "source": [
        "Разобьем данные на обучающие и тестовые."
      ]
    },
    {
      "cell_type": "code",
      "execution_count": null,
      "metadata": {
        "id": "KBQlCwImQM60"
      },
      "outputs": [],
      "source": [
        "features_train, features_test, target_train, target_test = train_test_split(features, target, test_size=0.25, random_state=99)"
      ]
    },
    {
      "cell_type": "markdown",
      "metadata": {
        "id": "Ii1PhnHeegan"
      },
      "source": [
        "Подготовка данных окончена, далее можем перейти к подбору гиперпараметров и обучению моделей."
      ]
    },
    {
      "cell_type": "markdown",
      "metadata": {
        "id": "53i9sjvYerKA"
      },
      "source": [
        "## Обучение"
      ]
    },
    {
      "cell_type": "code",
      "execution_count": null,
      "metadata": {
        "id": "2SVgwBMAf9C8"
      },
      "outputs": [],
      "source": [
        "# соберем результаты работы моделей в один список\n",
        "f1_scores = []"
      ]
    },
    {
      "cell_type": "markdown",
      "metadata": {
        "id": "Fb9W1WeGf_a0"
      },
      "source": [
        "### DecisionTree"
      ]
    },
    {
      "cell_type": "code",
      "execution_count": null,
      "metadata": {
        "id": "-PThgY8kd5W3"
      },
      "outputs": [],
      "source": [
        "tree = DecisionTreeClassifier(random_state=99)"
      ]
    },
    {
      "cell_type": "code",
      "execution_count": null,
      "metadata": {
        "id": "XMw8HhuTfmmi"
      },
      "outputs": [],
      "source": [
        "tree_params = {'max_depth': range(7, 15)}"
      ]
    },
    {
      "cell_type": "code",
      "execution_count": null,
      "metadata": {
        "id": "2lQtqEwlfn1z"
      },
      "outputs": [],
      "source": [
        "gsc_tree = GridSearchCV(tree, tree_params, scoring='f1', n_jobs=-1, cv=5)"
      ]
    },
    {
      "cell_type": "code",
      "execution_count": null,
      "metadata": {
        "colab": {
          "base_uri": "https://localhost:8080/",
          "height": 118
        },
        "id": "G6994mb5frF-",
        "outputId": "1ab309c7-fb50-47b5-b3ea-397591978ba7"
      },
      "outputs": [
        {
          "data": {
            "text/plain": [
              "GridSearchCV(cv=5, estimator=DecisionTreeClassifier(random_state=99), n_jobs=-1,\n",
              "             param_grid={'max_depth': range(7, 15)}, scoring='f1')"
            ]
          },
          "execution_count": 22,
          "metadata": {},
          "output_type": "execute_result"
        }
      ],
      "source": [
        "gsc_tree.fit(features_train, target_train)"
      ]
    },
    {
      "cell_type": "code",
      "execution_count": null,
      "metadata": {
        "colab": {
          "base_uri": "https://localhost:8080/"
        },
        "id": "BrJusLhtfvbu",
        "outputId": "527a603c-320e-4f69-fd67-3226888b0a75"
      },
      "outputs": [
        {
          "data": {
            "text/plain": [
              "{'max_depth': 7}"
            ]
          },
          "execution_count": 23,
          "metadata": {},
          "output_type": "execute_result"
        }
      ],
      "source": [
        "gsc_tree.best_params_"
      ]
    },
    {
      "cell_type": "code",
      "execution_count": null,
      "metadata": {
        "id": "P8GlDc7tfySr"
      },
      "outputs": [],
      "source": [
        "f1_scores.append(gsc_tree.best_score_)"
      ]
    },
    {
      "cell_type": "markdown",
      "metadata": {
        "id": "Fj6YeLiOgFKn"
      },
      "source": [
        "### RandomForest"
      ]
    },
    {
      "cell_type": "code",
      "execution_count": null,
      "metadata": {
        "id": "tFNwSRFRfzyf"
      },
      "outputs": [],
      "source": [
        "forest = RandomForestClassifier(random_state=99)"
      ]
    },
    {
      "cell_type": "code",
      "execution_count": null,
      "metadata": {
        "id": "i8k7QG90gJXN"
      },
      "outputs": [],
      "source": [
        "forest_params =({'max_depth':range(2, 6),\n",
        "            'n_estimators':range(100, 200, 20),\n",
        "             })"
      ]
    },
    {
      "cell_type": "code",
      "execution_count": null,
      "metadata": {
        "id": "RFFeYutKgKrX"
      },
      "outputs": [],
      "source": [
        "gsc_forest = GridSearchCV(forest, forest_params, scoring='f1', n_jobs=-1, cv=5)"
      ]
    },
    {
      "cell_type": "code",
      "execution_count": null,
      "metadata": {
        "colab": {
          "base_uri": "https://localhost:8080/",
          "height": 118
        },
        "id": "KxaoJTfAgMHC",
        "outputId": "af6927f2-30a2-49b7-8c94-22d09eb2440d"
      },
      "outputs": [
        {
          "data": {
            "text/plain": [
              "GridSearchCV(cv=5, estimator=RandomForestClassifier(random_state=99), n_jobs=-1,\n",
              "             param_grid={'max_depth': range(2, 6),\n",
              "                         'n_estimators': range(100, 200, 20)},\n",
              "             scoring='f1')"
            ]
          },
          "execution_count": 28,
          "metadata": {},
          "output_type": "execute_result"
        }
      ],
      "source": [
        "gsc_forest.fit(features_train, target_train)"
      ]
    },
    {
      "cell_type": "code",
      "execution_count": null,
      "metadata": {
        "colab": {
          "base_uri": "https://localhost:8080/"
        },
        "id": "4HZFX-UogO51",
        "outputId": "321ea304-7602-4c04-cc5f-400b6298e1b8"
      },
      "outputs": [
        {
          "data": {
            "text/plain": [
              "{'max_depth': 2, 'n_estimators': 100}"
            ]
          },
          "execution_count": 29,
          "metadata": {},
          "output_type": "execute_result"
        }
      ],
      "source": [
        "gsc_forest.best_params_"
      ]
    },
    {
      "cell_type": "code",
      "execution_count": null,
      "metadata": {
        "id": "7nl2nLk2gQOg"
      },
      "outputs": [],
      "source": [
        "f1_scores.append(gsc_forest.best_score_)"
      ]
    },
    {
      "cell_type": "markdown",
      "metadata": {
        "id": "QYW3tjzXgSih"
      },
      "source": [
        "### LogisticRegression"
      ]
    },
    {
      "cell_type": "code",
      "execution_count": null,
      "metadata": {
        "id": "D7F0pNlwgRi7"
      },
      "outputs": [],
      "source": [
        "linear = LogisticRegression(random_state=99)"
      ]
    },
    {
      "cell_type": "code",
      "execution_count": null,
      "metadata": {
        "id": "7s_x6PJUgb3k"
      },
      "outputs": [],
      "source": [
        "linear_params =({'penalty':['l1', 'l2', 'elasticnet'],\n",
        "            'C':[0.1, 0.5, 1],\n",
        "            'solver':['lbfgs', 'liblinear', 'newton-cg']\n",
        "             })"
      ]
    },
    {
      "cell_type": "code",
      "execution_count": null,
      "metadata": {
        "id": "JYpOnbFGhKnX"
      },
      "outputs": [],
      "source": [
        "gsc_linear = GridSearchCV(linear, linear_params, scoring='f1', n_jobs=-1, cv=5)"
      ]
    },
    {
      "cell_type": "code",
      "execution_count": null,
      "metadata": {
        "colab": {
          "base_uri": "https://localhost:8080/",
          "height": 1000
        },
        "id": "iB1tkrwghWA_",
        "outputId": "929b8dd5-fdfc-45e6-adc5-ea6859c371e9"
      },
      "outputs": [
        {
          "name": "stderr",
          "output_type": "stream",
          "text": [
            "/opt/conda/lib/python3.9/site-packages/sklearn/model_selection/_validation.py:610: FitFailedWarning: Estimator fit failed. The score on this train-test partition for these parameters will be set to nan. Details: \n",
            "Traceback (most recent call last):\n",
            "  File \"/opt/conda/lib/python3.9/site-packages/sklearn/model_selection/_validation.py\", line 593, in _fit_and_score\n",
            "    estimator.fit(X_train, y_train, **fit_params)\n",
            "  File \"/opt/conda/lib/python3.9/site-packages/sklearn/linear_model/_logistic.py\", line 1306, in fit\n",
            "    solver = _check_solver(self.solver, self.penalty, self.dual)\n",
            "  File \"/opt/conda/lib/python3.9/site-packages/sklearn/linear_model/_logistic.py\", line 443, in _check_solver\n",
            "    raise ValueError(\"Solver %s supports only 'l2' or 'none' penalties, \"\n",
            "ValueError: Solver lbfgs supports only 'l2' or 'none' penalties, got l1 penalty.\n",
            "\n",
            "  warnings.warn(\"Estimator fit failed. The score on this train-test\"\n",
            "/opt/conda/lib/python3.9/site-packages/sklearn/model_selection/_validation.py:610: FitFailedWarning: Estimator fit failed. The score on this train-test partition for these parameters will be set to nan. Details: \n",
            "Traceback (most recent call last):\n",
            "  File \"/opt/conda/lib/python3.9/site-packages/sklearn/model_selection/_validation.py\", line 593, in _fit_and_score\n",
            "    estimator.fit(X_train, y_train, **fit_params)\n",
            "  File \"/opt/conda/lib/python3.9/site-packages/sklearn/linear_model/_logistic.py\", line 1306, in fit\n",
            "    solver = _check_solver(self.solver, self.penalty, self.dual)\n",
            "  File \"/opt/conda/lib/python3.9/site-packages/sklearn/linear_model/_logistic.py\", line 443, in _check_solver\n",
            "    raise ValueError(\"Solver %s supports only 'l2' or 'none' penalties, \"\n",
            "ValueError: Solver lbfgs supports only 'l2' or 'none' penalties, got l1 penalty.\n",
            "\n",
            "  warnings.warn(\"Estimator fit failed. The score on this train-test\"\n",
            "/opt/conda/lib/python3.9/site-packages/sklearn/model_selection/_validation.py:610: FitFailedWarning: Estimator fit failed. The score on this train-test partition for these parameters will be set to nan. Details: \n",
            "Traceback (most recent call last):\n",
            "  File \"/opt/conda/lib/python3.9/site-packages/sklearn/model_selection/_validation.py\", line 593, in _fit_and_score\n",
            "    estimator.fit(X_train, y_train, **fit_params)\n",
            "  File \"/opt/conda/lib/python3.9/site-packages/sklearn/linear_model/_logistic.py\", line 1306, in fit\n",
            "    solver = _check_solver(self.solver, self.penalty, self.dual)\n",
            "  File \"/opt/conda/lib/python3.9/site-packages/sklearn/linear_model/_logistic.py\", line 443, in _check_solver\n",
            "    raise ValueError(\"Solver %s supports only 'l2' or 'none' penalties, \"\n",
            "ValueError: Solver lbfgs supports only 'l2' or 'none' penalties, got l1 penalty.\n",
            "\n",
            "  warnings.warn(\"Estimator fit failed. The score on this train-test\"\n",
            "/opt/conda/lib/python3.9/site-packages/sklearn/model_selection/_validation.py:610: FitFailedWarning: Estimator fit failed. The score on this train-test partition for these parameters will be set to nan. Details: \n",
            "Traceback (most recent call last):\n",
            "  File \"/opt/conda/lib/python3.9/site-packages/sklearn/model_selection/_validation.py\", line 593, in _fit_and_score\n",
            "    estimator.fit(X_train, y_train, **fit_params)\n",
            "  File \"/opt/conda/lib/python3.9/site-packages/sklearn/linear_model/_logistic.py\", line 1306, in fit\n",
            "    solver = _check_solver(self.solver, self.penalty, self.dual)\n",
            "  File \"/opt/conda/lib/python3.9/site-packages/sklearn/linear_model/_logistic.py\", line 443, in _check_solver\n",
            "    raise ValueError(\"Solver %s supports only 'l2' or 'none' penalties, \"\n",
            "ValueError: Solver lbfgs supports only 'l2' or 'none' penalties, got l1 penalty.\n",
            "\n",
            "  warnings.warn(\"Estimator fit failed. The score on this train-test\"\n",
            "/opt/conda/lib/python3.9/site-packages/sklearn/model_selection/_validation.py:610: FitFailedWarning: Estimator fit failed. The score on this train-test partition for these parameters will be set to nan. Details: \n",
            "Traceback (most recent call last):\n",
            "  File \"/opt/conda/lib/python3.9/site-packages/sklearn/model_selection/_validation.py\", line 593, in _fit_and_score\n",
            "    estimator.fit(X_train, y_train, **fit_params)\n",
            "  File \"/opt/conda/lib/python3.9/site-packages/sklearn/linear_model/_logistic.py\", line 1306, in fit\n",
            "    solver = _check_solver(self.solver, self.penalty, self.dual)\n",
            "  File \"/opt/conda/lib/python3.9/site-packages/sklearn/linear_model/_logistic.py\", line 443, in _check_solver\n",
            "    raise ValueError(\"Solver %s supports only 'l2' or 'none' penalties, \"\n",
            "ValueError: Solver lbfgs supports only 'l2' or 'none' penalties, got l1 penalty.\n",
            "\n",
            "  warnings.warn(\"Estimator fit failed. The score on this train-test\"\n",
            "/opt/conda/lib/python3.9/site-packages/sklearn/model_selection/_validation.py:610: FitFailedWarning: Estimator fit failed. The score on this train-test partition for these parameters will be set to nan. Details: \n",
            "Traceback (most recent call last):\n",
            "  File \"/opt/conda/lib/python3.9/site-packages/sklearn/model_selection/_validation.py\", line 593, in _fit_and_score\n",
            "    estimator.fit(X_train, y_train, **fit_params)\n",
            "  File \"/opt/conda/lib/python3.9/site-packages/sklearn/linear_model/_logistic.py\", line 1306, in fit\n",
            "    solver = _check_solver(self.solver, self.penalty, self.dual)\n",
            "  File \"/opt/conda/lib/python3.9/site-packages/sklearn/linear_model/_logistic.py\", line 443, in _check_solver\n",
            "    raise ValueError(\"Solver %s supports only 'l2' or 'none' penalties, \"\n",
            "ValueError: Solver newton-cg supports only 'l2' or 'none' penalties, got l1 penalty.\n",
            "\n",
            "  warnings.warn(\"Estimator fit failed. The score on this train-test\"\n",
            "/opt/conda/lib/python3.9/site-packages/sklearn/model_selection/_validation.py:610: FitFailedWarning: Estimator fit failed. The score on this train-test partition for these parameters will be set to nan. Details: \n",
            "Traceback (most recent call last):\n",
            "  File \"/opt/conda/lib/python3.9/site-packages/sklearn/model_selection/_validation.py\", line 593, in _fit_and_score\n",
            "    estimator.fit(X_train, y_train, **fit_params)\n",
            "  File \"/opt/conda/lib/python3.9/site-packages/sklearn/linear_model/_logistic.py\", line 1306, in fit\n",
            "    solver = _check_solver(self.solver, self.penalty, self.dual)\n",
            "  File \"/opt/conda/lib/python3.9/site-packages/sklearn/linear_model/_logistic.py\", line 443, in _check_solver\n",
            "    raise ValueError(\"Solver %s supports only 'l2' or 'none' penalties, \"\n",
            "ValueError: Solver newton-cg supports only 'l2' or 'none' penalties, got l1 penalty.\n",
            "\n",
            "  warnings.warn(\"Estimator fit failed. The score on this train-test\"\n",
            "/opt/conda/lib/python3.9/site-packages/sklearn/model_selection/_validation.py:610: FitFailedWarning: Estimator fit failed. The score on this train-test partition for these parameters will be set to nan. Details: \n",
            "Traceback (most recent call last):\n",
            "  File \"/opt/conda/lib/python3.9/site-packages/sklearn/model_selection/_validation.py\", line 593, in _fit_and_score\n",
            "    estimator.fit(X_train, y_train, **fit_params)\n",
            "  File \"/opt/conda/lib/python3.9/site-packages/sklearn/linear_model/_logistic.py\", line 1306, in fit\n",
            "    solver = _check_solver(self.solver, self.penalty, self.dual)\n",
            "  File \"/opt/conda/lib/python3.9/site-packages/sklearn/linear_model/_logistic.py\", line 443, in _check_solver\n",
            "    raise ValueError(\"Solver %s supports only 'l2' or 'none' penalties, \"\n",
            "ValueError: Solver newton-cg supports only 'l2' or 'none' penalties, got l1 penalty.\n",
            "\n",
            "  warnings.warn(\"Estimator fit failed. The score on this train-test\"\n",
            "/opt/conda/lib/python3.9/site-packages/sklearn/model_selection/_validation.py:610: FitFailedWarning: Estimator fit failed. The score on this train-test partition for these parameters will be set to nan. Details: \n",
            "Traceback (most recent call last):\n",
            "  File \"/opt/conda/lib/python3.9/site-packages/sklearn/model_selection/_validation.py\", line 593, in _fit_and_score\n",
            "    estimator.fit(X_train, y_train, **fit_params)\n",
            "  File \"/opt/conda/lib/python3.9/site-packages/sklearn/linear_model/_logistic.py\", line 1306, in fit\n",
            "    solver = _check_solver(self.solver, self.penalty, self.dual)\n",
            "  File \"/opt/conda/lib/python3.9/site-packages/sklearn/linear_model/_logistic.py\", line 443, in _check_solver\n",
            "    raise ValueError(\"Solver %s supports only 'l2' or 'none' penalties, \"\n",
            "ValueError: Solver newton-cg supports only 'l2' or 'none' penalties, got l1 penalty.\n",
            "\n",
            "  warnings.warn(\"Estimator fit failed. The score on this train-test\"\n",
            "/opt/conda/lib/python3.9/site-packages/sklearn/model_selection/_validation.py:610: FitFailedWarning: Estimator fit failed. The score on this train-test partition for these parameters will be set to nan. Details: \n",
            "Traceback (most recent call last):\n",
            "  File \"/opt/conda/lib/python3.9/site-packages/sklearn/model_selection/_validation.py\", line 593, in _fit_and_score\n",
            "    estimator.fit(X_train, y_train, **fit_params)\n",
            "  File \"/opt/conda/lib/python3.9/site-packages/sklearn/linear_model/_logistic.py\", line 1306, in fit\n",
            "    solver = _check_solver(self.solver, self.penalty, self.dual)\n",
            "  File \"/opt/conda/lib/python3.9/site-packages/sklearn/linear_model/_logistic.py\", line 443, in _check_solver\n",
            "    raise ValueError(\"Solver %s supports only 'l2' or 'none' penalties, \"\n",
            "ValueError: Solver newton-cg supports only 'l2' or 'none' penalties, got l1 penalty.\n",
            "\n",
            "  warnings.warn(\"Estimator fit failed. The score on this train-test\"\n",
            "/opt/conda/lib/python3.9/site-packages/scipy/optimize/_linesearch.py:305: LineSearchWarning: The line search algorithm did not converge\n",
            "  warn('The line search algorithm did not converge', LineSearchWarning)\n",
            "/opt/conda/lib/python3.9/site-packages/sklearn/utils/optimize.py:195: UserWarning: Line Search failed\n",
            "  warnings.warn('Line Search failed')\n",
            "/opt/conda/lib/python3.9/site-packages/sklearn/model_selection/_validation.py:610: FitFailedWarning: Estimator fit failed. The score on this train-test partition for these parameters will be set to nan. Details: \n",
            "Traceback (most recent call last):\n",
            "  File \"/opt/conda/lib/python3.9/site-packages/sklearn/model_selection/_validation.py\", line 593, in _fit_and_score\n",
            "    estimator.fit(X_train, y_train, **fit_params)\n",
            "  File \"/opt/conda/lib/python3.9/site-packages/sklearn/linear_model/_logistic.py\", line 1306, in fit\n",
            "    solver = _check_solver(self.solver, self.penalty, self.dual)\n",
            "  File \"/opt/conda/lib/python3.9/site-packages/sklearn/linear_model/_logistic.py\", line 443, in _check_solver\n",
            "    raise ValueError(\"Solver %s supports only 'l2' or 'none' penalties, \"\n",
            "ValueError: Solver lbfgs supports only 'l2' or 'none' penalties, got elasticnet penalty.\n",
            "\n",
            "  warnings.warn(\"Estimator fit failed. The score on this train-test\"\n",
            "/opt/conda/lib/python3.9/site-packages/sklearn/model_selection/_validation.py:610: FitFailedWarning: Estimator fit failed. The score on this train-test partition for these parameters will be set to nan. Details: \n",
            "Traceback (most recent call last):\n",
            "  File \"/opt/conda/lib/python3.9/site-packages/sklearn/model_selection/_validation.py\", line 593, in _fit_and_score\n",
            "    estimator.fit(X_train, y_train, **fit_params)\n",
            "  File \"/opt/conda/lib/python3.9/site-packages/sklearn/linear_model/_logistic.py\", line 1306, in fit\n",
            "    solver = _check_solver(self.solver, self.penalty, self.dual)\n",
            "  File \"/opt/conda/lib/python3.9/site-packages/sklearn/linear_model/_logistic.py\", line 443, in _check_solver\n",
            "    raise ValueError(\"Solver %s supports only 'l2' or 'none' penalties, \"\n",
            "ValueError: Solver lbfgs supports only 'l2' or 'none' penalties, got elasticnet penalty.\n",
            "\n",
            "  warnings.warn(\"Estimator fit failed. The score on this train-test\"\n",
            "/opt/conda/lib/python3.9/site-packages/sklearn/model_selection/_validation.py:610: FitFailedWarning: Estimator fit failed. The score on this train-test partition for these parameters will be set to nan. Details: \n",
            "Traceback (most recent call last):\n",
            "  File \"/opt/conda/lib/python3.9/site-packages/sklearn/model_selection/_validation.py\", line 593, in _fit_and_score\n",
            "    estimator.fit(X_train, y_train, **fit_params)\n",
            "  File \"/opt/conda/lib/python3.9/site-packages/sklearn/linear_model/_logistic.py\", line 1306, in fit\n",
            "    solver = _check_solver(self.solver, self.penalty, self.dual)\n",
            "  File \"/opt/conda/lib/python3.9/site-packages/sklearn/linear_model/_logistic.py\", line 443, in _check_solver\n",
            "    raise ValueError(\"Solver %s supports only 'l2' or 'none' penalties, \"\n",
            "ValueError: Solver lbfgs supports only 'l2' or 'none' penalties, got elasticnet penalty.\n",
            "\n",
            "  warnings.warn(\"Estimator fit failed. The score on this train-test\"\n",
            "/opt/conda/lib/python3.9/site-packages/sklearn/model_selection/_validation.py:610: FitFailedWarning: Estimator fit failed. The score on this train-test partition for these parameters will be set to nan. Details: \n",
            "Traceback (most recent call last):\n",
            "  File \"/opt/conda/lib/python3.9/site-packages/sklearn/model_selection/_validation.py\", line 593, in _fit_and_score\n",
            "    estimator.fit(X_train, y_train, **fit_params)\n",
            "  File \"/opt/conda/lib/python3.9/site-packages/sklearn/linear_model/_logistic.py\", line 1306, in fit\n",
            "    solver = _check_solver(self.solver, self.penalty, self.dual)\n",
            "  File \"/opt/conda/lib/python3.9/site-packages/sklearn/linear_model/_logistic.py\", line 443, in _check_solver\n",
            "    raise ValueError(\"Solver %s supports only 'l2' or 'none' penalties, \"\n",
            "ValueError: Solver lbfgs supports only 'l2' or 'none' penalties, got elasticnet penalty.\n",
            "\n",
            "  warnings.warn(\"Estimator fit failed. The score on this train-test\"\n",
            "/opt/conda/lib/python3.9/site-packages/sklearn/model_selection/_validation.py:610: FitFailedWarning: Estimator fit failed. The score on this train-test partition for these parameters will be set to nan. Details: \n",
            "Traceback (most recent call last):\n",
            "  File \"/opt/conda/lib/python3.9/site-packages/sklearn/model_selection/_validation.py\", line 593, in _fit_and_score\n",
            "    estimator.fit(X_train, y_train, **fit_params)\n",
            "  File \"/opt/conda/lib/python3.9/site-packages/sklearn/linear_model/_logistic.py\", line 1306, in fit\n",
            "    solver = _check_solver(self.solver, self.penalty, self.dual)\n",
            "  File \"/opt/conda/lib/python3.9/site-packages/sklearn/linear_model/_logistic.py\", line 443, in _check_solver\n",
            "    raise ValueError(\"Solver %s supports only 'l2' or 'none' penalties, \"\n",
            "ValueError: Solver lbfgs supports only 'l2' or 'none' penalties, got elasticnet penalty.\n",
            "\n",
            "  warnings.warn(\"Estimator fit failed. The score on this train-test\"\n",
            "/opt/conda/lib/python3.9/site-packages/sklearn/model_selection/_validation.py:610: FitFailedWarning: Estimator fit failed. The score on this train-test partition for these parameters will be set to nan. Details: \n",
            "Traceback (most recent call last):\n",
            "  File \"/opt/conda/lib/python3.9/site-packages/sklearn/model_selection/_validation.py\", line 593, in _fit_and_score\n",
            "    estimator.fit(X_train, y_train, **fit_params)\n",
            "  File \"/opt/conda/lib/python3.9/site-packages/sklearn/linear_model/_logistic.py\", line 1306, in fit\n",
            "    solver = _check_solver(self.solver, self.penalty, self.dual)\n",
            "  File \"/opt/conda/lib/python3.9/site-packages/sklearn/linear_model/_logistic.py\", line 450, in _check_solver\n",
            "    raise ValueError(\"Only 'saga' solver supports elasticnet penalty,\"\n",
            "ValueError: Only 'saga' solver supports elasticnet penalty, got solver=liblinear.\n",
            "\n",
            "  warnings.warn(\"Estimator fit failed. The score on this train-test\"\n",
            "/opt/conda/lib/python3.9/site-packages/sklearn/model_selection/_validation.py:610: FitFailedWarning: Estimator fit failed. The score on this train-test partition for these parameters will be set to nan. Details: \n",
            "Traceback (most recent call last):\n",
            "  File \"/opt/conda/lib/python3.9/site-packages/sklearn/model_selection/_validation.py\", line 593, in _fit_and_score\n",
            "    estimator.fit(X_train, y_train, **fit_params)\n",
            "  File \"/opt/conda/lib/python3.9/site-packages/sklearn/linear_model/_logistic.py\", line 1306, in fit\n",
            "    solver = _check_solver(self.solver, self.penalty, self.dual)\n",
            "  File \"/opt/conda/lib/python3.9/site-packages/sklearn/linear_model/_logistic.py\", line 450, in _check_solver\n",
            "    raise ValueError(\"Only 'saga' solver supports elasticnet penalty,\"\n",
            "ValueError: Only 'saga' solver supports elasticnet penalty, got solver=liblinear.\n",
            "\n",
            "  warnings.warn(\"Estimator fit failed. The score on this train-test\"\n",
            "/opt/conda/lib/python3.9/site-packages/sklearn/model_selection/_validation.py:610: FitFailedWarning: Estimator fit failed. The score on this train-test partition for these parameters will be set to nan. Details: \n",
            "Traceback (most recent call last):\n",
            "  File \"/opt/conda/lib/python3.9/site-packages/sklearn/model_selection/_validation.py\", line 593, in _fit_and_score\n",
            "    estimator.fit(X_train, y_train, **fit_params)\n",
            "  File \"/opt/conda/lib/python3.9/site-packages/sklearn/linear_model/_logistic.py\", line 1306, in fit\n",
            "    solver = _check_solver(self.solver, self.penalty, self.dual)\n",
            "  File \"/opt/conda/lib/python3.9/site-packages/sklearn/linear_model/_logistic.py\", line 450, in _check_solver\n",
            "    raise ValueError(\"Only 'saga' solver supports elasticnet penalty,\"\n",
            "ValueError: Only 'saga' solver supports elasticnet penalty, got solver=liblinear.\n",
            "\n",
            "  warnings.warn(\"Estimator fit failed. The score on this train-test\"\n",
            "/opt/conda/lib/python3.9/site-packages/sklearn/model_selection/_validation.py:610: FitFailedWarning: Estimator fit failed. The score on this train-test partition for these parameters will be set to nan. Details: \n",
            "Traceback (most recent call last):\n",
            "  File \"/opt/conda/lib/python3.9/site-packages/sklearn/model_selection/_validation.py\", line 593, in _fit_and_score\n",
            "    estimator.fit(X_train, y_train, **fit_params)\n",
            "  File \"/opt/conda/lib/python3.9/site-packages/sklearn/linear_model/_logistic.py\", line 1306, in fit\n",
            "    solver = _check_solver(self.solver, self.penalty, self.dual)\n",
            "  File \"/opt/conda/lib/python3.9/site-packages/sklearn/linear_model/_logistic.py\", line 450, in _check_solver\n",
            "    raise ValueError(\"Only 'saga' solver supports elasticnet penalty,\"\n",
            "ValueError: Only 'saga' solver supports elasticnet penalty, got solver=liblinear.\n",
            "\n",
            "  warnings.warn(\"Estimator fit failed. The score on this train-test\"\n",
            "/opt/conda/lib/python3.9/site-packages/sklearn/model_selection/_validation.py:610: FitFailedWarning: Estimator fit failed. The score on this train-test partition for these parameters will be set to nan. Details: \n",
            "Traceback (most recent call last):\n",
            "  File \"/opt/conda/lib/python3.9/site-packages/sklearn/model_selection/_validation.py\", line 593, in _fit_and_score\n",
            "    estimator.fit(X_train, y_train, **fit_params)\n",
            "  File \"/opt/conda/lib/python3.9/site-packages/sklearn/linear_model/_logistic.py\", line 1306, in fit\n",
            "    solver = _check_solver(self.solver, self.penalty, self.dual)\n",
            "  File \"/opt/conda/lib/python3.9/site-packages/sklearn/linear_model/_logistic.py\", line 450, in _check_solver\n",
            "    raise ValueError(\"Only 'saga' solver supports elasticnet penalty,\"\n",
            "ValueError: Only 'saga' solver supports elasticnet penalty, got solver=liblinear.\n",
            "\n",
            "  warnings.warn(\"Estimator fit failed. The score on this train-test\"\n",
            "/opt/conda/lib/python3.9/site-packages/sklearn/model_selection/_validation.py:610: FitFailedWarning: Estimator fit failed. The score on this train-test partition for these parameters will be set to nan. Details: \n",
            "Traceback (most recent call last):\n",
            "  File \"/opt/conda/lib/python3.9/site-packages/sklearn/model_selection/_validation.py\", line 593, in _fit_and_score\n",
            "    estimator.fit(X_train, y_train, **fit_params)\n",
            "  File \"/opt/conda/lib/python3.9/site-packages/sklearn/linear_model/_logistic.py\", line 1306, in fit\n",
            "    solver = _check_solver(self.solver, self.penalty, self.dual)\n",
            "  File \"/opt/conda/lib/python3.9/site-packages/sklearn/linear_model/_logistic.py\", line 443, in _check_solver\n",
            "    raise ValueError(\"Solver %s supports only 'l2' or 'none' penalties, \"\n",
            "ValueError: Solver newton-cg supports only 'l2' or 'none' penalties, got elasticnet penalty.\n",
            "\n",
            "  warnings.warn(\"Estimator fit failed. The score on this train-test\"\n",
            "/opt/conda/lib/python3.9/site-packages/sklearn/model_selection/_validation.py:610: FitFailedWarning: Estimator fit failed. The score on this train-test partition for these parameters will be set to nan. Details: \n",
            "Traceback (most recent call last):\n",
            "  File \"/opt/conda/lib/python3.9/site-packages/sklearn/model_selection/_validation.py\", line 593, in _fit_and_score\n",
            "    estimator.fit(X_train, y_train, **fit_params)\n",
            "  File \"/opt/conda/lib/python3.9/site-packages/sklearn/linear_model/_logistic.py\", line 1306, in fit\n",
            "    solver = _check_solver(self.solver, self.penalty, self.dual)\n",
            "  File \"/opt/conda/lib/python3.9/site-packages/sklearn/linear_model/_logistic.py\", line 443, in _check_solver\n",
            "    raise ValueError(\"Solver %s supports only 'l2' or 'none' penalties, \"\n",
            "ValueError: Solver newton-cg supports only 'l2' or 'none' penalties, got elasticnet penalty.\n",
            "\n",
            "  warnings.warn(\"Estimator fit failed. The score on this train-test\"\n",
            "/opt/conda/lib/python3.9/site-packages/sklearn/model_selection/_validation.py:610: FitFailedWarning: Estimator fit failed. The score on this train-test partition for these parameters will be set to nan. Details: \n",
            "Traceback (most recent call last):\n",
            "  File \"/opt/conda/lib/python3.9/site-packages/sklearn/model_selection/_validation.py\", line 593, in _fit_and_score\n",
            "    estimator.fit(X_train, y_train, **fit_params)\n",
            "  File \"/opt/conda/lib/python3.9/site-packages/sklearn/linear_model/_logistic.py\", line 1306, in fit\n",
            "    solver = _check_solver(self.solver, self.penalty, self.dual)\n",
            "  File \"/opt/conda/lib/python3.9/site-packages/sklearn/linear_model/_logistic.py\", line 443, in _check_solver\n",
            "    raise ValueError(\"Solver %s supports only 'l2' or 'none' penalties, \"\n",
            "ValueError: Solver newton-cg supports only 'l2' or 'none' penalties, got elasticnet penalty.\n",
            "\n",
            "  warnings.warn(\"Estimator fit failed. The score on this train-test\"\n",
            "/opt/conda/lib/python3.9/site-packages/sklearn/model_selection/_validation.py:610: FitFailedWarning: Estimator fit failed. The score on this train-test partition for these parameters will be set to nan. Details: \n",
            "Traceback (most recent call last):\n",
            "  File \"/opt/conda/lib/python3.9/site-packages/sklearn/model_selection/_validation.py\", line 593, in _fit_and_score\n",
            "    estimator.fit(X_train, y_train, **fit_params)\n",
            "  File \"/opt/conda/lib/python3.9/site-packages/sklearn/linear_model/_logistic.py\", line 1306, in fit\n",
            "    solver = _check_solver(self.solver, self.penalty, self.dual)\n",
            "  File \"/opt/conda/lib/python3.9/site-packages/sklearn/linear_model/_logistic.py\", line 443, in _check_solver\n",
            "    raise ValueError(\"Solver %s supports only 'l2' or 'none' penalties, \"\n",
            "ValueError: Solver newton-cg supports only 'l2' or 'none' penalties, got elasticnet penalty.\n",
            "\n",
            "  warnings.warn(\"Estimator fit failed. The score on this train-test\"\n",
            "/opt/conda/lib/python3.9/site-packages/sklearn/model_selection/_validation.py:610: FitFailedWarning: Estimator fit failed. The score on this train-test partition for these parameters will be set to nan. Details: \n",
            "Traceback (most recent call last):\n",
            "  File \"/opt/conda/lib/python3.9/site-packages/sklearn/model_selection/_validation.py\", line 593, in _fit_and_score\n",
            "    estimator.fit(X_train, y_train, **fit_params)\n",
            "  File \"/opt/conda/lib/python3.9/site-packages/sklearn/linear_model/_logistic.py\", line 1306, in fit\n",
            "    solver = _check_solver(self.solver, self.penalty, self.dual)\n",
            "  File \"/opt/conda/lib/python3.9/site-packages/sklearn/linear_model/_logistic.py\", line 443, in _check_solver\n",
            "    raise ValueError(\"Solver %s supports only 'l2' or 'none' penalties, \"\n",
            "ValueError: Solver newton-cg supports only 'l2' or 'none' penalties, got elasticnet penalty.\n",
            "\n",
            "  warnings.warn(\"Estimator fit failed. The score on this train-test\"\n",
            "/opt/conda/lib/python3.9/site-packages/sklearn/model_selection/_validation.py:610: FitFailedWarning: Estimator fit failed. The score on this train-test partition for these parameters will be set to nan. Details: \n",
            "Traceback (most recent call last):\n",
            "  File \"/opt/conda/lib/python3.9/site-packages/sklearn/model_selection/_validation.py\", line 593, in _fit_and_score\n",
            "    estimator.fit(X_train, y_train, **fit_params)\n",
            "  File \"/opt/conda/lib/python3.9/site-packages/sklearn/linear_model/_logistic.py\", line 1306, in fit\n",
            "    solver = _check_solver(self.solver, self.penalty, self.dual)\n",
            "  File \"/opt/conda/lib/python3.9/site-packages/sklearn/linear_model/_logistic.py\", line 443, in _check_solver\n",
            "    raise ValueError(\"Solver %s supports only 'l2' or 'none' penalties, \"\n",
            "ValueError: Solver lbfgs supports only 'l2' or 'none' penalties, got l1 penalty.\n",
            "\n",
            "  warnings.warn(\"Estimator fit failed. The score on this train-test\"\n",
            "/opt/conda/lib/python3.9/site-packages/sklearn/model_selection/_validation.py:610: FitFailedWarning: Estimator fit failed. The score on this train-test partition for these parameters will be set to nan. Details: \n",
            "Traceback (most recent call last):\n",
            "  File \"/opt/conda/lib/python3.9/site-packages/sklearn/model_selection/_validation.py\", line 593, in _fit_and_score\n",
            "    estimator.fit(X_train, y_train, **fit_params)\n",
            "  File \"/opt/conda/lib/python3.9/site-packages/sklearn/linear_model/_logistic.py\", line 1306, in fit\n",
            "    solver = _check_solver(self.solver, self.penalty, self.dual)\n",
            "  File \"/opt/conda/lib/python3.9/site-packages/sklearn/linear_model/_logistic.py\", line 443, in _check_solver\n",
            "    raise ValueError(\"Solver %s supports only 'l2' or 'none' penalties, \"\n",
            "ValueError: Solver lbfgs supports only 'l2' or 'none' penalties, got l1 penalty.\n",
            "\n",
            "  warnings.warn(\"Estimator fit failed. The score on this train-test\"\n",
            "/opt/conda/lib/python3.9/site-packages/sklearn/model_selection/_validation.py:610: FitFailedWarning: Estimator fit failed. The score on this train-test partition for these parameters will be set to nan. Details: \n",
            "Traceback (most recent call last):\n",
            "  File \"/opt/conda/lib/python3.9/site-packages/sklearn/model_selection/_validation.py\", line 593, in _fit_and_score\n",
            "    estimator.fit(X_train, y_train, **fit_params)\n",
            "  File \"/opt/conda/lib/python3.9/site-packages/sklearn/linear_model/_logistic.py\", line 1306, in fit\n",
            "    solver = _check_solver(self.solver, self.penalty, self.dual)\n",
            "  File \"/opt/conda/lib/python3.9/site-packages/sklearn/linear_model/_logistic.py\", line 443, in _check_solver\n",
            "    raise ValueError(\"Solver %s supports only 'l2' or 'none' penalties, \"\n",
            "ValueError: Solver lbfgs supports only 'l2' or 'none' penalties, got l1 penalty.\n",
            "\n",
            "  warnings.warn(\"Estimator fit failed. The score on this train-test\"\n",
            "/opt/conda/lib/python3.9/site-packages/sklearn/model_selection/_validation.py:610: FitFailedWarning: Estimator fit failed. The score on this train-test partition for these parameters will be set to nan. Details: \n",
            "Traceback (most recent call last):\n",
            "  File \"/opt/conda/lib/python3.9/site-packages/sklearn/model_selection/_validation.py\", line 593, in _fit_and_score\n",
            "    estimator.fit(X_train, y_train, **fit_params)\n",
            "  File \"/opt/conda/lib/python3.9/site-packages/sklearn/linear_model/_logistic.py\", line 1306, in fit\n",
            "    solver = _check_solver(self.solver, self.penalty, self.dual)\n",
            "  File \"/opt/conda/lib/python3.9/site-packages/sklearn/linear_model/_logistic.py\", line 443, in _check_solver\n",
            "    raise ValueError(\"Solver %s supports only 'l2' or 'none' penalties, \"\n",
            "ValueError: Solver lbfgs supports only 'l2' or 'none' penalties, got l1 penalty.\n",
            "\n",
            "  warnings.warn(\"Estimator fit failed. The score on this train-test\"\n",
            "/opt/conda/lib/python3.9/site-packages/sklearn/model_selection/_validation.py:610: FitFailedWarning: Estimator fit failed. The score on this train-test partition for these parameters will be set to nan. Details: \n",
            "Traceback (most recent call last):\n",
            "  File \"/opt/conda/lib/python3.9/site-packages/sklearn/model_selection/_validation.py\", line 593, in _fit_and_score\n",
            "    estimator.fit(X_train, y_train, **fit_params)\n",
            "  File \"/opt/conda/lib/python3.9/site-packages/sklearn/linear_model/_logistic.py\", line 1306, in fit\n",
            "    solver = _check_solver(self.solver, self.penalty, self.dual)\n",
            "  File \"/opt/conda/lib/python3.9/site-packages/sklearn/linear_model/_logistic.py\", line 443, in _check_solver\n",
            "    raise ValueError(\"Solver %s supports only 'l2' or 'none' penalties, \"\n",
            "ValueError: Solver lbfgs supports only 'l2' or 'none' penalties, got l1 penalty.\n",
            "\n",
            "  warnings.warn(\"Estimator fit failed. The score on this train-test\"\n",
            "/opt/conda/lib/python3.9/site-packages/sklearn/model_selection/_validation.py:610: FitFailedWarning: Estimator fit failed. The score on this train-test partition for these parameters will be set to nan. Details: \n",
            "Traceback (most recent call last):\n",
            "  File \"/opt/conda/lib/python3.9/site-packages/sklearn/model_selection/_validation.py\", line 593, in _fit_and_score\n",
            "    estimator.fit(X_train, y_train, **fit_params)\n",
            "  File \"/opt/conda/lib/python3.9/site-packages/sklearn/linear_model/_logistic.py\", line 1306, in fit\n",
            "    solver = _check_solver(self.solver, self.penalty, self.dual)\n",
            "  File \"/opt/conda/lib/python3.9/site-packages/sklearn/linear_model/_logistic.py\", line 443, in _check_solver\n",
            "    raise ValueError(\"Solver %s supports only 'l2' or 'none' penalties, \"\n",
            "ValueError: Solver newton-cg supports only 'l2' or 'none' penalties, got l1 penalty.\n",
            "\n",
            "  warnings.warn(\"Estimator fit failed. The score on this train-test\"\n",
            "/opt/conda/lib/python3.9/site-packages/sklearn/model_selection/_validation.py:610: FitFailedWarning: Estimator fit failed. The score on this train-test partition for these parameters will be set to nan. Details: \n",
            "Traceback (most recent call last):\n",
            "  File \"/opt/conda/lib/python3.9/site-packages/sklearn/model_selection/_validation.py\", line 593, in _fit_and_score\n",
            "    estimator.fit(X_train, y_train, **fit_params)\n",
            "  File \"/opt/conda/lib/python3.9/site-packages/sklearn/linear_model/_logistic.py\", line 1306, in fit\n",
            "    solver = _check_solver(self.solver, self.penalty, self.dual)\n",
            "  File \"/opt/conda/lib/python3.9/site-packages/sklearn/linear_model/_logistic.py\", line 443, in _check_solver\n",
            "    raise ValueError(\"Solver %s supports only 'l2' or 'none' penalties, \"\n",
            "ValueError: Solver newton-cg supports only 'l2' or 'none' penalties, got l1 penalty.\n",
            "\n",
            "  warnings.warn(\"Estimator fit failed. The score on this train-test\"\n",
            "/opt/conda/lib/python3.9/site-packages/sklearn/model_selection/_validation.py:610: FitFailedWarning: Estimator fit failed. The score on this train-test partition for these parameters will be set to nan. Details: \n",
            "Traceback (most recent call last):\n",
            "  File \"/opt/conda/lib/python3.9/site-packages/sklearn/model_selection/_validation.py\", line 593, in _fit_and_score\n",
            "    estimator.fit(X_train, y_train, **fit_params)\n",
            "  File \"/opt/conda/lib/python3.9/site-packages/sklearn/linear_model/_logistic.py\", line 1306, in fit\n",
            "    solver = _check_solver(self.solver, self.penalty, self.dual)\n",
            "  File \"/opt/conda/lib/python3.9/site-packages/sklearn/linear_model/_logistic.py\", line 443, in _check_solver\n",
            "    raise ValueError(\"Solver %s supports only 'l2' or 'none' penalties, \"\n",
            "ValueError: Solver newton-cg supports only 'l2' or 'none' penalties, got l1 penalty.\n",
            "\n",
            "  warnings.warn(\"Estimator fit failed. The score on this train-test\"\n",
            "/opt/conda/lib/python3.9/site-packages/sklearn/model_selection/_validation.py:610: FitFailedWarning: Estimator fit failed. The score on this train-test partition for these parameters will be set to nan. Details: \n",
            "Traceback (most recent call last):\n",
            "  File \"/opt/conda/lib/python3.9/site-packages/sklearn/model_selection/_validation.py\", line 593, in _fit_and_score\n",
            "    estimator.fit(X_train, y_train, **fit_params)\n",
            "  File \"/opt/conda/lib/python3.9/site-packages/sklearn/linear_model/_logistic.py\", line 1306, in fit\n",
            "    solver = _check_solver(self.solver, self.penalty, self.dual)\n",
            "  File \"/opt/conda/lib/python3.9/site-packages/sklearn/linear_model/_logistic.py\", line 443, in _check_solver\n",
            "    raise ValueError(\"Solver %s supports only 'l2' or 'none' penalties, \"\n",
            "ValueError: Solver newton-cg supports only 'l2' or 'none' penalties, got l1 penalty.\n",
            "\n",
            "  warnings.warn(\"Estimator fit failed. The score on this train-test\"\n",
            "/opt/conda/lib/python3.9/site-packages/sklearn/model_selection/_validation.py:610: FitFailedWarning: Estimator fit failed. The score on this train-test partition for these parameters will be set to nan. Details: \n",
            "Traceback (most recent call last):\n",
            "  File \"/opt/conda/lib/python3.9/site-packages/sklearn/model_selection/_validation.py\", line 593, in _fit_and_score\n",
            "    estimator.fit(X_train, y_train, **fit_params)\n",
            "  File \"/opt/conda/lib/python3.9/site-packages/sklearn/linear_model/_logistic.py\", line 1306, in fit\n",
            "    solver = _check_solver(self.solver, self.penalty, self.dual)\n",
            "  File \"/opt/conda/lib/python3.9/site-packages/sklearn/linear_model/_logistic.py\", line 443, in _check_solver\n",
            "    raise ValueError(\"Solver %s supports only 'l2' or 'none' penalties, \"\n",
            "ValueError: Solver newton-cg supports only 'l2' or 'none' penalties, got l1 penalty.\n",
            "\n",
            "  warnings.warn(\"Estimator fit failed. The score on this train-test\"\n",
            "/opt/conda/lib/python3.9/site-packages/sklearn/model_selection/_validation.py:610: FitFailedWarning: Estimator fit failed. The score on this train-test partition for these parameters will be set to nan. Details: \n",
            "Traceback (most recent call last):\n",
            "  File \"/opt/conda/lib/python3.9/site-packages/sklearn/model_selection/_validation.py\", line 593, in _fit_and_score\n",
            "    estimator.fit(X_train, y_train, **fit_params)\n",
            "  File \"/opt/conda/lib/python3.9/site-packages/sklearn/linear_model/_logistic.py\", line 1306, in fit\n",
            "    solver = _check_solver(self.solver, self.penalty, self.dual)\n",
            "  File \"/opt/conda/lib/python3.9/site-packages/sklearn/linear_model/_logistic.py\", line 443, in _check_solver\n",
            "    raise ValueError(\"Solver %s supports only 'l2' or 'none' penalties, \"\n",
            "ValueError: Solver lbfgs supports only 'l2' or 'none' penalties, got elasticnet penalty.\n",
            "\n",
            "  warnings.warn(\"Estimator fit failed. The score on this train-test\"\n",
            "/opt/conda/lib/python3.9/site-packages/sklearn/model_selection/_validation.py:610: FitFailedWarning: Estimator fit failed. The score on this train-test partition for these parameters will be set to nan. Details: \n",
            "Traceback (most recent call last):\n",
            "  File \"/opt/conda/lib/python3.9/site-packages/sklearn/model_selection/_validation.py\", line 593, in _fit_and_score\n",
            "    estimator.fit(X_train, y_train, **fit_params)\n",
            "  File \"/opt/conda/lib/python3.9/site-packages/sklearn/linear_model/_logistic.py\", line 1306, in fit\n",
            "    solver = _check_solver(self.solver, self.penalty, self.dual)\n",
            "  File \"/opt/conda/lib/python3.9/site-packages/sklearn/linear_model/_logistic.py\", line 443, in _check_solver\n",
            "    raise ValueError(\"Solver %s supports only 'l2' or 'none' penalties, \"\n",
            "ValueError: Solver lbfgs supports only 'l2' or 'none' penalties, got elasticnet penalty.\n",
            "\n",
            "  warnings.warn(\"Estimator fit failed. The score on this train-test\"\n",
            "/opt/conda/lib/python3.9/site-packages/sklearn/model_selection/_validation.py:610: FitFailedWarning: Estimator fit failed. The score on this train-test partition for these parameters will be set to nan. Details: \n",
            "Traceback (most recent call last):\n",
            "  File \"/opt/conda/lib/python3.9/site-packages/sklearn/model_selection/_validation.py\", line 593, in _fit_and_score\n",
            "    estimator.fit(X_train, y_train, **fit_params)\n",
            "  File \"/opt/conda/lib/python3.9/site-packages/sklearn/linear_model/_logistic.py\", line 1306, in fit\n",
            "    solver = _check_solver(self.solver, self.penalty, self.dual)\n",
            "  File \"/opt/conda/lib/python3.9/site-packages/sklearn/linear_model/_logistic.py\", line 443, in _check_solver\n",
            "    raise ValueError(\"Solver %s supports only 'l2' or 'none' penalties, \"\n",
            "ValueError: Solver lbfgs supports only 'l2' or 'none' penalties, got elasticnet penalty.\n",
            "\n",
            "  warnings.warn(\"Estimator fit failed. The score on this train-test\"\n",
            "/opt/conda/lib/python3.9/site-packages/sklearn/model_selection/_validation.py:610: FitFailedWarning: Estimator fit failed. The score on this train-test partition for these parameters will be set to nan. Details: \n",
            "Traceback (most recent call last):\n",
            "  File \"/opt/conda/lib/python3.9/site-packages/sklearn/model_selection/_validation.py\", line 593, in _fit_and_score\n",
            "    estimator.fit(X_train, y_train, **fit_params)\n",
            "  File \"/opt/conda/lib/python3.9/site-packages/sklearn/linear_model/_logistic.py\", line 1306, in fit\n",
            "    solver = _check_solver(self.solver, self.penalty, self.dual)\n",
            "  File \"/opt/conda/lib/python3.9/site-packages/sklearn/linear_model/_logistic.py\", line 443, in _check_solver\n",
            "    raise ValueError(\"Solver %s supports only 'l2' or 'none' penalties, \"\n",
            "ValueError: Solver lbfgs supports only 'l2' or 'none' penalties, got elasticnet penalty.\n",
            "\n",
            "  warnings.warn(\"Estimator fit failed. The score on this train-test\"\n",
            "/opt/conda/lib/python3.9/site-packages/sklearn/model_selection/_validation.py:610: FitFailedWarning: Estimator fit failed. The score on this train-test partition for these parameters will be set to nan. Details: \n",
            "Traceback (most recent call last):\n",
            "  File \"/opt/conda/lib/python3.9/site-packages/sklearn/model_selection/_validation.py\", line 593, in _fit_and_score\n",
            "    estimator.fit(X_train, y_train, **fit_params)\n",
            "  File \"/opt/conda/lib/python3.9/site-packages/sklearn/linear_model/_logistic.py\", line 1306, in fit\n",
            "    solver = _check_solver(self.solver, self.penalty, self.dual)\n",
            "  File \"/opt/conda/lib/python3.9/site-packages/sklearn/linear_model/_logistic.py\", line 443, in _check_solver\n",
            "    raise ValueError(\"Solver %s supports only 'l2' or 'none' penalties, \"\n",
            "ValueError: Solver lbfgs supports only 'l2' or 'none' penalties, got elasticnet penalty.\n",
            "\n",
            "  warnings.warn(\"Estimator fit failed. The score on this train-test\"\n",
            "/opt/conda/lib/python3.9/site-packages/sklearn/model_selection/_validation.py:610: FitFailedWarning: Estimator fit failed. The score on this train-test partition for these parameters will be set to nan. Details: \n",
            "Traceback (most recent call last):\n",
            "  File \"/opt/conda/lib/python3.9/site-packages/sklearn/model_selection/_validation.py\", line 593, in _fit_and_score\n",
            "    estimator.fit(X_train, y_train, **fit_params)\n",
            "  File \"/opt/conda/lib/python3.9/site-packages/sklearn/linear_model/_logistic.py\", line 1306, in fit\n",
            "    solver = _check_solver(self.solver, self.penalty, self.dual)\n",
            "  File \"/opt/conda/lib/python3.9/site-packages/sklearn/linear_model/_logistic.py\", line 450, in _check_solver\n",
            "    raise ValueError(\"Only 'saga' solver supports elasticnet penalty,\"\n",
            "ValueError: Only 'saga' solver supports elasticnet penalty, got solver=liblinear.\n",
            "\n",
            "  warnings.warn(\"Estimator fit failed. The score on this train-test\"\n",
            "/opt/conda/lib/python3.9/site-packages/sklearn/model_selection/_validation.py:610: FitFailedWarning: Estimator fit failed. The score on this train-test partition for these parameters will be set to nan. Details: \n",
            "Traceback (most recent call last):\n",
            "  File \"/opt/conda/lib/python3.9/site-packages/sklearn/model_selection/_validation.py\", line 593, in _fit_and_score\n",
            "    estimator.fit(X_train, y_train, **fit_params)\n",
            "  File \"/opt/conda/lib/python3.9/site-packages/sklearn/linear_model/_logistic.py\", line 1306, in fit\n",
            "    solver = _check_solver(self.solver, self.penalty, self.dual)\n",
            "  File \"/opt/conda/lib/python3.9/site-packages/sklearn/linear_model/_logistic.py\", line 450, in _check_solver\n",
            "    raise ValueError(\"Only 'saga' solver supports elasticnet penalty,\"\n",
            "ValueError: Only 'saga' solver supports elasticnet penalty, got solver=liblinear.\n",
            "\n",
            "  warnings.warn(\"Estimator fit failed. The score on this train-test\"\n",
            "/opt/conda/lib/python3.9/site-packages/sklearn/model_selection/_validation.py:610: FitFailedWarning: Estimator fit failed. The score on this train-test partition for these parameters will be set to nan. Details: \n",
            "Traceback (most recent call last):\n",
            "  File \"/opt/conda/lib/python3.9/site-packages/sklearn/model_selection/_validation.py\", line 593, in _fit_and_score\n",
            "    estimator.fit(X_train, y_train, **fit_params)\n",
            "  File \"/opt/conda/lib/python3.9/site-packages/sklearn/linear_model/_logistic.py\", line 1306, in fit\n",
            "    solver = _check_solver(self.solver, self.penalty, self.dual)\n",
            "  File \"/opt/conda/lib/python3.9/site-packages/sklearn/linear_model/_logistic.py\", line 450, in _check_solver\n",
            "    raise ValueError(\"Only 'saga' solver supports elasticnet penalty,\"\n",
            "ValueError: Only 'saga' solver supports elasticnet penalty, got solver=liblinear.\n",
            "\n",
            "  warnings.warn(\"Estimator fit failed. The score on this train-test\"\n",
            "/opt/conda/lib/python3.9/site-packages/sklearn/model_selection/_validation.py:610: FitFailedWarning: Estimator fit failed. The score on this train-test partition for these parameters will be set to nan. Details: \n",
            "Traceback (most recent call last):\n",
            "  File \"/opt/conda/lib/python3.9/site-packages/sklearn/model_selection/_validation.py\", line 593, in _fit_and_score\n",
            "    estimator.fit(X_train, y_train, **fit_params)\n",
            "  File \"/opt/conda/lib/python3.9/site-packages/sklearn/linear_model/_logistic.py\", line 1306, in fit\n",
            "    solver = _check_solver(self.solver, self.penalty, self.dual)\n",
            "  File \"/opt/conda/lib/python3.9/site-packages/sklearn/linear_model/_logistic.py\", line 450, in _check_solver\n",
            "    raise ValueError(\"Only 'saga' solver supports elasticnet penalty,\"\n",
            "ValueError: Only 'saga' solver supports elasticnet penalty, got solver=liblinear.\n",
            "\n",
            "  warnings.warn(\"Estimator fit failed. The score on this train-test\"\n",
            "/opt/conda/lib/python3.9/site-packages/sklearn/model_selection/_validation.py:610: FitFailedWarning: Estimator fit failed. The score on this train-test partition for these parameters will be set to nan. Details: \n",
            "Traceback (most recent call last):\n",
            "  File \"/opt/conda/lib/python3.9/site-packages/sklearn/model_selection/_validation.py\", line 593, in _fit_and_score\n",
            "    estimator.fit(X_train, y_train, **fit_params)\n",
            "  File \"/opt/conda/lib/python3.9/site-packages/sklearn/linear_model/_logistic.py\", line 1306, in fit\n",
            "    solver = _check_solver(self.solver, self.penalty, self.dual)\n",
            "  File \"/opt/conda/lib/python3.9/site-packages/sklearn/linear_model/_logistic.py\", line 450, in _check_solver\n",
            "    raise ValueError(\"Only 'saga' solver supports elasticnet penalty,\"\n",
            "ValueError: Only 'saga' solver supports elasticnet penalty, got solver=liblinear.\n",
            "\n",
            "  warnings.warn(\"Estimator fit failed. The score on this train-test\"\n",
            "/opt/conda/lib/python3.9/site-packages/sklearn/model_selection/_validation.py:610: FitFailedWarning: Estimator fit failed. The score on this train-test partition for these parameters will be set to nan. Details: \n",
            "Traceback (most recent call last):\n",
            "  File \"/opt/conda/lib/python3.9/site-packages/sklearn/model_selection/_validation.py\", line 593, in _fit_and_score\n",
            "    estimator.fit(X_train, y_train, **fit_params)\n",
            "  File \"/opt/conda/lib/python3.9/site-packages/sklearn/linear_model/_logistic.py\", line 1306, in fit\n",
            "    solver = _check_solver(self.solver, self.penalty, self.dual)\n",
            "  File \"/opt/conda/lib/python3.9/site-packages/sklearn/linear_model/_logistic.py\", line 443, in _check_solver\n",
            "    raise ValueError(\"Solver %s supports only 'l2' or 'none' penalties, \"\n",
            "ValueError: Solver newton-cg supports only 'l2' or 'none' penalties, got elasticnet penalty.\n",
            "\n",
            "  warnings.warn(\"Estimator fit failed. The score on this train-test\"\n",
            "/opt/conda/lib/python3.9/site-packages/sklearn/model_selection/_validation.py:610: FitFailedWarning: Estimator fit failed. The score on this train-test partition for these parameters will be set to nan. Details: \n",
            "Traceback (most recent call last):\n",
            "  File \"/opt/conda/lib/python3.9/site-packages/sklearn/model_selection/_validation.py\", line 593, in _fit_and_score\n",
            "    estimator.fit(X_train, y_train, **fit_params)\n",
            "  File \"/opt/conda/lib/python3.9/site-packages/sklearn/linear_model/_logistic.py\", line 1306, in fit\n",
            "    solver = _check_solver(self.solver, self.penalty, self.dual)\n",
            "  File \"/opt/conda/lib/python3.9/site-packages/sklearn/linear_model/_logistic.py\", line 443, in _check_solver\n",
            "    raise ValueError(\"Solver %s supports only 'l2' or 'none' penalties, \"\n",
            "ValueError: Solver newton-cg supports only 'l2' or 'none' penalties, got elasticnet penalty.\n",
            "\n",
            "  warnings.warn(\"Estimator fit failed. The score on this train-test\"\n",
            "/opt/conda/lib/python3.9/site-packages/sklearn/model_selection/_validation.py:610: FitFailedWarning: Estimator fit failed. The score on this train-test partition for these parameters will be set to nan. Details: \n",
            "Traceback (most recent call last):\n",
            "  File \"/opt/conda/lib/python3.9/site-packages/sklearn/model_selection/_validation.py\", line 593, in _fit_and_score\n",
            "    estimator.fit(X_train, y_train, **fit_params)\n",
            "  File \"/opt/conda/lib/python3.9/site-packages/sklearn/linear_model/_logistic.py\", line 1306, in fit\n",
            "    solver = _check_solver(self.solver, self.penalty, self.dual)\n",
            "  File \"/opt/conda/lib/python3.9/site-packages/sklearn/linear_model/_logistic.py\", line 443, in _check_solver\n",
            "    raise ValueError(\"Solver %s supports only 'l2' or 'none' penalties, \"\n",
            "ValueError: Solver newton-cg supports only 'l2' or 'none' penalties, got elasticnet penalty.\n",
            "\n",
            "  warnings.warn(\"Estimator fit failed. The score on this train-test\"\n",
            "/opt/conda/lib/python3.9/site-packages/sklearn/model_selection/_validation.py:610: FitFailedWarning: Estimator fit failed. The score on this train-test partition for these parameters will be set to nan. Details: \n",
            "Traceback (most recent call last):\n",
            "  File \"/opt/conda/lib/python3.9/site-packages/sklearn/model_selection/_validation.py\", line 593, in _fit_and_score\n",
            "    estimator.fit(X_train, y_train, **fit_params)\n",
            "  File \"/opt/conda/lib/python3.9/site-packages/sklearn/linear_model/_logistic.py\", line 1306, in fit\n",
            "    solver = _check_solver(self.solver, self.penalty, self.dual)\n",
            "  File \"/opt/conda/lib/python3.9/site-packages/sklearn/linear_model/_logistic.py\", line 443, in _check_solver\n",
            "    raise ValueError(\"Solver %s supports only 'l2' or 'none' penalties, \"\n",
            "ValueError: Solver newton-cg supports only 'l2' or 'none' penalties, got elasticnet penalty.\n",
            "\n",
            "  warnings.warn(\"Estimator fit failed. The score on this train-test\"\n",
            "/opt/conda/lib/python3.9/site-packages/sklearn/model_selection/_validation.py:610: FitFailedWarning: Estimator fit failed. The score on this train-test partition for these parameters will be set to nan. Details: \n",
            "Traceback (most recent call last):\n",
            "  File \"/opt/conda/lib/python3.9/site-packages/sklearn/model_selection/_validation.py\", line 593, in _fit_and_score\n",
            "    estimator.fit(X_train, y_train, **fit_params)\n",
            "  File \"/opt/conda/lib/python3.9/site-packages/sklearn/linear_model/_logistic.py\", line 1306, in fit\n",
            "    solver = _check_solver(self.solver, self.penalty, self.dual)\n",
            "  File \"/opt/conda/lib/python3.9/site-packages/sklearn/linear_model/_logistic.py\", line 443, in _check_solver\n",
            "    raise ValueError(\"Solver %s supports only 'l2' or 'none' penalties, \"\n",
            "ValueError: Solver newton-cg supports only 'l2' or 'none' penalties, got elasticnet penalty.\n",
            "\n",
            "  warnings.warn(\"Estimator fit failed. The score on this train-test\"\n",
            "/opt/conda/lib/python3.9/site-packages/sklearn/model_selection/_validation.py:610: FitFailedWarning: Estimator fit failed. The score on this train-test partition for these parameters will be set to nan. Details: \n",
            "Traceback (most recent call last):\n",
            "  File \"/opt/conda/lib/python3.9/site-packages/sklearn/model_selection/_validation.py\", line 593, in _fit_and_score\n",
            "    estimator.fit(X_train, y_train, **fit_params)\n",
            "  File \"/opt/conda/lib/python3.9/site-packages/sklearn/linear_model/_logistic.py\", line 1306, in fit\n",
            "    solver = _check_solver(self.solver, self.penalty, self.dual)\n",
            "  File \"/opt/conda/lib/python3.9/site-packages/sklearn/linear_model/_logistic.py\", line 443, in _check_solver\n",
            "    raise ValueError(\"Solver %s supports only 'l2' or 'none' penalties, \"\n",
            "ValueError: Solver lbfgs supports only 'l2' or 'none' penalties, got l1 penalty.\n",
            "\n",
            "  warnings.warn(\"Estimator fit failed. The score on this train-test\"\n",
            "/opt/conda/lib/python3.9/site-packages/sklearn/model_selection/_validation.py:610: FitFailedWarning: Estimator fit failed. The score on this train-test partition for these parameters will be set to nan. Details: \n",
            "Traceback (most recent call last):\n",
            "  File \"/opt/conda/lib/python3.9/site-packages/sklearn/model_selection/_validation.py\", line 593, in _fit_and_score\n",
            "    estimator.fit(X_train, y_train, **fit_params)\n",
            "  File \"/opt/conda/lib/python3.9/site-packages/sklearn/linear_model/_logistic.py\", line 1306, in fit\n",
            "    solver = _check_solver(self.solver, self.penalty, self.dual)\n",
            "  File \"/opt/conda/lib/python3.9/site-packages/sklearn/linear_model/_logistic.py\", line 443, in _check_solver\n",
            "    raise ValueError(\"Solver %s supports only 'l2' or 'none' penalties, \"\n",
            "ValueError: Solver lbfgs supports only 'l2' or 'none' penalties, got l1 penalty.\n",
            "\n",
            "  warnings.warn(\"Estimator fit failed. The score on this train-test\"\n",
            "/opt/conda/lib/python3.9/site-packages/sklearn/model_selection/_validation.py:610: FitFailedWarning: Estimator fit failed. The score on this train-test partition for these parameters will be set to nan. Details: \n",
            "Traceback (most recent call last):\n",
            "  File \"/opt/conda/lib/python3.9/site-packages/sklearn/model_selection/_validation.py\", line 593, in _fit_and_score\n",
            "    estimator.fit(X_train, y_train, **fit_params)\n",
            "  File \"/opt/conda/lib/python3.9/site-packages/sklearn/linear_model/_logistic.py\", line 1306, in fit\n",
            "    solver = _check_solver(self.solver, self.penalty, self.dual)\n",
            "  File \"/opt/conda/lib/python3.9/site-packages/sklearn/linear_model/_logistic.py\", line 443, in _check_solver\n",
            "    raise ValueError(\"Solver %s supports only 'l2' or 'none' penalties, \"\n",
            "ValueError: Solver lbfgs supports only 'l2' or 'none' penalties, got l1 penalty.\n",
            "\n",
            "  warnings.warn(\"Estimator fit failed. The score on this train-test\"\n",
            "/opt/conda/lib/python3.9/site-packages/sklearn/model_selection/_validation.py:610: FitFailedWarning: Estimator fit failed. The score on this train-test partition for these parameters will be set to nan. Details: \n",
            "Traceback (most recent call last):\n",
            "  File \"/opt/conda/lib/python3.9/site-packages/sklearn/model_selection/_validation.py\", line 593, in _fit_and_score\n",
            "    estimator.fit(X_train, y_train, **fit_params)\n",
            "  File \"/opt/conda/lib/python3.9/site-packages/sklearn/linear_model/_logistic.py\", line 1306, in fit\n",
            "    solver = _check_solver(self.solver, self.penalty, self.dual)\n",
            "  File \"/opt/conda/lib/python3.9/site-packages/sklearn/linear_model/_logistic.py\", line 443, in _check_solver\n",
            "    raise ValueError(\"Solver %s supports only 'l2' or 'none' penalties, \"\n",
            "ValueError: Solver lbfgs supports only 'l2' or 'none' penalties, got l1 penalty.\n",
            "\n",
            "  warnings.warn(\"Estimator fit failed. The score on this train-test\"\n",
            "/opt/conda/lib/python3.9/site-packages/sklearn/model_selection/_validation.py:610: FitFailedWarning: Estimator fit failed. The score on this train-test partition for these parameters will be set to nan. Details: \n",
            "Traceback (most recent call last):\n",
            "  File \"/opt/conda/lib/python3.9/site-packages/sklearn/model_selection/_validation.py\", line 593, in _fit_and_score\n",
            "    estimator.fit(X_train, y_train, **fit_params)\n",
            "  File \"/opt/conda/lib/python3.9/site-packages/sklearn/linear_model/_logistic.py\", line 1306, in fit\n",
            "    solver = _check_solver(self.solver, self.penalty, self.dual)\n",
            "  File \"/opt/conda/lib/python3.9/site-packages/sklearn/linear_model/_logistic.py\", line 443, in _check_solver\n",
            "    raise ValueError(\"Solver %s supports only 'l2' or 'none' penalties, \"\n",
            "ValueError: Solver lbfgs supports only 'l2' or 'none' penalties, got l1 penalty.\n",
            "\n",
            "  warnings.warn(\"Estimator fit failed. The score on this train-test\"\n",
            "/opt/conda/lib/python3.9/site-packages/sklearn/model_selection/_validation.py:610: FitFailedWarning: Estimator fit failed. The score on this train-test partition for these parameters will be set to nan. Details: \n",
            "Traceback (most recent call last):\n",
            "  File \"/opt/conda/lib/python3.9/site-packages/sklearn/model_selection/_validation.py\", line 593, in _fit_and_score\n",
            "    estimator.fit(X_train, y_train, **fit_params)\n",
            "  File \"/opt/conda/lib/python3.9/site-packages/sklearn/linear_model/_logistic.py\", line 1306, in fit\n",
            "    solver = _check_solver(self.solver, self.penalty, self.dual)\n",
            "  File \"/opt/conda/lib/python3.9/site-packages/sklearn/linear_model/_logistic.py\", line 443, in _check_solver\n",
            "    raise ValueError(\"Solver %s supports only 'l2' or 'none' penalties, \"\n",
            "ValueError: Solver newton-cg supports only 'l2' or 'none' penalties, got l1 penalty.\n",
            "\n",
            "  warnings.warn(\"Estimator fit failed. The score on this train-test\"\n",
            "/opt/conda/lib/python3.9/site-packages/sklearn/model_selection/_validation.py:610: FitFailedWarning: Estimator fit failed. The score on this train-test partition for these parameters will be set to nan. Details: \n",
            "Traceback (most recent call last):\n",
            "  File \"/opt/conda/lib/python3.9/site-packages/sklearn/model_selection/_validation.py\", line 593, in _fit_and_score\n",
            "    estimator.fit(X_train, y_train, **fit_params)\n",
            "  File \"/opt/conda/lib/python3.9/site-packages/sklearn/linear_model/_logistic.py\", line 1306, in fit\n",
            "    solver = _check_solver(self.solver, self.penalty, self.dual)\n",
            "  File \"/opt/conda/lib/python3.9/site-packages/sklearn/linear_model/_logistic.py\", line 443, in _check_solver\n",
            "    raise ValueError(\"Solver %s supports only 'l2' or 'none' penalties, \"\n",
            "ValueError: Solver newton-cg supports only 'l2' or 'none' penalties, got l1 penalty.\n",
            "\n",
            "  warnings.warn(\"Estimator fit failed. The score on this train-test\"\n",
            "/opt/conda/lib/python3.9/site-packages/sklearn/model_selection/_validation.py:610: FitFailedWarning: Estimator fit failed. The score on this train-test partition for these parameters will be set to nan. Details: \n",
            "Traceback (most recent call last):\n",
            "  File \"/opt/conda/lib/python3.9/site-packages/sklearn/model_selection/_validation.py\", line 593, in _fit_and_score\n",
            "    estimator.fit(X_train, y_train, **fit_params)\n",
            "  File \"/opt/conda/lib/python3.9/site-packages/sklearn/linear_model/_logistic.py\", line 1306, in fit\n",
            "    solver = _check_solver(self.solver, self.penalty, self.dual)\n",
            "  File \"/opt/conda/lib/python3.9/site-packages/sklearn/linear_model/_logistic.py\", line 443, in _check_solver\n",
            "    raise ValueError(\"Solver %s supports only 'l2' or 'none' penalties, \"\n",
            "ValueError: Solver newton-cg supports only 'l2' or 'none' penalties, got l1 penalty.\n",
            "\n",
            "  warnings.warn(\"Estimator fit failed. The score on this train-test\"\n",
            "/opt/conda/lib/python3.9/site-packages/sklearn/model_selection/_validation.py:610: FitFailedWarning: Estimator fit failed. The score on this train-test partition for these parameters will be set to nan. Details: \n",
            "Traceback (most recent call last):\n",
            "  File \"/opt/conda/lib/python3.9/site-packages/sklearn/model_selection/_validation.py\", line 593, in _fit_and_score\n",
            "    estimator.fit(X_train, y_train, **fit_params)\n",
            "  File \"/opt/conda/lib/python3.9/site-packages/sklearn/linear_model/_logistic.py\", line 1306, in fit\n",
            "    solver = _check_solver(self.solver, self.penalty, self.dual)\n",
            "  File \"/opt/conda/lib/python3.9/site-packages/sklearn/linear_model/_logistic.py\", line 443, in _check_solver\n",
            "    raise ValueError(\"Solver %s supports only 'l2' or 'none' penalties, \"\n",
            "ValueError: Solver newton-cg supports only 'l2' or 'none' penalties, got l1 penalty.\n",
            "\n",
            "  warnings.warn(\"Estimator fit failed. The score on this train-test\"\n",
            "/opt/conda/lib/python3.9/site-packages/sklearn/model_selection/_validation.py:610: FitFailedWarning: Estimator fit failed. The score on this train-test partition for these parameters will be set to nan. Details: \n",
            "Traceback (most recent call last):\n",
            "  File \"/opt/conda/lib/python3.9/site-packages/sklearn/model_selection/_validation.py\", line 593, in _fit_and_score\n",
            "    estimator.fit(X_train, y_train, **fit_params)\n",
            "  File \"/opt/conda/lib/python3.9/site-packages/sklearn/linear_model/_logistic.py\", line 1306, in fit\n",
            "    solver = _check_solver(self.solver, self.penalty, self.dual)\n",
            "  File \"/opt/conda/lib/python3.9/site-packages/sklearn/linear_model/_logistic.py\", line 443, in _check_solver\n",
            "    raise ValueError(\"Solver %s supports only 'l2' or 'none' penalties, \"\n",
            "ValueError: Solver newton-cg supports only 'l2' or 'none' penalties, got l1 penalty.\n",
            "\n",
            "  warnings.warn(\"Estimator fit failed. The score on this train-test\"\n",
            "/opt/conda/lib/python3.9/site-packages/scipy/optimize/_linesearch.py:305: LineSearchWarning: The line search algorithm did not converge\n",
            "  warn('The line search algorithm did not converge', LineSearchWarning)\n",
            "/opt/conda/lib/python3.9/site-packages/sklearn/utils/optimize.py:195: UserWarning: Line Search failed\n",
            "  warnings.warn('Line Search failed')\n",
            "/opt/conda/lib/python3.9/site-packages/sklearn/model_selection/_validation.py:610: FitFailedWarning: Estimator fit failed. The score on this train-test partition for these parameters will be set to nan. Details: \n",
            "Traceback (most recent call last):\n",
            "  File \"/opt/conda/lib/python3.9/site-packages/sklearn/model_selection/_validation.py\", line 593, in _fit_and_score\n",
            "    estimator.fit(X_train, y_train, **fit_params)\n",
            "  File \"/opt/conda/lib/python3.9/site-packages/sklearn/linear_model/_logistic.py\", line 1306, in fit\n",
            "    solver = _check_solver(self.solver, self.penalty, self.dual)\n",
            "  File \"/opt/conda/lib/python3.9/site-packages/sklearn/linear_model/_logistic.py\", line 443, in _check_solver\n",
            "    raise ValueError(\"Solver %s supports only 'l2' or 'none' penalties, \"\n",
            "ValueError: Solver lbfgs supports only 'l2' or 'none' penalties, got elasticnet penalty.\n",
            "\n",
            "  warnings.warn(\"Estimator fit failed. The score on this train-test\"\n",
            "/opt/conda/lib/python3.9/site-packages/sklearn/model_selection/_validation.py:610: FitFailedWarning: Estimator fit failed. The score on this train-test partition for these parameters will be set to nan. Details: \n",
            "Traceback (most recent call last):\n",
            "  File \"/opt/conda/lib/python3.9/site-packages/sklearn/model_selection/_validation.py\", line 593, in _fit_and_score\n",
            "    estimator.fit(X_train, y_train, **fit_params)\n",
            "  File \"/opt/conda/lib/python3.9/site-packages/sklearn/linear_model/_logistic.py\", line 1306, in fit\n",
            "    solver = _check_solver(self.solver, self.penalty, self.dual)\n",
            "  File \"/opt/conda/lib/python3.9/site-packages/sklearn/linear_model/_logistic.py\", line 443, in _check_solver\n",
            "    raise ValueError(\"Solver %s supports only 'l2' or 'none' penalties, \"\n",
            "ValueError: Solver lbfgs supports only 'l2' or 'none' penalties, got elasticnet penalty.\n",
            "\n",
            "  warnings.warn(\"Estimator fit failed. The score on this train-test\"\n",
            "/opt/conda/lib/python3.9/site-packages/sklearn/model_selection/_validation.py:610: FitFailedWarning: Estimator fit failed. The score on this train-test partition for these parameters will be set to nan. Details: \n",
            "Traceback (most recent call last):\n",
            "  File \"/opt/conda/lib/python3.9/site-packages/sklearn/model_selection/_validation.py\", line 593, in _fit_and_score\n",
            "    estimator.fit(X_train, y_train, **fit_params)\n",
            "  File \"/opt/conda/lib/python3.9/site-packages/sklearn/linear_model/_logistic.py\", line 1306, in fit\n",
            "    solver = _check_solver(self.solver, self.penalty, self.dual)\n",
            "  File \"/opt/conda/lib/python3.9/site-packages/sklearn/linear_model/_logistic.py\", line 443, in _check_solver\n",
            "    raise ValueError(\"Solver %s supports only 'l2' or 'none' penalties, \"\n",
            "ValueError: Solver lbfgs supports only 'l2' or 'none' penalties, got elasticnet penalty.\n",
            "\n",
            "  warnings.warn(\"Estimator fit failed. The score on this train-test\"\n",
            "/opt/conda/lib/python3.9/site-packages/sklearn/model_selection/_validation.py:610: FitFailedWarning: Estimator fit failed. The score on this train-test partition for these parameters will be set to nan. Details: \n",
            "Traceback (most recent call last):\n",
            "  File \"/opt/conda/lib/python3.9/site-packages/sklearn/model_selection/_validation.py\", line 593, in _fit_and_score\n",
            "    estimator.fit(X_train, y_train, **fit_params)\n",
            "  File \"/opt/conda/lib/python3.9/site-packages/sklearn/linear_model/_logistic.py\", line 1306, in fit\n",
            "    solver = _check_solver(self.solver, self.penalty, self.dual)\n",
            "  File \"/opt/conda/lib/python3.9/site-packages/sklearn/linear_model/_logistic.py\", line 443, in _check_solver\n",
            "    raise ValueError(\"Solver %s supports only 'l2' or 'none' penalties, \"\n",
            "ValueError: Solver lbfgs supports only 'l2' or 'none' penalties, got elasticnet penalty.\n",
            "\n",
            "  warnings.warn(\"Estimator fit failed. The score on this train-test\"\n",
            "/opt/conda/lib/python3.9/site-packages/sklearn/model_selection/_validation.py:610: FitFailedWarning: Estimator fit failed. The score on this train-test partition for these parameters will be set to nan. Details: \n",
            "Traceback (most recent call last):\n",
            "  File \"/opt/conda/lib/python3.9/site-packages/sklearn/model_selection/_validation.py\", line 593, in _fit_and_score\n",
            "    estimator.fit(X_train, y_train, **fit_params)\n",
            "  File \"/opt/conda/lib/python3.9/site-packages/sklearn/linear_model/_logistic.py\", line 1306, in fit\n",
            "    solver = _check_solver(self.solver, self.penalty, self.dual)\n",
            "  File \"/opt/conda/lib/python3.9/site-packages/sklearn/linear_model/_logistic.py\", line 443, in _check_solver\n",
            "    raise ValueError(\"Solver %s supports only 'l2' or 'none' penalties, \"\n",
            "ValueError: Solver lbfgs supports only 'l2' or 'none' penalties, got elasticnet penalty.\n",
            "\n",
            "  warnings.warn(\"Estimator fit failed. The score on this train-test\"\n",
            "/opt/conda/lib/python3.9/site-packages/sklearn/model_selection/_validation.py:610: FitFailedWarning: Estimator fit failed. The score on this train-test partition for these parameters will be set to nan. Details: \n",
            "Traceback (most recent call last):\n",
            "  File \"/opt/conda/lib/python3.9/site-packages/sklearn/model_selection/_validation.py\", line 593, in _fit_and_score\n",
            "    estimator.fit(X_train, y_train, **fit_params)\n",
            "  File \"/opt/conda/lib/python3.9/site-packages/sklearn/linear_model/_logistic.py\", line 1306, in fit\n",
            "    solver = _check_solver(self.solver, self.penalty, self.dual)\n",
            "  File \"/opt/conda/lib/python3.9/site-packages/sklearn/linear_model/_logistic.py\", line 450, in _check_solver\n",
            "    raise ValueError(\"Only 'saga' solver supports elasticnet penalty,\"\n",
            "ValueError: Only 'saga' solver supports elasticnet penalty, got solver=liblinear.\n",
            "\n",
            "  warnings.warn(\"Estimator fit failed. The score on this train-test\"\n",
            "/opt/conda/lib/python3.9/site-packages/sklearn/model_selection/_validation.py:610: FitFailedWarning: Estimator fit failed. The score on this train-test partition for these parameters will be set to nan. Details: \n",
            "Traceback (most recent call last):\n",
            "  File \"/opt/conda/lib/python3.9/site-packages/sklearn/model_selection/_validation.py\", line 593, in _fit_and_score\n",
            "    estimator.fit(X_train, y_train, **fit_params)\n",
            "  File \"/opt/conda/lib/python3.9/site-packages/sklearn/linear_model/_logistic.py\", line 1306, in fit\n",
            "    solver = _check_solver(self.solver, self.penalty, self.dual)\n",
            "  File \"/opt/conda/lib/python3.9/site-packages/sklearn/linear_model/_logistic.py\", line 450, in _check_solver\n",
            "    raise ValueError(\"Only 'saga' solver supports elasticnet penalty,\"\n",
            "ValueError: Only 'saga' solver supports elasticnet penalty, got solver=liblinear.\n",
            "\n",
            "  warnings.warn(\"Estimator fit failed. The score on this train-test\"\n",
            "/opt/conda/lib/python3.9/site-packages/sklearn/model_selection/_validation.py:610: FitFailedWarning: Estimator fit failed. The score on this train-test partition for these parameters will be set to nan. Details: \n",
            "Traceback (most recent call last):\n",
            "  File \"/opt/conda/lib/python3.9/site-packages/sklearn/model_selection/_validation.py\", line 593, in _fit_and_score\n",
            "    estimator.fit(X_train, y_train, **fit_params)\n",
            "  File \"/opt/conda/lib/python3.9/site-packages/sklearn/linear_model/_logistic.py\", line 1306, in fit\n",
            "    solver = _check_solver(self.solver, self.penalty, self.dual)\n",
            "  File \"/opt/conda/lib/python3.9/site-packages/sklearn/linear_model/_logistic.py\", line 450, in _check_solver\n",
            "    raise ValueError(\"Only 'saga' solver supports elasticnet penalty,\"\n",
            "ValueError: Only 'saga' solver supports elasticnet penalty, got solver=liblinear.\n",
            "\n",
            "  warnings.warn(\"Estimator fit failed. The score on this train-test\"\n",
            "/opt/conda/lib/python3.9/site-packages/sklearn/model_selection/_validation.py:610: FitFailedWarning: Estimator fit failed. The score on this train-test partition for these parameters will be set to nan. Details: \n",
            "Traceback (most recent call last):\n",
            "  File \"/opt/conda/lib/python3.9/site-packages/sklearn/model_selection/_validation.py\", line 593, in _fit_and_score\n",
            "    estimator.fit(X_train, y_train, **fit_params)\n",
            "  File \"/opt/conda/lib/python3.9/site-packages/sklearn/linear_model/_logistic.py\", line 1306, in fit\n",
            "    solver = _check_solver(self.solver, self.penalty, self.dual)\n",
            "  File \"/opt/conda/lib/python3.9/site-packages/sklearn/linear_model/_logistic.py\", line 450, in _check_solver\n",
            "    raise ValueError(\"Only 'saga' solver supports elasticnet penalty,\"\n",
            "ValueError: Only 'saga' solver supports elasticnet penalty, got solver=liblinear.\n",
            "\n",
            "  warnings.warn(\"Estimator fit failed. The score on this train-test\"\n",
            "/opt/conda/lib/python3.9/site-packages/sklearn/model_selection/_validation.py:610: FitFailedWarning: Estimator fit failed. The score on this train-test partition for these parameters will be set to nan. Details: \n",
            "Traceback (most recent call last):\n",
            "  File \"/opt/conda/lib/python3.9/site-packages/sklearn/model_selection/_validation.py\", line 593, in _fit_and_score\n",
            "    estimator.fit(X_train, y_train, **fit_params)\n",
            "  File \"/opt/conda/lib/python3.9/site-packages/sklearn/linear_model/_logistic.py\", line 1306, in fit\n",
            "    solver = _check_solver(self.solver, self.penalty, self.dual)\n",
            "  File \"/opt/conda/lib/python3.9/site-packages/sklearn/linear_model/_logistic.py\", line 450, in _check_solver\n",
            "    raise ValueError(\"Only 'saga' solver supports elasticnet penalty,\"\n",
            "ValueError: Only 'saga' solver supports elasticnet penalty, got solver=liblinear.\n",
            "\n",
            "  warnings.warn(\"Estimator fit failed. The score on this train-test\"\n",
            "/opt/conda/lib/python3.9/site-packages/sklearn/model_selection/_validation.py:610: FitFailedWarning: Estimator fit failed. The score on this train-test partition for these parameters will be set to nan. Details: \n",
            "Traceback (most recent call last):\n",
            "  File \"/opt/conda/lib/python3.9/site-packages/sklearn/model_selection/_validation.py\", line 593, in _fit_and_score\n",
            "    estimator.fit(X_train, y_train, **fit_params)\n",
            "  File \"/opt/conda/lib/python3.9/site-packages/sklearn/linear_model/_logistic.py\", line 1306, in fit\n",
            "    solver = _check_solver(self.solver, self.penalty, self.dual)\n",
            "  File \"/opt/conda/lib/python3.9/site-packages/sklearn/linear_model/_logistic.py\", line 443, in _check_solver\n",
            "    raise ValueError(\"Solver %s supports only 'l2' or 'none' penalties, \"\n",
            "ValueError: Solver newton-cg supports only 'l2' or 'none' penalties, got elasticnet penalty.\n",
            "\n",
            "  warnings.warn(\"Estimator fit failed. The score on this train-test\"\n",
            "/opt/conda/lib/python3.9/site-packages/sklearn/model_selection/_validation.py:610: FitFailedWarning: Estimator fit failed. The score on this train-test partition for these parameters will be set to nan. Details: \n",
            "Traceback (most recent call last):\n",
            "  File \"/opt/conda/lib/python3.9/site-packages/sklearn/model_selection/_validation.py\", line 593, in _fit_and_score\n",
            "    estimator.fit(X_train, y_train, **fit_params)\n",
            "  File \"/opt/conda/lib/python3.9/site-packages/sklearn/linear_model/_logistic.py\", line 1306, in fit\n",
            "    solver = _check_solver(self.solver, self.penalty, self.dual)\n",
            "  File \"/opt/conda/lib/python3.9/site-packages/sklearn/linear_model/_logistic.py\", line 443, in _check_solver\n",
            "    raise ValueError(\"Solver %s supports only 'l2' or 'none' penalties, \"\n",
            "ValueError: Solver newton-cg supports only 'l2' or 'none' penalties, got elasticnet penalty.\n",
            "\n",
            "  warnings.warn(\"Estimator fit failed. The score on this train-test\"\n",
            "/opt/conda/lib/python3.9/site-packages/sklearn/model_selection/_validation.py:610: FitFailedWarning: Estimator fit failed. The score on this train-test partition for these parameters will be set to nan. Details: \n",
            "Traceback (most recent call last):\n",
            "  File \"/opt/conda/lib/python3.9/site-packages/sklearn/model_selection/_validation.py\", line 593, in _fit_and_score\n",
            "    estimator.fit(X_train, y_train, **fit_params)\n",
            "  File \"/opt/conda/lib/python3.9/site-packages/sklearn/linear_model/_logistic.py\", line 1306, in fit\n",
            "    solver = _check_solver(self.solver, self.penalty, self.dual)\n",
            "  File \"/opt/conda/lib/python3.9/site-packages/sklearn/linear_model/_logistic.py\", line 443, in _check_solver\n",
            "    raise ValueError(\"Solver %s supports only 'l2' or 'none' penalties, \"\n",
            "ValueError: Solver newton-cg supports only 'l2' or 'none' penalties, got elasticnet penalty.\n",
            "\n",
            "  warnings.warn(\"Estimator fit failed. The score on this train-test\"\n",
            "/opt/conda/lib/python3.9/site-packages/sklearn/model_selection/_validation.py:610: FitFailedWarning: Estimator fit failed. The score on this train-test partition for these parameters will be set to nan. Details: \n",
            "Traceback (most recent call last):\n",
            "  File \"/opt/conda/lib/python3.9/site-packages/sklearn/model_selection/_validation.py\", line 593, in _fit_and_score\n",
            "    estimator.fit(X_train, y_train, **fit_params)\n",
            "  File \"/opt/conda/lib/python3.9/site-packages/sklearn/linear_model/_logistic.py\", line 1306, in fit\n",
            "    solver = _check_solver(self.solver, self.penalty, self.dual)\n",
            "  File \"/opt/conda/lib/python3.9/site-packages/sklearn/linear_model/_logistic.py\", line 443, in _check_solver\n",
            "    raise ValueError(\"Solver %s supports only 'l2' or 'none' penalties, \"\n",
            "ValueError: Solver newton-cg supports only 'l2' or 'none' penalties, got elasticnet penalty.\n",
            "\n",
            "  warnings.warn(\"Estimator fit failed. The score on this train-test\"\n",
            "/opt/conda/lib/python3.9/site-packages/sklearn/model_selection/_validation.py:610: FitFailedWarning: Estimator fit failed. The score on this train-test partition for these parameters will be set to nan. Details: \n",
            "Traceback (most recent call last):\n",
            "  File \"/opt/conda/lib/python3.9/site-packages/sklearn/model_selection/_validation.py\", line 593, in _fit_and_score\n",
            "    estimator.fit(X_train, y_train, **fit_params)\n",
            "  File \"/opt/conda/lib/python3.9/site-packages/sklearn/linear_model/_logistic.py\", line 1306, in fit\n",
            "    solver = _check_solver(self.solver, self.penalty, self.dual)\n",
            "  File \"/opt/conda/lib/python3.9/site-packages/sklearn/linear_model/_logistic.py\", line 443, in _check_solver\n",
            "    raise ValueError(\"Solver %s supports only 'l2' or 'none' penalties, \"\n",
            "ValueError: Solver newton-cg supports only 'l2' or 'none' penalties, got elasticnet penalty.\n",
            "\n",
            "  warnings.warn(\"Estimator fit failed. The score on this train-test\"\n",
            "/opt/conda/lib/python3.9/site-packages/sklearn/model_selection/_search.py:918: UserWarning: One or more of the test scores are non-finite: [       nan 0.93854629        nan 0.94090645 0.94059757 0.94090645\n",
            "        nan        nan        nan        nan 0.94059757        nan\n",
            " 0.94631186 0.94090645 0.94631186        nan        nan        nan\n",
            "        nan 0.94059757        nan 0.94631186 0.94090645 0.94631186\n",
            "        nan        nan        nan]\n",
            "  warnings.warn(\n"
          ]
        },
        {
          "data": {
            "text/plain": [
              "GridSearchCV(cv=5, estimator=LogisticRegression(random_state=99), n_jobs=-1,\n",
              "             param_grid={'C': [0.1, 0.5, 1],\n",
              "                         'penalty': ['l1', 'l2', 'elasticnet'],\n",
              "                         'solver': ['lbfgs', 'liblinear', 'newton-cg']},\n",
              "             scoring='f1')"
            ]
          },
          "execution_count": 34,
          "metadata": {},
          "output_type": "execute_result"
        }
      ],
      "source": [
        "gsc_linear.fit(features_train, target_train)"
      ]
    },
    {
      "cell_type": "code",
      "execution_count": null,
      "metadata": {
        "colab": {
          "base_uri": "https://localhost:8080/"
        },
        "id": "6ygZI4WxhYao",
        "outputId": "aed28ad3-edc9-4bfd-8119-0fb0ee6b96a1"
      },
      "outputs": [
        {
          "data": {
            "text/plain": [
              "{'C': 0.5, 'penalty': 'l2', 'solver': 'lbfgs'}"
            ]
          },
          "execution_count": 35,
          "metadata": {},
          "output_type": "execute_result"
        }
      ],
      "source": [
        "gsc_linear.best_params_"
      ]
    },
    {
      "cell_type": "code",
      "execution_count": null,
      "metadata": {
        "id": "FvkU2NVohdmE"
      },
      "outputs": [],
      "source": [
        "f1_scores.append(gsc_linear.best_score_)"
      ]
    },
    {
      "cell_type": "code",
      "execution_count": null,
      "metadata": {
        "colab": {
          "base_uri": "https://localhost:8080/",
          "height": 143
        },
        "id": "aDDWYCgThk1i",
        "outputId": "8320845d-1830-4bfb-9d34-ddf2258200aa"
      },
      "outputs": [
        {
          "data": {
            "text/html": [
              "<div>\n",
              "<style scoped>\n",
              "    .dataframe tbody tr th:only-of-type {\n",
              "        vertical-align: middle;\n",
              "    }\n",
              "\n",
              "    .dataframe tbody tr th {\n",
              "        vertical-align: top;\n",
              "    }\n",
              "\n",
              "    .dataframe thead th {\n",
              "        text-align: right;\n",
              "    }\n",
              "</style>\n",
              "<table border=\"1\" class=\"dataframe\">\n",
              "  <thead>\n",
              "    <tr style=\"text-align: right;\">\n",
              "      <th></th>\n",
              "      <th>f1 score</th>\n",
              "    </tr>\n",
              "  </thead>\n",
              "  <tbody>\n",
              "    <tr>\n",
              "      <th>DecisionTree</th>\n",
              "      <td>0.924040</td>\n",
              "    </tr>\n",
              "    <tr>\n",
              "      <th>RandomForest</th>\n",
              "      <td>0.930096</td>\n",
              "    </tr>\n",
              "    <tr>\n",
              "      <th>LogisticRegression</th>\n",
              "      <td>0.946312</td>\n",
              "    </tr>\n",
              "  </tbody>\n",
              "</table>\n",
              "</div>"
            ],
            "text/plain": [
              "                    f1 score\n",
              "DecisionTree        0.924040\n",
              "RandomForest        0.930096\n",
              "LogisticRegression  0.946312"
            ]
          },
          "execution_count": 37,
          "metadata": {},
          "output_type": "execute_result"
        }
      ],
      "source": [
        "pd.DataFrame(f1_scores, columns=['f1 score'],\n",
        "             index=['DecisionTree', 'RandomForest', 'LogisticRegression'])"
      ]
    },
    {
      "cell_type": "markdown",
      "metadata": {
        "id": "KSVSIhReirbJ"
      },
      "source": [
        "Лучше всего себя показала модель Логистической регрессии со значением метрики равным 0.95. Проверим модель на тестовой выборке."
      ]
    },
    {
      "cell_type": "markdown",
      "metadata": {
        "id": "OjtqvgOsi_hk"
      },
      "source": [
        "## Тестирование модели"
      ]
    },
    {
      "cell_type": "code",
      "execution_count": null,
      "metadata": {
        "id": "HWRfBOhJjHuF"
      },
      "outputs": [],
      "source": [
        "predictions = gsc_linear.best_estimator_.predict(features_test.reshape(-1, 1))"
      ]
    },
    {
      "cell_type": "code",
      "execution_count": null,
      "metadata": {
        "colab": {
          "base_uri": "https://localhost:8080/"
        },
        "id": "WMzShjOWjQsS",
        "outputId": "a96d652b-0f52-46f8-db93-0f3f1c7dba49"
      },
      "outputs": [
        {
          "data": {
            "text/plain": [
              "0.9315068493150684"
            ]
          },
          "execution_count": 39,
          "metadata": {},
          "output_type": "execute_result"
        }
      ],
      "source": [
        "f1_score = f1_score(target_test, predictions)\n",
        "f1_score"
      ]
    },
    {
      "cell_type": "markdown",
      "metadata": {
        "id": "VhhxpwETmDa6"
      },
      "source": [
        "На тестовой выборке метрика показала значение равное 0,93."
      ]
    },
    {
      "cell_type": "markdown",
      "metadata": {
        "id": "zk79M1QImOpp"
      },
      "source": [
        "## Общий вывод"
      ]
    },
    {
      "cell_type": "markdown",
      "metadata": {
        "id": "gSjXdsl_mSs5"
      },
      "source": [
        "Загрузили и изучили данные, обнаружили и убрали лишний столбец. Т.к. BERT ограничен 512 фичами, убрали комментарии длиной больше 512 символов. Уровняли баланс классов, даунсемплировав их. Взяли выборку из тысячи комментариев.\n",
        "\n",
        "Далее выполнили подготовку данных с использованием BERT для обучения и тестирования моделей.\n",
        "\n",
        "Рассмотрели три модели: дерево решения, случайный лес и логистическую регрессию. Лучше всего себя показала модель логистической регрессии со значением метрики f1 равным 0,95 на обучающей выборке и 0,93 - на тестовой, что можно назвать хорошим результатом."
      ]
    },
    {
      "cell_type": "code",
      "execution_count": null,
      "metadata": {
        "id": "twzXE5_indUR"
      },
      "outputs": [],
      "source": []
    }
  ],
  "metadata": {
    "ExecuteTimeLog": [
      {
        "duration": 5863,
        "start_time": "2024-04-20T13:37:10.385Z"
      },
      {
        "duration": 301,
        "start_time": "2024-04-20T13:37:16.250Z"
      },
      {
        "duration": 0,
        "start_time": "2024-04-20T13:37:16.554Z"
      },
      {
        "duration": 0,
        "start_time": "2024-04-20T13:37:16.554Z"
      },
      {
        "duration": 0,
        "start_time": "2024-04-20T13:37:16.555Z"
      },
      {
        "duration": 0,
        "start_time": "2024-04-20T13:37:16.556Z"
      },
      {
        "duration": 0,
        "start_time": "2024-04-20T13:37:16.557Z"
      },
      {
        "duration": 0,
        "start_time": "2024-04-20T13:37:16.558Z"
      },
      {
        "duration": 0,
        "start_time": "2024-04-20T13:37:16.559Z"
      },
      {
        "duration": 0,
        "start_time": "2024-04-20T13:37:16.559Z"
      },
      {
        "duration": 0,
        "start_time": "2024-04-20T13:37:16.560Z"
      },
      {
        "duration": 0,
        "start_time": "2024-04-20T13:37:16.561Z"
      },
      {
        "duration": 0,
        "start_time": "2024-04-20T13:37:16.562Z"
      },
      {
        "duration": 0,
        "start_time": "2024-04-20T13:37:16.563Z"
      },
      {
        "duration": 0,
        "start_time": "2024-04-20T13:37:16.582Z"
      },
      {
        "duration": 0,
        "start_time": "2024-04-20T13:37:16.583Z"
      },
      {
        "duration": 0,
        "start_time": "2024-04-20T13:37:16.584Z"
      },
      {
        "duration": 0,
        "start_time": "2024-04-20T13:37:16.585Z"
      },
      {
        "duration": 0,
        "start_time": "2024-04-20T13:37:16.586Z"
      },
      {
        "duration": 0,
        "start_time": "2024-04-20T13:37:16.587Z"
      },
      {
        "duration": 0,
        "start_time": "2024-04-20T13:37:16.588Z"
      },
      {
        "duration": 0,
        "start_time": "2024-04-20T13:37:16.589Z"
      },
      {
        "duration": 0,
        "start_time": "2024-04-20T13:37:16.590Z"
      },
      {
        "duration": 0,
        "start_time": "2024-04-20T13:37:16.591Z"
      },
      {
        "duration": 0,
        "start_time": "2024-04-20T13:37:16.592Z"
      },
      {
        "duration": 0,
        "start_time": "2024-04-20T13:37:16.593Z"
      },
      {
        "duration": 0,
        "start_time": "2024-04-20T13:37:16.594Z"
      },
      {
        "duration": 0,
        "start_time": "2024-04-20T13:37:16.595Z"
      },
      {
        "duration": 0,
        "start_time": "2024-04-20T13:37:16.596Z"
      },
      {
        "duration": 0,
        "start_time": "2024-04-20T13:37:16.597Z"
      },
      {
        "duration": 0,
        "start_time": "2024-04-20T13:37:16.598Z"
      },
      {
        "duration": 0,
        "start_time": "2024-04-20T13:37:16.599Z"
      },
      {
        "duration": 0,
        "start_time": "2024-04-20T13:37:16.600Z"
      },
      {
        "duration": 0,
        "start_time": "2024-04-20T13:37:16.601Z"
      },
      {
        "duration": 0,
        "start_time": "2024-04-20T13:37:16.602Z"
      },
      {
        "duration": 0,
        "start_time": "2024-04-20T13:37:16.603Z"
      },
      {
        "duration": 0,
        "start_time": "2024-04-20T13:37:16.604Z"
      },
      {
        "duration": 0,
        "start_time": "2024-04-20T13:37:16.605Z"
      },
      {
        "duration": 0,
        "start_time": "2024-04-20T13:37:16.606Z"
      },
      {
        "duration": 4044,
        "start_time": "2024-04-20T13:43:05.367Z"
      },
      {
        "duration": 3111,
        "start_time": "2024-04-20T13:43:09.413Z"
      },
      {
        "duration": 37,
        "start_time": "2024-04-20T13:43:12.525Z"
      },
      {
        "duration": 10,
        "start_time": "2024-04-20T13:43:12.564Z"
      },
      {
        "duration": 12,
        "start_time": "2024-04-20T13:43:12.575Z"
      },
      {
        "duration": 110,
        "start_time": "2024-04-20T13:43:12.588Z"
      },
      {
        "duration": 4,
        "start_time": "2024-04-20T13:43:12.699Z"
      },
      {
        "duration": 51,
        "start_time": "2024-04-20T13:43:12.704Z"
      },
      {
        "duration": 20,
        "start_time": "2024-04-20T13:43:12.756Z"
      },
      {
        "duration": 26,
        "start_time": "2024-04-20T13:43:12.778Z"
      },
      {
        "duration": 7,
        "start_time": "2024-04-20T13:43:12.806Z"
      },
      {
        "duration": 16,
        "start_time": "2024-04-20T13:43:12.814Z"
      },
      {
        "duration": 12639,
        "start_time": "2024-04-20T13:43:12.831Z"
      },
      {
        "duration": 328,
        "start_time": "2024-04-20T13:43:25.474Z"
      },
      {
        "duration": 264671,
        "start_time": "2024-04-20T13:43:25.804Z"
      },
      {
        "duration": 3,
        "start_time": "2024-04-20T13:47:50.476Z"
      },
      {
        "duration": 6,
        "start_time": "2024-04-20T13:47:50.480Z"
      },
      {
        "duration": 7,
        "start_time": "2024-04-20T13:47:50.488Z"
      },
      {
        "duration": 11,
        "start_time": "2024-04-20T13:47:50.496Z"
      },
      {
        "duration": 10,
        "start_time": "2024-04-20T13:47:50.508Z"
      },
      {
        "duration": 15,
        "start_time": "2024-04-20T13:47:50.519Z"
      },
      {
        "duration": 4201,
        "start_time": "2024-04-20T13:47:50.536Z"
      },
      {
        "duration": 3,
        "start_time": "2024-04-20T13:47:54.738Z"
      },
      {
        "duration": 20,
        "start_time": "2024-04-20T13:47:54.743Z"
      },
      {
        "duration": 12,
        "start_time": "2024-04-20T13:47:54.765Z"
      },
      {
        "duration": 19,
        "start_time": "2024-04-20T13:47:54.779Z"
      },
      {
        "duration": 5,
        "start_time": "2024-04-20T13:47:54.800Z"
      },
      {
        "duration": 34733,
        "start_time": "2024-04-20T13:47:54.808Z"
      },
      {
        "duration": 3,
        "start_time": "2024-04-20T13:48:29.542Z"
      },
      {
        "duration": 4,
        "start_time": "2024-04-20T13:48:29.547Z"
      },
      {
        "duration": 22,
        "start_time": "2024-04-20T13:48:29.553Z"
      },
      {
        "duration": 21,
        "start_time": "2024-04-20T13:48:29.576Z"
      },
      {
        "duration": 6,
        "start_time": "2024-04-20T13:48:29.599Z"
      },
      {
        "duration": 26708,
        "start_time": "2024-04-20T13:48:29.606Z"
      },
      {
        "duration": 3,
        "start_time": "2024-04-20T13:48:56.315Z"
      },
      {
        "duration": 11,
        "start_time": "2024-04-20T13:48:56.320Z"
      },
      {
        "duration": 8,
        "start_time": "2024-04-20T13:48:56.332Z"
      },
      {
        "duration": 33,
        "start_time": "2024-04-20T13:48:56.342Z"
      },
      {
        "duration": 98,
        "start_time": "2024-04-20T13:48:56.377Z"
      },
      {
        "duration": 4036,
        "start_time": "2024-04-21T09:49:12.100Z"
      },
      {
        "duration": 3152,
        "start_time": "2024-04-21T09:49:16.138Z"
      },
      {
        "duration": 37,
        "start_time": "2024-04-21T09:49:19.291Z"
      },
      {
        "duration": 9,
        "start_time": "2024-04-21T09:49:19.330Z"
      },
      {
        "duration": 12,
        "start_time": "2024-04-21T09:49:19.340Z"
      },
      {
        "duration": 124,
        "start_time": "2024-04-21T09:49:19.353Z"
      },
      {
        "duration": 3,
        "start_time": "2024-04-21T09:49:19.478Z"
      },
      {
        "duration": 9,
        "start_time": "2024-04-21T09:49:19.482Z"
      },
      {
        "duration": 13,
        "start_time": "2024-04-21T09:49:19.492Z"
      },
      {
        "duration": 23,
        "start_time": "2024-04-21T09:49:19.508Z"
      },
      {
        "duration": 23,
        "start_time": "2024-04-21T09:49:19.532Z"
      },
      {
        "duration": 24,
        "start_time": "2024-04-21T09:49:19.556Z"
      },
      {
        "duration": 7331,
        "start_time": "2024-04-21T09:49:19.582Z"
      },
      {
        "duration": 675,
        "start_time": "2024-04-21T09:49:26.915Z"
      },
      {
        "duration": 420190,
        "start_time": "2024-04-21T09:49:27.592Z"
      },
      {
        "duration": 4,
        "start_time": "2024-04-21T09:56:27.784Z"
      },
      {
        "duration": 33,
        "start_time": "2024-04-21T09:56:27.790Z"
      },
      {
        "duration": 36,
        "start_time": "2024-04-21T09:56:27.825Z"
      },
      {
        "duration": 31,
        "start_time": "2024-04-21T09:56:27.863Z"
      },
      {
        "duration": 15,
        "start_time": "2024-04-21T09:56:27.896Z"
      },
      {
        "duration": 45,
        "start_time": "2024-04-21T09:56:27.913Z"
      },
      {
        "duration": 14216,
        "start_time": "2024-04-21T09:56:27.959Z"
      },
      {
        "duration": 3,
        "start_time": "2024-04-21T09:56:42.177Z"
      },
      {
        "duration": 13,
        "start_time": "2024-04-21T09:56:42.181Z"
      },
      {
        "duration": 5,
        "start_time": "2024-04-21T09:56:42.195Z"
      },
      {
        "duration": 5,
        "start_time": "2024-04-21T09:56:42.201Z"
      },
      {
        "duration": 14,
        "start_time": "2024-04-21T09:56:42.207Z"
      },
      {
        "duration": 60257,
        "start_time": "2024-04-21T09:56:42.223Z"
      },
      {
        "duration": 3,
        "start_time": "2024-04-21T09:57:42.481Z"
      },
      {
        "duration": 11,
        "start_time": "2024-04-21T09:57:42.485Z"
      },
      {
        "duration": 4,
        "start_time": "2024-04-21T09:57:42.498Z"
      },
      {
        "duration": 5,
        "start_time": "2024-04-21T09:57:42.504Z"
      },
      {
        "duration": 24,
        "start_time": "2024-04-21T09:57:42.511Z"
      },
      {
        "duration": 40340,
        "start_time": "2024-04-21T09:57:42.536Z"
      },
      {
        "duration": 5,
        "start_time": "2024-04-21T09:58:22.878Z"
      },
      {
        "duration": 99,
        "start_time": "2024-04-21T09:58:22.884Z"
      },
      {
        "duration": 10,
        "start_time": "2024-04-21T09:58:22.984Z"
      },
      {
        "duration": 7,
        "start_time": "2024-04-21T09:58:22.996Z"
      },
      {
        "duration": 71,
        "start_time": "2024-04-21T09:58:23.005Z"
      },
      {
        "duration": 4,
        "start_time": "2024-04-21T10:00:04.883Z"
      },
      {
        "duration": 817,
        "start_time": "2024-04-21T10:00:04.888Z"
      },
      {
        "duration": 31,
        "start_time": "2024-04-21T10:00:05.707Z"
      },
      {
        "duration": 20,
        "start_time": "2024-04-21T10:00:05.739Z"
      },
      {
        "duration": 31,
        "start_time": "2024-04-21T10:00:05.761Z"
      },
      {
        "duration": 118,
        "start_time": "2024-04-21T10:00:05.793Z"
      },
      {
        "duration": 2,
        "start_time": "2024-04-21T10:00:05.912Z"
      },
      {
        "duration": 11,
        "start_time": "2024-04-21T10:00:05.916Z"
      },
      {
        "duration": 17,
        "start_time": "2024-04-21T10:00:05.928Z"
      },
      {
        "duration": 40,
        "start_time": "2024-04-21T10:00:05.947Z"
      },
      {
        "duration": 72,
        "start_time": "2024-04-21T10:00:05.988Z"
      },
      {
        "duration": 70,
        "start_time": "2024-04-21T10:00:06.062Z"
      },
      {
        "duration": 5363,
        "start_time": "2024-04-21T10:00:06.133Z"
      },
      {
        "duration": 0,
        "start_time": "2024-04-21T10:00:11.499Z"
      },
      {
        "duration": 0,
        "start_time": "2024-04-21T10:00:11.500Z"
      },
      {
        "duration": 0,
        "start_time": "2024-04-21T10:00:11.501Z"
      },
      {
        "duration": 0,
        "start_time": "2024-04-21T10:00:11.502Z"
      },
      {
        "duration": 0,
        "start_time": "2024-04-21T10:00:11.503Z"
      },
      {
        "duration": 0,
        "start_time": "2024-04-21T10:00:11.504Z"
      },
      {
        "duration": 0,
        "start_time": "2024-04-21T10:00:11.506Z"
      },
      {
        "duration": 0,
        "start_time": "2024-04-21T10:00:11.507Z"
      },
      {
        "duration": 0,
        "start_time": "2024-04-21T10:00:11.508Z"
      },
      {
        "duration": 0,
        "start_time": "2024-04-21T10:00:11.509Z"
      },
      {
        "duration": 0,
        "start_time": "2024-04-21T10:00:11.510Z"
      },
      {
        "duration": 0,
        "start_time": "2024-04-21T10:00:11.511Z"
      },
      {
        "duration": 0,
        "start_time": "2024-04-21T10:00:11.512Z"
      },
      {
        "duration": 0,
        "start_time": "2024-04-21T10:00:11.513Z"
      },
      {
        "duration": 0,
        "start_time": "2024-04-21T10:00:11.514Z"
      },
      {
        "duration": 0,
        "start_time": "2024-04-21T10:00:11.514Z"
      },
      {
        "duration": 0,
        "start_time": "2024-04-21T10:00:11.515Z"
      },
      {
        "duration": 0,
        "start_time": "2024-04-21T10:00:11.516Z"
      },
      {
        "duration": 0,
        "start_time": "2024-04-21T10:00:11.517Z"
      },
      {
        "duration": 0,
        "start_time": "2024-04-21T10:00:11.518Z"
      },
      {
        "duration": 0,
        "start_time": "2024-04-21T10:00:11.519Z"
      },
      {
        "duration": 0,
        "start_time": "2024-04-21T10:00:11.520Z"
      },
      {
        "duration": 0,
        "start_time": "2024-04-21T10:00:11.521Z"
      },
      {
        "duration": 0,
        "start_time": "2024-04-21T10:00:11.522Z"
      },
      {
        "duration": 0,
        "start_time": "2024-04-21T10:00:11.523Z"
      },
      {
        "duration": 0,
        "start_time": "2024-04-21T10:00:11.524Z"
      },
      {
        "duration": 14,
        "start_time": "2024-04-21T10:01:06.054Z"
      },
      {
        "duration": 14,
        "start_time": "2024-04-21T10:01:31.305Z"
      },
      {
        "duration": 16658,
        "start_time": "2024-04-21T10:01:35.339Z"
      },
      {
        "duration": 505,
        "start_time": "2024-04-21T10:02:02.618Z"
      },
      {
        "duration": 480781,
        "start_time": "2024-04-21T10:02:03.125Z"
      },
      {
        "duration": 4,
        "start_time": "2024-04-21T10:10:03.907Z"
      },
      {
        "duration": 18,
        "start_time": "2024-04-21T10:10:03.913Z"
      },
      {
        "duration": 46,
        "start_time": "2024-04-21T10:10:03.932Z"
      },
      {
        "duration": 6,
        "start_time": "2024-04-21T10:10:03.979Z"
      },
      {
        "duration": 6,
        "start_time": "2024-04-21T10:10:03.986Z"
      },
      {
        "duration": 18,
        "start_time": "2024-04-21T10:10:03.993Z"
      },
      {
        "duration": 14640,
        "start_time": "2024-04-21T10:10:04.013Z"
      },
      {
        "duration": 4,
        "start_time": "2024-04-21T10:10:18.655Z"
      },
      {
        "duration": 38,
        "start_time": "2024-04-21T10:10:18.660Z"
      },
      {
        "duration": 25,
        "start_time": "2024-04-21T10:10:18.699Z"
      },
      {
        "duration": 22,
        "start_time": "2024-04-21T10:10:18.725Z"
      },
      {
        "duration": 13,
        "start_time": "2024-04-21T10:10:18.748Z"
      },
      {
        "duration": 59495,
        "start_time": "2024-04-21T10:10:18.763Z"
      },
      {
        "duration": 5,
        "start_time": "2024-04-21T10:11:18.260Z"
      },
      {
        "duration": 8,
        "start_time": "2024-04-21T10:11:18.266Z"
      },
      {
        "duration": 5,
        "start_time": "2024-04-21T10:11:18.276Z"
      },
      {
        "duration": 9,
        "start_time": "2024-04-21T10:11:18.282Z"
      },
      {
        "duration": 20,
        "start_time": "2024-04-21T10:11:18.292Z"
      },
      {
        "duration": 36542,
        "start_time": "2024-04-21T10:11:18.313Z"
      },
      {
        "duration": 17,
        "start_time": "2024-04-21T10:11:54.857Z"
      },
      {
        "duration": 2,
        "start_time": "2024-04-21T10:11:54.876Z"
      },
      {
        "duration": 16,
        "start_time": "2024-04-21T10:11:54.879Z"
      },
      {
        "duration": 4,
        "start_time": "2024-04-21T10:11:54.896Z"
      },
      {
        "duration": 72,
        "start_time": "2024-04-21T10:11:54.902Z"
      },
      {
        "duration": 3749,
        "start_time": "2024-04-21T10:13:23.548Z"
      },
      {
        "duration": 796,
        "start_time": "2024-04-21T10:13:27.299Z"
      },
      {
        "duration": 37,
        "start_time": "2024-04-21T10:13:28.097Z"
      },
      {
        "duration": 9,
        "start_time": "2024-04-21T10:13:28.137Z"
      },
      {
        "duration": 21,
        "start_time": "2024-04-21T10:13:28.148Z"
      },
      {
        "duration": 122,
        "start_time": "2024-04-21T10:13:28.170Z"
      },
      {
        "duration": 2,
        "start_time": "2024-04-21T10:13:28.294Z"
      },
      {
        "duration": 33,
        "start_time": "2024-04-21T10:13:28.297Z"
      },
      {
        "duration": 13,
        "start_time": "2024-04-21T10:13:28.331Z"
      },
      {
        "duration": 9,
        "start_time": "2024-04-21T10:13:28.347Z"
      },
      {
        "duration": 12,
        "start_time": "2024-04-21T10:13:28.358Z"
      },
      {
        "duration": 15,
        "start_time": "2024-04-21T10:13:28.371Z"
      },
      {
        "duration": 6152,
        "start_time": "2024-04-21T10:13:28.388Z"
      },
      {
        "duration": 0,
        "start_time": "2024-04-21T10:13:34.542Z"
      },
      {
        "duration": 0,
        "start_time": "2024-04-21T10:13:34.543Z"
      },
      {
        "duration": 0,
        "start_time": "2024-04-21T10:13:34.544Z"
      },
      {
        "duration": 0,
        "start_time": "2024-04-21T10:13:34.545Z"
      },
      {
        "duration": 0,
        "start_time": "2024-04-21T10:13:34.546Z"
      },
      {
        "duration": 0,
        "start_time": "2024-04-21T10:13:34.547Z"
      },
      {
        "duration": 0,
        "start_time": "2024-04-21T10:13:34.548Z"
      },
      {
        "duration": 0,
        "start_time": "2024-04-21T10:13:34.549Z"
      },
      {
        "duration": 0,
        "start_time": "2024-04-21T10:13:34.549Z"
      },
      {
        "duration": 0,
        "start_time": "2024-04-21T10:13:34.550Z"
      },
      {
        "duration": 0,
        "start_time": "2024-04-21T10:13:34.551Z"
      },
      {
        "duration": 0,
        "start_time": "2024-04-21T10:13:34.552Z"
      },
      {
        "duration": 0,
        "start_time": "2024-04-21T10:13:34.552Z"
      },
      {
        "duration": 0,
        "start_time": "2024-04-21T10:13:34.574Z"
      },
      {
        "duration": 0,
        "start_time": "2024-04-21T10:13:34.575Z"
      },
      {
        "duration": 0,
        "start_time": "2024-04-21T10:13:34.576Z"
      },
      {
        "duration": 0,
        "start_time": "2024-04-21T10:13:34.577Z"
      },
      {
        "duration": 0,
        "start_time": "2024-04-21T10:13:34.578Z"
      },
      {
        "duration": 1,
        "start_time": "2024-04-21T10:13:34.578Z"
      },
      {
        "duration": 0,
        "start_time": "2024-04-21T10:13:34.579Z"
      },
      {
        "duration": 0,
        "start_time": "2024-04-21T10:13:34.580Z"
      },
      {
        "duration": 0,
        "start_time": "2024-04-21T10:13:34.581Z"
      },
      {
        "duration": 0,
        "start_time": "2024-04-21T10:13:34.582Z"
      },
      {
        "duration": 0,
        "start_time": "2024-04-21T10:13:34.583Z"
      },
      {
        "duration": 0,
        "start_time": "2024-04-21T10:13:34.584Z"
      },
      {
        "duration": 0,
        "start_time": "2024-04-21T10:13:34.585Z"
      },
      {
        "duration": 15,
        "start_time": "2024-04-21T10:14:23.803Z"
      },
      {
        "duration": 4,
        "start_time": "2024-04-21T10:14:29.476Z"
      },
      {
        "duration": 27116,
        "start_time": "2024-04-21T10:14:35.259Z"
      },
      {
        "duration": 238,
        "start_time": "2024-04-21T10:15:09.141Z"
      },
      {
        "duration": 552412,
        "start_time": "2024-04-21T10:15:09.381Z"
      },
      {
        "duration": 5,
        "start_time": "2024-04-21T10:24:21.795Z"
      },
      {
        "duration": 5,
        "start_time": "2024-04-21T10:24:21.802Z"
      },
      {
        "duration": 3,
        "start_time": "2024-04-21T10:24:21.809Z"
      },
      {
        "duration": 21,
        "start_time": "2024-04-21T10:24:21.813Z"
      },
      {
        "duration": 5,
        "start_time": "2024-04-21T10:24:21.836Z"
      },
      {
        "duration": 7,
        "start_time": "2024-04-21T10:24:21.843Z"
      },
      {
        "duration": 15150,
        "start_time": "2024-04-21T10:24:21.851Z"
      },
      {
        "duration": 3,
        "start_time": "2024-04-21T10:24:37.004Z"
      },
      {
        "duration": 14,
        "start_time": "2024-04-21T10:24:37.008Z"
      },
      {
        "duration": 9,
        "start_time": "2024-04-21T10:24:37.023Z"
      },
      {
        "duration": 4,
        "start_time": "2024-04-21T10:24:37.033Z"
      },
      {
        "duration": 5,
        "start_time": "2024-04-21T10:24:37.038Z"
      },
      {
        "duration": 60089,
        "start_time": "2024-04-21T10:24:37.044Z"
      },
      {
        "duration": 4,
        "start_time": "2024-04-21T10:25:37.134Z"
      },
      {
        "duration": 35,
        "start_time": "2024-04-21T10:25:37.139Z"
      },
      {
        "duration": 13,
        "start_time": "2024-04-21T10:25:37.175Z"
      },
      {
        "duration": 5,
        "start_time": "2024-04-21T10:25:37.190Z"
      },
      {
        "duration": 4,
        "start_time": "2024-04-21T10:25:37.196Z"
      },
      {
        "duration": 31575,
        "start_time": "2024-04-21T10:25:37.201Z"
      },
      {
        "duration": 97,
        "start_time": "2024-04-21T10:26:08.778Z"
      },
      {
        "duration": 2,
        "start_time": "2024-04-21T10:26:08.877Z"
      },
      {
        "duration": 16,
        "start_time": "2024-04-21T10:26:08.880Z"
      },
      {
        "duration": 25,
        "start_time": "2024-04-21T10:26:08.898Z"
      },
      {
        "duration": 58,
        "start_time": "2024-04-21T10:26:08.926Z"
      },
      {
        "duration": 3858,
        "start_time": "2024-04-21T10:36:57.660Z"
      },
      {
        "duration": 3170,
        "start_time": "2024-04-21T10:37:01.520Z"
      },
      {
        "duration": 41,
        "start_time": "2024-04-21T10:37:04.691Z"
      },
      {
        "duration": 12,
        "start_time": "2024-04-21T10:37:04.733Z"
      },
      {
        "duration": 18,
        "start_time": "2024-04-21T10:37:04.747Z"
      },
      {
        "duration": 130,
        "start_time": "2024-04-21T10:37:04.767Z"
      },
      {
        "duration": 3,
        "start_time": "2024-04-21T10:37:04.898Z"
      },
      {
        "duration": 9,
        "start_time": "2024-04-21T10:37:04.902Z"
      },
      {
        "duration": 4,
        "start_time": "2024-04-21T10:37:04.912Z"
      },
      {
        "duration": 12,
        "start_time": "2024-04-21T10:37:04.917Z"
      },
      {
        "duration": 15,
        "start_time": "2024-04-21T10:37:04.930Z"
      },
      {
        "duration": 16,
        "start_time": "2024-04-21T10:37:04.946Z"
      },
      {
        "duration": 18620,
        "start_time": "2024-04-21T10:37:04.976Z"
      },
      {
        "duration": 266,
        "start_time": "2024-04-21T10:37:23.599Z"
      },
      {
        "duration": 60888,
        "start_time": "2024-04-21T10:37:23.867Z"
      },
      {
        "duration": 0,
        "start_time": "2024-04-21T10:38:24.756Z"
      },
      {
        "duration": 0,
        "start_time": "2024-04-21T10:38:24.757Z"
      },
      {
        "duration": 0,
        "start_time": "2024-04-21T10:38:24.758Z"
      },
      {
        "duration": 0,
        "start_time": "2024-04-21T10:38:24.759Z"
      },
      {
        "duration": 0,
        "start_time": "2024-04-21T10:38:24.760Z"
      },
      {
        "duration": 0,
        "start_time": "2024-04-21T10:38:24.761Z"
      },
      {
        "duration": 0,
        "start_time": "2024-04-21T10:38:24.775Z"
      },
      {
        "duration": 0,
        "start_time": "2024-04-21T10:38:24.776Z"
      },
      {
        "duration": 0,
        "start_time": "2024-04-21T10:38:24.777Z"
      },
      {
        "duration": 0,
        "start_time": "2024-04-21T10:38:24.777Z"
      },
      {
        "duration": 0,
        "start_time": "2024-04-21T10:38:24.778Z"
      },
      {
        "duration": 0,
        "start_time": "2024-04-21T10:38:24.779Z"
      },
      {
        "duration": 0,
        "start_time": "2024-04-21T10:38:24.780Z"
      },
      {
        "duration": 0,
        "start_time": "2024-04-21T10:38:24.782Z"
      },
      {
        "duration": 0,
        "start_time": "2024-04-21T10:38:24.783Z"
      },
      {
        "duration": 0,
        "start_time": "2024-04-21T10:38:24.785Z"
      },
      {
        "duration": 0,
        "start_time": "2024-04-21T10:38:24.786Z"
      },
      {
        "duration": 0,
        "start_time": "2024-04-21T10:38:24.787Z"
      },
      {
        "duration": 0,
        "start_time": "2024-04-21T10:38:24.789Z"
      },
      {
        "duration": 0,
        "start_time": "2024-04-21T10:38:24.790Z"
      },
      {
        "duration": 0,
        "start_time": "2024-04-21T10:38:24.792Z"
      },
      {
        "duration": 0,
        "start_time": "2024-04-21T10:38:24.793Z"
      },
      {
        "duration": 0,
        "start_time": "2024-04-21T10:38:24.794Z"
      },
      {
        "duration": 0,
        "start_time": "2024-04-21T10:38:24.795Z"
      },
      {
        "duration": 3795,
        "start_time": "2024-04-21T10:39:00.562Z"
      },
      {
        "duration": 824,
        "start_time": "2024-04-21T10:39:04.359Z"
      },
      {
        "duration": 40,
        "start_time": "2024-04-21T10:39:05.184Z"
      },
      {
        "duration": 14,
        "start_time": "2024-04-21T10:39:05.225Z"
      },
      {
        "duration": 7,
        "start_time": "2024-04-21T10:39:05.241Z"
      },
      {
        "duration": 145,
        "start_time": "2024-04-21T10:39:05.249Z"
      },
      {
        "duration": 2,
        "start_time": "2024-04-21T10:39:05.395Z"
      },
      {
        "duration": 32,
        "start_time": "2024-04-21T10:39:05.399Z"
      },
      {
        "duration": 7,
        "start_time": "2024-04-21T10:39:05.433Z"
      },
      {
        "duration": 34,
        "start_time": "2024-04-21T10:39:05.441Z"
      },
      {
        "duration": 35,
        "start_time": "2024-04-21T10:39:05.476Z"
      },
      {
        "duration": 18,
        "start_time": "2024-04-21T10:39:05.513Z"
      },
      {
        "duration": 5855,
        "start_time": "2024-04-21T10:39:05.532Z"
      },
      {
        "duration": 146,
        "start_time": "2024-04-21T10:39:11.391Z"
      },
      {
        "duration": 43444,
        "start_time": "2024-04-21T10:39:11.539Z"
      },
      {
        "duration": 0,
        "start_time": "2024-04-21T10:39:54.984Z"
      },
      {
        "duration": 0,
        "start_time": "2024-04-21T10:39:54.985Z"
      },
      {
        "duration": 0,
        "start_time": "2024-04-21T10:39:54.986Z"
      },
      {
        "duration": 0,
        "start_time": "2024-04-21T10:39:54.987Z"
      },
      {
        "duration": 0,
        "start_time": "2024-04-21T10:39:54.988Z"
      },
      {
        "duration": 0,
        "start_time": "2024-04-21T10:39:54.989Z"
      },
      {
        "duration": 0,
        "start_time": "2024-04-21T10:39:54.989Z"
      },
      {
        "duration": 0,
        "start_time": "2024-04-21T10:39:54.990Z"
      },
      {
        "duration": 0,
        "start_time": "2024-04-21T10:39:54.991Z"
      },
      {
        "duration": 0,
        "start_time": "2024-04-21T10:39:54.992Z"
      },
      {
        "duration": 0,
        "start_time": "2024-04-21T10:39:54.993Z"
      },
      {
        "duration": 0,
        "start_time": "2024-04-21T10:39:54.994Z"
      },
      {
        "duration": 0,
        "start_time": "2024-04-21T10:39:54.995Z"
      },
      {
        "duration": 0,
        "start_time": "2024-04-21T10:39:54.996Z"
      },
      {
        "duration": 0,
        "start_time": "2024-04-21T10:39:54.997Z"
      },
      {
        "duration": 0,
        "start_time": "2024-04-21T10:39:54.998Z"
      },
      {
        "duration": 0,
        "start_time": "2024-04-21T10:39:54.999Z"
      },
      {
        "duration": 0,
        "start_time": "2024-04-21T10:39:55.000Z"
      },
      {
        "duration": 0,
        "start_time": "2024-04-21T10:39:55.001Z"
      },
      {
        "duration": 0,
        "start_time": "2024-04-21T10:39:55.001Z"
      },
      {
        "duration": 0,
        "start_time": "2024-04-21T10:39:55.002Z"
      },
      {
        "duration": 0,
        "start_time": "2024-04-21T10:39:55.003Z"
      },
      {
        "duration": 0,
        "start_time": "2024-04-21T10:39:55.004Z"
      },
      {
        "duration": 0,
        "start_time": "2024-04-21T10:39:55.005Z"
      },
      {
        "duration": 213219,
        "start_time": "2024-04-21T10:43:16.184Z"
      },
      {
        "duration": 3,
        "start_time": "2024-04-21T10:46:49.405Z"
      },
      {
        "duration": 37,
        "start_time": "2024-04-21T10:46:49.409Z"
      },
      {
        "duration": 21,
        "start_time": "2024-04-21T10:46:49.448Z"
      },
      {
        "duration": 7,
        "start_time": "2024-04-21T10:46:49.471Z"
      },
      {
        "duration": 28,
        "start_time": "2024-04-21T10:46:49.480Z"
      },
      {
        "duration": 7,
        "start_time": "2024-04-21T10:46:49.510Z"
      },
      {
        "duration": 154,
        "start_time": "2024-04-21T10:46:49.519Z"
      },
      {
        "duration": 0,
        "start_time": "2024-04-21T10:46:49.695Z"
      },
      {
        "duration": 0,
        "start_time": "2024-04-21T10:46:49.697Z"
      },
      {
        "duration": 0,
        "start_time": "2024-04-21T10:46:49.698Z"
      },
      {
        "duration": 0,
        "start_time": "2024-04-21T10:46:49.698Z"
      },
      {
        "duration": 0,
        "start_time": "2024-04-21T10:46:49.699Z"
      },
      {
        "duration": 0,
        "start_time": "2024-04-21T10:46:49.701Z"
      },
      {
        "duration": 0,
        "start_time": "2024-04-21T10:46:49.702Z"
      },
      {
        "duration": 0,
        "start_time": "2024-04-21T10:46:49.703Z"
      },
      {
        "duration": 0,
        "start_time": "2024-04-21T10:46:49.704Z"
      },
      {
        "duration": 0,
        "start_time": "2024-04-21T10:46:49.705Z"
      },
      {
        "duration": 0,
        "start_time": "2024-04-21T10:46:49.706Z"
      },
      {
        "duration": 0,
        "start_time": "2024-04-21T10:46:49.707Z"
      },
      {
        "duration": 0,
        "start_time": "2024-04-21T10:46:49.708Z"
      },
      {
        "duration": 0,
        "start_time": "2024-04-21T10:46:49.709Z"
      },
      {
        "duration": 0,
        "start_time": "2024-04-21T10:46:49.710Z"
      },
      {
        "duration": 0,
        "start_time": "2024-04-21T10:46:49.711Z"
      },
      {
        "duration": 0,
        "start_time": "2024-04-21T10:46:49.712Z"
      },
      {
        "duration": 88,
        "start_time": "2024-04-21T10:47:49.675Z"
      },
      {
        "duration": 3,
        "start_time": "2024-04-21T10:47:55.186Z"
      },
      {
        "duration": 2,
        "start_time": "2024-04-21T10:47:58.261Z"
      },
      {
        "duration": 3,
        "start_time": "2024-04-21T10:48:00.129Z"
      },
      {
        "duration": 2,
        "start_time": "2024-04-21T10:48:00.954Z"
      },
      {
        "duration": 15,
        "start_time": "2024-04-21T10:48:04.159Z"
      },
      {
        "duration": 3,
        "start_time": "2024-04-21T10:48:07.282Z"
      },
      {
        "duration": 15804,
        "start_time": "2024-04-21T10:48:08.122Z"
      },
      {
        "duration": 4,
        "start_time": "2024-04-21T10:48:23.928Z"
      },
      {
        "duration": 22,
        "start_time": "2024-04-21T10:48:23.933Z"
      },
      {
        "duration": 11,
        "start_time": "2024-04-21T10:48:23.957Z"
      },
      {
        "duration": 12,
        "start_time": "2024-04-21T10:48:23.969Z"
      },
      {
        "duration": 5,
        "start_time": "2024-04-21T10:48:23.982Z"
      },
      {
        "duration": 413,
        "start_time": "2024-04-21T10:48:23.988Z"
      },
      {
        "duration": 3,
        "start_time": "2024-04-21T10:48:24.402Z"
      },
      {
        "duration": 9,
        "start_time": "2024-04-21T10:48:24.407Z"
      },
      {
        "duration": 10,
        "start_time": "2024-04-21T10:48:24.419Z"
      },
      {
        "duration": 3,
        "start_time": "2024-04-21T10:48:51.012Z"
      },
      {
        "duration": 6,
        "start_time": "2024-04-21T10:48:51.774Z"
      },
      {
        "duration": 3651,
        "start_time": "2024-04-21T10:51:50.489Z"
      },
      {
        "duration": 796,
        "start_time": "2024-04-21T10:51:54.142Z"
      },
      {
        "duration": 36,
        "start_time": "2024-04-21T10:51:54.939Z"
      },
      {
        "duration": 9,
        "start_time": "2024-04-21T10:51:54.977Z"
      },
      {
        "duration": 6,
        "start_time": "2024-04-21T10:51:54.987Z"
      },
      {
        "duration": 133,
        "start_time": "2024-04-21T10:51:54.994Z"
      },
      {
        "duration": 2,
        "start_time": "2024-04-21T10:51:55.129Z"
      },
      {
        "duration": 7,
        "start_time": "2024-04-21T10:51:55.132Z"
      },
      {
        "duration": 4,
        "start_time": "2024-04-21T10:51:55.140Z"
      },
      {
        "duration": 10,
        "start_time": "2024-04-21T10:51:55.146Z"
      },
      {
        "duration": 19,
        "start_time": "2024-04-21T10:51:55.157Z"
      },
      {
        "duration": 22,
        "start_time": "2024-04-21T10:51:55.177Z"
      },
      {
        "duration": 6574,
        "start_time": "2024-04-21T10:51:55.200Z"
      },
      {
        "duration": 188,
        "start_time": "2024-04-21T10:52:01.776Z"
      },
      {
        "duration": 577746,
        "start_time": "2024-04-21T10:52:01.966Z"
      },
      {
        "duration": 3,
        "start_time": "2024-04-21T11:01:39.713Z"
      },
      {
        "duration": 58,
        "start_time": "2024-04-21T11:01:39.717Z"
      },
      {
        "duration": 2,
        "start_time": "2024-04-21T11:01:39.777Z"
      },
      {
        "duration": 8,
        "start_time": "2024-04-21T11:01:39.780Z"
      },
      {
        "duration": 8,
        "start_time": "2024-04-21T11:01:39.789Z"
      },
      {
        "duration": 6,
        "start_time": "2024-04-21T11:01:39.798Z"
      },
      {
        "duration": 101,
        "start_time": "2024-04-21T11:01:39.805Z"
      },
      {
        "duration": 4,
        "start_time": "2024-04-21T11:01:39.907Z"
      },
      {
        "duration": 6,
        "start_time": "2024-04-21T11:01:39.912Z"
      },
      {
        "duration": 11,
        "start_time": "2024-04-21T11:01:39.919Z"
      },
      {
        "duration": 5,
        "start_time": "2024-04-21T11:01:39.933Z"
      },
      {
        "duration": 8,
        "start_time": "2024-04-21T11:01:39.940Z"
      },
      {
        "duration": 17177,
        "start_time": "2024-04-21T11:01:39.951Z"
      },
      {
        "duration": 3,
        "start_time": "2024-04-21T11:01:57.130Z"
      },
      {
        "duration": 4,
        "start_time": "2024-04-21T11:01:57.135Z"
      },
      {
        "duration": 7,
        "start_time": "2024-04-21T11:01:57.140Z"
      },
      {
        "duration": 26,
        "start_time": "2024-04-21T11:01:57.148Z"
      },
      {
        "duration": 4,
        "start_time": "2024-04-21T11:01:57.176Z"
      },
      {
        "duration": 412,
        "start_time": "2024-04-21T11:01:57.181Z"
      },
      {
        "duration": 4,
        "start_time": "2024-04-21T11:01:57.594Z"
      },
      {
        "duration": 13,
        "start_time": "2024-04-21T11:01:57.600Z"
      },
      {
        "duration": 25,
        "start_time": "2024-04-21T11:01:57.614Z"
      },
      {
        "duration": 6,
        "start_time": "2024-04-21T11:01:57.641Z"
      },
      {
        "duration": 16,
        "start_time": "2024-04-21T11:01:57.649Z"
      }
    ],
    "accelerator": "TPU",
    "colab": {
      "gpuType": "V28",
      "provenance": []
    },
    "kernelspec": {
      "display_name": "Python 3 (ipykernel)",
      "language": "python",
      "name": "python3"
    },
    "language_info": {
      "codemirror_mode": {
        "name": "ipython",
        "version": 3
      },
      "file_extension": ".py",
      "mimetype": "text/x-python",
      "name": "python",
      "nbconvert_exporter": "python",
      "pygments_lexer": "ipython3",
      "version": "3.9.5"
    },
    "toc": {
      "base_numbering": 1,
      "nav_menu": {},
      "number_sections": true,
      "sideBar": true,
      "skip_h1_title": true,
      "title_cell": "Table of Contents",
      "title_sidebar": "Contents",
      "toc_cell": false,
      "toc_position": {},
      "toc_section_display": true,
      "toc_window_display": true
    },
    "widgets": {
      "application/vnd.jupyter.widget-state+json": {
        "01e00cde08ef492e8f1c0d05b5c33929": {
          "model_module": "@jupyter-widgets/base",
          "model_module_version": "1.2.0",
          "model_name": "LayoutModel",
          "state": {
            "_model_module": "@jupyter-widgets/base",
            "_model_module_version": "1.2.0",
            "_model_name": "LayoutModel",
            "_view_count": null,
            "_view_module": "@jupyter-widgets/base",
            "_view_module_version": "1.2.0",
            "_view_name": "LayoutView",
            "align_content": null,
            "align_items": null,
            "align_self": null,
            "border": null,
            "bottom": null,
            "display": null,
            "flex": null,
            "flex_flow": null,
            "grid_area": null,
            "grid_auto_columns": null,
            "grid_auto_flow": null,
            "grid_auto_rows": null,
            "grid_column": null,
            "grid_gap": null,
            "grid_row": null,
            "grid_template_areas": null,
            "grid_template_columns": null,
            "grid_template_rows": null,
            "height": null,
            "justify_content": null,
            "justify_items": null,
            "left": null,
            "margin": null,
            "max_height": null,
            "max_width": null,
            "min_height": null,
            "min_width": null,
            "object_fit": null,
            "object_position": null,
            "order": null,
            "overflow": null,
            "overflow_x": null,
            "overflow_y": null,
            "padding": null,
            "right": null,
            "top": null,
            "visibility": null,
            "width": null
          }
        },
        "1868be3a28ae4fed8698c8f86ff13708": {
          "model_module": "@jupyter-widgets/controls",
          "model_module_version": "1.5.0",
          "model_name": "ProgressStyleModel",
          "state": {
            "_model_module": "@jupyter-widgets/controls",
            "_model_module_version": "1.5.0",
            "_model_name": "ProgressStyleModel",
            "_view_count": null,
            "_view_module": "@jupyter-widgets/base",
            "_view_module_version": "1.2.0",
            "_view_name": "StyleView",
            "bar_color": null,
            "description_width": ""
          }
        },
        "28a86bc1ad7a448cbe3d273196764be0": {
          "model_module": "@jupyter-widgets/base",
          "model_module_version": "1.2.0",
          "model_name": "LayoutModel",
          "state": {
            "_model_module": "@jupyter-widgets/base",
            "_model_module_version": "1.2.0",
            "_model_name": "LayoutModel",
            "_view_count": null,
            "_view_module": "@jupyter-widgets/base",
            "_view_module_version": "1.2.0",
            "_view_name": "LayoutView",
            "align_content": null,
            "align_items": null,
            "align_self": null,
            "border": null,
            "bottom": null,
            "display": null,
            "flex": null,
            "flex_flow": null,
            "grid_area": null,
            "grid_auto_columns": null,
            "grid_auto_flow": null,
            "grid_auto_rows": null,
            "grid_column": null,
            "grid_gap": null,
            "grid_row": null,
            "grid_template_areas": null,
            "grid_template_columns": null,
            "grid_template_rows": null,
            "height": null,
            "justify_content": null,
            "justify_items": null,
            "left": null,
            "margin": null,
            "max_height": null,
            "max_width": null,
            "min_height": null,
            "min_width": null,
            "object_fit": null,
            "object_position": null,
            "order": null,
            "overflow": null,
            "overflow_x": null,
            "overflow_y": null,
            "padding": null,
            "right": null,
            "top": null,
            "visibility": null,
            "width": null
          }
        },
        "347fad256630436cb0c2901a0bb3ea40": {
          "model_module": "@jupyter-widgets/controls",
          "model_module_version": "1.5.0",
          "model_name": "HTMLModel",
          "state": {
            "_dom_classes": [],
            "_model_module": "@jupyter-widgets/controls",
            "_model_module_version": "1.5.0",
            "_model_name": "HTMLModel",
            "_view_count": null,
            "_view_module": "@jupyter-widgets/controls",
            "_view_module_version": "1.5.0",
            "_view_name": "HTMLView",
            "description": "",
            "description_tooltip": null,
            "layout": "IPY_MODEL_5650581e7988492395452fdc138b912d",
            "placeholder": "​",
            "style": "IPY_MODEL_db3526f5b120485e90dee7f1bf3f0472",
            "value": " 5/5 [00:37&lt;00:00,  7.46s/it]"
          }
        },
        "380ce241a516418898d1d6d89d9c37b7": {
          "model_module": "@jupyter-widgets/base",
          "model_module_version": "1.2.0",
          "model_name": "LayoutModel",
          "state": {
            "_model_module": "@jupyter-widgets/base",
            "_model_module_version": "1.2.0",
            "_model_name": "LayoutModel",
            "_view_count": null,
            "_view_module": "@jupyter-widgets/base",
            "_view_module_version": "1.2.0",
            "_view_name": "LayoutView",
            "align_content": null,
            "align_items": null,
            "align_self": null,
            "border": null,
            "bottom": null,
            "display": null,
            "flex": null,
            "flex_flow": null,
            "grid_area": null,
            "grid_auto_columns": null,
            "grid_auto_flow": null,
            "grid_auto_rows": null,
            "grid_column": null,
            "grid_gap": null,
            "grid_row": null,
            "grid_template_areas": null,
            "grid_template_columns": null,
            "grid_template_rows": null,
            "height": null,
            "justify_content": null,
            "justify_items": null,
            "left": null,
            "margin": null,
            "max_height": null,
            "max_width": null,
            "min_height": null,
            "min_width": null,
            "object_fit": null,
            "object_position": null,
            "order": null,
            "overflow": null,
            "overflow_x": null,
            "overflow_y": null,
            "padding": null,
            "right": null,
            "top": null,
            "visibility": null,
            "width": null
          }
        },
        "4c97b2d11cca4164af874f025dd85e51": {
          "model_module": "@jupyter-widgets/controls",
          "model_module_version": "1.5.0",
          "model_name": "DescriptionStyleModel",
          "state": {
            "_model_module": "@jupyter-widgets/controls",
            "_model_module_version": "1.5.0",
            "_model_name": "DescriptionStyleModel",
            "_view_count": null,
            "_view_module": "@jupyter-widgets/base",
            "_view_module_version": "1.2.0",
            "_view_name": "StyleView",
            "description_width": ""
          }
        },
        "5650581e7988492395452fdc138b912d": {
          "model_module": "@jupyter-widgets/base",
          "model_module_version": "1.2.0",
          "model_name": "LayoutModel",
          "state": {
            "_model_module": "@jupyter-widgets/base",
            "_model_module_version": "1.2.0",
            "_model_name": "LayoutModel",
            "_view_count": null,
            "_view_module": "@jupyter-widgets/base",
            "_view_module_version": "1.2.0",
            "_view_name": "LayoutView",
            "align_content": null,
            "align_items": null,
            "align_self": null,
            "border": null,
            "bottom": null,
            "display": null,
            "flex": null,
            "flex_flow": null,
            "grid_area": null,
            "grid_auto_columns": null,
            "grid_auto_flow": null,
            "grid_auto_rows": null,
            "grid_column": null,
            "grid_gap": null,
            "grid_row": null,
            "grid_template_areas": null,
            "grid_template_columns": null,
            "grid_template_rows": null,
            "height": null,
            "justify_content": null,
            "justify_items": null,
            "left": null,
            "margin": null,
            "max_height": null,
            "max_width": null,
            "min_height": null,
            "min_width": null,
            "object_fit": null,
            "object_position": null,
            "order": null,
            "overflow": null,
            "overflow_x": null,
            "overflow_y": null,
            "padding": null,
            "right": null,
            "top": null,
            "visibility": null,
            "width": null
          }
        },
        "5a2efc3a2a2f4fe0aad0c152461cad61": {
          "model_module": "@jupyter-widgets/controls",
          "model_module_version": "1.5.0",
          "model_name": "FloatProgressModel",
          "state": {
            "_dom_classes": [],
            "_model_module": "@jupyter-widgets/controls",
            "_model_module_version": "1.5.0",
            "_model_name": "FloatProgressModel",
            "_view_count": null,
            "_view_module": "@jupyter-widgets/controls",
            "_view_module_version": "1.5.0",
            "_view_name": "ProgressView",
            "bar_style": "success",
            "description": "",
            "description_tooltip": null,
            "layout": "IPY_MODEL_380ce241a516418898d1d6d89d9c37b7",
            "max": 5,
            "min": 0,
            "orientation": "horizontal",
            "style": "IPY_MODEL_1868be3a28ae4fed8698c8f86ff13708",
            "value": 5
          }
        },
        "5d795064520f4b48899fa72442d3029b": {
          "model_module": "@jupyter-widgets/controls",
          "model_module_version": "1.5.0",
          "model_name": "HBoxModel",
          "state": {
            "_dom_classes": [],
            "_model_module": "@jupyter-widgets/controls",
            "_model_module_version": "1.5.0",
            "_model_name": "HBoxModel",
            "_view_count": null,
            "_view_module": "@jupyter-widgets/controls",
            "_view_module_version": "1.5.0",
            "_view_name": "HBoxView",
            "box_style": "",
            "children": [
              "IPY_MODEL_bd56a2cc55d44f56a59b8d3fc24cb19d",
              "IPY_MODEL_5a2efc3a2a2f4fe0aad0c152461cad61",
              "IPY_MODEL_347fad256630436cb0c2901a0bb3ea40"
            ],
            "layout": "IPY_MODEL_01e00cde08ef492e8f1c0d05b5c33929"
          }
        },
        "bd56a2cc55d44f56a59b8d3fc24cb19d": {
          "model_module": "@jupyter-widgets/controls",
          "model_module_version": "1.5.0",
          "model_name": "HTMLModel",
          "state": {
            "_dom_classes": [],
            "_model_module": "@jupyter-widgets/controls",
            "_model_module_version": "1.5.0",
            "_model_name": "HTMLModel",
            "_view_count": null,
            "_view_module": "@jupyter-widgets/controls",
            "_view_module_version": "1.5.0",
            "_view_name": "HTMLView",
            "description": "",
            "description_tooltip": null,
            "layout": "IPY_MODEL_28a86bc1ad7a448cbe3d273196764be0",
            "placeholder": "​",
            "style": "IPY_MODEL_4c97b2d11cca4164af874f025dd85e51",
            "value": "100%"
          }
        },
        "db3526f5b120485e90dee7f1bf3f0472": {
          "model_module": "@jupyter-widgets/controls",
          "model_module_version": "1.5.0",
          "model_name": "DescriptionStyleModel",
          "state": {
            "_model_module": "@jupyter-widgets/controls",
            "_model_module_version": "1.5.0",
            "_model_name": "DescriptionStyleModel",
            "_view_count": null,
            "_view_module": "@jupyter-widgets/base",
            "_view_module_version": "1.2.0",
            "_view_name": "StyleView",
            "description_width": ""
          }
        }
      }
    }
  },
  "nbformat": 4,
  "nbformat_minor": 0
}