{
  "cells": [
    {
      "cell_type": "markdown",
      "metadata": {
        "toc": true,
        "id": "cD-8GOQIOIoz"
      },
      "source": [
        "<h1>Содержание<span class=\"tocSkip\"></span></h1>\n",
        "<div class=\"toc\"><ul class=\"toc-item\"><li><span><a href=\"#Подготовка\" data-toc-modified-id=\"Подготовка-1\"><span class=\"toc-item-num\">1&nbsp;&nbsp;</span>Подготовка</a></span></li><li><span><a href=\"#Анализ\" data-toc-modified-id=\"Анализ-2\"><span class=\"toc-item-num\">2&nbsp;&nbsp;</span>Анализ</a></span></li><li><span><a href=\"#Обучение\" data-toc-modified-id=\"Обучение-3\"><span class=\"toc-item-num\">3&nbsp;&nbsp;</span>Обучение</a></span><ul class=\"toc-item\"><li><span><a href=\"#DecisionTree\" data-toc-modified-id=\"DecisionTree-3.1\"><span class=\"toc-item-num\">3.1&nbsp;&nbsp;</span>DecisionTree</a></span></li><li><span><a href=\"#RandomForest\" data-toc-modified-id=\"RandomForest-3.2\"><span class=\"toc-item-num\">3.2&nbsp;&nbsp;</span>RandomForest</a></span></li><li><span><a href=\"#LinearRegression\" data-toc-modified-id=\"LinearRegression-3.3\"><span class=\"toc-item-num\">3.3&nbsp;&nbsp;</span>LinearRegression</a></span></li><li><span><a href=\"#Сравнение-моделей\" data-toc-modified-id=\"Сравнение-моделей-3.4\"><span class=\"toc-item-num\">3.4&nbsp;&nbsp;</span>Сравнение моделей</a></span></li></ul></li><li><span><a href=\"#Тестирование\" data-toc-modified-id=\"Тестирование-4\"><span class=\"toc-item-num\">4&nbsp;&nbsp;</span>Тестирование</a></span></li><li><span><a href=\"#Общий-вывод\" data-toc-modified-id=\"Общий-вывод-5\"><span class=\"toc-item-num\">5&nbsp;&nbsp;</span>Общий вывод</a></span></li><li><span><a href=\"#Чек-лист-проверки\" data-toc-modified-id=\"Чек-лист-проверки-6\"><span class=\"toc-item-num\">6&nbsp;&nbsp;</span>Чек-лист проверки</a></span></li></ul></div>"
      ]
    },
    {
      "cell_type": "markdown",
      "metadata": {
        "id": "GbyDznRdOIoz"
      },
      "source": [
        "#  Прогнозирование заказов такси"
      ]
    },
    {
      "cell_type": "markdown",
      "metadata": {
        "id": "ZkB_CTcsOIoz"
      },
      "source": [
        "Компания «Чётенькое такси» собрала исторические данные о заказах такси в аэропортах. Чтобы привлекать больше водителей в период пиковой нагрузки, нужно спрогнозировать количество заказов такси на следующий час. Постройте модель для такого предсказания.\n",
        "\n",
        "Значение метрики *RMSE* на тестовой выборке должно быть не больше 48.\n",
        "\n",
        "Вам нужно:\n",
        "\n",
        "1. Загрузить данные и выполнить их ресемплирование по одному часу.\n",
        "2. Проанализировать данные.\n",
        "3. Обучить разные модели с различными гиперпараметрами. Сделать тестовую выборку размером 10% от исходных данных.\n",
        "4. Проверить данные на тестовой выборке и сделать выводы.\n",
        "\n",
        "\n",
        "Данные лежат в файле `taxi.csv`. Количество заказов находится в столбце `num_orders` (от англ. *number of orders*, «число заказов»)."
      ]
    },
    {
      "cell_type": "markdown",
      "metadata": {
        "id": "c3oWwO8HOIoz"
      },
      "source": [
        "## Подготовка"
      ]
    },
    {
      "cell_type": "markdown",
      "metadata": {
        "id": "ux3FhuhiOIoz"
      },
      "source": [
        "Загрузим все необходимые библиотеки."
      ]
    },
    {
      "cell_type": "code",
      "execution_count": null,
      "metadata": {
        "id": "PCQDP4ufOIo0"
      },
      "outputs": [],
      "source": [
        "import pandas as pd\n",
        "import numpy as np\n",
        "import matplotlib.pyplot as plt\n",
        "import statsmodels.tsa.stattools as ts\n",
        "\n",
        "from statsmodels.tsa.seasonal import seasonal_decompose\n",
        "from sklearn.model_selection import train_test_split, GridSearchCV\n",
        "from sklearn.tree import DecisionTreeRegressor\n",
        "from sklearn.ensemble import RandomForestRegressor\n",
        "from sklearn.linear_model import LinearRegression\n",
        "from sklearn.metrics import mean_squared_error\n",
        "from sklearn.model_selection import TimeSeriesSplit\n",
        "from sklearn.impute import SimpleImputer\n",
        "from sklearn.preprocessing import StandardScaler\n",
        "from sklearn.pipeline import Pipeline"
      ]
    },
    {
      "cell_type": "markdown",
      "metadata": {
        "id": "iRuHPwC0OIo0"
      },
      "source": [
        "Загрузим файл с данными, сразу преобразовав столбец `datetime` в индексы, а его тип в `datetime64`."
      ]
    },
    {
      "cell_type": "code",
      "execution_count": null,
      "metadata": {
        "id": "yfud_K93OIo0"
      },
      "outputs": [],
      "source": [
        "df = pd.read_csv('/datasets/taxi.csv', index_col=[0], parse_dates=[0])\n",
        "df.sort_index(inplace=True)"
      ]
    },
    {
      "cell_type": "code",
      "execution_count": null,
      "metadata": {
        "scrolled": true,
        "id": "Ln3BASzwOIo0",
        "outputId": "6879d73f-842a-4df9-e93e-f08adcfa462c"
      },
      "outputs": [
        {
          "name": "stdout",
          "output_type": "stream",
          "text": [
            "<class 'pandas.core.frame.DataFrame'>\n",
            "DatetimeIndex: 26496 entries, 2018-03-01 00:00:00 to 2018-08-31 23:50:00\n",
            "Data columns (total 1 columns):\n",
            " #   Column      Non-Null Count  Dtype\n",
            "---  ------      --------------  -----\n",
            " 0   num_orders  26496 non-null  int64\n",
            "dtypes: int64(1)\n",
            "memory usage: 414.0 KB\n"
          ]
        },
        {
          "data": {
            "text/html": [
              "<div>\n",
              "<style scoped>\n",
              "    .dataframe tbody tr th:only-of-type {\n",
              "        vertical-align: middle;\n",
              "    }\n",
              "\n",
              "    .dataframe tbody tr th {\n",
              "        vertical-align: top;\n",
              "    }\n",
              "\n",
              "    .dataframe thead th {\n",
              "        text-align: right;\n",
              "    }\n",
              "</style>\n",
              "<table border=\"1\" class=\"dataframe\">\n",
              "  <thead>\n",
              "    <tr style=\"text-align: right;\">\n",
              "      <th></th>\n",
              "      <th>num_orders</th>\n",
              "    </tr>\n",
              "    <tr>\n",
              "      <th>datetime</th>\n",
              "      <th></th>\n",
              "    </tr>\n",
              "  </thead>\n",
              "  <tbody>\n",
              "    <tr>\n",
              "      <th>2018-03-01 00:00:00</th>\n",
              "      <td>9</td>\n",
              "    </tr>\n",
              "    <tr>\n",
              "      <th>2018-03-01 00:10:00</th>\n",
              "      <td>14</td>\n",
              "    </tr>\n",
              "    <tr>\n",
              "      <th>2018-03-01 00:20:00</th>\n",
              "      <td>28</td>\n",
              "    </tr>\n",
              "    <tr>\n",
              "      <th>2018-03-01 00:30:00</th>\n",
              "      <td>20</td>\n",
              "    </tr>\n",
              "    <tr>\n",
              "      <th>2018-03-01 00:40:00</th>\n",
              "      <td>32</td>\n",
              "    </tr>\n",
              "    <tr>\n",
              "      <th>2018-03-01 00:50:00</th>\n",
              "      <td>21</td>\n",
              "    </tr>\n",
              "    <tr>\n",
              "      <th>2018-03-01 01:00:00</th>\n",
              "      <td>7</td>\n",
              "    </tr>\n",
              "    <tr>\n",
              "      <th>2018-03-01 01:10:00</th>\n",
              "      <td>5</td>\n",
              "    </tr>\n",
              "    <tr>\n",
              "      <th>2018-03-01 01:20:00</th>\n",
              "      <td>17</td>\n",
              "    </tr>\n",
              "    <tr>\n",
              "      <th>2018-03-01 01:30:00</th>\n",
              "      <td>12</td>\n",
              "    </tr>\n",
              "  </tbody>\n",
              "</table>\n",
              "</div>"
            ],
            "text/plain": [
              "                     num_orders\n",
              "datetime                       \n",
              "2018-03-01 00:00:00           9\n",
              "2018-03-01 00:10:00          14\n",
              "2018-03-01 00:20:00          28\n",
              "2018-03-01 00:30:00          20\n",
              "2018-03-01 00:40:00          32\n",
              "2018-03-01 00:50:00          21\n",
              "2018-03-01 01:00:00           7\n",
              "2018-03-01 01:10:00           5\n",
              "2018-03-01 01:20:00          17\n",
              "2018-03-01 01:30:00          12"
            ]
          },
          "execution_count": 3,
          "metadata": {},
          "output_type": "execute_result"
        }
      ],
      "source": [
        "df.info()\n",
        "df.head(10)"
      ]
    },
    {
      "cell_type": "markdown",
      "metadata": {
        "id": "88HMamplOIo1"
      },
      "source": [
        "Выполним ресемплирование данных по одному часу."
      ]
    },
    {
      "cell_type": "code",
      "execution_count": null,
      "metadata": {
        "id": "gYgHQvI0OIo1"
      },
      "outputs": [],
      "source": [
        "df = df.resample('1H').sum()"
      ]
    },
    {
      "cell_type": "code",
      "execution_count": null,
      "metadata": {
        "scrolled": true,
        "id": "1n47tNA4OIo1",
        "outputId": "30a062e4-7f11-4744-b86b-4497211b2884"
      },
      "outputs": [
        {
          "name": "stdout",
          "output_type": "stream",
          "text": [
            "<class 'pandas.core.frame.DataFrame'>\n",
            "DatetimeIndex: 4416 entries, 2018-03-01 00:00:00 to 2018-08-31 23:00:00\n",
            "Freq: H\n",
            "Data columns (total 1 columns):\n",
            " #   Column      Non-Null Count  Dtype\n",
            "---  ------      --------------  -----\n",
            " 0   num_orders  4416 non-null   int64\n",
            "dtypes: int64(1)\n",
            "memory usage: 69.0 KB\n"
          ]
        },
        {
          "data": {
            "text/html": [
              "<div>\n",
              "<style scoped>\n",
              "    .dataframe tbody tr th:only-of-type {\n",
              "        vertical-align: middle;\n",
              "    }\n",
              "\n",
              "    .dataframe tbody tr th {\n",
              "        vertical-align: top;\n",
              "    }\n",
              "\n",
              "    .dataframe thead th {\n",
              "        text-align: right;\n",
              "    }\n",
              "</style>\n",
              "<table border=\"1\" class=\"dataframe\">\n",
              "  <thead>\n",
              "    <tr style=\"text-align: right;\">\n",
              "      <th></th>\n",
              "      <th>num_orders</th>\n",
              "    </tr>\n",
              "    <tr>\n",
              "      <th>datetime</th>\n",
              "      <th></th>\n",
              "    </tr>\n",
              "  </thead>\n",
              "  <tbody>\n",
              "    <tr>\n",
              "      <th>2018-03-01 00:00:00</th>\n",
              "      <td>124</td>\n",
              "    </tr>\n",
              "    <tr>\n",
              "      <th>2018-03-01 01:00:00</th>\n",
              "      <td>85</td>\n",
              "    </tr>\n",
              "    <tr>\n",
              "      <th>2018-03-01 02:00:00</th>\n",
              "      <td>71</td>\n",
              "    </tr>\n",
              "    <tr>\n",
              "      <th>2018-03-01 03:00:00</th>\n",
              "      <td>66</td>\n",
              "    </tr>\n",
              "    <tr>\n",
              "      <th>2018-03-01 04:00:00</th>\n",
              "      <td>43</td>\n",
              "    </tr>\n",
              "    <tr>\n",
              "      <th>2018-03-01 05:00:00</th>\n",
              "      <td>6</td>\n",
              "    </tr>\n",
              "    <tr>\n",
              "      <th>2018-03-01 06:00:00</th>\n",
              "      <td>12</td>\n",
              "    </tr>\n",
              "    <tr>\n",
              "      <th>2018-03-01 07:00:00</th>\n",
              "      <td>15</td>\n",
              "    </tr>\n",
              "    <tr>\n",
              "      <th>2018-03-01 08:00:00</th>\n",
              "      <td>34</td>\n",
              "    </tr>\n",
              "    <tr>\n",
              "      <th>2018-03-01 09:00:00</th>\n",
              "      <td>69</td>\n",
              "    </tr>\n",
              "  </tbody>\n",
              "</table>\n",
              "</div>"
            ],
            "text/plain": [
              "                     num_orders\n",
              "datetime                       \n",
              "2018-03-01 00:00:00         124\n",
              "2018-03-01 01:00:00          85\n",
              "2018-03-01 02:00:00          71\n",
              "2018-03-01 03:00:00          66\n",
              "2018-03-01 04:00:00          43\n",
              "2018-03-01 05:00:00           6\n",
              "2018-03-01 06:00:00          12\n",
              "2018-03-01 07:00:00          15\n",
              "2018-03-01 08:00:00          34\n",
              "2018-03-01 09:00:00          69"
            ]
          },
          "execution_count": 5,
          "metadata": {},
          "output_type": "execute_result"
        }
      ],
      "source": [
        "df.info()\n",
        "df.head(10)"
      ]
    },
    {
      "cell_type": "markdown",
      "metadata": {
        "id": "DXrNbQdsOIo1"
      },
      "source": [
        "**Вывод по первому шагу:** загрузили таблицу с данными, при чтении преобразовав тип данных даты и времени в `datetime64` для правильной обработки времени, и преобразовав данный столбец в индексы для удобства работы с ним.\n",
        "\n",
        "Получили датафрейм из одного столбца типа `int64` и 2496-ти строк.\n",
        "\n",
        "После чего выполнили ресемплирование данных по одному часу, где для каждого часа отражается общее количество заказов в этот час. В результате количество строк таблицы данных уменьшилось до 4416-ти."
      ]
    },
    {
      "cell_type": "markdown",
      "metadata": {
        "id": "w-tVuC-lOIo1"
      },
      "source": [
        "## Анализ"
      ]
    },
    {
      "cell_type": "markdown",
      "metadata": {
        "id": "WVbpobBROIo2"
      },
      "source": [
        "Построим график временного ряда. Для его читаемости возьмем промежуток за первые 10 дней марта."
      ]
    },
    {
      "cell_type": "code",
      "execution_count": null,
      "metadata": {
        "scrolled": true,
        "id": "eUQi7uaTOIo2",
        "outputId": "c1a40ee7-e727-48ee-97ba-b4a94f70f2f7"
      },
      "outputs": [
        {
          "data": {
            "image/png": "[encoded data removed]",
            "text/plain": [
              "<Figure size 1080x504 with 1 Axes>"
            ]
          },
          "metadata": {
            "needs_background": "light"
          },
          "output_type": "display_data"
        }
      ],
      "source": [
        "df[\"2018-03-01\":\"2018-03-10\"].plot(\n",
        "    figsize=(15, 7),\n",
        "    xlabel=\"Дата\",\n",
        "    ylabel=\"Число заказов\",\n",
        "    title=\"Число заказов за первые 10 дней марта\",\n",
        "    legend=False,\n",
        ");"
      ]
    },
    {
      "cell_type": "markdown",
      "metadata": {
        "id": "jwd74IzxOIo3"
      },
      "source": [
        "Теперь рассмотрим график скользящего среднего и стандартного отклонения. Интервал выберем 720 - количество часов в тридцатидневном месяце."
      ]
    },
    {
      "cell_type": "code",
      "execution_count": null,
      "metadata": {
        "id": "O5_j432vOIo3",
        "outputId": "d63915d3-6c63-48ae-c6ac-2dc1a7fed9d2"
      },
      "outputs": [
        {
          "data": {
            "image/png": "[encoded data removed]",
            "text/plain": [
              "<Figure size 1080x720 with 1 Axes>"
            ]
          },
          "metadata": {
            "needs_background": "light"
          },
          "output_type": "display_data"
        }
      ],
      "source": [
        "data = df.copy()\n",
        "data['mean'] = data['num_orders'].rolling(720).mean()\n",
        "data['std'] = data['num_orders'].rolling(720).std()\n",
        "data.plot(\n",
        "    figsize=(15, 10),\n",
        "    xlabel=\"Дата\",\n",
        "    ylabel=\"Число заказов\",\n",
        "    title=\"Общее число заказов, их скользящие среднее и стандартное отклонение\",\n",
        ");"
      ]
    },
    {
      "cell_type": "markdown",
      "metadata": {
        "id": "_mTbb47JOIo3"
      },
      "source": [
        "По графикам можем сделать вывод о наличиии сезонности и тренда в данных. Подтвердим наш вывод далее."
      ]
    },
    {
      "cell_type": "code",
      "execution_count": null,
      "metadata": {
        "scrolled": false,
        "id": "daqI3Hn3OIo3",
        "outputId": "53f87aa3-fa29-4b60-b999-50c3fc294800"
      },
      "outputs": [
        {
          "data": {
            "image/png": "[encoded data removed]",
            "text/plain": [
              "<Figure size 1080x720 with 3 Axes>"
            ]
          },
          "metadata": {
            "needs_background": "light"
          },
          "output_type": "display_data"
        }
      ],
      "source": [
        "# для лучшего отображения рассмотрим интервал в один месяц\n",
        "decomposed = seasonal_decompose(df['num_orders'])\n",
        "plt.figure(figsize=(15, 10))\n",
        "plt.subplot(311)\n",
        "decomposed.trend.plot(ax=plt.gca())\n",
        "plt.title('Trend')\n",
        "plt.subplot(312)\n",
        "decomposed.seasonal['2018-03-01':'2018-03-03'].plot(ax=plt.gca())\n",
        "plt.title('Seasonality')\n",
        "plt.subplot(313)\n",
        "decomposed.resid.plot(ax=plt.gca())\n",
        "plt.title('Residuals')\n",
        "plt.tight_layout()"
      ]
    },
    {
      "cell_type": "markdown",
      "metadata": {
        "id": "KDut2gV_OIo4"
      },
      "source": [
        "На лицо сезонность и тренд, а также имеется доля случайной величины. На графике сезонности можем увидеть, что она суточная, где изо дня в день в 00:00 количество заказов максимально, в 06:00 - минимально."
      ]
    },
    {
      "cell_type": "markdown",
      "metadata": {
        "id": "xR3mjz7jOIo4"
      },
      "source": [
        "Далее выполним ресемплинг данных по суткам, после чего выполним его декомпозицию с целью определить наличие недельной сезонности."
      ]
    },
    {
      "cell_type": "code",
      "execution_count": null,
      "metadata": {
        "scrolled": true,
        "id": "6OAoW2IxOIo5",
        "outputId": "ddd73075-a07c-41cb-92c5-5c29c1d80b25"
      },
      "outputs": [
        {
          "data": {
            "image/png": "[encoded data removed]",
            "text/plain": [
              "<Figure size 1080x720 with 3 Axes>"
            ]
          },
          "metadata": {
            "needs_background": "light"
          },
          "output_type": "display_data"
        }
      ],
      "source": [
        "df_daily = df.resample('1D').sum()\n",
        "decomposed = seasonal_decompose(df_daily['num_orders'])\n",
        "plt.figure(figsize=(15, 10))\n",
        "plt.subplot(311)\n",
        "decomposed.trend.plot(ax=plt.gca())\n",
        "plt.title('Trend')\n",
        "plt.subplot(312)\n",
        "decomposed.seasonal['2018-03-01':'2018-04-30'].plot(ax=plt.gca())\n",
        "plt.title('Seasonality')\n",
        "plt.subplot(313)\n",
        "decomposed.resid.plot(ax=plt.gca())\n",
        "plt.title('Residuals')\n",
        "plt.tight_layout()"
      ]
    },
    {
      "cell_type": "markdown",
      "metadata": {
        "id": "H7JrA7jTOIo5"
      },
      "source": [
        "Наше предположение подтвердилось, видна недельная сезонность. По понедельникам и пятницам количество заказов максимально, по вторникам и воскресеньям - минимально."
      ]
    },
    {
      "cell_type": "markdown",
      "metadata": {
        "id": "itvsrDEjOIo5"
      },
      "source": [
        "Проверим при помощи теста Дики-Фулера временной ряд на стационарность. В качестве нулевой гипотезы примем - ряд не стационарный, в качестве альтернативной - ряд стационарный."
      ]
    },
    {
      "cell_type": "code",
      "execution_count": null,
      "metadata": {
        "id": "ShWtOS1LOIo5"
      },
      "outputs": [],
      "source": [
        "def adf(series, alpha=0.05):\n",
        "    p_value = ts.adfuller(series)[1]\n",
        "    print(f\"p-value = {p_value}\")\n",
        "    if p_value > alpha:\n",
        "        print('Ряд не стационарный')\n",
        "    else:\n",
        "        print('Ряд стационарный')"
      ]
    },
    {
      "cell_type": "code",
      "execution_count": null,
      "metadata": {
        "scrolled": true,
        "id": "4Cwjd76kOIo5",
        "outputId": "624ec96e-c40c-4f5e-e9b9-ef13d91f427d"
      },
      "outputs": [
        {
          "name": "stdout",
          "output_type": "stream",
          "text": [
            "p-value = 0.028940051402612906\n",
            "Ряд стационарный\n"
          ]
        }
      ],
      "source": [
        "adf(df['num_orders'])"
      ]
    },
    {
      "cell_type": "markdown",
      "metadata": {
        "id": "Ex7nyQnBOIo5"
      },
      "source": [
        "Тест определил - ряд является стационарным. Но мы видим наличие сезонности и тренда, что является признаками нестационарного ряда."
      ]
    },
    {
      "cell_type": "markdown",
      "metadata": {
        "id": "zxPK2gG-OIo6"
      },
      "source": [
        "**Вывод по второму шагу:** Построили графики временного ряда, обнаружили в них тренд и сезонность. Мы определили суточную сезонность, где изо дня в день в 00:00 количество заказов максимально, в 06:00 - минимально. А также выявили недельную сезонность: по понедельникам и пятницам количество заказов максимально, по вторникам и воскресеньям - минимально."
      ]
    },
    {
      "cell_type": "markdown",
      "metadata": {
        "id": "_WNsn6f6OIo6"
      },
      "source": [
        "## Обучение"
      ]
    },
    {
      "cell_type": "markdown",
      "metadata": {
        "id": "5hXm8BOGOIo6"
      },
      "source": [
        "Создадим признаки для горизонта прогнозирования в один шаг.\n",
        "Напишем функцию для создания признаков."
      ]
    },
    {
      "cell_type": "code",
      "execution_count": null,
      "metadata": {
        "id": "hpBhblEKOIo6"
      },
      "outputs": [],
      "source": [
        "def make_features(data, max_lag, rolling_mean_size):\n",
        "    data['dayofweek'] = data.index.dayofweek\n",
        "    data['hour'] = data.index.hour\n",
        "\n",
        "    for lag in range(1, max_lag + 1):\n",
        "        data['lag_{}'.format(lag)] = data['num_orders'].shift(lag)\n",
        "\n",
        "    data['rolling_mean'] = data['num_orders'].shift().rolling(rolling_mean_size).mean()"
      ]
    },
    {
      "cell_type": "code",
      "execution_count": null,
      "metadata": {
        "scrolled": true,
        "id": "nDPqFYp3OIo7",
        "outputId": "2b5daa03-62e8-4b1c-86fc-996aac16494e"
      },
      "outputs": [
        {
          "data": {
            "text/html": [
              "<div>\n",
              "<style scoped>\n",
              "    .dataframe tbody tr th:only-of-type {\n",
              "        vertical-align: middle;\n",
              "    }\n",
              "\n",
              "    .dataframe tbody tr th {\n",
              "        vertical-align: top;\n",
              "    }\n",
              "\n",
              "    .dataframe thead th {\n",
              "        text-align: right;\n",
              "    }\n",
              "</style>\n",
              "<table border=\"1\" class=\"dataframe\">\n",
              "  <thead>\n",
              "    <tr style=\"text-align: right;\">\n",
              "      <th></th>\n",
              "      <th>num_orders</th>\n",
              "      <th>dayofweek</th>\n",
              "      <th>hour</th>\n",
              "      <th>lag_1</th>\n",
              "      <th>lag_2</th>\n",
              "      <th>lag_3</th>\n",
              "      <th>lag_4</th>\n",
              "      <th>lag_5</th>\n",
              "      <th>lag_6</th>\n",
              "      <th>lag_7</th>\n",
              "      <th>...</th>\n",
              "      <th>lag_160</th>\n",
              "      <th>lag_161</th>\n",
              "      <th>lag_162</th>\n",
              "      <th>lag_163</th>\n",
              "      <th>lag_164</th>\n",
              "      <th>lag_165</th>\n",
              "      <th>lag_166</th>\n",
              "      <th>lag_167</th>\n",
              "      <th>lag_168</th>\n",
              "      <th>rolling_mean</th>\n",
              "    </tr>\n",
              "    <tr>\n",
              "      <th>datetime</th>\n",
              "      <th></th>\n",
              "      <th></th>\n",
              "      <th></th>\n",
              "      <th></th>\n",
              "      <th></th>\n",
              "      <th></th>\n",
              "      <th></th>\n",
              "      <th></th>\n",
              "      <th></th>\n",
              "      <th></th>\n",
              "      <th></th>\n",
              "      <th></th>\n",
              "      <th></th>\n",
              "      <th></th>\n",
              "      <th></th>\n",
              "      <th></th>\n",
              "      <th></th>\n",
              "      <th></th>\n",
              "      <th></th>\n",
              "      <th></th>\n",
              "      <th></th>\n",
              "    </tr>\n",
              "  </thead>\n",
              "  <tbody>\n",
              "    <tr>\n",
              "      <th>2018-03-01 00:00:00</th>\n",
              "      <td>124</td>\n",
              "      <td>3</td>\n",
              "      <td>0</td>\n",
              "      <td>NaN</td>\n",
              "      <td>NaN</td>\n",
              "      <td>NaN</td>\n",
              "      <td>NaN</td>\n",
              "      <td>NaN</td>\n",
              "      <td>NaN</td>\n",
              "      <td>NaN</td>\n",
              "      <td>...</td>\n",
              "      <td>NaN</td>\n",
              "      <td>NaN</td>\n",
              "      <td>NaN</td>\n",
              "      <td>NaN</td>\n",
              "      <td>NaN</td>\n",
              "      <td>NaN</td>\n",
              "      <td>NaN</td>\n",
              "      <td>NaN</td>\n",
              "      <td>NaN</td>\n",
              "      <td>NaN</td>\n",
              "    </tr>\n",
              "    <tr>\n",
              "      <th>2018-03-01 01:00:00</th>\n",
              "      <td>85</td>\n",
              "      <td>3</td>\n",
              "      <td>1</td>\n",
              "      <td>124.0</td>\n",
              "      <td>NaN</td>\n",
              "      <td>NaN</td>\n",
              "      <td>NaN</td>\n",
              "      <td>NaN</td>\n",
              "      <td>NaN</td>\n",
              "      <td>NaN</td>\n",
              "      <td>...</td>\n",
              "      <td>NaN</td>\n",
              "      <td>NaN</td>\n",
              "      <td>NaN</td>\n",
              "      <td>NaN</td>\n",
              "      <td>NaN</td>\n",
              "      <td>NaN</td>\n",
              "      <td>NaN</td>\n",
              "      <td>NaN</td>\n",
              "      <td>NaN</td>\n",
              "      <td>NaN</td>\n",
              "    </tr>\n",
              "    <tr>\n",
              "      <th>2018-03-01 02:00:00</th>\n",
              "      <td>71</td>\n",
              "      <td>3</td>\n",
              "      <td>2</td>\n",
              "      <td>85.0</td>\n",
              "      <td>124.0</td>\n",
              "      <td>NaN</td>\n",
              "      <td>NaN</td>\n",
              "      <td>NaN</td>\n",
              "      <td>NaN</td>\n",
              "      <td>NaN</td>\n",
              "      <td>...</td>\n",
              "      <td>NaN</td>\n",
              "      <td>NaN</td>\n",
              "      <td>NaN</td>\n",
              "      <td>NaN</td>\n",
              "      <td>NaN</td>\n",
              "      <td>NaN</td>\n",
              "      <td>NaN</td>\n",
              "      <td>NaN</td>\n",
              "      <td>NaN</td>\n",
              "      <td>NaN</td>\n",
              "    </tr>\n",
              "    <tr>\n",
              "      <th>2018-03-01 03:00:00</th>\n",
              "      <td>66</td>\n",
              "      <td>3</td>\n",
              "      <td>3</td>\n",
              "      <td>71.0</td>\n",
              "      <td>85.0</td>\n",
              "      <td>124.0</td>\n",
              "      <td>NaN</td>\n",
              "      <td>NaN</td>\n",
              "      <td>NaN</td>\n",
              "      <td>NaN</td>\n",
              "      <td>...</td>\n",
              "      <td>NaN</td>\n",
              "      <td>NaN</td>\n",
              "      <td>NaN</td>\n",
              "      <td>NaN</td>\n",
              "      <td>NaN</td>\n",
              "      <td>NaN</td>\n",
              "      <td>NaN</td>\n",
              "      <td>NaN</td>\n",
              "      <td>NaN</td>\n",
              "      <td>NaN</td>\n",
              "    </tr>\n",
              "    <tr>\n",
              "      <th>2018-03-01 04:00:00</th>\n",
              "      <td>43</td>\n",
              "      <td>3</td>\n",
              "      <td>4</td>\n",
              "      <td>66.0</td>\n",
              "      <td>71.0</td>\n",
              "      <td>85.0</td>\n",
              "      <td>124.0</td>\n",
              "      <td>NaN</td>\n",
              "      <td>NaN</td>\n",
              "      <td>NaN</td>\n",
              "      <td>...</td>\n",
              "      <td>NaN</td>\n",
              "      <td>NaN</td>\n",
              "      <td>NaN</td>\n",
              "      <td>NaN</td>\n",
              "      <td>NaN</td>\n",
              "      <td>NaN</td>\n",
              "      <td>NaN</td>\n",
              "      <td>NaN</td>\n",
              "      <td>NaN</td>\n",
              "      <td>NaN</td>\n",
              "    </tr>\n",
              "  </tbody>\n",
              "</table>\n",
              "<p>5 rows × 172 columns</p>\n",
              "</div>"
            ],
            "text/plain": [
              "                     num_orders  dayofweek  hour  lag_1  lag_2  lag_3  lag_4  \\\n",
              "datetime                                                                       \n",
              "2018-03-01 00:00:00         124          3     0    NaN    NaN    NaN    NaN   \n",
              "2018-03-01 01:00:00          85          3     1  124.0    NaN    NaN    NaN   \n",
              "2018-03-01 02:00:00          71          3     2   85.0  124.0    NaN    NaN   \n",
              "2018-03-01 03:00:00          66          3     3   71.0   85.0  124.0    NaN   \n",
              "2018-03-01 04:00:00          43          3     4   66.0   71.0   85.0  124.0   \n",
              "\n",
              "                     lag_5  lag_6  lag_7  ...  lag_160  lag_161  lag_162  \\\n",
              "datetime                                  ...                              \n",
              "2018-03-01 00:00:00    NaN    NaN    NaN  ...      NaN      NaN      NaN   \n",
              "2018-03-01 01:00:00    NaN    NaN    NaN  ...      NaN      NaN      NaN   \n",
              "2018-03-01 02:00:00    NaN    NaN    NaN  ...      NaN      NaN      NaN   \n",
              "2018-03-01 03:00:00    NaN    NaN    NaN  ...      NaN      NaN      NaN   \n",
              "2018-03-01 04:00:00    NaN    NaN    NaN  ...      NaN      NaN      NaN   \n",
              "\n",
              "                     lag_163  lag_164  lag_165  lag_166  lag_167  lag_168  \\\n",
              "datetime                                                                    \n",
              "2018-03-01 00:00:00      NaN      NaN      NaN      NaN      NaN      NaN   \n",
              "2018-03-01 01:00:00      NaN      NaN      NaN      NaN      NaN      NaN   \n",
              "2018-03-01 02:00:00      NaN      NaN      NaN      NaN      NaN      NaN   \n",
              "2018-03-01 03:00:00      NaN      NaN      NaN      NaN      NaN      NaN   \n",
              "2018-03-01 04:00:00      NaN      NaN      NaN      NaN      NaN      NaN   \n",
              "\n",
              "                     rolling_mean  \n",
              "datetime                           \n",
              "2018-03-01 00:00:00           NaN  \n",
              "2018-03-01 01:00:00           NaN  \n",
              "2018-03-01 02:00:00           NaN  \n",
              "2018-03-01 03:00:00           NaN  \n",
              "2018-03-01 04:00:00           NaN  \n",
              "\n",
              "[5 rows x 172 columns]"
            ]
          },
          "execution_count": 13,
          "metadata": {},
          "output_type": "execute_result"
        }
      ],
      "source": [
        "make_features(df, 168, 168)\n",
        "df.head()"
      ]
    },
    {
      "cell_type": "code",
      "execution_count": null,
      "metadata": {
        "id": "8fCO7JgKOIo8"
      },
      "outputs": [],
      "source": [
        "df = df.dropna()"
      ]
    },
    {
      "cell_type": "markdown",
      "metadata": {
        "id": "-1V_HN_wOIo8"
      },
      "source": [
        "Отделим обучающие и целевой признаки. Выделим 10% данных для тестирования моделей, остальные используем для обучения."
      ]
    },
    {
      "cell_type": "code",
      "execution_count": null,
      "metadata": {
        "id": "GcPnlCwZOIo8"
      },
      "outputs": [],
      "source": [
        "features = df.drop('num_orders', axis=1)\n",
        "target = df['num_orders']\n",
        "\n",
        "features_train, features_test, target_train, target_test = train_test_split(\n",
        "    features, target, shuffle=False, test_size=0.1\n",
        ")"
      ]
    },
    {
      "cell_type": "markdown",
      "metadata": {
        "id": "5zo_DTMsOIo9"
      },
      "source": [
        "Рассмотрим три модели, подберем гиперпараметры при помощи `GridSearchCV`. Результаты их работы соберем в одну табличку."
      ]
    },
    {
      "cell_type": "markdown",
      "metadata": {
        "id": "JGzuymV3OIo9"
      },
      "source": [
        "### DecisionTree"
      ]
    },
    {
      "cell_type": "code",
      "execution_count": null,
      "metadata": {
        "id": "RjCAV_iKOIo9"
      },
      "outputs": [],
      "source": [
        "scores = []"
      ]
    },
    {
      "cell_type": "code",
      "execution_count": null,
      "metadata": {
        "id": "OYN_8Tv8OIo9"
      },
      "outputs": [],
      "source": [
        "tree = DecisionTreeRegressor(random_state=99)"
      ]
    },
    {
      "cell_type": "code",
      "execution_count": null,
      "metadata": {
        "id": "C6wz_nefOIo9"
      },
      "outputs": [],
      "source": [
        "tree_params = {'max_depth': range(6, 15)}"
      ]
    },
    {
      "cell_type": "code",
      "execution_count": null,
      "metadata": {
        "id": "ekJZqG-2OIo9"
      },
      "outputs": [],
      "source": [
        "tscv = TimeSeriesSplit(n_splits=5)"
      ]
    },
    {
      "cell_type": "code",
      "execution_count": null,
      "metadata": {
        "id": "tk_yxnNXOIo9"
      },
      "outputs": [],
      "source": [
        "gsc_tree = GridSearchCV(tree, tree_params, scoring='neg_root_mean_squared_error', n_jobs=-1, cv=tscv)"
      ]
    },
    {
      "cell_type": "code",
      "execution_count": null,
      "metadata": {
        "id": "_TI8H3d7OIo-",
        "outputId": "2aa2212b-a298-4751-a9eb-dfadfa26a713"
      },
      "outputs": [
        {
          "data": {
            "text/plain": [
              "GridSearchCV(cv=TimeSeriesSplit(gap=0, max_train_size=None, n_splits=5, test_size=None),\n",
              "             estimator=DecisionTreeRegressor(random_state=99), n_jobs=-1,\n",
              "             param_grid={'max_depth': range(6, 15)},\n",
              "             scoring='neg_root_mean_squared_error')"
            ]
          },
          "execution_count": 21,
          "metadata": {},
          "output_type": "execute_result"
        }
      ],
      "source": [
        "gsc_tree.fit(features_train, target_train)"
      ]
    },
    {
      "cell_type": "code",
      "execution_count": null,
      "metadata": {
        "id": "JUDZxf57OIo-",
        "outputId": "8e38c50c-21b0-4349-9ffe-f524f4dad227"
      },
      "outputs": [
        {
          "data": {
            "text/plain": [
              "{'max_depth': 6}"
            ]
          },
          "execution_count": 22,
          "metadata": {},
          "output_type": "execute_result"
        }
      ],
      "source": [
        "gsc_tree.best_params_"
      ]
    },
    {
      "cell_type": "code",
      "execution_count": null,
      "metadata": {
        "scrolled": true,
        "id": "CPoJb5J4OIo-"
      },
      "outputs": [],
      "source": [
        "scores.append(-gsc_tree.best_score_)"
      ]
    },
    {
      "cell_type": "markdown",
      "metadata": {
        "id": "NikxmPZaOIo-"
      },
      "source": [
        "### RandomForest"
      ]
    },
    {
      "cell_type": "code",
      "execution_count": null,
      "metadata": {
        "id": "no49P8d6OIo-"
      },
      "outputs": [],
      "source": [
        "forest = RandomForestRegressor(random_state=99)"
      ]
    },
    {
      "cell_type": "code",
      "execution_count": null,
      "metadata": {
        "id": "6LCq_f2SOIo-"
      },
      "outputs": [],
      "source": [
        "forest_params =({'max_depth':range(10, 13),\n",
        "            'n_estimators':range(100, 200, 50),\n",
        "             })"
      ]
    },
    {
      "cell_type": "code",
      "execution_count": null,
      "metadata": {
        "id": "_D9h6qAHOIo-"
      },
      "outputs": [],
      "source": [
        "gsc_forest = GridSearchCV(forest, forest_params, scoring='neg_root_mean_squared_error', n_jobs=-1, cv=tscv)"
      ]
    },
    {
      "cell_type": "code",
      "execution_count": null,
      "metadata": {
        "id": "6bKN4-CjOIo_",
        "outputId": "861ff2d4-79de-47f4-ea5b-2925a10f43b6"
      },
      "outputs": [
        {
          "data": {
            "text/plain": [
              "GridSearchCV(cv=TimeSeriesSplit(gap=0, max_train_size=None, n_splits=5, test_size=None),\n",
              "             estimator=RandomForestRegressor(random_state=99), n_jobs=-1,\n",
              "             param_grid={'max_depth': range(10, 13),\n",
              "                         'n_estimators': range(100, 200, 50)},\n",
              "             scoring='neg_root_mean_squared_error')"
            ]
          },
          "execution_count": 27,
          "metadata": {},
          "output_type": "execute_result"
        }
      ],
      "source": [
        "gsc_forest.fit(features_train, target_train)"
      ]
    },
    {
      "cell_type": "code",
      "execution_count": null,
      "metadata": {
        "id": "Pg1yJMgROIo_",
        "outputId": "058fd1ad-9e91-4c31-b982-4ca79ee199e1"
      },
      "outputs": [
        {
          "data": {
            "text/plain": [
              "{'max_depth': 12, 'n_estimators': 150}"
            ]
          },
          "execution_count": 28,
          "metadata": {},
          "output_type": "execute_result"
        }
      ],
      "source": [
        "gsc_forest.best_params_"
      ]
    },
    {
      "cell_type": "code",
      "execution_count": null,
      "metadata": {
        "id": "RRJZV960OIo_"
      },
      "outputs": [],
      "source": [
        "scores.append(-gsc_forest.best_score_)"
      ]
    },
    {
      "cell_type": "markdown",
      "metadata": {
        "id": "271MXZTIOIo_"
      },
      "source": [
        "### LinearRegression"
      ]
    },
    {
      "cell_type": "markdown",
      "metadata": {
        "id": "iLkTBPnVOIo_"
      },
      "source": [
        "Выполним масштабирование признаков."
      ]
    },
    {
      "cell_type": "code",
      "execution_count": null,
      "metadata": {
        "id": "_0BmJDP-OIo_"
      },
      "outputs": [],
      "source": [
        "num_pipeline = Pipeline(steps=[\n",
        "    ('impute', SimpleImputer(strategy='mean')),\n",
        "    ('scale', StandardScaler())\n",
        "])"
      ]
    },
    {
      "cell_type": "code",
      "execution_count": null,
      "metadata": {
        "id": "Ou5ReWbbOIo_"
      },
      "outputs": [],
      "source": [
        "res_num = num_pipeline.fit_transform(features_train)\n",
        "res_num_test = num_pipeline.transform(features_test)"
      ]
    },
    {
      "cell_type": "code",
      "execution_count": null,
      "metadata": {
        "id": "iTS5msOROIo_",
        "outputId": "500f4c5d-0268-486b-efdc-8a3f4c3d7bed"
      },
      "outputs": [
        {
          "data": {
            "text/html": [
              "<div>\n",
              "<style scoped>\n",
              "    .dataframe tbody tr th:only-of-type {\n",
              "        vertical-align: middle;\n",
              "    }\n",
              "\n",
              "    .dataframe tbody tr th {\n",
              "        vertical-align: top;\n",
              "    }\n",
              "\n",
              "    .dataframe thead th {\n",
              "        text-align: right;\n",
              "    }\n",
              "</style>\n",
              "<table border=\"1\" class=\"dataframe\">\n",
              "  <thead>\n",
              "    <tr style=\"text-align: right;\">\n",
              "      <th></th>\n",
              "      <th>dayofweek</th>\n",
              "      <th>hour</th>\n",
              "      <th>lag_1</th>\n",
              "      <th>lag_2</th>\n",
              "      <th>lag_3</th>\n",
              "      <th>lag_4</th>\n",
              "      <th>lag_5</th>\n",
              "      <th>lag_6</th>\n",
              "      <th>lag_7</th>\n",
              "      <th>lag_8</th>\n",
              "      <th>...</th>\n",
              "      <th>lag_160</th>\n",
              "      <th>lag_161</th>\n",
              "      <th>lag_162</th>\n",
              "      <th>lag_163</th>\n",
              "      <th>lag_164</th>\n",
              "      <th>lag_165</th>\n",
              "      <th>lag_166</th>\n",
              "      <th>lag_167</th>\n",
              "      <th>lag_168</th>\n",
              "      <th>rolling_mean</th>\n",
              "    </tr>\n",
              "  </thead>\n",
              "  <tbody>\n",
              "    <tr>\n",
              "      <th>0</th>\n",
              "      <td>-0.007568</td>\n",
              "      <td>-1.658183</td>\n",
              "      <td>0.371383</td>\n",
              "      <td>1.220297</td>\n",
              "      <td>0.731578</td>\n",
              "      <td>-0.091694</td>\n",
              "      <td>-0.761460</td>\n",
              "      <td>0.503408</td>\n",
              "      <td>-0.813284</td>\n",
              "      <td>-0.864493</td>\n",
              "      <td>...</td>\n",
              "      <td>-1.152519</td>\n",
              "      <td>-1.661747</td>\n",
              "      <td>-1.741062</td>\n",
              "      <td>-1.900674</td>\n",
              "      <td>-0.907788</td>\n",
              "      <td>-0.290613</td>\n",
              "      <td>-0.156171</td>\n",
              "      <td>0.219401</td>\n",
              "      <td>1.265053</td>\n",
              "      <td>-1.389056</td>\n",
              "    </tr>\n",
              "    <tr>\n",
              "      <th>1</th>\n",
              "      <td>-0.007568</td>\n",
              "      <td>-1.513798</td>\n",
              "      <td>1.632878</td>\n",
              "      <td>0.370807</td>\n",
              "      <td>1.220794</td>\n",
              "      <td>0.733120</td>\n",
              "      <td>-0.091302</td>\n",
              "      <td>-0.762066</td>\n",
              "      <td>0.504134</td>\n",
              "      <td>-0.812821</td>\n",
              "      <td>...</td>\n",
              "      <td>-0.212598</td>\n",
              "      <td>-1.151689</td>\n",
              "      <td>-1.660554</td>\n",
              "      <td>-1.739712</td>\n",
              "      <td>-1.900278</td>\n",
              "      <td>-0.907588</td>\n",
              "      <td>-0.290319</td>\n",
              "      <td>-0.156212</td>\n",
              "      <td>0.218816</td>\n",
              "      <td>-1.382467</td>\n",
              "    </tr>\n",
              "    <tr>\n",
              "      <th>2</th>\n",
              "      <td>-0.007568</td>\n",
              "      <td>-1.369413</td>\n",
              "      <td>-0.040533</td>\n",
              "      <td>1.632171</td>\n",
              "      <td>0.371103</td>\n",
              "      <td>1.222854</td>\n",
              "      <td>0.733507</td>\n",
              "      <td>-0.090590</td>\n",
              "      <td>-0.761621</td>\n",
              "      <td>0.504811</td>\n",
              "      <td>...</td>\n",
              "      <td>-0.346872</td>\n",
              "      <td>-0.212107</td>\n",
              "      <td>-1.150672</td>\n",
              "      <td>-1.659232</td>\n",
              "      <td>-1.739334</td>\n",
              "      <td>-1.900114</td>\n",
              "      <td>-0.907400</td>\n",
              "      <td>-0.290359</td>\n",
              "      <td>-0.156756</td>\n",
              "      <td>-1.384895</td>\n",
              "    </tr>\n",
              "    <tr>\n",
              "      <th>3</th>\n",
              "      <td>-0.007568</td>\n",
              "      <td>-1.225027</td>\n",
              "      <td>-0.375215</td>\n",
              "      <td>-0.041068</td>\n",
              "      <td>1.632765</td>\n",
              "      <td>0.372264</td>\n",
              "      <td>1.223238</td>\n",
              "      <td>0.735842</td>\n",
              "      <td>-0.089996</td>\n",
              "      <td>-0.761149</td>\n",
              "      <td>...</td>\n",
              "      <td>0.512483</td>\n",
              "      <td>-0.346333</td>\n",
              "      <td>-0.211416</td>\n",
              "      <td>-1.149521</td>\n",
              "      <td>-1.658862</td>\n",
              "      <td>-1.739163</td>\n",
              "      <td>-1.900097</td>\n",
              "      <td>-0.907437</td>\n",
              "      <td>-0.290889</td>\n",
              "      <td>-1.386975</td>\n",
              "    </tr>\n",
              "    <tr>\n",
              "      <th>4</th>\n",
              "      <td>-0.007568</td>\n",
              "      <td>-1.080642</td>\n",
              "      <td>-0.297981</td>\n",
              "      <td>-0.375715</td>\n",
              "      <td>-0.040868</td>\n",
              "      <td>1.635261</td>\n",
              "      <td>0.372653</td>\n",
              "      <td>1.226535</td>\n",
              "      <td>0.736620</td>\n",
              "      <td>-0.089415</td>\n",
              "      <td>...</td>\n",
              "      <td>-1.259938</td>\n",
              "      <td>0.512713</td>\n",
              "      <td>-0.345595</td>\n",
              "      <td>-0.210580</td>\n",
              "      <td>-1.149204</td>\n",
              "      <td>-1.658688</td>\n",
              "      <td>-1.739119</td>\n",
              "      <td>-1.900128</td>\n",
              "      <td>-0.907901</td>\n",
              "      <td>-1.386282</td>\n",
              "    </tr>\n",
              "  </tbody>\n",
              "</table>\n",
              "<p>5 rows × 171 columns</p>\n",
              "</div>"
            ],
            "text/plain": [
              "   dayofweek      hour     lag_1     lag_2     lag_3     lag_4     lag_5  \\\n",
              "0  -0.007568 -1.658183  0.371383  1.220297  0.731578 -0.091694 -0.761460   \n",
              "1  -0.007568 -1.513798  1.632878  0.370807  1.220794  0.733120 -0.091302   \n",
              "2  -0.007568 -1.369413 -0.040533  1.632171  0.371103  1.222854  0.733507   \n",
              "3  -0.007568 -1.225027 -0.375215 -0.041068  1.632765  0.372264  1.223238   \n",
              "4  -0.007568 -1.080642 -0.297981 -0.375715 -0.040868  1.635261  0.372653   \n",
              "\n",
              "      lag_6     lag_7     lag_8  ...   lag_160   lag_161   lag_162   lag_163  \\\n",
              "0  0.503408 -0.813284 -0.864493  ... -1.152519 -1.661747 -1.741062 -1.900674   \n",
              "1 -0.762066  0.504134 -0.812821  ... -0.212598 -1.151689 -1.660554 -1.739712   \n",
              "2 -0.090590 -0.761621  0.504811  ... -0.346872 -0.212107 -1.150672 -1.659232   \n",
              "3  0.735842 -0.089996 -0.761149  ...  0.512483 -0.346333 -0.211416 -1.149521   \n",
              "4  1.226535  0.736620 -0.089415  ... -1.259938  0.512713 -0.345595 -0.210580   \n",
              "\n",
              "    lag_164   lag_165   lag_166   lag_167   lag_168  rolling_mean  \n",
              "0 -0.907788 -0.290613 -0.156171  0.219401  1.265053     -1.389056  \n",
              "1 -1.900278 -0.907588 -0.290319 -0.156212  0.218816     -1.382467  \n",
              "2 -1.739334 -1.900114 -0.907400 -0.290359 -0.156756     -1.384895  \n",
              "3 -1.658862 -1.739163 -1.900097 -0.907437 -0.290889     -1.386975  \n",
              "4 -1.149204 -1.658688 -1.739119 -1.900128 -0.907901     -1.386282  \n",
              "\n",
              "[5 rows x 171 columns]"
            ]
          },
          "execution_count": 32,
          "metadata": {},
          "output_type": "execute_result"
        }
      ],
      "source": [
        "features_train_scaled = pd.DataFrame(res_num,\n",
        "                        columns=features_train.columns)\n",
        "features_test_scaled = pd.DataFrame(res_num_test,\n",
        "                        columns=features_test.columns)\n",
        "features_train_scaled.head()"
      ]
    },
    {
      "cell_type": "markdown",
      "metadata": {
        "id": "J376eOeGOIpA"
      },
      "source": [
        "Обучим и проверим модель."
      ]
    },
    {
      "cell_type": "code",
      "execution_count": null,
      "metadata": {
        "id": "Q2GcLi6ROIpA"
      },
      "outputs": [],
      "source": [
        "linear = LinearRegression()"
      ]
    },
    {
      "cell_type": "code",
      "execution_count": null,
      "metadata": {
        "id": "UCETb8QsOIpA"
      },
      "outputs": [],
      "source": [
        "linear_params =({'fit_intercept':[True, False],\n",
        "            'copy_X':[True, False],\n",
        "             })"
      ]
    },
    {
      "cell_type": "code",
      "execution_count": null,
      "metadata": {
        "id": "j46Y_Ra-OIpA"
      },
      "outputs": [],
      "source": [
        "gsc_linear = GridSearchCV(linear, linear_params, scoring='neg_root_mean_squared_error', n_jobs=-1, cv=tscv)"
      ]
    },
    {
      "cell_type": "code",
      "execution_count": null,
      "metadata": {
        "id": "X7lZjyR-OIpB",
        "outputId": "04fd0c4f-2f92-402e-aef0-8bc2ab858ded"
      },
      "outputs": [
        {
          "data": {
            "text/plain": [
              "GridSearchCV(cv=TimeSeriesSplit(gap=0, max_train_size=None, n_splits=5, test_size=None),\n",
              "             estimator=LinearRegression(), n_jobs=-1,\n",
              "             param_grid={'copy_X': [True, False],\n",
              "                         'fit_intercept': [True, False]},\n",
              "             scoring='neg_root_mean_squared_error')"
            ]
          },
          "execution_count": 36,
          "metadata": {},
          "output_type": "execute_result"
        }
      ],
      "source": [
        "gsc_linear.fit(features_train_scaled, target_train)"
      ]
    },
    {
      "cell_type": "code",
      "execution_count": null,
      "metadata": {
        "id": "7vj5Kac4OIpB",
        "outputId": "b8980707-7325-4d5b-8386-028aee70c0b3"
      },
      "outputs": [
        {
          "data": {
            "text/plain": [
              "{'copy_X': True, 'fit_intercept': True}"
            ]
          },
          "execution_count": 37,
          "metadata": {},
          "output_type": "execute_result"
        }
      ],
      "source": [
        "gsc_linear.best_params_"
      ]
    },
    {
      "cell_type": "code",
      "execution_count": null,
      "metadata": {
        "id": "Jtuz6w0ZOIpB"
      },
      "outputs": [],
      "source": [
        "scores.append(-gsc_linear.best_score_)"
      ]
    },
    {
      "cell_type": "markdown",
      "metadata": {
        "id": "XtKr7LnOOIpB"
      },
      "source": [
        "### Сравнение моделей"
      ]
    },
    {
      "cell_type": "code",
      "execution_count": null,
      "metadata": {
        "id": "w-h6_EQGOIpB",
        "outputId": "1f6576f2-23fe-4edc-c1e2-936af25fe02a"
      },
      "outputs": [
        {
          "data": {
            "text/html": [
              "<div>\n",
              "<style scoped>\n",
              "    .dataframe tbody tr th:only-of-type {\n",
              "        vertical-align: middle;\n",
              "    }\n",
              "\n",
              "    .dataframe tbody tr th {\n",
              "        vertical-align: top;\n",
              "    }\n",
              "\n",
              "    .dataframe thead th {\n",
              "        text-align: right;\n",
              "    }\n",
              "</style>\n",
              "<table border=\"1\" class=\"dataframe\">\n",
              "  <thead>\n",
              "    <tr style=\"text-align: right;\">\n",
              "      <th></th>\n",
              "      <th>RMSE</th>\n",
              "    </tr>\n",
              "  </thead>\n",
              "  <tbody>\n",
              "    <tr>\n",
              "      <th>DecisionTree</th>\n",
              "      <td>29.400710</td>\n",
              "    </tr>\n",
              "    <tr>\n",
              "      <th>RandomForest</th>\n",
              "      <td>23.094246</td>\n",
              "    </tr>\n",
              "    <tr>\n",
              "      <th>LinearRegression</th>\n",
              "      <td>22.704620</td>\n",
              "    </tr>\n",
              "  </tbody>\n",
              "</table>\n",
              "</div>"
            ],
            "text/plain": [
              "                       RMSE\n",
              "DecisionTree      29.400710\n",
              "RandomForest      23.094246\n",
              "LinearRegression  22.704620"
            ]
          },
          "execution_count": 39,
          "metadata": {},
          "output_type": "execute_result"
        }
      ],
      "source": [
        "pd.DataFrame(scores, columns=['RMSE'], index=['DecisionTree', 'RandomForest', 'LinearRegression'])"
      ]
    },
    {
      "cell_type": "markdown",
      "metadata": {
        "id": "Xr5X3HtqOIpB"
      },
      "source": [
        "**Вывод по третьему шагу:** лучше всего себя показала модель линейной регрессии, далее перейдем к её тестированию."
      ]
    },
    {
      "cell_type": "markdown",
      "metadata": {
        "id": "3kMLMdZ4OIpB"
      },
      "source": [
        "## Тестирование"
      ]
    },
    {
      "cell_type": "markdown",
      "metadata": {
        "id": "j4YX3X8SOIpB"
      },
      "source": [
        "Проверим лучшую модель на тестовой выборке."
      ]
    },
    {
      "cell_type": "code",
      "execution_count": null,
      "metadata": {
        "id": "cn41IkUUOIpB"
      },
      "outputs": [],
      "source": [
        "best_model = gsc_linear.best_estimator_"
      ]
    },
    {
      "cell_type": "code",
      "execution_count": null,
      "metadata": {
        "id": "I42AAdioOIpC"
      },
      "outputs": [],
      "source": [
        "predictions = best_model.predict(features_test_scaled)"
      ]
    },
    {
      "cell_type": "code",
      "execution_count": null,
      "metadata": {
        "id": "C1lMbJ2lOIpC",
        "outputId": "128674f2-8273-48c8-85ab-2cc02a568ea6"
      },
      "outputs": [
        {
          "data": {
            "text/plain": [
              "34.25980525349294"
            ]
          },
          "execution_count": 42,
          "metadata": {},
          "output_type": "execute_result"
        }
      ],
      "source": [
        "rmse = mean_squared_error(target_test, predictions) ** 0.5\n",
        "rmse"
      ]
    },
    {
      "cell_type": "markdown",
      "metadata": {
        "id": "_2XW_d8GOIpC"
      },
      "source": [
        "Зададим константное предсказание медианой, измерим метрику для неё, для сравнения и проверки лучшей модели на адекватность."
      ]
    },
    {
      "cell_type": "code",
      "execution_count": null,
      "metadata": {
        "id": "JODTAdOsOIpC",
        "outputId": "d66dd6ef-0809-4037-edc9-3e9f0f3baafa"
      },
      "outputs": [
        {
          "data": {
            "text/plain": [
              "87.03915278566916"
            ]
          },
          "execution_count": 43,
          "metadata": {},
          "output_type": "execute_result"
        }
      ],
      "source": [
        "pred_median = np.ones(target_test.shape) * target_train.median()\n",
        "rmse = mean_squared_error(target_test, pred_median) ** 0.5\n",
        "rmse"
      ]
    },
    {
      "cell_type": "markdown",
      "metadata": {
        "id": "C04ThHqtOIpC"
      },
      "source": [
        "**Вывод по четвертому шагу:** проверили лучшую модель на тестовой выборке, получили значение метрики RMSE равное 34,26. Для проверки на адекватность задали константный прогноз, в этом случае метрика ухудшилась более чем в два раза, из чего можно сделать вывод, что наша модель адекватна."
      ]
    },
    {
      "cell_type": "markdown",
      "metadata": {
        "id": "9iEfWaLkOIpC"
      },
      "source": [
        "## Общий вывод"
      ]
    },
    {
      "cell_type": "markdown",
      "metadata": {
        "id": "hAkxTI6_OIpD"
      },
      "source": [
        "Загрузили таблицу с данными, при чтении преобразовав тип данных даты и времени в `datetime64` для правильной обработки времени, и преобразовав данный столбец в индексы для удобства работы с ним.\n",
        "\n",
        "Получили датафрейм из одного столбца типа `int64` и 2496-ти строк.\n",
        "\n",
        "После чего выполнили ресемплирование данных по одному часу, где для каждого часа отражается общее количество заказов в этот час. В результате количество строк таблицы данных уменьшилось до 4416-ти.\n",
        "\n",
        "Построили графики временного ряда, обнаружили в них тренд и сезонность. Мы определили суточную сезонность, где изо дня в день в 00:00 количество заказов максимально, в 06:00 - минимально. А также выявили недельную сезонность: по понедельникам и пятницам количество заказов максимально, по вторникам и воскресеньям - минимально.\n",
        "\n",
        "После чего рассмотрели три модели: `DecisionTreeRegressor`, `RandomForestRegressor`, `LinearRegression`,  подобрали гиперпараметры при помощи `GridSearchCV`. Лучше всего себя показала модель линейной регрессии.\n",
        "\n",
        "Проверили лучшую модель на тестовой выборке, получили значение метрики RMSE равное 34,26. Для проверки на адекватность задали константный прогноз, в этом случае метрика ухудшилась более чем в два раза, из чего можно сделать вывод, что наша модель адекватна."
      ]
    },
    {
      "cell_type": "markdown",
      "metadata": {
        "id": "tNtLoJOyOIpD"
      },
      "source": [
        "## Чек-лист проверки"
      ]
    },
    {
      "cell_type": "markdown",
      "metadata": {
        "id": "AuEzpbXAOIpD"
      },
      "source": [
        "- [x]  Jupyter Notebook открыт\n",
        "- [x]  Весь код выполняется без ошибок\n",
        "- [x]  Ячейки с кодом расположены в порядке исполнения\n",
        "- [x]  Данные загружены и подготовлены\n",
        "- [x]  Данные проанализированы\n",
        "- [x]  Модель обучена, гиперпараметры подобраны\n",
        "- [x]  Качество моделей проверено, выводы сделаны\n",
        "- [x]  Значение *RMSE* на тестовой выборке не больше 48"
      ]
    },
    {
      "cell_type": "code",
      "execution_count": null,
      "metadata": {
        "id": "NB7Y8ZlGOIpD"
      },
      "outputs": [],
      "source": []
    }
  ],
  "metadata": {
    "ExecuteTimeLog": [
      {
        "duration": 387,
        "start_time": "2024-04-01T18:11:37.822Z"
      },
      {
        "duration": 166,
        "start_time": "2024-04-01T18:11:55.414Z"
      },
      {
        "duration": 22,
        "start_time": "2024-04-01T18:12:14.319Z"
      },
      {
        "duration": 49,
        "start_time": "2024-04-01T18:14:08.713Z"
      },
      {
        "duration": 14,
        "start_time": "2024-04-01T18:14:09.465Z"
      },
      {
        "duration": 48,
        "start_time": "2024-04-02T16:26:05.840Z"
      },
      {
        "duration": 390,
        "start_time": "2024-04-02T16:26:12.920Z"
      },
      {
        "duration": 152,
        "start_time": "2024-04-02T16:26:13.312Z"
      },
      {
        "duration": 21,
        "start_time": "2024-04-02T16:26:13.465Z"
      },
      {
        "duration": 6,
        "start_time": "2024-04-02T16:26:13.488Z"
      },
      {
        "duration": 28,
        "start_time": "2024-04-02T16:26:24.965Z"
      },
      {
        "duration": 3,
        "start_time": "2024-04-02T16:26:36.382Z"
      },
      {
        "duration": 7,
        "start_time": "2024-04-02T16:26:54.789Z"
      },
      {
        "duration": 2,
        "start_time": "2024-04-02T16:26:58.843Z"
      },
      {
        "duration": 61,
        "start_time": "2024-04-02T16:26:58.847Z"
      },
      {
        "duration": 14,
        "start_time": "2024-04-02T16:26:58.909Z"
      },
      {
        "duration": 8,
        "start_time": "2024-04-02T16:26:58.925Z"
      },
      {
        "duration": 0,
        "start_time": "2024-04-02T16:26:58.935Z"
      },
      {
        "duration": 6,
        "start_time": "2024-04-02T16:27:40.262Z"
      },
      {
        "duration": 9,
        "start_time": "2024-04-02T16:27:41.294Z"
      },
      {
        "duration": 6,
        "start_time": "2024-04-02T16:27:57.137Z"
      },
      {
        "duration": 9,
        "start_time": "2024-04-02T16:27:57.776Z"
      },
      {
        "duration": 10,
        "start_time": "2024-04-02T16:28:15.806Z"
      },
      {
        "duration": 5,
        "start_time": "2024-04-02T16:28:57.318Z"
      },
      {
        "duration": 9,
        "start_time": "2024-04-02T16:28:58.038Z"
      },
      {
        "duration": 365,
        "start_time": "2024-04-02T16:29:13.648Z"
      },
      {
        "duration": 46,
        "start_time": "2024-04-02T16:29:14.014Z"
      },
      {
        "duration": 19,
        "start_time": "2024-04-02T16:29:14.062Z"
      },
      {
        "duration": 8,
        "start_time": "2024-04-02T16:29:14.082Z"
      },
      {
        "duration": 8,
        "start_time": "2024-04-02T16:29:14.091Z"
      },
      {
        "duration": 13,
        "start_time": "2024-04-02T16:31:46.944Z"
      },
      {
        "duration": 528,
        "start_time": "2024-04-02T16:34:13.322Z"
      },
      {
        "duration": 129,
        "start_time": "2024-04-02T16:34:26.126Z"
      },
      {
        "duration": 134,
        "start_time": "2024-04-02T16:34:30.102Z"
      },
      {
        "duration": 276,
        "start_time": "2024-04-02T16:34:33.564Z"
      },
      {
        "duration": 161,
        "start_time": "2024-04-02T16:34:41.592Z"
      },
      {
        "duration": 144,
        "start_time": "2024-04-02T16:34:44.183Z"
      },
      {
        "duration": 2,
        "start_time": "2024-04-02T16:36:25.853Z"
      },
      {
        "duration": 125,
        "start_time": "2024-04-02T16:36:34.828Z"
      },
      {
        "duration": 117,
        "start_time": "2024-04-02T16:38:11.677Z"
      },
      {
        "duration": 46,
        "start_time": "2024-04-02T16:38:19.836Z"
      },
      {
        "duration": 626,
        "start_time": "2024-04-02T16:39:24.244Z"
      },
      {
        "duration": 640,
        "start_time": "2024-04-02T16:39:50.182Z"
      },
      {
        "duration": 584,
        "start_time": "2024-04-02T16:39:56.119Z"
      },
      {
        "duration": 611,
        "start_time": "2024-04-02T16:40:01.098Z"
      },
      {
        "duration": 641,
        "start_time": "2024-04-02T16:40:06.706Z"
      },
      {
        "duration": 7279,
        "start_time": "2024-04-02T16:40:13.851Z"
      },
      {
        "duration": 905,
        "start_time": "2024-04-02T16:40:36.950Z"
      },
      {
        "duration": 750,
        "start_time": "2024-04-02T16:40:44.186Z"
      },
      {
        "duration": 661,
        "start_time": "2024-04-02T16:41:33.280Z"
      },
      {
        "duration": 489,
        "start_time": "2024-04-02T16:41:46.244Z"
      },
      {
        "duration": 439,
        "start_time": "2024-04-02T16:41:54.447Z"
      },
      {
        "duration": 145,
        "start_time": "2024-04-02T16:41:58.790Z"
      },
      {
        "duration": 333,
        "start_time": "2024-04-02T16:42:05.085Z"
      },
      {
        "duration": 138,
        "start_time": "2024-04-02T16:42:14.720Z"
      },
      {
        "duration": 140,
        "start_time": "2024-04-02T16:42:23.300Z"
      },
      {
        "duration": 182,
        "start_time": "2024-04-02T16:42:28.771Z"
      },
      {
        "duration": 451,
        "start_time": "2024-04-02T16:42:48.076Z"
      },
      {
        "duration": 478,
        "start_time": "2024-04-02T16:42:51.775Z"
      },
      {
        "duration": 313,
        "start_time": "2024-04-02T16:42:54.684Z"
      },
      {
        "duration": 253,
        "start_time": "2024-04-02T16:43:03.417Z"
      },
      {
        "duration": 213,
        "start_time": "2024-04-02T16:43:10.726Z"
      },
      {
        "duration": 225,
        "start_time": "2024-04-02T16:43:23.586Z"
      },
      {
        "duration": 7,
        "start_time": "2024-04-02T16:45:27.655Z"
      },
      {
        "duration": 7,
        "start_time": "2024-04-02T16:45:31.524Z"
      },
      {
        "duration": 631,
        "start_time": "2024-04-02T16:45:34.478Z"
      },
      {
        "duration": 544,
        "start_time": "2024-04-02T16:45:40.598Z"
      },
      {
        "duration": 611,
        "start_time": "2024-04-02T16:45:44.708Z"
      },
      {
        "duration": 662,
        "start_time": "2024-04-02T16:45:49.243Z"
      },
      {
        "duration": 556,
        "start_time": "2024-04-02T16:46:16.881Z"
      },
      {
        "duration": 9,
        "start_time": "2024-04-02T16:48:38.931Z"
      },
      {
        "duration": 426,
        "start_time": "2024-04-02T16:48:52.605Z"
      },
      {
        "duration": 42,
        "start_time": "2024-04-02T16:48:57.956Z"
      },
      {
        "duration": 12,
        "start_time": "2024-04-02T16:49:40.396Z"
      },
      {
        "duration": 1970,
        "start_time": "2024-04-02T16:52:19.256Z"
      },
      {
        "duration": 1812,
        "start_time": "2024-04-02T16:52:28.303Z"
      },
      {
        "duration": 10,
        "start_time": "2024-04-02T16:52:39.426Z"
      },
      {
        "duration": 1947,
        "start_time": "2024-04-02T16:52:44.483Z"
      },
      {
        "duration": 1846,
        "start_time": "2024-04-02T16:52:56.356Z"
      },
      {
        "duration": 1976,
        "start_time": "2024-04-02T16:53:06.102Z"
      },
      {
        "duration": 1936,
        "start_time": "2024-04-02T16:53:37.624Z"
      },
      {
        "duration": 1569,
        "start_time": "2024-04-02T16:54:12.482Z"
      },
      {
        "duration": 24,
        "start_time": "2024-04-02T17:24:24.574Z"
      },
      {
        "duration": 3,
        "start_time": "2024-04-02T17:24:33.531Z"
      },
      {
        "duration": 18676,
        "start_time": "2024-04-02T17:25:00.712Z"
      },
      {
        "duration": 1071,
        "start_time": "2024-04-02T17:25:46.008Z"
      },
      {
        "duration": 46,
        "start_time": "2024-04-02T17:25:47.081Z"
      },
      {
        "duration": 17,
        "start_time": "2024-04-02T17:25:47.129Z"
      },
      {
        "duration": 8,
        "start_time": "2024-04-02T17:25:47.148Z"
      },
      {
        "duration": 13,
        "start_time": "2024-04-02T17:25:47.157Z"
      },
      {
        "duration": 269,
        "start_time": "2024-04-02T17:25:47.171Z"
      },
      {
        "duration": 204,
        "start_time": "2024-04-02T17:25:47.441Z"
      },
      {
        "duration": 109,
        "start_time": "2024-04-02T17:25:47.646Z"
      },
      {
        "duration": 0,
        "start_time": "2024-04-02T17:25:47.757Z"
      },
      {
        "duration": 0,
        "start_time": "2024-04-02T17:25:47.758Z"
      },
      {
        "duration": 13,
        "start_time": "2024-04-02T17:26:06.099Z"
      },
      {
        "duration": 801,
        "start_time": "2024-04-02T17:26:12.709Z"
      },
      {
        "duration": 936,
        "start_time": "2024-04-02T17:26:40.820Z"
      },
      {
        "duration": 4,
        "start_time": "2024-04-02T17:26:48.106Z"
      },
      {
        "duration": 1800,
        "start_time": "2024-04-02T17:26:48.996Z"
      },
      {
        "duration": 1194,
        "start_time": "2024-04-02T17:27:00.588Z"
      },
      {
        "duration": 48,
        "start_time": "2024-04-02T17:27:01.784Z"
      },
      {
        "duration": 32,
        "start_time": "2024-04-02T17:27:01.834Z"
      },
      {
        "duration": 51,
        "start_time": "2024-04-02T17:27:01.868Z"
      },
      {
        "duration": 39,
        "start_time": "2024-04-02T17:27:01.921Z"
      },
      {
        "duration": 267,
        "start_time": "2024-04-02T17:27:01.961Z"
      },
      {
        "duration": 212,
        "start_time": "2024-04-02T17:27:02.229Z"
      },
      {
        "duration": 867,
        "start_time": "2024-04-02T17:27:02.442Z"
      },
      {
        "duration": 3,
        "start_time": "2024-04-02T17:27:03.311Z"
      },
      {
        "duration": 1680,
        "start_time": "2024-04-02T17:27:03.316Z"
      },
      {
        "duration": 337,
        "start_time": "2024-04-02T17:28:30.172Z"
      },
      {
        "duration": 291,
        "start_time": "2024-04-02T17:28:38.415Z"
      },
      {
        "duration": 351,
        "start_time": "2024-04-02T17:30:01.464Z"
      },
      {
        "duration": 251,
        "start_time": "2024-04-02T17:30:18.516Z"
      },
      {
        "duration": 1129,
        "start_time": "2024-04-02T17:33:48.868Z"
      },
      {
        "duration": 50,
        "start_time": "2024-04-02T17:33:49.999Z"
      },
      {
        "duration": 17,
        "start_time": "2024-04-02T17:33:50.050Z"
      },
      {
        "duration": 9,
        "start_time": "2024-04-02T17:33:50.070Z"
      },
      {
        "duration": 18,
        "start_time": "2024-04-02T17:33:50.081Z"
      },
      {
        "duration": 267,
        "start_time": "2024-04-02T17:33:50.101Z"
      },
      {
        "duration": 335,
        "start_time": "2024-04-02T17:33:50.369Z"
      },
      {
        "duration": 118,
        "start_time": "2024-04-02T17:33:50.706Z"
      },
      {
        "duration": 0,
        "start_time": "2024-04-02T17:33:50.826Z"
      },
      {
        "duration": 0,
        "start_time": "2024-04-02T17:33:50.827Z"
      },
      {
        "duration": 875,
        "start_time": "2024-04-02T17:36:03.460Z"
      },
      {
        "duration": 1179,
        "start_time": "2024-04-02T17:36:12.026Z"
      },
      {
        "duration": 48,
        "start_time": "2024-04-02T17:36:13.207Z"
      },
      {
        "duration": 19,
        "start_time": "2024-04-02T17:36:13.256Z"
      },
      {
        "duration": 8,
        "start_time": "2024-04-02T17:36:13.277Z"
      },
      {
        "duration": 15,
        "start_time": "2024-04-02T17:36:13.286Z"
      },
      {
        "duration": 250,
        "start_time": "2024-04-02T17:36:13.302Z"
      },
      {
        "duration": 346,
        "start_time": "2024-04-02T17:36:13.553Z"
      },
      {
        "duration": 911,
        "start_time": "2024-04-02T17:36:13.901Z"
      },
      {
        "duration": 3,
        "start_time": "2024-04-02T17:36:14.814Z"
      },
      {
        "duration": 1873,
        "start_time": "2024-04-02T17:36:14.819Z"
      },
      {
        "duration": 1109,
        "start_time": "2024-04-02T17:41:02.707Z"
      },
      {
        "duration": 49,
        "start_time": "2024-04-02T17:41:03.818Z"
      },
      {
        "duration": 17,
        "start_time": "2024-04-02T17:41:03.869Z"
      },
      {
        "duration": 12,
        "start_time": "2024-04-02T17:41:03.888Z"
      },
      {
        "duration": 15,
        "start_time": "2024-04-02T17:41:03.903Z"
      },
      {
        "duration": 256,
        "start_time": "2024-04-02T17:41:03.920Z"
      },
      {
        "duration": 369,
        "start_time": "2024-04-02T17:41:04.177Z"
      },
      {
        "duration": 856,
        "start_time": "2024-04-02T17:41:04.548Z"
      },
      {
        "duration": 4,
        "start_time": "2024-04-02T17:41:05.406Z"
      },
      {
        "duration": 1882,
        "start_time": "2024-04-02T17:41:05.411Z"
      },
      {
        "duration": 3,
        "start_time": "2024-04-02T17:42:48.255Z"
      },
      {
        "duration": 1311,
        "start_time": "2024-04-02T17:42:58.610Z"
      },
      {
        "duration": 4,
        "start_time": "2024-04-02T17:43:22.149Z"
      },
      {
        "duration": 15,
        "start_time": "2024-04-02T17:43:23.497Z"
      },
      {
        "duration": 18,
        "start_time": "2024-04-02T17:43:39.484Z"
      },
      {
        "duration": 1640,
        "start_time": "2024-04-03T16:39:57.000Z"
      },
      {
        "duration": 4,
        "start_time": "2024-04-03T16:42:45.348Z"
      },
      {
        "duration": 126,
        "start_time": "2024-04-03T16:47:57.433Z"
      },
      {
        "duration": 3,
        "start_time": "2024-04-03T16:48:23.587Z"
      },
      {
        "duration": 4,
        "start_time": "2024-04-03T16:48:27.831Z"
      },
      {
        "duration": 104,
        "start_time": "2024-04-03T16:48:27.836Z"
      },
      {
        "duration": 18,
        "start_time": "2024-04-03T16:48:27.942Z"
      },
      {
        "duration": 8,
        "start_time": "2024-04-03T16:48:27.962Z"
      },
      {
        "duration": 16,
        "start_time": "2024-04-03T16:48:27.973Z"
      },
      {
        "duration": 272,
        "start_time": "2024-04-03T16:48:27.991Z"
      },
      {
        "duration": 419,
        "start_time": "2024-04-03T16:48:28.265Z"
      },
      {
        "duration": 933,
        "start_time": "2024-04-03T16:48:28.687Z"
      },
      {
        "duration": 3,
        "start_time": "2024-04-03T16:48:29.622Z"
      },
      {
        "duration": 1789,
        "start_time": "2024-04-03T16:48:29.627Z"
      },
      {
        "duration": 97,
        "start_time": "2024-04-03T16:48:31.418Z"
      },
      {
        "duration": 22,
        "start_time": "2024-04-03T16:48:31.516Z"
      },
      {
        "duration": 19,
        "start_time": "2024-04-03T16:48:31.539Z"
      },
      {
        "duration": 36,
        "start_time": "2024-04-03T16:48:31.561Z"
      },
      {
        "duration": 16,
        "start_time": "2024-04-03T16:48:31.599Z"
      },
      {
        "duration": 25,
        "start_time": "2024-04-03T16:48:31.617Z"
      },
      {
        "duration": 281,
        "start_time": "2024-04-03T16:48:31.644Z"
      },
      {
        "duration": 0,
        "start_time": "2024-04-03T16:48:31.926Z"
      },
      {
        "duration": 0,
        "start_time": "2024-04-03T16:48:31.927Z"
      },
      {
        "duration": 4,
        "start_time": "2024-04-03T16:49:39.018Z"
      },
      {
        "duration": 6,
        "start_time": "2024-04-03T16:49:39.857Z"
      },
      {
        "duration": 4,
        "start_time": "2024-04-03T16:49:41.171Z"
      },
      {
        "duration": 2,
        "start_time": "2024-04-03T16:49:41.751Z"
      },
      {
        "duration": 2,
        "start_time": "2024-04-03T16:49:42.428Z"
      },
      {
        "duration": 697,
        "start_time": "2024-04-03T16:49:43.368Z"
      },
      {
        "duration": 5,
        "start_time": "2024-04-03T16:49:45.707Z"
      },
      {
        "duration": 4,
        "start_time": "2024-04-03T16:49:46.646Z"
      },
      {
        "duration": 1385,
        "start_time": "2024-04-03T16:50:03.500Z"
      },
      {
        "duration": 52,
        "start_time": "2024-04-03T16:50:04.887Z"
      },
      {
        "duration": 16,
        "start_time": "2024-04-03T16:50:04.941Z"
      },
      {
        "duration": 11,
        "start_time": "2024-04-03T16:50:04.959Z"
      },
      {
        "duration": 19,
        "start_time": "2024-04-03T16:50:04.973Z"
      },
      {
        "duration": 293,
        "start_time": "2024-04-03T16:50:04.994Z"
      },
      {
        "duration": 421,
        "start_time": "2024-04-03T16:50:05.289Z"
      },
      {
        "duration": 896,
        "start_time": "2024-04-03T16:50:05.712Z"
      },
      {
        "duration": 5,
        "start_time": "2024-04-03T16:50:06.610Z"
      },
      {
        "duration": 1806,
        "start_time": "2024-04-03T16:50:06.616Z"
      },
      {
        "duration": 90,
        "start_time": "2024-04-03T16:50:08.424Z"
      },
      {
        "duration": 110,
        "start_time": "2024-04-03T16:50:08.517Z"
      },
      {
        "duration": 4,
        "start_time": "2024-04-03T16:50:08.629Z"
      },
      {
        "duration": 6,
        "start_time": "2024-04-03T16:50:08.635Z"
      },
      {
        "duration": 5,
        "start_time": "2024-04-03T16:50:08.642Z"
      },
      {
        "duration": 4,
        "start_time": "2024-04-03T16:50:08.649Z"
      },
      {
        "duration": 4,
        "start_time": "2024-04-03T16:50:08.654Z"
      },
      {
        "duration": 733,
        "start_time": "2024-04-03T16:50:08.660Z"
      },
      {
        "duration": 4,
        "start_time": "2024-04-03T16:50:09.394Z"
      },
      {
        "duration": 16,
        "start_time": "2024-04-03T16:50:09.399Z"
      },
      {
        "duration": 13,
        "start_time": "2024-04-03T17:48:35.472Z"
      },
      {
        "duration": 3,
        "start_time": "2024-04-03T17:51:29.443Z"
      },
      {
        "duration": 2,
        "start_time": "2024-04-03T17:51:35.383Z"
      },
      {
        "duration": 4,
        "start_time": "2024-04-03T17:51:51.023Z"
      },
      {
        "duration": 59567,
        "start_time": "2024-04-03T17:52:02.610Z"
      },
      {
        "duration": 3,
        "start_time": "2024-04-03T17:53:02.178Z"
      },
      {
        "duration": 158,
        "start_time": "2024-04-03T17:53:02.183Z"
      },
      {
        "duration": 0,
        "start_time": "2024-04-03T17:53:02.343Z"
      },
      {
        "duration": 3,
        "start_time": "2024-04-03T17:54:22.667Z"
      },
      {
        "duration": 21,
        "start_time": "2024-04-03T17:54:35.013Z"
      },
      {
        "duration": 8,
        "start_time": "2024-04-03T17:54:47.256Z"
      },
      {
        "duration": 2,
        "start_time": "2024-04-03T17:54:49.267Z"
      },
      {
        "duration": 4,
        "start_time": "2024-04-03T17:54:50.730Z"
      },
      {
        "duration": 7,
        "start_time": "2024-04-03T17:54:52.420Z"
      },
      {
        "duration": 3,
        "start_time": "2024-04-03T17:59:41.340Z"
      },
      {
        "duration": 3,
        "start_time": "2024-04-03T18:00:45.846Z"
      },
      {
        "duration": 2,
        "start_time": "2024-04-03T18:01:06.703Z"
      },
      {
        "duration": 268,
        "start_time": "2024-04-03T18:01:20.649Z"
      },
      {
        "duration": 4,
        "start_time": "2024-04-03T18:01:30.212Z"
      },
      {
        "duration": 4,
        "start_time": "2024-04-03T18:01:39.995Z"
      },
      {
        "duration": 3,
        "start_time": "2024-04-03T18:01:50.629Z"
      },
      {
        "duration": 8,
        "start_time": "2024-04-03T18:03:23.749Z"
      },
      {
        "duration": 1403,
        "start_time": "2024-04-03T18:05:37.381Z"
      },
      {
        "duration": 52,
        "start_time": "2024-04-03T18:05:38.785Z"
      },
      {
        "duration": 18,
        "start_time": "2024-04-03T18:05:38.839Z"
      },
      {
        "duration": 8,
        "start_time": "2024-04-03T18:05:38.858Z"
      },
      {
        "duration": 13,
        "start_time": "2024-04-03T18:05:38.868Z"
      },
      {
        "duration": 265,
        "start_time": "2024-04-03T18:05:38.882Z"
      },
      {
        "duration": 386,
        "start_time": "2024-04-03T18:05:39.148Z"
      },
      {
        "duration": 846,
        "start_time": "2024-04-03T18:05:39.535Z"
      },
      {
        "duration": 3,
        "start_time": "2024-04-03T18:05:40.383Z"
      },
      {
        "duration": 1835,
        "start_time": "2024-04-03T18:05:40.388Z"
      },
      {
        "duration": 95,
        "start_time": "2024-04-03T18:05:42.322Z"
      },
      {
        "duration": 27,
        "start_time": "2024-04-03T18:05:42.419Z"
      },
      {
        "duration": 4,
        "start_time": "2024-04-03T18:05:42.448Z"
      },
      {
        "duration": 9,
        "start_time": "2024-04-03T18:05:42.459Z"
      },
      {
        "duration": 3,
        "start_time": "2024-04-03T18:05:42.469Z"
      },
      {
        "duration": 5,
        "start_time": "2024-04-03T18:05:42.474Z"
      },
      {
        "duration": 4,
        "start_time": "2024-04-03T18:05:42.481Z"
      },
      {
        "duration": 12,
        "start_time": "2024-04-03T18:05:42.486Z"
      },
      {
        "duration": 699,
        "start_time": "2024-04-03T18:05:42.499Z"
      },
      {
        "duration": 3,
        "start_time": "2024-04-03T18:05:43.200Z"
      },
      {
        "duration": 10,
        "start_time": "2024-04-03T18:05:43.204Z"
      },
      {
        "duration": 6,
        "start_time": "2024-04-03T18:05:43.216Z"
      },
      {
        "duration": 4,
        "start_time": "2024-04-03T18:05:43.224Z"
      },
      {
        "duration": 4,
        "start_time": "2024-04-03T18:05:43.229Z"
      },
      {
        "duration": 52796,
        "start_time": "2024-04-03T18:05:43.235Z"
      },
      {
        "duration": 3,
        "start_time": "2024-04-03T18:06:36.033Z"
      },
      {
        "duration": 11,
        "start_time": "2024-04-03T18:06:36.037Z"
      },
      {
        "duration": 18,
        "start_time": "2024-04-03T18:06:36.051Z"
      },
      {
        "duration": 5,
        "start_time": "2024-04-03T18:06:36.070Z"
      },
      {
        "duration": 7,
        "start_time": "2024-04-03T18:06:36.076Z"
      },
      {
        "duration": 252,
        "start_time": "2024-04-03T18:06:36.085Z"
      },
      {
        "duration": 4,
        "start_time": "2024-04-03T18:06:36.339Z"
      },
      {
        "duration": 71,
        "start_time": "2024-04-03T18:06:36.344Z"
      },
      {
        "duration": 7,
        "start_time": "2024-04-03T18:06:36.417Z"
      },
      {
        "duration": 3,
        "start_time": "2024-04-03T18:09:43.790Z"
      },
      {
        "duration": 15,
        "start_time": "2024-04-03T18:10:09.091Z"
      },
      {
        "duration": 3,
        "start_time": "2024-04-03T18:10:44.489Z"
      },
      {
        "duration": 3,
        "start_time": "2024-04-03T18:10:54.046Z"
      },
      {
        "duration": 1438,
        "start_time": "2024-04-03T18:11:17.196Z"
      },
      {
        "duration": 51,
        "start_time": "2024-04-03T18:11:18.636Z"
      },
      {
        "duration": 18,
        "start_time": "2024-04-03T18:11:18.690Z"
      },
      {
        "duration": 16,
        "start_time": "2024-04-03T18:11:18.710Z"
      },
      {
        "duration": 17,
        "start_time": "2024-04-03T18:11:18.729Z"
      },
      {
        "duration": 273,
        "start_time": "2024-04-03T18:11:18.748Z"
      },
      {
        "duration": 453,
        "start_time": "2024-04-03T18:11:19.025Z"
      },
      {
        "duration": 904,
        "start_time": "2024-04-03T18:11:19.480Z"
      },
      {
        "duration": 30,
        "start_time": "2024-04-03T18:11:20.386Z"
      },
      {
        "duration": 2899,
        "start_time": "2024-04-03T18:11:20.421Z"
      },
      {
        "duration": 93,
        "start_time": "2024-04-03T18:11:23.328Z"
      },
      {
        "duration": 28,
        "start_time": "2024-04-03T18:11:23.424Z"
      },
      {
        "duration": 5,
        "start_time": "2024-04-03T18:11:23.454Z"
      },
      {
        "duration": 9,
        "start_time": "2024-04-03T18:11:23.460Z"
      },
      {
        "duration": 4,
        "start_time": "2024-04-03T18:11:23.471Z"
      },
      {
        "duration": 5,
        "start_time": "2024-04-03T18:11:23.476Z"
      },
      {
        "duration": 4,
        "start_time": "2024-04-03T18:11:23.483Z"
      },
      {
        "duration": 28,
        "start_time": "2024-04-03T18:11:23.488Z"
      },
      {
        "duration": 1075,
        "start_time": "2024-04-03T18:11:23.518Z"
      },
      {
        "duration": 4,
        "start_time": "2024-04-03T18:11:24.594Z"
      },
      {
        "duration": 2,
        "start_time": "2024-04-03T18:11:24.600Z"
      },
      {
        "duration": 7,
        "start_time": "2024-04-03T18:11:24.614Z"
      },
      {
        "duration": 6,
        "start_time": "2024-04-03T18:11:24.625Z"
      },
      {
        "duration": 8,
        "start_time": "2024-04-03T18:11:24.632Z"
      },
      {
        "duration": 80366,
        "start_time": "2024-04-03T18:11:24.642Z"
      },
      {
        "duration": 8,
        "start_time": "2024-04-03T18:12:45.009Z"
      },
      {
        "duration": 18,
        "start_time": "2024-04-03T18:12:45.024Z"
      },
      {
        "duration": 21,
        "start_time": "2024-04-03T18:12:45.043Z"
      },
      {
        "duration": 17,
        "start_time": "2024-04-03T18:12:45.066Z"
      },
      {
        "duration": 19,
        "start_time": "2024-04-03T18:12:45.084Z"
      },
      {
        "duration": 1921,
        "start_time": "2024-04-03T18:12:45.104Z"
      },
      {
        "duration": 5,
        "start_time": "2024-04-03T18:12:47.034Z"
      },
      {
        "duration": 92,
        "start_time": "2024-04-03T18:12:47.041Z"
      },
      {
        "duration": 10,
        "start_time": "2024-04-03T18:12:47.137Z"
      },
      {
        "duration": 2,
        "start_time": "2024-04-03T18:12:47.149Z"
      },
      {
        "duration": 23,
        "start_time": "2024-04-03T18:12:47.152Z"
      },
      {
        "duration": 3,
        "start_time": "2024-04-03T18:12:47.176Z"
      },
      {
        "duration": 16,
        "start_time": "2024-04-03T18:12:47.180Z"
      },
      {
        "duration": 1588,
        "start_time": "2024-04-03T18:13:10.442Z"
      },
      {
        "duration": 54,
        "start_time": "2024-04-03T18:13:12.037Z"
      },
      {
        "duration": 19,
        "start_time": "2024-04-03T18:13:12.092Z"
      },
      {
        "duration": 20,
        "start_time": "2024-04-03T18:13:12.113Z"
      },
      {
        "duration": 14,
        "start_time": "2024-04-03T18:13:12.136Z"
      },
      {
        "duration": 272,
        "start_time": "2024-04-03T18:13:12.151Z"
      },
      {
        "duration": 477,
        "start_time": "2024-04-03T18:13:12.426Z"
      },
      {
        "duration": 976,
        "start_time": "2024-04-03T18:13:12.905Z"
      },
      {
        "duration": 4,
        "start_time": "2024-04-03T18:13:13.882Z"
      },
      {
        "duration": 4135,
        "start_time": "2024-04-03T18:13:13.887Z"
      },
      {
        "duration": 12,
        "start_time": "2024-04-03T18:13:18.025Z"
      },
      {
        "duration": 126,
        "start_time": "2024-04-03T18:13:18.115Z"
      },
      {
        "duration": 4,
        "start_time": "2024-04-03T18:13:18.243Z"
      },
      {
        "duration": 6,
        "start_time": "2024-04-03T18:13:18.250Z"
      },
      {
        "duration": 15,
        "start_time": "2024-04-03T18:13:18.258Z"
      },
      {
        "duration": 5,
        "start_time": "2024-04-03T18:13:18.274Z"
      },
      {
        "duration": 5,
        "start_time": "2024-04-03T18:13:18.281Z"
      },
      {
        "duration": 9,
        "start_time": "2024-04-03T18:13:18.288Z"
      },
      {
        "duration": 1126,
        "start_time": "2024-04-03T18:13:18.317Z"
      },
      {
        "duration": 4,
        "start_time": "2024-04-03T18:13:19.445Z"
      },
      {
        "duration": 6,
        "start_time": "2024-04-03T18:13:19.451Z"
      },
      {
        "duration": 13,
        "start_time": "2024-04-03T18:13:19.459Z"
      },
      {
        "duration": 5,
        "start_time": "2024-04-03T18:13:19.473Z"
      },
      {
        "duration": 3,
        "start_time": "2024-04-03T18:13:19.480Z"
      },
      {
        "duration": 85951,
        "start_time": "2024-04-03T18:13:19.485Z"
      },
      {
        "duration": 4,
        "start_time": "2024-04-03T18:14:45.440Z"
      },
      {
        "duration": 15,
        "start_time": "2024-04-03T18:14:45.446Z"
      },
      {
        "duration": 6,
        "start_time": "2024-04-03T18:14:45.462Z"
      },
      {
        "duration": 10,
        "start_time": "2024-04-03T18:14:45.469Z"
      },
      {
        "duration": 4,
        "start_time": "2024-04-03T18:14:45.481Z"
      },
      {
        "duration": 2043,
        "start_time": "2024-04-03T18:14:45.487Z"
      },
      {
        "duration": 89,
        "start_time": "2024-04-03T18:14:47.533Z"
      },
      {
        "duration": 3,
        "start_time": "2024-04-03T18:14:47.634Z"
      },
      {
        "duration": 83,
        "start_time": "2024-04-03T18:14:47.643Z"
      },
      {
        "duration": 6,
        "start_time": "2024-04-03T18:14:47.729Z"
      },
      {
        "duration": 21,
        "start_time": "2024-04-03T18:14:47.737Z"
      },
      {
        "duration": 4,
        "start_time": "2024-04-03T18:14:47.760Z"
      },
      {
        "duration": 27,
        "start_time": "2024-04-03T18:14:47.766Z"
      },
      {
        "duration": 1664,
        "start_time": "2024-04-03T18:15:20.026Z"
      },
      {
        "duration": 63,
        "start_time": "2024-04-03T18:15:21.692Z"
      },
      {
        "duration": 18,
        "start_time": "2024-04-03T18:15:21.756Z"
      },
      {
        "duration": 9,
        "start_time": "2024-04-03T18:15:21.776Z"
      },
      {
        "duration": 15,
        "start_time": "2024-04-03T18:15:21.788Z"
      },
      {
        "duration": 316,
        "start_time": "2024-04-03T18:15:21.819Z"
      },
      {
        "duration": 463,
        "start_time": "2024-04-03T18:15:22.136Z"
      },
      {
        "duration": 1023,
        "start_time": "2024-04-03T18:15:22.600Z"
      },
      {
        "duration": 7,
        "start_time": "2024-04-03T18:15:23.631Z"
      },
      {
        "duration": 4687,
        "start_time": "2024-04-03T18:15:23.641Z"
      },
      {
        "duration": 89,
        "start_time": "2024-04-03T18:15:28.331Z"
      },
      {
        "duration": 119,
        "start_time": "2024-04-03T18:15:28.424Z"
      },
      {
        "duration": 4,
        "start_time": "2024-04-03T18:15:28.545Z"
      },
      {
        "duration": 9,
        "start_time": "2024-04-03T18:15:28.553Z"
      },
      {
        "duration": 3,
        "start_time": "2024-04-03T18:15:28.564Z"
      },
      {
        "duration": 4,
        "start_time": "2024-04-03T18:15:28.569Z"
      },
      {
        "duration": 4,
        "start_time": "2024-04-03T18:15:28.575Z"
      },
      {
        "duration": 46,
        "start_time": "2024-04-03T18:15:28.581Z"
      },
      {
        "duration": 1216,
        "start_time": "2024-04-03T18:15:28.629Z"
      },
      {
        "duration": 3,
        "start_time": "2024-04-03T18:15:29.847Z"
      },
      {
        "duration": 6,
        "start_time": "2024-04-03T18:15:29.852Z"
      },
      {
        "duration": 5,
        "start_time": "2024-04-03T18:15:29.859Z"
      },
      {
        "duration": 4,
        "start_time": "2024-04-03T18:15:29.865Z"
      },
      {
        "duration": 5,
        "start_time": "2024-04-03T18:15:29.870Z"
      },
      {
        "duration": 91813,
        "start_time": "2024-04-03T18:15:29.877Z"
      },
      {
        "duration": 4,
        "start_time": "2024-04-03T18:17:01.691Z"
      },
      {
        "duration": 42,
        "start_time": "2024-04-03T18:17:01.697Z"
      },
      {
        "duration": 92,
        "start_time": "2024-04-03T18:17:01.743Z"
      },
      {
        "duration": 62,
        "start_time": "2024-04-03T18:17:01.839Z"
      },
      {
        "duration": 70,
        "start_time": "2024-04-03T18:17:01.903Z"
      },
      {
        "duration": 1764,
        "start_time": "2024-04-03T18:17:01.975Z"
      },
      {
        "duration": 9,
        "start_time": "2024-04-03T18:17:03.827Z"
      },
      {
        "duration": 10,
        "start_time": "2024-04-03T18:17:03.915Z"
      },
      {
        "duration": 8,
        "start_time": "2024-04-03T18:17:03.929Z"
      },
      {
        "duration": 4,
        "start_time": "2024-04-03T18:17:03.938Z"
      },
      {
        "duration": 22,
        "start_time": "2024-04-03T18:17:03.944Z"
      },
      {
        "duration": 4,
        "start_time": "2024-04-03T18:17:03.968Z"
      },
      {
        "duration": 14,
        "start_time": "2024-04-03T18:17:03.974Z"
      },
      {
        "duration": 1573,
        "start_time": "2024-04-03T18:18:33.376Z"
      },
      {
        "duration": 53,
        "start_time": "2024-04-03T18:18:34.951Z"
      },
      {
        "duration": 24,
        "start_time": "2024-04-03T18:18:35.005Z"
      },
      {
        "duration": 10,
        "start_time": "2024-04-03T18:18:35.032Z"
      },
      {
        "duration": 14,
        "start_time": "2024-04-03T18:18:35.043Z"
      },
      {
        "duration": 292,
        "start_time": "2024-04-03T18:18:35.059Z"
      },
      {
        "duration": 461,
        "start_time": "2024-04-03T18:18:35.353Z"
      },
      {
        "duration": 947,
        "start_time": "2024-04-03T18:18:35.815Z"
      },
      {
        "duration": 4,
        "start_time": "2024-04-03T18:18:36.763Z"
      },
      {
        "duration": 3152,
        "start_time": "2024-04-03T18:18:36.769Z"
      },
      {
        "duration": 11,
        "start_time": "2024-04-03T18:18:39.925Z"
      },
      {
        "duration": 115,
        "start_time": "2024-04-03T18:18:39.938Z"
      },
      {
        "duration": 4,
        "start_time": "2024-04-03T18:18:40.055Z"
      },
      {
        "duration": 26,
        "start_time": "2024-04-03T18:18:40.060Z"
      },
      {
        "duration": 14,
        "start_time": "2024-04-03T18:18:40.088Z"
      },
      {
        "duration": 8,
        "start_time": "2024-04-03T18:18:40.103Z"
      },
      {
        "duration": 11,
        "start_time": "2024-04-03T18:18:40.113Z"
      },
      {
        "duration": 10,
        "start_time": "2024-04-03T18:18:40.126Z"
      },
      {
        "duration": 1498,
        "start_time": "2024-04-03T18:18:40.137Z"
      },
      {
        "duration": 4,
        "start_time": "2024-04-03T18:18:41.637Z"
      },
      {
        "duration": 14,
        "start_time": "2024-04-03T18:18:41.643Z"
      },
      {
        "duration": 7,
        "start_time": "2024-04-03T18:18:41.658Z"
      },
      {
        "duration": 16,
        "start_time": "2024-04-03T18:18:41.666Z"
      },
      {
        "duration": 11,
        "start_time": "2024-04-03T18:18:41.683Z"
      },
      {
        "duration": 112492,
        "start_time": "2024-04-03T18:18:41.695Z"
      },
      {
        "duration": 4,
        "start_time": "2024-04-03T18:20:34.189Z"
      },
      {
        "duration": 7,
        "start_time": "2024-04-03T18:20:34.195Z"
      },
      {
        "duration": 5,
        "start_time": "2024-04-03T18:20:34.215Z"
      },
      {
        "duration": 5,
        "start_time": "2024-04-03T18:20:34.226Z"
      },
      {
        "duration": 3,
        "start_time": "2024-04-03T18:20:34.234Z"
      },
      {
        "duration": 2294,
        "start_time": "2024-04-03T18:20:34.239Z"
      },
      {
        "duration": 7,
        "start_time": "2024-04-03T18:20:36.620Z"
      },
      {
        "duration": 10,
        "start_time": "2024-04-03T18:20:36.629Z"
      },
      {
        "duration": 85,
        "start_time": "2024-04-03T18:20:36.641Z"
      },
      {
        "duration": 4,
        "start_time": "2024-04-03T18:20:36.731Z"
      },
      {
        "duration": 26,
        "start_time": "2024-04-03T18:20:36.736Z"
      },
      {
        "duration": 2,
        "start_time": "2024-04-03T18:20:36.764Z"
      },
      {
        "duration": 6,
        "start_time": "2024-04-03T18:20:36.768Z"
      },
      {
        "duration": 1482,
        "start_time": "2024-04-03T18:22:28.331Z"
      },
      {
        "duration": 53,
        "start_time": "2024-04-03T18:22:29.815Z"
      },
      {
        "duration": 17,
        "start_time": "2024-04-03T18:22:29.869Z"
      },
      {
        "duration": 8,
        "start_time": "2024-04-03T18:22:29.888Z"
      },
      {
        "duration": 30,
        "start_time": "2024-04-03T18:22:29.897Z"
      },
      {
        "duration": 278,
        "start_time": "2024-04-03T18:22:29.929Z"
      },
      {
        "duration": 479,
        "start_time": "2024-04-03T18:22:30.209Z"
      },
      {
        "duration": 958,
        "start_time": "2024-04-03T18:22:30.690Z"
      },
      {
        "duration": 4,
        "start_time": "2024-04-03T18:22:31.650Z"
      },
      {
        "duration": 3370,
        "start_time": "2024-04-03T18:22:31.657Z"
      },
      {
        "duration": 10,
        "start_time": "2024-04-03T18:22:35.115Z"
      },
      {
        "duration": 134,
        "start_time": "2024-04-03T18:22:35.128Z"
      },
      {
        "duration": 4,
        "start_time": "2024-04-03T18:22:35.264Z"
      },
      {
        "duration": 28,
        "start_time": "2024-04-03T18:22:35.269Z"
      },
      {
        "duration": 4,
        "start_time": "2024-04-03T18:22:35.299Z"
      },
      {
        "duration": 6,
        "start_time": "2024-04-03T18:22:35.304Z"
      },
      {
        "duration": 47,
        "start_time": "2024-04-03T18:22:35.311Z"
      },
      {
        "duration": 10,
        "start_time": "2024-04-03T18:22:35.359Z"
      },
      {
        "duration": 2076,
        "start_time": "2024-04-03T18:22:35.371Z"
      },
      {
        "duration": 4,
        "start_time": "2024-04-03T18:22:37.448Z"
      },
      {
        "duration": 9,
        "start_time": "2024-04-03T18:22:37.453Z"
      },
      {
        "duration": 6,
        "start_time": "2024-04-03T18:22:37.463Z"
      },
      {
        "duration": 4,
        "start_time": "2024-04-03T18:22:37.471Z"
      },
      {
        "duration": 5,
        "start_time": "2024-04-03T18:22:37.476Z"
      },
      {
        "duration": 154818,
        "start_time": "2024-04-03T18:22:37.482Z"
      },
      {
        "duration": 4,
        "start_time": "2024-04-03T18:25:12.301Z"
      },
      {
        "duration": 5,
        "start_time": "2024-04-03T18:25:12.316Z"
      },
      {
        "duration": 7,
        "start_time": "2024-04-03T18:25:12.327Z"
      },
      {
        "duration": 4,
        "start_time": "2024-04-03T18:25:12.336Z"
      },
      {
        "duration": 7,
        "start_time": "2024-04-03T18:25:12.341Z"
      },
      {
        "duration": 3576,
        "start_time": "2024-04-03T18:25:12.349Z"
      },
      {
        "duration": 85,
        "start_time": "2024-04-03T18:25:15.934Z"
      },
      {
        "duration": 8,
        "start_time": "2024-04-03T18:25:16.022Z"
      },
      {
        "duration": 100,
        "start_time": "2024-04-03T18:25:16.033Z"
      },
      {
        "duration": 3,
        "start_time": "2024-04-03T18:25:16.135Z"
      },
      {
        "duration": 26,
        "start_time": "2024-04-03T18:25:16.139Z"
      },
      {
        "duration": 3,
        "start_time": "2024-04-03T18:25:16.166Z"
      },
      {
        "duration": 22,
        "start_time": "2024-04-03T18:25:16.170Z"
      },
      {
        "duration": 1482,
        "start_time": "2024-04-03T18:26:22.320Z"
      },
      {
        "duration": 55,
        "start_time": "2024-04-03T18:26:23.804Z"
      },
      {
        "duration": 15,
        "start_time": "2024-04-03T18:26:23.861Z"
      },
      {
        "duration": 7,
        "start_time": "2024-04-03T18:26:23.878Z"
      },
      {
        "duration": 15,
        "start_time": "2024-04-03T18:26:23.887Z"
      },
      {
        "duration": 259,
        "start_time": "2024-04-03T18:26:23.904Z"
      },
      {
        "duration": 431,
        "start_time": "2024-04-03T18:26:24.164Z"
      },
      {
        "duration": 952,
        "start_time": "2024-04-03T18:26:24.596Z"
      },
      {
        "duration": 3,
        "start_time": "2024-04-03T18:26:25.550Z"
      },
      {
        "duration": 3375,
        "start_time": "2024-04-03T18:26:25.554Z"
      },
      {
        "duration": 11,
        "start_time": "2024-04-03T18:26:29.021Z"
      },
      {
        "duration": 36,
        "start_time": "2024-04-03T18:26:29.116Z"
      },
      {
        "duration": 6,
        "start_time": "2024-04-03T18:26:29.154Z"
      },
      {
        "duration": 6,
        "start_time": "2024-04-03T18:26:29.163Z"
      },
      {
        "duration": 3,
        "start_time": "2024-04-03T18:26:29.170Z"
      },
      {
        "duration": 3,
        "start_time": "2024-04-03T18:26:29.174Z"
      },
      {
        "duration": 3,
        "start_time": "2024-04-03T18:26:29.179Z"
      },
      {
        "duration": 11,
        "start_time": "2024-04-03T18:26:29.216Z"
      },
      {
        "duration": 1393,
        "start_time": "2024-04-03T18:26:29.230Z"
      },
      {
        "duration": 4,
        "start_time": "2024-04-03T18:26:30.625Z"
      },
      {
        "duration": 38,
        "start_time": "2024-04-03T18:26:30.630Z"
      },
      {
        "duration": 21,
        "start_time": "2024-04-03T18:26:30.670Z"
      },
      {
        "duration": 21,
        "start_time": "2024-04-03T18:26:30.693Z"
      },
      {
        "duration": 32,
        "start_time": "2024-04-03T18:26:30.716Z"
      },
      {
        "duration": 103910,
        "start_time": "2024-04-03T18:26:30.750Z"
      },
      {
        "duration": 4,
        "start_time": "2024-04-03T18:28:14.661Z"
      },
      {
        "duration": 4,
        "start_time": "2024-04-03T18:28:14.666Z"
      },
      {
        "duration": 4,
        "start_time": "2024-04-03T18:28:14.671Z"
      },
      {
        "duration": 4,
        "start_time": "2024-04-03T18:28:14.676Z"
      },
      {
        "duration": 3,
        "start_time": "2024-04-03T18:28:14.681Z"
      },
      {
        "duration": 2042,
        "start_time": "2024-04-03T18:28:14.686Z"
      },
      {
        "duration": 89,
        "start_time": "2024-04-03T18:28:16.730Z"
      },
      {
        "duration": 15,
        "start_time": "2024-04-03T18:28:16.822Z"
      },
      {
        "duration": 84,
        "start_time": "2024-04-03T18:28:16.841Z"
      },
      {
        "duration": 4,
        "start_time": "2024-04-03T18:28:16.928Z"
      },
      {
        "duration": 26,
        "start_time": "2024-04-03T18:28:16.934Z"
      },
      {
        "duration": 4,
        "start_time": "2024-04-03T18:28:16.962Z"
      },
      {
        "duration": 6,
        "start_time": "2024-04-03T18:28:16.967Z"
      },
      {
        "duration": 1489,
        "start_time": "2024-04-03T18:33:43.277Z"
      },
      {
        "duration": 69,
        "start_time": "2024-04-03T18:33:44.767Z"
      },
      {
        "duration": 22,
        "start_time": "2024-04-03T18:33:44.843Z"
      },
      {
        "duration": 9,
        "start_time": "2024-04-03T18:33:44.867Z"
      },
      {
        "duration": 15,
        "start_time": "2024-04-03T18:33:44.878Z"
      },
      {
        "duration": 316,
        "start_time": "2024-04-03T18:33:44.895Z"
      },
      {
        "duration": 459,
        "start_time": "2024-04-03T18:33:45.213Z"
      },
      {
        "duration": 1031,
        "start_time": "2024-04-03T18:33:45.674Z"
      },
      {
        "duration": 22,
        "start_time": "2024-04-03T18:33:46.707Z"
      },
      {
        "duration": 4682,
        "start_time": "2024-04-03T18:33:46.735Z"
      },
      {
        "duration": 5,
        "start_time": "2024-04-03T18:33:51.420Z"
      },
      {
        "duration": 130,
        "start_time": "2024-04-03T18:33:51.426Z"
      },
      {
        "duration": 4,
        "start_time": "2024-04-03T18:33:51.558Z"
      },
      {
        "duration": 6,
        "start_time": "2024-04-03T18:33:51.563Z"
      },
      {
        "duration": 3,
        "start_time": "2024-04-03T18:33:51.570Z"
      },
      {
        "duration": 9,
        "start_time": "2024-04-03T18:33:51.574Z"
      },
      {
        "duration": 8,
        "start_time": "2024-04-03T18:33:51.585Z"
      },
      {
        "duration": 4,
        "start_time": "2024-04-03T18:33:51.594Z"
      },
      {
        "duration": 1406,
        "start_time": "2024-04-03T18:33:51.623Z"
      },
      {
        "duration": 7,
        "start_time": "2024-04-03T18:33:53.033Z"
      },
      {
        "duration": 4,
        "start_time": "2024-04-03T18:33:53.043Z"
      },
      {
        "duration": 3,
        "start_time": "2024-04-03T18:33:53.048Z"
      },
      {
        "duration": 4,
        "start_time": "2024-04-03T18:33:53.053Z"
      },
      {
        "duration": 4,
        "start_time": "2024-04-03T18:33:53.058Z"
      },
      {
        "duration": 104594,
        "start_time": "2024-04-03T18:33:53.064Z"
      },
      {
        "duration": 3,
        "start_time": "2024-04-03T18:35:37.660Z"
      },
      {
        "duration": 10,
        "start_time": "2024-04-03T18:35:37.664Z"
      },
      {
        "duration": 3,
        "start_time": "2024-04-03T18:35:37.677Z"
      },
      {
        "duration": 8,
        "start_time": "2024-04-03T18:35:37.682Z"
      },
      {
        "duration": 4,
        "start_time": "2024-04-03T18:35:37.691Z"
      },
      {
        "duration": 1830,
        "start_time": "2024-04-03T18:35:37.697Z"
      },
      {
        "duration": 4,
        "start_time": "2024-04-03T18:35:39.530Z"
      },
      {
        "duration": 80,
        "start_time": "2024-04-03T18:35:39.536Z"
      },
      {
        "duration": 14,
        "start_time": "2024-04-03T18:35:39.621Z"
      },
      {
        "duration": 7,
        "start_time": "2024-04-03T18:35:39.638Z"
      },
      {
        "duration": 21,
        "start_time": "2024-04-03T18:35:39.646Z"
      },
      {
        "duration": 3,
        "start_time": "2024-04-03T18:35:39.668Z"
      },
      {
        "duration": 8,
        "start_time": "2024-04-03T18:35:39.673Z"
      },
      {
        "duration": 1484,
        "start_time": "2024-04-03T18:37:39.135Z"
      },
      {
        "duration": 57,
        "start_time": "2024-04-03T18:37:40.622Z"
      },
      {
        "duration": 18,
        "start_time": "2024-04-03T18:37:40.680Z"
      },
      {
        "duration": 8,
        "start_time": "2024-04-03T18:37:40.699Z"
      },
      {
        "duration": 21,
        "start_time": "2024-04-03T18:37:40.708Z"
      },
      {
        "duration": 351,
        "start_time": "2024-04-03T18:37:40.732Z"
      },
      {
        "duration": 459,
        "start_time": "2024-04-03T18:37:41.084Z"
      },
      {
        "duration": 998,
        "start_time": "2024-04-03T18:37:41.545Z"
      },
      {
        "duration": 4,
        "start_time": "2024-04-03T18:37:42.545Z"
      },
      {
        "duration": 3572,
        "start_time": "2024-04-03T18:37:42.552Z"
      },
      {
        "duration": 85,
        "start_time": "2024-04-03T18:37:46.131Z"
      },
      {
        "duration": 99,
        "start_time": "2024-04-03T18:37:46.221Z"
      },
      {
        "duration": 11,
        "start_time": "2024-04-03T18:37:46.323Z"
      },
      {
        "duration": 24,
        "start_time": "2024-04-03T18:37:46.336Z"
      },
      {
        "duration": 8,
        "start_time": "2024-04-03T18:37:46.362Z"
      },
      {
        "duration": 5,
        "start_time": "2024-04-03T18:37:46.371Z"
      },
      {
        "duration": 15,
        "start_time": "2024-04-03T18:37:46.378Z"
      },
      {
        "duration": 4,
        "start_time": "2024-04-03T18:37:46.395Z"
      },
      {
        "duration": 1356,
        "start_time": "2024-04-03T18:37:46.401Z"
      },
      {
        "duration": 4,
        "start_time": "2024-04-03T18:37:47.758Z"
      },
      {
        "duration": 11,
        "start_time": "2024-04-03T18:37:47.764Z"
      },
      {
        "duration": 14,
        "start_time": "2024-04-03T18:37:47.777Z"
      },
      {
        "duration": 4,
        "start_time": "2024-04-03T18:37:47.792Z"
      },
      {
        "duration": 3,
        "start_time": "2024-04-03T18:37:47.797Z"
      },
      {
        "duration": 103209,
        "start_time": "2024-04-03T18:37:47.802Z"
      },
      {
        "duration": 22,
        "start_time": "2024-04-03T18:39:31.013Z"
      },
      {
        "duration": 33,
        "start_time": "2024-04-03T18:39:31.039Z"
      },
      {
        "duration": 26,
        "start_time": "2024-04-03T18:39:31.075Z"
      },
      {
        "duration": 32,
        "start_time": "2024-04-03T18:39:31.103Z"
      },
      {
        "duration": 26,
        "start_time": "2024-04-03T18:39:31.137Z"
      },
      {
        "duration": 2471,
        "start_time": "2024-04-03T18:39:31.164Z"
      },
      {
        "duration": 14,
        "start_time": "2024-04-03T18:39:33.638Z"
      },
      {
        "duration": 66,
        "start_time": "2024-04-03T18:39:33.654Z"
      },
      {
        "duration": 33,
        "start_time": "2024-04-03T18:39:33.723Z"
      },
      {
        "duration": 3,
        "start_time": "2024-04-03T18:39:33.757Z"
      },
      {
        "duration": 31,
        "start_time": "2024-04-03T18:39:33.816Z"
      },
      {
        "duration": 4,
        "start_time": "2024-04-03T18:39:33.849Z"
      },
      {
        "duration": 9,
        "start_time": "2024-04-03T18:39:33.854Z"
      },
      {
        "duration": 1576,
        "start_time": "2024-04-03T18:40:15.482Z"
      },
      {
        "duration": 52,
        "start_time": "2024-04-03T18:40:17.059Z"
      },
      {
        "duration": 38,
        "start_time": "2024-04-03T18:40:17.112Z"
      },
      {
        "duration": 10,
        "start_time": "2024-04-03T18:40:17.151Z"
      },
      {
        "duration": 19,
        "start_time": "2024-04-03T18:40:17.162Z"
      },
      {
        "duration": 352,
        "start_time": "2024-04-03T18:40:17.182Z"
      },
      {
        "duration": 503,
        "start_time": "2024-04-03T18:40:17.538Z"
      },
      {
        "duration": 1092,
        "start_time": "2024-04-03T18:40:18.043Z"
      },
      {
        "duration": 15,
        "start_time": "2024-04-03T18:40:19.137Z"
      },
      {
        "duration": 4188,
        "start_time": "2024-04-03T18:40:19.156Z"
      },
      {
        "duration": 70,
        "start_time": "2024-04-03T18:40:23.354Z"
      },
      {
        "duration": 118,
        "start_time": "2024-04-03T18:40:23.444Z"
      },
      {
        "duration": 4,
        "start_time": "2024-04-03T18:40:23.563Z"
      },
      {
        "duration": 10,
        "start_time": "2024-04-03T18:40:23.570Z"
      },
      {
        "duration": 8,
        "start_time": "2024-04-03T18:40:23.581Z"
      },
      {
        "duration": 8,
        "start_time": "2024-04-03T18:40:23.590Z"
      },
      {
        "duration": 9,
        "start_time": "2024-04-03T18:40:23.600Z"
      },
      {
        "duration": 16,
        "start_time": "2024-04-03T18:40:23.611Z"
      },
      {
        "duration": 1279,
        "start_time": "2024-04-03T18:40:23.635Z"
      },
      {
        "duration": 15,
        "start_time": "2024-04-03T18:40:24.916Z"
      },
      {
        "duration": 4,
        "start_time": "2024-04-03T18:40:24.933Z"
      },
      {
        "duration": 4,
        "start_time": "2024-04-03T18:40:24.939Z"
      },
      {
        "duration": 4,
        "start_time": "2024-04-03T18:40:24.949Z"
      },
      {
        "duration": 3,
        "start_time": "2024-04-03T18:40:24.960Z"
      },
      {
        "duration": 95898,
        "start_time": "2024-04-03T18:40:24.965Z"
      },
      {
        "duration": 4,
        "start_time": "2024-04-03T18:42:00.866Z"
      },
      {
        "duration": 109,
        "start_time": "2024-04-03T18:42:00.872Z"
      },
      {
        "duration": 76,
        "start_time": "2024-04-03T18:42:00.982Z"
      },
      {
        "duration": 40,
        "start_time": "2024-04-03T18:42:01.059Z"
      },
      {
        "duration": 48,
        "start_time": "2024-04-03T18:42:01.100Z"
      },
      {
        "duration": 2381,
        "start_time": "2024-04-03T18:42:01.150Z"
      },
      {
        "duration": 84,
        "start_time": "2024-04-03T18:42:03.537Z"
      },
      {
        "duration": 5,
        "start_time": "2024-04-03T18:42:03.624Z"
      },
      {
        "duration": 87,
        "start_time": "2024-04-03T18:42:03.631Z"
      },
      {
        "duration": 6,
        "start_time": "2024-04-03T18:42:03.721Z"
      },
      {
        "duration": 40,
        "start_time": "2024-04-03T18:42:03.730Z"
      },
      {
        "duration": 9,
        "start_time": "2024-04-03T18:42:03.771Z"
      },
      {
        "duration": 56,
        "start_time": "2024-04-03T18:42:03.782Z"
      },
      {
        "duration": 1569,
        "start_time": "2024-04-03T18:43:40.677Z"
      },
      {
        "duration": 52,
        "start_time": "2024-04-03T18:43:42.248Z"
      },
      {
        "duration": 23,
        "start_time": "2024-04-03T18:43:42.301Z"
      },
      {
        "duration": 13,
        "start_time": "2024-04-03T18:43:42.327Z"
      },
      {
        "duration": 21,
        "start_time": "2024-04-03T18:43:42.343Z"
      },
      {
        "duration": 360,
        "start_time": "2024-04-03T18:43:42.366Z"
      },
      {
        "duration": 559,
        "start_time": "2024-04-03T18:43:42.731Z"
      },
      {
        "duration": 1101,
        "start_time": "2024-04-03T18:43:43.291Z"
      },
      {
        "duration": 4,
        "start_time": "2024-04-03T18:43:44.394Z"
      },
      {
        "duration": 3033,
        "start_time": "2024-04-03T18:43:44.400Z"
      },
      {
        "duration": 10,
        "start_time": "2024-04-03T18:43:47.519Z"
      },
      {
        "duration": 128,
        "start_time": "2024-04-03T18:43:47.533Z"
      },
      {
        "duration": 4,
        "start_time": "2024-04-03T18:43:47.663Z"
      },
      {
        "duration": 10,
        "start_time": "2024-04-03T18:43:47.669Z"
      },
      {
        "duration": 9,
        "start_time": "2024-04-03T18:43:47.681Z"
      },
      {
        "duration": 25,
        "start_time": "2024-04-03T18:43:47.692Z"
      },
      {
        "duration": 13,
        "start_time": "2024-04-03T18:43:47.719Z"
      },
      {
        "duration": 5,
        "start_time": "2024-04-03T18:43:47.734Z"
      },
      {
        "duration": 1775,
        "start_time": "2024-04-03T18:43:47.742Z"
      },
      {
        "duration": 14,
        "start_time": "2024-04-03T18:43:49.538Z"
      },
      {
        "duration": 3,
        "start_time": "2024-04-03T18:43:49.554Z"
      },
      {
        "duration": 6,
        "start_time": "2024-04-03T18:43:49.558Z"
      },
      {
        "duration": 8,
        "start_time": "2024-04-03T18:43:49.565Z"
      },
      {
        "duration": 5,
        "start_time": "2024-04-03T18:43:49.575Z"
      },
      {
        "duration": 128412,
        "start_time": "2024-04-03T18:43:49.581Z"
      },
      {
        "duration": 4,
        "start_time": "2024-04-03T18:45:57.994Z"
      },
      {
        "duration": 34,
        "start_time": "2024-04-03T18:45:58.000Z"
      },
      {
        "duration": 5,
        "start_time": "2024-04-03T18:45:58.040Z"
      },
      {
        "duration": 8,
        "start_time": "2024-04-03T18:45:58.047Z"
      },
      {
        "duration": 5,
        "start_time": "2024-04-03T18:45:58.056Z"
      },
      {
        "duration": 2175,
        "start_time": "2024-04-03T18:45:58.062Z"
      },
      {
        "duration": 71,
        "start_time": "2024-04-03T18:46:00.250Z"
      },
      {
        "duration": 72,
        "start_time": "2024-04-03T18:46:00.328Z"
      },
      {
        "duration": 42,
        "start_time": "2024-04-03T18:46:00.402Z"
      },
      {
        "duration": 39,
        "start_time": "2024-04-03T18:46:00.446Z"
      },
      {
        "duration": 106,
        "start_time": "2024-04-03T18:46:00.487Z"
      },
      {
        "duration": 39,
        "start_time": "2024-04-03T18:46:00.595Z"
      },
      {
        "duration": 207,
        "start_time": "2024-04-03T18:46:00.636Z"
      },
      {
        "duration": 1480,
        "start_time": "2024-04-04T16:09:36.164Z"
      },
      {
        "duration": 108,
        "start_time": "2024-04-04T16:09:37.645Z"
      },
      {
        "duration": 16,
        "start_time": "2024-04-04T16:09:37.755Z"
      },
      {
        "duration": 10,
        "start_time": "2024-04-04T16:09:37.773Z"
      },
      {
        "duration": 16,
        "start_time": "2024-04-04T16:09:37.784Z"
      },
      {
        "duration": 238,
        "start_time": "2024-04-04T16:09:37.802Z"
      },
      {
        "duration": 336,
        "start_time": "2024-04-04T16:09:38.041Z"
      },
      {
        "duration": 775,
        "start_time": "2024-04-04T16:09:38.378Z"
      },
      {
        "duration": 4,
        "start_time": "2024-04-04T16:09:39.154Z"
      },
      {
        "duration": 3653,
        "start_time": "2024-04-04T16:09:39.160Z"
      },
      {
        "duration": 5,
        "start_time": "2024-04-04T16:09:42.815Z"
      },
      {
        "duration": 193,
        "start_time": "2024-04-04T16:09:42.824Z"
      },
      {
        "duration": 14,
        "start_time": "2024-04-04T16:09:43.018Z"
      },
      {
        "duration": 17,
        "start_time": "2024-04-04T16:09:43.033Z"
      },
      {
        "duration": 3,
        "start_time": "2024-04-04T16:09:43.052Z"
      },
      {
        "duration": 9,
        "start_time": "2024-04-04T16:09:43.056Z"
      },
      {
        "duration": 11,
        "start_time": "2024-04-04T16:09:43.066Z"
      },
      {
        "duration": 5,
        "start_time": "2024-04-04T16:09:43.078Z"
      },
      {
        "duration": 1399,
        "start_time": "2024-04-04T16:09:43.084Z"
      },
      {
        "duration": 3,
        "start_time": "2024-04-04T16:09:44.485Z"
      },
      {
        "duration": 3,
        "start_time": "2024-04-04T16:09:44.490Z"
      },
      {
        "duration": 2,
        "start_time": "2024-04-04T16:09:44.501Z"
      },
      {
        "duration": 6,
        "start_time": "2024-04-04T16:09:44.505Z"
      },
      {
        "duration": 27,
        "start_time": "2024-04-04T16:09:44.512Z"
      },
      {
        "duration": 1271,
        "start_time": "2024-04-04T16:09:44.540Z"
      },
      {
        "duration": 4,
        "start_time": "2024-04-04T16:09:45.902Z"
      },
      {
        "duration": 96,
        "start_time": "2024-04-04T16:09:45.907Z"
      },
      {
        "duration": 3,
        "start_time": "2024-04-04T16:09:46.006Z"
      },
      {
        "duration": 7,
        "start_time": "2024-04-04T16:09:46.010Z"
      },
      {
        "duration": 3,
        "start_time": "2024-04-04T16:09:46.020Z"
      },
      {
        "duration": 84,
        "start_time": "2024-04-04T16:09:46.024Z"
      },
      {
        "duration": 1218,
        "start_time": "2024-04-04T16:09:57.265Z"
      },
      {
        "duration": 46,
        "start_time": "2024-04-04T16:09:58.484Z"
      },
      {
        "duration": 14,
        "start_time": "2024-04-04T16:09:58.531Z"
      },
      {
        "duration": 13,
        "start_time": "2024-04-04T16:09:58.547Z"
      },
      {
        "duration": 27,
        "start_time": "2024-04-04T16:09:58.561Z"
      },
      {
        "duration": 201,
        "start_time": "2024-04-04T16:09:58.589Z"
      },
      {
        "duration": 322,
        "start_time": "2024-04-04T16:09:58.791Z"
      },
      {
        "duration": 703,
        "start_time": "2024-04-04T16:09:59.115Z"
      },
      {
        "duration": 3,
        "start_time": "2024-04-04T16:09:59.819Z"
      },
      {
        "duration": 1583,
        "start_time": "2024-04-04T16:09:59.824Z"
      },
      {
        "duration": 91,
        "start_time": "2024-04-04T16:10:01.411Z"
      },
      {
        "duration": 177,
        "start_time": "2024-04-04T16:10:01.504Z"
      },
      {
        "duration": 3,
        "start_time": "2024-04-04T16:10:01.683Z"
      },
      {
        "duration": 17,
        "start_time": "2024-04-04T16:10:01.688Z"
      },
      {
        "duration": 28,
        "start_time": "2024-04-04T16:10:01.706Z"
      },
      {
        "duration": 32,
        "start_time": "2024-04-04T16:10:01.735Z"
      },
      {
        "duration": 31,
        "start_time": "2024-04-04T16:10:01.768Z"
      },
      {
        "duration": 25,
        "start_time": "2024-04-04T16:10:01.800Z"
      },
      {
        "duration": 1444,
        "start_time": "2024-04-04T16:10:01.826Z"
      },
      {
        "duration": 3,
        "start_time": "2024-04-04T16:10:03.272Z"
      },
      {
        "duration": 12,
        "start_time": "2024-04-04T16:10:03.277Z"
      },
      {
        "duration": 4,
        "start_time": "2024-04-04T16:10:03.290Z"
      },
      {
        "duration": 14,
        "start_time": "2024-04-04T16:10:03.296Z"
      },
      {
        "duration": 4,
        "start_time": "2024-04-04T16:10:03.311Z"
      },
      {
        "duration": 1089,
        "start_time": "2024-04-04T16:10:03.316Z"
      },
      {
        "duration": 95,
        "start_time": "2024-04-04T16:10:04.409Z"
      },
      {
        "duration": 94,
        "start_time": "2024-04-04T16:10:04.507Z"
      },
      {
        "duration": 2,
        "start_time": "2024-04-04T16:10:04.604Z"
      },
      {
        "duration": 17,
        "start_time": "2024-04-04T16:10:04.607Z"
      },
      {
        "duration": 5,
        "start_time": "2024-04-04T16:10:04.625Z"
      },
      {
        "duration": 7,
        "start_time": "2024-04-04T16:10:04.631Z"
      },
      {
        "duration": 1299,
        "start_time": "2024-04-04T16:11:01.601Z"
      },
      {
        "duration": 48,
        "start_time": "2024-04-04T16:11:02.901Z"
      },
      {
        "duration": 14,
        "start_time": "2024-04-04T16:11:02.950Z"
      },
      {
        "duration": 27,
        "start_time": "2024-04-04T16:11:02.966Z"
      },
      {
        "duration": 25,
        "start_time": "2024-04-04T16:11:02.994Z"
      },
      {
        "duration": 208,
        "start_time": "2024-04-04T16:11:03.020Z"
      },
      {
        "duration": 329,
        "start_time": "2024-04-04T16:11:03.229Z"
      },
      {
        "duration": 737,
        "start_time": "2024-04-04T16:11:03.560Z"
      },
      {
        "duration": 4,
        "start_time": "2024-04-04T16:11:04.298Z"
      },
      {
        "duration": 1300,
        "start_time": "2024-04-04T16:11:04.304Z"
      },
      {
        "duration": 4,
        "start_time": "2024-04-04T16:11:05.606Z"
      },
      {
        "duration": 225,
        "start_time": "2024-04-04T16:11:05.611Z"
      },
      {
        "duration": 4,
        "start_time": "2024-04-04T16:11:05.837Z"
      },
      {
        "duration": 10,
        "start_time": "2024-04-04T16:11:05.842Z"
      },
      {
        "duration": 4,
        "start_time": "2024-04-04T16:11:05.853Z"
      },
      {
        "duration": 6,
        "start_time": "2024-04-04T16:11:05.858Z"
      },
      {
        "duration": 16,
        "start_time": "2024-04-04T16:11:05.865Z"
      },
      {
        "duration": 7,
        "start_time": "2024-04-04T16:11:05.882Z"
      },
      {
        "duration": 608,
        "start_time": "2024-04-04T16:11:05.890Z"
      },
      {
        "duration": 3,
        "start_time": "2024-04-04T16:11:06.501Z"
      },
      {
        "duration": 26,
        "start_time": "2024-04-04T16:11:06.505Z"
      },
      {
        "duration": 10,
        "start_time": "2024-04-04T16:11:06.533Z"
      },
      {
        "duration": 3,
        "start_time": "2024-04-04T16:11:06.544Z"
      },
      {
        "duration": 14,
        "start_time": "2024-04-04T16:11:06.548Z"
      },
      {
        "duration": 1844,
        "start_time": "2024-04-04T16:11:06.563Z"
      },
      {
        "duration": 3,
        "start_time": "2024-04-04T16:11:08.408Z"
      },
      {
        "duration": 2,
        "start_time": "2024-04-04T16:11:08.502Z"
      },
      {
        "duration": 2,
        "start_time": "2024-04-04T16:11:08.508Z"
      },
      {
        "duration": 90,
        "start_time": "2024-04-04T16:11:08.512Z"
      },
      {
        "duration": 5,
        "start_time": "2024-04-04T16:11:08.603Z"
      },
      {
        "duration": 5,
        "start_time": "2024-04-04T16:11:08.609Z"
      },
      {
        "duration": 1306,
        "start_time": "2024-04-04T16:11:24.769Z"
      },
      {
        "duration": 49,
        "start_time": "2024-04-04T16:11:26.077Z"
      },
      {
        "duration": 14,
        "start_time": "2024-04-04T16:11:26.127Z"
      },
      {
        "duration": 13,
        "start_time": "2024-04-04T16:11:26.143Z"
      },
      {
        "duration": 22,
        "start_time": "2024-04-04T16:11:26.158Z"
      },
      {
        "duration": 211,
        "start_time": "2024-04-04T16:11:26.181Z"
      },
      {
        "duration": 341,
        "start_time": "2024-04-04T16:11:26.393Z"
      },
      {
        "duration": 734,
        "start_time": "2024-04-04T16:11:26.736Z"
      },
      {
        "duration": 3,
        "start_time": "2024-04-04T16:11:27.472Z"
      },
      {
        "duration": 1232,
        "start_time": "2024-04-04T16:11:27.476Z"
      },
      {
        "duration": 96,
        "start_time": "2024-04-04T16:11:28.709Z"
      },
      {
        "duration": 116,
        "start_time": "2024-04-04T16:11:28.811Z"
      },
      {
        "duration": 3,
        "start_time": "2024-04-04T16:11:28.928Z"
      },
      {
        "duration": 8,
        "start_time": "2024-04-04T16:11:28.934Z"
      },
      {
        "duration": 14,
        "start_time": "2024-04-04T16:11:28.943Z"
      },
      {
        "duration": 16,
        "start_time": "2024-04-04T16:11:28.959Z"
      },
      {
        "duration": 14,
        "start_time": "2024-04-04T16:11:28.976Z"
      },
      {
        "duration": 3,
        "start_time": "2024-04-04T16:11:28.992Z"
      },
      {
        "duration": 2667,
        "start_time": "2024-04-04T16:11:28.996Z"
      },
      {
        "duration": 3,
        "start_time": "2024-04-04T16:11:31.664Z"
      },
      {
        "duration": 34,
        "start_time": "2024-04-04T16:11:31.669Z"
      },
      {
        "duration": 26,
        "start_time": "2024-04-04T16:11:31.704Z"
      },
      {
        "duration": 22,
        "start_time": "2024-04-04T16:11:31.731Z"
      },
      {
        "duration": 16,
        "start_time": "2024-04-04T16:11:31.754Z"
      },
      {
        "duration": 1339,
        "start_time": "2024-04-04T16:11:31.771Z"
      },
      {
        "duration": 97,
        "start_time": "2024-04-04T16:11:33.111Z"
      },
      {
        "duration": 98,
        "start_time": "2024-04-04T16:11:33.210Z"
      },
      {
        "duration": 2,
        "start_time": "2024-04-04T16:11:33.310Z"
      },
      {
        "duration": 5,
        "start_time": "2024-04-04T16:11:33.313Z"
      },
      {
        "duration": 4,
        "start_time": "2024-04-04T16:11:33.319Z"
      },
      {
        "duration": 5,
        "start_time": "2024-04-04T16:11:33.324Z"
      },
      {
        "duration": 1173,
        "start_time": "2024-04-04T16:12:16.698Z"
      },
      {
        "duration": 46,
        "start_time": "2024-04-04T16:12:17.873Z"
      },
      {
        "duration": 13,
        "start_time": "2024-04-04T16:12:17.921Z"
      },
      {
        "duration": 12,
        "start_time": "2024-04-04T16:12:17.936Z"
      },
      {
        "duration": 11,
        "start_time": "2024-04-04T16:12:17.949Z"
      },
      {
        "duration": 215,
        "start_time": "2024-04-04T16:12:17.961Z"
      },
      {
        "duration": 327,
        "start_time": "2024-04-04T16:12:18.177Z"
      },
      {
        "duration": 708,
        "start_time": "2024-04-04T16:12:18.505Z"
      },
      {
        "duration": 3,
        "start_time": "2024-04-04T16:12:19.215Z"
      },
      {
        "duration": 1385,
        "start_time": "2024-04-04T16:12:19.221Z"
      },
      {
        "duration": 93,
        "start_time": "2024-04-04T16:12:20.609Z"
      },
      {
        "duration": 157,
        "start_time": "2024-04-04T16:12:20.704Z"
      },
      {
        "duration": 3,
        "start_time": "2024-04-04T16:12:20.863Z"
      },
      {
        "duration": 23,
        "start_time": "2024-04-04T16:12:20.867Z"
      },
      {
        "duration": 44,
        "start_time": "2024-04-04T16:12:20.892Z"
      },
      {
        "duration": 23,
        "start_time": "2024-04-04T16:12:20.937Z"
      },
      {
        "duration": 33,
        "start_time": "2024-04-04T16:12:20.961Z"
      },
      {
        "duration": 17,
        "start_time": "2024-04-04T16:12:20.995Z"
      },
      {
        "duration": 1530,
        "start_time": "2024-04-04T16:12:21.013Z"
      },
      {
        "duration": 3,
        "start_time": "2024-04-04T16:12:22.545Z"
      },
      {
        "duration": 11,
        "start_time": "2024-04-04T16:12:22.549Z"
      },
      {
        "duration": 4,
        "start_time": "2024-04-04T16:12:22.561Z"
      },
      {
        "duration": 34,
        "start_time": "2024-04-04T16:12:22.567Z"
      },
      {
        "duration": 110,
        "start_time": "2024-04-04T16:12:22.602Z"
      },
      {
        "duration": 0,
        "start_time": "2024-04-04T16:12:22.713Z"
      },
      {
        "duration": 1,
        "start_time": "2024-04-04T16:12:22.714Z"
      },
      {
        "duration": 0,
        "start_time": "2024-04-04T16:12:22.716Z"
      },
      {
        "duration": 0,
        "start_time": "2024-04-04T16:12:22.717Z"
      },
      {
        "duration": 0,
        "start_time": "2024-04-04T16:12:22.718Z"
      },
      {
        "duration": 0,
        "start_time": "2024-04-04T16:12:22.719Z"
      },
      {
        "duration": 0,
        "start_time": "2024-04-04T16:12:22.720Z"
      },
      {
        "duration": 0,
        "start_time": "2024-04-04T16:12:22.721Z"
      },
      {
        "duration": 0,
        "start_time": "2024-04-04T16:12:22.722Z"
      },
      {
        "duration": 0,
        "start_time": "2024-04-04T16:12:22.723Z"
      },
      {
        "duration": 0,
        "start_time": "2024-04-04T16:12:22.725Z"
      },
      {
        "duration": 0,
        "start_time": "2024-04-04T16:12:22.726Z"
      },
      {
        "duration": 0,
        "start_time": "2024-04-04T16:12:22.727Z"
      },
      {
        "duration": 0,
        "start_time": "2024-04-04T16:12:22.728Z"
      },
      {
        "duration": 2,
        "start_time": "2024-04-04T16:13:51.161Z"
      },
      {
        "duration": 3,
        "start_time": "2024-04-04T16:13:54.656Z"
      },
      {
        "duration": 11,
        "start_time": "2024-04-04T16:13:54.661Z"
      },
      {
        "duration": 1287,
        "start_time": "2024-04-04T16:18:24.676Z"
      },
      {
        "duration": 48,
        "start_time": "2024-04-04T16:18:25.965Z"
      },
      {
        "duration": 14,
        "start_time": "2024-04-04T16:18:26.015Z"
      },
      {
        "duration": 7,
        "start_time": "2024-04-04T16:18:26.031Z"
      },
      {
        "duration": 14,
        "start_time": "2024-04-04T16:18:26.039Z"
      },
      {
        "duration": 246,
        "start_time": "2024-04-04T16:18:26.054Z"
      },
      {
        "duration": 334,
        "start_time": "2024-04-04T16:18:26.301Z"
      },
      {
        "duration": 703,
        "start_time": "2024-04-04T16:18:26.636Z"
      },
      {
        "duration": 3,
        "start_time": "2024-04-04T16:18:27.340Z"
      },
      {
        "duration": 1162,
        "start_time": "2024-04-04T16:18:27.345Z"
      },
      {
        "duration": 93,
        "start_time": "2024-04-04T16:18:28.509Z"
      },
      {
        "duration": 124,
        "start_time": "2024-04-04T16:18:28.604Z"
      },
      {
        "duration": 3,
        "start_time": "2024-04-04T16:18:28.729Z"
      },
      {
        "duration": 5,
        "start_time": "2024-04-04T16:18:28.734Z"
      },
      {
        "duration": 10,
        "start_time": "2024-04-04T16:18:28.740Z"
      },
      {
        "duration": 7,
        "start_time": "2024-04-04T16:18:28.751Z"
      },
      {
        "duration": 17,
        "start_time": "2024-04-04T16:18:28.759Z"
      },
      {
        "duration": 17,
        "start_time": "2024-04-04T16:18:28.777Z"
      },
      {
        "duration": 1543,
        "start_time": "2024-04-04T16:18:28.796Z"
      },
      {
        "duration": 4,
        "start_time": "2024-04-04T16:18:30.341Z"
      },
      {
        "duration": 92,
        "start_time": "2024-04-04T16:18:30.346Z"
      },
      {
        "duration": 62,
        "start_time": "2024-04-04T16:18:30.440Z"
      },
      {
        "duration": 150,
        "start_time": "2024-04-04T16:18:30.503Z"
      },
      {
        "duration": 193,
        "start_time": "2024-04-04T16:18:30.654Z"
      },
      {
        "duration": 513305,
        "start_time": "2024-04-04T16:18:30.848Z"
      },
      {
        "duration": 4,
        "start_time": "2024-04-04T16:27:04.154Z"
      },
      {
        "duration": 30,
        "start_time": "2024-04-04T16:27:04.159Z"
      },
      {
        "duration": 30,
        "start_time": "2024-04-04T16:27:04.192Z"
      },
      {
        "duration": 25,
        "start_time": "2024-04-04T16:27:04.224Z"
      },
      {
        "duration": 28,
        "start_time": "2024-04-04T16:27:04.251Z"
      },
      {
        "duration": 1120,
        "start_time": "2024-04-04T16:27:04.281Z"
      },
      {
        "duration": 4,
        "start_time": "2024-04-04T16:27:05.403Z"
      },
      {
        "duration": 108,
        "start_time": "2024-04-04T16:27:05.408Z"
      },
      {
        "duration": 31,
        "start_time": "2024-04-04T16:27:05.518Z"
      },
      {
        "duration": 27,
        "start_time": "2024-04-04T16:27:05.551Z"
      },
      {
        "duration": 32,
        "start_time": "2024-04-04T16:27:05.579Z"
      },
      {
        "duration": 17,
        "start_time": "2024-04-04T16:27:05.612Z"
      },
      {
        "duration": 14,
        "start_time": "2024-04-04T16:27:05.630Z"
      },
      {
        "duration": 2,
        "start_time": "2024-04-04T16:28:42.646Z"
      },
      {
        "duration": 16,
        "start_time": "2024-04-04T16:28:43.156Z"
      },
      {
        "duration": 3,
        "start_time": "2024-04-04T16:28:43.559Z"
      },
      {
        "duration": 4,
        "start_time": "2024-04-04T16:28:44.117Z"
      },
      {
        "duration": 1198,
        "start_time": "2024-04-04T16:29:12.493Z"
      },
      {
        "duration": 47,
        "start_time": "2024-04-04T16:29:13.693Z"
      },
      {
        "duration": 14,
        "start_time": "2024-04-04T16:29:13.743Z"
      },
      {
        "duration": 6,
        "start_time": "2024-04-04T16:29:13.758Z"
      },
      {
        "duration": 11,
        "start_time": "2024-04-04T16:29:13.765Z"
      },
      {
        "duration": 203,
        "start_time": "2024-04-04T16:29:13.777Z"
      },
      {
        "duration": 322,
        "start_time": "2024-04-04T16:29:13.981Z"
      },
      {
        "duration": 714,
        "start_time": "2024-04-04T16:29:14.305Z"
      },
      {
        "duration": 3,
        "start_time": "2024-04-04T16:29:15.021Z"
      },
      {
        "duration": 1282,
        "start_time": "2024-04-04T16:29:15.025Z"
      },
      {
        "duration": 93,
        "start_time": "2024-04-04T16:29:16.309Z"
      },
      {
        "duration": 138,
        "start_time": "2024-04-04T16:29:16.404Z"
      },
      {
        "duration": 19,
        "start_time": "2024-04-04T16:29:16.543Z"
      },
      {
        "duration": 27,
        "start_time": "2024-04-04T16:29:16.563Z"
      },
      {
        "duration": 20,
        "start_time": "2024-04-04T16:29:16.591Z"
      },
      {
        "duration": 19,
        "start_time": "2024-04-04T16:29:16.612Z"
      },
      {
        "duration": 18,
        "start_time": "2024-04-04T16:29:16.632Z"
      },
      {
        "duration": 21,
        "start_time": "2024-04-04T16:29:16.652Z"
      },
      {
        "duration": 1564,
        "start_time": "2024-04-04T16:29:16.674Z"
      },
      {
        "duration": 3,
        "start_time": "2024-04-04T16:29:18.240Z"
      },
      {
        "duration": 13,
        "start_time": "2024-04-04T16:29:18.244Z"
      },
      {
        "duration": 6,
        "start_time": "2024-04-04T16:29:18.258Z"
      },
      {
        "duration": 17,
        "start_time": "2024-04-04T16:29:18.265Z"
      },
      {
        "duration": 18,
        "start_time": "2024-04-04T16:29:18.283Z"
      },
      {
        "duration": 158822,
        "start_time": "2024-04-04T16:29:18.303Z"
      },
      {
        "duration": 2,
        "start_time": "2024-04-04T16:31:57.127Z"
      },
      {
        "duration": 17,
        "start_time": "2024-04-04T16:31:57.132Z"
      },
      {
        "duration": 13,
        "start_time": "2024-04-04T16:31:57.150Z"
      },
      {
        "duration": 9,
        "start_time": "2024-04-04T16:31:57.165Z"
      },
      {
        "duration": 18,
        "start_time": "2024-04-04T16:31:57.175Z"
      },
      {
        "duration": 1310,
        "start_time": "2024-04-04T16:31:57.195Z"
      },
      {
        "duration": 4,
        "start_time": "2024-04-04T16:31:58.506Z"
      },
      {
        "duration": 98,
        "start_time": "2024-04-04T16:31:58.511Z"
      },
      {
        "duration": 92,
        "start_time": "2024-04-04T16:31:58.611Z"
      },
      {
        "duration": 16,
        "start_time": "2024-04-04T16:31:58.705Z"
      },
      {
        "duration": 22,
        "start_time": "2024-04-04T16:31:58.722Z"
      },
      {
        "duration": 2,
        "start_time": "2024-04-04T16:31:58.746Z"
      },
      {
        "duration": 7,
        "start_time": "2024-04-04T16:31:58.750Z"
      },
      {
        "duration": 1195,
        "start_time": "2024-04-04T16:33:58.164Z"
      },
      {
        "duration": 46,
        "start_time": "2024-04-04T16:33:59.361Z"
      },
      {
        "duration": 15,
        "start_time": "2024-04-04T16:33:59.408Z"
      },
      {
        "duration": 6,
        "start_time": "2024-04-04T16:33:59.424Z"
      },
      {
        "duration": 14,
        "start_time": "2024-04-04T16:33:59.432Z"
      },
      {
        "duration": 217,
        "start_time": "2024-04-04T16:33:59.447Z"
      },
      {
        "duration": 333,
        "start_time": "2024-04-04T16:33:59.665Z"
      },
      {
        "duration": 727,
        "start_time": "2024-04-04T16:33:59.999Z"
      },
      {
        "duration": 3,
        "start_time": "2024-04-04T16:34:00.728Z"
      },
      {
        "duration": 1277,
        "start_time": "2024-04-04T16:34:00.734Z"
      },
      {
        "duration": 4,
        "start_time": "2024-04-04T16:34:02.102Z"
      },
      {
        "duration": 131,
        "start_time": "2024-04-04T16:34:02.111Z"
      },
      {
        "duration": 3,
        "start_time": "2024-04-04T16:34:02.243Z"
      },
      {
        "duration": 10,
        "start_time": "2024-04-04T16:34:02.247Z"
      },
      {
        "duration": 37,
        "start_time": "2024-04-04T16:34:02.258Z"
      },
      {
        "duration": 9,
        "start_time": "2024-04-04T16:34:02.296Z"
      },
      {
        "duration": 5,
        "start_time": "2024-04-04T16:34:02.306Z"
      },
      {
        "duration": 27,
        "start_time": "2024-04-04T16:34:02.313Z"
      },
      {
        "duration": 1533,
        "start_time": "2024-04-04T16:34:02.341Z"
      },
      {
        "duration": 3,
        "start_time": "2024-04-04T16:34:03.875Z"
      },
      {
        "duration": 19,
        "start_time": "2024-04-04T16:34:03.880Z"
      },
      {
        "duration": 8,
        "start_time": "2024-04-04T16:34:03.900Z"
      },
      {
        "duration": 9,
        "start_time": "2024-04-04T16:34:03.909Z"
      },
      {
        "duration": 15,
        "start_time": "2024-04-04T16:34:03.919Z"
      },
      {
        "duration": 247423,
        "start_time": "2024-04-04T16:34:03.935Z"
      },
      {
        "duration": 3,
        "start_time": "2024-04-04T16:38:11.359Z"
      },
      {
        "duration": 10,
        "start_time": "2024-04-04T16:38:11.363Z"
      },
      {
        "duration": 19,
        "start_time": "2024-04-04T16:38:11.376Z"
      },
      {
        "duration": 19,
        "start_time": "2024-04-04T16:38:11.396Z"
      },
      {
        "duration": 11,
        "start_time": "2024-04-04T16:38:11.417Z"
      },
      {
        "duration": 2173,
        "start_time": "2024-04-04T16:38:11.429Z"
      },
      {
        "duration": 3,
        "start_time": "2024-04-04T16:38:13.604Z"
      },
      {
        "duration": 15,
        "start_time": "2024-04-04T16:38:13.608Z"
      },
      {
        "duration": 6,
        "start_time": "2024-04-04T16:38:13.702Z"
      },
      {
        "duration": 16,
        "start_time": "2024-04-04T16:38:13.709Z"
      },
      {
        "duration": 30,
        "start_time": "2024-04-04T16:38:13.726Z"
      },
      {
        "duration": 4,
        "start_time": "2024-04-04T16:38:13.757Z"
      },
      {
        "duration": 18,
        "start_time": "2024-04-04T16:38:13.762Z"
      },
      {
        "duration": 4,
        "start_time": "2024-04-04T17:27:38.177Z"
      },
      {
        "duration": 98,
        "start_time": "2024-04-04T17:27:51.971Z"
      },
      {
        "duration": 4,
        "start_time": "2024-04-04T17:28:06.817Z"
      },
      {
        "duration": 7,
        "start_time": "2024-04-04T17:28:10.825Z"
      },
      {
        "duration": 9,
        "start_time": "2024-04-04T17:28:30.095Z"
      },
      {
        "duration": 5,
        "start_time": "2024-04-04T17:28:35.871Z"
      },
      {
        "duration": 1185,
        "start_time": "2024-04-04T17:34:20.782Z"
      },
      {
        "duration": 47,
        "start_time": "2024-04-04T17:34:21.969Z"
      },
      {
        "duration": 13,
        "start_time": "2024-04-04T17:34:22.018Z"
      },
      {
        "duration": 7,
        "start_time": "2024-04-04T17:34:22.033Z"
      },
      {
        "duration": 11,
        "start_time": "2024-04-04T17:34:22.041Z"
      },
      {
        "duration": 223,
        "start_time": "2024-04-04T17:34:22.053Z"
      },
      {
        "duration": 319,
        "start_time": "2024-04-04T17:34:22.278Z"
      },
      {
        "duration": 730,
        "start_time": "2024-04-04T17:34:22.599Z"
      },
      {
        "duration": 3,
        "start_time": "2024-04-04T17:34:23.331Z"
      },
      {
        "duration": 1173,
        "start_time": "2024-04-04T17:34:23.337Z"
      },
      {
        "duration": 4,
        "start_time": "2024-04-04T17:34:24.603Z"
      },
      {
        "duration": 149,
        "start_time": "2024-04-04T17:34:24.608Z"
      },
      {
        "duration": 3,
        "start_time": "2024-04-04T17:34:24.758Z"
      },
      {
        "duration": 7,
        "start_time": "2024-04-04T17:34:24.763Z"
      },
      {
        "duration": 4,
        "start_time": "2024-04-04T17:34:24.771Z"
      },
      {
        "duration": 5,
        "start_time": "2024-04-04T17:34:24.776Z"
      },
      {
        "duration": 13,
        "start_time": "2024-04-04T17:34:24.782Z"
      },
      {
        "duration": 11,
        "start_time": "2024-04-04T17:34:24.796Z"
      },
      {
        "duration": 1523,
        "start_time": "2024-04-04T17:34:24.808Z"
      },
      {
        "duration": 3,
        "start_time": "2024-04-04T17:34:26.332Z"
      },
      {
        "duration": 15,
        "start_time": "2024-04-04T17:34:26.336Z"
      },
      {
        "duration": 7,
        "start_time": "2024-04-04T17:34:26.353Z"
      },
      {
        "duration": 7,
        "start_time": "2024-04-04T17:34:26.361Z"
      },
      {
        "duration": 4,
        "start_time": "2024-04-04T17:34:26.369Z"
      },
      {
        "duration": 243367,
        "start_time": "2024-04-04T17:34:26.374Z"
      },
      {
        "duration": 3,
        "start_time": "2024-04-04T17:38:29.742Z"
      },
      {
        "duration": 9,
        "start_time": "2024-04-04T17:38:29.746Z"
      },
      {
        "duration": 11,
        "start_time": "2024-04-04T17:38:29.758Z"
      },
      {
        "duration": 5,
        "start_time": "2024-04-04T17:38:29.770Z"
      },
      {
        "duration": 4,
        "start_time": "2024-04-04T17:38:29.776Z"
      },
      {
        "duration": 1725,
        "start_time": "2024-04-04T17:38:29.781Z"
      },
      {
        "duration": 3,
        "start_time": "2024-04-04T17:38:31.508Z"
      },
      {
        "duration": 91,
        "start_time": "2024-04-04T17:38:31.512Z"
      },
      {
        "duration": 98,
        "start_time": "2024-04-04T17:38:31.604Z"
      },
      {
        "duration": 3,
        "start_time": "2024-04-04T17:38:31.703Z"
      },
      {
        "duration": 47,
        "start_time": "2024-04-04T17:38:31.707Z"
      },
      {
        "duration": 17,
        "start_time": "2024-04-04T17:38:31.755Z"
      },
      {
        "duration": 15,
        "start_time": "2024-04-04T17:38:31.773Z"
      },
      {
        "duration": 2880,
        "start_time": "2024-04-04T18:31:45.579Z"
      },
      {
        "duration": 167,
        "start_time": "2024-04-04T18:31:48.461Z"
      },
      {
        "duration": 16,
        "start_time": "2024-04-04T18:31:48.630Z"
      },
      {
        "duration": 10,
        "start_time": "2024-04-04T18:31:48.648Z"
      },
      {
        "duration": 14,
        "start_time": "2024-04-04T18:31:48.660Z"
      },
      {
        "duration": 278,
        "start_time": "2024-04-04T18:31:48.681Z"
      },
      {
        "duration": 425,
        "start_time": "2024-04-04T18:31:48.960Z"
      },
      {
        "duration": 906,
        "start_time": "2024-04-04T18:31:49.387Z"
      },
      {
        "duration": 4,
        "start_time": "2024-04-04T18:31:50.294Z"
      },
      {
        "duration": 1785,
        "start_time": "2024-04-04T18:31:50.300Z"
      },
      {
        "duration": 91,
        "start_time": "2024-04-04T18:31:52.090Z"
      },
      {
        "duration": 135,
        "start_time": "2024-04-04T18:31:52.184Z"
      },
      {
        "duration": 4,
        "start_time": "2024-04-04T18:31:52.321Z"
      },
      {
        "duration": 13,
        "start_time": "2024-04-04T18:31:52.328Z"
      },
      {
        "duration": 8,
        "start_time": "2024-04-04T18:31:52.343Z"
      },
      {
        "duration": 16,
        "start_time": "2024-04-04T18:31:52.353Z"
      },
      {
        "duration": 12,
        "start_time": "2024-04-04T18:31:52.370Z"
      },
      {
        "duration": 22,
        "start_time": "2024-04-04T18:31:52.384Z"
      },
      {
        "duration": 1672,
        "start_time": "2024-04-04T18:31:52.408Z"
      },
      {
        "duration": 4,
        "start_time": "2024-04-04T18:31:54.082Z"
      },
      {
        "duration": 4,
        "start_time": "2024-04-04T18:31:54.088Z"
      },
      {
        "duration": 4,
        "start_time": "2024-04-04T18:31:54.094Z"
      },
      {
        "duration": 4,
        "start_time": "2024-04-04T18:31:54.100Z"
      },
      {
        "duration": 4,
        "start_time": "2024-04-04T18:31:54.106Z"
      },
      {
        "duration": 271693,
        "start_time": "2024-04-04T18:31:54.112Z"
      },
      {
        "duration": 5,
        "start_time": "2024-04-04T18:36:25.808Z"
      },
      {
        "duration": 5,
        "start_time": "2024-04-04T18:36:25.816Z"
      },
      {
        "duration": 9,
        "start_time": "2024-04-04T18:36:25.822Z"
      },
      {
        "duration": 4,
        "start_time": "2024-04-04T18:36:25.833Z"
      },
      {
        "duration": 6,
        "start_time": "2024-04-04T18:36:25.839Z"
      },
      {
        "duration": 1748,
        "start_time": "2024-04-04T18:36:25.846Z"
      },
      {
        "duration": 8,
        "start_time": "2024-04-04T18:36:27.681Z"
      },
      {
        "duration": 6,
        "start_time": "2024-04-04T18:36:27.691Z"
      },
      {
        "duration": 90,
        "start_time": "2024-04-04T18:36:27.699Z"
      },
      {
        "duration": 16,
        "start_time": "2024-04-04T18:36:27.791Z"
      },
      {
        "duration": 53,
        "start_time": "2024-04-04T18:36:27.809Z"
      },
      {
        "duration": 5,
        "start_time": "2024-04-04T18:36:27.863Z"
      },
      {
        "duration": 23,
        "start_time": "2024-04-04T18:36:27.870Z"
      },
      {
        "duration": 1554,
        "start_time": "2024-04-05T17:35:40.108Z"
      },
      {
        "duration": 111,
        "start_time": "2024-04-05T17:35:41.664Z"
      },
      {
        "duration": 4,
        "start_time": "2024-04-05T17:35:53.079Z"
      },
      {
        "duration": 45,
        "start_time": "2024-04-05T17:35:54.703Z"
      },
      {
        "duration": 24,
        "start_time": "2024-04-05T17:35:55.860Z"
      },
      {
        "duration": 273,
        "start_time": "2024-04-05T17:37:08.131Z"
      },
      {
        "duration": 235,
        "start_time": "2024-04-05T17:40:02.851Z"
      },
      {
        "duration": 954,
        "start_time": "2024-04-05T17:41:06.831Z"
      },
      {
        "duration": 135,
        "start_time": "2024-04-05T18:24:59.088Z"
      },
      {
        "duration": 2146,
        "start_time": "2024-04-05T18:25:08.106Z"
      },
      {
        "duration": 639,
        "start_time": "2024-04-05T18:28:44.357Z"
      },
      {
        "duration": 540,
        "start_time": "2024-04-05T18:28:54.621Z"
      },
      {
        "duration": 12,
        "start_time": "2024-04-05T18:29:02.025Z"
      },
      {
        "duration": 570,
        "start_time": "2024-04-05T18:29:06.112Z"
      },
      {
        "duration": 513,
        "start_time": "2024-04-05T18:30:24.807Z"
      },
      {
        "duration": 581,
        "start_time": "2024-04-05T18:30:36.652Z"
      },
      {
        "duration": 13,
        "start_time": "2024-04-05T18:30:45.532Z"
      },
      {
        "duration": 598,
        "start_time": "2024-04-05T18:30:58.726Z"
      },
      {
        "duration": 740,
        "start_time": "2024-04-05T18:31:18.833Z"
      },
      {
        "duration": 613,
        "start_time": "2024-04-05T18:31:26.545Z"
      },
      {
        "duration": 559,
        "start_time": "2024-04-05T18:31:35.674Z"
      },
      {
        "duration": 588,
        "start_time": "2024-04-05T18:31:49.713Z"
      },
      {
        "duration": 3,
        "start_time": "2024-04-05T18:34:44.055Z"
      },
      {
        "duration": 5,
        "start_time": "2024-04-05T18:40:13.145Z"
      },
      {
        "duration": 1381,
        "start_time": "2024-04-05T18:45:45.132Z"
      },
      {
        "duration": 51,
        "start_time": "2024-04-05T18:45:46.514Z"
      },
      {
        "duration": 17,
        "start_time": "2024-04-05T18:45:46.567Z"
      },
      {
        "duration": 8,
        "start_time": "2024-04-05T18:45:46.586Z"
      },
      {
        "duration": 21,
        "start_time": "2024-04-05T18:45:46.596Z"
      },
      {
        "duration": 253,
        "start_time": "2024-04-05T18:45:46.619Z"
      },
      {
        "duration": 380,
        "start_time": "2024-04-05T18:45:46.874Z"
      },
      {
        "duration": 608,
        "start_time": "2024-04-05T18:45:47.256Z"
      },
      {
        "duration": 3,
        "start_time": "2024-04-05T18:45:47.866Z"
      },
      {
        "duration": 1899,
        "start_time": "2024-04-05T18:45:47.871Z"
      },
      {
        "duration": 96,
        "start_time": "2024-04-05T18:45:49.773Z"
      },
      {
        "duration": 215,
        "start_time": "2024-04-05T18:45:49.871Z"
      },
      {
        "duration": 20,
        "start_time": "2024-04-05T18:45:50.087Z"
      },
      {
        "duration": 10,
        "start_time": "2024-04-05T18:45:50.109Z"
      },
      {
        "duration": 13,
        "start_time": "2024-04-05T18:45:50.121Z"
      },
      {
        "duration": 5,
        "start_time": "2024-04-05T18:45:50.135Z"
      },
      {
        "duration": 5,
        "start_time": "2024-04-05T18:45:50.141Z"
      },
      {
        "duration": 3,
        "start_time": "2024-04-05T18:45:50.147Z"
      },
      {
        "duration": 3,
        "start_time": "2024-04-05T18:45:50.165Z"
      },
      {
        "duration": 7680,
        "start_time": "2024-04-05T18:45:50.169Z"
      },
      {
        "duration": 3,
        "start_time": "2024-04-05T18:45:57.851Z"
      },
      {
        "duration": 19,
        "start_time": "2024-04-05T18:45:57.865Z"
      },
      {
        "duration": 23,
        "start_time": "2024-04-05T18:45:57.886Z"
      },
      {
        "duration": 21,
        "start_time": "2024-04-05T18:45:57.911Z"
      },
      {
        "duration": 21,
        "start_time": "2024-04-05T18:45:57.933Z"
      },
      {
        "duration": 1257943,
        "start_time": "2024-04-05T18:45:57.955Z"
      },
      {
        "duration": 4,
        "start_time": "2024-04-05T19:06:55.900Z"
      },
      {
        "duration": 3,
        "start_time": "2024-04-05T19:06:55.907Z"
      },
      {
        "duration": 4,
        "start_time": "2024-04-05T19:06:55.911Z"
      },
      {
        "duration": 7,
        "start_time": "2024-04-05T19:06:55.916Z"
      },
      {
        "duration": 9,
        "start_time": "2024-04-05T19:06:55.924Z"
      },
      {
        "duration": 7845,
        "start_time": "2024-04-05T19:06:55.934Z"
      },
      {
        "duration": 5,
        "start_time": "2024-04-05T19:07:03.865Z"
      },
      {
        "duration": 16,
        "start_time": "2024-04-05T19:07:03.871Z"
      },
      {
        "duration": 8,
        "start_time": "2024-04-05T19:07:03.889Z"
      },
      {
        "duration": 15,
        "start_time": "2024-04-05T19:07:03.899Z"
      },
      {
        "duration": 69,
        "start_time": "2024-04-05T19:07:03.915Z"
      },
      {
        "duration": 4,
        "start_time": "2024-04-05T19:07:03.986Z"
      },
      {
        "duration": 21,
        "start_time": "2024-04-05T19:07:03.992Z"
      },
      {
        "duration": 49,
        "start_time": "2024-04-06T08:58:34.021Z"
      },
      {
        "duration": 1390,
        "start_time": "2024-04-06T08:58:38.711Z"
      },
      {
        "duration": 107,
        "start_time": "2024-04-06T08:58:40.103Z"
      },
      {
        "duration": 14,
        "start_time": "2024-04-06T08:58:40.212Z"
      },
      {
        "duration": 7,
        "start_time": "2024-04-06T08:58:40.227Z"
      },
      {
        "duration": 10,
        "start_time": "2024-04-06T08:58:40.235Z"
      },
      {
        "duration": 249,
        "start_time": "2024-04-06T08:58:40.247Z"
      },
      {
        "duration": 331,
        "start_time": "2024-04-06T08:58:40.498Z"
      },
      {
        "duration": 550,
        "start_time": "2024-04-06T08:58:47.772Z"
      },
      {
        "duration": 457,
        "start_time": "2024-04-06T08:59:11.540Z"
      },
      {
        "duration": 616,
        "start_time": "2024-04-06T09:01:55.742Z"
      },
      {
        "duration": 586,
        "start_time": "2024-04-06T09:10:10.800Z"
      },
      {
        "duration": 681,
        "start_time": "2024-04-06T09:10:18.786Z"
      },
      {
        "duration": 658,
        "start_time": "2024-04-06T09:10:33.565Z"
      },
      {
        "duration": 6,
        "start_time": "2024-04-06T09:23:45.497Z"
      },
      {
        "duration": 74,
        "start_time": "2024-04-06T09:24:43.215Z"
      },
      {
        "duration": 1140,
        "start_time": "2024-04-06T09:26:09.730Z"
      },
      {
        "duration": 44,
        "start_time": "2024-04-06T09:26:10.872Z"
      },
      {
        "duration": 14,
        "start_time": "2024-04-06T09:26:10.918Z"
      },
      {
        "duration": 7,
        "start_time": "2024-04-06T09:26:10.934Z"
      },
      {
        "duration": 11,
        "start_time": "2024-04-06T09:26:10.942Z"
      },
      {
        "duration": 221,
        "start_time": "2024-04-06T09:26:10.955Z"
      },
      {
        "duration": 322,
        "start_time": "2024-04-06T09:26:11.177Z"
      },
      {
        "duration": 576,
        "start_time": "2024-04-06T09:26:11.500Z"
      },
      {
        "duration": 646,
        "start_time": "2024-04-06T09:26:12.077Z"
      },
      {
        "duration": 3,
        "start_time": "2024-04-06T09:26:12.725Z"
      },
      {
        "duration": 1181,
        "start_time": "2024-04-06T09:26:12.729Z"
      },
      {
        "duration": 92,
        "start_time": "2024-04-06T09:26:13.911Z"
      },
      {
        "duration": 182,
        "start_time": "2024-04-06T09:26:14.005Z"
      },
      {
        "duration": 22,
        "start_time": "2024-04-06T09:26:14.189Z"
      },
      {
        "duration": 11,
        "start_time": "2024-04-06T09:26:14.212Z"
      },
      {
        "duration": 21,
        "start_time": "2024-04-06T09:26:14.224Z"
      },
      {
        "duration": 16,
        "start_time": "2024-04-06T09:26:14.246Z"
      },
      {
        "duration": 3,
        "start_time": "2024-04-06T09:26:14.263Z"
      },
      {
        "duration": 5,
        "start_time": "2024-04-06T09:26:14.267Z"
      },
      {
        "duration": 4,
        "start_time": "2024-04-06T09:26:14.274Z"
      },
      {
        "duration": 7709,
        "start_time": "2024-04-06T09:26:14.279Z"
      },
      {
        "duration": 3,
        "start_time": "2024-04-06T09:26:21.989Z"
      },
      {
        "duration": 8,
        "start_time": "2024-04-06T09:26:21.993Z"
      },
      {
        "duration": 2,
        "start_time": "2024-04-06T09:26:22.003Z"
      },
      {
        "duration": 6,
        "start_time": "2024-04-06T09:26:22.006Z"
      },
      {
        "duration": 4,
        "start_time": "2024-04-06T09:26:22.013Z"
      },
      {
        "duration": 444936,
        "start_time": "2024-04-06T09:26:22.018Z"
      },
      {
        "duration": 3,
        "start_time": "2024-04-06T09:33:46.957Z"
      },
      {
        "duration": 13,
        "start_time": "2024-04-06T09:33:46.961Z"
      },
      {
        "duration": 20,
        "start_time": "2024-04-06T09:33:46.975Z"
      },
      {
        "duration": 100,
        "start_time": "2024-04-06T09:33:46.996Z"
      },
      {
        "duration": 0,
        "start_time": "2024-04-06T09:33:47.097Z"
      },
      {
        "duration": 0,
        "start_time": "2024-04-06T09:33:47.098Z"
      },
      {
        "duration": 0,
        "start_time": "2024-04-06T09:33:47.101Z"
      },
      {
        "duration": 0,
        "start_time": "2024-04-06T09:33:47.102Z"
      },
      {
        "duration": 0,
        "start_time": "2024-04-06T09:33:47.102Z"
      },
      {
        "duration": 0,
        "start_time": "2024-04-06T09:33:47.103Z"
      },
      {
        "duration": 0,
        "start_time": "2024-04-06T09:33:47.104Z"
      },
      {
        "duration": 0,
        "start_time": "2024-04-06T09:33:47.105Z"
      },
      {
        "duration": 0,
        "start_time": "2024-04-06T09:33:47.106Z"
      },
      {
        "duration": 0,
        "start_time": "2024-04-06T09:33:47.107Z"
      },
      {
        "duration": 0,
        "start_time": "2024-04-06T09:33:47.107Z"
      },
      {
        "duration": 0,
        "start_time": "2024-04-06T09:33:47.108Z"
      },
      {
        "duration": 0,
        "start_time": "2024-04-06T09:33:47.109Z"
      },
      {
        "duration": 3,
        "start_time": "2024-04-06T09:35:12.137Z"
      },
      {
        "duration": 2,
        "start_time": "2024-04-06T09:35:13.324Z"
      },
      {
        "duration": 3,
        "start_time": "2024-04-06T09:35:14.694Z"
      },
      {
        "duration": 2,
        "start_time": "2024-04-06T09:35:15.742Z"
      },
      {
        "duration": 2,
        "start_time": "2024-04-06T09:35:17.240Z"
      },
      {
        "duration": 3,
        "start_time": "2024-04-06T09:35:18.738Z"
      },
      {
        "duration": 487,
        "start_time": "2024-04-06T09:35:20.829Z"
      },
      {
        "duration": 4,
        "start_time": "2024-04-06T09:35:31.671Z"
      },
      {
        "duration": 2,
        "start_time": "2024-04-06T09:35:33.485Z"
      },
      {
        "duration": 7,
        "start_time": "2024-04-06T09:35:35.436Z"
      },
      {
        "duration": 3,
        "start_time": "2024-04-06T09:39:16.840Z"
      },
      {
        "duration": 3,
        "start_time": "2024-04-06T09:40:28.420Z"
      },
      {
        "duration": 2,
        "start_time": "2024-04-06T09:40:29.463Z"
      },
      {
        "duration": 3,
        "start_time": "2024-04-06T09:40:31.205Z"
      },
      {
        "duration": 2,
        "start_time": "2024-04-06T09:40:32.807Z"
      },
      {
        "duration": 3,
        "start_time": "2024-04-06T09:40:34.219Z"
      },
      {
        "duration": 3,
        "start_time": "2024-04-06T09:40:35.050Z"
      },
      {
        "duration": 502,
        "start_time": "2024-04-06T09:40:37.105Z"
      },
      {
        "duration": 2,
        "start_time": "2024-04-06T09:40:40.129Z"
      },
      {
        "duration": 2,
        "start_time": "2024-04-06T09:40:41.800Z"
      },
      {
        "duration": 13,
        "start_time": "2024-04-06T09:40:43.346Z"
      },
      {
        "duration": 3,
        "start_time": "2024-04-06T09:41:02.657Z"
      },
      {
        "duration": 3,
        "start_time": "2024-04-06T09:41:45.812Z"
      },
      {
        "duration": 49,
        "start_time": "2024-04-06T09:41:45.816Z"
      },
      {
        "duration": 11,
        "start_time": "2024-04-06T09:41:45.866Z"
      },
      {
        "duration": 5,
        "start_time": "2024-04-06T09:41:45.878Z"
      },
      {
        "duration": 10,
        "start_time": "2024-04-06T09:41:45.884Z"
      },
      {
        "duration": 154,
        "start_time": "2024-04-06T09:41:45.896Z"
      },
      {
        "duration": 371,
        "start_time": "2024-04-06T09:41:46.051Z"
      },
      {
        "duration": 567,
        "start_time": "2024-04-06T09:41:46.423Z"
      },
      {
        "duration": 641,
        "start_time": "2024-04-06T09:41:46.992Z"
      },
      {
        "duration": 3,
        "start_time": "2024-04-06T09:41:47.634Z"
      },
      {
        "duration": 1171,
        "start_time": "2024-04-06T09:41:47.638Z"
      },
      {
        "duration": 91,
        "start_time": "2024-04-06T09:41:48.811Z"
      },
      {
        "duration": 174,
        "start_time": "2024-04-06T09:41:48.907Z"
      },
      {
        "duration": 26,
        "start_time": "2024-04-06T09:41:49.083Z"
      },
      {
        "duration": 9,
        "start_time": "2024-04-06T09:41:49.111Z"
      },
      {
        "duration": 17,
        "start_time": "2024-04-06T09:41:49.121Z"
      },
      {
        "duration": 4,
        "start_time": "2024-04-06T09:41:49.139Z"
      },
      {
        "duration": 9,
        "start_time": "2024-04-06T09:41:49.144Z"
      },
      {
        "duration": 3,
        "start_time": "2024-04-06T09:41:49.154Z"
      },
      {
        "duration": 6,
        "start_time": "2024-04-06T09:41:49.158Z"
      },
      {
        "duration": 7595,
        "start_time": "2024-04-06T09:41:49.165Z"
      },
      {
        "duration": 3,
        "start_time": "2024-04-06T09:41:56.761Z"
      },
      {
        "duration": 19,
        "start_time": "2024-04-06T09:41:56.765Z"
      },
      {
        "duration": 20,
        "start_time": "2024-04-06T09:41:56.786Z"
      },
      {
        "duration": 8,
        "start_time": "2024-04-06T09:41:56.808Z"
      },
      {
        "duration": 14,
        "start_time": "2024-04-06T09:41:56.817Z"
      },
      {
        "duration": 6,
        "start_time": "2024-04-06T09:41:56.832Z"
      },
      {
        "duration": 6,
        "start_time": "2024-04-06T09:41:56.839Z"
      },
      {
        "duration": 10,
        "start_time": "2024-04-06T09:41:56.846Z"
      },
      {
        "duration": 9,
        "start_time": "2024-04-06T09:41:56.857Z"
      },
      {
        "duration": 461,
        "start_time": "2024-04-06T09:41:56.867Z"
      },
      {
        "duration": 0,
        "start_time": "2024-04-06T09:41:57.330Z"
      },
      {
        "duration": 12,
        "start_time": "2024-04-06T09:42:39.437Z"
      },
      {
        "duration": 6,
        "start_time": "2024-04-06T09:43:05.402Z"
      },
      {
        "duration": 8,
        "start_time": "2024-04-06T09:43:09.536Z"
      },
      {
        "duration": 8,
        "start_time": "2024-04-06T09:43:13.259Z"
      },
      {
        "duration": 7,
        "start_time": "2024-04-06T09:43:16.978Z"
      },
      {
        "duration": 7,
        "start_time": "2024-04-06T09:43:20.621Z"
      },
      {
        "duration": 8,
        "start_time": "2024-04-06T09:43:35.966Z"
      },
      {
        "duration": 7,
        "start_time": "2024-04-06T09:43:47.506Z"
      },
      {
        "duration": 40,
        "start_time": "2024-04-06T09:44:08.844Z"
      },
      {
        "duration": 3,
        "start_time": "2024-04-06T09:44:33.207Z"
      },
      {
        "duration": 25,
        "start_time": "2024-04-06T09:44:34.743Z"
      },
      {
        "duration": 12,
        "start_time": "2024-04-06T09:45:03.920Z"
      },
      {
        "duration": 5,
        "start_time": "2024-04-06T09:45:21.026Z"
      },
      {
        "duration": 14,
        "start_time": "2024-04-06T09:50:06.244Z"
      },
      {
        "duration": 13,
        "start_time": "2024-04-06T09:50:13.398Z"
      },
      {
        "duration": 21,
        "start_time": "2024-04-06T09:50:32.134Z"
      },
      {
        "duration": 5,
        "start_time": "2024-04-06T09:50:43.070Z"
      },
      {
        "duration": 8,
        "start_time": "2024-04-06T09:51:32.301Z"
      },
      {
        "duration": 7,
        "start_time": "2024-04-06T09:51:38.896Z"
      },
      {
        "duration": 7,
        "start_time": "2024-04-06T09:51:49.302Z"
      },
      {
        "duration": 7,
        "start_time": "2024-04-06T09:51:52.396Z"
      },
      {
        "duration": 7,
        "start_time": "2024-04-06T09:52:02.039Z"
      },
      {
        "duration": 1860,
        "start_time": "2024-04-06T13:13:59.751Z"
      },
      {
        "duration": 166,
        "start_time": "2024-04-06T13:14:01.613Z"
      },
      {
        "duration": 25,
        "start_time": "2024-04-06T13:14:01.781Z"
      },
      {
        "duration": 151,
        "start_time": "2024-04-06T13:14:01.809Z"
      },
      {
        "duration": 94,
        "start_time": "2024-04-06T13:14:01.962Z"
      },
      {
        "duration": 286,
        "start_time": "2024-04-06T13:14:02.058Z"
      },
      {
        "duration": 438,
        "start_time": "2024-04-06T13:14:02.345Z"
      },
      {
        "duration": 835,
        "start_time": "2024-04-06T13:14:02.785Z"
      },
      {
        "duration": 841,
        "start_time": "2024-04-06T13:14:03.622Z"
      },
      {
        "duration": 3,
        "start_time": "2024-04-06T13:14:04.466Z"
      },
      {
        "duration": 3538,
        "start_time": "2024-04-06T13:14:04.471Z"
      },
      {
        "duration": 83,
        "start_time": "2024-04-06T13:14:08.012Z"
      },
      {
        "duration": 230,
        "start_time": "2024-04-06T13:14:08.098Z"
      },
      {
        "duration": 20,
        "start_time": "2024-04-06T13:14:08.331Z"
      },
      {
        "duration": 11,
        "start_time": "2024-04-06T13:14:08.353Z"
      },
      {
        "duration": 4,
        "start_time": "2024-04-06T13:14:08.365Z"
      },
      {
        "duration": 7,
        "start_time": "2024-04-06T13:14:08.370Z"
      },
      {
        "duration": 8,
        "start_time": "2024-04-06T13:14:08.394Z"
      },
      {
        "duration": 6,
        "start_time": "2024-04-06T13:14:08.404Z"
      },
      {
        "duration": 5,
        "start_time": "2024-04-06T13:14:08.411Z"
      },
      {
        "duration": 9042,
        "start_time": "2024-04-06T13:14:08.418Z"
      },
      {
        "duration": 4,
        "start_time": "2024-04-06T13:14:17.462Z"
      },
      {
        "duration": 7,
        "start_time": "2024-04-06T13:14:17.468Z"
      },
      {
        "duration": 6,
        "start_time": "2024-04-06T13:14:17.477Z"
      },
      {
        "duration": 36,
        "start_time": "2024-04-06T13:14:17.499Z"
      },
      {
        "duration": 142,
        "start_time": "2024-04-06T13:14:17.536Z"
      },
      {
        "duration": 0,
        "start_time": "2024-04-06T13:14:17.679Z"
      },
      {
        "duration": 0,
        "start_time": "2024-04-06T13:14:17.680Z"
      },
      {
        "duration": 0,
        "start_time": "2024-04-06T13:14:17.682Z"
      },
      {
        "duration": 0,
        "start_time": "2024-04-06T13:14:17.683Z"
      },
      {
        "duration": 0,
        "start_time": "2024-04-06T13:14:17.683Z"
      },
      {
        "duration": 0,
        "start_time": "2024-04-06T13:14:17.684Z"
      },
      {
        "duration": 0,
        "start_time": "2024-04-06T13:14:17.685Z"
      },
      {
        "duration": 0,
        "start_time": "2024-04-06T13:14:17.685Z"
      },
      {
        "duration": 0,
        "start_time": "2024-04-06T13:14:17.686Z"
      },
      {
        "duration": 0,
        "start_time": "2024-04-06T13:14:17.695Z"
      },
      {
        "duration": 0,
        "start_time": "2024-04-06T13:14:17.698Z"
      },
      {
        "duration": 0,
        "start_time": "2024-04-06T13:14:17.699Z"
      },
      {
        "duration": 24,
        "start_time": "2024-04-06T13:14:53.619Z"
      },
      {
        "duration": 3,
        "start_time": "2024-04-06T13:15:14.844Z"
      },
      {
        "duration": 27,
        "start_time": "2024-04-06T13:15:25.576Z"
      },
      {
        "duration": 3,
        "start_time": "2024-04-06T13:15:56.078Z"
      },
      {
        "duration": 3,
        "start_time": "2024-04-06T13:16:00.291Z"
      },
      {
        "duration": 15534,
        "start_time": "2024-04-06T13:16:16.264Z"
      },
      {
        "duration": 9,
        "start_time": "2024-04-06T13:16:31.800Z"
      },
      {
        "duration": 42,
        "start_time": "2024-04-06T13:16:31.810Z"
      },
      {
        "duration": 4,
        "start_time": "2024-04-06T13:16:42.028Z"
      },
      {
        "duration": 1461,
        "start_time": "2024-04-06T13:20:09.258Z"
      },
      {
        "duration": 51,
        "start_time": "2024-04-06T13:20:10.721Z"
      },
      {
        "duration": 18,
        "start_time": "2024-04-06T13:20:10.773Z"
      },
      {
        "duration": 11,
        "start_time": "2024-04-06T13:20:10.794Z"
      },
      {
        "duration": 23,
        "start_time": "2024-04-06T13:20:10.807Z"
      },
      {
        "duration": 276,
        "start_time": "2024-04-06T13:20:10.832Z"
      },
      {
        "duration": 474,
        "start_time": "2024-04-06T13:20:11.109Z"
      },
      {
        "duration": 832,
        "start_time": "2024-04-06T13:20:11.585Z"
      },
      {
        "duration": 935,
        "start_time": "2024-04-06T13:20:12.419Z"
      },
      {
        "duration": 3,
        "start_time": "2024-04-06T13:20:13.357Z"
      },
      {
        "duration": 4047,
        "start_time": "2024-04-06T13:20:13.362Z"
      },
      {
        "duration": 92,
        "start_time": "2024-04-06T13:20:17.419Z"
      },
      {
        "duration": 224,
        "start_time": "2024-04-06T13:20:17.513Z"
      },
      {
        "duration": 22,
        "start_time": "2024-04-06T13:20:17.739Z"
      },
      {
        "duration": 30,
        "start_time": "2024-04-06T13:20:17.763Z"
      },
      {
        "duration": 24,
        "start_time": "2024-04-06T13:20:17.795Z"
      },
      {
        "duration": 8,
        "start_time": "2024-04-06T13:20:17.821Z"
      },
      {
        "duration": 4,
        "start_time": "2024-04-06T13:20:17.831Z"
      },
      {
        "duration": 5,
        "start_time": "2024-04-06T13:20:17.837Z"
      },
      {
        "duration": 8,
        "start_time": "2024-04-06T13:20:17.844Z"
      },
      {
        "duration": 8721,
        "start_time": "2024-04-06T13:20:17.854Z"
      },
      {
        "duration": 4,
        "start_time": "2024-04-06T13:20:26.576Z"
      },
      {
        "duration": 13,
        "start_time": "2024-04-06T13:20:26.581Z"
      },
      {
        "duration": 3,
        "start_time": "2024-04-06T13:20:26.604Z"
      },
      {
        "duration": 10,
        "start_time": "2024-04-06T13:20:26.609Z"
      },
      {
        "duration": 9,
        "start_time": "2024-04-06T13:20:26.621Z"
      },
      {
        "duration": 507121,
        "start_time": "2024-04-06T13:20:26.632Z"
      },
      {
        "duration": 4,
        "start_time": "2024-04-06T13:28:53.756Z"
      },
      {
        "duration": 9,
        "start_time": "2024-04-06T13:28:53.762Z"
      },
      {
        "duration": 5,
        "start_time": "2024-04-06T13:28:53.773Z"
      },
      {
        "duration": 48,
        "start_time": "2024-04-06T13:28:53.779Z"
      },
      {
        "duration": 22,
        "start_time": "2024-04-06T13:28:53.829Z"
      },
      {
        "duration": 5,
        "start_time": "2024-04-06T13:28:53.853Z"
      },
      {
        "duration": 9,
        "start_time": "2024-04-06T13:28:53.860Z"
      },
      {
        "duration": 4,
        "start_time": "2024-04-06T13:28:53.871Z"
      },
      {
        "duration": 144,
        "start_time": "2024-04-06T13:28:53.877Z"
      },
      {
        "duration": 0,
        "start_time": "2024-04-06T13:28:54.023Z"
      },
      {
        "duration": 0,
        "start_time": "2024-04-06T13:28:54.025Z"
      },
      {
        "duration": 14565,
        "start_time": "2024-04-06T13:29:30.843Z"
      },
      {
        "duration": 87,
        "start_time": "2024-04-06T13:29:45.410Z"
      },
      {
        "duration": 109,
        "start_time": "2024-04-06T13:29:45.499Z"
      },
      {
        "duration": 11,
        "start_time": "2024-04-06T13:29:45.610Z"
      },
      {
        "duration": 3,
        "start_time": "2024-04-06T13:47:26.294Z"
      },
      {
        "duration": 6,
        "start_time": "2024-04-06T13:47:27.056Z"
      },
      {
        "duration": 5,
        "start_time": "2024-04-06T13:47:28.422Z"
      },
      {
        "duration": 30,
        "start_time": "2024-04-06T13:48:55.415Z"
      },
      {
        "duration": 22,
        "start_time": "2024-04-06T13:49:08.204Z"
      },
      {
        "duration": 3,
        "start_time": "2024-04-06T13:49:23.668Z"
      },
      {
        "duration": 6,
        "start_time": "2024-04-06T13:49:24.278Z"
      },
      {
        "duration": 4,
        "start_time": "2024-04-06T13:49:25.177Z"
      },
      {
        "duration": 6,
        "start_time": "2024-04-06T13:49:30.438Z"
      },
      {
        "duration": 1521,
        "start_time": "2024-04-06T13:50:57.903Z"
      },
      {
        "duration": 49,
        "start_time": "2024-04-06T13:50:59.427Z"
      },
      {
        "duration": 28,
        "start_time": "2024-04-06T13:50:59.477Z"
      },
      {
        "duration": 9,
        "start_time": "2024-04-06T13:50:59.507Z"
      },
      {
        "duration": 13,
        "start_time": "2024-04-06T13:50:59.517Z"
      },
      {
        "duration": 280,
        "start_time": "2024-04-06T13:50:59.532Z"
      },
      {
        "duration": 496,
        "start_time": "2024-04-06T13:50:59.814Z"
      },
      {
        "duration": 759,
        "start_time": "2024-04-06T13:51:00.312Z"
      },
      {
        "duration": 881,
        "start_time": "2024-04-06T13:51:01.073Z"
      },
      {
        "duration": 4,
        "start_time": "2024-04-06T13:51:01.956Z"
      },
      {
        "duration": 3753,
        "start_time": "2024-04-06T13:51:01.961Z"
      },
      {
        "duration": 8,
        "start_time": "2024-04-06T13:51:05.793Z"
      },
      {
        "duration": 223,
        "start_time": "2024-04-06T13:51:05.806Z"
      },
      {
        "duration": 23,
        "start_time": "2024-04-06T13:51:06.032Z"
      },
      {
        "duration": 11,
        "start_time": "2024-04-06T13:51:06.056Z"
      },
      {
        "duration": 4,
        "start_time": "2024-04-06T13:51:06.069Z"
      },
      {
        "duration": 6,
        "start_time": "2024-04-06T13:51:06.074Z"
      },
      {
        "duration": 14,
        "start_time": "2024-04-06T13:51:06.091Z"
      },
      {
        "duration": 5,
        "start_time": "2024-04-06T13:51:06.107Z"
      },
      {
        "duration": 15,
        "start_time": "2024-04-06T13:51:06.113Z"
      },
      {
        "duration": 8479,
        "start_time": "2024-04-06T13:51:06.129Z"
      },
      {
        "duration": 4,
        "start_time": "2024-04-06T13:51:14.610Z"
      },
      {
        "duration": 14,
        "start_time": "2024-04-06T13:51:14.615Z"
      },
      {
        "duration": 5,
        "start_time": "2024-04-06T13:51:14.631Z"
      },
      {
        "duration": 5,
        "start_time": "2024-04-06T13:51:14.637Z"
      },
      {
        "duration": 5,
        "start_time": "2024-04-06T13:51:14.644Z"
      },
      {
        "duration": 495773,
        "start_time": "2024-04-06T13:51:14.651Z"
      },
      {
        "duration": 4,
        "start_time": "2024-04-06T13:59:30.425Z"
      },
      {
        "duration": 122,
        "start_time": "2024-04-06T13:59:30.431Z"
      },
      {
        "duration": 244,
        "start_time": "2024-04-06T13:59:30.554Z"
      },
      {
        "duration": 255,
        "start_time": "2024-04-06T13:59:30.800Z"
      },
      {
        "duration": 222,
        "start_time": "2024-04-06T13:59:31.057Z"
      },
      {
        "duration": 55,
        "start_time": "2024-04-06T13:59:31.280Z"
      },
      {
        "duration": 120,
        "start_time": "2024-04-06T13:59:31.337Z"
      },
      {
        "duration": 117,
        "start_time": "2024-04-06T13:59:31.459Z"
      },
      {
        "duration": 13424,
        "start_time": "2024-04-06T13:59:31.577Z"
      },
      {
        "duration": 8,
        "start_time": "2024-04-06T13:59:45.006Z"
      },
      {
        "duration": 185,
        "start_time": "2024-04-06T13:59:45.092Z"
      },
      {
        "duration": 140,
        "start_time": "2024-04-06T13:59:45.279Z"
      },
      {
        "duration": 40,
        "start_time": "2024-04-06T13:59:45.420Z"
      },
      {
        "duration": 51,
        "start_time": "2024-04-06T13:59:45.464Z"
      },
      {
        "duration": 177,
        "start_time": "2024-04-06T13:59:45.517Z"
      },
      {
        "duration": 7,
        "start_time": "2024-04-06T13:59:45.702Z"
      },
      {
        "duration": 1577,
        "start_time": "2024-04-07T09:24:02.733Z"
      },
      {
        "duration": 101,
        "start_time": "2024-04-07T09:24:04.312Z"
      },
      {
        "duration": 18,
        "start_time": "2024-04-07T09:24:04.415Z"
      },
      {
        "duration": 9,
        "start_time": "2024-04-07T09:24:04.434Z"
      },
      {
        "duration": 13,
        "start_time": "2024-04-07T09:24:04.444Z"
      },
      {
        "duration": 260,
        "start_time": "2024-04-07T09:24:17.715Z"
      },
      {
        "duration": 190,
        "start_time": "2024-04-07T09:24:25.209Z"
      },
      {
        "duration": 398,
        "start_time": "2024-04-07T09:28:32.824Z"
      },
      {
        "duration": 357,
        "start_time": "2024-04-07T09:28:42.710Z"
      },
      {
        "duration": 1320,
        "start_time": "2024-04-07T09:29:57.251Z"
      },
      {
        "duration": 50,
        "start_time": "2024-04-07T09:29:58.573Z"
      },
      {
        "duration": 15,
        "start_time": "2024-04-07T09:29:58.624Z"
      },
      {
        "duration": 7,
        "start_time": "2024-04-07T09:29:58.641Z"
      },
      {
        "duration": 11,
        "start_time": "2024-04-07T09:29:58.650Z"
      },
      {
        "duration": 256,
        "start_time": "2024-04-07T09:29:58.663Z"
      },
      {
        "duration": 425,
        "start_time": "2024-04-07T09:29:58.920Z"
      },
      {
        "duration": 683,
        "start_time": "2024-04-07T09:29:59.346Z"
      },
      {
        "duration": 784,
        "start_time": "2024-04-07T09:30:00.030Z"
      },
      {
        "duration": 3,
        "start_time": "2024-04-07T09:30:00.817Z"
      },
      {
        "duration": 1902,
        "start_time": "2024-04-07T09:30:00.822Z"
      },
      {
        "duration": 6,
        "start_time": "2024-04-07T09:30:02.816Z"
      },
      {
        "duration": 212,
        "start_time": "2024-04-07T09:30:02.824Z"
      },
      {
        "duration": 19,
        "start_time": "2024-04-07T09:30:03.038Z"
      },
      {
        "duration": 11,
        "start_time": "2024-04-07T09:30:03.059Z"
      },
      {
        "duration": 3,
        "start_time": "2024-04-07T09:30:03.071Z"
      },
      {
        "duration": 4,
        "start_time": "2024-04-07T09:30:03.075Z"
      },
      {
        "duration": 4,
        "start_time": "2024-04-07T09:30:03.080Z"
      },
      {
        "duration": 30,
        "start_time": "2024-04-07T09:30:03.085Z"
      },
      {
        "duration": 3,
        "start_time": "2024-04-07T09:30:03.116Z"
      },
      {
        "duration": 7837,
        "start_time": "2024-04-07T09:30:03.121Z"
      },
      {
        "duration": 4,
        "start_time": "2024-04-07T09:30:10.960Z"
      },
      {
        "duration": 24,
        "start_time": "2024-04-07T09:30:10.965Z"
      },
      {
        "duration": 5,
        "start_time": "2024-04-07T09:30:10.990Z"
      },
      {
        "duration": 12,
        "start_time": "2024-04-07T09:30:10.996Z"
      },
      {
        "duration": 4,
        "start_time": "2024-04-07T09:30:11.009Z"
      },
      {
        "duration": 450736,
        "start_time": "2024-04-07T09:30:11.014Z"
      },
      {
        "duration": 3,
        "start_time": "2024-04-07T09:37:41.754Z"
      },
      {
        "duration": 7,
        "start_time": "2024-04-07T09:37:41.759Z"
      },
      {
        "duration": 4,
        "start_time": "2024-04-07T09:37:41.767Z"
      },
      {
        "duration": 45,
        "start_time": "2024-04-07T09:37:41.772Z"
      },
      {
        "duration": 19,
        "start_time": "2024-04-07T09:37:41.819Z"
      },
      {
        "duration": 6,
        "start_time": "2024-04-07T09:37:41.840Z"
      },
      {
        "duration": 8,
        "start_time": "2024-04-07T09:37:41.847Z"
      },
      {
        "duration": 5,
        "start_time": "2024-04-07T09:37:41.856Z"
      },
      {
        "duration": 7664,
        "start_time": "2024-04-07T09:37:41.862Z"
      },
      {
        "duration": 5,
        "start_time": "2024-04-07T09:37:49.615Z"
      },
      {
        "duration": 100,
        "start_time": "2024-04-07T09:37:49.622Z"
      },
      {
        "duration": 18,
        "start_time": "2024-04-07T09:37:49.724Z"
      },
      {
        "duration": 9,
        "start_time": "2024-04-07T09:37:49.743Z"
      },
      {
        "duration": 9,
        "start_time": "2024-04-07T09:37:49.753Z"
      },
      {
        "duration": 56,
        "start_time": "2024-04-07T09:37:49.764Z"
      },
      {
        "duration": 95,
        "start_time": "2024-04-07T09:37:49.823Z"
      },
      {
        "duration": 3027,
        "start_time": "2024-04-07T13:03:18.183Z"
      },
      {
        "duration": 112,
        "start_time": "2024-04-07T13:03:21.212Z"
      },
      {
        "duration": 19,
        "start_time": "2024-04-07T13:03:21.326Z"
      },
      {
        "duration": 9,
        "start_time": "2024-04-07T13:03:21.347Z"
      },
      {
        "duration": 14,
        "start_time": "2024-04-07T13:03:21.358Z"
      },
      {
        "duration": 258,
        "start_time": "2024-04-07T13:03:21.382Z"
      },
      {
        "duration": 416,
        "start_time": "2024-04-07T13:03:21.642Z"
      },
      {
        "duration": 771,
        "start_time": "2024-04-07T13:03:22.060Z"
      },
      {
        "duration": 751,
        "start_time": "2024-04-07T13:03:22.833Z"
      },
      {
        "duration": 3,
        "start_time": "2024-04-07T13:03:23.586Z"
      },
      {
        "duration": 1892,
        "start_time": "2024-04-07T13:03:23.591Z"
      },
      {
        "duration": 5,
        "start_time": "2024-04-07T13:03:25.485Z"
      },
      {
        "duration": 231,
        "start_time": "2024-04-07T13:03:25.493Z"
      },
      {
        "duration": 21,
        "start_time": "2024-04-07T13:03:25.726Z"
      },
      {
        "duration": 11,
        "start_time": "2024-04-07T13:03:25.748Z"
      },
      {
        "duration": 5,
        "start_time": "2024-04-07T13:03:25.761Z"
      },
      {
        "duration": 3,
        "start_time": "2024-04-07T13:03:25.782Z"
      },
      {
        "duration": 4,
        "start_time": "2024-04-07T13:03:25.786Z"
      },
      {
        "duration": 5,
        "start_time": "2024-04-07T13:03:25.792Z"
      },
      {
        "duration": 4,
        "start_time": "2024-04-07T13:03:25.798Z"
      },
      {
        "duration": 8063,
        "start_time": "2024-04-07T13:03:25.804Z"
      },
      {
        "duration": 4,
        "start_time": "2024-04-07T13:03:33.868Z"
      },
      {
        "duration": 20,
        "start_time": "2024-04-07T13:03:33.873Z"
      },
      {
        "duration": 24,
        "start_time": "2024-04-07T13:03:33.894Z"
      },
      {
        "duration": 12,
        "start_time": "2024-04-07T13:03:33.920Z"
      },
      {
        "duration": 4,
        "start_time": "2024-04-07T13:03:33.934Z"
      },
      {
        "duration": 465625,
        "start_time": "2024-04-07T13:03:33.940Z"
      },
      {
        "duration": 3,
        "start_time": "2024-04-07T13:11:19.569Z"
      },
      {
        "duration": 10,
        "start_time": "2024-04-07T13:11:19.574Z"
      },
      {
        "duration": 8,
        "start_time": "2024-04-07T13:11:19.586Z"
      },
      {
        "duration": 36,
        "start_time": "2024-04-07T13:11:19.597Z"
      },
      {
        "duration": 20,
        "start_time": "2024-04-07T13:11:19.635Z"
      },
      {
        "duration": 4,
        "start_time": "2024-04-07T13:11:19.657Z"
      },
      {
        "duration": 3,
        "start_time": "2024-04-07T13:11:19.682Z"
      },
      {
        "duration": 5,
        "start_time": "2024-04-07T13:11:19.687Z"
      },
      {
        "duration": 8701,
        "start_time": "2024-04-07T13:11:19.693Z"
      },
      {
        "duration": 89,
        "start_time": "2024-04-07T13:11:28.396Z"
      },
      {
        "duration": 8,
        "start_time": "2024-04-07T13:11:28.487Z"
      },
      {
        "duration": 95,
        "start_time": "2024-04-07T13:11:28.496Z"
      },
      {
        "duration": 4,
        "start_time": "2024-04-07T13:11:28.593Z"
      },
      {
        "duration": 15,
        "start_time": "2024-04-07T13:11:28.598Z"
      },
      {
        "duration": 73,
        "start_time": "2024-04-07T13:11:28.614Z"
      },
      {
        "duration": 93,
        "start_time": "2024-04-07T13:11:28.690Z"
      }
    ],
    "kernelspec": {
      "display_name": "Python 3 (ipykernel)",
      "language": "python",
      "name": "python3"
    },
    "language_info": {
      "codemirror_mode": {
        "name": "ipython",
        "version": 3
      },
      "file_extension": ".py",
      "mimetype": "text/x-python",
      "name": "python",
      "nbconvert_exporter": "python",
      "pygments_lexer": "ipython3",
      "version": "3.9.5"
    },
    "toc": {
      "base_numbering": 1,
      "nav_menu": {},
      "number_sections": true,
      "sideBar": true,
      "skip_h1_title": true,
      "title_cell": "Содержание",
      "title_sidebar": "Contents",
      "toc_cell": true,
      "toc_position": {
        "height": "calc(100% - 180px)",
        "left": "10px",
        "top": "150px",
        "width": "242.391px"
      },
      "toc_section_display": true,
      "toc_window_display": true
    },
    "colab": {
      "provenance": []
    }
  },
  "nbformat": 4,
  "nbformat_minor": 0
}